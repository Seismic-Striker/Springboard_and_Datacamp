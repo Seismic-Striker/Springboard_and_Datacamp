{
 "cells": [
  {
   "cell_type": "markdown",
   "id": "8c7eaa26",
   "metadata": {},
   "source": [
    "Produce a list of bookings on the day of 2012-09-14 which\n",
    "will cost the member (or guest) more than $30. Remember that guests have\n",
    "different costs to members (the listed costs are per half-hour 'slot'), and\n",
    "the guest user's ID is always 0. Include in your output the name of the\n",
    "facility, the name of the member formatted as a single column, and the cost.\n",
    "Order by descending cost, and do not use any subqueries."
   ]
  },
  {
   "cell_type": "code",
   "execution_count": 1,
   "id": "02ab5295",
   "metadata": {},
   "outputs": [
    {
     "name": "stdout",
     "output_type": "stream",
     "text": [
      "2.6.0\n",
      "2. Query all tasks\n",
      "('Badminton Court', 'Darren Smith', 0, 77.5)\n",
      "('Massage Room 1', 'Jack Smith', 89.10000000000001, 720)\n",
      "('Massage Room 2', 'Florence Bader', 19.8, 160)\n",
      "('Pool Table', 'Tim Rownam', 0, 95)\n",
      "('Snooker Table', 'Charles Owen', 0, 25)\n",
      "('Squash Court', 'Anne Baker', 24.5, 122.5)\n",
      "('Table Tennis', 'Florence Bader', 0, 20)\n",
      "('Tennis Court 1', 'Burton Tracy', 35, 175)\n",
      "('Tennis Court 2', 'David Jones', 20, 100)\n"
     ]
    }
   ],
   "source": [
    "import sqlite3\n",
    "from sqlite3 import Error\n",
    "\n",
    " \n",
    "def create_connection(db_file):\n",
    "    \"\"\" create a database connection to the SQLite database\n",
    "        specified by the db_file\n",
    "    :param db_file: database file\n",
    "    :return: Connection object or None\n",
    "    \"\"\"\n",
    "    conn = None\n",
    "    try:\n",
    "        conn = sqlite3.connect(db_file)\n",
    "        print(sqlite3.version)\n",
    "    except Error as e:\n",
    "        print(e)\n",
    " \n",
    "    return conn\n",
    "\n",
    " \n",
    "def select_all_tasks(conn):\n",
    "    \"\"\"\n",
    "    Query all rows in the tasks table\n",
    "    :param conn: the Connection object\n",
    "    :return:\n",
    "    \"\"\"\n",
    "    cur = conn.cursor()\n",
    "    \n",
    "    query1 = \"\"\"\n",
    "       SELECT f.name,\n",
    "       (select m.firstname || ' ' || m.surname) as name,\n",
    "       sum(f.membercost),SUM(f.guestcost)\n",
    "       FROM Bookings as b\n",
    "       INNER JOIN Members as m\n",
    "       Using (memid)\n",
    "       INNER JOIN Facilities as f\n",
    "       Using (facid)\n",
    "       WHERE starttime like \"2012-09-14%\"\n",
    "       group by name\n",
    "    \n",
    "        \"\"\"\n",
    "    cur.execute(query1)\n",
    " \n",
    "    rows = cur.fetchall()\n",
    " \n",
    "    for row in rows:\n",
    "        print(row)\n",
    "\n",
    "\n",
    "def main():\n",
    "    database = \"sqlite_db_pythonsqlite.db\"\n",
    " \n",
    "    # create a database connection\n",
    "    conn = create_connection(database)\n",
    "    with conn: \n",
    "        print(\"2. Query all tasks\")\n",
    "        select_all_tasks(conn)\n",
    " \n",
    " \n",
    "if __name__ == '__main__':\n",
    "    main()"
   ]
  },
  {
   "cell_type": "code",
   "execution_count": 2,
   "id": "dbb71410",
   "metadata": {},
   "outputs": [
    {
     "ename": "SyntaxError",
     "evalue": "invalid syntax (<ipython-input-2-21c2e27bbe54>, line 1)",
     "output_type": "error",
     "traceback": [
      "\u001b[1;36m  File \u001b[1;32m\"<ipython-input-2-21c2e27bbe54>\"\u001b[1;36m, line \u001b[1;32m1\u001b[0m\n\u001b[1;33m    SELECT DISTINCT m.firstname as name,\u001b[0m\n\u001b[1;37m           ^\u001b[0m\n\u001b[1;31mSyntaxError\u001b[0m\u001b[1;31m:\u001b[0m invalid syntax\n"
     ]
    }
   ],
   "source": [
    "       SELECT DISTINCT m.firstname as name,\n",
    "        f.name\n",
    "        FROM Bookings as b\n",
    "        INNER JOIN Facilities as f\n",
    "        ON b.facid = f.facid\n",
    "        INNER JOIN Members as m\n",
    "        on m.memid = b.memid\n",
    "        where f.name = 'Tennis Court 1' \n",
    "        or f.name = 'Tennis Court 2'\n",
    "        order by m.firstname"
   ]
  },
  {
   "cell_type": "code",
   "execution_count": null,
   "id": "ada3b8aa",
   "metadata": {},
   "outputs": [],
   "source": [
    "SELECT f.name,\n",
    "       (select m.firstname || ' ' || m.surname) as name,\n",
    "       sum(f.membercost),SUM(f.guestcost)\n",
    "       FROM Bookings as b\n",
    "       INNER JOIN Members as m\n",
    "       Using (memid)\n",
    "       INNER JOIN Facilities as f\n",
    "       Using (facid)\n",
    "       WHERE starttime like \"2012-09-14%\"\n",
    "       group by name"
   ]
  },
  {
   "cell_type": "code",
   "execution_count": 3,
   "id": "eaba3af3",
   "metadata": {},
   "outputs": [
    {
     "ename": "SyntaxError",
     "evalue": "invalid syntax (<ipython-input-3-0afc7f086b15>, line 1)",
     "output_type": "error",
     "traceback": [
      "\u001b[1;36m  File \u001b[1;32m\"<ipython-input-3-0afc7f086b15>\"\u001b[1;36m, line \u001b[1;32m1\u001b[0m\n\u001b[1;33m    SELECT (SELECT m.firstname || ' ' || m.surname) as names,\u001b[0m\n\u001b[1;37m                   ^\u001b[0m\n\u001b[1;31mSyntaxError\u001b[0m\u001b[1;31m:\u001b[0m invalid syntax\n"
     ]
    }
   ],
   "source": [
    "SELECT (SELECT m.firstname || ' ' || m.surname) as names,\n",
    "SUM(f.membercost + f.guestcost)\n",
    "FROM Bookings as b\n",
    "INNER JOIN Facilities as f\n",
    "USING (facid)\n",
    "inner join Members as m\n",
    "USING (memid)\n",
    "WHERE b.starttime like '%2012-09-14%'\n",
    "group by b.memid"
   ]
  },
  {
   "cell_type": "code",
   "execution_count": 4,
   "id": "10cbf941",
   "metadata": {},
   "outputs": [
    {
     "ename": "SyntaxError",
     "evalue": "invalid syntax (<ipython-input-4-a2628c0d347e>, line 1)",
     "output_type": "error",
     "traceback": [
      "\u001b[1;36m  File \u001b[1;32m\"<ipython-input-4-a2628c0d347e>\"\u001b[1;36m, line \u001b[1;32m1\u001b[0m\n\u001b[1;33m    SELECT (SELECT m.firstname || ' ' || m.surname) as names\u001b[0m\n\u001b[1;37m                   ^\u001b[0m\n\u001b[1;31mSyntaxError\u001b[0m\u001b[1;31m:\u001b[0m invalid syntax\n"
     ]
    }
   ],
   "source": [
    "SELECT (SELECT m.firstname || ' ' || m.surname) as names\n",
    "       FROM Bookings as b\n",
    "       INNER JOIN Members as m\n",
    "       Using (memid)\n",
    "       INNER JOIN Facilities as f\n",
    "       Using (facid)\n",
    "       WHERE f.name = 'Tennis Court 1'\n",
    "       or f.name = 'Tennis Court 2'\n",
    "       Order by names"
   ]
  },
  {
   "cell_type": "code",
   "execution_count": null,
   "id": "1e3cb757",
   "metadata": {},
   "outputs": [],
   "source": []
  }
 ],
 "metadata": {
  "kernelspec": {
   "display_name": "Python 3",
   "language": "python",
   "name": "python3"
  },
  "language_info": {
   "codemirror_mode": {
    "name": "ipython",
    "version": 3
   },
   "file_extension": ".py",
   "mimetype": "text/x-python",
   "name": "python",
   "nbconvert_exporter": "python",
   "pygments_lexer": "ipython3",
   "version": "3.8.8"
  }
 },
 "nbformat": 4,
 "nbformat_minor": 5
}
