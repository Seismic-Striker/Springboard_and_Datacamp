{
 "cells": [
  {
   "cell_type": "markdown",
   "id": "02f64d04",
   "metadata": {},
   "source": [
    "# 1. Left join\n",
    "Greetings, and welcome back! In this lesson, we will discuss how a left join works, which is another way to merge two tables. Before we start talking about left joins, let's quickly review what we have learned so far.\n",
    "\n",
    "2. Quick review\n",
    "In chapter 1, we introduced the pandas merge method that allows us to combine two tables by specifying one or more key columns to link the tables by. By default, the merge method performs an inner join, returning only the rows of data with matching values in the key columns of both tables.\n",
    "\n",
    "3. Left join\n",
    "In this lesson, we'll talk about the idea of a left join. A left join returns all rows of data from the left table and only those rows from the right table where key columns match.\n",
    "\n",
    "4. Left join\n",
    "Here we have two tables named left and right. We want to use a left join to merge them on key column C. A left join returns all of the rows from the left table and only those rows from the right table where column C matches in both. Notice the second row of the merged table. The columns from the left table are filled in, while the column from the right table is not since there wasn't a match found for that row in the right table. Let's review another example.\n",
    "\n",
    "5. New dataset\n",
    "To help us learn more about left joins and other concepts in this chapter, we will use data from The Movie Database, a community-built movie database with info on thousands of movies, their casts, and popularity. In our next example, we have two tables from The Movie Database that we want to merge.\n",
    "\n",
    "6. Movies table\n",
    "Our first table, named movies, holds information about individual movies such as the title name and its popularity. Additionally, each movie is given an ID number. Our table starts with 4,803 rows of data.\n",
    "\n",
    "7. Tagline table\n",
    "Our second table is named taglines, which contains a movie ID number and the tag line for the movie. Notice that this table has almost 4,000 rows of data, so it contains fewer movies than the movies table.\n",
    "\n",
    "8. Merge with left join\n",
    "To merge these two tables with a left join, we use our merge method similar to what we learned in chapter 1. Here we list the movie table first and merge it to the taglines table on the ID column in both tables. However, notice an additional argument named 'how'. This argument defines how to merge the two tables. In this case, we use 'left' for a left join. The default value for how is 'inner', so we didn't need to specify this in Chapter 1 since we were only working with inner joins. The result of the merge shows a table with all of the rows from the movies table and a value for tag line where the ID column matches in both tables. Wherever there isn't a matching ID in the taglines table, a null value is entered for the tag line. Remember that pandas uses NaN to denote missing data.\n",
    "\n",
    "9. Number of rows returned\n",
    "After the merge, our resulting table has 4,805 rows. This is because we are returning all of the rows of data from the movies table, and the relationship between the movies table and taglines is one-to-one. Therefore, in a one-to-one merge like this one, a left join will always return the same number rows as the left table.\n",
    "\n",
    "10. Let's practice!\n",
    "Now, let's practice some."
   ]
  },
  {
   "cell_type": "code",
   "execution_count": 1,
   "id": "3dd39e80",
   "metadata": {},
   "outputs": [
    {
     "name": "stdout",
     "output_type": "stream",
     "text": [
      "      id                 title  popularity release_date  \\\n",
      "0    257          Oliver Twist   20.415572   2005-09-23   \n",
      "1  14290  Better Luck Tomorrow    3.877036   2002-01-12   \n",
      "2  38365             Grown Ups   38.864027   2010-06-24   \n",
      "3   9672              Infamous    3.680896   2006-11-16   \n",
      "4  12819       Alpha and Omega   12.300789   2010-09-17   \n",
      "\n",
      "                                           tagline  \n",
      "0                                              NaN  \n",
      "1             Never underestimate an overachiever.  \n",
      "2  Boys will be boys. . . some longer than others.  \n",
      "3          There's more to the story than you know  \n",
      "4                           A Pawsome 3D Adventure  \n"
     ]
    }
   ],
   "source": [
    "import pandas as pd\n",
    "import numpy as np\n",
    "import pickle\n",
    "import matplotlib.pyplot as plt\n",
    "\n",
    "movies=pickle.load(open('movies.p','rb'))\n",
    "taglines=pickle.load(open('taglines.p','rb'))\n",
    "financials = pickle.load(open('financials.p','rb'))\n",
    "\n",
    "movies_taglines=movies.merge(taglines,on='id',how='left')\n",
    "print(movies_taglines.head())"
   ]
  },
  {
   "cell_type": "markdown",
   "id": "3b204dd1",
   "metadata": {},
   "source": [
    "# Counting missing rows with left join\n",
    "The Movie Database is supported by volunteers going out into the world, collecting data, and entering it into the database. This includes financial data, such as movie budget and revenue. If you wanted to know which movies are still missing data, you could use a left join to identify them. Practice using a left join by merging the movies table and the financials table.\n",
    "\n",
    "The movies and financials tables have been loaded for you.\n",
    "\n",
    "Instructions 2/3\n",
    "35 XP\n",
    "2\n",
    "3\n",
    "Merge the movies table, as the left table, with the financials table using a left join, and save the result to movies_financials."
   ]
  },
  {
   "cell_type": "code",
   "execution_count": 9,
   "id": "21a4bc70",
   "metadata": {},
   "outputs": [
    {
     "name": "stdout",
     "output_type": "stream",
     "text": [
      "1574\n"
     ]
    }
   ],
   "source": [
    "# Merge movies and financials with a left join\n",
    "movies_financials = movies.merge(financials,on='id',how='left')\n",
    "\n",
    "# Merge the movies table with the financials table with a left join\n",
    "movies_financials = movies.merge(financials, on='id', how='left')\n",
    "\n",
    "# Count the number of rows in the budget column that are missing\n",
    "number_of_missing_fin = movies_financials['budget'].isnull().sum()\n",
    "\n",
    "# Print the number of movies missing financials\n",
    "print(number_of_missing_fin)"
   ]
  },
  {
   "cell_type": "markdown",
   "id": "70aaa917",
   "metadata": {},
   "source": [
    "# Enriching a dataset\n",
    "Setting how='left' with the .merge()method is a useful technique for enriching or enhancing a dataset with additional information from a different table. In this exercise, you will start off with a sample of movie data from the movie series Toy Story. Your goal is to enrich this data by adding the marketing tag line for each movie. You will compare the results of a left join versus an inner join.\n",
    "\n",
    "The toy_story DataFrame contains the Toy Story movies. The toy_story and taglines DataFrames have been loaded for you.\n",
    "\n",
    "\n",
    "1\n",
    "\n",
    "Merge toy_story and taglines on the id column with a left join, and save the result as toystory_tag.\n",
    "\n",
    "2\n",
    "\n",
    "With toy_story as the left table, merge to it taglines on the id column with an inner join, and save as toystory_tag."
   ]
  },
  {
   "cell_type": "code",
   "execution_count": 14,
   "id": "178fcaa9",
   "metadata": {},
   "outputs": [
    {
     "name": "stdout",
     "output_type": "stream",
     "text": [
      "      id        title  popularity release_date                   tagline\n",
      "0  10193  Toy Story 3   59.995418   2010-06-16  No toy gets left behind.\n",
      "1    863  Toy Story 2   73.575118   1999-10-30        The toys are back!\n",
      "2    862    Toy Story   73.640445   1995-10-30                       NaN\n",
      "(3, 5)\n",
      "      id        title  popularity release_date                   tagline\n",
      "0  10193  Toy Story 3   59.995418   2010-06-16  No toy gets left behind.\n",
      "1    863  Toy Story 2   73.575118   1999-10-30        The toys are back!\n",
      "(2, 5)\n"
     ]
    }
   ],
   "source": [
    "TS= [{'id':10193,'title':'Toy Story 3','popularity':59.995418,'release_date':'2010-06-16'},\\\n",
    "     {'id':863,'title':'Toy Story 2','popularity':73.575118,'release_date':'1999-10-30'},\\\n",
    "     {'id':862,'title':'Toy Story','popularity':73.640445,'release_date':'1995-10-30'}]\n",
    "toy_story = pd.DataFrame(TS)\n",
    "\n",
    "# Merge the toy_story and taglines tables with a left join\n",
    "toystory_tag = toy_story.merge(taglines,on='id',how='left')\n",
    "\n",
    "# Print the rows and shape of toystory_tag\n",
    "print(toystory_tag)\n",
    "print(toystory_tag.shape)\n",
    "\n",
    "'''part2'''\n",
    "\n",
    "# Merge the toy_story and taglines tables with a inner join\n",
    "toystory_tag = toy_story.merge(taglines, on='id')\n",
    "\n",
    "# Print the rows and shape of toystory_tag\n",
    "print(toystory_tag)\n",
    "print(toystory_tag.shape)"
   ]
  },
  {
   "cell_type": "markdown",
   "id": "9a5107f9",
   "metadata": {},
   "source": [
    "# 1. Other joins\n",
    "All right, let's continue on. You now know how to use the merge method to perform an inner and left join. The merge method supports two other join types.\n",
    "\n",
    "2. Right join\n",
    "Let's start with the right join. It will return all of the rows from the right table and includes only those rows from the left table that have matching values. It is the mirror opposite of the left join.\n",
    "\n",
    "3. Right join\n",
    "These example tables show the result of a right join. Only rows from the left table where the column C matches are returned. Where there isn't a match, the columns from the left table will be missing in the result table, like rows one and four.\n",
    "\n",
    "4. Looking at data\n",
    "For this lesson, let's look at another table called movie_to_genres. Movies can have multiple genres, and this table lists different genres for each movie.\n",
    "\n",
    "5. Filtering the data\n",
    "For our right join example, let's take a sample of this data subsetting to develop a table of movies from the TV Movie genre.\n",
    "\n",
    "6. Data to merge\n",
    "Our goal is to merge it with the movies table. We will set movies as our left table and merge it with the tv_genre table. We want to use a right join to check that our movies table is not missing data. In addition to showing a right join, this example also allows us to look at another feature. Notice that the column with the movie ID number in the movies table is named id, and in the tv_genre table it is named movie_id. The merge method has a feature to take this into account.\n",
    "\n",
    "7. Merge with right join\n",
    "The code for this merge has some new elements. First of all, we set the how argument to right so that the merge performs a right join. Additionally, we introduce two new arguments, named left_on and right_on. They allow us to tell the merge which key columns from each table to merge the tables. We list movies as the left table, so we set left_on to id and right_on to movie_id. Our returned table has movies that match our table of tv_genres. There does not appear to be any null values in the columns from the movies table. We could explore further. However, let's move on to our last type of join.\n",
    "\n",
    "8. Outer join\n",
    "Our last type of join is called an outer join. An outer join will return all of the rows from both tables regardless if there is a match between the tables.\n",
    "\n",
    "9. Outer join\n",
    "Here is a simple example of an outer join. Where the key column used to join the tables has no match, null values are returned. That is why in the result, the columns from the left table are missing in rows one and five, and in column D row three is missing.\n",
    "\n",
    "10. Datasets for outer join\n",
    "For an example of this, we filter the movie_to_genres table as before into two very small tables. One table has data on Family movies, and the other has Comedy movies.\n",
    "\n",
    "11. Merge with outer join\n",
    "In this merge, we list the family table as the left table and merge it on the movie_id column. The how argument is set to outer for an outer join. Both of our tables have the same column names. Therefore, we add suffixes to show what table the columns originated. In our result table, every row is returned for both tables and we see some null values. In our original comedy tables ID number 12 does not exist. Therefore a null is shown. Similarly, in our last row, movie ID 13 wasn't in the family dataset so it has a null.\n",
    "\n",
    "12. Let's practice!\n",
    "Let's practice!"
   ]
  },
  {
   "cell_type": "code",
   "execution_count": null,
   "id": "2929120c",
   "metadata": {},
   "outputs": [],
   "source": []
  }
 ],
 "metadata": {
  "kernelspec": {
   "display_name": "Python 3",
   "language": "python",
   "name": "python3"
  },
  "language_info": {
   "codemirror_mode": {
    "name": "ipython",
    "version": 3
   },
   "file_extension": ".py",
   "mimetype": "text/x-python",
   "name": "python",
   "nbconvert_exporter": "python",
   "pygments_lexer": "ipython3",
   "version": "3.8.8"
  }
 },
 "nbformat": 4,
 "nbformat_minor": 5
}
