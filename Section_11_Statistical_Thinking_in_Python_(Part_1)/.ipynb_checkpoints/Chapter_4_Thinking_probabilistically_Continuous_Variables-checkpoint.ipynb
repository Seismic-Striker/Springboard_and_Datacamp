{
 "cells": [
  {
   "cell_type": "code",
   "execution_count": 2,
   "id": "bcbc8bd1",
   "metadata": {},
   "outputs": [],
   "source": [
    "from sklearn.datasets import load_iris\n",
    "import pandas as pd\n",
    "import matplotlib.pyplot as plt\n",
    "import seaborn as sns\n",
    "import numpy as np\n",
    "np.random.seed(42)\n",
    "iris = load_iris()\n",
    "data = (iris['data'])\n",
    "def Extract(lst):\n",
    "    return [item[2] for item in lst]\n",
    "def extractwidth(lst):\n",
    "    return [item[3] for item in lst]\n",
    "petal_width = extractwidth(data)\n",
    "versicolor_petal_width = petal_width[50:100]\n",
    "setosa_petal_width = petal_width[:50]\n",
    "virginica_petal_width = petal_width[100:]\n",
    "petal_length = Extract(data)\n",
    "versicolor_petal_length = petal_length[50:100]\n",
    "setosa_petal_length = petal_length[:50]\n",
    "virginica_petal_length = petal_length[100:]\n",
    "headers= ['sepal lenth (cm)', 'sepal width (cm)', 'petal length (cm)', 'petal width (cm)']\n",
    "df = pd.read_csv('iris_data.csv')\n",
    "def ecdf(data):\n",
    "    \"\"\"Compute ECDF for a one-dimensional array of measurements.\"\"\"\n",
    "    # Number of data points: n\n",
    "    n = len(data)\n",
    "\n",
    "    # x-data for the ECDF: x\n",
    "    x = np.sort(data)\n",
    "\n",
    "    # y-data for the ECDF: y\n",
    "    y = np.arange(1, n+1) / n\n",
    "\n",
    "    return x, y"
   ]
  },
  {
   "cell_type": "markdown",
   "id": "13c38af9",
   "metadata": {},
   "source": [
    "# 1. Probability density functions\n",
    "So far, we have talked about probabilities of discrete quantities, such as die rolls and number of bus arrivals, but what about continuous quantities?\n",
    "\n",
    "2. Continuous variables\n",
    "A continuous quantity can take on any value, not just discrete ones. For example, the speed of a train can be 45-point-76 km/h.\n",
    "\n",
    "3. Michelson's speed of light experiment\n",
    "Continuous variables also have probability distributions. Let's consider an example. In 1879, Albert Michelson performed 100 measurements of the speed of light in air.\n",
    "\n",
    "4. Michelson's speed of light experiment\n",
    "Each measurement has some error in it; conditions, such as temperature, humidity, alignment of his optics, et cetera, change from measurement to measurement. As a result, any fractional value of the measured speed of light is possible, so it is apt to describe the results with a continuous probability distribution. In looking at Michelson's numbers, shown here in units of megameters/s, or 1000s of kilometers/s, we see this is indeed the case. What probability distribution describes these data? I posit that these data follow the famous Normal distribution. To understand what the Normal distribution is,\n",
    "\n",
    "5. Probability density function (PDF)\n",
    "let's consider its probability density function, or PDF. This is the continuous analog to the probability mass function, the PMF. It describes the chances of observing a value of a continuous variable. The probability of observing a single value of the speed of light does not make sense, because there is an infinity of numbers,\n",
    "\n",
    "6. Normal PDF\n",
    "say between 299-point-6 and 300-point-0 megameters per second. Instead, areas under the PDF give probabilities. So, the probability of measuring that the speed of light is greater than\n",
    "\n",
    "7. Normal PDF\n",
    "300,000 km/s is an area under the normal curve. Parametrizing the PDF based on Michelson's experiments, this is about a 3% chance, since the pink region is about 3% of the total area under the PDF. To do this calculation, we were really just looking at the cumulative distribution function,\n",
    "\n",
    "8. Normal CDF\n",
    "or CDF, of the Normal distribution. Here is the CDF of the Normal distribution. Remember that the CDF gives the probability the measured speed of light will be less than the value on the x-axis. So, reading off the value at 300,000 km/s,\n",
    "\n",
    "9. Normal CDF\n",
    "we see that there is a 97% chance that a speed of light measurement is less than that. So, there is about a 3% change it is greater. We will study the Normal distribution in more depth in the coming exercises, but for right now,\n",
    "\n",
    "10. Let's practice!\n",
    "let's review some of the concepts we've learned about continuous distribution functions"
   ]
  },
  {
   "cell_type": "markdown",
   "id": "b2caa85b",
   "metadata": {},
   "source": [
    "# 1. Introduction to the Normal distribution\n",
    "The Normal distribution is famous, and we just used it as an example to learn about continuous distributions. We will not go into the story of the Normal distribution in depth,\n",
    "\n",
    "2. Normal distribution\n",
    "but for the purposes of this course, it suffices to say that it describes a continuous variable whose PDF is symmetric and has a single peak.\n",
    "\n",
    "3. Normal distribution\n",
    "Indeed, that is what its PDF looks like. The Normal distribution is parametrized by two parameters.\n",
    "\n",
    "4. Normal distribution\n",
    "The mean determines\n",
    "\n",
    "5. Normal distribution\n",
    "where the center of the peak is.\n",
    "\n",
    "6. Normal distribution\n",
    "The standard deviation\n",
    "\n",
    "7. Normal distribution\n",
    "is a measure of how wide the peak is, or how spread out the data are. Note that\n",
    "\n",
    "8. Insert title here...\n",
    "the mean and\n",
    "\n",
    "9. Insert title here...\n",
    "standard deviation are the names of the parameters of the Normal distribution. Do not confuse these with the mean and standard deviation that we computed directly from the data when doing exploratory data analysis. I know that nomenclature is confusing, but it is important to keep straight.\n",
    "\n",
    "10. Comparing data to a Normal PDF\n",
    "Now, if we add a histogram of the Michelson measurements, we see that the measured speed of light in air looks to be Normally distributed. Comparing the histogram to the PDF suffers from binning bias, so it is better to compare the ECDF of the data to the theoretical CDF of the Normal distribution. To compute the theoretical CDF, we can use np dot random dot normal to draw samples and then we can compute the CDF.\n",
    "\n",
    "11. Checking Normality of Michelson data\n",
    "As was the case with sampling out of the binomial distribution, we need to provide parameters, in this case the mean and standard deviation, to parametrize the Normal distribution we are sampling out of. The mean and standard deviations computed from the data are good estimates, so we'll compute them and pass them into np dot random dot normal to take our samples. We then use the function we already wrote to compute the ECDFs of the data and of the Normally distributed theoretical samples we just drew.\n",
    "\n",
    "12. Checking Normality of Michelson data\n",
    "Finally, we plot the theoretical and empirical CDFs on the same plot.\n",
    "\n",
    "13. Checking Normality of Michelson data\n",
    "With the absence of binning bias, it is much clearer that the Michelson data are approximately Normally distributed.\n",
    "\n",
    "14. Let's practice!\n",
    "Now that you can sample out of a Normal distribution, let's practice using it!"
   ]
  },
  {
   "cell_type": "markdown",
   "id": "d6da14a2",
   "metadata": {},
   "source": [
    "# The Normal PDF\n",
    "In this exercise, you will explore the Normal PDF and also learn a way to plot a PDF of a known distribution using hacker statistics. Specifically, you will plot a Normal PDF for various values of the variance.\n",
    "\n",
    "Instructions\n",
    "0 XP\n",
    "Draw 100,000 samples from a Normal distribution that has a mean of 20 and a standard deviation of 1. Do the same for Normal distributions with standard deviations of 3 and 10, each still with a mean of 20. Assign the results to samples_std1, samples_std3 and samples_std10, respectively.\n",
    "Plot a histograms of each of the samples; for each, use 100 bins, also using the keyword arguments normed=True and histtype='step'. The latter keyword argument makes the plot look much like the smooth theoretical PDF. You will need to make 3 plt.hist() calls.\n",
    "Hit 'Submit Answer' to make a legend, showing which standard deviations you used, and show your plot! There is no need to label the axes because we have not defined what is being described by the Normal distribution; we are just looking at shapes of PDFs.\n",
    "\n",
    "Hint\n",
    "In earlier exercises, you drew samples from the Binomial and Poisson distributions. You can similarly draw samples from the Normal distribution using np.random.normal(), passing in the mean, standard deviation, and sample size as arguments (in that order). Be sure to assign each of the samples to samples_std1, samples_std3, and samples.std10, respectively.\n",
    "Just as you did in earlier exercises, generate the appropriate histogram using plt.hist(). In addition to bins and normed, there is one new parameter you have to be aware of here: histtype. Generate histograms for each of the samples by passing in the arguments as described in the instructions."
   ]
  },
  {
   "cell_type": "code",
   "execution_count": 3,
   "id": "d6b3316b",
   "metadata": {},
   "outputs": [
    {
     "ename": "AttributeError",
     "evalue": "'Polygon' object has no property 'normed'",
     "output_type": "error",
     "traceback": [
      "\u001b[1;31m---------------------------------------------------------------------------\u001b[0m",
      "\u001b[1;31mAttributeError\u001b[0m                            Traceback (most recent call last)",
      "\u001b[1;32m<ipython-input-3-9534914d6d56>\u001b[0m in \u001b[0;36m<module>\u001b[1;34m\u001b[0m\n\u001b[0;32m      5\u001b[0m \u001b[1;33m\u001b[0m\u001b[0m\n\u001b[0;32m      6\u001b[0m \u001b[1;31m# Make histograms\u001b[0m\u001b[1;33m\u001b[0m\u001b[1;33m\u001b[0m\u001b[1;33m\u001b[0m\u001b[0m\n\u001b[1;32m----> 7\u001b[1;33m \u001b[0m_\u001b[0m \u001b[1;33m=\u001b[0m \u001b[0mplt\u001b[0m\u001b[1;33m.\u001b[0m\u001b[0mhist\u001b[0m\u001b[1;33m(\u001b[0m\u001b[0msamples_std1\u001b[0m\u001b[1;33m,\u001b[0m \u001b[0mbins\u001b[0m\u001b[1;33m=\u001b[0m\u001b[1;36m100\u001b[0m\u001b[1;33m,\u001b[0m \u001b[0mnormed\u001b[0m\u001b[1;33m=\u001b[0m\u001b[1;32mTrue\u001b[0m\u001b[1;33m,\u001b[0m \u001b[0mhisttype\u001b[0m\u001b[1;33m=\u001b[0m\u001b[1;34m'step'\u001b[0m\u001b[1;33m)\u001b[0m\u001b[1;33m\u001b[0m\u001b[1;33m\u001b[0m\u001b[0m\n\u001b[0m\u001b[0;32m      8\u001b[0m \u001b[0m_\u001b[0m \u001b[1;33m=\u001b[0m \u001b[0mplt\u001b[0m\u001b[1;33m.\u001b[0m\u001b[0mhist\u001b[0m\u001b[1;33m(\u001b[0m\u001b[0msamples_std3\u001b[0m\u001b[1;33m,\u001b[0m \u001b[0mbins\u001b[0m\u001b[1;33m=\u001b[0m\u001b[1;36m100\u001b[0m\u001b[1;33m,\u001b[0m \u001b[0mnormed\u001b[0m\u001b[1;33m=\u001b[0m\u001b[1;32mTrue\u001b[0m\u001b[1;33m,\u001b[0m \u001b[0mhisttype\u001b[0m\u001b[1;33m=\u001b[0m\u001b[1;34m'step'\u001b[0m\u001b[1;33m)\u001b[0m\u001b[1;33m\u001b[0m\u001b[1;33m\u001b[0m\u001b[0m\n\u001b[0;32m      9\u001b[0m \u001b[0m_\u001b[0m \u001b[1;33m=\u001b[0m \u001b[0mplt\u001b[0m\u001b[1;33m.\u001b[0m\u001b[0mhist\u001b[0m\u001b[1;33m(\u001b[0m\u001b[0msamples_std10\u001b[0m\u001b[1;33m,\u001b[0m \u001b[0mbins\u001b[0m\u001b[1;33m=\u001b[0m\u001b[1;36m100\u001b[0m\u001b[1;33m,\u001b[0m \u001b[0mnormed\u001b[0m\u001b[1;33m=\u001b[0m\u001b[1;32mTrue\u001b[0m\u001b[1;33m,\u001b[0m \u001b[0mhisttype\u001b[0m\u001b[1;33m=\u001b[0m\u001b[1;34m'step'\u001b[0m\u001b[1;33m)\u001b[0m\u001b[1;33m\u001b[0m\u001b[1;33m\u001b[0m\u001b[0m\n",
      "\u001b[1;32m~\\anaconda3\\lib\\site-packages\\matplotlib\\pyplot.py\u001b[0m in \u001b[0;36mhist\u001b[1;34m(x, bins, range, density, weights, cumulative, bottom, histtype, align, orientation, rwidth, log, color, label, stacked, data, **kwargs)\u001b[0m\n\u001b[0;32m   2683\u001b[0m         \u001b[0morientation\u001b[0m\u001b[1;33m=\u001b[0m\u001b[1;34m'vertical'\u001b[0m\u001b[1;33m,\u001b[0m \u001b[0mrwidth\u001b[0m\u001b[1;33m=\u001b[0m\u001b[1;32mNone\u001b[0m\u001b[1;33m,\u001b[0m \u001b[0mlog\u001b[0m\u001b[1;33m=\u001b[0m\u001b[1;32mFalse\u001b[0m\u001b[1;33m,\u001b[0m \u001b[0mcolor\u001b[0m\u001b[1;33m=\u001b[0m\u001b[1;32mNone\u001b[0m\u001b[1;33m,\u001b[0m\u001b[1;33m\u001b[0m\u001b[1;33m\u001b[0m\u001b[0m\n\u001b[0;32m   2684\u001b[0m         label=None, stacked=False, *, data=None, **kwargs):\n\u001b[1;32m-> 2685\u001b[1;33m     return gca().hist(\n\u001b[0m\u001b[0;32m   2686\u001b[0m         \u001b[0mx\u001b[0m\u001b[1;33m,\u001b[0m \u001b[0mbins\u001b[0m\u001b[1;33m=\u001b[0m\u001b[0mbins\u001b[0m\u001b[1;33m,\u001b[0m \u001b[0mrange\u001b[0m\u001b[1;33m=\u001b[0m\u001b[0mrange\u001b[0m\u001b[1;33m,\u001b[0m \u001b[0mdensity\u001b[0m\u001b[1;33m=\u001b[0m\u001b[0mdensity\u001b[0m\u001b[1;33m,\u001b[0m \u001b[0mweights\u001b[0m\u001b[1;33m=\u001b[0m\u001b[0mweights\u001b[0m\u001b[1;33m,\u001b[0m\u001b[1;33m\u001b[0m\u001b[1;33m\u001b[0m\u001b[0m\n\u001b[0;32m   2687\u001b[0m         \u001b[0mcumulative\u001b[0m\u001b[1;33m=\u001b[0m\u001b[0mcumulative\u001b[0m\u001b[1;33m,\u001b[0m \u001b[0mbottom\u001b[0m\u001b[1;33m=\u001b[0m\u001b[0mbottom\u001b[0m\u001b[1;33m,\u001b[0m \u001b[0mhisttype\u001b[0m\u001b[1;33m=\u001b[0m\u001b[0mhisttype\u001b[0m\u001b[1;33m,\u001b[0m\u001b[1;33m\u001b[0m\u001b[1;33m\u001b[0m\u001b[0m\n",
      "\u001b[1;32m~\\anaconda3\\lib\\site-packages\\matplotlib\\__init__.py\u001b[0m in \u001b[0;36minner\u001b[1;34m(ax, data, *args, **kwargs)\u001b[0m\n\u001b[0;32m   1445\u001b[0m     \u001b[1;32mdef\u001b[0m \u001b[0minner\u001b[0m\u001b[1;33m(\u001b[0m\u001b[0max\u001b[0m\u001b[1;33m,\u001b[0m \u001b[1;33m*\u001b[0m\u001b[0margs\u001b[0m\u001b[1;33m,\u001b[0m \u001b[0mdata\u001b[0m\u001b[1;33m=\u001b[0m\u001b[1;32mNone\u001b[0m\u001b[1;33m,\u001b[0m \u001b[1;33m**\u001b[0m\u001b[0mkwargs\u001b[0m\u001b[1;33m)\u001b[0m\u001b[1;33m:\u001b[0m\u001b[1;33m\u001b[0m\u001b[1;33m\u001b[0m\u001b[0m\n\u001b[0;32m   1446\u001b[0m         \u001b[1;32mif\u001b[0m \u001b[0mdata\u001b[0m \u001b[1;32mis\u001b[0m \u001b[1;32mNone\u001b[0m\u001b[1;33m:\u001b[0m\u001b[1;33m\u001b[0m\u001b[1;33m\u001b[0m\u001b[0m\n\u001b[1;32m-> 1447\u001b[1;33m             \u001b[1;32mreturn\u001b[0m \u001b[0mfunc\u001b[0m\u001b[1;33m(\u001b[0m\u001b[0max\u001b[0m\u001b[1;33m,\u001b[0m \u001b[1;33m*\u001b[0m\u001b[0mmap\u001b[0m\u001b[1;33m(\u001b[0m\u001b[0msanitize_sequence\u001b[0m\u001b[1;33m,\u001b[0m \u001b[0margs\u001b[0m\u001b[1;33m)\u001b[0m\u001b[1;33m,\u001b[0m \u001b[1;33m**\u001b[0m\u001b[0mkwargs\u001b[0m\u001b[1;33m)\u001b[0m\u001b[1;33m\u001b[0m\u001b[1;33m\u001b[0m\u001b[0m\n\u001b[0m\u001b[0;32m   1448\u001b[0m \u001b[1;33m\u001b[0m\u001b[0m\n\u001b[0;32m   1449\u001b[0m         \u001b[0mbound\u001b[0m \u001b[1;33m=\u001b[0m \u001b[0mnew_sig\u001b[0m\u001b[1;33m.\u001b[0m\u001b[0mbind\u001b[0m\u001b[1;33m(\u001b[0m\u001b[0max\u001b[0m\u001b[1;33m,\u001b[0m \u001b[1;33m*\u001b[0m\u001b[0margs\u001b[0m\u001b[1;33m,\u001b[0m \u001b[1;33m**\u001b[0m\u001b[0mkwargs\u001b[0m\u001b[1;33m)\u001b[0m\u001b[1;33m\u001b[0m\u001b[1;33m\u001b[0m\u001b[0m\n",
      "\u001b[1;32m~\\anaconda3\\lib\\site-packages\\matplotlib\\axes\\_axes.py\u001b[0m in \u001b[0;36mhist\u001b[1;34m(self, x, bins, range, density, weights, cumulative, bottom, histtype, align, orientation, rwidth, log, color, label, stacked, **kwargs)\u001b[0m\n\u001b[0;32m   6813\u001b[0m             \u001b[1;32mif\u001b[0m \u001b[0mpatch\u001b[0m\u001b[1;33m:\u001b[0m\u001b[1;33m\u001b[0m\u001b[1;33m\u001b[0m\u001b[0m\n\u001b[0;32m   6814\u001b[0m                 \u001b[0mp\u001b[0m \u001b[1;33m=\u001b[0m \u001b[0mpatch\u001b[0m\u001b[1;33m[\u001b[0m\u001b[1;36m0\u001b[0m\u001b[1;33m]\u001b[0m\u001b[1;33m\u001b[0m\u001b[1;33m\u001b[0m\u001b[0m\n\u001b[1;32m-> 6815\u001b[1;33m                 \u001b[0mp\u001b[0m\u001b[1;33m.\u001b[0m\u001b[0mupdate\u001b[0m\u001b[1;33m(\u001b[0m\u001b[0mkwargs\u001b[0m\u001b[1;33m)\u001b[0m\u001b[1;33m\u001b[0m\u001b[1;33m\u001b[0m\u001b[0m\n\u001b[0m\u001b[0;32m   6816\u001b[0m                 \u001b[1;32mif\u001b[0m \u001b[0mlbl\u001b[0m \u001b[1;32mis\u001b[0m \u001b[1;32mnot\u001b[0m \u001b[1;32mNone\u001b[0m\u001b[1;33m:\u001b[0m\u001b[1;33m\u001b[0m\u001b[1;33m\u001b[0m\u001b[0m\n\u001b[0;32m   6817\u001b[0m                     \u001b[0mp\u001b[0m\u001b[1;33m.\u001b[0m\u001b[0mset_label\u001b[0m\u001b[1;33m(\u001b[0m\u001b[0mlbl\u001b[0m\u001b[1;33m)\u001b[0m\u001b[1;33m\u001b[0m\u001b[1;33m\u001b[0m\u001b[0m\n",
      "\u001b[1;32m~\\anaconda3\\lib\\site-packages\\matplotlib\\artist.py\u001b[0m in \u001b[0;36mupdate\u001b[1;34m(self, props)\u001b[0m\n\u001b[0;32m    994\u001b[0m                     \u001b[0mfunc\u001b[0m \u001b[1;33m=\u001b[0m \u001b[0mgetattr\u001b[0m\u001b[1;33m(\u001b[0m\u001b[0mself\u001b[0m\u001b[1;33m,\u001b[0m \u001b[1;34mf\"set_{k}\"\u001b[0m\u001b[1;33m,\u001b[0m \u001b[1;32mNone\u001b[0m\u001b[1;33m)\u001b[0m\u001b[1;33m\u001b[0m\u001b[1;33m\u001b[0m\u001b[0m\n\u001b[0;32m    995\u001b[0m                     \u001b[1;32mif\u001b[0m \u001b[1;32mnot\u001b[0m \u001b[0mcallable\u001b[0m\u001b[1;33m(\u001b[0m\u001b[0mfunc\u001b[0m\u001b[1;33m)\u001b[0m\u001b[1;33m:\u001b[0m\u001b[1;33m\u001b[0m\u001b[1;33m\u001b[0m\u001b[0m\n\u001b[1;32m--> 996\u001b[1;33m                         raise AttributeError(f\"{type(self).__name__!r} object \"\n\u001b[0m\u001b[0;32m    997\u001b[0m                                              f\"has no property {k!r}\")\n\u001b[0;32m    998\u001b[0m                     \u001b[0mret\u001b[0m\u001b[1;33m.\u001b[0m\u001b[0mappend\u001b[0m\u001b[1;33m(\u001b[0m\u001b[0mfunc\u001b[0m\u001b[1;33m(\u001b[0m\u001b[0mv\u001b[0m\u001b[1;33m)\u001b[0m\u001b[1;33m)\u001b[0m\u001b[1;33m\u001b[0m\u001b[1;33m\u001b[0m\u001b[0m\n",
      "\u001b[1;31mAttributeError\u001b[0m: 'Polygon' object has no property 'normed'"
     ]
    },
    {
     "data": {
      "image/png": "[encoded data removed]",
      "text/plain": [
       "<Figure size 432x288 with 1 Axes>"
      ]
     },
     "metadata": {
      "needs_background": "light"
     },
     "output_type": "display_data"
    }
   ],
   "source": [
    "# Draw 100000 samples from Normal distribution with stds of interest: samples_std1, samples_std3, samples_std10\n",
    "samples_std1 = np.random.normal(20, 1, size=100000)\n",
    "samples_std3 = np.random.normal(20, 3, size=100000)\n",
    "samples_std10 = np.random.normal(20, 10, size=100000)\n",
    "\n",
    "# Make histograms\n",
    "_ = plt.hist(samples_std1, bins=100, normed=True, histtype='step')\n",
    "_ = plt.hist(samples_std3, bins=100, normed=True, histtype='step')\n",
    "_ = plt.hist(samples_std10, bins=100, normed=True, histtype='step')\n",
    "\n",
    "# Make a legend, set limits and show plot\n",
    "_ = plt.legend(('std = 1', 'std = 3', 'std = 10'))\n",
    "plt.ylim(-0.01, 0.42)\n",
    "plt.show()\n"
   ]
  },
  {
   "cell_type": "markdown",
   "id": "af73cff0",
   "metadata": {},
   "source": [
    "# The Normal CDF\n",
    "Now that you have a feel for how the Normal PDF looks, let's consider its CDF. Using the samples you generated in the last exercise (in your namespace as samples_std1, samples_std3, and samples_std10), generate and plot the CDFs.\n",
    "\n",
    "Instructions\n",
    "70 XP\n",
    "Use your ecdf() function to generate x and y values for CDFs: x_std1, y_std1, x_std3, y_std3 and x_std10, y_std10, respectively.\n",
    "Plot all three CDFs as dots (do not forget the marker and linestyle keyword arguments!).\n",
    "Hit submit to make a legend, showing which standard deviations you used, and to show your plot. There is no need to label the axes because we have not defined what is being described by the Normal distribution; we are just looking at shapes of CDFs.\n",
    "\n",
    "\n",
    "Show Answer (-70 XP)\n",
    "Hint\n",
    "In earlier chapters and exercises, you generated x and y values for CDFs using x, y = ecdf(data). Tweak the code so that you are now computing the x and y values for the Normal CDFs.\n",
    "To plot the CDFs as dots, remember to include the arguments marker = '.' and linestyle = none inside plt.plot()"
   ]
  },
  {
   "cell_type": "code",
   "execution_count": 4,
   "id": "3a84bac7",
   "metadata": {},
   "outputs": [
    {
     "data": {
      "image/png": "[encoded data removed]",
      "text/plain": [
       "<Figure size 432x288 with 1 Axes>"
      ]
     },
     "metadata": {
      "needs_background": "light"
     },
     "output_type": "display_data"
    }
   ],
   "source": [
    "# Generate CDFs\n",
    "x_std1, y_std1 = ecdf(samples_std1)\n",
    "x_std3, y_std3 = ecdf(samples_std3)\n",
    "x_std10, y_std10 = ecdf(samples_std10)\n",
    "\n",
    "# Plot CDFs\n",
    "_ = plt.plot(x_std1, y_std1, marker='.', linestyle='none')\n",
    "_ = plt.plot(x_std3, y_std3, marker='.', linestyle='none')\n",
    "_ = plt.plot(x_std10, y_std10, marker='.', linestyle='none')\n",
    "\n",
    "# Make a legend and show the plot\n",
    "_ = plt.legend(('std = 1', 'std = 3', 'std = 10'), loc='lower right')\n",
    "plt.show()\n"
   ]
  },
  {
   "cell_type": "markdown",
   "id": "83fcc537",
   "metadata": {},
   "source": [
    "# 1. The Normal distribution: Properties and warnings\n",
    "Here is the\n",
    "\n",
    "2. Image: Deutsche Bundesbank\n",
    "10 Deutschmark bill. It was retired in 2002 with the adoption of the Euro by Germany. The man pictured on this bill is Karl Gauss, one of the greatest mathematicians of all time. Clearly, the Germans think highly of Gauss to put him on their currency.\n",
    "\n",
    "3. The Gaussian distribution\n",
    "If we zoom in to the center of the bill, we see which of Gauss's barrel full of accomplishments they think most highly of. There it is, the Normal distribution! It is often also called the Gaussian distribution, after its inventor, so you will often hear it referred to this way. So, yes, the Normal distribution is very important and very widely used. It is so prevalent, it is worth talking about some more. In practice, it is used to describe most symmetric peaked data you will encounter. Furthermore, for many of the statistical procedures you have heard of, Normality assumptions about the data are present. Indeed, it is a very powerful distribution that seems to be ubiquitous in nature, not just in the field of statistics. That said, there are important caveats about the distribution and we need to be careful when using it. First off, often times things you may think are Normally distributed are not.\n",
    "\n",
    "4. Length of MA large mouth bass\n",
    "Consider for example large mouth bass in Massachusetts lakes measured in 1994 and 1995 by the Massachusetts Department of Environmental Protection. If we look at a histogram of the length of the 316 fish they measured, they appear to be Normally distributed. Indeed, when we look at\n",
    "\n",
    "5. Length of MA large mouth bass\n",
    "the ECDF overlayed with a theoretical Normal CDF, the measurements look close to Normally distributed. There are some systematic differences, though,\n",
    "\n",
    "6. Length of MA large mouth bass\n",
    "especially on the left tail. So this is not quite a Normal distribution, but we might not be making too big of an error by treating it as so.\n",
    "\n",
    "7. Mass of MA large mouth bass\n",
    "Now, let's consider the mass of the bass. One might think that since the length of these bass is close to Normally distributed, the mass should be also. When we overlay the theoretical Normal CDF on the ECDF of the data, it is not even close. Seeing this immediately shows us that our initial thought was incorrect. Another important issue to keep in mind when using the Normal distribution is\n",
    "\n",
    "8. Light tails of the Normal distribution\n",
    "the lightness of its tails. If we look at the Normal distribution, the probability of being\n",
    "\n",
    "9. Light tails of the Normal distribution\n",
    "more than four standard deviations from the mean is very small. This means that when you are modeling data as Normally distributed, outliers are extremely unlikely. Real data sets often have extreme values, and when this happens, the Normal distribution might not be the best description of your data.\n",
    "\n",
    "10. Let's practice!\n",
    "These caveats are not meant to scare you. I bring them up to remind you to always think carefully about assumptions that go into your analyses. The Normal distribution is still of great use, and use it you will in the next exercises!"
   ]
  },
  {
   "cell_type": "markdown",
   "id": "a77ea6e3",
   "metadata": {},
   "source": [
    "# Are the Belmont Stakes results Normally distributed?\n",
    "Since 1926, the Belmont Stakes is a 1.5 mile-long race of 3-year old thoroughbred horses. Secretariat ran the fastest Belmont Stakes in history in 1973. While that was the fastest year, 1970 was the slowest because of unusually wet and sloppy conditions. With these two outliers removed from the data set, compute the mean and standard deviation of the Belmont winners' times. Sample out of a Normal distribution with this mean and standard deviation using the np.random.normal() function and plot a CDF. Overlay the ECDF from the winning Belmont times. Are these close to Normally distributed?\n",
    "\n",
    "Note: Justin scraped the data concerning the Belmont Stakes from the Belmont Wikipedia page.\n",
    "\n",
    "Instructions\n",
    "100 XP\n",
    "Compute mean and standard deviation of Belmont winners' times with the two outliers removed. The NumPy array belmont_no_outliers has these data.\n",
    "Take 10,000 samples out of a normal distribution with this mean and standard deviation using np.random.normal().\n",
    "Compute the CDF of the theoretical samples and the ECDF of the Belmont winners' data, assigning the results to x_theor, y_theor and x, y, respectively.\n",
    "Hit submit to plot the CDF of your samples with the ECDF, label your axes and show the plot.\n",
    "\n",
    "The mean and standard deviation of belmont_no_outliers can be computed using np.mean() and np.std(), respectively. Assign the mean to the variable mu and the standard deviation to the variable sigma.\n",
    "To generate the appropriate normal distribution, use the mu and sigma calculated above along with size = 10000 as arguments passed to np.random.normal().\n",
    "Use the ecdf() function with the appropriate choice of data (samples or belmont_no_outliers) to compute the CDF of the theoretical samples and the ECDF of the Belmont winners' data. Be sure to unpack the output of ecdf() correctly."
   ]
  },
  {
   "cell_type": "code",
   "execution_count": 11,
   "id": "6f3a860f",
   "metadata": {},
   "outputs": [
    {
     "data": {
      "image/png": "[encoded data removed]",
      "text/plain": [
       "<Figure size 432x288 with 1 Axes>"
      ]
     },
     "metadata": {
      "needs_background": "light"
     },
     "output_type": "display_data"
    }
   ],
   "source": [
    "belmont_no_outliers = np.array([148.51, 146.65, 148.52, 150.7 , 150.42, 150.88, 151.57, 147.54,\n",
    "       149.65, 148.74, 147.86, 148.75, 147.5 , 148.26, 149.71, 146.56,\n",
    "       151.19, 147.88, 149.16, 148.82, 148.96, 152.02, 146.82, 149.97,\n",
    "       146.13, 148.1 , 147.2 , 146.  , 146.4 , 148.2 , 149.8 , 147.  ,\n",
    "       147.2 , 147.8 , 148.2 , 149.  , 149.8 , 148.6 , 146.8 , 149.6 ,\n",
    "       149.  , 148.2 , 149.2 , 148.  , 150.4 , 148.8 , 147.2 , 148.8 ,\n",
    "       149.6 , 148.4 , 148.4 , 150.2 , 148.8 , 149.2 , 149.2 , 148.4 ,\n",
    "       150.2 , 146.6 , 149.8 , 149.  , 150.8 , 148.6 , 150.2 , 149.  ,\n",
    "       148.6 , 150.2 , 148.2 , 149.4 , 150.8 , 150.2 , 152.2 , 148.2 ,\n",
    "       149.2 , 151.  , 149.6 , 149.6 , 149.4 , 148.6 , 150.  , 150.6 ,\n",
    "       149.2 , 152.6 , 152.8 , 149.6 , 151.6 , 152.8 , 153.2 , 152.4 ,\n",
    "       152.2 ])\n",
    "# Compute mean and standard deviation: mu, sigma\n",
    "mu = np.mean(belmont_no_outliers)\n",
    "sigma = np.std(belmont_no_outliers)\n",
    "\n",
    "# Sample out of a normal distribution with this mu and sigma: samples\n",
    "samples = np.random.normal(mu, sigma, size=10000)\n",
    "\n",
    "# Get the CDF of the samples and of the data\n",
    "x_theor, y_theor = ecdf(samples)\n",
    "x, y = ecdf(belmont_no_outliers)\n",
    "\n",
    "# Plot the CDFs and show the plot\n",
    "_ = plt.plot(x_theor, y_theor)\n",
    "_ = plt.plot(x, y, marker='.', linestyle='none')\n",
    "_ = plt.xlabel('Belmont winning time (sec.)')\n",
    "_ = plt.ylabel('CDF')\n",
    "plt.show()\n"
   ]
  },
  {
   "cell_type": "markdown",
   "id": "7303b5b3",
   "metadata": {},
   "source": [
    "# What are the chances of a horse matching or beating Secretariat's record?\n",
    "Assume that the Belmont winners' times are Normally distributed (with the 1970 and 1973 years removed), what is the probability that the winner of a given Belmont Stakes will run it as fast or faster than Secretariat?\n",
    "\n",
    "Instructions\n",
    "0 XP\n",
    "Take 1,000,000 samples from the normal distribution using the np.random.normal() function. The mean mu and standard deviation sigma are already loaded into the namespace of your IPython instance.\n",
    "Compute the fraction of samples that have a time less than or equal to Secretariat's time of 144 seconds.\n",
    "Print the result.\n",
    "\n",
    "Hint\n",
    "Use the np.random.normal() function to draw 1000000 samples with mean mu and standard deviation sigma.\n",
    "Recall how in an earlier chapter you calculated the number of samples that are seven or greater using np.sum(n_nohitters >= 7). Here, you are asked to calculate a fraction and not just a total, so be sure to also divide by the number of samples after you subset samples appropriately inside np.sum()."
   ]
  },
  {
   "cell_type": "code",
   "execution_count": 12,
   "id": "c7d5cf65",
   "metadata": {},
   "outputs": [
    {
     "name": "stdout",
     "output_type": "stream",
     "text": [
      "Probability of besting Secretariat: 0.000583\n"
     ]
    }
   ],
   "source": [
    "# Take a million samples out of the Normal distribution: samples\n",
    "samples = np.random.normal(mu, sigma, size=1000000)\n",
    "\n",
    "# Compute the fraction that are faster than 144 seconds: prob\n",
    "prob = np.sum(samples <= 144) / len(samples)\n",
    "\n",
    "# Print the result\n",
    "print('Probability of besting Secretariat:', prob)\n"
   ]
  },
  {
   "cell_type": "markdown",
   "id": "c08ec7a7",
   "metadata": {},
   "source": [
    "# Matching a story and a distribution\n",
    "How might we expect the time between Major League no-hitters to be distributed? Be careful here: a few exercises ago, we considered the probability distribution for the number of no-hitters in a season. Now, we are looking at the probability distribution of the time between no hitters.\n",
    "\n",
    "\n",
    "\n",
    "\n",
    "Normal\n",
    "Incorrect\n",
    "This might be your natural inclination, but one of the other options has a story that exactly matches the time interval between events that can be modeled a Poisson processes\n",
    "\n",
    "Exponential\n",
    "press\n",
    "2\n",
    "\n",
    "Poisson\n",
    "Incorrect\n",
    "The Poisson distribution has the wrong story: it is the number of no-hitters in a given time interval, not the time between no-hitters\n",
    "press\n",
    "3\n",
    "\n",
    "Uniform"
   ]
  },
  {
   "cell_type": "markdown",
   "id": "56b8cb19",
   "metadata": {},
   "source": [
    "# Waiting for the next Secretariat\n",
    "Unfortunately, Justin was not alive when Secretariat ran the Belmont in 1973. Do you think he will get to see a performance like that? To answer this, you are interested in how many years you would expect to wait until you see another performance like Secretariat's. How is the waiting time until the next performance as good or better than Secretariat's distributed? Choose the best answer.\n",
    "\n",
    "\n",
    "Exponential: A horse as fast as Secretariat is a rare event, which can be modeled as a Poisson process, and the waiting time between arrivals of a Poisson process is Exponentially distributed."
   ]
  },
  {
   "cell_type": "markdown",
   "id": "5d3cda05",
   "metadata": {},
   "source": [
    "# If you have a story, you can simulate it!\n",
    "Sometimes, the story describing our probability distribution does not have a named distribution to go along with it. In these cases, fear not! You can always simulate it. We'll do that in this and the next exercise.\n",
    "\n",
    "In earlier exercises, we looked at the rare event of no-hitters in Major League Baseball. Hitting the cycle, when a batter gets all four kinds of hits in a single game, is another rare baseball event. Like no-hitters, this can be modeled as a Poisson process, so the time between hits of the cycle are also Exponentially distributed.\n",
    "\n",
    "How long must we wait to see a no-hitter and then a batter hit the cycle? The idea is that we have to wait some time for the no-hitter, and then after the no-hitter, we have to wait for hitting the cycle. Stated another way, what is the total waiting time for the arrival of two different Poisson processes in succession? The total waiting time is the time waited for the no-hitter, plus the time waited for the hitting the cycle.\n",
    "\n",
    "Now, you will write a function to sample out of the distribution described by this story.\n",
    "\n",
    "Instructions\n",
    "0 XP\n",
    "Define a function with call signature successive_poisson(tau1, tau2, size=1) that samples the waiting time for a no-hitter and a hit of the cycle.\n",
    "Draw waiting times tau1 (size number of samples) for the no-hitter out of an exponential distribution and assign to t1.\n",
    "Draw waiting times tau2 (size number of samples) for hitting the cycle out of an exponential distribution and assign to t2.\n",
    "The function returns the sum of the waiting times for the two events.\n",
    "\n",
    "Hint\n",
    "Similar to how you have previously sampled from the Binomial, Poisson, and Normal distributions, you can sample from the Exponential distribution using np.random.exponential(). Be sure to enter the appropriate waiting times (tau1 and tau2) and size parameters, and assign to t1 and t2."
   ]
  },
  {
   "cell_type": "code",
   "execution_count": 13,
   "id": "9fe95bf4",
   "metadata": {},
   "outputs": [],
   "source": [
    "def successive_poisson(tau1, tau2, size=1):\n",
    "    \"\"\"Compute time for arrival of 2 successive Poisson processes.\"\"\"\n",
    "    # Draw samples out of first exponential distribution: t1\n",
    "    t1 = np.random.exponential(tau1, size=size)\n",
    "\n",
    "    # Draw samples out of second exponential distribution: t2\n",
    "    t2 = np.random.exponential(tau2, size=size)\n",
    "\n",
    "    return t1 + t2\n"
   ]
  },
  {
   "cell_type": "markdown",
   "id": "73afbfe4",
   "metadata": {},
   "source": [
    "# Distribution of no-hitters and cycles\n",
    "Now, you'll use your sampling function to compute the waiting time to observe a no-hitter and hitting of the cycle. The mean waiting time for a no-hitter is 764 games, and the mean waiting time for hitting the cycle is 715 games.\n",
    "\n",
    "Instructions\n",
    "0 XP\n",
    "Use your successive_poisson() function to draw 100,000 out of the distribution of waiting times for observing a no-hitter and a hitting of the cycle.\n",
    "Plot the PDF of the waiting times using the step histogram technique of a previous exercise. Don't forget the necessary keyword arguments. You should use bins=100, normed=True, and histtype='step'.\n",
    "Label the axes.\n",
    "Show your plot.\n",
    "\n",
    "Hint\n",
    "Recall, from the earlier exercise, that tau1 denotes the mean waiting time for a no-hitter, while tau2 denotes the mean waiting time for hitting the cycle. Here, you are given the mean waiting time for no-hitters, mean waiting time for hitting the cycle, as well as the sample size. Enter this information into the sucessive_poisson() function you defined previously.\n",
    "Inside plt.hist(), you have to provide the keyword arguments bins=100, normed=True, and histtype=step, alongside waiting_times to plot the PDF of the waiting times.\n",
    "Use plt.xlabel() and plt.ylabel() to give your plot descriptive labels.\n",
    "Display your plot using plt.show()."
   ]
  },
  {
   "cell_type": "code",
   "execution_count": 14,
   "id": "527be205",
   "metadata": {},
   "outputs": [
    {
     "ename": "AttributeError",
     "evalue": "'Polygon' object has no property 'normed'",
     "output_type": "error",
     "traceback": [
      "\u001b[1;31m---------------------------------------------------------------------------\u001b[0m",
      "\u001b[1;31mAttributeError\u001b[0m                            Traceback (most recent call last)",
      "\u001b[1;32m<ipython-input-14-8e3821448c72>\u001b[0m in \u001b[0;36m<module>\u001b[1;34m\u001b[0m\n\u001b[0;32m      3\u001b[0m \u001b[1;33m\u001b[0m\u001b[0m\n\u001b[0;32m      4\u001b[0m \u001b[1;31m# Make the histogram\u001b[0m\u001b[1;33m\u001b[0m\u001b[1;33m\u001b[0m\u001b[1;33m\u001b[0m\u001b[0m\n\u001b[1;32m----> 5\u001b[1;33m _ = plt.hist(waiting_times, bins=100, histtype='step',\n\u001b[0m\u001b[0;32m      6\u001b[0m              normed=True)\n\u001b[0;32m      7\u001b[0m \u001b[1;33m\u001b[0m\u001b[0m\n",
      "\u001b[1;32m~\\anaconda3\\lib\\site-packages\\matplotlib\\pyplot.py\u001b[0m in \u001b[0;36mhist\u001b[1;34m(x, bins, range, density, weights, cumulative, bottom, histtype, align, orientation, rwidth, log, color, label, stacked, data, **kwargs)\u001b[0m\n\u001b[0;32m   2683\u001b[0m         \u001b[0morientation\u001b[0m\u001b[1;33m=\u001b[0m\u001b[1;34m'vertical'\u001b[0m\u001b[1;33m,\u001b[0m \u001b[0mrwidth\u001b[0m\u001b[1;33m=\u001b[0m\u001b[1;32mNone\u001b[0m\u001b[1;33m,\u001b[0m \u001b[0mlog\u001b[0m\u001b[1;33m=\u001b[0m\u001b[1;32mFalse\u001b[0m\u001b[1;33m,\u001b[0m \u001b[0mcolor\u001b[0m\u001b[1;33m=\u001b[0m\u001b[1;32mNone\u001b[0m\u001b[1;33m,\u001b[0m\u001b[1;33m\u001b[0m\u001b[1;33m\u001b[0m\u001b[0m\n\u001b[0;32m   2684\u001b[0m         label=None, stacked=False, *, data=None, **kwargs):\n\u001b[1;32m-> 2685\u001b[1;33m     return gca().hist(\n\u001b[0m\u001b[0;32m   2686\u001b[0m         \u001b[0mx\u001b[0m\u001b[1;33m,\u001b[0m \u001b[0mbins\u001b[0m\u001b[1;33m=\u001b[0m\u001b[0mbins\u001b[0m\u001b[1;33m,\u001b[0m \u001b[0mrange\u001b[0m\u001b[1;33m=\u001b[0m\u001b[0mrange\u001b[0m\u001b[1;33m,\u001b[0m \u001b[0mdensity\u001b[0m\u001b[1;33m=\u001b[0m\u001b[0mdensity\u001b[0m\u001b[1;33m,\u001b[0m \u001b[0mweights\u001b[0m\u001b[1;33m=\u001b[0m\u001b[0mweights\u001b[0m\u001b[1;33m,\u001b[0m\u001b[1;33m\u001b[0m\u001b[1;33m\u001b[0m\u001b[0m\n\u001b[0;32m   2687\u001b[0m         \u001b[0mcumulative\u001b[0m\u001b[1;33m=\u001b[0m\u001b[0mcumulative\u001b[0m\u001b[1;33m,\u001b[0m \u001b[0mbottom\u001b[0m\u001b[1;33m=\u001b[0m\u001b[0mbottom\u001b[0m\u001b[1;33m,\u001b[0m \u001b[0mhisttype\u001b[0m\u001b[1;33m=\u001b[0m\u001b[0mhisttype\u001b[0m\u001b[1;33m,\u001b[0m\u001b[1;33m\u001b[0m\u001b[1;33m\u001b[0m\u001b[0m\n",
      "\u001b[1;32m~\\anaconda3\\lib\\site-packages\\matplotlib\\__init__.py\u001b[0m in \u001b[0;36minner\u001b[1;34m(ax, data, *args, **kwargs)\u001b[0m\n\u001b[0;32m   1445\u001b[0m     \u001b[1;32mdef\u001b[0m \u001b[0minner\u001b[0m\u001b[1;33m(\u001b[0m\u001b[0max\u001b[0m\u001b[1;33m,\u001b[0m \u001b[1;33m*\u001b[0m\u001b[0margs\u001b[0m\u001b[1;33m,\u001b[0m \u001b[0mdata\u001b[0m\u001b[1;33m=\u001b[0m\u001b[1;32mNone\u001b[0m\u001b[1;33m,\u001b[0m \u001b[1;33m**\u001b[0m\u001b[0mkwargs\u001b[0m\u001b[1;33m)\u001b[0m\u001b[1;33m:\u001b[0m\u001b[1;33m\u001b[0m\u001b[1;33m\u001b[0m\u001b[0m\n\u001b[0;32m   1446\u001b[0m         \u001b[1;32mif\u001b[0m \u001b[0mdata\u001b[0m \u001b[1;32mis\u001b[0m \u001b[1;32mNone\u001b[0m\u001b[1;33m:\u001b[0m\u001b[1;33m\u001b[0m\u001b[1;33m\u001b[0m\u001b[0m\n\u001b[1;32m-> 1447\u001b[1;33m             \u001b[1;32mreturn\u001b[0m \u001b[0mfunc\u001b[0m\u001b[1;33m(\u001b[0m\u001b[0max\u001b[0m\u001b[1;33m,\u001b[0m \u001b[1;33m*\u001b[0m\u001b[0mmap\u001b[0m\u001b[1;33m(\u001b[0m\u001b[0msanitize_sequence\u001b[0m\u001b[1;33m,\u001b[0m \u001b[0margs\u001b[0m\u001b[1;33m)\u001b[0m\u001b[1;33m,\u001b[0m \u001b[1;33m**\u001b[0m\u001b[0mkwargs\u001b[0m\u001b[1;33m)\u001b[0m\u001b[1;33m\u001b[0m\u001b[1;33m\u001b[0m\u001b[0m\n\u001b[0m\u001b[0;32m   1448\u001b[0m \u001b[1;33m\u001b[0m\u001b[0m\n\u001b[0;32m   1449\u001b[0m         \u001b[0mbound\u001b[0m \u001b[1;33m=\u001b[0m \u001b[0mnew_sig\u001b[0m\u001b[1;33m.\u001b[0m\u001b[0mbind\u001b[0m\u001b[1;33m(\u001b[0m\u001b[0max\u001b[0m\u001b[1;33m,\u001b[0m \u001b[1;33m*\u001b[0m\u001b[0margs\u001b[0m\u001b[1;33m,\u001b[0m \u001b[1;33m**\u001b[0m\u001b[0mkwargs\u001b[0m\u001b[1;33m)\u001b[0m\u001b[1;33m\u001b[0m\u001b[1;33m\u001b[0m\u001b[0m\n",
      "\u001b[1;32m~\\anaconda3\\lib\\site-packages\\matplotlib\\axes\\_axes.py\u001b[0m in \u001b[0;36mhist\u001b[1;34m(self, x, bins, range, density, weights, cumulative, bottom, histtype, align, orientation, rwidth, log, color, label, stacked, **kwargs)\u001b[0m\n\u001b[0;32m   6813\u001b[0m             \u001b[1;32mif\u001b[0m \u001b[0mpatch\u001b[0m\u001b[1;33m:\u001b[0m\u001b[1;33m\u001b[0m\u001b[1;33m\u001b[0m\u001b[0m\n\u001b[0;32m   6814\u001b[0m                 \u001b[0mp\u001b[0m \u001b[1;33m=\u001b[0m \u001b[0mpatch\u001b[0m\u001b[1;33m[\u001b[0m\u001b[1;36m0\u001b[0m\u001b[1;33m]\u001b[0m\u001b[1;33m\u001b[0m\u001b[1;33m\u001b[0m\u001b[0m\n\u001b[1;32m-> 6815\u001b[1;33m                 \u001b[0mp\u001b[0m\u001b[1;33m.\u001b[0m\u001b[0mupdate\u001b[0m\u001b[1;33m(\u001b[0m\u001b[0mkwargs\u001b[0m\u001b[1;33m)\u001b[0m\u001b[1;33m\u001b[0m\u001b[1;33m\u001b[0m\u001b[0m\n\u001b[0m\u001b[0;32m   6816\u001b[0m                 \u001b[1;32mif\u001b[0m \u001b[0mlbl\u001b[0m \u001b[1;32mis\u001b[0m \u001b[1;32mnot\u001b[0m \u001b[1;32mNone\u001b[0m\u001b[1;33m:\u001b[0m\u001b[1;33m\u001b[0m\u001b[1;33m\u001b[0m\u001b[0m\n\u001b[0;32m   6817\u001b[0m                     \u001b[0mp\u001b[0m\u001b[1;33m.\u001b[0m\u001b[0mset_label\u001b[0m\u001b[1;33m(\u001b[0m\u001b[0mlbl\u001b[0m\u001b[1;33m)\u001b[0m\u001b[1;33m\u001b[0m\u001b[1;33m\u001b[0m\u001b[0m\n",
      "\u001b[1;32m~\\anaconda3\\lib\\site-packages\\matplotlib\\artist.py\u001b[0m in \u001b[0;36mupdate\u001b[1;34m(self, props)\u001b[0m\n\u001b[0;32m    994\u001b[0m                     \u001b[0mfunc\u001b[0m \u001b[1;33m=\u001b[0m \u001b[0mgetattr\u001b[0m\u001b[1;33m(\u001b[0m\u001b[0mself\u001b[0m\u001b[1;33m,\u001b[0m \u001b[1;34mf\"set_{k}\"\u001b[0m\u001b[1;33m,\u001b[0m \u001b[1;32mNone\u001b[0m\u001b[1;33m)\u001b[0m\u001b[1;33m\u001b[0m\u001b[1;33m\u001b[0m\u001b[0m\n\u001b[0;32m    995\u001b[0m                     \u001b[1;32mif\u001b[0m \u001b[1;32mnot\u001b[0m \u001b[0mcallable\u001b[0m\u001b[1;33m(\u001b[0m\u001b[0mfunc\u001b[0m\u001b[1;33m)\u001b[0m\u001b[1;33m:\u001b[0m\u001b[1;33m\u001b[0m\u001b[1;33m\u001b[0m\u001b[0m\n\u001b[1;32m--> 996\u001b[1;33m                         raise AttributeError(f\"{type(self).__name__!r} object \"\n\u001b[0m\u001b[0;32m    997\u001b[0m                                              f\"has no property {k!r}\")\n\u001b[0;32m    998\u001b[0m                     \u001b[0mret\u001b[0m\u001b[1;33m.\u001b[0m\u001b[0mappend\u001b[0m\u001b[1;33m(\u001b[0m\u001b[0mfunc\u001b[0m\u001b[1;33m(\u001b[0m\u001b[0mv\u001b[0m\u001b[1;33m)\u001b[0m\u001b[1;33m)\u001b[0m\u001b[1;33m\u001b[0m\u001b[1;33m\u001b[0m\u001b[0m\n",
      "\u001b[1;31mAttributeError\u001b[0m: 'Polygon' object has no property 'normed'"
     ]
    },
    {
     "data": {
      "image/png": "[encoded data removed]",
      "text/plain": [
       "<Figure size 432x288 with 1 Axes>"
      ]
     },
     "metadata": {
      "needs_background": "light"
     },
     "output_type": "display_data"
    }
   ],
   "source": [
    "# Draw samples of waiting times\n",
    "waiting_times = successive_poisson(764, 715, size=100000)\n",
    "\n",
    "# Make the histogram\n",
    "_ = plt.hist(waiting_times, bins=100, histtype='step',\n",
    "             normed=True)\n",
    "\n",
    "# Label axes\n",
    "_ = plt.xlabel('total waiting time (games)')\n",
    "_ = plt.ylabel('PDF')\n",
    "\n",
    "# Show the plot\n",
    "plt.show()\n"
   ]
  },
  {
   "cell_type": "markdown",
   "id": "d5eefa97",
   "metadata": {},
   "source": [
    "# 1. Final thoughts\n",
    "Congratulations! You have completed the first course in statistical thinking.\n",
    "\n",
    "2. You now can…\n",
    "You can now use Python to construct instructive plots and informative summary statistics to explore your data. You have also built the intellectual and computational infrastructure to think probabilistically. You've accomplished a lot in a short time. Impressive! The knowledge you learned in this course really shines when you directly apply it to statistical inference problems.\n",
    "\n",
    "3. In the sequel, you will…\n",
    "In the next course, you will work with real data sets in Python to infer parameter values by a variety of methods including linear regression. You will use hacker statistics to compute confidence intervals to help you couch the conclusions you draw from your data in the appropriate probabilistic language. You will perform hypothesis tests, such as A/B tests, to help you discern differences between data sets. It's a great opportunity to use and expand upon what you learned in this first course in statistical thinking.\n",
    "\n",
    "4. Let's practice!\n",
    "I encourage you to take that opportunity! See you there!"
   ]
  },
  {
   "cell_type": "code",
   "execution_count": null,
   "id": "38f1603d",
   "metadata": {},
   "outputs": [],
   "source": []
  },
  {
   "cell_type": "code",
   "execution_count": null,
   "id": "b33d1d4a",
   "metadata": {},
   "outputs": [],
   "source": []
  },
  {
   "cell_type": "code",
   "execution_count": null,
   "id": "54ac0ffa",
   "metadata": {},
   "outputs": [],
   "source": []
  }
 ],
 "metadata": {
  "kernelspec": {
   "display_name": "Python 3",
   "language": "python",
   "name": "python3"
  },
  "language_info": {
   "codemirror_mode": {
    "name": "ipython",
    "version": 3
   },
   "file_extension": ".py",
   "mimetype": "text/x-python",
   "name": "python",
   "nbconvert_exporter": "python",
   "pygments_lexer": "ipython3",
   "version": "3.8.8"
  }
 },
 "nbformat": 4,
 "nbformat_minor": 5
}
