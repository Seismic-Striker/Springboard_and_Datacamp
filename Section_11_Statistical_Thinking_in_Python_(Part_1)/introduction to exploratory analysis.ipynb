{
 "cells": [
  {
   "cell_type": "code",
   "execution_count": 1,
   "id": "a8e6fd53",
   "metadata": {},
   "outputs": [],
   "source": [
    "from sklearn.datasets import load_iris\n",
    "import pandas as pd"
   ]
  },
  {
   "cell_type": "markdown",
   "id": "66a58353",
   "metadata": {},
   "source": [
    "# 1. Introduction to Exploratory Data Analysis\n",
    "Yogi Berra said, \"You can observe a lot by watching.\" The same is true with data. If you can appropriately display your data, you can already start to draw conclusions from it. I'll go even further. Exploring your data is a crucial step in your analysis.\n",
    "\n",
    "2. Exploratory data analysis\n",
    "When I say exploring your data, I mean organizing and plotting your data, and maybe computing a few numerical summaries about them. This idea is known as exploratory data analysis, or EDA, and was developed by one of the greatest statisticians of all time, John Tukey. He wrote a book entitled Exploratory Data Analysis in 1977 where he laid out the principles.\n",
    "\n",
    "3. John Tukey\n",
    "In that book, he said, \"Exploratory data analysis can never be the whole story, but nothing else can serve as the foundation stone.\" I wholeheartedly agree with this, so we will begin our study of statistical thinking with EDA. Let's consider an example.\n",
    "\n",
    "4. 2008 US swing state election results\n",
    "Here, we have a data set I acquired from data dot gov containing the election results of 2008 at the county level in each of the three major swing states of Pennsylvania, Ohio, and Florida. Those are the ones that largely decide recent elections in the US. This is how they look when I open the file with my text editor. They are a little prettier if we look at them with in a Pandas DataFrame,\n",
    "\n",
    "1 Data retrieved from Data.gov (https://www.data.gov/)\n",
    "5. 2008 US swing state election results\n",
    "in this case only looking at the columns of immediate interest, the state, county, and share of the vote that went to Democrat Barack Obama. We could stare the these numbers, but I think you'll agree that it is pretty hopeless to gain any sort of understanding from doing this. Alternatively, we could charge in headlong and start defining and computing parameters and their confidence intervals, and do hypothesis tests. You will learn how to do all of these things in this course and its sequel. But a good field commander does not just charge into battle without first getting a feel for the terrain and sizing up the opposing army. So, like the field commander, we should explore the data first. In this chapter, we will discuss graphical exploratory data analysis. This involves taking data from tabular form, like we have here in the DataFrame,\n",
    "\n",
    "1 Data retrieved from Data.gov (https://www.data.gov/)\n",
    "6. 2008 US swing state election results\n",
    "and representing it graphically. You are presenting the same information, but it is in a more human-interpretable form. For example, we take the Democratic share of the vote in the counties of all of the three swing states and plot them as a histogram. The height of each bar is the number of counties that had the given level of support for Obama. For example, the tallest bar is the number of counties that had between 40% and 50% of its votes cast for Obama. Right away, because there is more area in the histogram to the left of 50%, we can see that more counties voted for Obama's opponent, John McCain, than voted for Obama. Look at that. Just by making one plot, we could already draw a conclusion about the data, which would have been extraordinarily tedious by hand counting in the DataFrame.\n",
    "\n",
    "1 Data retrieved from Data.gov (https://www.data.gov/)\n",
    "7. Let's practice!\n",
    "Now let's review some of the basic ideas behind EDA with a couple exercises"
   ]
  },
  {
   "cell_type": "markdown",
   "id": "19a9ab61",
   "metadata": {},
   "source": [
    "# 1. Plotting a histogram\n",
    "We saw in the last video that a histogram can be a useful plot to generate when exploring a data set. Let's go over how we can create one.\n",
    "\n",
    "2. 2008 US swing state election results\n",
    "We are interested in the fraction of the vote that went to Barack Obama in each county. We can plot this as a histogram using\n",
    "\n",
    "3. Generating a histogram\n",
    "the matplotlib dot pyplot module's hist function. We pass it the dem_share column of the DataFrame. We could have also passed a NumPy array with the same data, and it works just fine. In fact, for this course and its sequel, you can use DataFrames and NumPy arrays interchangeably. Note that plt dot hist returns three arrays that I am not interested in; I only want the plot. I therefore assign a dummy variable called \"underscore\" to them, which is common practice in Python. After creating the histogram, we label the axes.\n",
    "\n",
    "4. Always label your axes\n",
    "Always label your axes, for histograms or any other kind of plot. Otherwise no one can know what it is you are plotting.\n",
    "\n",
    "5. 2008 US swing state election results\n",
    "You probably didn't notice, but this plot looks slightly different than the first plot I showed. You can see it if you look at them side-by-side.\n",
    "\n",
    "6. Histograms with different binning\n",
    "They are different because they have different binning. In the plot at left, we have ten bins that were automatically generated by the default settings of plt dot hist, and I set up the bins on the right myself.\n",
    "\n",
    "7. Setting the bins of a histogram\n",
    "I specified where the edges of the bars of the histogram are, the bin edges, and use the bins keyword argument to pass that to plt dot hist.\n",
    "\n",
    "8. Setting the bins of a histogram\n",
    "You can also specify a number of bins, say 20, using the bins keyword argument, and Matplotlib will automatically generate 20 evenly spaced bins. Now, the plots we've made so far are stylized with Matplotlib's default settings. I prefer to use the default settings\n",
    "\n",
    "9. Seaborn\n",
    "of Seaborn, an excellent matplotlib-based statistical data visualization package written primarily by Michael Waskom.\n",
    "\n",
    "10. Setting Seaborn styling\n",
    "We import it as sns, as is traditionally done. Upon import, we can set the style to be Seaborn's default, using the sns dot set function.\n",
    "\n",
    "11. A Seaborn-styled histogram\n",
    "This results in nicely formatted plots. Beyond this stylistic functionality, Seaborn offers useful plotting functions that we will explore in the next video.\n",
    "\n",
    "1 Data retrieved from Data.gov (https://www.data.gov/)\n",
    "12. Let's practice!\n",
    "Before we do that, let's practice making histograms with some exercises"
   ]
  },
  {
   "cell_type": "code",
   "execution_count": 2,
   "id": "fd053028",
   "metadata": {},
   "outputs": [],
   "source": [
    "iris = load_iris()\n",
    "data = (iris['data'])\n",
    "def Extract(lst):\n",
    "    return [item[2] for item in lst]\n",
    "petal_length = Extract(data)"
   ]
  },
  {
   "cell_type": "code",
   "execution_count": 3,
   "id": "168e47d4",
   "metadata": {},
   "outputs": [
    {
     "data": {
      "text/plain": [
       "{'data': array([[5.1, 3.5, 1.4, 0.2],\n",
       "        [4.9, 3. , 1.4, 0.2],\n",
       "        [4.7, 3.2, 1.3, 0.2],\n",
       "        [4.6, 3.1, 1.5, 0.2],\n",
       "        [5. , 3.6, 1.4, 0.2],\n",
       "        [5.4, 3.9, 1.7, 0.4],\n",
       "        [4.6, 3.4, 1.4, 0.3],\n",
       "        [5. , 3.4, 1.5, 0.2],\n",
       "        [4.4, 2.9, 1.4, 0.2],\n",
       "        [4.9, 3.1, 1.5, 0.1],\n",
       "        [5.4, 3.7, 1.5, 0.2],\n",
       "        [4.8, 3.4, 1.6, 0.2],\n",
       "        [4.8, 3. , 1.4, 0.1],\n",
       "        [4.3, 3. , 1.1, 0.1],\n",
       "        [5.8, 4. , 1.2, 0.2],\n",
       "        [5.7, 4.4, 1.5, 0.4],\n",
       "        [5.4, 3.9, 1.3, 0.4],\n",
       "        [5.1, 3.5, 1.4, 0.3],\n",
       "        [5.7, 3.8, 1.7, 0.3],\n",
       "        [5.1, 3.8, 1.5, 0.3],\n",
       "        [5.4, 3.4, 1.7, 0.2],\n",
       "        [5.1, 3.7, 1.5, 0.4],\n",
       "        [4.6, 3.6, 1. , 0.2],\n",
       "        [5.1, 3.3, 1.7, 0.5],\n",
       "        [4.8, 3.4, 1.9, 0.2],\n",
       "        [5. , 3. , 1.6, 0.2],\n",
       "        [5. , 3.4, 1.6, 0.4],\n",
       "        [5.2, 3.5, 1.5, 0.2],\n",
       "        [5.2, 3.4, 1.4, 0.2],\n",
       "        [4.7, 3.2, 1.6, 0.2],\n",
       "        [4.8, 3.1, 1.6, 0.2],\n",
       "        [5.4, 3.4, 1.5, 0.4],\n",
       "        [5.2, 4.1, 1.5, 0.1],\n",
       "        [5.5, 4.2, 1.4, 0.2],\n",
       "        [4.9, 3.1, 1.5, 0.2],\n",
       "        [5. , 3.2, 1.2, 0.2],\n",
       "        [5.5, 3.5, 1.3, 0.2],\n",
       "        [4.9, 3.6, 1.4, 0.1],\n",
       "        [4.4, 3. , 1.3, 0.2],\n",
       "        [5.1, 3.4, 1.5, 0.2],\n",
       "        [5. , 3.5, 1.3, 0.3],\n",
       "        [4.5, 2.3, 1.3, 0.3],\n",
       "        [4.4, 3.2, 1.3, 0.2],\n",
       "        [5. , 3.5, 1.6, 0.6],\n",
       "        [5.1, 3.8, 1.9, 0.4],\n",
       "        [4.8, 3. , 1.4, 0.3],\n",
       "        [5.1, 3.8, 1.6, 0.2],\n",
       "        [4.6, 3.2, 1.4, 0.2],\n",
       "        [5.3, 3.7, 1.5, 0.2],\n",
       "        [5. , 3.3, 1.4, 0.2],\n",
       "        [7. , 3.2, 4.7, 1.4],\n",
       "        [6.4, 3.2, 4.5, 1.5],\n",
       "        [6.9, 3.1, 4.9, 1.5],\n",
       "        [5.5, 2.3, 4. , 1.3],\n",
       "        [6.5, 2.8, 4.6, 1.5],\n",
       "        [5.7, 2.8, 4.5, 1.3],\n",
       "        [6.3, 3.3, 4.7, 1.6],\n",
       "        [4.9, 2.4, 3.3, 1. ],\n",
       "        [6.6, 2.9, 4.6, 1.3],\n",
       "        [5.2, 2.7, 3.9, 1.4],\n",
       "        [5. , 2. , 3.5, 1. ],\n",
       "        [5.9, 3. , 4.2, 1.5],\n",
       "        [6. , 2.2, 4. , 1. ],\n",
       "        [6.1, 2.9, 4.7, 1.4],\n",
       "        [5.6, 2.9, 3.6, 1.3],\n",
       "        [6.7, 3.1, 4.4, 1.4],\n",
       "        [5.6, 3. , 4.5, 1.5],\n",
       "        [5.8, 2.7, 4.1, 1. ],\n",
       "        [6.2, 2.2, 4.5, 1.5],\n",
       "        [5.6, 2.5, 3.9, 1.1],\n",
       "        [5.9, 3.2, 4.8, 1.8],\n",
       "        [6.1, 2.8, 4. , 1.3],\n",
       "        [6.3, 2.5, 4.9, 1.5],\n",
       "        [6.1, 2.8, 4.7, 1.2],\n",
       "        [6.4, 2.9, 4.3, 1.3],\n",
       "        [6.6, 3. , 4.4, 1.4],\n",
       "        [6.8, 2.8, 4.8, 1.4],\n",
       "        [6.7, 3. , 5. , 1.7],\n",
       "        [6. , 2.9, 4.5, 1.5],\n",
       "        [5.7, 2.6, 3.5, 1. ],\n",
       "        [5.5, 2.4, 3.8, 1.1],\n",
       "        [5.5, 2.4, 3.7, 1. ],\n",
       "        [5.8, 2.7, 3.9, 1.2],\n",
       "        [6. , 2.7, 5.1, 1.6],\n",
       "        [5.4, 3. , 4.5, 1.5],\n",
       "        [6. , 3.4, 4.5, 1.6],\n",
       "        [6.7, 3.1, 4.7, 1.5],\n",
       "        [6.3, 2.3, 4.4, 1.3],\n",
       "        [5.6, 3. , 4.1, 1.3],\n",
       "        [5.5, 2.5, 4. , 1.3],\n",
       "        [5.5, 2.6, 4.4, 1.2],\n",
       "        [6.1, 3. , 4.6, 1.4],\n",
       "        [5.8, 2.6, 4. , 1.2],\n",
       "        [5. , 2.3, 3.3, 1. ],\n",
       "        [5.6, 2.7, 4.2, 1.3],\n",
       "        [5.7, 3. , 4.2, 1.2],\n",
       "        [5.7, 2.9, 4.2, 1.3],\n",
       "        [6.2, 2.9, 4.3, 1.3],\n",
       "        [5.1, 2.5, 3. , 1.1],\n",
       "        [5.7, 2.8, 4.1, 1.3],\n",
       "        [6.3, 3.3, 6. , 2.5],\n",
       "        [5.8, 2.7, 5.1, 1.9],\n",
       "        [7.1, 3. , 5.9, 2.1],\n",
       "        [6.3, 2.9, 5.6, 1.8],\n",
       "        [6.5, 3. , 5.8, 2.2],\n",
       "        [7.6, 3. , 6.6, 2.1],\n",
       "        [4.9, 2.5, 4.5, 1.7],\n",
       "        [7.3, 2.9, 6.3, 1.8],\n",
       "        [6.7, 2.5, 5.8, 1.8],\n",
       "        [7.2, 3.6, 6.1, 2.5],\n",
       "        [6.5, 3.2, 5.1, 2. ],\n",
       "        [6.4, 2.7, 5.3, 1.9],\n",
       "        [6.8, 3. , 5.5, 2.1],\n",
       "        [5.7, 2.5, 5. , 2. ],\n",
       "        [5.8, 2.8, 5.1, 2.4],\n",
       "        [6.4, 3.2, 5.3, 2.3],\n",
       "        [6.5, 3. , 5.5, 1.8],\n",
       "        [7.7, 3.8, 6.7, 2.2],\n",
       "        [7.7, 2.6, 6.9, 2.3],\n",
       "        [6. , 2.2, 5. , 1.5],\n",
       "        [6.9, 3.2, 5.7, 2.3],\n",
       "        [5.6, 2.8, 4.9, 2. ],\n",
       "        [7.7, 2.8, 6.7, 2. ],\n",
       "        [6.3, 2.7, 4.9, 1.8],\n",
       "        [6.7, 3.3, 5.7, 2.1],\n",
       "        [7.2, 3.2, 6. , 1.8],\n",
       "        [6.2, 2.8, 4.8, 1.8],\n",
       "        [6.1, 3. , 4.9, 1.8],\n",
       "        [6.4, 2.8, 5.6, 2.1],\n",
       "        [7.2, 3. , 5.8, 1.6],\n",
       "        [7.4, 2.8, 6.1, 1.9],\n",
       "        [7.9, 3.8, 6.4, 2. ],\n",
       "        [6.4, 2.8, 5.6, 2.2],\n",
       "        [6.3, 2.8, 5.1, 1.5],\n",
       "        [6.1, 2.6, 5.6, 1.4],\n",
       "        [7.7, 3. , 6.1, 2.3],\n",
       "        [6.3, 3.4, 5.6, 2.4],\n",
       "        [6.4, 3.1, 5.5, 1.8],\n",
       "        [6. , 3. , 4.8, 1.8],\n",
       "        [6.9, 3.1, 5.4, 2.1],\n",
       "        [6.7, 3.1, 5.6, 2.4],\n",
       "        [6.9, 3.1, 5.1, 2.3],\n",
       "        [5.8, 2.7, 5.1, 1.9],\n",
       "        [6.8, 3.2, 5.9, 2.3],\n",
       "        [6.7, 3.3, 5.7, 2.5],\n",
       "        [6.7, 3. , 5.2, 2.3],\n",
       "        [6.3, 2.5, 5. , 1.9],\n",
       "        [6.5, 3. , 5.2, 2. ],\n",
       "        [6.2, 3.4, 5.4, 2.3],\n",
       "        [5.9, 3. , 5.1, 1.8]]),\n",
       " 'target': array([0, 0, 0, 0, 0, 0, 0, 0, 0, 0, 0, 0, 0, 0, 0, 0, 0, 0, 0, 0, 0, 0,\n",
       "        0, 0, 0, 0, 0, 0, 0, 0, 0, 0, 0, 0, 0, 0, 0, 0, 0, 0, 0, 0, 0, 0,\n",
       "        0, 0, 0, 0, 0, 0, 1, 1, 1, 1, 1, 1, 1, 1, 1, 1, 1, 1, 1, 1, 1, 1,\n",
       "        1, 1, 1, 1, 1, 1, 1, 1, 1, 1, 1, 1, 1, 1, 1, 1, 1, 1, 1, 1, 1, 1,\n",
       "        1, 1, 1, 1, 1, 1, 1, 1, 1, 1, 1, 1, 2, 2, 2, 2, 2, 2, 2, 2, 2, 2,\n",
       "        2, 2, 2, 2, 2, 2, 2, 2, 2, 2, 2, 2, 2, 2, 2, 2, 2, 2, 2, 2, 2, 2,\n",
       "        2, 2, 2, 2, 2, 2, 2, 2, 2, 2, 2, 2, 2, 2, 2, 2, 2, 2]),\n",
       " 'frame': None,\n",
       " 'target_names': array(['setosa', 'versicolor', 'virginica'], dtype='<U10'),\n",
       " 'DESCR': '.. _iris_dataset:\\n\\nIris plants dataset\\n--------------------\\n\\n**Data Set Characteristics:**\\n\\n    :Number of Instances: 150 (50 in each of three classes)\\n    :Number of Attributes: 4 numeric, predictive attributes and the class\\n    :Attribute Information:\\n        - sepal length in cm\\n        - sepal width in cm\\n        - petal length in cm\\n        - petal width in cm\\n        - class:\\n                - Iris-Setosa\\n                - Iris-Versicolour\\n                - Iris-Virginica\\n                \\n    :Summary Statistics:\\n\\n    ============== ==== ==== ======= ===== ====================\\n                    Min  Max   Mean    SD   Class Correlation\\n    ============== ==== ==== ======= ===== ====================\\n    sepal length:   4.3  7.9   5.84   0.83    0.7826\\n    sepal width:    2.0  4.4   3.05   0.43   -0.4194\\n    petal length:   1.0  6.9   3.76   1.76    0.9490  (high!)\\n    petal width:    0.1  2.5   1.20   0.76    0.9565  (high!)\\n    ============== ==== ==== ======= ===== ====================\\n\\n    :Missing Attribute Values: None\\n    :Class Distribution: 33.3% for each of 3 classes.\\n    :Creator: R.A. Fisher\\n    :Donor: Michael Marshall (MARSHALL%PLU@io.arc.nasa.gov)\\n    :Date: July, 1988\\n\\nThe famous Iris database, first used by Sir R.A. Fisher. The dataset is taken\\nfrom Fisher\\'s paper. Note that it\\'s the same as in R, but not as in the UCI\\nMachine Learning Repository, which has two wrong data points.\\n\\nThis is perhaps the best known database to be found in the\\npattern recognition literature.  Fisher\\'s paper is a classic in the field and\\nis referenced frequently to this day.  (See Duda & Hart, for example.)  The\\ndata set contains 3 classes of 50 instances each, where each class refers to a\\ntype of iris plant.  One class is linearly separable from the other 2; the\\nlatter are NOT linearly separable from each other.\\n\\n.. topic:: References\\n\\n   - Fisher, R.A. \"The use of multiple measurements in taxonomic problems\"\\n     Annual Eugenics, 7, Part II, 179-188 (1936); also in \"Contributions to\\n     Mathematical Statistics\" (John Wiley, NY, 1950).\\n   - Duda, R.O., & Hart, P.E. (1973) Pattern Classification and Scene Analysis.\\n     (Q327.D83) John Wiley & Sons.  ISBN 0-471-22361-1.  See page 218.\\n   - Dasarathy, B.V. (1980) \"Nosing Around the Neighborhood: A New System\\n     Structure and Classification Rule for Recognition in Partially Exposed\\n     Environments\".  IEEE Transactions on Pattern Analysis and Machine\\n     Intelligence, Vol. PAMI-2, No. 1, 67-71.\\n   - Gates, G.W. (1972) \"The Reduced Nearest Neighbor Rule\".  IEEE Transactions\\n     on Information Theory, May 1972, 431-433.\\n   - See also: 1988 MLC Proceedings, 54-64.  Cheeseman et al\"s AUTOCLASS II\\n     conceptual clustering system finds 3 classes in the data.\\n   - Many, many more ...',\n",
       " 'feature_names': ['sepal length (cm)',\n",
       "  'sepal width (cm)',\n",
       "  'petal length (cm)',\n",
       "  'petal width (cm)'],\n",
       " 'filename': 'C:\\\\Users\\\\derek\\\\anaconda3\\\\lib\\\\site-packages\\\\sklearn\\\\datasets\\\\data\\\\iris.csv'}"
      ]
     },
     "execution_count": 3,
     "metadata": {},
     "output_type": "execute_result"
    }
   ],
   "source": [
    "iris"
   ]
  },
  {
   "cell_type": "code",
   "execution_count": 4,
   "id": "a6f53449",
   "metadata": {},
   "outputs": [
    {
     "name": "stdout",
     "output_type": "stream",
     "text": [
      "50\n",
      "50\n",
      "50\n"
     ]
    }
   ],
   "source": [
    "versicolor_petal_length = petal_length[50:100]\n",
    "setosa_petal_length = petal_length[:50]\n",
    "virginica_petal_length = petal_length[100:]\n",
    "\n",
    "print(len(versicolor_petal_length))\n",
    "print(len(setosa_petal_length))\n",
    "print(len(virginica_petal_length))"
   ]
  },
  {
   "cell_type": "code",
   "execution_count": 5,
   "id": "ecfdac6a",
   "metadata": {},
   "outputs": [
    {
     "name": "stdout",
     "output_type": "stream",
     "text": [
      "     sepal lenth (cm)  sepal width (cm)  petal length (cm)  petal width (cm)  \\\n",
      "0                 5.1               3.5                1.4               0.2   \n",
      "1                 4.9               3.0                1.4               0.2   \n",
      "2                 4.7               3.2                1.3               0.2   \n",
      "3                 4.6               3.1                1.5               0.2   \n",
      "4                 5.0               3.6                1.4               0.2   \n",
      "..                ...               ...                ...               ...   \n",
      "145               6.7               3.0                5.2               2.3   \n",
      "146               6.3               2.5                5.0               1.9   \n",
      "147               6.5               3.0                5.2               2.0   \n",
      "148               6.2               3.4                5.4               2.3   \n",
      "149               5.9               3.0                5.1               1.8   \n",
      "\n",
      "       species  \n",
      "0       setosa  \n",
      "1       setosa  \n",
      "2       setosa  \n",
      "3       setosa  \n",
      "4       setosa  \n",
      "..         ...  \n",
      "145  virginica  \n",
      "146  virginica  \n",
      "147  virginica  \n",
      "148  virginica  \n",
      "149  virginica  \n",
      "\n",
      "[150 rows x 5 columns]\n"
     ]
    }
   ],
   "source": [
    "headers= ['sepal lenth (cm)', 'sepal width (cm)', 'petal length (cm)', 'petal width (cm)']\n",
    "df = pd.DataFrame(data, columns = headers)\n",
    "species = []\n",
    "for x in iris['target']:\n",
    "    if x == 0:\n",
    "        species.append('setosa')\n",
    "    if x ==1:\n",
    "        species.append('versicolor')\n",
    "    if x==2:\n",
    "        species.append('virginica')\n",
    "\n",
    "df['species'] = species\n",
    "print(df)\n"
   ]
  },
  {
   "cell_type": "markdown",
   "id": "3946c394",
   "metadata": {},
   "source": [
    "# Plotting a histogram of iris data\n",
    "For the exercises in this section, you will use a classic data set collected by botanist Edward Anderson and made famous by Ronald Fisher, one of the most prolific statisticians in history. Anderson carefully measured the anatomical properties of samples of three different species of iris, Iris setosa, Iris versicolor, and Iris virginica. The full data set is available as part of scikit-learn. Here, you will work with his measurements of petal length.\n",
    "\n",
    "Plot a histogram of the petal lengths of his 50 samples of Iris versicolor using matplotlib/seaborn's default settings. Recall that to specify the default seaborn style, you can use sns.set(), where sns is the alias that seaborn is imported as.\n",
    "\n",
    "The subset of the data set containing the Iris versicolor petal lengths in units of centimeters (cm) is stored in the NumPy array versicolor_petal_length.\n",
    "\n",
    "In the video, Justin plotted the histograms by using the pandas library and indexing the DataFrame to extract the desired column. Here, however, you only need to use the provided NumPy array. Also, Justin assigned his plotting statements (except for plt.show()) to the dummy variable _. This is to prevent unnecessary output from being displayed. It is not required for your solutions to these exercises, however it is good practice to use it. Alternatively, if you are working in an interactive environment such as a Jupyter notebook, you could use a ; after your plotting statements to achieve the same effect. Justin prefers using _. Therefore, you will see it used in the solution code.\n",
    "\n",
    "Instructions\n",
    "70 XP\n",
    "Import matplotlib.pyplot and seaborn as their usual aliases (plt and sns).\n",
    "Use seaborn to set the plotting defaults.\n",
    "Plot a histogram of the Iris versicolor petal lengths using plt.hist() and the provided NumPy array versicolor_petal_length.\n",
    "Show the histogram using plt.show()."
   ]
  },
  {
   "cell_type": "code",
   "execution_count": 6,
   "id": "dd4e02bf",
   "metadata": {},
   "outputs": [
    {
     "data": {
      "image/png": "[encoded data removed]",
      "text/plain": [
       "<Figure size 432x288 with 1 Axes>"
      ]
     },
     "metadata": {},
     "output_type": "display_data"
    }
   ],
   "source": [
    "# Import plotting modules\n",
    "import matplotlib.pyplot as plt\n",
    "import seaborn as sns\n",
    "\n",
    "\n",
    "# Set default Seaborn style\n",
    "sns.set()\n",
    "\n",
    "# Plot histogram of versicolor petal lengths\n",
    "plt.hist(versicolor_petal_length)\n",
    "\n",
    "# Show histogram\n",
    "plt.show()\n",
    "\n"
   ]
  },
  {
   "cell_type": "markdown",
   "id": "74775989",
   "metadata": {},
   "source": [
    "# Axis labels!\n",
    "In the last exercise, you made a nice histogram of petal lengths of Iris versicolor, but you didn't label the axes! That's ok; it's not your fault since we didn't ask you to. Now, add axis labels to the plot using plt.xlabel() and plt.ylabel(). Don't forget to add units and assign both statements to _. The packages matplotlib.pyplot and seaborn are already imported with their standard aliases. This will be the case in what follows, unless specified otherwise.\n",
    "\n",
    "Instructions\n",
    "100 XP\n",
    "Label the axes. Don't forget that you should always include units in your axis labels. Your -axis label is just 'count'. Your -axis label is 'petal length (cm)'. The units are essential!\n",
    "Display the plot constructed in the above steps using plt.show().# "
   ]
  },
  {
   "cell_type": "code",
   "execution_count": 7,
   "id": "910b2f5e",
   "metadata": {},
   "outputs": [
    {
     "data": {
      "image/png": "[encoded data removed]",
      "text/plain": [
       "<Figure size 432x288 with 1 Axes>"
      ]
     },
     "metadata": {},
     "output_type": "display_data"
    }
   ],
   "source": [
    "# Plot histogram of versicolor petal lengths\n",
    "_ = plt.hist(versicolor_petal_length)\n",
    "\n",
    "# Label axes\n",
    "plt.xlabel('petal length (cm)')\n",
    "plt.ylabel('count')\n",
    "\n",
    "# Show histogram\n",
    "plt.show()\n"
   ]
  },
  {
   "cell_type": "markdown",
   "id": "fe4952f7",
   "metadata": {},
   "source": [
    "# Adjusting the number of bins in a histogram\n",
    "The histogram you just made had ten bins. This is the default of matplotlib. The \"square root rule\" is a commonly-used rule of thumb for choosing number of bins: choose the number of bins to be the square root of the number of samples. Plot the histogram of Iris versicolor petal lengths again, this time using the square root rule for the number of bins. You specify the number of bins using the bins keyword argument of plt.hist().\n",
    "\n",
    "The plotting utilities are already imported and the seaborn defaults already set. The variable you defined in the last exercise, versicolor_petal_length, is already in your namespace.\n",
    "\n",
    "Instructions\n",
    "100 XP\n",
    "Import numpy as np. This gives access to the square root function, np.sqrt().\n",
    "Determine how many data points you have using len().\n",
    "Compute the number of bins using the square root rule.\n",
    "Convert the number of bins to an integer using the built in int() function.\n",
    "Generate the histogram and make sure to use the bins keyword argument.\n",
    "Hit 'Submit Answer' to plot the figure and see the fruit of your labors!"
   ]
  },
  {
   "cell_type": "code",
   "execution_count": 8,
   "id": "27882483",
   "metadata": {},
   "outputs": [
    {
     "data": {
      "image/png": "[encoded data removed]",
      "text/plain": [
       "<Figure size 432x288 with 1 Axes>"
      ]
     },
     "metadata": {},
     "output_type": "display_data"
    }
   ],
   "source": [
    "# Import numpy\n",
    "import numpy as np\n",
    "\n",
    "# Compute number of data points: n_data\n",
    "n_data = len(versicolor_petal_length)\n",
    "\n",
    "# Number of bins is the square root of number of data points: n_bins\n",
    "n_bins = np.sqrt(n_data)\n",
    "\n",
    "# Convert number of bins to integer: n_bins\n",
    "n_bins = int(n_bins)\n",
    "\n",
    "# Plot the histogram\n",
    "plt.hist(versicolor_petal_length, bins = n_bins)\n",
    "\n",
    "# Label axes\n",
    "_ = plt.xlabel('petal length (cm)')\n",
    "_ = plt.ylabel('count')\n",
    "\n",
    "# Show histogram\n",
    "plt.show()"
   ]
  },
  {
   "cell_type": "markdown",
   "id": "731dfc16",
   "metadata": {},
   "source": [
    "# Bee swarm plot\n",
    "Make a bee swarm plot of the iris petal lengths. Your x-axis should contain each of the three species, and the y-axis the petal lengths. A data frame containing the data is in your namespace as df.\n",
    "\n",
    "For your reference, the code Justin used to create the bee swarm plot in the video is provided below:\n",
    "\n",
    "_ = sns.swarmplot(x='state', y='dem_share', data=df_swing)\n",
    "_ = plt.xlabel('state')\n",
    "_ = plt.ylabel('percent of vote for Obama')\n",
    "plt.show()\n",
    "In the IPython Shell, you can use sns.swarmplot? or help(sns.swarmplot) for more details on how to make bee swarm plots using seaborn.\n",
    "\n",
    "Instructions\n",
    "0 XP\n",
    "In the IPython Shell, inspect the DataFrame df using df.head(). This will let you identify which column names you need to pass as the x and y keyword arguments in your call to sns.swarmplot().\n",
    "Use sns.swarmplot() to make a bee swarm plot from the DataFrame containing the Fisher iris data set, df. The x-axis should contain each of the three species, and the y-axis should contain the petal lengths.\n",
    "Label the axes.\n",
    "Show your plot.\n",
    "\n",
    "Hint\n",
    "df.head() will show you that the DataFrame has 5 columns. However, only two of these are of interest to us: species, and petal length (cm).\n",
    "If you are unsure of how to use sns.swarmplot(), either refer to the example in the exercise description or use help(sns.swarmplot) to look at the documentation. The function signature is sns.swarmplot(x = 'X axis', y = 'Y axis', data = 'DataFrame name').\n",
    "Label your axes as before with plt.xlabel() and plt.ylabel().\n",
    "Use plt.show() to display the plot."
   ]
  },
  {
   "cell_type": "code",
   "execution_count": 9,
   "id": "2bf4ee45",
   "metadata": {},
   "outputs": [
    {
     "data": {
      "image/png": "[encoded data removed]",
      "text/plain": [
       "<Figure size 432x288 with 1 Axes>"
      ]
     },
     "metadata": {},
     "output_type": "display_data"
    }
   ],
   "source": [
    "# Create bee swarm plot with Seaborn's default settings\n",
    "_ = sns.stripplot(x='species', y='petal length (cm)', data=df)\n",
    "\n",
    "# Label the axes\n",
    "_ = plt.xlabel('species')\n",
    "_ = plt.ylabel('petal length (cm)')\n",
    "\n",
    "# Show the plot\n",
    "plt.show()\n"
   ]
  },
  {
   "cell_type": "markdown",
   "id": "e5806e6b",
   "metadata": {},
   "source": [
    "# 1. Plot all of your data: ECDFs\n",
    "We saw in the last video the clarity of bee swarm plots.\n",
    "\n",
    "2. 2008 US swing state election results\n",
    "However, there is a limit to their efficacy. For example, imagine we wanted to plot the county-level voting data for all states\n",
    "\n",
    "1 Data retrieved from Data.gov (https://www.data.gov/)\n",
    "3. 2008 US election results: East and West\n",
    "east of the Mississippi River and all states west. We make the swarm plot as before, but using a DataFrame that contains all states, with each classified as being east or west of the Mississippi. The bee swarm plot has a real problem. The edges have overlapping data points, which was necessary in order to fit all points onto the plot. We are now obfuscating data. So, using a bee swarm plot here is not the best option. As an alternative,\n",
    "\n",
    "1 Data retrieved from Data.gov (https://www.data.gov/)\n",
    "4. Empirical cumulative distribution function (ECDF)\n",
    "we can compute an empirical cumulative distribution function, or ECDF. Again, this is best explained by example. Here is a picture of an ECDF of the percentage of swing state votes that went to Obama. A x-value of an ECDF is the quantity you are measuring, in this case the percent of vote that sent to Obama. The y-value is the fraction of data points that have a value smaller than the corresponding x-value.\n",
    "\n",
    "1 Data retrieved from Data.gov (https://www.data.gov/)\n",
    "5. Empirical cumulative distribution function (ECDF)\n",
    "For example, 20% of counties in swing states had 36% or less of its people vote for Obama.\n",
    "\n",
    "1 Data retrieved from Data.gov (https://www.data.gov/)\n",
    "6. Empirical cumulative distribution function (ECDF)\n",
    "Similarly, 75% of counties in swing states had 50% or less of its people vote for Obama.\n",
    "\n",
    "1 Data retrieved from Data.gov (https://www.data.gov/)\n",
    "7. Making an ECDF\n",
    "Let's look at how to make one of these from our data. The x-axis is the sorted data. We need to generate it using the NumPy function sort, so we need to import Numpy, which we do using the alias np as is commonly done. The we can use np dot sort to generate our x-data. The y-axis is evenly spaced data points with a maximum of one, which we can generate using the np dot arange function and then dividing by the total number of data points. Once we specify the x and y values, we plot the points. By default, plt-dot-plot plots lines connecting the data points. To plot our ECDF, we just want points. To achieve this we pass the string period and the string 'none' to the keywords arguments marker and linestyle, respectively. As you remember from my forceful reminder in an earlier video, we label the axes. Finally, we use the plt dot margins function to make sure none of the data points run over the side of the plot area. Choosing a value of point-02 gives a 2% buffer all around the plot.\n",
    "\n",
    "8. 2008 US swing state election ECDF\n",
    "The result is the beautiful ECDF I just showed you. We can also easily plot multiple ECDFs on the same plot.\n",
    "\n",
    "1 Data retrieved from Data.gov (https://www.data.gov/)\n",
    "9. 2008 US swing state election ECDFs\n",
    "For example, here are the ECDFs for the three swing states. We see that Ohio and Pennsylvania were similar, with Pennsylvania having slightly more Democratic counties. Florida, on the other hand, had a greater fraction of heavily Republican counties. In my workflow, I almost always plot the ECDF first. It shows all the data and gives a complete picture of how the data are distributed.\n",
    "\n",
    "1 Data retrieved from Data.gov (https://www.data.gov/)\n",
    "10. Let's practice!\n",
    "But don't take my word for how great ECDFs are. You can see for yourself in the exercises!"
   ]
  },
  {
   "cell_type": "markdown",
   "id": "43f58f5f",
   "metadata": {},
   "source": [
    "# Computing the ECDF\n",
    "In this exercise, you will write a function that takes as input a 1D array of data and then returns the x and y values of the ECDF. You will use this function over and over again throughout this course and its sequel. ECDFs are among the most important plots in statistical analysis. You can write your own function, foo(x,y) according to the following skeleton:\n",
    "\n",
    "def foo(a,b):\n",
    "    \"\"\"State what function does here\"\"\"\n",
    "    # Computation performed here\n",
    "    return x, y\n",
    "The function foo() above takes two arguments a and b and returns two values x and y. The function header def foo(a,b): contains the function signature foo(a,b), which consists of the function name, along with its parameters. For more on writing your own functions, see DataCamp's course Python Data Science Toolbox (Part 1) here!\n",
    "\n",
    "Instructions\n",
    "100 XP\n",
    "Define a function with the signature ecdf(data). Within the function definition,\n",
    "Compute the number of data points, n, using the len() function.\n",
    "The -values are the sorted data. Use the np.sort() function to perform the sorting.\n",
    "The  data of the ECDF go from 1/n to 1 in equally spaced increments. You can construct this using np.arange(). Remember, however, that the end value in np.arange() is not inclusive. Therefore, np.arange() will need to go from 1 to n+1. Be sure to divide this by n.\n",
    "The function returns the values x and y."
   ]
  },
  {
   "cell_type": "code",
   "execution_count": 10,
   "id": "1c2ceb4b",
   "metadata": {},
   "outputs": [],
   "source": [
    "def ecdf(data):\n",
    "    \"\"\"Compute ECDF for a one-dimensional array of measurements.\"\"\"\n",
    "    # Number of data points: n\n",
    "    n = len(data)\n",
    "\n",
    "    # x-data for the ECDF: x\n",
    "    x = np.sort(data)\n",
    "\n",
    "    # y-data for the ECDF: y\n",
    "    y = np.arange(1, n+1) / n\n",
    "\n",
    "    return x, y\n"
   ]
  },
  {
   "cell_type": "markdown",
   "id": "1ef796d4",
   "metadata": {},
   "source": [
    "# Plotting the ECDF\n",
    "You will now use your ecdf() function to compute the ECDF for the petal lengths of Anderson's Iris versicolor flowers. You will then plot the ECDF. Recall that your ecdf() function returns two arrays so you will need to unpack them. An example of such unpacking is x, y = foo(data), for some function foo().\n",
    "\n",
    "Instructions\n",
    "0 XP\n",
    "Use ecdf() to compute the ECDF of versicolor_petal_length. Unpack the output into x_vers and y_vers.\n",
    "Plot the ECDF as dots. Remember to include marker = '.' and linestyle = 'none' in addition to x_vers and y_vers as arguments inside plt.plot().\n",
    "Label the axes. You can label the y-axis 'ECDF'.\n",
    "Show your plot.\n",
    "\n",
    "Hint\n",
    "Refer to the unpacking of the function foo() described above, substituting versicolor_petal_length, x_vers, and y_vers appropriately into the ecdf() function.\n",
    "plt.plot() has many parameters that we can use to stylize our plots. Here, we want the marker parameter to have the argument . and linestyle to have none, like so: plt.plot(x, y, marker = '.', linestyle = 'none').\n",
    "Use plt.xlabel() and plt.ylabel() to label the axes.\n",
    "As always, remember to display the plot with plt.show()."
   ]
  },
  {
   "cell_type": "code",
   "execution_count": 11,
   "id": "f6a0ca43",
   "metadata": {},
   "outputs": [
    {
     "data": {
      "image/png": "[encoded data removed]",
      "text/plain": [
       "<Figure size 432x288 with 1 Axes>"
      ]
     },
     "metadata": {},
     "output_type": "display_data"
    }
   ],
   "source": [
    "# Compute ECDF for versicolor data: x_vers, y_vers\n",
    "x_vers, y_vers = ecdf(versicolor_petal_length)\n",
    "\n",
    "# Generate plot\n",
    "_ = plt.plot(x_vers, y_vers, marker='.', linestyle='none')\n",
    "\n",
    "# Label the axes\n",
    "_ = plt.xlabel('petal length (cm)')\n",
    "_ = plt.ylabel('ECDF')\n",
    "\n",
    "# Display the plot\n",
    "plt.show()\n"
   ]
  },
  {
   "cell_type": "markdown",
   "id": "d1e88bf2",
   "metadata": {},
   "source": [
    "# Comparison of ECDFs\n",
    "ECDFs also allow you to compare two or more distributions (though plots get cluttered if you have too many). Here, you will plot ECDFs for the petal lengths of all three iris species. You already wrote a function to generate ECDFs so you can put it to good use!\n",
    "\n",
    "To overlay all three ECDFs on the same plot, you can use plt.plot() three times, once for each ECDF. Remember to include marker='.' and linestyle='none' as arguments inside plt.plot().\n",
    "\n",
    "Instructions\n",
    "70 XP\n",
    "Compute ECDFs for each of the three species using your ecdf() function. The variables setosa_petal_length, versicolor_petal_length, and virginica_petal_length are all in your namespace. Unpack the ECDFs into x_set, y_set, x_vers, y_vers and x_virg, y_virg, respectively.\n",
    "Plot all three ECDFs on the same plot as dots. To do this, you will need three plt.plot() commands. Assign the result of each to _.\n",
    "A legend and axis labels have been added for you, so hit 'Submit Answer' to see all the ECDFs!\n",
    "\n",
    "\n",
    "Show Answer (-70 XP)\n",
    "Hint\n",
    "Follow exactly the same procedure as you did in the previous exercise, changing variable names appropriately! You should call the ecdf() function three times - once for each species - and have three plotting statements - one for each plot! plt.plot() can be used to achieve this: Each time you call it, it will draw a line on the same plot."
   ]
  },
  {
   "cell_type": "code",
   "execution_count": 12,
   "id": "1cff95d3",
   "metadata": {},
   "outputs": [
    {
     "data": {
      "image/png": "[encoded data removed]",
      "text/plain": [
       "<Figure size 432x288 with 1 Axes>"
      ]
     },
     "metadata": {},
     "output_type": "display_data"
    }
   ],
   "source": [
    "# Compute ECDFs\n",
    "x_set,y_set = ecdf(setosa_petal_length)\n",
    "x_vers,y_vers = ecdf(versicolor_petal_length)\n",
    "x_virg,y_virg = ecdf(virginica_petal_length)\n",
    "\n",
    "\n",
    "# Plot all ECDFs on the same plot\n",
    "_ = plt.plot(x_set,y_set, marker='.', linestyle='none')\n",
    "_ = plt.plot(x_vers, y_vers, marker='.', linestyle='none')\n",
    "_ = plt.plot(x_virg,y_virg, marker='.', linestyle='none')\n",
    "\n",
    "\n",
    "\n",
    "# Annotate the plot\n",
    "plt.legend(('setosa', 'versicolor', 'virginica'), loc='lower right')\n",
    "_ = plt.xlabel('petal length (cm)')\n",
    "_ = plt.ylabel('ECDF')\n",
    "\n",
    "# Display the plot\n",
    "plt.show()"
   ]
  },
  {
   "cell_type": "markdown",
   "id": "036a0787",
   "metadata": {},
   "source": [
    "# 1. Onward toward the whole story!\n",
    "You now have some great graphical EDA tools.\n",
    "\n",
    "2. Insert title here...\n",
    "You can quickly generate and investigate a histogram. You can immediately get a feel for your data by plotting all of them, with bee swarm plots or ECDFs. In almost every data set we encounter in this course, and in its sequel, and also in real life, we start with graphical EDA. Remember what Tukey said,\n",
    "\n",
    "3. “Exploratory data analysis can never be the whole story, but nothing else can serve as the foundation stone.” — John Tukey\n",
    "\"Exploratory data analysis can never be the whole story, but nothing else can serve as the foundation stone.\"\n",
    "\n",
    "4. Coming up…\n",
    "In the next chapter, you will build upon graphical EDA with quantitative EDA, which allows you to compute useful summary statistics. With your foundation stone in place, you will spend the last half of this course learning to think probabilistically. You will learn about probability distributions for both discrete and continuous variables, which provide the mathematical foundation for you to draw meaningful conclusions from your data. We will not get mired in mathematical details, but rather will unleash the power of the NumPy random module to use hacker statistics in order to simulate the probabilistic stories and distributions that we encounter. You will find that by writing a few lines of Python code, you can perform even putatively complicated statistical analyses. As you work through this course and its sequel, you will grow ever closer to being able to tell what Tukey calls \"the whole story.\"\n",
    "\n",
    "5. Let's practice!\n",
    "Now, let's get to work!"
   ]
  },
  {
   "cell_type": "code",
   "execution_count": 13,
   "id": "ff024ca4",
   "metadata": {},
   "outputs": [],
   "source": [
    "df.to_csv('iris_data.csv')"
   ]
  },
  {
   "cell_type": "code",
   "execution_count": null,
   "id": "dc61aaab",
   "metadata": {},
   "outputs": [],
   "source": []
  }
 ],
 "metadata": {
  "kernelspec": {
   "display_name": "Python 3",
   "language": "python",
   "name": "python3"
  },
  "language_info": {
   "codemirror_mode": {
    "name": "ipython",
    "version": 3
   },
   "file_extension": ".py",
   "mimetype": "text/x-python",
   "name": "python",
   "nbconvert_exporter": "python",
   "pygments_lexer": "ipython3",
   "version": "3.8.8"
  },
  "widgets": {
   "application/vnd.jupyter.widget-state+json": {
    "state": {},
    "version_major": 2,
    "version_minor": 0
   }
  }
 },
 "nbformat": 4,
 "nbformat_minor": 5
}
