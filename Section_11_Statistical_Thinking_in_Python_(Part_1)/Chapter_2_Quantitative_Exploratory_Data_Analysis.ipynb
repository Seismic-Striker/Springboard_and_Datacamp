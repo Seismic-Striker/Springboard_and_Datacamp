{
 "cells": [
  {
   "cell_type": "code",
   "execution_count": 1,
   "id": "a77db955",
   "metadata": {},
   "outputs": [],
   "source": [
    "from sklearn.datasets import load_iris\n",
    "import pandas as pd\n",
    "import matplotlib.pyplot as plt\n",
    "import seaborn as sns\n",
    "import numpy as np"
   ]
  },
  {
   "cell_type": "code",
   "execution_count": 2,
   "id": "11c4c9a1",
   "metadata": {},
   "outputs": [],
   "source": [
    "iris = load_iris()\n",
    "data = (iris['data'])\n",
    "def Extract(lst):\n",
    "    return [item[2] for item in lst]\n",
    "def extractwidth(lst):\n",
    "    return [item[3] for item in lst]\n",
    "petal_width = extractwidth(data)\n",
    "versicolor_petal_width = petal_width[50:100]\n",
    "setosa_petal_width = petal_width[:50]\n",
    "virginica_petal_width = petal_width[100:]\n",
    "petal_length = Extract(data)\n",
    "versicolor_petal_length = petal_length[50:100]\n",
    "setosa_petal_length = petal_length[:50]\n",
    "virginica_petal_length = petal_length[100:]\n",
    "headers= ['sepal lenth (cm)', 'sepal width (cm)', 'petal length (cm)', 'petal width (cm)']\n",
    "df = pd.read_csv('iris_data.csv')\n"
   ]
  },
  {
   "cell_type": "code",
   "execution_count": 3,
   "id": "7a9a7645",
   "metadata": {},
   "outputs": [],
   "source": [
    "def ecdf(data):\n",
    "    \"\"\"Compute ECDF for a one-dimensional array of measurements.\"\"\"\n",
    "    # Number of data points: n\n",
    "    n = len(data)\n",
    "    # x-data for the ECDF: x\n",
    "    x = np.sort(data)\n",
    "    # y-data for the ECDF: y\n",
    "    y = np.arange(1, n+1) / n\n",
    "    return x, y\n",
    "\n",
    "x_set,y_set = ecdf(setosa_petal_length)\n",
    "x_vers,y_vers = ecdf(versicolor_petal_length)\n",
    "x_virg,y_virg = ecdf(virginica_petal_length)"
   ]
  },
  {
   "cell_type": "markdown",
   "id": "ded06172",
   "metadata": {},
   "source": [
    "# 1. Introduction to summary statistics: The sample mean and median\n",
    "We have seen that histograms, bee swarm plots, and ECDFs provide effective summaries of data. But we often would like to summarize data even more succinctly, say in one or two numbers. These numerical summaries are not by any stretch a substitute for the graphical methods we have been employing, but they do take up a lot less real estate.\n",
    "\n",
    "2. 2008 US swing state election results\n",
    "Let's go back to the election data from the swing states again. If we could summarize the percentage of the votes for Obama at the county level in Pennsylvania in one number, what would we choose? The first number that pops into my mind is\n",
    "\n",
    "1 Data retrieved from Data.gov (https://www.data.gov/)\n",
    "3. 2008 US swing state election results\n",
    "the mean. The mean for a given state is just the average percentage of votes over the counties. If we add the means as horizontal lines to the bee swarm plot, we see that they are a reasonable summary of the data.\n",
    "\n",
    "1 Data retrieved from Data.gov (https://www.data.gov/)\n",
    "4. Mean vote percentage\n",
    "To compute the mean of a set of data, we use the np dot mean function, here used to compute the mean county-level vote for Obama in Pennsylvania. To put it precisely, the mean, written here as x-bar, is the sum of all the data, divided by the number n of data points. Now, the mean is a useful statistic and easy to calculate, but a major problem is that it is heavily influenced\n",
    "\n",
    "5. Outliers\n",
    "by outliers, or data points whose value is far greater or less than most of the rest of the data. Consider the county-level\n",
    "\n",
    "6. 2008 Utah election results\n",
    "votes for Utah in the 2008 election. There are five counties that have high vote share for Obama, one of which has almost 60%. Even though the majority of the counties in Utah had less than 25% voting for Obama,\n",
    "\n",
    "1 Data retrieved from Data.gov (https://www.data.gov/)\n",
    "7. 2008 Utah election results\n",
    "these anomalous counties pull the mean higher up. So, when we compute the mean, we get about 28%. We might like a summary statistic that is immune to extreme data.\n",
    "\n",
    "1 Data retrieved from Data.gov (https://www.data.gov/)\n",
    "8. The median\n",
    "The median provides exactly that. The median is the middle value of a data set. It is defined by how it is calculated: sort the the data and choosing the datum in the middle. Because it is derived from the ranking of sorted data, and not on the values of the data, the median is immune to data that take on extreme values.\n",
    "\n",
    "9. 2008 Utah election results\n",
    "Here it is displayed on the bee swarm plot. It is not tugged up by the counties with large fraction of votes for Obama.\n",
    "\n",
    "1 Data retrieved from Data.gov (https://www.data.gov/)\n",
    "10. Computing the median\n",
    "The median is computed by simply calling the np dot median function.\n",
    "\n",
    "11. Let's practice!\n",
    "Now let's practice using these two powerful and ubiquitous summary statistics!"
   ]
  },
  {
   "cell_type": "markdown",
   "id": "51e8adba",
   "metadata": {},
   "source": [
    "# Computing means\n",
    "The mean of all measurements gives an indication of the typical magnitude of a measurement. It is computed using np.mean().\n",
    "\n",
    "Instructions\n",
    "70 XP\n",
    "Compute the mean petal length of Iris versicolor from Anderson's classic data set. The variable versicolor_petal_length is provided in your namespace. Assign the mean to mean_length_vers.\n",
    "Hit submit to print the result.\n",
    "\n",
    "\n",
    "Show Answer (-70 XP)\n",
    "Hint\n",
    "The statement variable_mean = np.mean(variable_name) calculates the mean of variable_name and assigns it to variable_mean. Refer to the variable name mentioned in the instruction to compute the mean petal length of Iris versicolor."
   ]
  },
  {
   "cell_type": "code",
   "execution_count": 4,
   "id": "287cf414",
   "metadata": {},
   "outputs": [
    {
     "name": "stdout",
     "output_type": "stream",
     "text": [
      "I. versicolor: 4.26 cm\n"
     ]
    }
   ],
   "source": [
    "# Compute the mean: mean_length_vers\n",
    "mean_length_vers = np.mean(versicolor_petal_length)\n",
    "\n",
    "# Print the result with some nice formatting\n",
    "print('I. versicolor:', mean_length_vers, 'cm')"
   ]
  },
  {
   "cell_type": "markdown",
   "id": "f4b72b15",
   "metadata": {},
   "source": [
    "# 1. Percentiles, outliers, and box plots\n",
    "The median is a special name for the 50th percentile;\n",
    "\n",
    "2. Percentiles on an ECDF\n",
    "that is 50% of\n",
    "\n",
    "1 Data retrieved from Data.gov (https://www.data.gov/)\n",
    "3. Percentiles on an ECDF\n",
    "the data are less than the median. Similarly, the 25th percentile\n",
    "\n",
    "4. Percentiles on an ECDF\n",
    "is the value of the data point that is greater than 25% of the sorted data, and so on for any\n",
    "\n",
    "5. Percentiles on an ECDF\n",
    "other percentile we want. Percentiles are useful summary statistics, and can be computed\n",
    "\n",
    "6. Computing percentiles\n",
    "using np dot percentile. We just pass a list of the percentiles we want (percentiles, not fractions), and it returns the data that match those percentiles. We can do this for all of the swing states. Let's compute the 25th, 50th, and 75th percentiles. We now have three summary statistics. Now the whole point of summary statistics was to keep things concise, but we're starting to get a lot of numbers here. Dealing with this issue is where quantitative EDA meets graphical EDA.\n",
    "\n",
    "7. 2008 US election box plot\n",
    "Box plots were invented by John Tukey himself to display some of the salient features of a data set based on percentiles. Here, we see a box plot showing Obama's vote share from states east and west of the Mississippi River. The center of box is the median,\n",
    "\n",
    "1 Data retrieved from Data.gov (https://www.data.gov/)\n",
    "8. 2008 US election box plot\n",
    "which we know is the 50th percentile of the data. The edges of the boxes\n",
    "\n",
    "9. 2008 US election box plot\n",
    "are the 25th and 75th percentile. The total height of the box contains the middle 50% of the data, and is called\n",
    "\n",
    "10. 2008 US election box plot\n",
    "the interquartile range, or IQR. The whiskers extend a distance\n",
    "\n",
    "11. 2008 US election box plot\n",
    "of 1-point-5 times the IQR, or to the extent of the data, whichever is more extreme. Finally, any points outside of the whiskers are plotted\n",
    "\n",
    "12. 2008 US election box plot\n",
    "as individual points, which we often demarcate as outliers. While there is no single definition for an outlier, being more than 2 IQRs away from the median is a common criterion. It is important to remember that an outlier is not necessarily an erroneous data point. You should not assume an outlier is erroneous unless you have some known reason to. Since there is zero evidence of any substantial voter fraud in the United States, these outliers are not erroneous. They are just data points with extreme values. When the number of data are very large and bee swarm plots are too cluttered, box plots are a great alternative. It makes sense, then, that constructing a box plot\n",
    "\n",
    "13. Generating a box plot\n",
    "using Seaborn is exactly the same as making a bee swarm plot; we just use sns dot boxplot. And of course we never forget to label the axes.\n",
    "\n",
    "14. Let's practice!\n",
    "All right, let's go have some fun computing percentiles and making box plots!"
   ]
  },
  {
   "cell_type": "markdown",
   "id": "ef0ce0a7",
   "metadata": {},
   "source": [
    "# Computing percentiles\n",
    "In this exercise, you will compute the percentiles of petal length of Iris versicolor.\n",
    "\n",
    "Instructions\n",
    "70 XP\n",
    "Create percentiles, a NumPy array of percentiles you want to compute. These are the 2.5th, 25th, 50th, 75th, and 97.5th. You can do so by creating a list containing these ints/floats and convert the list to a NumPy array using np.array(). For example, np.array([30, 50]) would create an array consisting of the 30th and 50th percentiles.\n",
    "Use np.percentile() to compute the percentiles of the petal lengths from the Iris versicolor samples. The variable versicolor_petal_length is in your namespace.\n",
    "Print the percentiles.\n",
    "\n",
    "\n",
    "Show Answer (-70 XP)\n",
    "Hint\n",
    "Create a list of percentiles you want to compute using [], with the percentiles (and not fractions) inside the square brackets. You can then convert it to a NumPy array by passing it as an argument to np.array().\n",
    "To compute the percentiles of the petal lengths of iris versicolor samples, pass in versicolor_petal_length along with the NumPy array of percentiles you created above as arguments to the function np.percentile(). Assign the result to ptiles_vers.\n",
    "Print ptiles_vers using the print() function."
   ]
  },
  {
   "cell_type": "code",
   "execution_count": 5,
   "id": "e1399009",
   "metadata": {},
   "outputs": [
    {
     "name": "stdout",
     "output_type": "stream",
     "text": [
      "[3.3    4.     4.35   4.6    4.9775]\n"
     ]
    }
   ],
   "source": [
    "# Specify array of percentiles: percentiles\n",
    "percentiles = np.array([2.5,25,50,75,97.5])\n",
    "\n",
    "# Compute percentiles: ptiles_vers\n",
    "ptiles_vers = np.percentile(versicolor_petal_length,percentiles)\n",
    "\n",
    "# Print the result\n",
    "print(ptiles_vers)"
   ]
  },
  {
   "cell_type": "markdown",
   "id": "ae5e5fc2",
   "metadata": {},
   "source": [
    "# Comparing percentiles to ECDF\n",
    "To see how the percentiles relate to the ECDF, you will plot the percentiles of Iris versicolor petal lengths you calculated in the last exercise on the ECDF plot you generated in chapter 1. The percentile variables from the previous exercise are available in the workspace as ptiles_vers and percentiles.\n",
    "\n",
    "Note that to ensure the Y-axis of the ECDF plot remains between 0 and 1, you will need to rescale the percentiles array accordingly - in this case, dividing it by 100.\n",
    "\n",
    "Instructions\n",
    "70 XP\n",
    "Plot the percentiles as red diamonds on the ECDF. Pass the x and y co-ordinates - ptiles_vers and percentiles/100 - as positional arguments and specify the marker='D', color='red' and linestyle='none' keyword arguments. The argument for the y-axis - percentiles/100 has been specified for you.\n",
    "Display the plot.\n",
    "\n",
    "\n",
    "Show Answer (-70 XP)\n",
    "Hint\n",
    "To overlay the percentiles, you will need to use plt.plot() with the x-axis data as the 1st positional argument and the the y-axis data (which has been specified for you) as the 2nd, in addition to the marker, color and linestyle arguments mentioned in the instructions. The x-axis data here is the array of percentiles of Iris versicolor you calculated earlier and stored in ptiles_vers, while the y-axis data is the array of percentiles you wanted to compute - percentiles - divided by 100 - as you want the y-axis to remain between 0 and 1."
   ]
  },
  {
   "cell_type": "code",
   "execution_count": 6,
   "id": "982963e4",
   "metadata": {},
   "outputs": [
    {
     "data": {
      "image/png": "[encoded data removed]",
      "text/plain": [
       "<Figure size 432x288 with 1 Axes>"
      ]
     },
     "metadata": {
      "needs_background": "light"
     },
     "output_type": "display_data"
    }
   ],
   "source": [
    "# Plot the ECDF\n",
    "_ = plt.plot(x_vers, y_vers, '.')\n",
    "_ = plt.xlabel('petal length (cm)')\n",
    "_ = plt.ylabel('ECDF')\n",
    "\n",
    "# Overlay percentiles as red diamonds.\n",
    "_ = plt.plot(ptiles_vers, percentiles/100, marker='D', color='red',\n",
    "         linestyle='none')\n",
    "\n",
    "# Show the plot\n",
    "plt.show()\n"
   ]
  },
  {
   "cell_type": "markdown",
   "id": "47d6480b",
   "metadata": {},
   "source": [
    "# Box-and-whisker plot\n",
    "Making a box plot for the petal lengths is unnecessary because the iris data set is not too large and the bee swarm plot works fine. However, it is always good to get some practice. Make a box plot of the iris petal lengths. You have a pandas DataFrame, df, which contains the petal length data, in your namespace. Inspect the data frame df in the IPython shell using df.head() to make sure you know what the pertinent columns are.\n",
    "\n",
    "For your reference, the code used to produce the box plot in the video is provided below:\n",
    "\n",
    "_ = sns.boxplot(x='east_west', y='dem_share', data=df_all_states)\n",
    "\n",
    "_ = plt.xlabel('region')\n",
    "\n",
    "_ = plt.ylabel('percent of vote for Obama')\n",
    "\n",
    "In the IPython Shell, you can use sns.boxplot? or help(sns.boxplot) for more details on how to make box plots using seaborn.\n",
    "\n",
    "Instructions\n",
    "100 XP\n",
    "The set-up is exactly the same as for the bee swarm plot; you just call sns.boxplot() with the same keyword arguments as you would sns.swarmplot(). The x-axis is 'species' and y-axis is 'petal length (cm)'.\n",
    "Don't forget to label your axes!\n",
    "Display the figure using the normal call.\n",
    "\n",
    "The function signature for Seaborn boxplots is sns.boxplot(x = 'X axis', y = 'Y axis', data = 'data frame name'). Use df.head() in the shell to inspect the data frame and take note of the column names. Of interest to us are species and petal length (cm)."
   ]
  },
  {
   "cell_type": "code",
   "execution_count": 7,
   "id": "9ac1ec30",
   "metadata": {},
   "outputs": [
    {
     "data": {
      "image/png": "[encoded data removed]",
      "text/plain": [
       "<Figure size 432x288 with 1 Axes>"
      ]
     },
     "metadata": {
      "needs_background": "light"
     },
     "output_type": "display_data"
    }
   ],
   "source": [
    "# Create box plot with Seaborn's default settings\n",
    "_ = sns.boxplot(x='species', y='petal length (cm)', data=df)\n",
    "\n",
    "# Label the axes\n",
    "_ = plt.xlabel('species')\n",
    "_ = plt.ylabel('petal length (cm)')\n",
    "\n",
    "# Show the plot\n",
    "plt.show()\n"
   ]
  },
  {
   "cell_type": "markdown",
   "id": "815d7c83",
   "metadata": {},
   "source": [
    "# Computing the variance\n",
    "It is important to have some understanding of what commonly-used functions are doing under the hood. Though you may already know how to compute variances, this is a beginner course that does not assume so. In this exercise, we will explicitly compute the variance of the petal length of Iris veriscolor using the equations discussed in the videos. We will then use np.var() to compute it.\n",
    "\n",
    "Instructions\n",
    "70 XP\n",
    "\n",
    "Create an array called differences that is the difference between the petal lengths (versicolor_petal_length) and the mean petal length. The variable versicolor_petal_length is already in your namespace as a NumPy array so you can take advantage of NumPy's vectorized operations.\n",
    "\n",
    "Square each element in this array. For example, x**2 squares each element in the array x. Store the result as diff_sq.\n",
    "\n",
    "Compute the mean of the elements in diff_sq using np.mean(). Store the result as variance_explicit.\n",
    "\n",
    "\n",
    "Compute the variance of versicolor_petal_length using np.var(). Store the result as variance_np.\n",
    "\n",
    "\n",
    "Print both variance_explicit and variance_np in one print call to make sure they are consistent.\n",
    "\n",
    "\n",
    "Hint\n",
    "NumPy's vectorized operations make it straightforward to perform quick computations over entire arrays. Here, you need to subtract the mean of versicolor_petal_length (calculated using np.mean()) from versicolor_petal_length - itself a NumPy array - and assign the result to differences.\n",
    "\n",
    "Here, you need to square each element in the differences array and assign the result to diff_sq.\n",
    "\n",
    "Use np.mean() to calculate the mean of diff_sq and assign the result to variance_explicit.\n",
    "\n",
    "Use np.var() just as you have been using np.mean() to calculate the variance of versicolor_petal_length, and assign the result to variance_np.\n",
    "\n",
    "You can pass in multiple arguments to one print call, like so: print(a, b)."
   ]
  },
  {
   "cell_type": "code",
   "execution_count": 8,
   "id": "1d5ba9a3",
   "metadata": {},
   "outputs": [
    {
     "name": "stdout",
     "output_type": "stream",
     "text": [
      "0.21640000000000004 0.21640000000000004\n"
     ]
    }
   ],
   "source": [
    "# Array of differences to mean: differences\n",
    "differences = versicolor_petal_length - np.mean(versicolor_petal_length)\n",
    "\n",
    "# Square the differences: diff_sq\n",
    "diff_sq = differences**2\n",
    "\n",
    "# Compute the mean square difference: variance_explicit\n",
    "variance_explicit = np.mean(diff_sq)\n",
    "\n",
    "# Compute the variance using NumPy: variance_np\n",
    "variance_np = np.var(versicolor_petal_length)\n",
    "\n",
    "# Print the results\n",
    "print(variance_explicit, variance_np)\n"
   ]
  },
  {
   "cell_type": "markdown",
   "id": "d4c6aff8",
   "metadata": {},
   "source": [
    "# The standard deviation and the variance\n",
    "As mentioned in the video, the standard deviation is the square root of the variance. You will see this for yourself by computing the standard deviation using np.std() and comparing it to what you get by computing the variance with np.var() and then computing the square root.\n",
    "\n",
    "Instructions\n",
    "70 XP\n",
    "Compute the variance of the data in the versicolor_petal_length array using np.var() and store it in a variable called variance.\n",
    "\n",
    "Print the square root of this value.\n",
    "\n",
    "Print the standard deviation of the data in the versicolor_petal_length array using np.std().\n",
    "\n",
    "\n",
    "\n",
    "Show Answer (-70 XP)\n",
    "Hint\n",
    "Use np.var() exactly as you did in the earlier exercise and assign the result to variance.\n",
    "Print the square root of variance using np.sqrt().\n",
    "Print the standard deviation of versicolor_petal_length using np.std(). (You can pass the exercise by using np.sqrt(variance) twice, but do try calculating the standard deviation!)"
   ]
  },
  {
   "cell_type": "code",
   "execution_count": 9,
   "id": "c075bbe6",
   "metadata": {},
   "outputs": [
    {
     "name": "stdout",
     "output_type": "stream",
     "text": [
      "0.4651881339845203\n",
      "0.4651881339845203\n"
     ]
    }
   ],
   "source": [
    "# Compute the variance: variance\n",
    "variance = np.var(versicolor_petal_length)\n",
    "\n",
    "# Print the square root of the variance\n",
    "print(np.sqrt(variance))\n",
    "\n",
    "# Print the standard deviation\n",
    "print(np.std(versicolor_petal_length))"
   ]
  },
  {
   "cell_type": "markdown",
   "id": "3b952e9e",
   "metadata": {},
   "source": [
    "# 1. Covariance and the Pearson correlation coefficient\n",
    "We have more data than just the vote share for Obama. We also know the total number of votes in each county. Let's look at how these two quantities vary together.\n",
    "\n",
    "2. 2008 US swing state election results\n",
    "We start by looking at a scatter plot of the county data for the three swing states, plotting the percent vote for Obama versus the total number of votes in each county. Immediately from the scatter plot, we see that\n",
    "\n",
    "3. 2008 US swing state election results\n",
    "the twelve most populous counties all voted for Obama, and that most of the counties\n",
    "\n",
    "4. 2008 US swing state election results\n",
    "with small populations voted for McCain.\n",
    "\n",
    "5. Generating a scatter plot\n",
    "To generate a scatter plot, we plot the data as points by setting the marker and linestyle keyword arguments of plt dot plot. (And of course we label the axes!) So, we have exposed another graphical EDA technique: scatter plots! We would like to have a summary statistic to go along with the information we have just gleaned from the scatter plot. We want a number that summarizes how Obama's vote share varies with the total vote count.\n",
    "\n",
    "6. Covariance\n",
    "One such statistic is the covariance. To understand where it comes from,\n",
    "\n",
    "7. Calculation of the covariance\n",
    "let's annotate the scatter plot with the means of the two quantities we are interested in. Now let's look at\n",
    "\n",
    "8. Calculation of the covariance\n",
    "this data point, from Lucas County, Ohio. This data point\n",
    "\n",
    "9. Calculation of the covariance\n",
    "differs from the mean vote share for Obama, and\n",
    "\n",
    "10. Calculation of the covariance\n",
    "the mean total votes. We can compute these differences for each data point. The covariance is the mean of the product of these differences. If x and y both tend to be above, or both below their respective means together, as they are in this data set, then the covariance is positive. This means that they are positively correlated: when x is high, so is y; when the county is populous, it has more votes for Obama. Conversely, if x is high while y is low, the covariance is negative, and the data are negatively correlated, or anticorrelated, which is not the case for this data set. We can compute the covariance using built-in NumPy functions you will use in the exercises. However, if we want to have a more generally applicable measure of how two variables depend on each other, we want it to be dimensionless, that is to not have any units.\n",
    "\n",
    "11. Pearson correlation coefficient\n",
    "So, we can divide the covariance by the standard deviations of the x and y variables. This is called the Pearson correlation coefficient, usually denoted by the Greek letter rho. It is a comparison of the variability in the data due to codependence (the covariance) to the variability inherent to each variable independently (their standard deviations). Conveniently, it is dimensionless and ranges from -1 (for complete anticorrelation) to 1 (for complete correlation).\n",
    "\n",
    "12. Pearson correlation coefficient examples\n",
    "A value of zero means that there is no correlation at all between the data, as shown in the plot on the upper left. Data with intermediate values are shown on the other plots. As you can see, the Pearson correlation coefficient is a good metric for correlation between two variables.\n",
    "\n",
    "13. Let's practice!\n",
    "Now that you know how what the Pearson correlation coefficient is and what it means, you can compute it in the exercises using Python. You will then have an added tool in your EDA summary statistics toolbox. Let's do it!"
   ]
  },
  {
   "cell_type": "markdown",
   "id": "a3141069",
   "metadata": {},
   "source": [
    "# Scatter plots\n",
    "When you made bee swarm plots, box plots, and ECDF plots in previous exercises, you compared the petal lengths of different species of iris. But what if you want to compare two properties of a single species? This is exactly what we will do in this exercise. We will make a scatter plot of the petal length and width measurements of Anderson's Iris versicolor flowers. If the flower scales (that is, it preserves its proportion as it grows), we would expect the length and width to be correlated.\n",
    "\n",
    "For your reference, the code used to produce the scatter plot in the video is provided below:\n",
    "\n",
    "_ = plt.plot(total_votes/1000, dem_share, marker='.', linestyle='none')\n",
    "\n",
    "_ = plt.xlabel('total votes (thousands)')\n",
    "\n",
    "_ = plt.ylabel('percent of vote for Obama')\n",
    "\n",
    "Instructions\n",
    "70 XP\n",
    "Use plt.plot() with the appropriate keyword arguments to make a scatter plot of versicolor petal length (x-axis) versus petal width (y-axis). The variables versicolor_petal_length and versicolor_petal_width are already in your namespace. Do not forget to use the marker='.' and linestyle='none' keyword arguments.\n",
    "Label the axes.\n",
    "Display the plot.\n",
    "\n",
    "\n",
    "Show Answer (-70 XP)\n",
    "Hint\n",
    "Refer back to the video to see how Justin creates a scatterplot of the election data. The function signature is plt.plot('X axis', 'Y axis', marker = '.', linestyle = 'none'). The X axis here is versicolor_petal_length, while the Y axis is versicolor_petal_width.\n",
    "Label axes using plt.xlabel('X axis name') and plt.ylabel('Y axis name').\n",
    "To display the plot, use plt.show()."
   ]
  },
  {
   "cell_type": "code",
   "execution_count": 10,
   "id": "bccd9283",
   "metadata": {},
   "outputs": [
    {
     "data": {
      "image/png": "[encoded data removed]",
      "text/plain": [
       "<Figure size 432x288 with 1 Axes>"
      ]
     },
     "metadata": {
      "needs_background": "light"
     },
     "output_type": "display_data"
    }
   ],
   "source": [
    "# Make a scatter plot\n",
    "_ = plt.plot(versicolor_petal_length, versicolor_petal_width,\n",
    "             marker='.', linestyle='none')\n",
    "\n",
    "# Label the axes\n",
    "_ = plt.xlabel('petal length (cm)')\n",
    "_ = plt.ylabel('petal width (cm)')\n",
    "\n",
    "# Show the result\n",
    "plt.show()\n"
   ]
  },
  {
   "cell_type": "markdown",
   "id": "f98cb7e6",
   "metadata": {},
   "source": [
    "# Computing the covariance\n",
    "The covariance may be computed using the Numpy function np.cov(). For example, we have two sets of data x and y, np.cov(x, y) returns a 2D array where entries [0,1] and [1,0] are the covariances. Entry [0,0] is the variance of the data in x, and entry [1,1] is the variance of the data in y. This 2D output array is called the covariance matrix, since it organizes the self- and covariance.\n",
    "\n",
    "To remind you how the I. versicolor petal length and width are related, we include the scatter plot you generated in a previous exercise.\n",
    "\n",
    "Instructions\n",
    "70 XP\n",
    "Use np.cov() to compute the covariance matrix for the petal length (versicolor_petal_length) and width (versicolor_petal_width) of I. versicolor.\n",
    "Print the covariance matrix.\n",
    "Extract the covariance from entry [0,1] of the covariance matrix. Note that by symmetry, entry [1,0] is the same as entry [0,1].\n",
    "Print the covariance.\n",
    "\n",
    "\n",
    "Show Answer (-70 XP)\n",
    "Hint\n",
    "To compute the covariance matrix, pass in the NumPy arrays whose covariance you want to compute - versicolor_petal_length and versicolor_petal_width - as arguments to np.cov(), and assign the result to covariance_matrix.\n",
    "To extract the covariance of length and width, you need to extract the entry [0,1] from the covariance matrix. For example, the entry [0,0] can be extracted by the statement covariance_matrix[0,0]."
   ]
  },
  {
   "cell_type": "code",
   "execution_count": 11,
   "id": "f55a0f76",
   "metadata": {},
   "outputs": [
    {
     "name": "stdout",
     "output_type": "stream",
     "text": [
      "[[0.22081633 0.07310204]\n",
      " [0.07310204 0.03910612]]\n",
      "0.07310204081632653\n"
     ]
    }
   ],
   "source": [
    "# Compute the covariance matrix: covariance_matrix\n",
    "covariance_matrix = np.cov(versicolor_petal_length, versicolor_petal_width)\n",
    "\n",
    "# Print covariance matrix\n",
    "print(covariance_matrix)\n",
    "\n",
    "# Extract covariance of length and width of petals: petal_cov\n",
    "petal_cov = covariance_matrix[0,1]\n",
    "\n",
    "# Print the length/width covariance\n",
    "print(petal_cov)\n"
   ]
  },
  {
   "cell_type": "markdown",
   "id": "f2ddf1c4",
   "metadata": {},
   "source": [
    "# Computing the Pearson correlation coefficient\n",
    "As mentioned in the video, the Pearson correlation coefficient, also called the Pearson r, is often easier to interpret than the covariance. It is computed using the np.corrcoef() function. Like np.cov(), it takes two arrays as arguments and returns a 2D array. Entries [0,0] and [1,1] are necessarily equal to 1 (can you think about why?), and the value we are after is entry [0,1].\n",
    "\n",
    "In this exercise, you will write a function, pearson_r(x, y) that takes in two arrays and returns the Pearson correlation coefficient. You will then use this function to compute it for the petal lengths and widths of I. versicolor.\n",
    "\n",
    "Again, we include the scatter plot you generated in a previous exercise to remind you how the petal width and length are related.\n",
    "\n",
    "Instructions\n",
    "70 XP\n",
    "Define a function with signature pearson_r(x, y).\n",
    "Use np.corrcoef() to compute the correlation matrix of x and y (pass them to np.corrcoef() in that order).\n",
    "The function returns entry [0,1] of the correlation matrix.\n",
    "Compute the Pearson correlation between the data in the arrays versicolor_petal_length and versicolor_petal_width. Assign the result to r.\n",
    "Print the result.\n",
    "\n",
    "\n",
    "Show Answer (-70 XP)\n",
    "Hint\n",
    "After filling in the blanks with the function signature specified in the instructions, you can calculate the correlation matrix by passing in x and y - in order - to np.corrcoef(). Store the result of this in corr_mat.\n",
    "To compute the Pearson correlation coefficient for I. versicolor, you can pass in the arrays versicolor_petal_length and versicolor_petal_width to the function pearson_r() that you just defined. Be sure to assign the result to r.\n",
    "Finally, use the print() function to display the Pearson correlation coefficient you just computed!"
   ]
  },
  {
   "cell_type": "code",
   "execution_count": 12,
   "id": "30058b84",
   "metadata": {},
   "outputs": [
    {
     "name": "stdout",
     "output_type": "stream",
     "text": [
      "0.7866680885228169\n"
     ]
    }
   ],
   "source": [
    "def pearson_r(x, y):\n",
    "    \"\"\"Compute Pearson correlation coefficient between two arrays.\"\"\"\n",
    "    # Compute correlation matrix: corr_mat\n",
    "    corr_mat = np.corrcoef(x,y)\n",
    "\n",
    "    # Return entry [0,1]\n",
    "    return corr_mat[0,1]\n",
    "\n",
    "# Compute Pearson correlation coefficient for I. versicolor: r\n",
    "r = pearson_r(versicolor_petal_length,versicolor_petal_width)\n",
    "\n",
    "# Print the result\n",
    "print(r)"
   ]
  },
  {
   "cell_type": "code",
   "execution_count": null,
   "id": "03affeb0",
   "metadata": {},
   "outputs": [],
   "source": []
  }
 ],
 "metadata": {
  "kernelspec": {
   "display_name": "Python 3",
   "language": "python",
   "name": "python3"
  },
  "language_info": {
   "codemirror_mode": {
    "name": "ipython",
    "version": 3
   },
   "file_extension": ".py",
   "mimetype": "text/x-python",
   "name": "python",
   "nbconvert_exporter": "python",
   "pygments_lexer": "ipython3",
   "version": "3.8.8"
  }
 },
 "nbformat": 4,
 "nbformat_minor": 5
}
