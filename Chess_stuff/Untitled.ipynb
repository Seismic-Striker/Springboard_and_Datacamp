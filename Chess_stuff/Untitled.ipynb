{
 "cells": [
  {
   "cell_type": "code",
   "execution_count": 48,
   "id": "40f31d33",
   "metadata": {},
   "outputs": [
    {
     "name": "stdout",
     "output_type": "stream",
     "text": [
      "   Unnamed: 0  game_id winner victory_status  white_rating  black_rating  \\\n",
      "0           1        2  Black         Resign          1322          1261   \n",
      "1           2        3  White           Mate          1496          1500   \n",
      "\n",
      "  white_rank  turns black_rank white_id   black_id  opening_moves  \\\n",
      "0       Gold     16     Silver     a-00  skinnerua              4   \n",
      "1       Gold     61       Gold   ischia       a-00              3   \n",
      "\n",
      "                         opening_fullname    opening_shortname  \\\n",
      "0  Nimzowitsch Defense: Kennedy Variation  Nimzowitsch Defense   \n",
      "1   King's Pawn Game: Leonardis Variation     King's Pawn Game   \n",
      "\n",
      "     opening_variation                                              moves  \\\n",
      "0    Kennedy Variation  d4 Nc6 e4 e5 f4 f6 dxe5 fxe5 fxe5 Nxe5 Qd4 Nc6...   \n",
      "1  Leonardis Variation  e4 e5 d3 d6 Be3 c6 Be2 b5 Nd2 a5 a4 c5 axb5 Nc...   \n",
      "\n",
      "   upset  \n",
      "0   True  \n",
      "1   True  \n"
     ]
    }
   ],
   "source": [
    "#import modules that will be helpful in our exploration\n",
    "import numpy as np\n",
    "import matplotlib.pyplot as plt\n",
    "import pandas as pd\n",
    "import seaborn as sns\n",
    "\n",
    "#import dataset\n",
    "\n",
    "# Assign the filename: file\n",
    "file = 'chesswithranks.csv'\n",
    "# Read the file into a DataFrame: df\n",
    "df = pd.read_csv(file)\n",
    "print(df.head(2))\n",
    "sns.set_theme()"
   ]
  },
  {
   "cell_type": "code",
   "execution_count": 50,
   "id": "ae66a10d",
   "metadata": {},
   "outputs": [],
   "source": [
    "df_copy = df.copy()\n",
    "for i, row in df.iterrows():\n",
    "    if 'White' in row.winner:\n",
    "        df_copy.loc[i, 'winner_rank'] = row.white_rank\n",
    "    elif 'Black' in row.winner:\n",
    "        df_copy.loc[i, 'winner_rank'] = row.black_rank"
   ]
  },
  {
   "cell_type": "code",
   "execution_count": 52,
   "id": "03e8c7d6",
   "metadata": {},
   "outputs": [],
   "source": [
    "for i, row in df.iterrows():\n",
    "    if 'White' in row.winner:\n",
    "        df_copy.loc[i, 'loser_rank'] = row.black_rank\n",
    "    elif 'Black' in row.winner:\n",
    "        df_copy.loc[i, 'loser_rank'] = row.white_rank"
   ]
  },
  {
   "cell_type": "code",
   "execution_count": 55,
   "id": "af09bc4f",
   "metadata": {},
   "outputs": [
    {
     "name": "stdout",
     "output_type": "stream",
     "text": [
      "0          Silver\n",
      "1            Gold\n",
      "2            Gold\n",
      "3            Gold\n",
      "4            Gold\n",
      "           ...   \n",
      "16150    Platinum\n",
      "16151      Silver\n",
      "16152      Silver\n",
      "16153        Gold\n",
      "16154        Gold\n",
      "Name: winner_rank, Length: 16155, dtype: object\n"
     ]
    }
   ],
   "source": [
    "print(df_copy.winner_rank)"
   ]
  },
  {
   "cell_type": "code",
   "execution_count": null,
   "id": "3c589900",
   "metadata": {},
   "outputs": [],
   "source": []
  }
 ],
 "metadata": {
  "kernelspec": {
   "display_name": "Python 3",
   "language": "python",
   "name": "python3"
  },
  "language_info": {
   "codemirror_mode": {
    "name": "ipython",
    "version": 3
   },
   "file_extension": ".py",
   "mimetype": "text/x-python",
   "name": "python",
   "nbconvert_exporter": "python",
   "pygments_lexer": "ipython3",
   "version": "3.8.8"
  }
 },
 "nbformat": 4,
 "nbformat_minor": 5
}
