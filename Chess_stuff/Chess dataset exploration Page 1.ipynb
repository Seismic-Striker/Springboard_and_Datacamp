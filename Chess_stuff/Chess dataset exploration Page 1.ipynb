{
 "cells": [
  {
   "cell_type": "markdown",
   "id": "c1baac1a",
   "metadata": {},
   "source": [
    "# This is an exploration/cleaning of the Chess Data Set found on Kaggle.com\n",
    "\n",
    "I will be exploring this dataset with graphs and other tools taught from various sections of the python learning done. "
   ]
  },
  {
   "cell_type": "code",
   "execution_count": 1,
   "id": "831b86cd",
   "metadata": {},
   "outputs": [],
   "source": [
    "#import modules that will be helpful in our exploration\n",
    "import numpy as np\n",
    "import matplotlib.pyplot as plt\n",
    "import pandas as pd\n",
    "import seaborn as sns\n",
    "\n",
    "#import dataset\n",
    "\n",
    "# Assign the filename: file\n",
    "file = 'chess_games.csv'\n",
    "# Read the file into a DataFrame: df\n",
    "df = pd.read_csv(file)"
   ]
  },
  {
   "cell_type": "code",
   "execution_count": 2,
   "id": "a75c8516",
   "metadata": {},
   "outputs": [
    {
     "name": "stdout",
     "output_type": "stream",
     "text": [
      "(20058, 17)\n",
      "Index(['game_id', 'rated', 'turns', 'victory_status', 'winner',\n",
      "       'time_increment', 'white_id', 'white_rating', 'black_id',\n",
      "       'black_rating', 'moves', 'opening_code', 'opening_moves',\n",
      "       'opening_fullname', 'opening_shortname', 'opening_response',\n",
      "       'opening_variation'],\n",
      "      dtype='object')\n"
     ]
    },
    {
     "data": {
      "text/html": [
       "<div>\n",
       "<style scoped>\n",
       "    .dataframe tbody tr th:only-of-type {\n",
       "        vertical-align: middle;\n",
       "    }\n",
       "\n",
       "    .dataframe tbody tr th {\n",
       "        vertical-align: top;\n",
       "    }\n",
       "\n",
       "    .dataframe thead th {\n",
       "        text-align: right;\n",
       "    }\n",
       "</style>\n",
       "<table border=\"1\" class=\"dataframe\">\n",
       "  <thead>\n",
       "    <tr style=\"text-align: right;\">\n",
       "      <th></th>\n",
       "      <th>game_id</th>\n",
       "      <th>rated</th>\n",
       "      <th>turns</th>\n",
       "      <th>victory_status</th>\n",
       "      <th>winner</th>\n",
       "      <th>time_increment</th>\n",
       "      <th>white_id</th>\n",
       "      <th>white_rating</th>\n",
       "      <th>black_id</th>\n",
       "      <th>black_rating</th>\n",
       "      <th>moves</th>\n",
       "      <th>opening_code</th>\n",
       "      <th>opening_moves</th>\n",
       "      <th>opening_fullname</th>\n",
       "      <th>opening_shortname</th>\n",
       "      <th>opening_response</th>\n",
       "      <th>opening_variation</th>\n",
       "    </tr>\n",
       "  </thead>\n",
       "  <tbody>\n",
       "    <tr>\n",
       "      <th>0</th>\n",
       "      <td>1</td>\n",
       "      <td>False</td>\n",
       "      <td>13</td>\n",
       "      <td>Out of Time</td>\n",
       "      <td>White</td>\n",
       "      <td>15+2</td>\n",
       "      <td>bourgris</td>\n",
       "      <td>1500</td>\n",
       "      <td>a-00</td>\n",
       "      <td>1191</td>\n",
       "      <td>d4 d5 c4 c6 cxd5 e6 dxe6 fxe6 Nf3 Bb4+ Nc3 Ba5...</td>\n",
       "      <td>D10</td>\n",
       "      <td>5</td>\n",
       "      <td>Slav Defense: Exchange Variation</td>\n",
       "      <td>Slav Defense</td>\n",
       "      <td>NaN</td>\n",
       "      <td>Exchange Variation</td>\n",
       "    </tr>\n",
       "  </tbody>\n",
       "</table>\n",
       "</div>"
      ],
      "text/plain": [
       "   game_id  rated  turns victory_status winner time_increment  white_id  \\\n",
       "0        1  False     13    Out of Time  White           15+2  bourgris   \n",
       "\n",
       "   white_rating black_id  black_rating  \\\n",
       "0          1500     a-00          1191   \n",
       "\n",
       "                                               moves opening_code  \\\n",
       "0  d4 d5 c4 c6 cxd5 e6 dxe6 fxe6 Nf3 Bb4+ Nc3 Ba5...          D10   \n",
       "\n",
       "   opening_moves                  opening_fullname opening_shortname  \\\n",
       "0              5  Slav Defense: Exchange Variation      Slav Defense   \n",
       "\n",
       "  opening_response   opening_variation  \n",
       "0              NaN  Exchange Variation  "
      ]
     },
     "execution_count": 2,
     "metadata": {},
     "output_type": "execute_result"
    }
   ],
   "source": [
    "print(df.shape)\n",
    "print(df.columns)\n",
    "df.head(1)"
   ]
  },
  {
   "cell_type": "markdown",
   "id": "d96225ca",
   "metadata": {},
   "source": [
    "   # Using `df.head(1)` we see the first line of code. These include 17 different information columns and using `df.shape` we see there are 20,000 games within this dataset"
   ]
  },
  {
   "cell_type": "code",
   "execution_count": 3,
   "id": "fc361cdd",
   "metadata": {},
   "outputs": [],
   "source": [
    "# Rearrange the columns for easier reading"
   ]
  },
  {
   "cell_type": "code",
   "execution_count": 4,
   "id": "d487e5bc",
   "metadata": {},
   "outputs": [
    {
     "data": {
      "text/html": [
       "<div>\n",
       "<style scoped>\n",
       "    .dataframe tbody tr th:only-of-type {\n",
       "        vertical-align: middle;\n",
       "    }\n",
       "\n",
       "    .dataframe tbody tr th {\n",
       "        vertical-align: top;\n",
       "    }\n",
       "\n",
       "    .dataframe thead th {\n",
       "        text-align: right;\n",
       "    }\n",
       "</style>\n",
       "<table border=\"1\" class=\"dataframe\">\n",
       "  <thead>\n",
       "    <tr style=\"text-align: right;\">\n",
       "      <th></th>\n",
       "      <th>game_id</th>\n",
       "      <th>winner</th>\n",
       "      <th>victory_status</th>\n",
       "      <th>rated</th>\n",
       "      <th>white_rating</th>\n",
       "      <th>black_rating</th>\n",
       "      <th>turns</th>\n",
       "      <th>time_increment</th>\n",
       "      <th>white_id</th>\n",
       "      <th>black_id</th>\n",
       "      <th>opening_code</th>\n",
       "      <th>opening_moves</th>\n",
       "      <th>opening_fullname</th>\n",
       "      <th>opening_shortname</th>\n",
       "      <th>opening_response</th>\n",
       "      <th>opening_variation</th>\n",
       "      <th>moves</th>\n",
       "    </tr>\n",
       "  </thead>\n",
       "  <tbody>\n",
       "    <tr>\n",
       "      <th>0</th>\n",
       "      <td>1</td>\n",
       "      <td>White</td>\n",
       "      <td>Out of Time</td>\n",
       "      <td>False</td>\n",
       "      <td>1500</td>\n",
       "      <td>1191</td>\n",
       "      <td>13</td>\n",
       "      <td>15+2</td>\n",
       "      <td>bourgris</td>\n",
       "      <td>a-00</td>\n",
       "      <td>D10</td>\n",
       "      <td>5</td>\n",
       "      <td>Slav Defense: Exchange Variation</td>\n",
       "      <td>Slav Defense</td>\n",
       "      <td>NaN</td>\n",
       "      <td>Exchange Variation</td>\n",
       "      <td>d4 d5 c4 c6 cxd5 e6 dxe6 fxe6 Nf3 Bb4+ Nc3 Ba5...</td>\n",
       "    </tr>\n",
       "  </tbody>\n",
       "</table>\n",
       "</div>"
      ],
      "text/plain": [
       "   game_id winner victory_status  rated  white_rating  black_rating  turns  \\\n",
       "0        1  White    Out of Time  False          1500          1191     13   \n",
       "\n",
       "  time_increment  white_id black_id opening_code  opening_moves  \\\n",
       "0           15+2  bourgris     a-00          D10              5   \n",
       "\n",
       "                   opening_fullname opening_shortname opening_response  \\\n",
       "0  Slav Defense: Exchange Variation      Slav Defense              NaN   \n",
       "\n",
       "    opening_variation                                              moves  \n",
       "0  Exchange Variation  d4 d5 c4 c6 cxd5 e6 dxe6 fxe6 Nf3 Bb4+ Nc3 Ba5...  "
      ]
     },
     "execution_count": 4,
     "metadata": {},
     "output_type": "execute_result"
    }
   ],
   "source": [
    "df = df[['game_id', 'winner',\n",
    "         'victory_status','rated','white_rating',\n",
    "         'black_rating','turns','time_increment',\n",
    "         'white_id', 'black_id','opening_code', \n",
    "         'opening_moves', 'opening_fullname','opening_shortname', \n",
    "         'opening_response', 'opening_variation','moves',]]\n",
    "df.head(1)"
   ]
  },
  {
   "cell_type": "code",
   "execution_count": 5,
   "id": "780c40d6",
   "metadata": {},
   "outputs": [
    {
     "data": {
      "image/png": "[encoded data removed]",
      "text/plain": [
       "<Figure size 360x360 with 1 Axes>"
      ]
     },
     "metadata": {
      "needs_background": "light"
     },
     "output_type": "display_data"
    },
    {
     "name": "stdout",
     "output_type": "stream",
     "text": [
      "This shows that most games in this dataset are \"Rated\" Games\n"
     ]
    }
   ],
   "source": [
    "sns.catplot(x='rated',\n",
    "           data=df,\n",
    "           kind='count',\n",
    "           order=[True,False])\n",
    "plt.title('Rated vs Unrated Games')\n",
    "plt.show()\n",
    "print('This shows that most games in this dataset are \"Rated\" Games')"
   ]
  },
  {
   "cell_type": "markdown",
   "id": "2e0bac79",
   "metadata": {},
   "source": [
    "# We only care about rated games so lets remove all non-rated games"
   ]
  },
  {
   "cell_type": "code",
   "execution_count": 6,
   "id": "16ed2ada",
   "metadata": {},
   "outputs": [],
   "source": [
    "df = df[df.rated != False]\n",
    "df.drop('rated',inplace=True, axis=1)"
   ]
  },
  {
   "cell_type": "markdown",
   "id": "a66d4254",
   "metadata": {},
   "source": [
    "# We can also get rid of `time_increment` and `opening_code` "
   ]
  },
  {
   "cell_type": "code",
   "execution_count": 7,
   "id": "e1404221",
   "metadata": {},
   "outputs": [
    {
     "data": {
      "text/html": [
       "<div>\n",
       "<style scoped>\n",
       "    .dataframe tbody tr th:only-of-type {\n",
       "        vertical-align: middle;\n",
       "    }\n",
       "\n",
       "    .dataframe tbody tr th {\n",
       "        vertical-align: top;\n",
       "    }\n",
       "\n",
       "    .dataframe thead th {\n",
       "        text-align: right;\n",
       "    }\n",
       "</style>\n",
       "<table border=\"1\" class=\"dataframe\">\n",
       "  <thead>\n",
       "    <tr style=\"text-align: right;\">\n",
       "      <th></th>\n",
       "      <th>game_id</th>\n",
       "      <th>winner</th>\n",
       "      <th>victory_status</th>\n",
       "      <th>white_rating</th>\n",
       "      <th>black_rating</th>\n",
       "      <th>turns</th>\n",
       "      <th>white_id</th>\n",
       "      <th>black_id</th>\n",
       "      <th>opening_moves</th>\n",
       "      <th>opening_fullname</th>\n",
       "      <th>opening_shortname</th>\n",
       "      <th>opening_variation</th>\n",
       "      <th>moves</th>\n",
       "    </tr>\n",
       "  </thead>\n",
       "  <tbody>\n",
       "    <tr>\n",
       "      <th>1</th>\n",
       "      <td>2</td>\n",
       "      <td>Black</td>\n",
       "      <td>Resign</td>\n",
       "      <td>1322</td>\n",
       "      <td>1261</td>\n",
       "      <td>16</td>\n",
       "      <td>a-00</td>\n",
       "      <td>skinnerua</td>\n",
       "      <td>4</td>\n",
       "      <td>Nimzowitsch Defense: Kennedy Variation</td>\n",
       "      <td>Nimzowitsch Defense</td>\n",
       "      <td>Kennedy Variation</td>\n",
       "      <td>d4 Nc6 e4 e5 f4 f6 dxe5 fxe5 fxe5 Nxe5 Qd4 Nc6...</td>\n",
       "    </tr>\n",
       "    <tr>\n",
       "      <th>2</th>\n",
       "      <td>3</td>\n",
       "      <td>White</td>\n",
       "      <td>Mate</td>\n",
       "      <td>1496</td>\n",
       "      <td>1500</td>\n",
       "      <td>61</td>\n",
       "      <td>ischia</td>\n",
       "      <td>a-00</td>\n",
       "      <td>3</td>\n",
       "      <td>King's Pawn Game: Leonardis Variation</td>\n",
       "      <td>King's Pawn Game</td>\n",
       "      <td>Leonardis Variation</td>\n",
       "      <td>e4 e5 d3 d6 Be3 c6 Be2 b5 Nd2 a5 a4 c5 axb5 Nc...</td>\n",
       "    </tr>\n",
       "    <tr>\n",
       "      <th>3</th>\n",
       "      <td>4</td>\n",
       "      <td>White</td>\n",
       "      <td>Mate</td>\n",
       "      <td>1439</td>\n",
       "      <td>1454</td>\n",
       "      <td>61</td>\n",
       "      <td>daniamurashov</td>\n",
       "      <td>adivanov2009</td>\n",
       "      <td>3</td>\n",
       "      <td>Queen's Pawn Game: Zukertort Variation</td>\n",
       "      <td>Queen's Pawn Game</td>\n",
       "      <td>Zukertort Variation</td>\n",
       "      <td>d4 d5 Nf3 Bf5 Nc3 Nf6 Bf4 Ng4 e3 Nc6 Be2 Qd7 O...</td>\n",
       "    </tr>\n",
       "  </tbody>\n",
       "</table>\n",
       "</div>"
      ],
      "text/plain": [
       "   game_id winner victory_status  white_rating  black_rating  turns  \\\n",
       "1        2  Black         Resign          1322          1261     16   \n",
       "2        3  White           Mate          1496          1500     61   \n",
       "3        4  White           Mate          1439          1454     61   \n",
       "\n",
       "        white_id      black_id  opening_moves  \\\n",
       "1           a-00     skinnerua              4   \n",
       "2         ischia          a-00              3   \n",
       "3  daniamurashov  adivanov2009              3   \n",
       "\n",
       "                         opening_fullname    opening_shortname  \\\n",
       "1  Nimzowitsch Defense: Kennedy Variation  Nimzowitsch Defense   \n",
       "2   King's Pawn Game: Leonardis Variation     King's Pawn Game   \n",
       "3  Queen's Pawn Game: Zukertort Variation    Queen's Pawn Game   \n",
       "\n",
       "     opening_variation                                              moves  \n",
       "1    Kennedy Variation  d4 Nc6 e4 e5 f4 f6 dxe5 fxe5 fxe5 Nxe5 Qd4 Nc6...  \n",
       "2  Leonardis Variation  e4 e5 d3 d6 Be3 c6 Be2 b5 Nd2 a5 a4 c5 axb5 Nc...  \n",
       "3  Zukertort Variation  d4 d5 Nf3 Bf5 Nc3 Nf6 Bf4 Ng4 e3 Nc6 Be2 Qd7 O...  "
      ]
     },
     "execution_count": 7,
     "metadata": {},
     "output_type": "execute_result"
    }
   ],
   "source": [
    "df.drop('time_increment',axis=1,inplace=True)\n",
    "df.drop('opening_code',axis=1,inplace=True)\n",
    "df.drop('opening_response',axis=1,inplace=True)\n",
    "df.head(3)"
   ]
  },
  {
   "cell_type": "code",
   "execution_count": null,
   "id": "46308848",
   "metadata": {},
   "outputs": [],
   "source": []
  },
  {
   "cell_type": "code",
   "execution_count": 8,
   "id": "0b695d75",
   "metadata": {},
   "outputs": [
    {
     "data": {
      "image/png": "[encoded data removed]",
      "text/plain": [
       "<Figure size 360x360 with 1 Axes>"
      ]
     },
     "metadata": {
      "needs_background": "light"
     },
     "output_type": "display_data"
    },
    {
     "name": "stdout",
     "output_type": "stream",
     "text": [
      "This count bar graph is designed to show the relationship between games where players followed the opening moves of a specific\n",
      "variation of play.\n",
      "\n",
      "As you can see, the vast majority of openings are only followed for < 10 moves before leaving\n",
      "what are called \"book moves\"\n"
     ]
    }
   ],
   "source": [
    "sns.catplot(x=df.opening_moves,\n",
    "           data=df,\n",
    "           kind='count')\n",
    "plt.title('Opening Move Count')\n",
    "plt.show()\n",
    "print('This count bar graph is designed to show the relationship between games where players followed the opening moves of a specific')\n",
    "print('variation of play.')\n",
    "print('')\n",
    "print('As you can see, the vast majority of openings are only followed for < 10 moves before leaving')\n",
    "print('what are called \"book moves\"')"
   ]
  },
  {
   "cell_type": "markdown",
   "id": "32bca218",
   "metadata": {},
   "source": [
    "# Lets try and create an 'upset' column\n",
    "## based on the ratings of each player (white and black) we will find who is higher rated, and whether they won.\n",
    "\n",
    "### We will need to define what the conditions of an upset are and use those to create a column"
   ]
  },
  {
   "cell_type": "code",
   "execution_count": 9,
   "id": "70daab42",
   "metadata": {},
   "outputs": [],
   "source": [
    "#We will use np.select for this job\n",
    "\n",
    "conditions = [\n",
    "    (df[\"black_rating\"] < df['white_rating']) & (df['winner'] == 'Black'),\n",
    "    (df[\"white_rating\"] < df['black_rating']) & (df['winner'] == 'White')\n",
    "]\n",
    "\n",
    "choices = [True,True]\n",
    "\n",
    "df['upset'] = np.select(conditions,choices,default=False)"
   ]
  },
  {
   "cell_type": "code",
   "execution_count": 10,
   "id": "d8b8933a",
   "metadata": {},
   "outputs": [
    {
     "name": "stdout",
     "output_type": "stream",
     "text": [
      "False    10771\n",
      "True      5384\n",
      "Name: upset, dtype: int64\n"
     ]
    },
    {
     "data": {
      "image/png": "[encoded data removed]",
      "text/plain": [
       "<Figure size 360x360 with 1 Axes>"
      ]
     },
     "metadata": {
      "needs_background": "light"
     },
     "output_type": "display_data"
    },
    {
     "name": "stdout",
     "output_type": "stream",
     "text": [
      "This just goes to show, it does not matter who your opponent is, \n",
      "you should always try your best!\n",
      "1/3 of games are upsets in chess!\n"
     ]
    }
   ],
   "source": [
    "print(df.upset.value_counts())\n",
    "sns.catplot(x='upset',\n",
    "           data=df,\n",
    "           kind='count',\n",
    "           order=[True,False])\n",
    "plt.title(\"Upsets\")\n",
    "plt.show()\n",
    "print('This just goes to show, it does not matter who your opponent is, ')\n",
    "print('you should always try your best!')\n",
    "print('1/3 of games are upsets in chess!')"
   ]
  },
  {
   "cell_type": "code",
   "execution_count": 11,
   "id": "2eb9539a",
   "metadata": {},
   "outputs": [
    {
     "data": {
      "text/plain": [
       "Text(0, 0.5, 'Opening Name')"
      ]
     },
     "execution_count": 11,
     "metadata": {},
     "output_type": "execute_result"
    },
    {
     "data": {
      "image/png": "[encoded data removed]",
      "text/plain": [
       "<Figure size 432x288 with 1 Axes>"
      ]
     },
     "metadata": {
      "needs_background": "light"
     },
     "output_type": "display_data"
    }
   ],
   "source": [
    "#Here we are going to group games by their opening\n",
    "\n",
    "openings = df.groupby('opening_shortname')['game_id'].count().sort_values(ascending = False)\n",
    "\n",
    "#graph the numbers of most played openings\n",
    "openings.head(15).plot(kind = 'barh')\n",
    "plt.title('Chess Openings')\n",
    "plt.ylabel('Opening Name')"
   ]
  },
  {
   "cell_type": "code",
   "execution_count": 12,
   "id": "8f687ea2",
   "metadata": {},
   "outputs": [
    {
     "data": {
      "text/plain": [
       "Text(0, 0.5, 'Opening Name')"
      ]
     },
     "execution_count": 12,
     "metadata": {},
     "output_type": "execute_result"
    },
    {
     "data": {
      "image/png": "[encoded data removed]",
      "text/plain": [
       "<Figure size 432x288 with 1 Axes>"
      ]
     },
     "metadata": {
      "needs_background": "light"
     },
     "output_type": "display_data"
    }
   ],
   "source": [
    "#let see if upsets have the same kind of graph\n",
    "\n",
    "upsets = df[df.upset == True]\n",
    "\n",
    "openings = upsets.groupby('opening_shortname')['game_id'].count().sort_values(ascending = False)\n",
    "\n",
    "\n",
    "#graph the numbers of most played openings\n",
    "openings.head(15).plot(kind = 'barh')\n",
    "plt.title('Chess Openings')\n",
    "plt.ylabel('Opening Name')"
   ]
  },
  {
   "cell_type": "markdown",
   "id": "e7cbdb1f",
   "metadata": {},
   "source": [
    "# Looking at this graph, it seems the opening doesn't matter when it comes to an upset"
   ]
  },
  {
   "cell_type": "code",
   "execution_count": 13,
   "id": "84812f5c",
   "metadata": {},
   "outputs": [
    {
     "data": {
      "image/png": "[encoded data removed]",
      "text/plain": [
       "<Figure size 432x288 with 1 Axes>"
      ]
     },
     "metadata": {
      "needs_background": "light"
     },
     "output_type": "display_data"
    }
   ],
   "source": [
    "plt.hist(df.white_rating,bins=33)\n",
    "plt.hist(df.black_rating,bins=33)\n",
    "\n",
    "x = np.mean(df.white_rating)\n",
    "s = np.std(df.white_rating)\n",
    "n = len(df.white_rating)\n",
    "\n",
    "_ = plt.axvline(x, color='r')\n",
    "\n",
    "_ = plt.axvline(x + s, color='r', linestyle='--')\n",
    "_ = plt.axvline(x - s, color='r', linestyle='--')\n",
    "_ = plt.axvline(x + s*2, color='r', linestyle='-.')\n",
    "_ = plt.axvline(x - s*2, color='r', linestyle='-.')"
   ]
  },
  {
   "cell_type": "code",
   "execution_count": 14,
   "id": "f62e5103",
   "metadata": {},
   "outputs": [
    {
     "data": {
      "image/png": "[encoded data removed]",
      "text/plain": [
       "<Figure size 432x288 with 1 Axes>"
      ]
     },
     "metadata": {
      "needs_background": "light"
     },
     "output_type": "display_data"
    },
    {
     "name": "stdout",
     "output_type": "stream",
     "text": [
      "1028.7628085337965 1312.9324101474306 1597.1020117610647 1881.2716133746987 2165.441214988333\n"
     ]
    }
   ],
   "source": [
    "sns.histplot(x='white_rating',\n",
    "             data=df)\n",
    "_ = plt.axvline(x, color='r')\n",
    "\n",
    "plt.show()\n",
    "print(x-s*2, x-s, x, x+s, x+s*2)\n",
    "#Going for a 95%\n"
   ]
  },
  {
   "cell_type": "code",
   "execution_count": 15,
   "id": "ccf52371",
   "metadata": {},
   "outputs": [],
   "source": [
    "bins = [0,1000,1300,1600,1800,2100,9999]\n",
    "categories = ['Bronze','Silver','Gold','Platinum','Diamond','Onyx']\n",
    "white_rank = pd.cut(df['white_rating'],bins = bins, labels = categories)\n",
    "df.insert(5,'white_rank',white_rank)\n"
   ]
  },
  {
   "cell_type": "code",
   "execution_count": 16,
   "id": "6682358a",
   "metadata": {},
   "outputs": [],
   "source": [
    "black_rank = pd.cut(df['black_rating'],bins=bins,labels=categories)\n",
    "df.insert(7,'black_rank',black_rank)"
   ]
  },
  {
   "cell_type": "code",
   "execution_count": 17,
   "id": "4ae84cc0",
   "metadata": {},
   "outputs": [
    {
     "data": {
      "text/plain": [
       "Gold        0.376787\n",
       "Platinum    0.224574\n",
       "Diamond     0.188920\n",
       "Silver      0.144599\n",
       "Onyx        0.051130\n",
       "Bronze      0.013989\n",
       "Name: black_rank, dtype: float64"
      ]
     },
     "execution_count": 17,
     "metadata": {},
     "output_type": "execute_result"
    }
   ],
   "source": [
    "df.black_rank.value_counts(normalize=True)"
   ]
  },
  {
   "cell_type": "code",
   "execution_count": 18,
   "id": "1993d4a1",
   "metadata": {},
   "outputs": [
    {
     "data": {
      "text/plain": [
       "Gold        0.379511\n",
       "Platinum    0.228103\n",
       "Diamond     0.193439\n",
       "Silver      0.138038\n",
       "Onyx        0.048963\n",
       "Bronze      0.011947\n",
       "Name: white_rank, dtype: float64"
      ]
     },
     "execution_count": 18,
     "metadata": {},
     "output_type": "execute_result"
    }
   ],
   "source": [
    "df.white_rank.value_counts(normalize=True)\n"
   ]
  },
  {
   "cell_type": "code",
   "execution_count": 23,
   "id": "f39c5903",
   "metadata": {},
   "outputs": [
    {
     "data": {
      "text/html": [
       "<div>\n",
       "<style scoped>\n",
       "    .dataframe tbody tr th:only-of-type {\n",
       "        vertical-align: middle;\n",
       "    }\n",
       "\n",
       "    .dataframe tbody tr th {\n",
       "        vertical-align: top;\n",
       "    }\n",
       "\n",
       "    .dataframe thead th {\n",
       "        text-align: right;\n",
       "    }\n",
       "</style>\n",
       "<table border=\"1\" class=\"dataframe\">\n",
       "  <thead>\n",
       "    <tr style=\"text-align: right;\">\n",
       "      <th></th>\n",
       "      <th>game_id</th>\n",
       "      <th>winner</th>\n",
       "      <th>victory_status</th>\n",
       "      <th>white_rating</th>\n",
       "      <th>black_rating</th>\n",
       "      <th>white_rank</th>\n",
       "      <th>turns</th>\n",
       "      <th>black_rank</th>\n",
       "      <th>white_id</th>\n",
       "      <th>black_id</th>\n",
       "      <th>opening_moves</th>\n",
       "      <th>opening_fullname</th>\n",
       "      <th>opening_shortname</th>\n",
       "      <th>opening_variation</th>\n",
       "      <th>moves</th>\n",
       "      <th>upset</th>\n",
       "      <th>winner_rank</th>\n",
       "      <th>loser_rank</th>\n",
       "    </tr>\n",
       "  </thead>\n",
       "  <tbody>\n",
       "    <tr>\n",
       "      <th>1</th>\n",
       "      <td>2</td>\n",
       "      <td>Black</td>\n",
       "      <td>Resign</td>\n",
       "      <td>1322</td>\n",
       "      <td>1261</td>\n",
       "      <td>Gold</td>\n",
       "      <td>16</td>\n",
       "      <td>Silver</td>\n",
       "      <td>a-00</td>\n",
       "      <td>skinnerua</td>\n",
       "      <td>4</td>\n",
       "      <td>Nimzowitsch Defense: Kennedy Variation</td>\n",
       "      <td>Nimzowitsch Defense</td>\n",
       "      <td>Kennedy Variation</td>\n",
       "      <td>d4 Nc6 e4 e5 f4 f6 dxe5 fxe5 fxe5 Nxe5 Qd4 Nc6...</td>\n",
       "      <td>True</td>\n",
       "      <td>Silver</td>\n",
       "      <td>Gold</td>\n",
       "    </tr>\n",
       "    <tr>\n",
       "      <th>2</th>\n",
       "      <td>3</td>\n",
       "      <td>White</td>\n",
       "      <td>Mate</td>\n",
       "      <td>1496</td>\n",
       "      <td>1500</td>\n",
       "      <td>Gold</td>\n",
       "      <td>61</td>\n",
       "      <td>Gold</td>\n",
       "      <td>ischia</td>\n",
       "      <td>a-00</td>\n",
       "      <td>3</td>\n",
       "      <td>King's Pawn Game: Leonardis Variation</td>\n",
       "      <td>King's Pawn Game</td>\n",
       "      <td>Leonardis Variation</td>\n",
       "      <td>e4 e5 d3 d6 Be3 c6 Be2 b5 Nd2 a5 a4 c5 axb5 Nc...</td>\n",
       "      <td>True</td>\n",
       "      <td>Gold</td>\n",
       "      <td>Gold</td>\n",
       "    </tr>\n",
       "    <tr>\n",
       "      <th>3</th>\n",
       "      <td>4</td>\n",
       "      <td>White</td>\n",
       "      <td>Mate</td>\n",
       "      <td>1439</td>\n",
       "      <td>1454</td>\n",
       "      <td>Gold</td>\n",
       "      <td>61</td>\n",
       "      <td>Gold</td>\n",
       "      <td>daniamurashov</td>\n",
       "      <td>adivanov2009</td>\n",
       "      <td>3</td>\n",
       "      <td>Queen's Pawn Game: Zukertort Variation</td>\n",
       "      <td>Queen's Pawn Game</td>\n",
       "      <td>Zukertort Variation</td>\n",
       "      <td>d4 d5 Nf3 Bf5 Nc3 Nf6 Bf4 Ng4 e3 Nc6 Be2 Qd7 O...</td>\n",
       "      <td>True</td>\n",
       "      <td>Gold</td>\n",
       "      <td>Gold</td>\n",
       "    </tr>\n",
       "    <tr>\n",
       "      <th>4</th>\n",
       "      <td>5</td>\n",
       "      <td>White</td>\n",
       "      <td>Mate</td>\n",
       "      <td>1523</td>\n",
       "      <td>1469</td>\n",
       "      <td>Gold</td>\n",
       "      <td>95</td>\n",
       "      <td>Gold</td>\n",
       "      <td>nik221107</td>\n",
       "      <td>adivanov2009</td>\n",
       "      <td>5</td>\n",
       "      <td>Philidor Defense</td>\n",
       "      <td>Philidor Defense</td>\n",
       "      <td>NaN</td>\n",
       "      <td>e4 e5 Nf3 d6 d4 Nc6 d5 Nb4 a3 Na6 Nc3 Be7 b4 N...</td>\n",
       "      <td>False</td>\n",
       "      <td>Gold</td>\n",
       "      <td>Gold</td>\n",
       "    </tr>\n",
       "    <tr>\n",
       "      <th>6</th>\n",
       "      <td>7</td>\n",
       "      <td>White</td>\n",
       "      <td>Resign</td>\n",
       "      <td>1520</td>\n",
       "      <td>1423</td>\n",
       "      <td>Gold</td>\n",
       "      <td>33</td>\n",
       "      <td>Gold</td>\n",
       "      <td>capa_jr</td>\n",
       "      <td>daniel_likes_chess</td>\n",
       "      <td>10</td>\n",
       "      <td>Blackmar-Diemer Gambit: Pietrowsky Defense</td>\n",
       "      <td>Blackmar-Diemer Gambit</td>\n",
       "      <td>Pietrowsky Defense</td>\n",
       "      <td>d4 d5 e4 dxe4 Nc3 Nf6 f3 exf3 Nxf3 Nc6 Bb5 a6 ...</td>\n",
       "      <td>False</td>\n",
       "      <td>Gold</td>\n",
       "      <td>Gold</td>\n",
       "    </tr>\n",
       "    <tr>\n",
       "      <th>...</th>\n",
       "      <td>...</td>\n",
       "      <td>...</td>\n",
       "      <td>...</td>\n",
       "      <td>...</td>\n",
       "      <td>...</td>\n",
       "      <td>...</td>\n",
       "      <td>...</td>\n",
       "      <td>...</td>\n",
       "      <td>...</td>\n",
       "      <td>...</td>\n",
       "      <td>...</td>\n",
       "      <td>...</td>\n",
       "      <td>...</td>\n",
       "      <td>...</td>\n",
       "      <td>...</td>\n",
       "      <td>...</td>\n",
       "      <td>...</td>\n",
       "      <td>...</td>\n",
       "    </tr>\n",
       "    <tr>\n",
       "      <th>20053</th>\n",
       "      <td>20054</td>\n",
       "      <td>White</td>\n",
       "      <td>Resign</td>\n",
       "      <td>1691</td>\n",
       "      <td>1220</td>\n",
       "      <td>Platinum</td>\n",
       "      <td>24</td>\n",
       "      <td>Silver</td>\n",
       "      <td>belcolt</td>\n",
       "      <td>jamboger</td>\n",
       "      <td>2</td>\n",
       "      <td>Dutch Defense</td>\n",
       "      <td>Dutch Defense</td>\n",
       "      <td>NaN</td>\n",
       "      <td>d4 f5 e3 e6 Nf3 Nf6 Nc3 b6 Be2 Bb7 O-O Be7 Ne5...</td>\n",
       "      <td>False</td>\n",
       "      <td>Platinum</td>\n",
       "      <td>Silver</td>\n",
       "    </tr>\n",
       "    <tr>\n",
       "      <th>20054</th>\n",
       "      <td>20055</td>\n",
       "      <td>Black</td>\n",
       "      <td>Mate</td>\n",
       "      <td>1233</td>\n",
       "      <td>1196</td>\n",
       "      <td>Silver</td>\n",
       "      <td>82</td>\n",
       "      <td>Silver</td>\n",
       "      <td>jamboger</td>\n",
       "      <td>farrukhasomiddinov</td>\n",
       "      <td>2</td>\n",
       "      <td>Queen's Pawn</td>\n",
       "      <td>Queen's Pawn</td>\n",
       "      <td>NaN</td>\n",
       "      <td>d4 d6 Bf4 e5 Bg3 Nf6 e3 exd4 exd4 d5 c3 Bd6 Bd...</td>\n",
       "      <td>True</td>\n",
       "      <td>Silver</td>\n",
       "      <td>Silver</td>\n",
       "    </tr>\n",
       "    <tr>\n",
       "      <th>20055</th>\n",
       "      <td>20056</td>\n",
       "      <td>White</td>\n",
       "      <td>Mate</td>\n",
       "      <td>1219</td>\n",
       "      <td>1286</td>\n",
       "      <td>Silver</td>\n",
       "      <td>35</td>\n",
       "      <td>Silver</td>\n",
       "      <td>jamboger</td>\n",
       "      <td>schaaksmurf3</td>\n",
       "      <td>3</td>\n",
       "      <td>Queen's Pawn Game: Mason Attack</td>\n",
       "      <td>Queen's Pawn Game</td>\n",
       "      <td>Mason Attack</td>\n",
       "      <td>d4 d5 Bf4 Nc6 e3 Nf6 c3 e6 Nf3 Be7 Bd3 O-O Nbd...</td>\n",
       "      <td>True</td>\n",
       "      <td>Silver</td>\n",
       "      <td>Silver</td>\n",
       "    </tr>\n",
       "    <tr>\n",
       "      <th>20056</th>\n",
       "      <td>20057</td>\n",
       "      <td>White</td>\n",
       "      <td>Resign</td>\n",
       "      <td>1360</td>\n",
       "      <td>1227</td>\n",
       "      <td>Gold</td>\n",
       "      <td>109</td>\n",
       "      <td>Silver</td>\n",
       "      <td>marcodisogno</td>\n",
       "      <td>jamboger</td>\n",
       "      <td>4</td>\n",
       "      <td>Pirc Defense</td>\n",
       "      <td>Pirc Defense</td>\n",
       "      <td>NaN</td>\n",
       "      <td>e4 d6 d4 Nf6 e5 dxe5 dxe5 Qxd1+ Kxd1 Nd5 c4 Nb...</td>\n",
       "      <td>False</td>\n",
       "      <td>Gold</td>\n",
       "      <td>Silver</td>\n",
       "    </tr>\n",
       "    <tr>\n",
       "      <th>20057</th>\n",
       "      <td>20058</td>\n",
       "      <td>Black</td>\n",
       "      <td>Mate</td>\n",
       "      <td>1235</td>\n",
       "      <td>1339</td>\n",
       "      <td>Silver</td>\n",
       "      <td>78</td>\n",
       "      <td>Gold</td>\n",
       "      <td>jamboger</td>\n",
       "      <td>ffbob</td>\n",
       "      <td>3</td>\n",
       "      <td>Queen's Pawn Game: Mason Attack</td>\n",
       "      <td>Queen's Pawn Game</td>\n",
       "      <td>Mason Attack</td>\n",
       "      <td>d4 d5 Bf4 Na6 e3 e6 c3 Nf6 Nf3 Bd7 Nbd2 b5 Bd3...</td>\n",
       "      <td>False</td>\n",
       "      <td>Gold</td>\n",
       "      <td>Silver</td>\n",
       "    </tr>\n",
       "  </tbody>\n",
       "</table>\n",
       "<p>16155 rows × 18 columns</p>\n",
       "</div>"
      ],
      "text/plain": [
       "       game_id winner victory_status  white_rating  black_rating white_rank  \\\n",
       "1            2  Black         Resign          1322          1261       Gold   \n",
       "2            3  White           Mate          1496          1500       Gold   \n",
       "3            4  White           Mate          1439          1454       Gold   \n",
       "4            5  White           Mate          1523          1469       Gold   \n",
       "6            7  White         Resign          1520          1423       Gold   \n",
       "...        ...    ...            ...           ...           ...        ...   \n",
       "20053    20054  White         Resign          1691          1220   Platinum   \n",
       "20054    20055  Black           Mate          1233          1196     Silver   \n",
       "20055    20056  White           Mate          1219          1286     Silver   \n",
       "20056    20057  White         Resign          1360          1227       Gold   \n",
       "20057    20058  Black           Mate          1235          1339     Silver   \n",
       "\n",
       "       turns black_rank       white_id            black_id  opening_moves  \\\n",
       "1         16     Silver           a-00           skinnerua              4   \n",
       "2         61       Gold         ischia                a-00              3   \n",
       "3         61       Gold  daniamurashov        adivanov2009              3   \n",
       "4         95       Gold      nik221107        adivanov2009              5   \n",
       "6         33       Gold        capa_jr  daniel_likes_chess             10   \n",
       "...      ...        ...            ...                 ...            ...   \n",
       "20053     24     Silver        belcolt            jamboger              2   \n",
       "20054     82     Silver       jamboger  farrukhasomiddinov              2   \n",
       "20055     35     Silver       jamboger        schaaksmurf3              3   \n",
       "20056    109     Silver   marcodisogno            jamboger              4   \n",
       "20057     78       Gold       jamboger               ffbob              3   \n",
       "\n",
       "                                 opening_fullname       opening_shortname  \\\n",
       "1          Nimzowitsch Defense: Kennedy Variation     Nimzowitsch Defense   \n",
       "2           King's Pawn Game: Leonardis Variation        King's Pawn Game   \n",
       "3          Queen's Pawn Game: Zukertort Variation       Queen's Pawn Game   \n",
       "4                                Philidor Defense        Philidor Defense   \n",
       "6      Blackmar-Diemer Gambit: Pietrowsky Defense  Blackmar-Diemer Gambit   \n",
       "...                                           ...                     ...   \n",
       "20053                               Dutch Defense           Dutch Defense   \n",
       "20054                                Queen's Pawn            Queen's Pawn   \n",
       "20055             Queen's Pawn Game: Mason Attack       Queen's Pawn Game   \n",
       "20056                                Pirc Defense            Pirc Defense   \n",
       "20057             Queen's Pawn Game: Mason Attack       Queen's Pawn Game   \n",
       "\n",
       "         opening_variation                                              moves  \\\n",
       "1        Kennedy Variation  d4 Nc6 e4 e5 f4 f6 dxe5 fxe5 fxe5 Nxe5 Qd4 Nc6...   \n",
       "2      Leonardis Variation  e4 e5 d3 d6 Be3 c6 Be2 b5 Nd2 a5 a4 c5 axb5 Nc...   \n",
       "3      Zukertort Variation  d4 d5 Nf3 Bf5 Nc3 Nf6 Bf4 Ng4 e3 Nc6 Be2 Qd7 O...   \n",
       "4                      NaN  e4 e5 Nf3 d6 d4 Nc6 d5 Nb4 a3 Na6 Nc3 Be7 b4 N...   \n",
       "6       Pietrowsky Defense  d4 d5 e4 dxe4 Nc3 Nf6 f3 exf3 Nxf3 Nc6 Bb5 a6 ...   \n",
       "...                    ...                                                ...   \n",
       "20053                  NaN  d4 f5 e3 e6 Nf3 Nf6 Nc3 b6 Be2 Bb7 O-O Be7 Ne5...   \n",
       "20054                  NaN  d4 d6 Bf4 e5 Bg3 Nf6 e3 exd4 exd4 d5 c3 Bd6 Bd...   \n",
       "20055         Mason Attack  d4 d5 Bf4 Nc6 e3 Nf6 c3 e6 Nf3 Be7 Bd3 O-O Nbd...   \n",
       "20056                  NaN  e4 d6 d4 Nf6 e5 dxe5 dxe5 Qxd1+ Kxd1 Nd5 c4 Nb...   \n",
       "20057         Mason Attack  d4 d5 Bf4 Na6 e3 e6 c3 Nf6 Nf3 Bd7 Nbd2 b5 Bd3...   \n",
       "\n",
       "       upset winner_rank loser_rank  \n",
       "1       True      Silver       Gold  \n",
       "2       True        Gold       Gold  \n",
       "3       True        Gold       Gold  \n",
       "4      False        Gold       Gold  \n",
       "6      False        Gold       Gold  \n",
       "...      ...         ...        ...  \n",
       "20053  False    Platinum     Silver  \n",
       "20054   True      Silver     Silver  \n",
       "20055   True      Silver     Silver  \n",
       "20056  False        Gold     Silver  \n",
       "20057  False        Gold     Silver  \n",
       "\n",
       "[16155 rows x 18 columns]"
      ]
     },
     "execution_count": 23,
     "metadata": {},
     "output_type": "execute_result"
    }
   ],
   "source": [
    "df"
   ]
  },
  {
   "cell_type": "code",
   "execution_count": 20,
   "id": "1c79812f",
   "metadata": {},
   "outputs": [
    {
     "data": {
      "text/plain": [
       "<AxesSubplot:xlabel='white_rating', ylabel='Count'>"
      ]
     },
     "execution_count": 20,
     "metadata": {},
     "output_type": "execute_result"
    },
    {
     "data": {
      "image/png": "[encoded data removed]",
      "text/plain": [
       "<Figure size 432x288 with 1 Axes>"
      ]
     },
     "metadata": {
      "needs_background": "light"
     },
     "output_type": "display_data"
    }
   ],
   "source": [
    "sns.histplot(x='white_rating',\n",
    "             data=df,\n",
    "            hue='white_rank')"
   ]
  },
  {
   "cell_type": "code",
   "execution_count": 21,
   "id": "1fe15fae",
   "metadata": {},
   "outputs": [
    {
     "data": {
      "image/png": "[encoded data removed]",
      "text/plain": [
       "<Figure size 432x288 with 1 Axes>"
      ]
     },
     "metadata": {
      "needs_background": "light"
     },
     "output_type": "display_data"
    }
   ],
   "source": [
    "sns.histplot(x='black_rating',\n",
    "             data=df,hue='black_rank')\n",
    "_ = plt.axvline(x, color='r')"
   ]
  },
  {
   "cell_type": "code",
   "execution_count": 24,
   "id": "ef6151a8",
   "metadata": {},
   "outputs": [],
   "source": [
    "for i, row in df.iterrows():\n",
    "    if 'White' in row.winner:\n",
    "        df.loc[i, 'winner_rank'] = row.white_rank\n",
    "        df.loc[i, 'loser_rank'] = row.black_rank\n",
    "    elif 'Black' in row.winner:\n",
    "        df.loc[i, 'winner_rank'] = row.black_rank\n",
    "        df.loc[i, 'loser_rank'] = row.white_rank\n",
    "\n",
    "        \n",
    "df = df[['game_id', 'winner','winner_rank','loser_rank', 'victory_status', 'white_rating','white_rank', 'black_rating','black_rank',\n",
    "        'turns',  'white_id', 'black_id',\n",
    "       'opening_moves', 'opening_fullname', 'opening_shortname',\n",
    "       'opening_variation', 'moves', 'upset']]"
   ]
  },
  {
   "cell_type": "code",
   "execution_count": 25,
   "id": "0f68f275",
   "metadata": {},
   "outputs": [],
   "source": [
    "df.to_csv('chesswithranks.csv')"
   ]
  },
  {
   "cell_type": "code",
   "execution_count": null,
   "id": "be640d05",
   "metadata": {},
   "outputs": [],
   "source": []
  }
 ],
 "metadata": {
  "kernelspec": {
   "display_name": "Python 3",
   "language": "python",
   "name": "python3"
  },
  "language_info": {
   "codemirror_mode": {
    "name": "ipython",
    "version": 3
   },
   "file_extension": ".py",
   "mimetype": "text/x-python",
   "name": "python",
   "nbconvert_exporter": "python",
   "pygments_lexer": "ipython3",
   "version": "3.8.8"
  }
 },
 "nbformat": 4,
 "nbformat_minor": 5
}
