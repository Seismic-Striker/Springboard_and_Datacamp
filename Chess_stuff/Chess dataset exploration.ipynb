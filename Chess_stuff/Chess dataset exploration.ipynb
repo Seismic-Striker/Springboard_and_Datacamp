{
 "cells": [
  {
   "cell_type": "markdown",
   "id": "ba8b988e",
   "metadata": {},
   "source": [
    "# This is an exploration/cleaning of the Chess Data Set found on Kaggle.com\n",
    "\n",
    "I will be exploring this dataset with graphs and other tools taught from various sections of the python learning done. "
   ]
  },
  {
   "cell_type": "code",
   "execution_count": 1,
   "id": "831b86cd",
   "metadata": {},
   "outputs": [],
   "source": [
    "#import modules that will be helpful in our exploration\n",
    "import numpy as np\n",
    "import matplotlib.pyplot as plt\n",
    "import pandas as pd\n",
    "import seaborn as sns\n",
    "\n",
    "#import dataset\n",
    "\n",
    "# Assign the filename: file\n",
    "file = 'chess_games.csv'\n",
    "# Read the file into a DataFrame: df\n",
    "df = pd.read_csv(file)"
   ]
  },
  {
   "cell_type": "code",
   "execution_count": 2,
   "id": "a75c8516",
   "metadata": {},
   "outputs": [
    {
     "name": "stdout",
     "output_type": "stream",
     "text": [
      "(20058, 17)\n"
     ]
    },
    {
     "data": {
      "text/html": [
       "<div>\n",
       "<style scoped>\n",
       "    .dataframe tbody tr th:only-of-type {\n",
       "        vertical-align: middle;\n",
       "    }\n",
       "\n",
       "    .dataframe tbody tr th {\n",
       "        vertical-align: top;\n",
       "    }\n",
       "\n",
       "    .dataframe thead th {\n",
       "        text-align: right;\n",
       "    }\n",
       "</style>\n",
       "<table border=\"1\" class=\"dataframe\">\n",
       "  <thead>\n",
       "    <tr style=\"text-align: right;\">\n",
       "      <th></th>\n",
       "      <th>game_id</th>\n",
       "      <th>rated</th>\n",
       "      <th>turns</th>\n",
       "      <th>victory_status</th>\n",
       "      <th>winner</th>\n",
       "      <th>time_increment</th>\n",
       "      <th>white_id</th>\n",
       "      <th>white_rating</th>\n",
       "      <th>black_id</th>\n",
       "      <th>black_rating</th>\n",
       "      <th>moves</th>\n",
       "      <th>opening_code</th>\n",
       "      <th>opening_moves</th>\n",
       "      <th>opening_fullname</th>\n",
       "      <th>opening_shortname</th>\n",
       "      <th>opening_response</th>\n",
       "      <th>opening_variation</th>\n",
       "    </tr>\n",
       "  </thead>\n",
       "  <tbody>\n",
       "    <tr>\n",
       "      <th>0</th>\n",
       "      <td>1</td>\n",
       "      <td>False</td>\n",
       "      <td>13</td>\n",
       "      <td>Out of Time</td>\n",
       "      <td>White</td>\n",
       "      <td>15+2</td>\n",
       "      <td>bourgris</td>\n",
       "      <td>1500</td>\n",
       "      <td>a-00</td>\n",
       "      <td>1191</td>\n",
       "      <td>d4 d5 c4 c6 cxd5 e6 dxe6 fxe6 Nf3 Bb4+ Nc3 Ba5...</td>\n",
       "      <td>D10</td>\n",
       "      <td>5</td>\n",
       "      <td>Slav Defense: Exchange Variation</td>\n",
       "      <td>Slav Defense</td>\n",
       "      <td>NaN</td>\n",
       "      <td>Exchange Variation</td>\n",
       "    </tr>\n",
       "  </tbody>\n",
       "</table>\n",
       "</div>"
      ],
      "text/plain": [
       "   game_id  rated  turns victory_status winner time_increment  white_id  \\\n",
       "0        1  False     13    Out of Time  White           15+2  bourgris   \n",
       "\n",
       "   white_rating black_id  black_rating  \\\n",
       "0          1500     a-00          1191   \n",
       "\n",
       "                                               moves opening_code  \\\n",
       "0  d4 d5 c4 c6 cxd5 e6 dxe6 fxe6 Nf3 Bb4+ Nc3 Ba5...          D10   \n",
       "\n",
       "   opening_moves                  opening_fullname opening_shortname  \\\n",
       "0              5  Slav Defense: Exchange Variation      Slav Defense   \n",
       "\n",
       "  opening_response   opening_variation  \n",
       "0              NaN  Exchange Variation  "
      ]
     },
     "execution_count": 2,
     "metadata": {},
     "output_type": "execute_result"
    }
   ],
   "source": [
    "print(df.shape)\n",
    "df.head(1)"
   ]
  },
  {
   "cell_type": "markdown",
   "id": "56624a7b",
   "metadata": {},
   "source": [
    "   # Using `df.head(1)` we see the first line of code. These include 17 different information columns and using `df.shape` we see there are 20,000 games within this dataset"
   ]
  },
  {
   "cell_type": "code",
   "execution_count": 3,
   "id": "ee1fde62",
   "metadata": {},
   "outputs": [],
   "source": [
    "# Rearrange the columns for easier reading"
   ]
  },
  {
   "cell_type": "code",
   "execution_count": 4,
   "id": "85820aa6",
   "metadata": {},
   "outputs": [
    {
     "data": {
      "text/html": [
       "<div>\n",
       "<style scoped>\n",
       "    .dataframe tbody tr th:only-of-type {\n",
       "        vertical-align: middle;\n",
       "    }\n",
       "\n",
       "    .dataframe tbody tr th {\n",
       "        vertical-align: top;\n",
       "    }\n",
       "\n",
       "    .dataframe thead th {\n",
       "        text-align: right;\n",
       "    }\n",
       "</style>\n",
       "<table border=\"1\" class=\"dataframe\">\n",
       "  <thead>\n",
       "    <tr style=\"text-align: right;\">\n",
       "      <th></th>\n",
       "      <th>game_id</th>\n",
       "      <th>winner</th>\n",
       "      <th>victory_status</th>\n",
       "      <th>rated</th>\n",
       "      <th>white_rating</th>\n",
       "      <th>black_rating</th>\n",
       "      <th>turns</th>\n",
       "      <th>time_increment</th>\n",
       "      <th>white_id</th>\n",
       "      <th>black_id</th>\n",
       "      <th>opening_code</th>\n",
       "      <th>opening_moves</th>\n",
       "      <th>opening_fullname</th>\n",
       "      <th>opening_shortname</th>\n",
       "      <th>opening_response</th>\n",
       "      <th>opening_variation</th>\n",
       "      <th>moves</th>\n",
       "    </tr>\n",
       "  </thead>\n",
       "  <tbody>\n",
       "    <tr>\n",
       "      <th>0</th>\n",
       "      <td>1</td>\n",
       "      <td>White</td>\n",
       "      <td>Out of Time</td>\n",
       "      <td>False</td>\n",
       "      <td>1500</td>\n",
       "      <td>1191</td>\n",
       "      <td>13</td>\n",
       "      <td>15+2</td>\n",
       "      <td>bourgris</td>\n",
       "      <td>a-00</td>\n",
       "      <td>D10</td>\n",
       "      <td>5</td>\n",
       "      <td>Slav Defense: Exchange Variation</td>\n",
       "      <td>Slav Defense</td>\n",
       "      <td>NaN</td>\n",
       "      <td>Exchange Variation</td>\n",
       "      <td>d4 d5 c4 c6 cxd5 e6 dxe6 fxe6 Nf3 Bb4+ Nc3 Ba5...</td>\n",
       "    </tr>\n",
       "  </tbody>\n",
       "</table>\n",
       "</div>"
      ],
      "text/plain": [
       "   game_id winner victory_status  rated  white_rating  black_rating  turns  \\\n",
       "0        1  White    Out of Time  False          1500          1191     13   \n",
       "\n",
       "  time_increment  white_id black_id opening_code  opening_moves  \\\n",
       "0           15+2  bourgris     a-00          D10              5   \n",
       "\n",
       "                   opening_fullname opening_shortname opening_response  \\\n",
       "0  Slav Defense: Exchange Variation      Slav Defense              NaN   \n",
       "\n",
       "    opening_variation                                              moves  \n",
       "0  Exchange Variation  d4 d5 c4 c6 cxd5 e6 dxe6 fxe6 Nf3 Bb4+ Nc3 Ba5...  "
      ]
     },
     "execution_count": 4,
     "metadata": {},
     "output_type": "execute_result"
    }
   ],
   "source": [
    "df = df[['game_id', 'winner','victory_status','rated','white_rating','black_rating','turns','time_increment','white_id', 'black_id','opening_code', 'opening_moves', 'opening_fullname','opening_shortname', 'opening_response', 'opening_variation','moves',]]\n",
    "df.head(1)"
   ]
  },
  {
   "cell_type": "code",
   "execution_count": 5,
   "id": "780c40d6",
   "metadata": {},
   "outputs": [
    {
     "data": {
      "image/png": "[encoded data removed]",
      "text/plain": [
       "<Figure size 360x360 with 1 Axes>"
      ]
     },
     "metadata": {
      "needs_background": "light"
     },
     "output_type": "display_data"
    },
    {
     "name": "stdout",
     "output_type": "stream",
     "text": [
      "This shows that most games in this dataset are \"Rated\" Games\n"
     ]
    }
   ],
   "source": [
    "sns.catplot(x='rated',\n",
    "           data=df,\n",
    "           kind='count',\n",
    "           order=[True,False])\n",
    "plt.title('Rated vs Unrated Games')\n",
    "plt.show()\n",
    "print('This shows that most games in this dataset are \"Rated\" Games')"
   ]
  },
  {
   "cell_type": "markdown",
   "id": "179e2316",
   "metadata": {},
   "source": [
    "# We only care about rated games so lets remove all non-rated games"
   ]
  },
  {
   "cell_type": "code",
   "execution_count": 6,
   "id": "b9cf495b",
   "metadata": {},
   "outputs": [],
   "source": [
    "df = df[df.rated != False]"
   ]
  },
  {
   "cell_type": "markdown",
   "id": "f13fcf7f",
   "metadata": {},
   "source": [
    "# We can also get rid of `time_increment` and `opening_code` "
   ]
  },
  {
   "cell_type": "code",
   "execution_count": 7,
   "id": "a0fb49f7",
   "metadata": {},
   "outputs": [
    {
     "data": {
      "text/html": [
       "<div>\n",
       "<style scoped>\n",
       "    .dataframe tbody tr th:only-of-type {\n",
       "        vertical-align: middle;\n",
       "    }\n",
       "\n",
       "    .dataframe tbody tr th {\n",
       "        vertical-align: top;\n",
       "    }\n",
       "\n",
       "    .dataframe thead th {\n",
       "        text-align: right;\n",
       "    }\n",
       "</style>\n",
       "<table border=\"1\" class=\"dataframe\">\n",
       "  <thead>\n",
       "    <tr style=\"text-align: right;\">\n",
       "      <th></th>\n",
       "      <th>game_id</th>\n",
       "      <th>winner</th>\n",
       "      <th>victory_status</th>\n",
       "      <th>rated</th>\n",
       "      <th>white_rating</th>\n",
       "      <th>black_rating</th>\n",
       "      <th>turns</th>\n",
       "      <th>white_id</th>\n",
       "      <th>black_id</th>\n",
       "      <th>opening_moves</th>\n",
       "      <th>opening_fullname</th>\n",
       "      <th>opening_shortname</th>\n",
       "      <th>opening_response</th>\n",
       "      <th>opening_variation</th>\n",
       "      <th>moves</th>\n",
       "    </tr>\n",
       "  </thead>\n",
       "  <tbody>\n",
       "    <tr>\n",
       "      <th>1</th>\n",
       "      <td>2</td>\n",
       "      <td>Black</td>\n",
       "      <td>Resign</td>\n",
       "      <td>True</td>\n",
       "      <td>1322</td>\n",
       "      <td>1261</td>\n",
       "      <td>16</td>\n",
       "      <td>a-00</td>\n",
       "      <td>skinnerua</td>\n",
       "      <td>4</td>\n",
       "      <td>Nimzowitsch Defense: Kennedy Variation</td>\n",
       "      <td>Nimzowitsch Defense</td>\n",
       "      <td>NaN</td>\n",
       "      <td>Kennedy Variation</td>\n",
       "      <td>d4 Nc6 e4 e5 f4 f6 dxe5 fxe5 fxe5 Nxe5 Qd4 Nc6...</td>\n",
       "    </tr>\n",
       "    <tr>\n",
       "      <th>2</th>\n",
       "      <td>3</td>\n",
       "      <td>White</td>\n",
       "      <td>Mate</td>\n",
       "      <td>True</td>\n",
       "      <td>1496</td>\n",
       "      <td>1500</td>\n",
       "      <td>61</td>\n",
       "      <td>ischia</td>\n",
       "      <td>a-00</td>\n",
       "      <td>3</td>\n",
       "      <td>King's Pawn Game: Leonardis Variation</td>\n",
       "      <td>King's Pawn Game</td>\n",
       "      <td>NaN</td>\n",
       "      <td>Leonardis Variation</td>\n",
       "      <td>e4 e5 d3 d6 Be3 c6 Be2 b5 Nd2 a5 a4 c5 axb5 Nc...</td>\n",
       "    </tr>\n",
       "    <tr>\n",
       "      <th>3</th>\n",
       "      <td>4</td>\n",
       "      <td>White</td>\n",
       "      <td>Mate</td>\n",
       "      <td>True</td>\n",
       "      <td>1439</td>\n",
       "      <td>1454</td>\n",
       "      <td>61</td>\n",
       "      <td>daniamurashov</td>\n",
       "      <td>adivanov2009</td>\n",
       "      <td>3</td>\n",
       "      <td>Queen's Pawn Game: Zukertort Variation</td>\n",
       "      <td>Queen's Pawn Game</td>\n",
       "      <td>NaN</td>\n",
       "      <td>Zukertort Variation</td>\n",
       "      <td>d4 d5 Nf3 Bf5 Nc3 Nf6 Bf4 Ng4 e3 Nc6 Be2 Qd7 O...</td>\n",
       "    </tr>\n",
       "  </tbody>\n",
       "</table>\n",
       "</div>"
      ],
      "text/plain": [
       "   game_id winner victory_status  rated  white_rating  black_rating  turns  \\\n",
       "1        2  Black         Resign   True          1322          1261     16   \n",
       "2        3  White           Mate   True          1496          1500     61   \n",
       "3        4  White           Mate   True          1439          1454     61   \n",
       "\n",
       "        white_id      black_id  opening_moves  \\\n",
       "1           a-00     skinnerua              4   \n",
       "2         ischia          a-00              3   \n",
       "3  daniamurashov  adivanov2009              3   \n",
       "\n",
       "                         opening_fullname    opening_shortname  \\\n",
       "1  Nimzowitsch Defense: Kennedy Variation  Nimzowitsch Defense   \n",
       "2   King's Pawn Game: Leonardis Variation     King's Pawn Game   \n",
       "3  Queen's Pawn Game: Zukertort Variation    Queen's Pawn Game   \n",
       "\n",
       "  opening_response    opening_variation  \\\n",
       "1              NaN    Kennedy Variation   \n",
       "2              NaN  Leonardis Variation   \n",
       "3              NaN  Zukertort Variation   \n",
       "\n",
       "                                               moves  \n",
       "1  d4 Nc6 e4 e5 f4 f6 dxe5 fxe5 fxe5 Nxe5 Qd4 Nc6...  \n",
       "2  e4 e5 d3 d6 Be3 c6 Be2 b5 Nd2 a5 a4 c5 axb5 Nc...  \n",
       "3  d4 d5 Nf3 Bf5 Nc3 Nf6 Bf4 Ng4 e3 Nc6 Be2 Qd7 O...  "
      ]
     },
     "execution_count": 7,
     "metadata": {},
     "output_type": "execute_result"
    }
   ],
   "source": [
    "df.drop('time_increment',axis=1,inplace=True)\n",
    "df.drop('opening_code',axis=1,inplace=True)\n",
    "df.head(3)"
   ]
  },
  {
   "cell_type": "code",
   "execution_count": null,
   "id": "7f0b702b",
   "metadata": {},
   "outputs": [],
   "source": []
  },
  {
   "cell_type": "code",
   "execution_count": 8,
   "id": "a784b0f0",
   "metadata": {},
   "outputs": [
    {
     "data": {
      "image/png": "[encoded data removed]",
      "text/plain": [
       "<Figure size 360x360 with 1 Axes>"
      ]
     },
     "metadata": {
      "needs_background": "light"
     },
     "output_type": "display_data"
    },
    {
     "name": "stdout",
     "output_type": "stream",
     "text": [
      "This count bar graph is designed to show the relationship between games where players followed the opening moves of a specific\n",
      "variation of play.\n",
      "\n",
      "As you can see, the vast majority of openings are only followed for < 10 moves before leaving\n",
      "what are called \"book moves\"\n"
     ]
    }
   ],
   "source": [
    "sns.catplot(x=df.opening_moves,\n",
    "           data=df,\n",
    "           kind='count')\n",
    "plt.title('Opening Move Count')\n",
    "plt.show()\n",
    "print('This count bar graph is designed to show the relationship between games where players followed the opening moves of a specific')\n",
    "print('variation of play.')\n",
    "print('')\n",
    "print('As you can see, the vast majority of openings are only followed for < 10 moves before leaving')\n",
    "print('what are called \"book moves\"')"
   ]
  },
  {
   "cell_type": "markdown",
   "id": "47804787",
   "metadata": {},
   "source": [
    "# Lets try and create an 'upset' column\n",
    "## based on the ratings of each player (white and black) we will find who is higher rated, and whether they won.\n",
    "\n",
    "### We will need to define what the conditions of an upset are and use those to create a column"
   ]
  },
  {
   "cell_type": "code",
   "execution_count": 29,
   "id": "e84e6485",
   "metadata": {},
   "outputs": [],
   "source": [
    "#We will use np.select for this job\n",
    "\n",
    "conditions = [\n",
    "    (df[\"black_rating\"] < df['white_rating']) & (df['winner'] == 'Black'),\n",
    "    (df[\"white_rating\"] < df['black_rating']) & (df['winner'] == 'White')\n",
    "]\n",
    "\n",
    "choices = [True,True]\n",
    "\n",
    "df['upset'] = np.select(conditions,choices,default=False)"
   ]
  },
  {
   "cell_type": "code",
   "execution_count": 44,
   "id": "ffc96583",
   "metadata": {},
   "outputs": [
    {
     "name": "stdout",
     "output_type": "stream",
     "text": [
      "False    10771\n",
      "True      5384\n",
      "Name: upsets, dtype: int64\n"
     ]
    },
    {
     "data": {
      "image/png": "[encoded data removed]",
      "text/plain": [
       "<Figure size 360x360 with 1 Axes>"
      ]
     },
     "metadata": {
      "needs_background": "light"
     },
     "output_type": "display_data"
    },
    {
     "name": "stdout",
     "output_type": "stream",
     "text": [
      "This just goes to show, it does not matter who your opponent is, \n",
      "you should always try your best!\n",
      "1/3 of games are upsets in chess!\n"
     ]
    }
   ],
   "source": [
    "print(df.upsets.value_counts())\n",
    "sns.catplot(x='upsets',\n",
    "           data=df,\n",
    "           kind='count',\n",
    "           order=[True,False])\n",
    "plt.show()\n",
    "print('This just goes to show, it does not matter who your opponent is, ')\n",
    "print('you should always try your best!')\n",
    "print('1/3 of games are upsets in chess!')"
   ]
  },
  {
   "cell_type": "code",
   "execution_count": 42,
   "id": "b94074c3",
   "metadata": {},
   "outputs": [
    {
     "data": {
      "text/plain": [
       "Text(0, 0.5, 'Opening Name')"
      ]
     },
     "execution_count": 42,
     "metadata": {},
     "output_type": "execute_result"
    },
    {
     "data": {
      "image/png": "[encoded data removed]",
      "text/plain": [
       "<Figure size 432x288 with 1 Axes>"
      ]
     },
     "metadata": {
      "needs_background": "light"
     },
     "output_type": "display_data"
    }
   ],
   "source": [
    "#Here we are going to group games by their opening\n",
    "\n",
    "openings = df.groupby('opening_shortname')['game_id'].count().sort_values(ascending = False)\n",
    "\n",
    "#graph the numbers of most played openings\n",
    "openings.head(15).plot(kind = 'barh')\n",
    "plt.title('Chess Openings')\n",
    "plt.ylabel('Opening Name')"
   ]
  },
  {
   "cell_type": "code",
   "execution_count": 43,
   "id": "ff5fe064",
   "metadata": {},
   "outputs": [
    {
     "data": {
      "text/plain": [
       "Text(0, 0.5, 'Opening Name')"
      ]
     },
     "execution_count": 43,
     "metadata": {},
     "output_type": "execute_result"
    },
    {
     "data": {
      "image/png": "[encoded data removed]",
      "text/plain": [
       "<Figure size 432x288 with 1 Axes>"
      ]
     },
     "metadata": {
      "needs_background": "light"
     },
     "output_type": "display_data"
    }
   ],
   "source": [
    "#let see if upsets have the same kind of graph\n",
    "\n",
    "upsets = df[df.upsets == True]\n",
    "\n",
    "openings = upsets.groupby('opening_shortname')['game_id'].count().sort_values(ascending = False)\n",
    "\n",
    "\n",
    "#graph the numbers of most played openings\n",
    "openings.head(15).plot(kind = 'barh')\n",
    "plt.title('Chess Openings')\n",
    "plt.ylabel('Opening Name')"
   ]
  },
  {
   "cell_type": "markdown",
   "id": "e7a10db8",
   "metadata": {},
   "source": [
    "# Looking at this graph, it seems the opening doesn't matter when it comes to an upset"
   ]
  },
  {
   "cell_type": "code",
   "execution_count": null,
   "id": "eb984f99",
   "metadata": {},
   "outputs": [],
   "source": []
  },
  {
   "cell_type": "code",
   "execution_count": null,
   "id": "5384c685",
   "metadata": {},
   "outputs": [],
   "source": []
  },
  {
   "cell_type": "code",
   "execution_count": null,
   "id": "1ec4be45",
   "metadata": {},
   "outputs": [],
   "source": []
  },
  {
   "cell_type": "code",
   "execution_count": null,
   "id": "6ab923ce",
   "metadata": {},
   "outputs": [],
   "source": []
  }
 ],
 "metadata": {
  "kernelspec": {
   "display_name": "Python 3",
   "language": "python",
   "name": "python3"
  },
  "language_info": {
   "codemirror_mode": {
    "name": "ipython",
    "version": 3
   },
   "file_extension": ".py",
   "mimetype": "text/x-python",
   "name": "python",
   "nbconvert_exporter": "python",
   "pygments_lexer": "ipython3",
   "version": "3.8.8"
  }
 },
 "nbformat": 4,
 "nbformat_minor": 5
}
