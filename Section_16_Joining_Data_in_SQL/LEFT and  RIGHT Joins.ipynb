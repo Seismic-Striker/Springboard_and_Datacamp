{
 "cells": [
  {
   "cell_type": "markdown",
   "id": "a6be9233",
   "metadata": {},
   "source": [
    "# 1. LEFT and RIGHT JOINs\n",
    "Congratulations on completing Chapter 1 on INNER JOINs. Welcome to Chapter 2 on OUTER JOINs! You can remember outer joins as reaching OUT to another table while keeping all of the records of the original table. Inner joins keep only the records IN both tables. You'll begin this chapter by exploring (1) LEFT JOINs, (2) RIGHT JOINs, and (3) FULL JOINs, which are the three types of OUTER JOINs. Let's begin by exploring how a LEFT JOIN differs from an INNER JOIN via a diagram.\n",
    "\n",
    "2. INNER JOIN diagram\n",
    "Recall the inner join diagram from Chapter 1. The only records that were included in the resulting table of the INNER JOIN query were those in which the id field had matching values.\n",
    "\n",
    "3. LEFT JOIN initial diagram\n",
    "In contrast, a LEFT JOIN notes those records in the left table that do not have a match on the key field in the right table. This is denoted in the diagram by the open circles remaining close to the left table for id values of 2 and 3. These values of 2 and 3 do not appear in the id field of the right table.\n",
    "\n",
    "4. LEFT JOIN diagram\n",
    "You now see the result of the LEFT JOIN query. Whereas the INNER JOIN kept just the records corresponding to id values of 1 and 4, a LEFT JOIN keeps all of the original records in the left table but then marks the values as missing in the right table for those that don't have a match. The missing values are marked with dark gray boxes here for clarity. Note that the values of 5 and 6 for id in the right table are not found in the result of LEFT JOIN in any way.\n",
    "\n",
    "5. Multiple INNER JOIN diagram\n",
    "It isn't always the case that each key value in the left table corresponds to exactly one record in the key column of the right table. In these examples, we have this layout. Missing entries still occur for ids of 2 and 3 and the value of R3 is brought into the join from right2 since it matches on id 4. Duplicate rows are shown in the LEFT JOIN for id 1 since it has two matches corresponding to the values of R1 and R2 in the right2 table.\n",
    "\n",
    "6. The syntax of a LEFT JOIN\n",
    "The syntax of the LEFT JOIN is similar to that of the INNER JOIN. Let's explore the same code you used before to determine the countries with a prime minister and a president, but let's use a LEFT JOIN instead of an INNER JOIN. Further, let's remove continent to save space on the screen. The first four records in this table are the same as those from the INNER JOIN. The last six correspond to the countries that do not have a president and thus their president values are missing.\n",
    "\n",
    "7. RIGHT JOIN\n",
    "The RIGHT JOIN is much less common than the LEFT JOIN so we won't spend as much time on it here. The diagram will help you to understand how it works. Instead of matching entries in the id column on the left table TO the id column of the right table, a RIGHT JOIN does the reverse. Therefore, we see open circles on the ids of 5 and 6 in the right table since they are not found in the left table. The resulting table from the RIGHT JOIN shows these missing entries in the L_val field. As you can see in SQL the right table appears after RIGHT JOIN and the left table appears after FROM.\n",
    "\n",
    "8. Let's practice!\n",
    "I'll see you again soon to introduce FULL JOINs after you complete the next few exercises."
   ]
  },
  {
   "cell_type": "code",
   "execution_count": null,
   "id": "2692899b",
   "metadata": {},
   "outputs": [],
   "source": []
  }
 ],
 "metadata": {
  "kernelspec": {
   "display_name": "Python 3",
   "language": "python",
   "name": "python3"
  },
  "language_info": {
   "codemirror_mode": {
    "name": "ipython",
    "version": 3
   },
   "file_extension": ".py",
   "mimetype": "text/x-python",
   "name": "python",
   "nbconvert_exporter": "python",
   "pygments_lexer": "ipython3",
   "version": "3.8.8"
  }
 },
 "nbformat": 4,
 "nbformat_minor": 5
}
