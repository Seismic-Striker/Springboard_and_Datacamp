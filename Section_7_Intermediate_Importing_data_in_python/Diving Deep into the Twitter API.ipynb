{
 "cells": [
  {
   "cell_type": "markdown",
   "id": "9f4c6693",
   "metadata": {},
   "source": [
    "# 1. The Twitter API and Authentication\n",
    "Congratulations on interacting with your very first APIs and getting data from them! You're on the home stretch now.\n",
    "\n",
    "2. Herein, you’ll learn\n",
    "As a final deep dive, you're going to stream data from the Twitter API. You'll learn how to filter incoming tweets for keywords, you'll learn about the principles of API authentication and OAuth. You'll also learn the basics of the package\n",
    "\n",
    "3. Herein, you’ll learn\n",
    "tweepy, which many people in PythonLand use to interact with the Twitter API.\n",
    "\n",
    "4. Access the Twitter API\n",
    "One of the first major differences between the Twitter API and all the APIs you have seen so far is that you were able to access all the others anonymously and Twitter requires that you have an account. In order gain access to the Twitter API, one needs to create a twitter account if you don't already have one,\n",
    "\n",
    "5. Access the Twitter API\n",
    "log into Twitter Apps and click \"Create a New App\" - you'll need to agree to a variety of terms and conditions here,\n",
    "\n",
    "6. Access the Twitter API\n",
    "then , go to your \"Keys and Access Tokens\" tab and Copy your API key, your API secret,\n",
    "\n",
    "7. Access the Twitter API\n",
    "your Access Token and your Access Token secret. These are the Authentication credentials that will allow you to access the Twitter API from Python. In the following interactive exercises, we won't require that you create your own Twitter account and App: we'll do a mock run-through of how you would stream data and analyze as if you had done so.\n",
    "\n",
    "8. Twitter has a number of APIs\n",
    "It is now important to mention that Twitter has a number of APIs. Firstly, they have a REST API; we won't go into the gory details of REST APIs here but I'll say two things - one: REST is short for Representational State Transfer; two: Twitter's REST API allows the user to \"read and write Twitter data\"; In order \"monitor or process Tweets in real-time\",\n",
    "\n",
    "9. Twitter has a number of APIs\n",
    "that is, to stream Twitter data, however, we'll want to use Twitter's Streaming API. In particular,\n",
    "\n",
    "10. Twitter has a number of APIs\n",
    "we'll use the public stream, which Twitter's API documentation states \"Streams of the public data flowing through Twitter.\". The Public Stream itself contains a number of options. As we want to read and process tweets,\n",
    "\n",
    "11. Twitter has a number of APIs\n",
    "we'll want to use the GET statuses/sample API, which \"Returns a small random sample of all public statuses.\"\n",
    "\n",
    "12. Twitter has a number of APIs\n",
    "If you wanted to access absolutely \"All public statuses\", you would need to use Twitter's Firehose API, which is not publicly available and would most likely cost you a pretty penny.\n",
    "\n",
    "13. Tweets are returned as JSONs\n",
    "One last point to note before we begin streaming tweets: tweets are returned to us as JSONs and they contain numerous possible fields. Check out the Twitter tweet field guide here. You can get tweet text, user, language, time of tweet,\n",
    "\n",
    "14. Tweets are returned as JSONs\n",
    "among many other fields. Lets see how to access and stream data from the Twitter API!. For first-time Python tweet-streamers, I usually recommend the package tweepy,\n",
    "\n",
    "15. Using Tweepy: Authentication handler\n",
    "which has a nice balance of usability and capability. Let's now use it to stream some tweets! First off, it has an OAuth handler which takes care of all of that nasty stuff for you: all you need to do is to pass the API Key and Secret to the handler and then to pass to access credentials using the set_access_token method.\n",
    "\n",
    "16. Tweepy: define stream listener class\n",
    "After this, you'll need to define you Twitter stream listener Class. I wouldn't necessarily expect you to be able to do this yourself so I'm going to do that for you both here and in the interactive exercises that follow. Here I define a Tweet listener that creates a file called 'tweets dot txt', collects streaming tweets and writes them to the file 'tweets dot txt'; once 100 tweets have been streamed, the listener closes the file and stops listening.\n",
    "\n",
    "17. Using Tweepy: stream tweets!!\n",
    "Now that we have written our Twitter Stream Listener Class, all you need to do is to create an instance of it and authenticate it. You can then stream tweets that containing keywords of choice by applying the filter method to the object stream! In the following exercises, you'll practice writing Python code to stream tweets and then you'll do some basic analysis of these tweets to see how often particular keywords are mentioned.\n",
    "\n",
    "18. Let's practice!\n",
    "Happy streaming!"
   ]
  },
  {
   "cell_type": "code",
   "execution_count": null,
   "id": "5c4d4672",
   "metadata": {},
   "outputs": [],
   "source": []
  }
 ],
 "metadata": {
  "kernelspec": {
   "display_name": "Python 3",
   "language": "python",
   "name": "python3"
  },
  "language_info": {
   "codemirror_mode": {
    "name": "ipython",
    "version": 3
   },
   "file_extension": ".py",
   "mimetype": "text/x-python",
   "name": "python",
   "nbconvert_exporter": "python",
   "pygments_lexer": "ipython3",
   "version": "3.8.8"
  }
 },
 "nbformat": 4,
 "nbformat_minor": 5
}
