{
 "cells": [
  {
   "cell_type": "code",
   "execution_count": 3,
   "id": "ad901cd7",
   "metadata": {},
   "outputs": [
    {
     "data": {
      "text/plain": [
       "Index(['Unnamed: 0', 'Music', 'Techno', 'Movies', 'History', 'Mathematics',\n",
       "       'Pets', 'Spiders', 'Loneliness', 'Parents' advice', 'Internet usage',\n",
       "       'Finances', 'Age', 'Siblings', 'Gender', 'Village - town'],\n",
       "      dtype='object')"
      ]
     },
     "execution_count": 3,
     "metadata": {},
     "output_type": "execute_result"
    }
   ],
   "source": [
    "import seaborn as sns\n",
    "import pandas as pd\n",
    "import matplotlib.pyplot as plt\n",
    "import numpy as np\n",
    "import seaborn as sns\n",
    "import matplotlib.pyplot as plt\n",
    "import numpy as np\n",
    "import pandas as pd\n",
    "from numpy import median\n",
    "tips = sns.load_dataset('tips')\n",
    "countries = pd.read_csv('countries-of-the-world.csv')\n",
    "mpg = pd.read_csv('mpg.csv')\n",
    "survey_data = pd.read_csv('young-people-survey-responses.csv')\n",
    "survey_data.columns"
   ]
  },
  {
   "cell_type": "code",
   "execution_count": null,
   "id": "e9271906",
   "metadata": {},
   "outputs": [],
   "source": []
  },
  {
   "cell_type": "markdown",
   "id": "bb496d70",
   "metadata": {},
   "source": [
    "# 1. Changing plot style and color\n",
    "So far we've covered how to create a variety of different plot types. Now let's learn how to customize them.\n",
    "\n",
    "2. Why customize?\n",
    "By default, Seaborn plots are pleasing to look at, but there are several reasons you may want to change the appearance. Changing the style of a plot can be motivated by personal preference, but it can also help improve its readability or help orient an audience more quickly to the key takeaway.\n",
    "\n",
    "3. Changing the figure style\n",
    "Seaborn has five preset figure styles which change the background and axes of the plot. You can refer to them by name: \"white\", \"dark\", \"whitegrid\", \"darkgrid\", and \"ticks\". To set one of these as the global style for all of your plots, use the \"set style\" function.\n",
    "\n",
    "4. Default figure style (\"white\")\n",
    "This is a plot we've seen before, showing the percentage of men reporting that masculinity was important to them, stratified by their age and whether or not they feel masculine. The default style is called \"white\" and provides clean axes with a solid white background. If we only care about the comparisons between groups or the general trend across age groups instead of the specific values, this is a good choice.\n",
    "\n",
    "5. Figure style: \"whitegrid\"\n",
    "Changing the style to \"whitegrid\" will add a gray grid in the background. This is useful if you want your audience to be able to determine the specific values of the plotted points instead of making higher level observations.\n",
    "\n",
    "6. Other styles\n",
    "The other styles are variants on these. \"ticks\" is similar to \"white\", but adds small tick marks to the x- and y-axes.\n",
    "\n",
    "7. Other styles\n",
    "\"dark\" provides a gray background,\n",
    "\n",
    "8. Other styles\n",
    "and \"darkgrid\" provides a gray background with a white grid.\n",
    "\n",
    "9. Changing the palette\n",
    "You can change the color of the main elements of the plot with Seaborn's \"set palette\" function. Seaborn has many preset color palettes that you can refer to by name, or you can create your own custom palette. Let's see an example.\n",
    "\n",
    "10. Diverging palettes\n",
    "Seaborn has a group of preset palettes called diverging palettes that are great to use if your visualization deals with a scale where the two ends of the scale are opposites and there is a neutral midpoint. Here are some examples of diverging palettes - red/blue and purple/green. Note that if you append the palette name with \"_r\", you can reverse the palette.\n",
    "\n",
    "11. Example (default palette)\n",
    "To see this in action, let's return to a count plot we've seen before of the responses of men reporting how masculine they feel.\n",
    "\n",
    "12. Example (diverging palette)\n",
    "Setting this plot's palette to red/blue diverging provides a clearer contrast between the men who do not feel masculine and the men who do.\n",
    "\n",
    "13. Sequential palettes\n",
    "Another group of palettes are called sequential palettes. These are a single color (or two colors blended) moving from light to dark values.\n",
    "\n",
    "14. Sequential palette example\n",
    "Sequential palettes are great for emphasizing a variable on a continuous scale. One example is this plot depicting the relationship between a car's horsepower and its miles per gallon, where points grow larger and darker when the car has more cylinders.\n",
    "\n",
    "15. Custom palettes\n",
    "You can also create your own custom palettes by passing in a list of color names...\n",
    "\n",
    "16. Custom palettes\n",
    "or a list of hex color codes.\n",
    "\n",
    "17. Changing the scale\n",
    "Finally, you can change the scale of your plot by using the \"set context\" function. The scale options from smallest to largest are \"paper\", \"notebook\", \"talk\", and \"poster\".\n",
    "\n",
    "18. Default context: \"paper\"\n",
    "The default context is \"paper\".\n",
    "\n",
    "19. Larger context: \"talk\"\n",
    "You'll want to choose a larger scale like \"talk\" for posters or presentations where the audience is further away from the plot.\n",
    "\n",
    "20. Let's practice!\n",
    "Now that we've seen how to change the plot style, palette, and scale, let's practice!"
   ]
  },
  {
   "cell_type": "code",
   "execution_count": 6,
   "id": "f7a0687d",
   "metadata": {},
   "outputs": [
    {
     "data": {
      "image/png": "[encoded data removed]",
      "text/plain": [
       "<Figure size 360x360 with 1 Axes>"
      ]
     },
     "metadata": {},
     "output_type": "display_data"
    }
   ],
   "source": [
    "# Set the style to \"whitegrid\"\n",
    "sns.set_style(\"whitegrid\")\n",
    "sns.set_palette(\"Purples\")\n",
    "\n",
    "# Create a count plot of survey responses\n",
    "category_order = [\"Never\", \"Rarely\", \"Sometimes\", \n",
    "                  \"Often\", \"Always\"]\n",
    "\n",
    "sns.catplot(x=\"Parents' advice\", \n",
    "            data=survey_data, \n",
    "            kind=\"count\", \n",
    "            order=category_order)\n",
    "\n",
    "# Show plot\n",
    "plt.show()"
   ]
  },
  {
   "cell_type": "code",
   "execution_count": null,
   "id": "7e9ef104",
   "metadata": {},
   "outputs": [],
   "source": []
  }
 ],
 "metadata": {
  "kernelspec": {
   "display_name": "Python 3",
   "language": "python",
   "name": "python3"
  },
  "language_info": {
   "codemirror_mode": {
    "name": "ipython",
    "version": 3
   },
   "file_extension": ".py",
   "mimetype": "text/x-python",
   "name": "python",
   "nbconvert_exporter": "python",
   "pygments_lexer": "ipython3",
   "version": "3.8.8"
  }
 },
 "nbformat": 4,
 "nbformat_minor": 5
}
