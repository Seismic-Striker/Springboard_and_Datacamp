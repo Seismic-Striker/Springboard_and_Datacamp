{
 "cells": [
  {
   "cell_type": "code",
   "execution_count": 8,
   "id": "bc9c3893",
   "metadata": {},
   "outputs": [
    {
     "data": {
      "text/plain": [
       "Index(['Country', 'Region', 'Population', 'Area (sq. mi.)',\n",
       "       'Pop. Density (per sq. mi.)', 'Coastline (coast/area ratio)',\n",
       "       'Net migration', 'Infant mortality (per 1000 births)',\n",
       "       'GDP ($ per capita)', 'Literacy (%)', 'Phones (per 1000)', 'Arable (%)',\n",
       "       'Crops (%)', 'Other (%)', 'Climate', 'Birthrate', 'Deathrate',\n",
       "       'Agriculture', 'Industry', 'Service'],\n",
       "      dtype='object')"
      ]
     },
     "execution_count": 8,
     "metadata": {},
     "output_type": "execute_result"
    }
   ],
   "source": [
    "import seaborn as sns\n",
    "import pandas as pd\n",
    "import matplotlib.pyplot as plt\n",
    "import numpy as np\n",
    "import seaborn as sns\n",
    "import matplotlib.pyplot as plt\n",
    "import numpy as np\n",
    "import pandas as pd\n",
    "from numpy import median\n",
    "tips = sns.load_dataset('tips')\n",
    "countries = pd.read_csv('countries-of-the-world.csv')\n",
    "mpg = pd.read_csv('mpg.csv')\n",
    "survey_data = pd.read_csv('young-people-survey-responses.csv')\n",
    "countries.columns"
   ]
  },
  {
   "cell_type": "markdown",
   "id": "f0f0ed07",
   "metadata": {},
   "source": [
    "# 1. Count plots and bar plots\n",
    "Welcome to Chapter 3! In this chapter, we'll focus on visualizations that involve categorical variables. The first two plots we'll look at are count plots and bar plots.\n",
    "\n",
    "2. Categorical plots\n",
    "Count plots and bar plots are two types of visualizations that Seaborn calls \"categorical plots\". Categorical plots involve a categorical variable, which is a variable that consists of a fixed, typically small number of possible values, or categories. These types of plots are commonly used when we want to make comparisons between different groups. We began to explore categorical plots in Chapter 1 with count plots. As a reminder, a count plot displays the number of observations in each category. We saw several examples of count plots in earlier chapters, like the number of men reporting that they feel masculine. Most men surveyed here feel \"somewhat\" or \"very\" masculine.\n",
    "\n",
    "3. catplot()\n",
    "Just like we used \"relplot()\" to create different types of relational plots, in this chapter we'll be using \"catplot()\" to create different types of categorical plots. \"catplot()\" offers the same flexibility that \"relplot()\" does, which means it will be easy to create subplots if we need to using the same \"col\" and \"row\" parameters.\n",
    "\n",
    "4. countplot() vs. catplot()\n",
    "To see how \"catplot()\" works, let's return to the masculinity count plot. On the left, we see how we originally created a count plot with the \"countplot()\" function.\n",
    "\n",
    "5. countplot() vs. catplot()\n",
    "To make this plot with \"catplot()\" instead, we change the function name to \"catplot()\" and use the \"kind\" parameter to specify what kind of categorical plot to use. In this case, we'll set kind equal to the word \"count\".\n",
    "\n",
    "6. Changing the order\n",
    "Sometimes there is a specific ordering of categories that makes sense for these plots. In this case, it makes more sense for the categories to be in order from not masculine to very masculine. To change the order of the categories, create a list of category values in the order that you want them to appear, and then use the \"order\" parameter. This works for all types of categorical plots, not just count plots.\n",
    "\n",
    "7. Bar plots\n",
    "Bar plots look similar to count plots, but instead of the count of observations in each category, they show the mean of a quantitative variable among observations in each category. This bar plot uses the tips dataset and shows the average bill paid among people who visited the restaurant on each day of the week. From this, we can see that the average bill is slightly higher on the weekends. To create this bar plot, we use \"catplot\". Specify the categorical variable \"day\" on the x-axis, the quantitative variable \"total bill\" on the y-axis, and set the \"kind\" parameter equal to \"bar\".\n",
    "\n",
    "8. Confidence intervals\n",
    "Notice also that Seaborn automatically shows 95% confidence intervals for these means. Just like with line plots, these confidence intervals show us the level of uncertainty we have about these estimates. Assuming our data is a random sample of some population, we can be 95% sure that the true population mean in each group lies within the confidence interval shown.\n",
    "\n",
    "9. Turning off confidence intervals\n",
    "If we want to turn off these confidence intervals, we can do this by setting the \"ci\" parameter equal to \"None\" - just like we did with line plots.\n",
    "\n",
    "10. Changing the orientation\n",
    "Finally, you can also change the orientation of the bars in bar plots and count plots by switching the x and y parameters. However, it is fairly common practice to put the categorical variable on the x-axis.\n",
    "\n",
    "11. Let's practice!\n",
    "We'll introduce more types of categorical plots later in the chapter, but for now, let's practice what we've learned!"
   ]
  },
  {
   "cell_type": "code",
   "execution_count": 9,
   "id": "5aee665f",
   "metadata": {},
   "outputs": [
    {
     "data": {
      "image/png": "[encoded data removed]",
      "text/plain": [
       "<Figure size 360x360 with 1 Axes>"
      ]
     },
     "metadata": {
      "needs_background": "light"
     },
     "output_type": "display_data"
    }
   ],
   "source": [
    "sns.catplot(x='day',\n",
    "           y='total_bill',\n",
    "           data=tips,\n",
    "           kind='bar',\n",
    "           ci=None) #you can turn them off and on\n",
    "plt.show()"
   ]
  },
  {
   "cell_type": "markdown",
   "id": "3540e82a",
   "metadata": {},
   "source": [
    "# Count plots\n",
    "In this exercise, we'll return to exploring our dataset that contains the responses to a survey sent out to young people. We might suspect that young people spend a lot of time on the internet, but how much do they report using the internet each day? Let's use a count plot to break down the number of survey responses in each category and then explore whether it changes based on age.\n",
    "\n",
    "As a reminder, to create a count plot, we'll use the catplot() function and specify the name of the categorical variable to count (x=____), the Pandas DataFrame to use (data=____), and the type of plot (kind=\"count\").\n",
    "\n",
    "Seaborn has been imported as sns and matplotlib.pyplot has been imported as plt.# "
   ]
  },
  {
   "cell_type": "code",
   "execution_count": 10,
   "id": "53868289",
   "metadata": {},
   "outputs": [
    {
     "data": {
      "image/png": "[encoded data removed]",
      "text/plain": [
       "<Figure size 360x360 with 1 Axes>"
      ]
     },
     "metadata": {
      "needs_background": "light"
     },
     "output_type": "display_data"
    }
   ],
   "source": [
    "# Create count plot of internet usage\n",
    "sns.catplot(x=\"Internet usage\", data=survey_data,\n",
    "            kind=\"count\")\n",
    "\n",
    "# Show plot\n",
    "plt.show()"
   ]
  },
  {
   "cell_type": "code",
   "execution_count": 11,
   "id": "f27fde4a",
   "metadata": {},
   "outputs": [],
   "source": [
    "survey_data = survey_data.assign(Age_Category = pd.cut(survey_data.Age,\n",
    "                                           bins=[0,21,999],\n",
    "                                           labels=['Less than 21','21+']),inplace=True)"
   ]
  },
  {
   "cell_type": "code",
   "execution_count": 12,
   "id": "59269267",
   "metadata": {},
   "outputs": [
    {
     "name": "stdout",
     "output_type": "stream",
     "text": [
      "Index(['Unnamed: 0', 'Music', 'Techno', 'Movies', 'History', 'Mathematics',\n",
      "       'Pets', 'Spiders', 'Loneliness', 'Parents' advice', 'Internet usage',\n",
      "       'Finances', 'Age', 'Siblings', 'Gender', 'Village - town',\n",
      "       'Age_Category', 'inplace'],\n",
      "      dtype='object')\n"
     ]
    },
    {
     "data": {
      "image/png": "[encoded data removed]",
      "text/plain": [
       "<Figure size 360x360 with 1 Axes>"
      ]
     },
     "metadata": {
      "needs_background": "light"
     },
     "output_type": "display_data"
    },
    {
     "data": {
      "image/png": "[encoded data removed]",
      "text/plain": [
       "<Figure size 720x360 with 2 Axes>"
      ]
     },
     "metadata": {
      "needs_background": "light"
     },
     "output_type": "display_data"
    }
   ],
   "source": [
    "#Now Horizontal\n",
    "sns.catplot(y=\"Internet usage\", data=survey_data,\n",
    "            kind=\"count\")\n",
    "\n",
    "#now divided by 'Age Category'\n",
    "\n",
    "# Separate into column subplots based on age category\n",
    "sns.catplot(y=\"Internet usage\", data=survey_data,\n",
    "            kind=\"count\",col='Age_Category')\n",
    "\n",
    "print(survey_data.columns)"
   ]
  },
  {
   "cell_type": "markdown",
   "id": "1bd04d6f",
   "metadata": {},
   "source": [
    "# Bar plots with percentages\n",
    "Let's continue exploring the responses to a survey sent out to young people. The variable \"Interested in Math\" is True if the person reported being interested or very interested in mathematics, and False otherwise. What percentage of young people report being interested in math, and does this vary based on gender? Let's use a bar plot to find out.\n",
    "\n",
    "As a reminder, we'll create a bar plot using the catplot() function, providing the name of categorical variable to put on the x-axis (x=____), the name of the quantitative variable to summarize on the y-axis (y=____), the Pandas DataFrame to use (data=____), and the type of categorical plot (kind=\"bar\").\n",
    "\n",
    "Seaborn has been imported as sns and matplotlib.pyplot has been imported as plt.\n",
    "\n",
    "Instructions\n",
    "0 XP\n",
    "Use the survey_data DataFrame and sns.catplot() to create a bar plot with \"Gender\" on the x-axis and \"Interested in Math\" on the y-axis.\n",
    "\n",
    "Hint\n",
    "Use the kind parameter to create a bar plot."
   ]
  },
  {
   "cell_type": "code",
   "execution_count": 13,
   "id": "fa810097",
   "metadata": {},
   "outputs": [
    {
     "data": {
      "image/png": "[encoded data removed]",
      "text/plain": [
       "<Figure size 360x360 with 1 Axes>"
      ]
     },
     "metadata": {
      "needs_background": "light"
     },
     "output_type": "display_data"
    }
   ],
   "source": [
    "# Create a bar plot of interest in math, separated by gender\n",
    "sns.catplot(x=\"Gender\", y=\"Mathematics\",\n",
    "            data=survey_data, kind=\"bar\")\n",
    "\n",
    "# Show plot\n",
    "plt.show()"
   ]
  },
  {
   "cell_type": "markdown",
   "id": "e84ff60c",
   "metadata": {},
   "source": [
    "# Customizing bar plots\n",
    "In this exercise, we'll explore data from students in secondary school. The \"study_time\" variable records each student's reported weekly study time as one of the following categories: \"<2 hours\", \"2 to 5 hours\", \"5 to 10 hours\", or \">10 hours\". Do students who report higher amounts of studying tend to get better final grades? Let's compare the average final grade among students in each category using a bar plot.\n",
    "\n",
    "Seaborn has been imported as sns and matplotlib.pyplot has been imported as plt.\n",
    "\n",
    "Instructions 1/3\n",
    "1 XP\n",
    "1\n",
    "2\n",
    "3\n",
    "Use sns.catplot() to create a bar plot with \"study_time\" on the x-axis and final grade (\"G3\") on the y-axis, using the student_data DataFrame."
   ]
  },
  {
   "cell_type": "code",
   "execution_count": 15,
   "id": "51d1e8a8",
   "metadata": {},
   "outputs": [
    {
     "ename": "ValueError",
     "evalue": "Could not interpret input 'study_time'",
     "output_type": "error",
     "traceback": [
      "\u001b[1;31m---------------------------------------------------------------------------\u001b[0m",
      "\u001b[1;31mValueError\u001b[0m                                Traceback (most recent call last)",
      "\u001b[1;32m<ipython-input-15-d105e7f1ea03>\u001b[0m in \u001b[0;36m<module>\u001b[1;34m\u001b[0m\n\u001b[0;32m      1\u001b[0m \u001b[0mstudent_data\u001b[0m \u001b[1;33m=\u001b[0m \u001b[0msurvey_data\u001b[0m\u001b[1;33m\u001b[0m\u001b[1;33m\u001b[0m\u001b[0m\n\u001b[0;32m      2\u001b[0m \u001b[1;31m# Create bar plot of average final grade in each study category\u001b[0m\u001b[1;33m\u001b[0m\u001b[1;33m\u001b[0m\u001b[1;33m\u001b[0m\u001b[0m\n\u001b[1;32m----> 3\u001b[1;33m sns.catplot(x=\"study_time\", y=\"G3\",\n\u001b[0m\u001b[0;32m      4\u001b[0m             \u001b[0mdata\u001b[0m\u001b[1;33m=\u001b[0m\u001b[0mstudent_data\u001b[0m\u001b[1;33m,\u001b[0m\u001b[1;33m\u001b[0m\u001b[1;33m\u001b[0m\u001b[0m\n\u001b[0;32m      5\u001b[0m             kind=\"bar\")\n",
      "\u001b[1;32m~\\anaconda3\\lib\\site-packages\\seaborn\\_decorators.py\u001b[0m in \u001b[0;36minner_f\u001b[1;34m(*args, **kwargs)\u001b[0m\n\u001b[0;32m     44\u001b[0m             )\n\u001b[0;32m     45\u001b[0m         \u001b[0mkwargs\u001b[0m\u001b[1;33m.\u001b[0m\u001b[0mupdate\u001b[0m\u001b[1;33m(\u001b[0m\u001b[1;33m{\u001b[0m\u001b[0mk\u001b[0m\u001b[1;33m:\u001b[0m \u001b[0marg\u001b[0m \u001b[1;32mfor\u001b[0m \u001b[0mk\u001b[0m\u001b[1;33m,\u001b[0m \u001b[0marg\u001b[0m \u001b[1;32min\u001b[0m \u001b[0mzip\u001b[0m\u001b[1;33m(\u001b[0m\u001b[0msig\u001b[0m\u001b[1;33m.\u001b[0m\u001b[0mparameters\u001b[0m\u001b[1;33m,\u001b[0m \u001b[0margs\u001b[0m\u001b[1;33m)\u001b[0m\u001b[1;33m}\u001b[0m\u001b[1;33m)\u001b[0m\u001b[1;33m\u001b[0m\u001b[1;33m\u001b[0m\u001b[0m\n\u001b[1;32m---> 46\u001b[1;33m         \u001b[1;32mreturn\u001b[0m \u001b[0mf\u001b[0m\u001b[1;33m(\u001b[0m\u001b[1;33m**\u001b[0m\u001b[0mkwargs\u001b[0m\u001b[1;33m)\u001b[0m\u001b[1;33m\u001b[0m\u001b[1;33m\u001b[0m\u001b[0m\n\u001b[0m\u001b[0;32m     47\u001b[0m     \u001b[1;32mreturn\u001b[0m \u001b[0minner_f\u001b[0m\u001b[1;33m\u001b[0m\u001b[1;33m\u001b[0m\u001b[0m\n\u001b[0;32m     48\u001b[0m \u001b[1;33m\u001b[0m\u001b[0m\n",
      "\u001b[1;32m~\\anaconda3\\lib\\site-packages\\seaborn\\categorical.py\u001b[0m in \u001b[0;36mcatplot\u001b[1;34m(x, y, hue, data, row, col, col_wrap, estimator, ci, n_boot, units, seed, order, hue_order, row_order, col_order, kind, height, aspect, orient, color, palette, legend, legend_out, sharex, sharey, margin_titles, facet_kws, **kwargs)\u001b[0m\n\u001b[0;32m   3787\u001b[0m     \u001b[0mp\u001b[0m \u001b[1;33m=\u001b[0m \u001b[0m_CategoricalPlotter\u001b[0m\u001b[1;33m(\u001b[0m\u001b[1;33m)\u001b[0m\u001b[1;33m\u001b[0m\u001b[1;33m\u001b[0m\u001b[0m\n\u001b[0;32m   3788\u001b[0m     \u001b[0mp\u001b[0m\u001b[1;33m.\u001b[0m\u001b[0mrequire_numeric\u001b[0m \u001b[1;33m=\u001b[0m \u001b[0mplotter_class\u001b[0m\u001b[1;33m.\u001b[0m\u001b[0mrequire_numeric\u001b[0m\u001b[1;33m\u001b[0m\u001b[1;33m\u001b[0m\u001b[0m\n\u001b[1;32m-> 3789\u001b[1;33m     \u001b[0mp\u001b[0m\u001b[1;33m.\u001b[0m\u001b[0mestablish_variables\u001b[0m\u001b[1;33m(\u001b[0m\u001b[0mx_\u001b[0m\u001b[1;33m,\u001b[0m \u001b[0my_\u001b[0m\u001b[1;33m,\u001b[0m \u001b[0mhue\u001b[0m\u001b[1;33m,\u001b[0m \u001b[0mdata\u001b[0m\u001b[1;33m,\u001b[0m \u001b[0morient\u001b[0m\u001b[1;33m,\u001b[0m \u001b[0morder\u001b[0m\u001b[1;33m,\u001b[0m \u001b[0mhue_order\u001b[0m\u001b[1;33m)\u001b[0m\u001b[1;33m\u001b[0m\u001b[1;33m\u001b[0m\u001b[0m\n\u001b[0m\u001b[0;32m   3790\u001b[0m     if (\n\u001b[0;32m   3791\u001b[0m         \u001b[0morder\u001b[0m \u001b[1;32mis\u001b[0m \u001b[1;32mnot\u001b[0m \u001b[1;32mNone\u001b[0m\u001b[1;33m\u001b[0m\u001b[1;33m\u001b[0m\u001b[0m\n",
      "\u001b[1;32m~\\anaconda3\\lib\\site-packages\\seaborn\\categorical.py\u001b[0m in \u001b[0;36mestablish_variables\u001b[1;34m(self, x, y, hue, data, orient, order, hue_order, units)\u001b[0m\n\u001b[0;32m    151\u001b[0m                 \u001b[1;32mif\u001b[0m \u001b[0misinstance\u001b[0m\u001b[1;33m(\u001b[0m\u001b[0mvar\u001b[0m\u001b[1;33m,\u001b[0m \u001b[0mstr\u001b[0m\u001b[1;33m)\u001b[0m\u001b[1;33m:\u001b[0m\u001b[1;33m\u001b[0m\u001b[1;33m\u001b[0m\u001b[0m\n\u001b[0;32m    152\u001b[0m                     \u001b[0merr\u001b[0m \u001b[1;33m=\u001b[0m \u001b[1;34m\"Could not interpret input '{}'\"\u001b[0m\u001b[1;33m.\u001b[0m\u001b[0mformat\u001b[0m\u001b[1;33m(\u001b[0m\u001b[0mvar\u001b[0m\u001b[1;33m)\u001b[0m\u001b[1;33m\u001b[0m\u001b[1;33m\u001b[0m\u001b[0m\n\u001b[1;32m--> 153\u001b[1;33m                     \u001b[1;32mraise\u001b[0m \u001b[0mValueError\u001b[0m\u001b[1;33m(\u001b[0m\u001b[0merr\u001b[0m\u001b[1;33m)\u001b[0m\u001b[1;33m\u001b[0m\u001b[1;33m\u001b[0m\u001b[0m\n\u001b[0m\u001b[0;32m    154\u001b[0m \u001b[1;33m\u001b[0m\u001b[0m\n\u001b[0;32m    155\u001b[0m             \u001b[1;31m# Figure out the plotting orientation\u001b[0m\u001b[1;33m\u001b[0m\u001b[1;33m\u001b[0m\u001b[1;33m\u001b[0m\u001b[0m\n",
      "\u001b[1;31mValueError\u001b[0m: Could not interpret input 'study_time'"
     ]
    }
   ],
   "source": [
    "student_data = survey_data\n",
    "# Create bar plot of average final grade in each study category\n",
    "sns.catplot(x=\"study_time\", y=\"G3\",\n",
    "            data=student_data,\n",
    "            kind=\"bar\")\n",
    "\n",
    "# Show plot\n",
    "plt.show()"
   ]
  },
  {
   "cell_type": "code",
   "execution_count": 16,
   "id": "6b67f598",
   "metadata": {},
   "outputs": [
    {
     "ename": "ValueError",
     "evalue": "Could not interpret input 'study_time'",
     "output_type": "error",
     "traceback": [
      "\u001b[1;31m---------------------------------------------------------------------------\u001b[0m",
      "\u001b[1;31mValueError\u001b[0m                                Traceback (most recent call last)",
      "\u001b[1;32m<ipython-input-16-08547336677f>\u001b[0m in \u001b[0;36m<module>\u001b[1;34m\u001b[0m\n\u001b[0;32m      6\u001b[0m \u001b[1;33m\u001b[0m\u001b[0m\n\u001b[0;32m      7\u001b[0m \u001b[1;31m# Rearrange the categories\u001b[0m\u001b[1;33m\u001b[0m\u001b[1;33m\u001b[0m\u001b[1;33m\u001b[0m\u001b[0m\n\u001b[1;32m----> 8\u001b[1;33m sns.catplot(x=\"study_time\", y=\"G3\",\n\u001b[0m\u001b[0;32m      9\u001b[0m             \u001b[0mdata\u001b[0m\u001b[1;33m=\u001b[0m\u001b[0mstudent_data\u001b[0m\u001b[1;33m,\u001b[0m\u001b[1;33m\u001b[0m\u001b[1;33m\u001b[0m\u001b[0m\n\u001b[0;32m     10\u001b[0m             kind=\"bar\")\n",
      "\u001b[1;32m~\\anaconda3\\lib\\site-packages\\seaborn\\_decorators.py\u001b[0m in \u001b[0;36minner_f\u001b[1;34m(*args, **kwargs)\u001b[0m\n\u001b[0;32m     44\u001b[0m             )\n\u001b[0;32m     45\u001b[0m         \u001b[0mkwargs\u001b[0m\u001b[1;33m.\u001b[0m\u001b[0mupdate\u001b[0m\u001b[1;33m(\u001b[0m\u001b[1;33m{\u001b[0m\u001b[0mk\u001b[0m\u001b[1;33m:\u001b[0m \u001b[0marg\u001b[0m \u001b[1;32mfor\u001b[0m \u001b[0mk\u001b[0m\u001b[1;33m,\u001b[0m \u001b[0marg\u001b[0m \u001b[1;32min\u001b[0m \u001b[0mzip\u001b[0m\u001b[1;33m(\u001b[0m\u001b[0msig\u001b[0m\u001b[1;33m.\u001b[0m\u001b[0mparameters\u001b[0m\u001b[1;33m,\u001b[0m \u001b[0margs\u001b[0m\u001b[1;33m)\u001b[0m\u001b[1;33m}\u001b[0m\u001b[1;33m)\u001b[0m\u001b[1;33m\u001b[0m\u001b[1;33m\u001b[0m\u001b[0m\n\u001b[1;32m---> 46\u001b[1;33m         \u001b[1;32mreturn\u001b[0m \u001b[0mf\u001b[0m\u001b[1;33m(\u001b[0m\u001b[1;33m**\u001b[0m\u001b[0mkwargs\u001b[0m\u001b[1;33m)\u001b[0m\u001b[1;33m\u001b[0m\u001b[1;33m\u001b[0m\u001b[0m\n\u001b[0m\u001b[0;32m     47\u001b[0m     \u001b[1;32mreturn\u001b[0m \u001b[0minner_f\u001b[0m\u001b[1;33m\u001b[0m\u001b[1;33m\u001b[0m\u001b[0m\n\u001b[0;32m     48\u001b[0m \u001b[1;33m\u001b[0m\u001b[0m\n",
      "\u001b[1;32m~\\anaconda3\\lib\\site-packages\\seaborn\\categorical.py\u001b[0m in \u001b[0;36mcatplot\u001b[1;34m(x, y, hue, data, row, col, col_wrap, estimator, ci, n_boot, units, seed, order, hue_order, row_order, col_order, kind, height, aspect, orient, color, palette, legend, legend_out, sharex, sharey, margin_titles, facet_kws, **kwargs)\u001b[0m\n\u001b[0;32m   3787\u001b[0m     \u001b[0mp\u001b[0m \u001b[1;33m=\u001b[0m \u001b[0m_CategoricalPlotter\u001b[0m\u001b[1;33m(\u001b[0m\u001b[1;33m)\u001b[0m\u001b[1;33m\u001b[0m\u001b[1;33m\u001b[0m\u001b[0m\n\u001b[0;32m   3788\u001b[0m     \u001b[0mp\u001b[0m\u001b[1;33m.\u001b[0m\u001b[0mrequire_numeric\u001b[0m \u001b[1;33m=\u001b[0m \u001b[0mplotter_class\u001b[0m\u001b[1;33m.\u001b[0m\u001b[0mrequire_numeric\u001b[0m\u001b[1;33m\u001b[0m\u001b[1;33m\u001b[0m\u001b[0m\n\u001b[1;32m-> 3789\u001b[1;33m     \u001b[0mp\u001b[0m\u001b[1;33m.\u001b[0m\u001b[0mestablish_variables\u001b[0m\u001b[1;33m(\u001b[0m\u001b[0mx_\u001b[0m\u001b[1;33m,\u001b[0m \u001b[0my_\u001b[0m\u001b[1;33m,\u001b[0m \u001b[0mhue\u001b[0m\u001b[1;33m,\u001b[0m \u001b[0mdata\u001b[0m\u001b[1;33m,\u001b[0m \u001b[0morient\u001b[0m\u001b[1;33m,\u001b[0m \u001b[0morder\u001b[0m\u001b[1;33m,\u001b[0m \u001b[0mhue_order\u001b[0m\u001b[1;33m)\u001b[0m\u001b[1;33m\u001b[0m\u001b[1;33m\u001b[0m\u001b[0m\n\u001b[0m\u001b[0;32m   3790\u001b[0m     if (\n\u001b[0;32m   3791\u001b[0m         \u001b[0morder\u001b[0m \u001b[1;32mis\u001b[0m \u001b[1;32mnot\u001b[0m \u001b[1;32mNone\u001b[0m\u001b[1;33m\u001b[0m\u001b[1;33m\u001b[0m\u001b[0m\n",
      "\u001b[1;32m~\\anaconda3\\lib\\site-packages\\seaborn\\categorical.py\u001b[0m in \u001b[0;36mestablish_variables\u001b[1;34m(self, x, y, hue, data, orient, order, hue_order, units)\u001b[0m\n\u001b[0;32m    151\u001b[0m                 \u001b[1;32mif\u001b[0m \u001b[0misinstance\u001b[0m\u001b[1;33m(\u001b[0m\u001b[0mvar\u001b[0m\u001b[1;33m,\u001b[0m \u001b[0mstr\u001b[0m\u001b[1;33m)\u001b[0m\u001b[1;33m:\u001b[0m\u001b[1;33m\u001b[0m\u001b[1;33m\u001b[0m\u001b[0m\n\u001b[0;32m    152\u001b[0m                     \u001b[0merr\u001b[0m \u001b[1;33m=\u001b[0m \u001b[1;34m\"Could not interpret input '{}'\"\u001b[0m\u001b[1;33m.\u001b[0m\u001b[0mformat\u001b[0m\u001b[1;33m(\u001b[0m\u001b[0mvar\u001b[0m\u001b[1;33m)\u001b[0m\u001b[1;33m\u001b[0m\u001b[1;33m\u001b[0m\u001b[0m\n\u001b[1;32m--> 153\u001b[1;33m                     \u001b[1;32mraise\u001b[0m \u001b[0mValueError\u001b[0m\u001b[1;33m(\u001b[0m\u001b[0merr\u001b[0m\u001b[1;33m)\u001b[0m\u001b[1;33m\u001b[0m\u001b[1;33m\u001b[0m\u001b[0m\n\u001b[0m\u001b[0;32m    154\u001b[0m \u001b[1;33m\u001b[0m\u001b[0m\n\u001b[0;32m    155\u001b[0m             \u001b[1;31m# Figure out the plotting orientation\u001b[0m\u001b[1;33m\u001b[0m\u001b[1;33m\u001b[0m\u001b[1;33m\u001b[0m\u001b[0m\n",
      "\u001b[1;31mValueError\u001b[0m: Could not interpret input 'study_time'"
     ]
    }
   ],
   "source": [
    "# List of categories from lowest to highest\n",
    "category_order = [\"<2 hours\", \n",
    "                  \"2 to 5 hours\", \n",
    "                  \"5 to 10 hours\", \n",
    "                  \">10 hours\"]\n",
    "\n",
    "# Rearrange the categories\n",
    "sns.catplot(x=\"study_time\", y=\"G3\",\n",
    "            data=student_data,\n",
    "            kind=\"bar\")\n",
    "\n",
    "# Show plot\n",
    "plt.show()\n",
    "\n",
    "# List of categories from lowest to highest\n",
    "category_order = [\"<2 hours\", \n",
    "                  \"2 to 5 hours\", \n",
    "                  \"5 to 10 hours\", \n",
    "                  \">10 hours\"]\n",
    "\n",
    "# Turn off the confidence intervals\n",
    "sns.catplot(x=\"study_time\", y=\"G3\",\n",
    "            data=student_data,\n",
    "            kind=\"bar\",\n",
    "            order=category_order)\n",
    "\n",
    "# Show plot\n",
    "plt.show()\n",
    "\n",
    "# List of categories from lowest to highest\n",
    "category_order = [\"<2 hours\", \n",
    "                  \"2 to 5 hours\", \n",
    "                  \"5 to 10 hours\", \n",
    "                  \">10 hours\"]\n",
    "\n",
    "# Turn off the confidence intervals\n",
    "sns.catplot(x=\"study_time\", y=\"G3\",\n",
    "            data=student_data,\n",
    "            kind=\"bar\",\n",
    "            order=category_order,\n",
    "            ci=None)\n",
    "\n",
    "# Show plot\n",
    "plt.show()"
   ]
  },
  {
   "cell_type": "markdown",
   "id": "8cc20143",
   "metadata": {},
   "source": [
    "# 1. Creating a box plot\n",
    "Hello! In this video we'll learn how to create a new type of categorical plot: the box plot.\n",
    "\n",
    "2. What is a box plot?\n",
    "A box plot shows the distribution of quantitative data. The colored box represents the 25th to 75th percentile, and the line in the middle of the box represents the median. The whiskers give a sense of the spread of the distribution, and the floating points represent outliers. Box plots are commonly used as a way to compare the distribution of a quantitative variable across different groups of a categorical variable. To see this, let's look at this example. The box plot shown here uses the tips dataset and compares the distribution of the total bill paid per table across the different days of the week. From this box plot we can quickly see that the median bill is higher on Saturday and Sunday, but the spread of the distribution is also larger. This comparison would be much harder to do with other types of visualizations.\n",
    "\n",
    "3. How to create a box plot\n",
    "Now let's look at how to create a box plot in Seaborn. While Seaborn does have a \"boxplot()\" function, we'll be using the \"catplot()\" function that we introduced in an earlier lesson because it makes it easy to create subplots using the \"col\" and \"row\" parameters. We'll put the categorical variable \"time\" on the x-axis and the quantitative variable \"total bill\" on the y-axis. Here, we want box plots, so we'll specify kind=\"box\". That's it! We have a nice looking box plot. Next, we'll look at different ways to customize this plot.\n",
    "\n",
    "4. Change the order of categories\n",
    "As a reminder, \"catplot\" allows you to change the order of the categories using the \"order\" parameter. Here, we specified that \"dinner\" should be shown before \"lunch\".\n",
    "\n",
    "5. Omitting the outliers using `sym`\n",
    "Occasionally, you may want to omit the outliers from your box plot. You can do this using the \"sym\" parameter. If you pass an empty string into \"sym\", it will omit the outliers from your plot altogether. \"Sym\" can also be used to change the appearance of the outliers instead of omitting them.\n",
    "\n",
    "6. Changing the whiskers using `whis`\n",
    "By default, the whiskers extend to 1 point 5 times the interquartile range, or \"IQR\". The IQR is the 25th to the 75th percentile of a distribution of data. If you want to change the way the whiskers in your box plot are defined, you can do this using the \"whis\" parameter. There are several options for changing the whiskers. You can change the range of the whiskers from 1 point 5 times the IQR (which is the default) to 2 times the IQR by setting \"whis\" equal to 2 point 0. Alternatively, you can have the whiskers define specific lower and upper percentiles by passing in a list of the lower and upper values. In this example, passing in \"[5, 95]\" will result in the lower whisker being drawn at the 5th percentile and the upper whisker being drawn at the 95th percentile. Finally, you may just want to draw the whiskers at the min and max values. You can do this by specifying the lower percentile as 0 and the upper percentile as 100.\n",
    "\n",
    "7. Changing the whiskers using `whis`\n",
    "Here's an example where the whiskers are set to the min and max values. Note that there are no outliers, because the box and whiskers cover the entire range of the data.\n",
    "\n",
    "8. Let's practice!\n",
    "Let's now practice creating and customizing box plots!"
   ]
  },
  {
   "cell_type": "code",
   "execution_count": 17,
   "id": "f8beee1e",
   "metadata": {},
   "outputs": [
    {
     "data": {
      "image/png": "[encoded data removed]",
      "text/plain": [
       "<Figure size 360x360 with 1 Axes>"
      ]
     },
     "metadata": {
      "needs_background": "light"
     },
     "output_type": "display_data"
    }
   ],
   "source": [
    "g = sns.catplot(x='time',\n",
    "               y='total_bill',\n",
    "               data=tips,\n",
    "               kind='box',\n",
    "               order=['Dinner',\n",
    "                     'Lunch'])\n",
    "\n",
    "plt.show()"
   ]
  },
  {
   "cell_type": "code",
   "execution_count": 18,
   "id": "506f2951",
   "metadata": {},
   "outputs": [
    {
     "data": {
      "image/png": "[encoded data removed]",
      "text/plain": [
       "<Figure size 360x360 with 1 Axes>"
      ]
     },
     "metadata": {
      "needs_background": "light"
     },
     "output_type": "display_data"
    }
   ],
   "source": [
    "g = sns.catplot(x='time',\n",
    "               y='total_bill',\n",
    "               data=tips,\n",
    "               kind='box',\n",
    "               sym='',\n",
    "                whis=2.0)\n",
    "#this will ommit all the outliers\n",
    "#whiskers are usually at 1.5 * interquartile range\n",
    "plt.show()"
   ]
  },
  {
   "cell_type": "code",
   "execution_count": 19,
   "id": "d0164f24",
   "metadata": {},
   "outputs": [
    {
     "data": {
      "image/png": "[encoded data removed]",
      "text/plain": [
       "<Figure size 360x360 with 1 Axes>"
      ]
     },
     "metadata": {
      "needs_background": "light"
     },
     "output_type": "display_data"
    }
   ],
   "source": [
    "g = sns.catplot(x='time',\n",
    "               y='total_bill',\n",
    "               data=tips,\n",
    "               kind='box',\n",
    "               sym='',\n",
    "                whis=[0,100])\n",
    "#this will ommit all the outliers\n",
    "#whiskers are usually at 1.5 * interquartile range, could put 2.0 or [5,95]\n",
    "plt.show()"
   ]
  },
  {
   "cell_type": "markdown",
   "id": "8ff547a0",
   "metadata": {},
   "source": [
    "# 1. Point plots\n",
    "Welcome! So far we've seen several types of categorical plots including count plots, bar plots, and box plots. In this lesson, we'll see one final categorical plot: point plots.\n",
    "\n",
    "2. What are point plots?\n",
    "Point plots show the mean of a quantitative variable for the observations in each category, plotted as a single point. This point plot uses the tips dataset and shows the average bill among smokers versus non-smokers. The vertical bars extending above and below the mean represent the 95% confidence intervals for that mean. Just like the confidence intervals we saw in line plots and bar plots, these confidence intervals show us the level of uncertainty we have about these mean estimates. Assuming our data is a random sample of some population, we can be 95% sure that the true population mean in each group lies within the confidence interval shown.\n",
    "\n",
    "3. Point plots vs. line plots\n",
    "You may be thinking: point plots look a lot like line plots. What's the difference?\n",
    "\n",
    "4. Point plots vs. line plots\n",
    "Both line plots and point plots show the mean of a quantitative variable and 95% confidence intervals for the mean. However, there is a key difference. Line plots are relational plots, so both the x- and y-axis are quantitative variables. In a point plot, one axis - usually the x-axis - is a categorical variable, making it a categorical plot.\n",
    "\n",
    "5. Point plots vs. bar plots\n",
    "You may also be thinking: point plots seem to show the same information as bar plots. For each category, both show the mean of a quantitative variable and the confidence intervals for those means. When should we use one over the other? Let's look at an example using data from the masculinity survey that we've seen in prior lessons.\n",
    "\n",
    "6. Point plots vs. bar plots\n",
    "This is a bar plot of the percent of men per age group surveyed who report thinking that it's important that others see them as masculine, with subgroups based on whether they report feeling masculine or not. This is the same information, represented as a point plot. In the point plot, it's easier to compare the heights of the subgroup points when they're stacked above each other. In the point plot, it's also easier to look at the differences in slope between the categories than it is to compare the heights of the bars between them.\n",
    "\n",
    "7. Creating a point plot\n",
    "Here's the code to create the point plot we just saw. Since this is a categorical plot, we use \"catplot\" and set \"kind\" equal to \"point\".\n",
    "\n",
    "8. Disconnecting the points\n",
    "Sometimes we may want to remove the lines connecting each point, perhaps because we only wish to compare within a category group and not between them. To do this, set the \"join\" parameter equal to False.\n",
    "\n",
    "9. Displaying the median\n",
    "Let's return to the point plot using the tips dataset and go over a few more ways to customize your point plots. Here is the point plot of average bill comparing smokers to non-smokers.\n",
    "\n",
    "10. Displaying the median\n",
    "To have the points and confidence intervals be calculated for the median instead of the mean, import the median function from the numpy library and set \"estimator\" equal to the numpy median function. Why might you want to use the median instead of the mean? The median is more robust to outliers, so if your dataset has a lot of outliers, the median may be a better statistic to use.\n",
    "\n",
    "11. Customizing the confidence intervals\n",
    "You can also customize the way that the confidence intervals are displayed. To add “caps” to the end of the confidence intervals, set the “capsize” parameter equal to the desired width of the caps. In this case, we chose a width of 0.2.\n",
    "\n",
    "12. Turning off confidence intervals\n",
    "Finally, like we saw with line plots and bar plots, you can turn the confidence intervals off by setting the \"ci\" parameter equal to None.\n",
    "\n",
    "13. Let's practice!\n",
    "Alright! Now that we've covered how to interpret and customize point plots, let's practice what we've learned!"
   ]
  },
  {
   "cell_type": "code",
   "execution_count": 21,
   "id": "663d9050",
   "metadata": {},
   "outputs": [
    {
     "data": {
      "image/png": "[encoded data removed]",
      "text/plain": [
       "<Figure size 360x360 with 1 Axes>"
      ]
     },
     "metadata": {
      "needs_background": "light"
     },
     "output_type": "display_data"
    }
   ],
   "source": [
    "sns.catplot(x='smoker',\n",
    "           y='total_bill',\n",
    "           data=tips,\n",
    "           kind='point',\n",
    "           estimator=median,\n",
    "           capsize=0.2) #add caps\n",
    "plt.show()"
   ]
  },
  {
   "cell_type": "code",
   "execution_count": 24,
   "id": "c35e2386",
   "metadata": {},
   "outputs": [
    {
     "data": {
      "image/png": "[encoded data removed]",
      "text/plain": [
       "<Figure size 360x360 with 1 Axes>"
      ]
     },
     "metadata": {
      "needs_background": "light"
     },
     "output_type": "display_data"
    }
   ],
   "source": [
    "sns.catplot(x='smoker',\n",
    "           y='total_bill',\n",
    "           data=tips,\n",
    "           kind='point',\n",
    "           estimator=median,\n",
    "           ci=None,\n",
    "           join=False) #removes teh connecting line\n",
    "#gets rid of the confidence interval\n",
    "plt.show()"
   ]
  },
  {
   "cell_type": "code",
   "execution_count": 27,
   "id": "26182c66",
   "metadata": {},
   "outputs": [
    {
     "data": {
      "text/plain": [
       "<seaborn.axisgrid.FacetGrid at 0x2300d2779d0>"
      ]
     },
     "execution_count": 27,
     "metadata": {},
     "output_type": "execute_result"
    },
    {
     "data": {
      "image/png": "[encoded data removed]",
      "text/plain": [
       "<Figure size 429.625x360 with 1 Axes>"
      ]
     },
     "metadata": {
      "needs_background": "light"
     },
     "output_type": "display_data"
    }
   ],
   "source": [
    "sns.catplot(x='smoker',\n",
    "           y='total_bill',\n",
    "           data=tips,\n",
    "           kind='point',\n",
    "           hue='time',\n",
    "           ci=None)"
   ]
  },
  {
   "cell_type": "markdown",
   "id": "22a9a50c",
   "metadata": {},
   "source": [
    "# 1. Changing plot style and color\n",
    "So far we've covered how to create a variety of different plot types. Now let's learn how to customize them.\n",
    "\n",
    "2. Why customize?\n",
    "By default, Seaborn plots are pleasing to look at, but there are several reasons you may want to change the appearance. Changing the style of a plot can be motivated by personal preference, but it can also help improve its readability or help orient an audience more quickly to the key takeaway.\n",
    "\n",
    "3. Changing the figure style\n",
    "Seaborn has five preset figure styles which change the background and axes of the plot. You can refer to them by name: `\"white\", \"dark\", \"whitegrid\", \"darkgrid\", and \"ticks\"`. To set one of these as the global style for all of your plots, use the \"set style\" function. `sns.set_style()`\n",
    "\n",
    "4. Default figure style (\"white\")\n",
    "This is a plot we've seen before, showing the percentage of men reporting that masculinity was important to them, stratified by their age and whether or not they feel masculine. The default style is called \"white\" and provides clean axes with a solid white background. If we only care about the comparisons between groups or the general trend across age groups instead of the specific values, this is a good choice.\n",
    "\n",
    "5. Figure style: \"whitegrid\"\n",
    "Changing the style to \"whitegrid\" will add a gray grid in the background. This is useful if you want your audience to be able to determine the specific values of the plotted points instead of making higher level observations.\n",
    "\n",
    "6. Other styles\n",
    "The other styles are variants on these. \"ticks\" is similar to \"white\", but adds small tick marks to the x- and y-axes.\n",
    "\n",
    "7. Other styles\n",
    "\"dark\" provides a gray background,\n",
    "\n",
    "8. Other styles\n",
    "and \"darkgrid\" provides a gray background with a white grid.\n",
    "\n",
    "9. Changing the palette\n",
    "You can change the color of the main elements of the plot with Seaborn's \"set palette\" function. Seaborn has many preset color palettes that you can refer to by name, or you can create your own custom palette. Let's see an example.\n",
    "\n",
    "10. Diverging palettes\n",
    "Seaborn has a group of preset palettes called diverging palettes that are great to use if your visualization deals with a scale where the two ends of the scale are opposites and there is a neutral midpoint. Here are some examples of diverging palettes - red/blue and purple/green. Note that if you append the palette name with \"_r\", you can reverse the palette.\n",
    "\n",
    "11. Example (default palette)\n",
    "To see this in action, let's return to a count plot we've seen before of the responses of men reporting how masculine they feel.\n",
    "\n",
    "12. Example (diverging palette)\n",
    "Setting this plot's palette to red/blue diverging provides a clearer contrast between the men who do not feel masculine and the men who do.\n",
    "\n",
    "13. Sequential palettes\n",
    "Another group of palettes are called sequential palettes. These are a single color (or two colors blended) moving from light to dark values.\n",
    "\n",
    "14. Sequential palette example\n",
    "Sequential palettes are great for emphasizing a variable on a continuous scale. One example is this plot depicting the relationship between a car's horsepower and its miles per gallon, where points grow larger and darker when the car has more cylinders.\n",
    "\n",
    "15. Custom palettes\n",
    "You can also create your own custom palettes by passing in a list of color names...\n",
    "\n",
    "16. Custom palettes\n",
    "or a list of hex color codes.\n",
    "\n",
    "17. Changing the scale\n",
    "Finally, you can change the scale of your plot by using the \"set context\" function. The scale options from smallest to largest are \"paper\", \"notebook\", \"talk\", and \"poster\".\n",
    "\n",
    "18. Default context: \"paper\"\n",
    "The default context is \"paper\".\n",
    "\n",
    "19. Larger context: \"talk\"\n",
    "You'll want to choose a larger scale like \"talk\" for posters or presentations where the audience is further away from the plot.\n",
    "\n",
    "20. Let's practice!\n",
    "Now that we've seen how to change the plot style, palette, and scale, let's practice!"
   ]
  },
  {
   "cell_type": "code",
   "execution_count": null,
   "id": "b2ba1b1c",
   "metadata": {},
   "outputs": [],
   "source": []
  }
 ],
 "metadata": {
  "kernelspec": {
   "display_name": "Python 3",
   "language": "python",
   "name": "python3"
  },
  "language_info": {
   "codemirror_mode": {
    "name": "ipython",
    "version": 3
   },
   "file_extension": ".py",
   "mimetype": "text/x-python",
   "name": "python",
   "nbconvert_exporter": "python",
   "pygments_lexer": "ipython3",
   "version": "3.8.8"
  }
 },
 "nbformat": 4,
 "nbformat_minor": 5
}
