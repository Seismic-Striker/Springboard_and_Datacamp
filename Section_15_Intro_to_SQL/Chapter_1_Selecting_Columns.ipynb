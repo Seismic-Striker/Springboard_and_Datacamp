{
 "cells": [
  {
   "cell_type": "code",
   "execution_count": null,
   "id": "cb460446",
   "metadata": {},
   "outputs": [],
   "source": []
  },
  {
   "cell_type": "markdown",
   "id": "39095ba4",
   "metadata": {},
   "source": [
    "# 1. Welcome to the course!\n",
    "Hi, and welcome to Introduction to SQL for Data Science! Most of the world's data live in databases, so learning how to access and unlock insights from these data is an essential skill for every data scientist. SQL, or ess-que-el, is the native language for interacting with databases and is designed for exactly this purpose. This course will give you a basic introduction to SQL. We hope you enjoy it.\n",
    "\n",
    "2. Let's practice!\n",
    "Now let's get started!"
   ]
  },
  {
   "cell_type": "markdown",
   "id": "8d8ad209",
   "metadata": {},
   "source": [
    "### Selecting single columns\n",
    "`SELECT title FROM films;`\n",
    "\n",
    "`SELECT release_year from films`\n",
    "\n",
    "`select name from people`"
   ]
  },
  {
   "cell_type": "markdown",
   "id": "49314d2f",
   "metadata": {},
   "source": [
    "### Selecting multiple columns\n",
    "\n",
    "SELECTing multiple columns\n",
    "Well done! Now you know how to select single columns.\n",
    "\n",
    "In the real world, you will often want to select multiple columns. Luckily, SQL makes this really easy. To select multiple columns from a table, simply separate the column names with commas!\n",
    "\n",
    "For example, this query selects two columns, name and birthdate, from the people table:\n",
    "\n",
    "`SELECT name, birthdate FROM people;`\n",
    "Sometimes, you may want to select all columns from a table. Typing out every column name would be a pain, so there's a handy shortcut:\n",
    "\n",
    "`SELECT * FROM people;`\n",
    "If you only want to return a certain number of results, you can use the LIMIT keyword to limit the number of rows returned:\n",
    "\n",
    "`SELECT *\n",
    "FROM people\n",
    "LIMIT 10;`\n",
    "Before getting started with the instructions below, check out the column names in the films table!"
   ]
  },
  {
   "cell_type": "markdown",
   "id": "85b10eb2",
   "metadata": {},
   "source": [
    "### SELECT DISTINCT\n",
    "Often your results will include many duplicate values. If you want to select all the unique values from a column, you can use the DISTINCT keyword.\n",
    "\n",
    "This might be useful if, for example, you're interested in knowing which languages are represented in the films table:\n",
    "\n",
    "`SELECT DISTINCT language FROM films;`\n",
    "Remember, you can check out the data in the tables by clicking on the table name!\n",
    "\n",
    "Get all the unique countries represented in the films table.\n",
    "`select distinct country from films`\n",
    "\n",
    "Get all the different film certifications from the films table.\n",
    "\n",
    "`select distinct certification from films`\n",
    "\n",
    "Get the different types of film roles from the roles table.\n",
    "\n",
    "SELECT DISTINCT role from roles"
   ]
  },
  {
   "cell_type": "markdown",
   "id": "05c6e1fb",
   "metadata": {},
   "source": [
    "### Learning to COUNT\n",
    "What if you want to count the number of employees in your employees table? The COUNT() function lets you do this by returning the number of rows in one or more columns.\n",
    "\n",
    "For example, this code gives the number of rows in the people table:\n",
    "\n",
    "`SELECT COUNT(*) FROM people;`\n",
    "\n",
    "How many records are contained in the `reviews` table?\n",
    "\n",
    "`Select count(*) from reviews`"
   ]
  },
  {
   "cell_type": "markdown",
   "id": "addb5d72",
   "metadata": {},
   "source": [
    "### Practice with COUNT\n",
    "As you've seen, `COUNT(*)` tells you how many rows are in a table. However, if you want to count the number of non-missing values in a particular column, you can call `COUNT()` on just that column.\n",
    "\n",
    "For example, to count the number of birth dates present in the `people` table:\n",
    "\n",
    "`SELECT COUNT(birthdate) FROM people;`\n",
    "\n",
    "It's also common to combine `COUNT()` with `DISTINCT` to count the number of distinct values in a column.\n",
    "\n",
    "For example, this query counts the number of distinct birth dates contained in the `people` table:\n",
    "\n",
    "`SELECT COUNT(DISTINCT birthdate) FROM people;`\n",
    "Let's get some practice with `COUNT()`!\n",
    "\n",
    "\n",
    "\n",
    "Count the number of rows in the people table.\n",
    "\n",
    "\n",
    "`select count(*) from people`\n",
    "\n",
    "Count the number of (non-missing) birth dates in the people table.\n",
    "\n",
    "`SELECT COUNT(birthdate) FROM people;`\n",
    "\n",
    "\n",
    "Count the number of unique birth dates in the people table.\n",
    "\n",
    "`SELECT COUNT(Distinct birthdate)\n",
    "FROM people;`\n",
    "\n",
    "Count the number of unique languages in the films table.\n",
    "\n",
    "\n",
    "\n",
    "`Select count(Distinct language) from films`\n",
    "\n",
    "\n",
    "Count the number of unique countries in the films table.\n",
    "\n",
    "\n",
    "\n",
    "`select count(distinct country) from films`"
   ]
  }
 ],
 "metadata": {
  "kernelspec": {
   "display_name": "Python 3 (ipykernel)",
   "language": "python",
   "name": "python3"
  },
  "language_info": {
   "codemirror_mode": {
    "name": "ipython",
    "version": 3
   },
   "file_extension": ".py",
   "mimetype": "text/x-python",
   "name": "python",
   "nbconvert_exporter": "python",
   "pygments_lexer": "ipython3",
   "version": "3.9.12"
  }
 },
 "nbformat": 4,
 "nbformat_minor": 5
}
