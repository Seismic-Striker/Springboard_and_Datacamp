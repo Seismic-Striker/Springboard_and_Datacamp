{
 "cells": [
  {
   "cell_type": "code",
   "execution_count": 1,
   "id": "731f1fb0",
   "metadata": {},
   "outputs": [],
   "source": [
    "import matplotlib.pyplot as plt\n",
    "import pandas as pd\n",
    "import numpy as np"
   ]
  },
  {
   "cell_type": "markdown",
   "id": "4482afda",
   "metadata": {},
   "source": [
    "# Chapter 1 Clustering for dataset exploration\n"
   ]
  },
  {
   "cell_type": "markdown",
   "id": "bc6542ec",
   "metadata": {},
   "source": [
    "# 1. Unsupervised Learning\n",
    "Hi! My name is Ben Wilson and I'm a Data Scientist and mathematician. We're here to learn about unsupervised learning in Python.\n",
    "\n",
    "2. Unsupervised learning\n",
    "Unsupervised learning is a class of machine learning techniques for discovering patterns in data. For instance, finding the natural \"clusters\" of customers based on their purchase histories, or searching for patterns and correlations among these purchases, and using these patterns to express the data in a compressed form. These are examples of unsupervised learning techniques called \"clustering\" and \"dimension reduction\".\n",
    "\n",
    "3. Supervised vs unsupervised learning\n",
    "Unsupervised learning is defined in opposition to supervised learning. An example of supervised learning is using the measurements of tumors to classify them as benign or cancerous. In this case, the pattern discovery is guided, or \"supervised\", so that the patterns are as useful as possible for predicting the label: benign or cancerous. Unsupervised learning, in contrast, is learning without labels. It is pure pattern discovery, unguided by a prediction task. You'll start by learning about clustering. But before we begin, let's introduce a dataset and fix some terminology.\n",
    "\n",
    "4. Iris dataset\n",
    "The iris dataset consists of the measurements of many iris plants of three different species. There are four measurements: petal length, petal width, sepal length and sepal width. These are the features of the dataset.\n",
    "\n",
    "1 http://scikit-learn.org/stable/modules/generated/sklearn.datasets.load_iris.html/\n",
    "5. Arrays, features & samples\n",
    "Throughout this course, datasets like this will be written as two-dimensional numpy arrays. The columns of the array will correspond to the features. The measurements for individual plants are the samples of the dataset. These correspond to rows of the array.\n",
    "\n",
    "6. Iris data is 4-dimensional\n",
    "The samples of the iris dataset have four measurements, and so correspond to points in a four-dimensional space. This is the dimension of the dataset. We can't visualize four dimensions directly, but using unsupervised learning techniques we can still gain insight.\n",
    "\n",
    "7. k-means clustering\n",
    "In this chapter, we'll cluster these samples using k-means clustering. k-means finds a specified number of clusters in the samples. It's implemented in the scikit-learn or \"sklearn\" library. Let's see kmeans in action on some samples from the iris dataset.\n",
    "\n",
    "8. k-means clustering with scikit-learn\n",
    "The iris samples are represented as an array. To start, import kmeans from scikit-learn. Then create a kmeans model, specifying the number of clusters you want to find. Let's specify 3 clusters, since there are three species of iris. Now call the fit method of the model, passing the array of samples. This fits the model to the data, by locating and remembering the regions where the different clusters occur. Then we can use the predict method of the model on these same samples. This returns a cluster label for each sample, indicating to which cluster a sample belongs. Let's assign the result to labels, and print it out.\n",
    "\n",
    "9. Cluster labels for new samples\n",
    "If someone comes along with some new iris samples, k-means can determine to which clusters they belong without starting over. k-means does this by remembering the mean (or average) of the samples in each cluster. These are called the \"centroids\". New samples are assigned to the cluster whose centroid is closest.\n",
    "\n",
    "10. Cluster labels for new samples\n",
    "Suppose you've got an array of new samples. To assign the new samples to the existing clusters, pass the array of new samples to the predict method of the kmeans model. This returns the cluster labels of the new samples.\n",
    "\n",
    "11. Scatter plots\n",
    "In the next video, you'll learn how to evaluate the quality of your clustering. But for now, let's visualize our clustering of the iris samples using scatter plots. Here is a scatter plot of the sepal length vs petal length of the iris samples. Each point represents an iris sample, and is colored according to the cluster of the sample. To create a scatter plot like this, use PyPlot.\n",
    "\n",
    "12. Scatter plots\n",
    "Firstly, import PyPlot. It is conventionally imported as plt. Now get the x- and y- co-ordinates of each sample. Sepal length is in the 0th column of the array, while petal length is in the 2nd column. Now call the plt dot scatter function, passing the x- and y- co-ordinates and specifying c=labels to color by cluster label. When you are ready to show your plot, call plt dot show.\n",
    "\n",
    "13. Let's practice!\n",
    "It's time to take your first steps in unsupervised learning. Have fun!"
   ]
  },
  {
   "cell_type": "code",
   "execution_count": 2,
   "id": "aa51c554",
   "metadata": {},
   "outputs": [
    {
     "name": "stdout",
     "output_type": "stream",
     "text": [
      "[1 1 1 1 1 1 1 1 1 1 1 1 1 1 1 1 1 1 1 1 1 1 1 1 1 1 1 1 1 1 1 1 1 1 1 1 1\n",
      " 1 1 1 1 1 1 1 1 1 1 1 1 1 0 0 2 0 0 0 0 0 0 0 0 0 0 0 0 0 0 0 0 0 0 0 0 0\n",
      " 0 0 0 2 0 0 0 0 0 0 0 0 0 0 0 0 0 0 0 0 0 0 0 0 0 0 2 0 2 2 2 2 0 2 2 2 2\n",
      " 2 2 0 0 2 2 2 2 0 2 0 2 0 2 2 0 0 2 2 2 2 2 0 2 2 2 2 0 2 2 2 0 2 2 2 0 2\n",
      " 2 0]\n"
     ]
    }
   ],
   "source": [
    "'''\n",
    "VIDEO EXERCISE\n",
    "'''\n",
    "from sklearn.cluster import KMeans\n",
    "from sklearn import datasets\n",
    "from sklearn.decomposition import PCA\n",
    "\n",
    "iris = datasets.load_iris()\n",
    "samples = iris.data\n",
    "\n",
    "model = KMeans(n_clusters = 3)\n",
    "model.fit(samples)\n",
    "labels = model.predict(samples)\n",
    "print(labels)"
   ]
  },
  {
   "cell_type": "code",
   "execution_count": 3,
   "id": "e95103f5",
   "metadata": {},
   "outputs": [
    {
     "data": {
      "image/png": "[encoded data removed]",
      "text/plain": [
       "<Figure size 432x288 with 1 Axes>"
      ]
     },
     "metadata": {
      "needs_background": "light"
     },
     "output_type": "display_data"
    }
   ],
   "source": [
    "xs = samples[:,0]\n",
    "ys = samples[:,2]\n",
    "plt.scatter(xs,ys,c=labels)\n",
    "plt.show()"
   ]
  },
  {
   "cell_type": "markdown",
   "id": "58b49c57",
   "metadata": {},
   "source": [
    "# Clustering 2D points\n",
    "From the scatter plot of the previous exercise, you saw that the points seem to separate into 3 clusters. You'll now create a KMeans model to find 3 clusters, and fit it to the data points from the previous exercise. After the model has been fit, you'll obtain the cluster labels for some new points using the .predict() method.\n",
    "\n",
    "You are given the array points from the previous exercise, and also an array new_points.\n",
    "\n",
    "Instructions\n",
    "100 XP\n",
    "Import KMeans from sklearn.cluster.\n",
    "Using KMeans(), create a KMeans instance called model to find 3 clusters. To specify the number of clusters, use the n_clusters keyword argument.\n",
    "Use the .fit() method of model to fit the model to the array of points points.\n",
    "Use the .predict() method of model to predict the cluster labels of new_points, assigning the result to labels.\n",
    "Hit submit to see the cluster labels of new_points."
   ]
  },
  {
   "cell_type": "code",
   "execution_count": 4,
   "id": "2d196fbf",
   "metadata": {},
   "outputs": [],
   "source": [
    "points = np.array([[ 0.06544649, -0.76866376],[-1.52901547, -0.42953079],       [ 1.70993371,  0.69885253],       [ 1.16779145,  1.01262638],       [-1.80110088, -0.31861296],       [-1.63567888, -0.02859535],       [ 1.21990375,  0.74643463],       [-0.26175155, -0.62492939],       [-1.61925804, -0.47983949],       [-1.84329582, -0.16694431],       [ 1.35999602,  0.94995827],       [ 0.42291856, -0.7349534 ],       [-1.68576139,  0.10686728],       [ 0.90629995,  1.09105162],       [-1.56478322, -0.84675394],       [-0.0257849 , -1.18672539],       [ 0.83027324,  1.14504612],       [ 1.22450432,  1.35066759],       [-0.15394596, -0.71704301],       [ 0.86358809,  1.06824613],       [-1.43386366, -0.2381297 ],       [ 0.03844769, -0.74635022],       [-1.58567922,  0.08499354],       [ 0.6359888 , -0.58477698],       [ 0.24417242, -0.53172465],       [-2.19680359,  0.49473677],       [ 1.0323503 , -0.55688   ],       [-0.28858067, -0.39972528],       [ 0.20597008, -0.80171536],       [-1.2107308 , -0.34924109],       [ 1.33423684,  0.7721489 ],       [ 1.19480152,  1.04788556],       [ 0.9917477 ,  0.89202008],       [-1.8356219 , -0.04839732],       [ 0.08415721, -0.71564326],       [-1.48970175, -0.19299604],       [ 0.38782418, -0.82060119],       [-0.01448044, -0.9779841 ],       [-2.0521341 , -0.02129125],       [ 0.10331194, -0.82162781],       [-0.44189315, -0.65710974],       [ 1.10390926,  1.02481182],       [-1.59227759, -0.17374038],[-1.47344152, -0.02202853],       [-1.35514704,  0.22971067],       [ 0.0412337 , -1.23776622],       [ 0.4761517 , -1.13672124],       [ 1.04335676,  0.82345905],       [-0.07961882, -0.85677394],       [ 0.87065059,  1.08052841],       [ 1.40267313,  1.07525119],       [ 0.80111157,  1.28342825],       [-0.16527516, -1.23583804],       [-0.33779221, -0.59194323],       [ 0.80610749, -0.73752159],       [-1.43590032, -0.56384446],       [ 0.54868895, -0.95143829],       [ 0.46803131, -0.74973907],       [-1.5137129 , -0.83914323],       [ 0.9138436 ,  1.51126532],       [-1.97233903, -0.41155375],       [ 0.5213406 , -0.88654894],       [ 0.62759494, -1.18590477],       [ 0.94163014,  1.35399335],       [ 0.56994768,  1.07036606],       [-1.87663382,  0.14745773],       [ 0.90612186,  0.91084011],       [-1.37481454,  0.28428395],       [-1.80564029, -0.96710574],       [ 0.34307757, -0.79999275],       [ 0.70380566,  1.00025804],       [-1.68489862, -0.30564595],       [ 1.31473221,  0.98614978],       [ 0.26151216, -0.26069251],      [ 0.9193121 ,  0.82371485],[-1.21795929, -0.20219674],       [-0.17722723, -1.02665245],       [ 0.64824862, -0.66822881],       [ 0.41206786, -0.28783784],       [ 1.01568202,  1.13481667],       [ 0.67900254, -0.91489502],       [-1.05182747, -0.01062376],       [ 0.61306599,  1.78210384],       [-1.50219748, -0.52308922],       [-1.72717293, -0.46173916],       [-1.60995631, -0.1821007 ],       [-1.09111021, -0.0781398 ],       [-0.01046978, -0.80913034],       [ 0.32782303, -0.80734754],       [ 1.22038503,  1.1959793 ],       [-1.33328681, -0.30001937],       [ 0.87959517,  1.11566491],       [-1.14829098, -0.30400762],       [-0.58019755, -1.19996018],       [-0.01161159, -0.78468854],       [ 0.17359724, -0.63398145],       [ 1.32738556,  0.67759969],       [-1.93467327,  0.30572472],       [-1.57761893, -0.27726365],       [ 0.47639   ,  1.21422648],       [-1.65237509, -0.6803981 ],       [-0.12609976, -1.04327457],       [-1.89607082, -0.70085502],       [ 0.57466899,  0.74878369],       [-0.16660312, -0.83110295],       [ 0.8013355 ,  1.22244435],       [ 1.18455426,  1.4346467 ],       [ 1.08864428,  0.64667112],       [-1.61158505,  0.22805725],       [-1.57512205, -0.09612576],       [ 0.0721357 , -0.69640328],       [-1.40054298,  0.16390598],       [ 1.09607713,  1.16804691],       [-2.54346204, -0.23089822],       [-1.34544875,  0.25151126],       [-1.35478629, -0.19103317],       [ 0.18368113, -1.15827725],       [-1.31368677, -0.376357  ],       [ 0.09990129,  1.22500491],       [ 1.17225574,  1.30835143],       [ 0.0865397 , -0.79714371],[-0.21053923, -1.13421511],       [ 0.26496024, -0.94760742],       [-0.2557591 , -1.06266022],       [-0.26039757, -0.74774225],       [-1.91787359,  0.16434571],       [ 0.93021139,  0.49436331],       [ 0.44770467, -0.72877918],       [-1.63802869, -0.58925528],       [-1.95712763, -0.10125137],       [ 0.9270337 ,  0.88251423],       [ 1.25660093,  0.60828073],       [-1.72818632,  0.08416887],       [ 0.3499788 , -0.30490298],       [-1.51696082, -0.50913109],       [ 0.18763605, -0.55424924],       [ 0.89609809,  0.83551508],       [-1.54968857, -0.17114782],       [ 1.2157457 ,  1.23317728],       [ 0.20307745, -1.03784906],       [ 0.84589086,  1.03615273],       [ 0.53237919,  1.47362884],       [-0.05319044, -1.36150553],       [ 1.38819743,  1.11729915],       [ 1.00696304,  1.0367721 ],       [ 0.56681869, -1.09637176],       [ 0.86888296,  1.05248874],       [-1.16286609, -0.55875245],       [ 0.27717768, -0.83844015],       [ 0.16563267, -0.80306607],       [ 0.38263303, -0.42683241],       [ 1.14519807,  0.89659026],       [ 0.81455857,  0.67533667],       [-1.8603152 , -0.09537561],      [ 0.965641  ,  0.90295579],       [-1.49897451, -0.33254044],       [-0.1335489 , -0.80727582],       [ 0.12541527, -1.13354906],       [ 1.06062436,  1.28816358],       [-1.49154578, -0.2024641 ],       [ 1.16189032,  1.28819877],       [ 0.54282033,  0.75203524],       [ 0.89221065,  0.99211624],       [-1.49932011, -0.32430667],       [ 0.3166647 , -1.34482915],       [ 0.13972469, -1.22097448],       [-1.5499724 , -0.10782584],       [ 1.23846858,  1.37668804],       [ 1.25558954,  0.72026098],       [ 0.25558689, -1.28529763],       [ 0.45168933, -0.55952093],       [ 1.06202057,  1.03404604],       [ 0.67451908, -0.54970299],       [ 0.22759676, -1.02729468],       [-1.45835281, -0.04951074],       [ 0.23273501, -0.70849262],       [ 1.59679589,  1.11395076],[ 0.80476105,  0.544627  ],       [ 1.15492521,  1.04352191],       [ 0.59632776, -1.19142897],       [ 0.02839068, -0.43829366],       [ 1.13451584,  0.5632633 ],       [ 0.21576204, -1.04445753],       [ 1.41048987,  1.02830719],       [ 1.12289302,  0.58029441],       [ 0.25200688, -0.82588436],       [-1.28566081, -0.07390909],       [ 1.52849815,  1.11822469],       [-0.23907858, -0.70541972],       [-0.25792784, -0.81825035],       [ 0.59367818, -0.45239915],       [ 0.07931909, -0.29233213],       [-1.27256815,  0.11630577],       [ 0.66930129,  1.00731481],       [ 0.34791546, -1.20822877],       [-2.11283993, -0.66897935],       [-1.6293824 , -0.32718222],       [-1.53819139, -0.01501972],       [-0.11988545, -0.6036339 ],       [-1.54418956, -0.30389844],       [ 0.30026614, -0.77723173],       [ 0.00935449, -0.53888192],       [-1.33424393, -0.11560431],       [ 0.47504489,  0.78421384],       [ 0.59313264,  1.232239  ],       [ 0.41370369, -1.35205857],       [ 0.55840948,  0.78831053],       [ 0.49855018, -0.789949  ],       [ 0.35675809, -0.81038693],       [-1.86197825, -0.59071305],       [-1.61977671, -0.16076687],       [ 0.80779295, -0.73311294],       [ 1.62745775,  0.62787163],       [-1.56993593, -0.08467567],       [ 1.02558561,  0.89383302],       [ 0.24293461, -0.6088253 ],       [ 1.23130242,  1.00262186],       [-1.9651013 , -0.15886289],       [ 0.42795032, -0.70384432],       [-1.58306818, -0.19431923],       [-1.57195922,  0.01413469],       [-0.98145373,  0.06132285],       [-1.48637844, -0.5746531 ],       [ 0.98745828,  0.69188053],       [ 1.28619721,  1.28128821],       [ 0.85850596,  0.95541481],       [ 0.19028286, -0.82112942],       [ 0.26561046, -0.04255239],       [-1.61897897,  0.00862372],       [ 0.24070183, -0.52664209],       [ 1.15220993,  0.43916694],       [-1.21967812, -0.2580313 ],       [ 0.33412533, -0.86117761],       [ 0.17131003, -0.75638965],       [-1.19828397, -0.73744665],       [-0.12245932, -0.45648879],       [ 1.51200698,  0.88825741],       [ 1.10338866,  0.92347479],       [ 1.30972095,  0.59066989],       [ 0.19964876,  1.14855889],       [ 0.81460515,  0.84538972],       [-1.6422739 , -0.42296206],       [ 0.01224351, -0.21247816],       [ 0.33709102, -0.74618065],       [ 0.47301054,  0.72712075],       [ 0.34706626,  1.23033757],       [-0.00393279, -0.97209694],       [-1.64303119,  0.05276337],       [ 1.44649625,  1.14217033],       [-1.93030087, -0.40026146],       [-2.37296135, -0.72633645],       [ 0.45860122, -1.06048953],       [ 0.4896361 , -1.18928313],       [-1.02335902, -0.17520578],       [-1.32761107, -0.93963549],       [-1.50987909, -0.09473658],       [ 0.02723057, -0.79870549],       [ 1.0169412 ,  1.26461701],       [ 0.47733527, -0.9898471 ],       [-1.27784224, -0.547416  ],       [ 0.49898802, -0.6237259 ],       [ 1.06004731,  0.86870008],       [ 1.00207501,  1.38293512],       [ 1.31161394,  0.62833956],       [ 1.13428443,  1.18346542],       [ 1.27671346,  0.96632878],       [-0.63342885, -0.97768251],       [ 0.12698779, -0.93142317],       [-1.34510812, -0.23754226],       [-0.53162278, -1.25153594],       [ 0.21959934, -0.90269938],       [-1.78997479, -0.12115748],       [ 1.23197473, -0.07453764],       [ 1.4163536 ,  1.21551752],       [-1.90280976, -0.1638976 ],       [-0.22440081, -0.75454248],       [ 0.59559412,  0.92414553],       [ 1.21930773,  1.08175284],       [-1.99427535, -0.37587799],       [-1.27818474, -0.52454551],       [ 0.62352689, -1.01430108],       [ 0.14024251, -0.428266  ],       [-0.16145713, -1.16359731],       [-1.74795865, -0.06033101],       [-1.16659791,  0.0902393 ],       [ 0.41110408, -0.8084249 ],       [ 1.14757168,  0.77804528],       [-1.65590748, -0.40105446],       [-1.15306865,  0.00858699],       [ 0.60892121,  0.68974833],       [-0.08434138, -0.97615256],       [ 0.19170053, -0.42331438],       [ 0.29663162, -1.13357399],       [-1.36893628, -0.25052124],       [-0.08037807, -0.56784155],       [ 0.35695011, -1.15064408],       [ 0.02482179, -0.63594828],       [-1.49075558, -0.2482507 ],       [-1.408588  ,  0.25635431],       [-1.98274626, -0.54584475]])\n",
    "new_points = np.array([[ 4.00233332e-01, -1.26544471e+00],       [ 8.03230370e-01,  1.28260167e+00],       [-1.39507552e+00,  5.57292921e-02],       [-3.41192677e-01, -1.07661994e+00],       [ 1.54781747e+00,  1.40250049e+00],       [ 2.45032018e-01, -4.83442328e-01],       [ 1.20706886e+00,  8.88752605e-01],       [ 1.25132628e+00,  1.15555395e+00],       [ 1.81004415e+00,  9.65530731e-01],       [-1.66963401e+00, -3.08103509e-01],       [-7.17482105e-02, -9.37939700e-01],       [ 6.82631927e-01,  1.10258160e+00],       [ 1.09039598e+00,  1.43899529e+00],       [-1.67645414e+00, -5.04557049e-01],       [-1.84447804e+00,  4.52539544e-02],       [ 1.24234851e+00,  1.02088661e+00],       [-1.86147041e+00,  6.38645811e-03],       [-1.46044943e+00,  1.53252383e-01],       [ 4.98981817e-01,  8.98006058e-01],       [ 9.83962244e-01,  1.04369375e+00],       [-1.83136742e+00, -1.63632835e-01],       [ 1.30622617e+00,  1.07658717e+00],       [ 3.53420328e-01, -7.51320218e-01],       [ 1.13957970e+00,  1.54503860e+00],       [ 2.93995694e-01, -1.26135005e+00],       [-1.14558225e+00, -3.78709636e-02],       [ 1.18716105e+00,  6.00240663e-01],       [-2.23211946e+00,  2.30475094e-01],       [-1.28320430e+00, -3.93314568e-01],       [ 4.94296696e-01, -8.83972009e-01],       [ 6.31834930e-02, -9.11952228e-01],       [ 9.35759539e-01,  8.66820685e-01],       [ 1.58014721e+00,  1.03788392e+00],       [ 1.06304960e+00,  1.02706082e+00],       [-1.39732536e+00, -5.05162249e-01],       [-1.09935240e-01, -9.08113619e-01],       [ 1.17346758e+00,  9.47501092e-01],       [ 9.20084511e-01,  1.45767672e+00],       [ 5.82658956e-01, -9.00086832e-01],       [ 9.52772328e-01,  8.99042386e-01],       [-1.37266956e+00, -3.17878215e-02],       [ 2.12706760e-02, -7.07614194e-01],       [ 3.27049052e-01, -5.55998107e-01],       [-1.71590267e+00,  2.15222266e-01],       [ 5.12516209e-01, -7.60128245e-01],       [ 1.13023469e+00,  7.22451122e-01],       [-1.43074310e+00, -3.42787511e-01],       [-1.82724625e+00,  1.17657775e-01],       [ 1.41801350e+00,  1.11455080e+00],       [ 1.26897304e+00,  1.41925971e+00],       [ 8.04076494e-01,  1.63988557e+00],       [ 8.34567752e-01,  1.09956689e+00],       [-1.24714732e+00, -2.23522320e-01],       [-1.29422537e+00,  8.18770024e-02],       [-2.27378316e-01, -4.13331387e-01],       [ 2.18830387e-01, -4.68183120e-01],       [-1.22593414e+00,  2.55599147e-01],       [-1.31294033e+00, -4.28892070e-01],       [-1.33532382e+00,  6.52053776e-01],       [-3.01100233e-01, -1.25156451e+00],       [ 2.02778356e-01, -9.05277445e-01],       [ 1.01357784e+00,  1.12378981e+00],       [ 8.18324394e-01,  8.60841257e-01],       [ 1.26181556e+00,  1.46613744e+00],       [ 4.64867724e-01, -7.97212459e-01],       [ 3.60908898e-01,  8.44106720e-01],       [-2.15098310e+00, -3.69583937e-01],       [ 1.05005281e+00,  8.74181364e-01],       [ 1.06580074e-01, -7.49268153e-01],       [-1.73945723e+00,  2.52183577e-01],       [-1.12017687e-01, -6.52469788e-01],       [ 5.16618951e-01, -6.41267582e-01],       [ 3.26621787e-01, -8.80608015e-01],       [ 1.09017759e+00,  1.10952558e+00],       [ 3.64459576e-01, -6.94215622e-01],       [-1.90779318e+00,  1.87383674e-01],       [-1.95601829e+00,  1.39959126e-01],       [ 3.18541701e-01, -4.05271704e-01],       [ 7.36512699e-01,  1.76416255e+00],       [-1.44175162e+00, -5.72320429e-02],       [ 3.21757168e-01, -5.34283821e-01],       [-1.37317305e+00,  4.64484644e-02],       [ 6.87225910e-02, -1.10522944e+00],       [ 9.59314218e-01,  6.52316210e-01],       [-1.62641919e+00, -5.62423280e-01],       [ 1.06788305e+00,  7.29260482e-01],       [-1.79643547e+00, -9.88307418e-01],       [-9.88628377e-02, -6.81198092e-02],       [-1.05135700e-01,  1.17022143e+00],       [ 8.79964699e-01,  1.25340317e+00],       [ 9.80753407e-01,  1.15486539e+00],       [-8.33224966e-02, -9.24844368e-01],       [ 8.48759673e-01,  1.09397425e+00],       [ 1.32941649e+00,  1.13734563e+00],       [ 3.23788068e-01, -7.49732451e-01],       [-1.52610970e+00, -2.49016929e-01],       [-1.48598116e+00, -2.68828608e-01],       [-1.80479553e+00,  1.87052700e-01],       [-2.01907347e+00, -4.49511651e-01],       [ 2.87202402e-01, -6.55487415e-01],       [ 8.22295102e-01,  1.38443234e+00],       [-3.56997036e-02, -8.01825807e-01],       [-1.66955440e+00, -1.38258505e-01],       [-1.78226821e+00,  2.93353033e-01],       [ 7.25837138e-01, -6.23374024e-01],       [ 3.88432593e-01, -7.61283497e-01],       [ 1.49002783e+00,  7.95678671e-01],       [ 6.55423228e-04, -7.40580702e-01],       [-1.34533116e+00, -4.75629937e-01],       [-8.03845106e-01, -3.09943013e-01],       [-2.49041295e-01, -1.00662418e+00],       [-1.41095118e+00, -7.06744127e-02],       [-1.75119594e+00, -3.00491336e-01],       [-1.27942724e+00,  1.73774600e-01],       [ 3.35028183e-01,  6.24761151e-01],       [ 1.16819649e+00,  1.18902251e+00],       [ 7.15210457e-01,  9.26077419e-01],       [ 1.30057278e+00,  9.16349565e-01],       [-1.21697008e+00,  1.10039477e-01],       [-1.70707935e+00, -5.99659536e-02],       [ 1.20730655e+00,  1.05480463e+00],       [ 1.86896009e-01, -9.58047234e-01],       [ 8.03463471e-01,  3.86133140e-01],       [-1.73486790e+00, -1.49831913e-01],       [ 1.31261499e+00,  1.11802982e+00],       [ 4.04993148e-01, -5.10900347e-01],       [-1.93267968e+00,  2.20764694e-01],       [ 6.56004799e-01,  9.61887161e-01],       [-1.40588215e+00,  1.17134403e-01],       [-1.74306264e+00, -7.47473959e-02],       [ 5.43745412e-01,  1.47209224e+00],       [-1.97331669e+00, -2.27124493e-01],       [ 1.53901171e+00,  1.36049081e+00],       [-1.48323452e+00, -4.90302063e-01],       [ 3.86748484e-01, -1.26173400e+00],       [ 1.17015716e+00,  1.18549415e+00],       [-8.05381721e-02, -3.21923627e-01],       [-6.82273156e-02, -8.52825887e-01],       [ 7.13500028e-01,  1.27868520e+00],       [-1.85014378e+00, -5.03490558e-01],       [ 6.36085266e-02, -1.41257040e+00],       [ 1.52966062e+00,  9.66056572e-01],       [ 1.62165714e-01, -1.37374843e+00],       [-3.23474497e-01, -7.06620269e-01],       [-1.51768993e+00,  1.87658302e-01],       [ 8.88895911e-01,  7.62237161e-01],       [ 4.83164032e-01,  8.81931869e-01],       [-5.52997766e-02, -7.11305016e-01],       [-1.57966441e+00, -6.29220313e-01],       [ 5.51308645e-02, -8.47206763e-01],       [-2.06001582e+00,  5.87697787e-02],       [ 1.11810855e+00,  1.30254175e+00],       [ 4.87016164e-01, -9.90143937e-01],       [-1.65518042e+00, -1.69386383e-01],       [-1.44349738e+00,  1.90299243e-01],       [-1.70074547e-01, -8.26736022e-01],       [-1.82433979e+00, -3.07814626e-01],       [ 1.03093485e+00,  1.26457691e+00],       [ 1.64431169e+00,  1.27773115e+00],       [-1.47617693e+00,  2.60783872e-02],       [ 1.00953067e+00,  1.14270181e+00],       [-1.45285636e+00, -2.55216207e-01],       [-1.74092917e+00, -8.34443177e-02],       [ 1.22038299e+00,  1.28699961e+00],       [ 9.16925397e-01,  7.32070275e-01],       [-1.60754185e-03, -7.26375571e-01],       [ 8.93841238e-01,  8.41146643e-01],       [ 6.33791961e-01,  1.00915134e+00],       [-1.47927075e+00, -6.99781936e-01],       [ 5.44799374e-02, -1.06441970e+00],       [-1.51935568e+00, -4.89276929e-01],       [ 2.89939026e-01, -7.73145523e-01],       [-9.68154061e-03, -1.13302207e+00],       [ 1.13474639e+00,  9.71541744e-01],       [ 5.36421406e-01, -8.47906388e-01],       [ 1.14759864e+00,  6.89915205e-01],       [ 5.73291902e-01,  7.90802710e-01],       [ 2.12377397e-01, -6.07569808e-01],       [ 5.26579548e-01, -8.15930264e-01],       [-2.01831641e+00,  6.78650740e-02],       [-2.35512624e-01, -1.08205132e+00],       [ 1.59274780e-01, -6.00717261e-01],       [ 2.28120356e-01, -1.16003549e+00],       [-1.53658378e+00,  8.40798808e-02],       [ 1.13954609e+00,  6.31782001e-01],       [ 1.01119255e+00,  1.04360805e+00],       [-1.42039867e-01, -4.81230337e-01],       [-2.23120182e+00,  8.49162905e-02],       [ 1.25554811e-01, -1.01794793e+00],       [-1.72493509e+00, -6.94426177e-01],       [-1.60434630e+00,  4.45550868e-01],       [ 7.37153979e-01,  9.26560744e-01],       [ 6.72905271e-01,  1.13366030e+00],       [ 1.20066456e+00,  7.26273093e-01],       [ 7.58747209e-02, -9.83378326e-01],       [ 1.28783262e+00,  1.18088601e+00],       [ 1.06521930e+00,  1.00714746e+00],       [ 1.05871698e+00,  1.12956519e+00],       [-1.12643410e+00,  1.66787744e-01],       [-1.10157218e+00, -3.64137806e-01],       [ 2.35118217e-01, -1.39769949e-01],       [ 1.13853795e+00,  1.01018519e+00],       [ 5.31205654e-01, -8.81990792e-01],       [ 4.33085936e-01, -7.64059042e-01],       [-4.48926156e-03, -1.30548411e+00],       [-1.76348589e+00, -4.97430739e-01],       [ 1.36485681e+00,  5.83404699e-01],       [ 5.66923900e-01,  1.51391963e+00],       [ 1.35736826e+00,  6.70915318e-01],       [ 1.07173397e+00,  6.11990884e-01],       [ 1.00106915e+00,  8.93815326e-01],       [ 1.33091007e+00,  8.79773879e-01],       [-1.79603740e+00, -3.53883973e-02],       [-1.27222979e+00,  4.00156642e-01],       [ 8.47480603e-01,  1.17032364e+00],       [-1.50989129e+00, -7.12318330e-01],       [-1.24953576e+00, -5.57859730e-01],       [-1.27717973e+00, -5.99350550e-01],       [-1.81946743e+00,  7.37057673e-01],       [ 1.19949867e+00,  1.56969386e+00],       [-1.25543847e+00, -2.33892826e-01],       [-1.63052058e+00,  1.61455865e-01],       [ 1.10611305e+00,  7.39698224e-01],       [ 6.70193192e-01,  8.70567001e-01],       [ 3.69670156e-01, -6.94645306e-01],       [-1.26362293e+00, -6.99249285e-01],       [-3.66687507e-01, -1.35310260e+00],       [ 2.44032147e-01, -6.59470793e-01],       [-1.27679142e+00, -4.85453412e-01],       [ 3.77473612e-02, -6.99251605e-01],       [-2.19148539e+00, -4.91199500e-01],       [-2.93277777e-01, -5.89488212e-01],       [-1.65737397e+00, -2.98337786e-01],       [ 7.36638861e-01,  5.78037057e-01],       [ 1.13709081e+00,  1.30119754e+00],       [-1.44146601e+00,  3.13934680e-02],       [ 5.92360708e-01,  1.22545114e+00],       [ 6.51719414e-01,  4.92674894e-01],       [ 5.94559139e-01,  8.25637315e-01],       [-1.87900722e+00, -5.21899626e-01],       [ 2.15225041e-01, -1.28269851e+00],       [ 4.99145965e-01, -6.70268634e-01],       [-1.82954176e+00, -3.39269731e-01],       [ 7.92721403e-01,  1.33785606e+00],       [ 9.54363372e-01,  9.80396626e-01],       [-1.35359846e+00,  1.03976340e-01],       [ 1.05595062e+00,  8.07031927e-01],       [-1.94311010e+00, -1.18976964e-01],       [-1.39604137e+00, -3.10095976e-01],       [ 1.28977624e+00,  1.01753365e+00],       [-1.59503139e+00, -5.40574609e-01],       [-1.41994046e+00, -3.81032569e-01],       [-2.35569801e-02, -1.10133702e+00],       [-1.26038568e+00, -6.93273886e-01],       [ 9.60215981e-01, -8.11553694e-01],       [ 5.51803308e-01, -1.01793176e+00],       [ 3.70185085e-01, -1.06885468e+00],       [ 8.25529207e-01,  8.77007060e-01],       [-1.87032595e+00,  2.87507199e-01],       [-1.56260769e+00, -1.89196712e-01],       [-1.26346548e+00, -7.74725237e-01],       [-6.33800421e-02, -7.59400611e-01],       [ 8.85298280e-01,  8.85620519e-01],       [-1.43324686e-01, -1.16083678e+00],       [-1.83908725e+00, -3.26655515e-01],       [ 2.74709229e-01, -1.04546829e+00],       [-1.45703573e+00, -2.91842036e-01],       [-1.59048842e+00,  1.66063031e-01],       [ 9.25549284e-01,  7.41406406e-01],       [ 1.97245469e-01, -7.80703225e-01],       [ 2.88401697e-01, -8.32425551e-01],       [ 7.24141618e-01, -7.99149200e-01],       [-1.62658639e+00, -1.80005543e-01],       [ 5.84481588e-01,  1.13195640e+00],       [ 1.02146732e+00,  4.59657799e-01],       [ 8.65050554e-01,  9.57714887e-01],       [ 3.98717766e-01, -1.24273147e+00],       [ 8.62234892e-01,  1.10955561e+00],       [-1.35999430e+00,  2.49942654e-02],       [-1.19178505e+00, -3.82946323e-02],       [ 1.29392424e+00,  1.10320509e+00],       [ 1.25679630e+00, -7.79857582e-01],       [ 9.38040302e-02, -5.53247258e-01],       [-1.73512175e+00, -9.76271667e-02],       [ 2.23153587e-01, -9.43474351e-01],       [ 4.01989100e-01, -1.10963051e+00],       [-1.42244158e+00,  1.81914703e-01],       [ 3.92476267e-01, -8.78426277e-01],       [ 1.25181875e+00,  6.93614996e-01],       [ 1.77481317e-02, -7.20304235e-01],       [-1.87752521e+00, -2.63870424e-01],       [-1.58063602e+00, -5.50456344e-01],       [-1.59589493e+00, -1.53932892e-01],       [-1.01829770e+00,  3.88542370e-02],       [ 1.24819659e+00,  6.60041803e-01],       [-1.25551377e+00, -2.96172009e-02],       [-1.41864559e+00, -3.58230179e-01],       [ 5.25758326e-01,  8.70500543e-01],       [ 5.55599988e-01,  1.18765072e+00],       [ 2.81344439e-02, -6.99111314e-01]])\n"
   ]
  },
  {
   "cell_type": "code",
   "execution_count": 5,
   "id": "821791f4",
   "metadata": {},
   "outputs": [
    {
     "name": "stdout",
     "output_type": "stream",
     "text": [
      "[0 1 2 0 1 0 1 1 1 2 0 1 1 2 2 1 2 2 1 1 2 1 0 1 0 2 1 2 2 0 0 1 1 1 2 0 1\n",
      " 1 0 1 2 0 0 2 0 1 2 2 1 1 1 1 2 2 0 0 2 2 2 0 0 1 1 1 0 1 2 1 0 2 0 0 0 1\n",
      " 0 2 2 0 1 2 0 2 0 1 2 1 2 0 1 1 1 0 1 1 0 2 2 2 2 0 1 0 2 2 0 0 1 0 2 2 0\n",
      " 2 2 2 1 1 1 1 2 2 1 0 1 2 1 0 2 1 2 2 1 2 1 2 0 1 0 0 1 2 0 1 0 0 2 1 1 0\n",
      " 2 0 2 1 0 2 2 0 2 1 1 2 1 2 2 1 1 0 1 1 2 0 2 0 0 1 0 1 1 0 0 2 0 0 0 2 1\n",
      " 1 0 2 0 2 2 1 1 1 0 1 1 1 2 2 0 1 0 0 0 2 1 1 1 1 1 1 2 2 1 2 2 2 2 1 2 2\n",
      " 1 1 0 2 0 0 2 0 2 0 2 1 1 2 1 1 1 2 0 0 2 1 1 2 1 2 2 1 2 2 0 2 0 0 0 1 2\n",
      " 2 2 0 1 0 2 0 2 2 1 0 0 0 2 1 1 1 0 1 2 2 1 0 0 2 0 0 2 0 1 0 2 2 2 2 1 2\n",
      " 2 1 1 0]\n"
     ]
    }
   ],
   "source": [
    "# Import KMeans\n",
    "from sklearn.cluster import KMeans\n",
    "\n",
    "# Create a KMeans instance with 3 clusters: model\n",
    "model = KMeans(n_clusters = 3)\n",
    "\n",
    "# Fit model to points\n",
    "model.fit(points)\n",
    "\n",
    "# Determine the cluster labels of new_points: labels\n",
    "labels = model.predict(new_points)\n",
    "\n",
    "# Print cluster labels of new_points\n",
    "print(labels)\n"
   ]
  },
  {
   "cell_type": "markdown",
   "id": "0dcf1cec",
   "metadata": {},
   "source": [
    "# Inspect your clustering\n",
    "Let's now inspect the clustering you performed in the previous exercise!\n",
    "\n",
    "A solution to the previous exercise has already run, so new_points is an array of points and labels is the array of their cluster labels.\n",
    "\n",
    "Instructions\n",
    "\n",
    "\n",
    "- Import matplotlib.pyplot as plt.\n",
    "\n",
    "- Assign column 0 of new_points to xs, and column 1 of new_points to ys.\n",
    "\n",
    "- Make a scatter plot of xs and ys, specifying the c=labels keyword arguments to color the points by their cluster label. Also specify alpha=0.5.\n",
    "\n",
    "- Compute the coordinates of the centroids using the .cluster_centers_ attribute of model.\n",
    "\n",
    "- Assign column 0 of centroids to centroids_x, and column 1 of centroids to centroids_y.\n",
    "\n",
    "- Make a scatter plot of centroids_x and centroids_y, using 'D' (a diamond) as a marker by specifying the marker parameter. \n",
    "\n",
    "- Set the size of the markers to be 50 using s=50."
   ]
  },
  {
   "cell_type": "code",
   "execution_count": 6,
   "id": "2127a548",
   "metadata": {},
   "outputs": [
    {
     "data": {
      "image/png": "[encoded data removed]",
      "text/plain": [
       "<Figure size 432x288 with 1 Axes>"
      ]
     },
     "metadata": {
      "needs_background": "light"
     },
     "output_type": "display_data"
    }
   ],
   "source": [
    "# Import pyplot\n",
    "import matplotlib.pyplot as plt\n",
    "\n",
    "# Assign the columns of new_points: xs and ys\n",
    "xs = new_points[:,0]\n",
    "ys = new_points[:,1]\n",
    "\n",
    "# Make a scatter plot of xs and ys, using labels to define the colors\n",
    "plt.scatter(xs,ys,c=labels,alpha=0.5)\n",
    "\n",
    "# Assign the cluster centers: centroids\n",
    "centroids = model.cluster_centers_\n",
    "\n",
    "# Assign the columns of centroids: centroids_x, centroids_y\n",
    "centroids_x = centroids[:,0]\n",
    "centroids_y = centroids[:,1]\n",
    "\n",
    "# Make a scatter plot of centroids_x and centroids_y\n",
    "plt.scatter(centroids_x,centroids_y,marker='D',s=50)\n",
    "plt.show()\n"
   ]
  },
  {
   "cell_type": "markdown",
   "id": "ab9b9c5d",
   "metadata": {},
   "source": [
    "# 1. Evaluating a clustering\n",
    "In the previous video, we used k-means to cluster the iris samples into three clusters. But how can we evaluate the quality of this clustering?\n",
    "\n",
    "2. Evaluating a clustering\n",
    "A direct approach is to compare the clusters with the iris species. You'll learn about this first, before considering the problem of how to measure the quality of a clustering in a way that doesn't require our samples to come pre-grouped into species. This measure of quality can then be used to make an informed choice about the number of clusters to look for.\n",
    "\n",
    "3. Iris: clusters vs species\n",
    "Firstly, let's check whether the 3 clusters of iris samples have any correspondence to the iris species. The correspondence is described by this table. There is one column for each of the three species of iris: setosa, versicolor and virginica, and one row for each of the three cluster labels: 0, 1 and 2. The table shows the number of samples that have each possible cluster label/species combination. For example, we see that cluster 1 corresponds perfectly with the species setosa. On the other hand, while cluster 0 contains mainly virginica samples, there are also some virginica samples in cluster 2.\n",
    "\n",
    "4. Cross tabulation with pandas\n",
    "Tables like these are called \"cross-tabulations\". To construct one, we are going to use the pandas library. Let's assume the species of each sample is given as a list of strings.\n",
    "\n",
    "5. Aligning labels and species\n",
    "Import pandas, and then create a two-column DataFrame, where the first column is cluster labels and the second column is the iris species, so that each row gives the cluster label and species of a single sample.\n",
    "\n",
    "6. Crosstab of labels and species\n",
    "Now use the pandas crosstab function to build the cross tabulation, passing the two columns of the DataFrame. Cross tabulations like these provide great insights into which sort of samples are in which cluster. But in most datasets, the samples are not labelled by species. How can the quality of a clustering be evaluated in these cases?\n",
    "\n",
    "7. Measuring clustering quality\n",
    "We need a way to measure the quality of a clustering that uses only the clusters and the samples themselves. A good clustering has tight clusters, meaning that the samples in each cluster are bunched together, not spread out.\n",
    "\n",
    "8. Inertia measures clustering quality\n",
    "How spread out the samples within each cluster are can be measured by the \"inertia\". Intuitively, inertia measures how far samples are from their centroids. You can find the precise definition in the scikit-learn documentation. We want clusters that are not spread out, so lower values of the inertia are better. The inertia of a kmeans model is measured automatically when any of the fit methods are called, and is available afterwards as the inertia attribute. In fact, kmeans aims to place the clusters in a way that minimizes the inertia.\n",
    "\n",
    "9. The number of clusters\n",
    "Here is a plot of the inertia values of clusterings of the iris dataset with different numbers of clusters. Our kmeans model with 3 clusters has relatively low inertia, which is great. But notice that the inertia continues to decrease slowly. So what's the best number of clusters to choose?\n",
    "\n",
    "10. How many clusters to choose?\n",
    "Ultimately, this is a trade-off. A good clustering has tight clusters (meaning low inertia). But it also doesn't have too many clusters. A good rule of thumb is to choose an elbow in the inertia plot, that is, a point where the inertia begins to decrease more slowly. For example, by this criterion, 3 is a good number of clusters for the iris dataset.\n",
    "\n",
    "11. Let's practice!\n",
    "In this video, you've learned ways to evaluate the quality of a clustering. In the next video, you'll learn to use feature scaling to make your clusterings even better. For now, let's practice"
   ]
  },
  {
   "cell_type": "code",
   "execution_count": 7,
   "id": "3d5fa87d",
   "metadata": {},
   "outputs": [
    {
     "name": "stdout",
     "output_type": "stream",
     "text": [
      "[0 0 0 0 0 0 0 0 0 0 0 0 0 0 0 0 0 0 0 0 0 0 0 0 0 0 0 0 0 0 0 0 0 0 0 0 0\n",
      " 0 0 0 0 0 0 0 0 0 0 0 0 0 1 1 2 1 1 1 1 1 1 1 1 1 1 1 1 1 1 1 1 1 1 1 1 1\n",
      " 1 1 1 2 1 1 1 1 1 1 1 1 1 1 1 1 1 1 1 1 1 1 1 1 1 1 2 1 2 2 2 2 1 2 2 2 2\n",
      " 2 2 1 1 2 2 2 2 1 2 1 2 1 2 2 1 1 2 2 2 2 2 1 2 2 2 2 1 2 2 2 1 2 2 2 1 2\n",
      " 2 1]\n"
     ]
    }
   ],
   "source": [
    "'''\n",
    "VIDEO EXERCISE\n",
    "'''\n",
    "from sklearn.cluster import KMeans\n",
    "from sklearn import datasets\n",
    "from sklearn.decomposition import PCA\n",
    "\n",
    "iris = datasets.load_iris()\n",
    "samples = iris.data\n",
    "\n",
    "model = KMeans(n_clusters = 3)\n",
    "model.fit(samples)\n",
    "labels = model.predict(samples)\n",
    "print(labels)\n",
    "\n",
    "'''\n",
    "NEW STEP\n",
    "'''\n",
    "species = [iris.target_names[x] for x in iris.target]\n",
    "df = pd.DataFrame({'labels':labels,'species':species})"
   ]
  },
  {
   "cell_type": "code",
   "execution_count": 8,
   "id": "bab6ce6f",
   "metadata": {},
   "outputs": [
    {
     "name": "stdout",
     "output_type": "stream",
     "text": [
      "species  setosa  versicolor  virginica\n",
      "labels                                \n",
      "0            50           0          0\n",
      "1             0          48         14\n",
      "2             0           2         36\n"
     ]
    }
   ],
   "source": [
    "ct=pd.crosstab(df['labels'],df['species'])\n",
    "print(ct)"
   ]
  },
  {
   "cell_type": "code",
   "execution_count": 9,
   "id": "135768e9",
   "metadata": {},
   "outputs": [
    {
     "name": "stdout",
     "output_type": "stream",
     "text": [
      "78.85144142614601\n"
     ]
    }
   ],
   "source": [
    "model=KMeans(n_clusters=3)\n",
    "model.fit(samples)\n",
    "print(model.inertia_)"
   ]
  },
  {
   "cell_type": "markdown",
   "id": "64936b93",
   "metadata": {},
   "source": [
    "# How many clusters of grain?\n",
    "In the video, you learned how to choose a good number of clusters for a dataset using the k-means inertia graph. You are given an array samples containing the measurements (such as area, perimeter, length, and several others) of samples of grain. What's a good number of clusters in this case?\n",
    "\n",
    "KMeans and PyPlot (plt) have already been imported for you.\n",
    "\n",
    "This dataset was sourced from the UCI Machine Learning Repository.\n",
    "\n",
    "- Instructions\n",
    "\n",
    "- For each of the given values of k, perform the following steps:\n",
    "- Create a KMeans instance called model with k clusters.\n",
    "- Fit the model to the grain data samples.\n",
    "- Append the value of the inertia_ attribute of model to the list inertias.\n",
    "- The code to plot ks vs inertias has been written for you, so hit submit to see the plot!"
   ]
  },
  {
   "cell_type": "code",
   "execution_count": 10,
   "id": "45d67631",
   "metadata": {},
   "outputs": [],
   "source": [
    "seeds = pd.read_csv('seeds.csv',header=None)\n",
    "samples = np.array(seeds.iloc[:,:-1])\n",
    "names = np.array(['Kama wheat','Rosa wheat','Candian wheat'])\n",
    "varieties =np.array(seeds.iloc[:,-1]).tolist()\n",
    "varieties = [names[k-1] for k in varieties]\n"
   ]
  },
  {
   "cell_type": "code",
   "execution_count": 11,
   "id": "ca025ff3",
   "metadata": {},
   "outputs": [
    {
     "name": "stderr",
     "output_type": "stream",
     "text": [
      "C:\\Users\\derek\\anaconda3\\lib\\site-packages\\sklearn\\cluster\\_kmeans.py:1036: UserWarning: KMeans is known to have a memory leak on Windows with MKL, when there are less chunks than available threads. You can avoid it by setting the environment variable OMP_NUM_THREADS=1.\n",
      "  warnings.warn(\n"
     ]
    },
    {
     "data": {
      "image/png": "[encoded data removed]",
      "text/plain": [
       "<Figure size 432x288 with 1 Axes>"
      ]
     },
     "metadata": {
      "needs_background": "light"
     },
     "output_type": "display_data"
    }
   ],
   "source": [
    "ks = range(1, 6)\n",
    "inertias = []\n",
    "\n",
    "for k in ks:\n",
    "    # Create a KMeans instance with k clusters: model\n",
    "    model = KMeans(n_clusters = k)\n",
    "    \n",
    "    # Fit model to samples\n",
    "    model.fit(samples)\n",
    "    \n",
    "    # Append the inertia to the list of inertias\n",
    "    inertias.append(model.inertia_)\n",
    "    \n",
    "# Plot ks vs inertias\n",
    "plt.plot(ks, inertias, '-o')\n",
    "plt.xlabel('number of clusters, k')\n",
    "plt.ylabel('inertia')\n",
    "plt.xticks(ks)\n",
    "plt.show()\n"
   ]
  },
  {
   "cell_type": "markdown",
   "id": "55dbfe7d",
   "metadata": {},
   "source": [
    "### Excellent job! The inertia decreases very slowly from 3 clusters to 4, so it looks like 3 clusters would be a good choice for this data."
   ]
  },
  {
   "cell_type": "markdown",
   "id": "cdfe1367",
   "metadata": {},
   "source": [
    "# Evaluating the grain clustering\n",
    "In the previous exercise, you observed from the inertia plot that 3 is a good number of clusters for the grain data. In fact, the grain samples come from a mix of 3 different grain varieties: \"Kama\", \"Rosa\" and \"Canadian\". In this exercise, cluster the grain samples into three clusters, and compare the clusters to the grain varieties using a cross-tabulation.\n",
    "\n",
    "You have the array samples of grain samples, and a list varieties giving the grain variety for each sample. Pandas (pd) and KMeans have already been imported for you.\n",
    "\n",
    "Instructions\n",
    "\n",
    "- Create a KMeans model called model with 3 clusters.\n",
    "- Use the .fit_predict() method of model to fit it to samples and derive the cluster labels. Using .fit_predict() is the same as using .fit() followed by .predict().\n",
    "- Create a DataFrame df with two columns named 'labels' and 'varieties', using labels and varieties, respectively, for the column values. This has been done for you.\n",
    "- Use the pd.crosstab() function on df['labels'] and df['varieties'] to count the number of times each grain variety coincides with each cluster label. Assign the result to ct.\n",
    "- Hit submit to see the cross-tabulation!"
   ]
  },
  {
   "cell_type": "code",
   "execution_count": 12,
   "id": "a1e2b447",
   "metadata": {},
   "outputs": [
    {
     "name": "stdout",
     "output_type": "stream",
     "text": [
      "varieties  Candian wheat  Kama wheat  Rosa wheat\n",
      "labels                                          \n",
      "0                     68           9           0\n",
      "1                      0           1          60\n",
      "2                      2          60          10\n"
     ]
    }
   ],
   "source": [
    "# Create a KMeans model with 3 clusters: model\n",
    "model = KMeans(n_clusters=3)\n",
    "\n",
    "# Use fit_predict to fit model and obtain cluster labels: labels\n",
    "labels = model.fit_predict(samples)\n",
    "\n",
    "# Create a DataFrame with labels and varieties as columns: df\n",
    "df = pd.DataFrame({'labels': labels, 'varieties': varieties})\n",
    "\n",
    "# Create crosstab: ct\n",
    "ct = pd.crosstab(df.labels,df.varieties)\n",
    "\n",
    "# Display ct\n",
    "print(ct)\n"
   ]
  },
  {
   "cell_type": "markdown",
   "id": "02d33e15",
   "metadata": {},
   "source": [
    "# 1. Transforming features for better clusterings\n",
    "Let's look now at another dataset,\n",
    "\n",
    "2. Piedmont wines dataset\n",
    "the Piedmont wines dataset. We have 178 samples of red wine from the Piedmont region of Italy. The features measure chemical composition (like alcohol content) and visual properties like color intensity. The samples come from 3 distinct varieties of wine.\n",
    "\n",
    "1 Source: https://archive.ics.uci.edu/ml/datasets/Wine\n",
    "3. Clustering the wines\n",
    "Let's take the array of samples and use KMeans to find 3 clusters.\n",
    "\n",
    "4. Clusters vs. varieties\n",
    "There are three varieties of wine, so let's use pandas crosstab to check the cluster label - wine variety correspondence. As you can see, this time things haven't worked out so well. The KMeans clusters don't correspond well with the wine varieties.\n",
    "\n",
    "5. Feature variances\n",
    "The problem is that the features of the wine dataset have very different variances. The variance of a feature measures the spread of its values. For example, the malic acid feature has a higher variance\n",
    "\n",
    "6. Feature variances\n",
    "than the od280 feature, and this can also be seen in their scatter plot. The differences in some of the feature variances is enormous, as seen here, for example, in the scatter plot of the od280 and proline features.\n",
    "\n",
    "7. StandardScaler\n",
    "In KMeans clustering, the variance of a feature corresponds to its influence on the clustering algorithm. To give every feature a chance, the data needs to be transformed so that features have equal variance. This can be achieved with the StandardScaler from scikit-learn. It transforms every feature to have mean 0 and variance 1. The resulting \"standardized\" features can be very informative. Using standardized od280 and proline, for example, the three wine varieties are much more distinct.\n",
    "\n",
    "8. sklearn StandardScaler\n",
    "Let's see the StandardScaler in action. First, import StandardScaler from sklearn.preprocessing. Then create a StandardScaler object, and fit it to the samples. The transform method can now be used to standardize any samples, either the same ones, or completely new ones.\n",
    "\n",
    "9. Similar methods\n",
    "The APIs of StandardScaler and KMeans are similar, but there is an important difference. StandardScaler transforms data, and so has a transform method. KMeans, in contrast, assigns cluster labels to samples, and this done using the predict method.\n",
    "\n",
    "10. StandardScaler, then KMeans\n",
    "Let's return to the problem of clustering the wines. We need to perform two steps. Firstly, to standardize the data using StandardScaler, and secondly to take the standardized data and cluster it using KMeans. This can be conveniently achieved by combining the two steps using a scikit-learn pipeline. Data then flows from one step into the next, automatically.\n",
    "\n",
    "11. Pipelines combine multiple steps\n",
    "The first steps are the same: creating a StandardScaler and a KMeans object. After that, import the make_pipeline function from sklearn.pipeline. Apply the make_pipeline function to the steps that you want to compose in this case, the scaler and the kmeans objects. Now use the fit method of the pipeline to fit both the scaler and kmeans, and use its predict method to obtain the cluster labels.\n",
    "\n",
    "12. Feature standardization improves clustering\n",
    "Checking the correspondence between the cluster labels and the wine varieties reveals that this new clustering, incorporating standardization, is fantastic. Its three clusters correspond almost exactly to the three wine varieties. This is a huge improvement on the clustering without standardization.\n",
    "\n",
    "13. sklearn preprocessing steps\n",
    "StandardScaler is an example of a \"preprocessing\" step. There are several of these available in scikit-learn, for example MaxAbsScaler and Normalizer.\n",
    "\n",
    "14. Let's practice!\n",
    "You've learned a lot this video. Now put it into practice and cluster some datasets!"
   ]
  },
  {
   "cell_type": "code",
   "execution_count": 13,
   "id": "6af3f94d",
   "metadata": {},
   "outputs": [],
   "source": [
    "'''\n",
    "VIDEO EXAMPLE\n",
    "'''\n",
    "wine = pd.read_csv('wine.csv')\n",
    "samples = wine.iloc[:,2:]\n",
    "varieties = wine.iloc[:,1]"
   ]
  },
  {
   "cell_type": "code",
   "execution_count": 14,
   "id": "a7bd15b6",
   "metadata": {},
   "outputs": [
    {
     "name": "stdout",
     "output_type": "stream",
     "text": [
      "varieties  Barbera  Barolo  Grignolino\n",
      "labels                                \n",
      "0               29      13          20\n",
      "1                0      46           1\n",
      "2               19       0          50\n"
     ]
    }
   ],
   "source": [
    "model = KMeans(n_clusters=3)\n",
    "labels = model.fit_predict(samples)\n",
    "df=pd.DataFrame({'labels':labels,'varieties':varieties})\n",
    "ct = pd.crosstab(df.labels,df.varieties)\n",
    "print(ct)"
   ]
  },
  {
   "cell_type": "code",
   "execution_count": 15,
   "id": "6a19e335",
   "metadata": {},
   "outputs": [],
   "source": [
    "from sklearn.preprocessing import StandardScaler\n",
    "scaler = StandardScaler()\n",
    "scaler.fit(samples)\n",
    "StandardScaler(copy=True,with_mean=True,with_std=True)\n",
    "samples_scaled = scaler.transform(samples)"
   ]
  },
  {
   "cell_type": "code",
   "execution_count": 16,
   "id": "5d4c6612",
   "metadata": {},
   "outputs": [
    {
     "name": "stdout",
     "output_type": "stream",
     "text": [
      "varieties  Barbera  Barolo  Grignolino\n",
      "labels                                \n",
      "0                0       0          65\n",
      "1               48       0           3\n",
      "2                0      59           3\n"
     ]
    }
   ],
   "source": [
    "'''\n",
    "Run new Data after standardization\n",
    "'''\n",
    "model = KMeans(n_clusters=3)\n",
    "labels = model.fit_predict(samples_scaled)\n",
    "df=pd.DataFrame({'labels':labels,'varieties':varieties})\n",
    "ct = pd.crosstab(df.labels,df.varieties)\n",
    "print(ct)"
   ]
  },
  {
   "cell_type": "code",
   "execution_count": 17,
   "id": "ea0e1915",
   "metadata": {},
   "outputs": [
    {
     "name": "stdout",
     "output_type": "stream",
     "text": [
      "varieties  Barbera  Barolo  Grignolino\n",
      "labels                                \n",
      "0                0      59           3\n",
      "1                0       0          65\n",
      "2               48       0           3\n"
     ]
    }
   ],
   "source": [
    "'''\n",
    "MAKE A PIPELINE\n",
    "'''\n",
    "scaler = StandardScaler()\n",
    "kmeans = KMeans(n_clusters=3)\n",
    "from sklearn.pipeline import make_pipeline\n",
    "pipeline = make_pipeline(scaler,kmeans)\n",
    "pipeline.fit(samples)\n",
    "labels = pipeline.predict(samples)\n",
    "df=pd.DataFrame({'labels':labels,'varieties':varieties})\n",
    "ct = pd.crosstab(df.labels,df.varieties)\n",
    "print(ct)"
   ]
  },
  {
   "cell_type": "markdown",
   "id": "b631b7ca",
   "metadata": {},
   "source": [
    "# Scaling fish data for clustering\n",
    "You are given an array samples giving measurements of fish. Each row represents an individual fish. The measurements, such as weight in grams, length in centimeters, and the percentage ratio of height to length, have very different scales. In order to cluster this data effectively, you'll need to standardize these features first. In this exercise, you'll build a pipeline to standardize and cluster the data.\n",
    "\n",
    "These fish measurement data were sourced from the Journal of Statistics Education.\n",
    "\n",
    "Instructions\n",
    "100 XP\n",
    "Import:\n",
    "- make_pipeline from sklearn.pipeline.\n",
    "- StandardScaler from sklearn.preprocessing.\n",
    "- KMeans from sklearn.cluster.\n",
    "- Create an instance of StandardScaler called scaler.\n",
    "- Create an instance of KMeans with 4 clusters called kmeans.\n",
    "- Create a pipeline called pipeline that chains scaler and kmeans. To do this, you just need to pass them in as arguments to make_pipeline()."
   ]
  },
  {
   "cell_type": "code",
   "execution_count": 18,
   "id": "63de9785",
   "metadata": {},
   "outputs": [],
   "source": [
    "# Perform the necessary imports\n",
    "from sklearn.pipeline import make_pipeline\n",
    "from sklearn.preprocessing import StandardScaler\n",
    "from sklearn.cluster import KMeans\n",
    "\n",
    "# Create scaler: scaler\n",
    "scaler = StandardScaler()\n",
    "\n",
    "# Create KMeans instance: kmeans\n",
    "kmeans = KMeans(n_clusters=4)\n",
    "\n",
    "# Create pipeline: pipeline\n",
    "pipeline = make_pipeline(scaler,kmeans)\n"
   ]
  },
  {
   "cell_type": "markdown",
   "id": "15138d38",
   "metadata": {},
   "source": [
    "#### Great work! Now that you've built the pipeline, you'll use it in the next exercise to cluster the fish by their measurements."
   ]
  },
  {
   "cell_type": "code",
   "execution_count": 19,
   "id": "6e33c902",
   "metadata": {},
   "outputs": [],
   "source": [
    "fish = pd.read_csv('fish.csv',header=None)\n",
    "samples = fish.iloc[:,1:]\n",
    "species = fish.iloc[:,0]\n"
   ]
  },
  {
   "cell_type": "markdown",
   "id": "c1e533f9",
   "metadata": {},
   "source": [
    "# Clustering the fish data\n",
    "You'll now use your standardization and clustering pipeline from the previous exercise to cluster the fish by their measurements, and then create a cross-tabulation to compare the cluster labels with the fish species.\n",
    "\n",
    "As before, samples is the 2D array of fish measurements. Your pipeline is available as pipeline, and the species of every fish sample is given by the list species.\n",
    "\n",
    "Instructions\n",
    "100 XP\n",
    "- Import pandas as pd.\n",
    "- Fit the pipeline to the fish measurements samples.\n",
    "- Obtain the cluster labels for samples by using the .predict() method of pipeline.\n",
    "- Using pd.DataFrame(), create a DataFrame df with two columns named 'labels' and 'species', using labels and species, respectively, for the column values.\n",
    "- Using pd.crosstab(), create a cross-tabulation ct of df['labels'] and df['species']"
   ]
  },
  {
   "cell_type": "code",
   "execution_count": 20,
   "id": "39cd0d27",
   "metadata": {},
   "outputs": [
    {
     "name": "stdout",
     "output_type": "stream",
     "text": [
      "species  Bream  Pike  Roach  Smelt\n",
      "labels                            \n",
      "0            1     0     19      1\n",
      "1           33     0      1      0\n",
      "2            0    17      0      0\n",
      "3            0     0      0     13\n"
     ]
    }
   ],
   "source": [
    "# Import pandas\n",
    "import pandas as pd\n",
    "\n",
    "# Fit the pipeline to samples\n",
    "pipeline.fit(samples)\n",
    "\n",
    "# Calculate the cluster labels: labels\n",
    "labels = pipeline.predict(samples)\n",
    "\n",
    "# Create a DataFrame with labels and species as columns: df\n",
    "df = pd.DataFrame({'labels':labels,'species':species})\n",
    "\n",
    "# Create crosstab: ct\n",
    "ct = pd.crosstab(df.labels,df.species)\n",
    "\n",
    "# Display ct\n",
    "print(ct)\n"
   ]
  },
  {
   "cell_type": "markdown",
   "id": "fb676c18",
   "metadata": {},
   "source": [
    "# Clustering stocks using KMeans\n",
    "In this exercise, you'll cluster companies using their daily stock price movements (i.e. the dollar difference between the closing and opening prices for each trading day). You are given a NumPy array movements of daily price movements from 2010 to 2015 (obtained from Yahoo! Finance), where each row corresponds to a company, and each column corresponds to a trading day.\n",
    "\n",
    "Some stocks are more expensive than others. To account for this, include a Normalizer at the beginning of your pipeline. The Normalizer will separately transform each company's stock price to a relative scale before the clustering begins.\n",
    "\n",
    "Note that Normalizer() is different to StandardScaler(), which you used in the previous exercise. While StandardScaler() standardizes features (such as the features of the fish data from the previous exercise) by removing the mean and scaling to unit variance, Normalizer() rescales each sample - here, each company's stock price - independently of the other.\n",
    "\n",
    "KMeans and make_pipeline have already been imported for you.\n",
    "\n",
    "Instructions\n",
    "100 XP\n",
    "- Import Normalizer from sklearn.preprocessing.\n",
    "- Create an instance of Normalizer called normalizer.\n",
    "- Create an instance of KMeans called kmeans with 10 clusters.\n",
    "- Using make_pipeline(), create a pipeline called pipeline that chains normalizer and kmeans.\n",
    "- Fit the pipeline to the movements array."
   ]
  },
  {
   "cell_type": "code",
   "execution_count": 21,
   "id": "fbfad129",
   "metadata": {},
   "outputs": [],
   "source": [
    "price_movements = pd.read_csv('company-stock-movements-2010-2015-incl.csv')\n",
    "movements = price_movements.iloc[:,1:]\n",
    "companies = price_movements.iloc[:,0]"
   ]
  },
  {
   "cell_type": "code",
   "execution_count": 22,
   "id": "2616e31f",
   "metadata": {},
   "outputs": [
    {
     "data": {
      "text/plain": [
       "Pipeline(steps=[('normalizer', Normalizer()),\n",
       "                ('kmeans', KMeans(n_clusters=10))])"
      ]
     },
     "execution_count": 22,
     "metadata": {},
     "output_type": "execute_result"
    }
   ],
   "source": [
    "# Import Normalizer\n",
    "from sklearn.preprocessing import Normalizer\n",
    "\n",
    "# Create a normalizer: normalizer\n",
    "normalizer = Normalizer()\n",
    "\n",
    "# Create a KMeans model with 10 clusters: kmeans\n",
    "kmeans = KMeans(n_clusters=10)\n",
    "\n",
    "# Make a pipeline chaining normalizer and kmeans: pipeline\n",
    "pipeline = make_pipeline(normalizer,kmeans)\n",
    "\n",
    "# Fit pipeline to the daily price movements\n",
    "pipeline.fit(movements)\n"
   ]
  },
  {
   "cell_type": "markdown",
   "id": "a76b99ef",
   "metadata": {},
   "source": [
    "# Which stocks move together?\n",
    "In the previous exercise, you clustered companies by their daily stock price movements. So which company have stock prices that tend to change in the same way? You'll now inspect the cluster labels from your clustering to find out.\n",
    "\n",
    "Your solution to the previous exercise has already been run. Recall that you constructed a Pipeline pipeline containing a KMeans model and fit it to the NumPy array movements of daily stock movements. In addition, a list companies of the company names is available.\n",
    "\n",
    "Instructions\n",
    "100 XP\n",
    "- Import pandas as pd.\n",
    "- Use the .predict() method of the pipeline to predict the labels for movements.\n",
    "- Align the cluster labels with the list of company names companies by creating a DataFrame df with labels and companies as columns. This has been done for you.\n",
    "- Use the .sort_values() method of df to sort the DataFrame by the 'labels' column, and print the result.\n",
    "- Hit submit and take a moment to see which companies are together in each cluster!"
   ]
  },
  {
   "cell_type": "code",
   "execution_count": 23,
   "id": "08ea20e4",
   "metadata": {},
   "outputs": [
    {
     "name": "stdout",
     "output_type": "stream",
     "text": [
      "    labels                           companies\n",
      "28       0                           Coca Cola\n",
      "9        0                   Colgate-Palmolive\n",
      "40       0                      Procter Gamble\n",
      "27       0                      Kimberly-Clark\n",
      "38       0                               Pepsi\n",
      "1        1                                 AIG\n",
      "55       1                         Wells Fargo\n",
      "26       1                      JPMorgan Chase\n",
      "5        1                     Bank of America\n",
      "18       1                       Goldman Sachs\n",
      "30       2                          MasterCard\n",
      "31       2                           McDonalds\n",
      "23       2                                 IBM\n",
      "32       2                                  3M\n",
      "33       2                           Microsoft\n",
      "20       2                          Home Depot\n",
      "59       2                               Yahoo\n",
      "13       2                   DuPont de Nemours\n",
      "8        2                         Caterpillar\n",
      "47       2                            Symantec\n",
      "3        2                    American express\n",
      "16       2                   General Electrics\n",
      "14       2                                Dell\n",
      "37       3                            Novartis\n",
      "19       3                     GlaxoSmithKline\n",
      "41       3                       Philip Morris\n",
      "46       3                      Sanofi-Aventis\n",
      "6        3            British American Tobacco\n",
      "52       3                            Unilever\n",
      "0        4                               Apple\n",
      "17       4                     Google/Alphabet\n",
      "2        4                              Amazon\n",
      "48       5                              Toyota\n",
      "45       5                                Sony\n",
      "22       5                                  HP\n",
      "21       5                               Honda\n",
      "34       5                          Mitsubishi\n",
      "35       5                            Navistar\n",
      "58       5                               Xerox\n",
      "15       5                                Ford\n",
      "7        5                               Canon\n",
      "11       5                               Cisco\n",
      "43       5                                 SAP\n",
      "25       6                   Johnson & Johnson\n",
      "56       6                            Wal-Mart\n",
      "54       6                            Walgreen\n",
      "39       6                              Pfizer\n",
      "57       7                               Exxon\n",
      "53       7                       Valero Energy\n",
      "44       7                        Schlumberger\n",
      "10       7                      ConocoPhillips\n",
      "42       7                   Royal Dutch Shell\n",
      "12       7                             Chevron\n",
      "49       7                               Total\n",
      "50       8  Taiwan Semiconductor Manufacturing\n",
      "51       8                   Texas instruments\n",
      "24       8                               Intel\n",
      "4        9                              Boeing\n",
      "36       9                    Northrop Grumman\n",
      "29       9                     Lookheed Martin\n"
     ]
    }
   ],
   "source": [
    "# Import pandas\n",
    "import pandas as pd\n",
    "\n",
    "# Predict the cluster labels: labels\n",
    "labels = pipeline.predict(movements)\n",
    "\n",
    "# Create a DataFrame aligning labels and companies: df\n",
    "df = pd.DataFrame({'labels': labels, 'companies': companies})\n",
    "\n",
    "# Display df sorted by cluster label\n",
    "print(df.sort_values('labels'))\n"
   ]
  },
  {
   "cell_type": "markdown",
   "id": "c7078712",
   "metadata": {},
   "source": [
    "# Begin Chapter 2 Visualization with hierarchical clustering and t-SNE"
   ]
  },
  {
   "cell_type": "markdown",
   "id": "c2f9d241",
   "metadata": {},
   "source": [
    "# 1. Visualizing hierarchies\n",
    "A huge part of your work as a data scientist will be the communication of your insights to other people.\n",
    "\n",
    "2. Visualizations communicate insight\n",
    "Visualizations are an excellent way to share your findings, particularly with a non-technical audience. In this chapter, you'll learn about two unsupervised learning techniques for visualization: t-SNE and hierarchical clustering. t-SNE, which we'll consider later, creates a 2d map of any dataset, and conveys useful information about the proximity of the samples to one another. First up, however, let's learn about hierarchical clustering.\n",
    "\n",
    "3. A hierarchy of groups\n",
    "You've already seen many hierarchical clusterings in the real world. For example, living things can be organized into small narrow groups, like humans, apes, snakes and lizards, or into larger, broader groups like mammals and reptiles, or even broader groups like animals and plants. These groups are contained in one another, and form a hierarchy. Analogously, hierarchical clustering arranges samples into a hierarchy of clusters.\n",
    "\n",
    "4. Eurovision scoring dataset\n",
    "Hierarchical clustering can organize any sort of data into a hierarchy, not just samples of plants and animals. Let's consider a new type of dataset, describing how countries scored performances at the Eurovision 2016 song contest. The data is arranged in a rectangular array, where the rows of the array show how many points a country gave to each song. The \"samples\" in this case are the countries.\n",
    "\n",
    "1 http://www.eurovision.tv/page/results\n",
    "5. Hierarchical clustering of voting countries\n",
    "The result of applying hierarchical clustering to the Eurovision scores can be visualized as a tree-like diagram called a \"dendrogram\". This single picture reveals a great deal of information about the voting behavior of countries at the Eurovision. The dendrogram groups the countries into larger and larger clusters, and many of these clusters are immediately recognizable as containing countries that are close to one another geographically, or that have close cultural or political ties, or that belong to single language group. So hierarchical clustering can produce great visualizations. But how does it work?\n",
    "\n",
    "6. Hierarchical clustering\n",
    "Hierarchical clustering proceeds in steps. In the beginning, every country is its own cluster - so there are as many clusters as there are countries! At each step, the two closest clusters are merged. This decreases the number of clusters, and eventually, there is only one cluster left, and it contains all the countries. This process is actually a particular type of hierarchical clustering called \"agglomerative clustering\" - there is also \"divisive clustering\", which works the other way around. We haven't defined yet what it means for two clusters to be close, but we'll revisit that later on.\n",
    "\n",
    "7. The dendrogram of a hierarchical clustering\n",
    "The entire process of the hierarchical clustering is encoded in the dendrogram. At the bottom, each country is in a cluster of its own. The clustering then proceeds from the bottom up. Clusters are represented as vertical lines, and a joining of vertical lines indicates a merging of clusters. To understand better, let's zoom in\n",
    "\n",
    "8. The dendrogram of a hierarchical clustering\n",
    "and look at just one part of this dendrogram.\n",
    "\n",
    "9. Dendrograms, step-by-step\n",
    "In the beginning, there are six clusters, each containing only one country.\n",
    "\n",
    "10. Dendrograms, step-by-step\n",
    "The first merging is here, where the clusters containing Cyprus and Greece are merged together in a single cluster.\n",
    "\n",
    "11. Dendrograms, step-by-step\n",
    "Later on, this new cluster is merged with the cluster containing Bulgaria.\n",
    "\n",
    "12. Dendrograms, step-by-step\n",
    "Shortly after that, the clusters containing Moldova and Russia are merged,\n",
    "\n",
    "13. Dendrograms, step-by-step\n",
    "which later is in turn merged with the cluster containing Armenia.\n",
    "\n",
    "14. Dendrograms, step-by-step\n",
    "Later still, the two big composite clusters are merged together. This process continues\n",
    "\n",
    "15. Dendrograms, step-by-step\n",
    "until there is only one cluster left, and it contains all the countries.\n",
    "\n",
    "16. Hierarchical clustering with SciPy\n",
    "We'll use functions from scipy to perform a hierarchical clustering on the array of scores. For the dendrogram, we'll also need a list of country names. Firstly, import the linkage and dendrogram functions. Then, apply the linkage function to the sample array. Its the linkage function that performs the hierarchical clustering. Notice there is an extra method parameter - we'll cover that in the next video. Now pass the output of linkage to the dendrogram function, specifying the list of country names as the labels parameter. In the next video, you'll learn how to extract information from a hierarchical clustering,\n",
    "\n",
    "17. Let's practice!\n",
    "But for now, let's see what hierarchical clustering can do with some real-world datasets"
   ]
  },
  {
   "cell_type": "code",
   "execution_count": 24,
   "id": "9e8d4ac6",
   "metadata": {},
   "outputs": [
    {
     "data": {
      "text/html": [
       "<div>\n",
       "<style scoped>\n",
       "    .dataframe tbody tr th:only-of-type {\n",
       "        vertical-align: middle;\n",
       "    }\n",
       "\n",
       "    .dataframe tbody tr th {\n",
       "        vertical-align: top;\n",
       "    }\n",
       "\n",
       "    .dataframe thead th {\n",
       "        text-align: right;\n",
       "    }\n",
       "</style>\n",
       "<table border=\"1\" class=\"dataframe\">\n",
       "  <thead>\n",
       "    <tr style=\"text-align: right;\">\n",
       "      <th></th>\n",
       "      <th>From country</th>\n",
       "      <th>To country</th>\n",
       "      <th>Jury A</th>\n",
       "      <th>Jury B</th>\n",
       "      <th>Jury C</th>\n",
       "      <th>Jury D</th>\n",
       "      <th>Jury E</th>\n",
       "      <th>Jury Rank</th>\n",
       "      <th>Televote Rank</th>\n",
       "      <th>Jury Points</th>\n",
       "      <th>Televote Points</th>\n",
       "    </tr>\n",
       "  </thead>\n",
       "  <tbody>\n",
       "    <tr>\n",
       "      <th>0</th>\n",
       "      <td>Albania</td>\n",
       "      <td>Belgium</td>\n",
       "      <td>20</td>\n",
       "      <td>16</td>\n",
       "      <td>24</td>\n",
       "      <td>22</td>\n",
       "      <td>24</td>\n",
       "      <td>25</td>\n",
       "      <td>14</td>\n",
       "      <td>NaN</td>\n",
       "      <td>NaN</td>\n",
       "    </tr>\n",
       "    <tr>\n",
       "      <th>1</th>\n",
       "      <td>Albania</td>\n",
       "      <td>Czech Republic</td>\n",
       "      <td>21</td>\n",
       "      <td>15</td>\n",
       "      <td>25</td>\n",
       "      <td>23</td>\n",
       "      <td>16</td>\n",
       "      <td>22</td>\n",
       "      <td>22</td>\n",
       "      <td>NaN</td>\n",
       "      <td>NaN</td>\n",
       "    </tr>\n",
       "    <tr>\n",
       "      <th>2</th>\n",
       "      <td>Albania</td>\n",
       "      <td>The Netherlands</td>\n",
       "      <td>22</td>\n",
       "      <td>14</td>\n",
       "      <td>23</td>\n",
       "      <td>24</td>\n",
       "      <td>21</td>\n",
       "      <td>24</td>\n",
       "      <td>24</td>\n",
       "      <td>NaN</td>\n",
       "      <td>NaN</td>\n",
       "    </tr>\n",
       "    <tr>\n",
       "      <th>3</th>\n",
       "      <td>Albania</td>\n",
       "      <td>Azerbaijan</td>\n",
       "      <td>19</td>\n",
       "      <td>12</td>\n",
       "      <td>11</td>\n",
       "      <td>21</td>\n",
       "      <td>11</td>\n",
       "      <td>13</td>\n",
       "      <td>19</td>\n",
       "      <td>NaN</td>\n",
       "      <td>NaN</td>\n",
       "    </tr>\n",
       "    <tr>\n",
       "      <th>4</th>\n",
       "      <td>Albania</td>\n",
       "      <td>Hungary</td>\n",
       "      <td>8</td>\n",
       "      <td>13</td>\n",
       "      <td>9</td>\n",
       "      <td>14</td>\n",
       "      <td>9</td>\n",
       "      <td>10</td>\n",
       "      <td>10</td>\n",
       "      <td>1.0</td>\n",
       "      <td>1.0</td>\n",
       "    </tr>\n",
       "    <tr>\n",
       "      <th>...</th>\n",
       "      <td>...</td>\n",
       "      <td>...</td>\n",
       "      <td>...</td>\n",
       "      <td>...</td>\n",
       "      <td>...</td>\n",
       "      <td>...</td>\n",
       "      <td>...</td>\n",
       "      <td>...</td>\n",
       "      <td>...</td>\n",
       "      <td>...</td>\n",
       "      <td>...</td>\n",
       "    </tr>\n",
       "    <tr>\n",
       "      <th>1061</th>\n",
       "      <td>United Kingdom</td>\n",
       "      <td>Ukraine</td>\n",
       "      <td>11</td>\n",
       "      <td>1</td>\n",
       "      <td>1</td>\n",
       "      <td>1</td>\n",
       "      <td>5</td>\n",
       "      <td>2</td>\n",
       "      <td>6</td>\n",
       "      <td>10.0</td>\n",
       "      <td>5.0</td>\n",
       "    </tr>\n",
       "    <tr>\n",
       "      <th>1062</th>\n",
       "      <td>United Kingdom</td>\n",
       "      <td>Malta</td>\n",
       "      <td>18</td>\n",
       "      <td>13</td>\n",
       "      <td>8</td>\n",
       "      <td>17</td>\n",
       "      <td>4</td>\n",
       "      <td>12</td>\n",
       "      <td>15</td>\n",
       "      <td>NaN</td>\n",
       "      <td>NaN</td>\n",
       "    </tr>\n",
       "    <tr>\n",
       "      <th>1063</th>\n",
       "      <td>United Kingdom</td>\n",
       "      <td>Georgia</td>\n",
       "      <td>2</td>\n",
       "      <td>2</td>\n",
       "      <td>3</td>\n",
       "      <td>2</td>\n",
       "      <td>1</td>\n",
       "      <td>1</td>\n",
       "      <td>19</td>\n",
       "      <td>12.0</td>\n",
       "      <td>NaN</td>\n",
       "    </tr>\n",
       "    <tr>\n",
       "      <th>1064</th>\n",
       "      <td>United Kingdom</td>\n",
       "      <td>Austria</td>\n",
       "      <td>23</td>\n",
       "      <td>15</td>\n",
       "      <td>12</td>\n",
       "      <td>18</td>\n",
       "      <td>13</td>\n",
       "      <td>17</td>\n",
       "      <td>13</td>\n",
       "      <td>NaN</td>\n",
       "      <td>NaN</td>\n",
       "    </tr>\n",
       "    <tr>\n",
       "      <th>1065</th>\n",
       "      <td>United Kingdom</td>\n",
       "      <td>Armenia</td>\n",
       "      <td>15</td>\n",
       "      <td>22</td>\n",
       "      <td>7</td>\n",
       "      <td>24</td>\n",
       "      <td>18</td>\n",
       "      <td>20</td>\n",
       "      <td>18</td>\n",
       "      <td>NaN</td>\n",
       "      <td>NaN</td>\n",
       "    </tr>\n",
       "  </tbody>\n",
       "</table>\n",
       "<p>1066 rows × 11 columns</p>\n",
       "</div>"
      ],
      "text/plain": [
       "        From country       To country  Jury A  Jury B  Jury C  Jury D  Jury E  \\\n",
       "0            Albania          Belgium      20      16      24      22      24   \n",
       "1            Albania   Czech Republic      21      15      25      23      16   \n",
       "2            Albania  The Netherlands      22      14      23      24      21   \n",
       "3            Albania       Azerbaijan      19      12      11      21      11   \n",
       "4            Albania          Hungary       8      13       9      14       9   \n",
       "...              ...              ...     ...     ...     ...     ...     ...   \n",
       "1061  United Kingdom          Ukraine      11       1       1       1       5   \n",
       "1062  United Kingdom            Malta      18      13       8      17       4   \n",
       "1063  United Kingdom          Georgia       2       2       3       2       1   \n",
       "1064  United Kingdom          Austria      23      15      12      18      13   \n",
       "1065  United Kingdom          Armenia      15      22       7      24      18   \n",
       "\n",
       "      Jury Rank  Televote Rank  Jury Points  Televote Points  \n",
       "0            25             14          NaN              NaN  \n",
       "1            22             22          NaN              NaN  \n",
       "2            24             24          NaN              NaN  \n",
       "3            13             19          NaN              NaN  \n",
       "4            10             10          1.0              1.0  \n",
       "...         ...            ...          ...              ...  \n",
       "1061          2              6         10.0              5.0  \n",
       "1062         12             15          NaN              NaN  \n",
       "1063          1             19         12.0              NaN  \n",
       "1064         17             13          NaN              NaN  \n",
       "1065         20             18          NaN              NaN  \n",
       "\n",
       "[1066 rows x 11 columns]"
      ]
     },
     "execution_count": 24,
     "metadata": {},
     "output_type": "execute_result"
    }
   ],
   "source": [
    "euro = pd.read_csv('eurovision-2016.csv')\n",
    "euro"
   ]
  },
  {
   "cell_type": "code",
   "execution_count": 25,
   "id": "b15c56ff",
   "metadata": {},
   "outputs": [],
   "source": [
    "samples = np.array(seeds.iloc[:,:-1])\n",
    "names = np.array(['Kama wheat','Rosa wheat','Candian wheat'])\n",
    "varieties =np.array(seeds.iloc[:,-1]).tolist()\n",
    "varieties = [names[k-1] for k in varieties]\n",
    "import random\n",
    "sample_idxs = np.unique(np.random.randint(seeds.shape[0], size=45))\n",
    "smallersamples=samples[sample_idxs]\n"
   ]
  },
  {
   "cell_type": "markdown",
   "id": "f1f383bd",
   "metadata": {},
   "source": [
    "# Hierarchical clustering of the grain data\n",
    "In the video, you learned that the SciPy linkage() function performs hierarchical clustering on an array of samples. Use the linkage() function to obtain a hierarchical clustering of the grain samples, and use dendrogram() to visualize the result. A sample of the grain measurements is provided in the array samples, while the variety of each grain sample is given by the list varieties.\n",
    "\n",
    "Instructions\n",
    "100 XP\n",
    "- Import:\n",
    "    - linkage and dendrogram from scipy.cluster.hierarchy.\n",
    "    - matplotlib.pyplot as plt.\n",
    "- Perform hierarchical clustering on samples using the linkage() function with the method='complete' keyword argument. Assign the result to mergings.\n",
    "- Plot a dendrogram using the dendrogram() function on mergings. Specify the keyword arguments labels=varieties, leaf_rotation=90, and leaf_font_size=6."
   ]
  },
  {
   "cell_type": "code",
   "execution_count": 26,
   "id": "6da3d039",
   "metadata": {},
   "outputs": [
    {
     "data": {
      "image/png": "[encoded data removed]",
      "text/plain": [
       "<Figure size 432x288 with 1 Axes>"
      ]
     },
     "metadata": {
      "needs_background": "light"
     },
     "output_type": "display_data"
    }
   ],
   "source": [
    "samples = np.array([[14.88  , 14.57  ,  0.8811,  5.554 ,  3.333 ,  1.018 ,  4.956 ],       [14.69  , 14.49  ,  0.8799,  5.563 ,  3.259 ,  3.586 ,  5.219 ],      [14.03  , 14.16  ,  0.8796,  5.438 ,  3.201 ,  1.717 ,  5.001 ],       [13.99  , 13.83  ,  0.9183,  5.119 ,  3.383 ,  5.234 ,  4.781 ],       [14.11  , 14.26  ,  0.8722,  5.52  ,  3.168 ,  2.688 ,  5.219 ],       [13.02  , 13.76  ,  0.8641,  5.395 ,  3.026 ,  3.373 ,  4.825 ],       [15.49  , 14.94  ,  0.8724,  5.757 ,  3.371 ,  3.412 ,  5.228 ],       [16.2   , 15.27  ,  0.8734,  5.826 ,  3.464 ,  2.823 ,  5.527 ],       [13.5   , 13.85  ,  0.8852,  5.351 ,  3.158 ,  2.249 ,  5.176 ],       [15.36  , 14.76  ,  0.8861,  5.701 ,  3.393 ,  1.367 ,  5.132 ],       [15.78  , 14.91  ,  0.8923,  5.674 ,  3.434 ,  5.593 ,  5.136 ],       [14.46  , 14.35  ,  0.8818,  5.388 ,  3.377 ,  2.802 ,  5.044 ],       [11.23  , 12.63  ,  0.884 ,  4.902 ,  2.879 ,  2.269 ,  4.703 ],       [14.34  , 14.37  ,  0.8726,  5.63  ,  3.19  ,  1.313 ,  5.15  ],       [16.84  , 15.67  ,  0.8623,  5.998 ,  3.484 ,  4.675 ,  5.877 ],       [17.32  , 15.91  ,  0.8599,  6.064 ,  3.403 ,  3.824 ,  5.922 ],       [18.72  , 16.19  ,  0.8977,  6.006 ,  3.857 ,  5.324 ,  5.879 ],       [18.88  , 16.26  ,  0.8969,  6.084 ,  3.764 ,  1.649 ,  6.109 ],       [18.76  , 16.2   ,  0.8984,  6.172 ,  3.796 ,  3.12  ,  6.053 ],       [19.31  , 16.59  ,  0.8815,  6.341 ,  3.81  ,  3.477 ,  6.238 ],       [17.99  , 15.86  ,  0.8992,  5.89  ,  3.694 ,  2.068 ,  5.837 ],       [18.85  , 16.17  ,  0.9056,  6.152 ,  3.806 ,  2.843 ,  6.2   ],       [19.38  , 16.72  ,  0.8716,  6.303 ,  3.791 ,  3.678 ,  5.965 ],       [18.96  , 16.2   ,  0.9077,  6.051 ,  3.897 ,  4.334 ,  5.75  ],       [18.14  , 16.12  ,  0.8772,  6.059 ,  3.563 ,  3.619 ,  6.011 ],       [18.65  , 16.41  ,  0.8698,  6.285 ,  3.594 ,  4.391 ,  6.102 ],       [18.94  , 16.32  ,  0.8942,  6.144 ,  3.825 ,  2.908 ,  5.949 ],       [17.36  , 15.76  ,  0.8785,  6.145 ,  3.574 ,  3.526 ,  5.971 ],       [13.32  , 13.94  ,  0.8613,  5.541 ,  3.073 ,  7.035 ,  5.44  ],       [11.43  , 13.13  ,  0.8335,  5.176 ,  2.719 ,  2.221 ,  5.132 ],       [12.01  , 13.52  ,  0.8249,  5.405 ,  2.776 ,  6.992 ,  5.27  ],       [11.34  , 12.87  ,  0.8596,  5.053 ,  2.849 ,  3.347 ,  5.003 ],       [12.02  , 13.33  ,  0.8503,  5.35  ,  2.81  ,  4.271 ,  5.308 ],       [12.44  , 13.59  ,  0.8462,  5.319 ,  2.897 ,  4.924 ,  5.27  ],       [11.55  , 13.1   ,  0.8455,  5.167 ,  2.845 ,  6.715 ,  4.956 ],       [11.26  , 13.01  ,  0.8355,  5.186 ,  2.71  ,  5.335 ,  5.092 ],       [12.46  , 13.41  ,  0.8706,  5.236 ,  3.017 ,  4.987 ,  5.147 ],       [11.81  , 13.45  ,  0.8198,  5.413 ,  2.716 ,  4.898 ,  5.352 ],       [11.27  , 12.86  ,  0.8563,  5.091 ,  2.804 ,  3.985 ,  5.001 ],       [12.79  , 13.53  ,  0.8786,  5.224 ,  3.054 ,  5.483 ,  4.958 ],       [12.67  , 13.32  ,  0.8977,  4.984 ,  3.135 ,  2.3   ,  4.745 ],       [11.23  , 12.88  ,  0.8511,  5.14  ,  2.795 ,  4.325 ,  5.003 ]])\n",
    "varieties = ['Kama wheat', 'Kama wheat', 'Kama wheat', 'Kama wheat', 'Kama wheat', 'Kama wheat', 'Kama wheat', 'Kama wheat', 'Kama wheat', 'Kama wheat', 'Kama wheat', 'Kama wheat', 'Kama wheat', 'Kama wheat', 'Rosa wheat', 'Rosa wheat', 'Rosa wheat', 'Rosa wheat', 'Rosa wheat', 'Rosa wheat', 'Rosa wheat', 'Rosa wheat', 'Rosa wheat', 'Rosa wheat', 'Rosa wheat', 'Rosa wheat', 'Rosa wheat', 'Rosa wheat', 'Canadian wheat', 'Canadian wheat', 'Canadian wheat', 'Canadian wheat', 'Canadian wheat', 'Canadian wheat', 'Canadian wheat', 'Canadian wheat', 'Canadian wheat', 'Canadian wheat', 'Canadian wheat', 'Canadian wheat', 'Canadian wheat', 'Canadian wheat']\n",
    "# Perform the necessary imports\n",
    "from scipy.cluster.hierarchy import linkage, dendrogram\n",
    "import matplotlib.pyplot as plt\n",
    "\n",
    "# Calculate the linkage: mergings\n",
    "grain_mergings = linkage(samples, method='complete')\n",
    "\n",
    "# Plot the dendrogram, using varieties as labels\n",
    "dendrogram(grain_mergings,\n",
    "           labels=varieties,\n",
    "           leaf_rotation=90,\n",
    "           leaf_font_size=6,\n",
    ")\n",
    "plt.show()\n"
   ]
  },
  {
   "cell_type": "markdown",
   "id": "bc52dbf0",
   "metadata": {},
   "source": [
    "# Hierarchies of stocks\n",
    "In chapter 1, you used k-means clustering to cluster companies according to their stock price movements. Now, you'll perform hierarchical clustering of the companies. You are given a NumPy array of price movements movements, where the rows correspond to companies, and a list of the company names companies. SciPy hierarchical clustering doesn't fit into a sklearn pipeline, so you'll need to use the normalize() function from sklearn.preprocessing instead of Normalizer.\n",
    "\n",
    "linkage and dendrogram have already been imported from scipy.cluster.hierarchy, and PyPlot has been imported as plt.\n",
    "\n",
    "Instructions\n",
    "0 XP\n",
    "Instructions\n",
    "0 XP\n",
    "- Import normalize from sklearn.preprocessing.\n",
    "- Rescale the price movements for each stock by using the normalize() function on movements.\n",
    "- Apply the linkage() function to normalized_movements, using 'complete' linkage, to calculate the hierarchical clustering. Assign the result to mergings.\n",
    "- Plot a dendrogram of the hierarchical clustering, using the list companies of company names as the labels. In addition, specify the leaf_rotation=90, and leaf_font_size=6 keyword arguments as you did in the previous exercise.\n",
    "\n",
    "Hint\n",
    "- To import x from y, use the command from y import x.\n",
    "- To rescale the price movements, use normalize(movements).\n",
    "- Pass in normalized_movements and method='complete' as arguments to linkage() to perform the hierarchical clustering.\n",
    "- To plot the dendrogram, you need to specify the following arguments inside dendrogram(): mergings, labels=companies, leaf_rotation=90, and leaf_font_size=6."
   ]
  },
  {
   "cell_type": "code",
   "execution_count": 27,
   "id": "2c36d192",
   "metadata": {},
   "outputs": [],
   "source": [
    "price_movements = pd.read_csv('company-stock-movements-2010-2015-incl.csv')\n",
    "movements = price_movements.iloc[:,1:]\n",
    "companies = price_movements.iloc[:,0]\n",
    "companies = list(companies)"
   ]
  },
  {
   "cell_type": "code",
   "execution_count": 28,
   "id": "f5586297",
   "metadata": {},
   "outputs": [
    {
     "data": {
      "image/png": "[encoded data removed]",
      "text/plain": [
       "<Figure size 432x288 with 1 Axes>"
      ]
     },
     "metadata": {
      "needs_background": "light"
     },
     "output_type": "display_data"
    }
   ],
   "source": [
    "# Import normalize\n",
    "from sklearn.preprocessing import normalize\n",
    "\n",
    "# Normalize the movements: normalized_movements\n",
    "normalized_movements = normalize(movements)\n",
    "\n",
    "# Calculate the linkage: mergings\n",
    "mergings = linkage(normalized_movements,method='complete')\n",
    "\n",
    "# Plot the dendrogram\n",
    "dendrogram(mergings,\n",
    "    labels=companies,\n",
    "    leaf_rotation=90,\n",
    "    leaf_font_size=6)\n",
    "plt.show()\n"
   ]
  },
  {
   "cell_type": "markdown",
   "id": "7e90a0f3",
   "metadata": {},
   "source": [
    "# 1. Cluster labels in hierarchical clustering\n",
    "In the previous video, we employed hierarchical clustering\n",
    "\n",
    "2. Cluster labels in hierarchical clustering\n",
    "to create a great visualization of the voting behavior at the Eurovision. But hierarchical clustering is not only a visualization tool. In this video, you'll learn how to extract the clusters from intermediate stages of a hierarchical clustering. The cluster labels for these intermediate clusterings can then be used in further computations, such as cross tabulations, just like the cluster labels from k-means.\n",
    "\n",
    "3. Intermediate clusterings & height on dendrogram\n",
    "An intermediate stage in the hierarchical clustering is specified by choosing a height on the dendrogram. For example, choosing a height of 15 defines a clustering in which Bulgaria, Cyprus and Greece are in one cluster, Russia and Moldova are in another, and Armenia is in a cluster on its own. But what is the meaning of the height?\n",
    "\n",
    "4. Dendrograms show cluster distances\n",
    "The y-axis of the dendrogram encodes the distance between merging clusters. For example, the distance between the cluster containing Cyprus and the cluster containing Greece was approximately 6 when they were merged into a single cluster.\n",
    "\n",
    "5. Dendrograms show cluster distances\n",
    "When this new cluster was merged with the cluster containing Bulgaria, the distance between them was 12.\n",
    "\n",
    "6. Intermediate clusterings & height on dendrogram\n",
    "So the height that specifies an intermediate clustering corresponds to a distance. This specifies that the hierarchical clustering should stop merging clusters when all clusters are at least this far apart.\n",
    "\n",
    "7. Distance between clusters\n",
    "The distance between two clusters is measured using a \"linkage method\". In our example, we used \"complete\" linkage, where the distance between two clusters is the maximum of the distances between their samples. This was specified via the \"method\" parameter. There are many other linkage methods, and you'll see in the exercises that different linkage methods give different hierarchical clusterings!\n",
    "\n",
    "8. Extracting cluster labels\n",
    "The cluster labels for any intermediate stage of the hierarchical clustering can be extracted using the fcluster function. Let's try it out, specifying the height of 15.\n",
    "\n",
    "9. Extracting cluster labels using fcluster\n",
    "After performing the hierarchical clustering of the Eurovision data, import the fcluster function. Then pass the result of the linkage function to the fcluster function, specifying the height as the second argument. This returns a numpy array containing the cluster labels for all the countries.\n",
    "\n",
    "10. Aligning cluster labels with country names\n",
    "To inspect cluster labels, let's use a DataFrame to align the labels with the country names. Firstly, import pandas, then create the data frame, and then sort by cluster label, printing the result. As expected, the cluster labels group Bulgaria, Greece and Cyprus in the same cluster. But do note that the scipy cluster labels start at 1, not at 0 like they do in scikit-learn.\n",
    "\n",
    "11. Let's practice!\n",
    "Now that you've learned how to extract cluster labels from a hierarchical clustering, let's put your new skills into practice"
   ]
  },
  {
   "cell_type": "markdown",
   "id": "6a863a8d",
   "metadata": {},
   "source": [
    "# Different linkage, different hierarchical clustering!\n",
    "In the video, you saw a hierarchical clustering of the voting countries at the Eurovision song contest using 'complete' linkage. Now, perform a hierarchical clustering of the voting countries with 'single' linkage, and compare the resulting dendrogram with the one in the video. Different linkage, different hierarchical clustering!\n",
    "\n",
    "You are given an array samples. Each row corresponds to a voting country, and each column corresponds to a performance that was voted for. The list country_names gives the name of each voting country. This dataset was obtained from Eurovision.\n",
    "\n",
    "Instructions\n",
    "0 XP\n",
    "- Import linkage and dendrogram from scipy.cluster.hierarchy.\n",
    "- Perform hierarchical clustering on samples using the linkage() function with the method='single' keyword argument. Assign the result to mergings.\n",
    "- Plot a dendrogram of the hierarchical clustering, using the list country_names as the labels. In addition, specify the leaf_rotation=90, and leaf_font_size=6 keyword arguments as you have done earlier."
   ]
  },
  {
   "cell_type": "code",
   "execution_count": 29,
   "id": "a10a2dc2",
   "metadata": {},
   "outputs": [
    {
     "data": {
      "image/png": "[encoded data removed]",
      "text/plain": [
       "<Figure size 432x288 with 1 Axes>"
      ]
     },
     "metadata": {
      "needs_background": "light"
     },
     "output_type": "display_data"
    }
   ],
   "source": [
    "# Perform the necessary imports\n",
    "import matplotlib.pyplot as plt\n",
    "from scipy.cluster.hierarchy import linkage, dendrogram\n",
    "\n",
    "# Calculate the linkage: mergings\n",
    "mergings = linkage(normalized_movements, method='single')\n",
    "\n",
    "# Plot the dendrogram\n",
    "dendrogram(mergings,\n",
    "           labels=companies,\n",
    "           leaf_rotation=90,\n",
    "           leaf_font_size=6,\n",
    ")\n",
    "plt.show()\n"
   ]
  },
  {
   "cell_type": "markdown",
   "id": "4324d31f",
   "metadata": {},
   "source": [
    "# Extracting the cluster labels\n",
    "In the previous exercise, you saw that the intermediate clustering of the grain samples at height 6 has 3 clusters. Now, use the fcluster() function to extract the cluster labels for this intermediate clustering, and compare the labels with the grain varieties using a cross-tabulation.\n",
    "\n",
    "The hierarchical clustering has already been performed and mergings is the result of the linkage() function. The list varieties gives the variety of each grain sample.\n",
    "\n",
    "Instructions\n",
    "70 XP\n",
    "- Import:\n",
    "- pandas as pd.\n",
    "- fcluster from scipy.cluster.hierarchy.\n",
    "- Perform a flat hierarchical clustering by using the fcluster() function on mergings. Specify a maximum height of 6 and the keyword argument criterion='distance'.\n",
    "- Create a DataFrame df with two columns named 'labels' and 'varieties', using labels and varieties, respectively, for the column values. This has been done for you.\n",
    "- Create a cross-tabulation ct between df['labels'] and df['varieties'] to count the number of times each grain variety coincides with each cluster label.\n",
    "\n",
    "\n",
    "\n",
    "\n",
    "Show Answer (-70 XP)\n",
    "Hint\n",
    "- To import x from y, use the command from y import x, and to import x as the alias y, use the command import x as y.\n",
    "- Use fcluster() with the arguments mergings, 6, and criterion='distance' to perform the flat hierarchical clustering.\n",
    "- To create the cross-tabulation, use pd.crosstab() with df['labels'] and df['varieties'] as arguments."
   ]
  },
  {
   "cell_type": "code",
   "execution_count": 30,
   "id": "b1ed995f",
   "metadata": {},
   "outputs": [
    {
     "name": "stdout",
     "output_type": "stream",
     "text": [
      "42\n"
     ]
    },
    {
     "data": {
      "text/plain": [
       "42"
      ]
     },
     "execution_count": 30,
     "metadata": {},
     "output_type": "execute_result"
    }
   ],
   "source": [
    "samples = np.array([[14.88  , 14.57  ,  0.8811,  5.554 ,  3.333 ,  1.018 ,  4.956 ],       [14.69  , 14.49  ,  0.8799,  5.563 ,  3.259 ,  3.586 ,  5.219 ],      [14.03  , 14.16  ,  0.8796,  5.438 ,  3.201 ,  1.717 ,  5.001 ],       [13.99  , 13.83  ,  0.9183,  5.119 ,  3.383 ,  5.234 ,  4.781 ],       [14.11  , 14.26  ,  0.8722,  5.52  ,  3.168 ,  2.688 ,  5.219 ],       [13.02  , 13.76  ,  0.8641,  5.395 ,  3.026 ,  3.373 ,  4.825 ],       [15.49  , 14.94  ,  0.8724,  5.757 ,  3.371 ,  3.412 ,  5.228 ],       [16.2   , 15.27  ,  0.8734,  5.826 ,  3.464 ,  2.823 ,  5.527 ],       [13.5   , 13.85  ,  0.8852,  5.351 ,  3.158 ,  2.249 ,  5.176 ],       [15.36  , 14.76  ,  0.8861,  5.701 ,  3.393 ,  1.367 ,  5.132 ],       [15.78  , 14.91  ,  0.8923,  5.674 ,  3.434 ,  5.593 ,  5.136 ],       [14.46  , 14.35  ,  0.8818,  5.388 ,  3.377 ,  2.802 ,  5.044 ],       [11.23  , 12.63  ,  0.884 ,  4.902 ,  2.879 ,  2.269 ,  4.703 ],       [14.34  , 14.37  ,  0.8726,  5.63  ,  3.19  ,  1.313 ,  5.15  ],       [16.84  , 15.67  ,  0.8623,  5.998 ,  3.484 ,  4.675 ,  5.877 ],       [17.32  , 15.91  ,  0.8599,  6.064 ,  3.403 ,  3.824 ,  5.922 ],       [18.72  , 16.19  ,  0.8977,  6.006 ,  3.857 ,  5.324 ,  5.879 ],       [18.88  , 16.26  ,  0.8969,  6.084 ,  3.764 ,  1.649 ,  6.109 ],       [18.76  , 16.2   ,  0.8984,  6.172 ,  3.796 ,  3.12  ,  6.053 ],       [19.31  , 16.59  ,  0.8815,  6.341 ,  3.81  ,  3.477 ,  6.238 ],       [17.99  , 15.86  ,  0.8992,  5.89  ,  3.694 ,  2.068 ,  5.837 ],       [18.85  , 16.17  ,  0.9056,  6.152 ,  3.806 ,  2.843 ,  6.2   ],       [19.38  , 16.72  ,  0.8716,  6.303 ,  3.791 ,  3.678 ,  5.965 ],       [18.96  , 16.2   ,  0.9077,  6.051 ,  3.897 ,  4.334 ,  5.75  ],       [18.14  , 16.12  ,  0.8772,  6.059 ,  3.563 ,  3.619 ,  6.011 ],       [18.65  , 16.41  ,  0.8698,  6.285 ,  3.594 ,  4.391 ,  6.102 ],       [18.94  , 16.32  ,  0.8942,  6.144 ,  3.825 ,  2.908 ,  5.949 ],       [17.36  , 15.76  ,  0.8785,  6.145 ,  3.574 ,  3.526 ,  5.971 ],       [13.32  , 13.94  ,  0.8613,  5.541 ,  3.073 ,  7.035 ,  5.44  ],       [11.43  , 13.13  ,  0.8335,  5.176 ,  2.719 ,  2.221 ,  5.132 ],       [12.01  , 13.52  ,  0.8249,  5.405 ,  2.776 ,  6.992 ,  5.27  ],       [11.34  , 12.87  ,  0.8596,  5.053 ,  2.849 ,  3.347 ,  5.003 ],       [12.02  , 13.33  ,  0.8503,  5.35  ,  2.81  ,  4.271 ,  5.308 ],       [12.44  , 13.59  ,  0.8462,  5.319 ,  2.897 ,  4.924 ,  5.27  ],       [11.55  , 13.1   ,  0.8455,  5.167 ,  2.845 ,  6.715 ,  4.956 ],       [11.26  , 13.01  ,  0.8355,  5.186 ,  2.71  ,  5.335 ,  5.092 ],       [12.46  , 13.41  ,  0.8706,  5.236 ,  3.017 ,  4.987 ,  5.147 ],       [11.81  , 13.45  ,  0.8198,  5.413 ,  2.716 ,  4.898 ,  5.352 ],       [11.27  , 12.86  ,  0.8563,  5.091 ,  2.804 ,  3.985 ,  5.001 ],       [12.79  , 13.53  ,  0.8786,  5.224 ,  3.054 ,  5.483 ,  4.958 ],       [12.67  , 13.32  ,  0.8977,  4.984 ,  3.135 ,  2.3   ,  4.745 ],       [11.23  , 12.88  ,  0.8511,  5.14  ,  2.795 ,  4.325 ,  5.003 ]])\n",
    "varieties = ['Kama wheat', 'Kama wheat', 'Kama wheat', 'Kama wheat', 'Kama wheat', 'Kama wheat', 'Kama wheat', 'Kama wheat', 'Kama wheat', 'Kama wheat', 'Kama wheat', 'Kama wheat', 'Kama wheat', 'Kama wheat', 'Rosa wheat', 'Rosa wheat', 'Rosa wheat', 'Rosa wheat', 'Rosa wheat', 'Rosa wheat', 'Rosa wheat', 'Rosa wheat', 'Rosa wheat', 'Rosa wheat', 'Rosa wheat', 'Rosa wheat', 'Rosa wheat', 'Rosa wheat', 'Canadian wheat', 'Canadian wheat', 'Canadian wheat', 'Canadian wheat', 'Canadian wheat', 'Canadian wheat', 'Canadian wheat', 'Canadian wheat', 'Canadian wheat', 'Canadian wheat', 'Canadian wheat', 'Canadian wheat', 'Canadian wheat', 'Canadian wheat']\n",
    "print(len(samples));len(varieties)"
   ]
  },
  {
   "cell_type": "code",
   "execution_count": 31,
   "id": "187fb861",
   "metadata": {},
   "outputs": [
    {
     "name": "stdout",
     "output_type": "stream",
     "text": [
      "varieties  Canadian wheat  Kama wheat  Rosa wheat\n",
      "labels                                           \n",
      "1                      14           3           0\n",
      "2                       0           0          14\n",
      "3                       0          11           0\n"
     ]
    }
   ],
   "source": [
    "# Perform the necessary imports\n",
    "import pandas as pd\n",
    "from scipy.cluster.hierarchy import fcluster\n",
    "\n",
    "# Use fcluster to extract labels: labels\n",
    "labels = fcluster(grain_mergings,6,criterion='distance')\n",
    "\n",
    "# Create a DataFrame with labels and varieties as columns: df\n",
    "df = pd.DataFrame({'labels': labels, 'varieties': varieties})\n",
    "\n",
    "# Create crosstab: ct\n",
    "ct = pd.crosstab(df.labels,df.varieties)\n",
    "\n",
    "# Display ct\n",
    "print(ct)"
   ]
  },
  {
   "cell_type": "code",
   "execution_count": null,
   "id": "0da4ff55",
   "metadata": {},
   "outputs": [],
   "source": []
  },
  {
   "cell_type": "markdown",
   "id": "89d91938",
   "metadata": {},
   "source": [
    "# Got It!\n",
    "1. t-SNE for 2-dimensional maps\n",
    "In this video, you'll learn about an unsupervised learning method for visualization called \"t-SNE\".\n",
    "\n",
    "2. t-SNE for 2-dimensional maps\n",
    "t-SNE stands for \"t-distributed stochastic neighbor embedding\". It has a complicated name, but it serves a very simple purpose. It maps samples from their high-dimensional space into a 2- or 3-dimensional space so they can visualized. While some distortion is inevitable, t-SNE does a great job of approximately representing the distances between the samples. For this reason, t-SNE is an invaluable visual aid for understanding a dataset.\n",
    "\n",
    "3. t-SNE on the iris dataset\n",
    "To see what sorts of insights are possible with t-SNE, let's look at how it performs on the iris dataset. The iris samples are in a four dimensional space, where each dimension corresponds to one of the four iris measurements, such as petal length and petal width. Now t-SNE was given only the measurements of the iris samples. In particular it wasn't given any information about the three species of iris. But if we color the species differently on the scatter plot, we see that t-SNE has kept the species separate.\n",
    "\n",
    "4. Interpreting t-SNE scatter plots\n",
    "This scatter plot gives us a new insight, however. We learn that there are two iris species, versicolor and virginica, whose samples are close together in space. So it could happen that the iris dataset appears to have two clusters, instead of three. This is compatible with our previous examples using k-means, where we saw that a clustering with 2 clusters also had relatively low inertia, meaning tight clusters.\n",
    "\n",
    "5. t-SNE in sklearn\n",
    "t-SNE is available in scikit-learn, but it works a little differently to the fit/transform components you've already met. Let's see it in action on the iris dataset. The samples are in a 2-dimensional numpy array, and there is a list giving the species of each sample.\n",
    "\n",
    "6. t-SNE in sklearn\n",
    "To start with, import TSNE and create a TSNE object. Apply the fit_transform method to the samples, and then make a scatter plot of the result, coloring the points using the species. There are two aspects that deserve special attention: the fit_transform method, and the learning rate.\n",
    "\n",
    "7. t-SNE has only fit_transform()\n",
    "t-SNE only has a fit_transform method. As you might expect, the fit_transform method simultaneously fits the model and transforms the data. However, t-SNE does not have separate fit and transform methods. This means that you can't extend a t-SNE map to include new samples. Instead, you have to start over each time.\n",
    "\n",
    "8. t-SNE learning rate\n",
    "The second thing to notice is the learning rate. The learning rate makes the use of t-SNE more complicated than some other techniques. You may need to try different learning rates for different datasets. It is clear, however, when you've made a bad choice, because all the samples appear bunched together in the scatter plot. Normally it's enough to try a few values between 50 and 200.\n",
    "\n",
    "9. Different every time\n",
    "A final thing to be aware of is that the axes of a t-SNE plot do not have any interpretable meaning. In fact, they are different every time t-SNE is applied, even on the same data. For example, here are three t-SNE plots of the scaled Piedmont wine samples, generated using the same code. Note that while the orientation of the plot is different each time, the three wine varieties, represented here using colors, have the same position relative to one another.\n",
    "\n",
    "10. Let's practice!\n",
    "You are now equipped to use t-SNE to gain insight into some real-world datasets. Let's get some practice!"
   ]
  },
  {
   "cell_type": "markdown",
   "id": "de7b88ab",
   "metadata": {},
   "source": [
    "# t-SNE visualization of grain dataset\n",
    "In the video, you saw t-SNE applied to the iris dataset. In this exercise, you'll apply t-SNE to the grain samples data and inspect the resulting t-SNE features using a scatter plot. You are given an array samples of grain samples and a list variety_numbers giving the variety number of each grain sample.\n",
    "\n",
    "\n",
    "\n",
    "- Import TSNE from sklearn.manifold.\n",
    "- Create a TSNE instance called model with learning_rate=200.\n",
    "- Apply the .fit_transform() method of model to samples. Assign the result to tsne_features.\n",
    "- Select the column 0 of tsne_features. Assign the result to xs.\n",
    "- Select the column 1 of tsne_features. Assign the result to ys.\n",
    "- Make a scatter plot of the t-SNE features xs and ys. To color the points by the grain variety, specify the additional keyword argument c=variety_numbers.\n",
    "\n",
    "\n",
    "- To import x from y, use the command from y import x.\n",
    "- Use TSNE() with the keyword argument learning_rate=200 to create the desired TSNE instance.\n",
    "- Pass in samples as an argument to model.fit_transform() to fit the model to the data and then transform it.\n",
    "- You can select column 0 of tsne_features using tsne_features[:,0], and column 1 using tsne_features[:,1].\n",
    "- To create the scatter plot, use plt.scatter() with xs, ys, and c=variety_numbers as arguments."
   ]
  },
  {
   "cell_type": "code",
   "execution_count": 32,
   "id": "e33a5135",
   "metadata": {},
   "outputs": [],
   "source": [
    "seeds = pd.read_csv('seeds.csv',header=None)\n",
    "samples = np.array(seeds.iloc[:,:-1])\n",
    "names = np.array(['Kama wheat','Rosa wheat','Candian wheat'])\n",
    "varieties =np.array(seeds.iloc[:,-1]).tolist()\n",
    "varieties = [names[k-1] for k in varieties]\n",
    "variety_numbers = seeds[7]"
   ]
  },
  {
   "cell_type": "code",
   "execution_count": 33,
   "id": "e9cf18a1",
   "metadata": {},
   "outputs": [
    {
     "name": "stderr",
     "output_type": "stream",
     "text": [
      "C:\\Users\\derek\\anaconda3\\lib\\site-packages\\sklearn\\manifold\\_t_sne.py:780: FutureWarning: The default initialization in TSNE will change from 'random' to 'pca' in 1.2.\n",
      "  warnings.warn(\n"
     ]
    },
    {
     "data": {
      "image/png": "[encoded data removed]",
      "text/plain": [
       "<Figure size 432x288 with 1 Axes>"
      ]
     },
     "metadata": {
      "needs_background": "light"
     },
     "output_type": "display_data"
    }
   ],
   "source": [
    "# Import TSNE\n",
    "from sklearn.manifold import TSNE\n",
    "\n",
    "# Create a TSNE instance: model\n",
    "model = TSNE(learning_rate=200)\n",
    "\n",
    "# Apply fit_transform to samples: tsne_features\n",
    "tsne_features = model.fit_transform(samples)\n",
    "\n",
    "# Select the 0th feature: xs\n",
    "xs = tsne_features[:,0]\n",
    "\n",
    "# Select the 1st feature: ys\n",
    "ys = tsne_features[:,1]\n",
    "\n",
    "# Scatter plot, coloring by variety_numbers\n",
    "plt.scatter(xs, ys, c=variety_numbers)\n",
    "plt.show()\n"
   ]
  },
  {
   "cell_type": "markdown",
   "id": "24886d5e",
   "metadata": {},
   "source": [
    "# A t-SNE map of the stock market\n",
    "t-SNE provides great visualizations when the individual samples can be labeled. In this exercise, you'll apply t-SNE to the company stock price data. A scatter plot of the resulting t-SNE features, labeled by the company names, gives you a map of the stock market! The stock price movements for each company are available as the array normalized_movements (these have already been normalized for you). The list companies gives the name of each company. PyPlot (plt) has been imported for you.\n",
    "\n",
    "Instructions\n",
    "100 XP\n",
    "- Import TSNE from sklearn.manifold.\n",
    "- Create a TSNE instance called model with learning_rate=50.\n",
    "- Apply the .fit_transform() method of model to normalized_movements. Assign the result to tsne_features.\n",
    "- Select column 0 and column 1 of tsne_features.\n",
    "- Make a scatter plot of the t-SNE features xs and ys. Specify the additional keyword argument alpha=0.5.\n",
    "- Code to label each point with its company name has been written for you using plt.annotate(), so just hit submit to see the visualization!"
   ]
  },
  {
   "cell_type": "code",
   "execution_count": 34,
   "id": "f3b281ca",
   "metadata": {},
   "outputs": [
    {
     "name": "stderr",
     "output_type": "stream",
     "text": [
      "C:\\Users\\derek\\anaconda3\\lib\\site-packages\\sklearn\\manifold\\_t_sne.py:780: FutureWarning: The default initialization in TSNE will change from 'random' to 'pca' in 1.2.\n",
      "  warnings.warn(\n"
     ]
    },
    {
     "data": {
      "image/png": "[encoded data removed]",
      "text/plain": [
       "<Figure size 432x288 with 1 Axes>"
      ]
     },
     "metadata": {
      "needs_background": "light"
     },
     "output_type": "display_data"
    }
   ],
   "source": [
    "# Import TSNE\n",
    "from sklearn.manifold import TSNE\n",
    "\n",
    "# Create a TSNE instance: model\n",
    "model = TSNE(learning_rate=50)\n",
    "\n",
    "# Apply fit_transform to normalized_movements: tsne_features\n",
    "tsne_features = model.fit_transform(normalized_movements)\n",
    "\n",
    "# Select the 0th feature: xs\n",
    "xs = tsne_features[:,0]\n",
    "\n",
    "# Select the 1th feature: ys\n",
    "ys = tsne_features[:,1]\n",
    "\n",
    "# Scatter plot\n",
    "plt.scatter(xs, ys, alpha=0.5)\n",
    "\n",
    "# Annotate the points\n",
    "for x, y, company in zip(xs, ys, companies):\n",
    "    plt.annotate(company, (x, y), fontsize=5, alpha=0.75)\n",
    "plt.show()\n"
   ]
  },
  {
   "cell_type": "markdown",
   "id": "42dadab2",
   "metadata": {},
   "source": [
    "# (Chapter 3) Decorrelating your data and dimension reduction"
   ]
  },
  {
   "cell_type": "markdown",
   "id": "f32b7cc5",
   "metadata": {},
   "source": [
    "# 1. Visualizing the PCA transformation\n",
    "In the next two chapters you'll learn techniques for dimension reduction.\n",
    "\n",
    "2. Dimension reduction\n",
    "Dimension reduction finds patterns in data, and uses these patterns to re-express it in a compressed form. This makes subsequent computation with the data much more efficient, and this can be a big deal in a world of big datasets. However, the most important function of dimension reduction is to reduce a dataset to its \"bare bones\", discarding noisy features that cause big problems for supervised learning tasks like regression and classification. In many real-world applications, it's dimension reduction that makes prediction possible.\n",
    "\n",
    "3. Principal Component Analysis\n",
    "In this chapter, you'll learn about the most fundamental of dimension reduction techniques. It's called \"Principal Component Analysis\", or \"PCA\" for short. PCA performs dimension reduction in two steps, and the first one, called \"de-correlation\", doesn't change the dimension of the data at all. It's this first step that we'll focus on in this video.\n",
    "\n",
    "4. PCA aligns data with axes\n",
    "In this first step, PCA rotates the samples so that they are aligned with the coordinate axes. In fact, it does more than this: PCA also shifts the samples so that they have mean zero. These scatter plots show the effect of PCA applied to two features of the wine dataset. Notice that no information is lost - this is true no matter how many features your dataset has. You'll practice visualizing this transformation in the exercises.\n",
    "\n",
    "5. PCA follows the fit/transform pattern\n",
    "scikit-learn has an implementation of PCA, and it has fit and transform methods just like StandardScaler. The fit method learns how to shift and how to rotate the samples, but doesn't actually change them. The transform method, on the other hand, applies the transformation that fit learned. In particular, the transform method can be applied to new, unseen samples.\n",
    "\n",
    "6. Using scikit-learn PCA\n",
    "Let's see PCA in action on the some features of the wine dataset. Firstly, import PCA. Now create a PCA object, and fit it to the samples. Then use the fit PCA object to transform the samples. This returns a new array of transformed samples.\n",
    "\n",
    "7. PCA features\n",
    "This new array has the same number of rows and columns as the original sample array. In particular, there is one row for each transformed sample. The columns of the new array correspond to \"PCA features\", just as the original features corresponded to columns of the original array.\n",
    "\n",
    "8. PCA features are not correlated\n",
    "It is often the case that the features of a dataset are correlated. This is the case with many of the features of the wine dataset, for instance. However, PCA, due to the rotation it performs, \"de-correlates\" the data, in the sense that the columns of the transformed array are not linearly correlated.\n",
    "\n",
    "9. Pearson correlation\n",
    "Linear correlation can be measured with the Pearson correlation. It takes values between -1 and 1, where larger values indicate a stronger correlation, and 0 indicates no linear correlation. Here are some examples of features with varying degrees of correlation.\n",
    "\n",
    "10. Principal components\n",
    "Finally, PCA is called \"principal component analysis\" because it learns the \"principal components\" of the data. These are the directions in which the samples vary the most, depicted here in red. It is the principal components that PCA aligns with the coordinate axes.\n",
    "\n",
    "11. Principal components\n",
    "After a PCA model has been fit, the principal components are available as the components attribute. This is numpy array with one row for each principal component.\n",
    "\n",
    "12. Let's practice!\n",
    "You've met several new ideas in this video. Let's put them into practice!"
   ]
  },
  {
   "cell_type": "markdown",
   "id": "b08e03a4",
   "metadata": {},
   "source": [
    "# Correlated data in nature\n",
    "You are given an array grains giving the width and length of samples of grain. You suspect that width and length will be correlated. To confirm this, make a scatter plot of width vs length and measure their Pearson correlation.\n",
    "\n",
    "Instructions\n",
    "100 XP\n",
    "- Import:\n",
    "- matplotlib.pyplot as plt.\n",
    "- pearsonr from scipy.stats.\n",
    "- Assign column 0 of grains to width and column 1 of grains to length.\n",
    "- Make a scatter plot with width on the x-axis and length on the y-axis.\n",
    "- Use the pearsonr() function to calculate the Pearson correlation of width and length."
   ]
  },
  {
   "cell_type": "code",
   "execution_count": 35,
   "id": "3ce3d24f",
   "metadata": {},
   "outputs": [
    {
     "data": {
      "image/png": "[encoded data removed]",
      "text/plain": [
       "<Figure size 432x288 with 1 Axes>"
      ]
     },
     "metadata": {
      "needs_background": "light"
     },
     "output_type": "display_data"
    },
    {
     "name": "stdout",
     "output_type": "stream",
     "text": [
      "0.8604149377143469\n"
     ]
    }
   ],
   "source": [
    "seeds\n",
    "grains = np.array(seeds[[4,3]])\n",
    "# Perform the necessary imports\n",
    "import matplotlib.pyplot as plt\n",
    "from scipy.stats import pearsonr\n",
    "\n",
    "# Assign the 0th column of grains: width\n",
    "width = grains[:,0]\n",
    "\n",
    "# Assign the 1st column of grains: length\n",
    "length = grains[:,1]\n",
    "\n",
    "# Scatter plot width vs length\n",
    "plt.scatter(width, length)\n",
    "plt.axis('equal')\n",
    "plt.show()\n",
    "\n",
    "# Calculate the Pearson correlation\n",
    "correlation, pvalue = pearsonr(width,length)\n",
    "\n",
    "# Display the correlation\n",
    "print(correlation)\n"
   ]
  },
  {
   "cell_type": "markdown",
   "id": "6f320028",
   "metadata": {},
   "source": [
    "# Decorrelating the grain measurements with PCA\n",
    "You observed in the previous exercise that the width and length measurements of the grain are correlated. Now, you'll use PCA to decorrelate these measurements, then plot the decorrelated points and measure their Pearson correlation.\n",
    "\n",
    "Instructions\n",
    "100 XP\n",
    "- Import PCA from sklearn.decomposition.\n",
    "- Create an instance of PCA called model.\n",
    "- Use the .fit_transform() method of model to apply the PCA transformation to grains. Assign the result to pca_features.\n",
    "- The subsequent code to extract, plot, and compute the Pearson correlation of the first two columns pca_features has been written for you, so hit submit to see the result!"
   ]
  },
  {
   "cell_type": "code",
   "execution_count": 36,
   "id": "a117bb85",
   "metadata": {},
   "outputs": [
    {
     "data": {
      "image/png": "[encoded data removed]",
      "text/plain": [
       "<Figure size 432x288 with 1 Axes>"
      ]
     },
     "metadata": {
      "needs_background": "light"
     },
     "output_type": "display_data"
    },
    {
     "name": "stdout",
     "output_type": "stream",
     "text": [
      "-4.163336342344337e-17\n"
     ]
    }
   ],
   "source": [
    "# Import PCA\n",
    "from sklearn.decomposition import PCA\n",
    "\n",
    "# Create PCA instance: model\n",
    "model = PCA()\n",
    "\n",
    "# Apply the fit_transform method of model to grains: pca_features\n",
    "pca_features = model.fit_transform(grains)\n",
    "\n",
    "# Assign 0th column of pca_features: xs\n",
    "xs = pca_features[:,0]\n",
    "\n",
    "# Assign 1st column of pca_features: ys\n",
    "ys = pca_features[:,1]\n",
    "\n",
    "# Scatter plot xs vs ys\n",
    "plt.scatter(xs, ys)\n",
    "plt.axis('equal')\n",
    "plt.show()\n",
    "\n",
    "# Calculate the Pearson correlation of xs and ys\n",
    "correlation, pvalue = pearsonr(xs, ys)\n",
    "\n",
    "# Display the correlation\n",
    "print(correlation)"
   ]
  },
  {
   "cell_type": "markdown",
   "id": "e9f9ae96",
   "metadata": {},
   "source": [
    "# 1. Intrinsic dimension\n",
    "2. Intrinsic dimension of a flight path\n",
    "Consider this dataset with 2 features: latitude and longitude. These two features might track the flight of an airplane, for example. This dataset is 2-dimensional, yet it turns out that it can be closely approximated using only one feature: the displacement along the flight path. This dataset is intrinsically one-dimensional.\n",
    "\n",
    "3. Intrinsic dimension\n",
    "The intrinsic dimension of a dataset is the number of features required to approximate it. The intrinsic dimension informs dimension reduction, because it tells us how much a dataset can be compressed. In this video, you'll gain a solid understanding of the intrinsic dimension, and be able to use PCA to identify it in real-world datasets that have thousands of features.\n",
    "\n",
    "4. Versicolor dataset\n",
    "To better illustrate the intrinsic dimension, let's consider an example dataset containing only some of the samples from the iris dataset. Specifically, let's take three measurements from the iris versicolor samples: sepal length, sepal width, and petal width. So each sample is represented as a point in 3-dimensional space.\n",
    "\n",
    "5. Versicolor dataset has intrinsic dimension 2\n",
    "However, if we make a 3d scatter plot of the samples, we see that they all lie very close to a flat, 2-dimensional sheet. This means that the data can be approximated by using only two coordinates, without losing much information. So this dataset has intrinsic dimension 2.\n",
    "\n",
    "6. PCA identifies intrinsic dimension\n",
    "But scatter plots are only possible if there are 3 features or less. So how can the intrinsic dimension be identified, even if there are many features? This is where PCA is really helpful. The intrinsic dimension can be identified by counting the PCA features that have high variance. To see how, let's see what happens when PCA is applied to the dataset of versicolor samples.\n",
    "\n",
    "7. PCA of the versicolor samples\n",
    "PCA rotates and shifts the samples to align them with the coordinate axes. This expresses the samples using three PCA features.\n",
    "\n",
    "8. PCA features are ordered by variance descending\n",
    "The PCA features are in a special order. Here is a bar graph showing the variance of each of the PCA features. As you can see, each PCA feature has less variance than the last, and in this case the last PCA feature has very low variance. This agrees with the scatter plot of the PCA features, where the samples don't vary much in the vertical direction. In the other two directions, however, the variance is apparent.\n",
    "\n",
    "9. Variance and intrinsic dimension\n",
    "The intrinsic dimension is the number of PCA features that have significant variance. In our example, only the first two PCA features have significant variance. So this dataset has intrinsic dimension 2, which agrees with what we observed when inspecting the scatter plot.\n",
    "\n",
    "10. Plotting the variances of PCA features\n",
    "Let's see how to plot the variances of the PCA features in practice. Firstly, make the necessary imports. Then create a PCA model, and fit it to the samples. Now create a range enumerating the PCA features,\n",
    "\n",
    "11. Plotting the variances of PCA features\n",
    "and make a bar plot of the variances; the variances are available as the explained_variance attribute of the PCA model.\n",
    "\n",
    "12. Intrinsic dimension can be ambiguous\n",
    "The intrinsic dimension is a useful idea that helps to guide dimension reduction. However, it is not always unambiguous. Here is a graph of the variances of the PCA features for the wine dataset. We could argue for an intrinsic dimension of 2, of 3, or even more, depending upon the threshold you chose.\n",
    "\n",
    "13. Let's practice!\n",
    "In the next video, you'll learn to use the intrinsic dimension for dimension reduction. But for now, let's get some practice discovering the intrinsic dimension of some real-world datasets!"
   ]
  },
  {
   "cell_type": "markdown",
   "id": "df33b9f8",
   "metadata": {},
   "source": [
    "# The first principal component\n",
    "The first principal component of the data is the direction in which the data varies the most. In this exercise, your job is to use PCA to find the first principal component of the length and width measurements of the grain samples, and represent it as an arrow on the scatter plot.\n",
    "\n",
    "The array grains gives the length and width of the grain samples. PyPlot (plt) and PCA have already been imported for you.\n",
    "\n",
    "Instructions\n",
    "100 XP\n",
    "- Make a scatter plot of the grain measurements. This has been done for you.\n",
    "- Create a PCA instance called model.\n",
    "- Fit the model to the grains data.\n",
    "- Extract the coordinates of the mean of the data using the .mean_ attribute of model.\n",
    "- Get the first principal component of model using the .components_[0,:] attribute.\n",
    "- Plot the first principal component as an arrow on the scatter plot, using the plt.arrow() function. You have to specify the first two arguments - mean[0] and mean[1]."
   ]
  },
  {
   "cell_type": "code",
   "execution_count": 37,
   "id": "6c44e619",
   "metadata": {},
   "outputs": [
    {
     "data": {
      "image/png": "[encoded data removed]",
      "text/plain": [
       "<Figure size 432x288 with 1 Axes>"
      ]
     },
     "metadata": {
      "needs_background": "light"
     },
     "output_type": "display_data"
    }
   ],
   "source": [
    "# Make a scatter plot of the untransformed points\n",
    "plt.scatter(grains[:,0], grains[:,1])\n",
    "\n",
    "# Create a PCA instance: model\n",
    "model = PCA()\n",
    "\n",
    "# Fit model to points\n",
    "model.fit(grains)\n",
    "\n",
    "# Get the mean of the grain samples: mean\n",
    "mean = model.mean_\n",
    "\n",
    "# Get the first principal component: first_pc\n",
    "first_pc = model.components_[0,:]\n",
    "\n",
    "# Plot first_pc as an arrow, starting at mean\n",
    "plt.arrow(mean[0], mean[1], first_pc[0], first_pc[1], color='red', width=0.01)\n",
    "\n",
    "# Keep axes on same scale\n",
    "plt.axis('equal')\n",
    "plt.show()"
   ]
  },
  {
   "cell_type": "markdown",
   "id": "2d47125b",
   "metadata": {},
   "source": [
    "# Variance of the PCA features\n",
    "The fish dataset is 6-dimensional. But what is its intrinsic dimension? Make a plot of the variances of the PCA features to find out. As before, samples is a 2D array, where each row represents a fish. You'll need to standardize the features first.\n",
    "\n",
    "Instructions\n",
    "100 XP\n",
    "- Create an instance of StandardScaler called scaler.\n",
    "- Create a PCA instance called pca.\n",
    "- Use the make_pipeline() function to create a pipeline chaining scaler and pca.\n",
    "- Use the .fit() method of pipeline to fit it to the fish samples samples.\n",
    "- Extract the number of components used using the .n_components_ attribute of pca. Place this inside a range() function and store the result as features.\n",
    "- Use the plt.bar() function to plot the explained variances, with features on the x-axis and pca.explained_variance_ on the y-axis."
   ]
  },
  {
   "cell_type": "code",
   "execution_count": 38,
   "id": "6e98be4f",
   "metadata": {},
   "outputs": [
    {
     "data": {
      "text/plain": [
       "array([[-0.50109735, -0.36878558, -0.34323399, -0.23781518,  1.0032125 ,\n",
       "         0.25373964],\n",
       "       [-0.37434344, -0.29750241, -0.26893461, -0.14634781,  1.15869615,\n",
       "         0.44376493],\n",
       "       [-0.24230812, -0.30641281, -0.25242364, -0.15397009,  1.13926069,\n",
       "         1.0613471 ],\n",
       "       [-0.18157187, -0.09256329, -0.04603648,  0.02896467,  0.96434159,\n",
       "         0.20623332],\n",
       "       [-0.00464454, -0.0747425 , -0.04603648,  0.06707608,  0.8282934 ,\n",
       "         1.0613471 ],\n",
       "       [ 0.04816959, -0.04801131,  0.01175193,  0.12043205,  1.08095432,\n",
       "         0.63379021],\n",
       "       [ 0.18020491, -0.04801131,  0.01175193,  0.10518748,  1.26559115,\n",
       "         1.15635974],\n",
       "       [-0.11027279,  0.02327186,  0.03651839,  0.14329889,  0.78942248,\n",
       "         0.25373964],\n",
       "       [ 0.04816959,  0.02327186,  0.03651839,  0.15092117,  1.14897842,\n",
       "         0.44376493],\n",
       "       [ 0.18020491,  0.10346543,  0.09430679,  0.23476627,  1.09067205,\n",
       "         0.39625861],\n",
       "       [ 0.11418725,  0.09455503,  0.11907325,  0.23476627,  1.10038978,\n",
       "         0.58628389],\n",
       "       [ 0.18020491,  0.12128622,  0.11907325,  0.23476627,  1.12954296,\n",
       "         0.20623332],\n",
       "       [ 0.18020491,  0.1569278 ,  0.16035069,  0.25001083,  0.94490613,\n",
       "        -0.41134885],\n",
       "       [ 0.44427556,  0.18365899,  0.20162812,  0.31098909,  1.1781316 ,\n",
       "         0.49127125],\n",
       "       [ 0.44427556,  0.18365899,  0.20162812,  0.31098909,  1.30446206,\n",
       "         1.01384078],\n",
       "       [ 0.7083462 ,  0.27276296,  0.28418298,  0.39483418,  1.04208341,\n",
       "         0.44376493],\n",
       "       [ 0.7083462 ,  0.27276296,  0.28418298,  0.41007875,  1.04208341,\n",
       "         0.30124596],\n",
       "       [ 0.47068262,  0.31731494,  0.32546042,  0.41770103,  1.20728478,\n",
       "         0.20623332],\n",
       "       [ 0.57631088,  0.32622533,  0.32546042,  0.42532331,  0.90603522,\n",
       "         0.91882813],\n",
       "       [ 0.3782579 ,  0.35295652,  0.36673785,  0.48630156,  0.99349477,\n",
       "         0.58628389],\n",
       "       [ 0.66873561,  0.36186692,  0.36673785,  0.46343472,  1.23643797,\n",
       "         0.39625861],\n",
       "       [ 0.49708969,  0.37077732,  0.40801528,  0.50154612,  1.07123659,\n",
       "         0.20623332],\n",
       "       [ 0.65553208,  0.3975085 ,  0.44929271,  0.57014666,  0.97405931,\n",
       "         1.0613471 ],\n",
       "       [ 0.7083462 ,  0.4064189 ,  0.44929271,  0.56252438,  1.16841387,\n",
       "         0.44376493],\n",
       "       [ 0.77436387,  0.3975085 ,  0.44929271,  0.5930135 ,  1.15869615,\n",
       "         0.91882813],\n",
       "       [ 0.76116033,  0.4153293 ,  0.44929271,  0.57014666,  1.18784933,\n",
       "         1.01384078],\n",
       "       [ 0.74531609,  0.47770207,  0.53184758,  0.63874719,  1.13926069,\n",
       "         0.58628389],\n",
       "       [ 1.10445217,  0.48661247,  0.53184758,  0.64636947,  1.21700251,\n",
       "         0.96633446],\n",
       "       [ 1.50055814,  0.54898524,  0.61440245,  0.72259229,  1.5959939 ,\n",
       "         1.25137238],\n",
       "       [ 1.28930162,  0.68264119,  0.73823474,  0.83692651,  1.2461557 ,\n",
       "         0.68129653],\n",
       "       [ 1.38172635,  0.68264119,  0.73823474,  0.82930423,  1.26559115,\n",
       "         0.68129653],\n",
       "       [ 1.30250516,  0.78956594,  0.82078961,  0.92839389,  1.29474434,\n",
       "         0.96633446],\n",
       "       [ 1.43454048,  0.8964907 ,  0.94462191,  0.97412758,  1.21700251,\n",
       "         0.87132181],\n",
       "       [ 1.36852282,  0.94995308,  0.94462191,  1.01986127,  0.95462386,\n",
       "         0.39625861],\n",
       "       [-1.03452005, -1.2865564 , -1.27610397, -1.28969003, -0.24065667,\n",
       "         0.53877757],\n",
       "       [-0.95793956, -0.96578213, -0.93762902, -0.97717649, -0.19206803,\n",
       "         0.49127125],\n",
       "       [-0.93417321, -0.87667817, -0.8880961 , -0.90857596, -0.17263258,\n",
       "         0.39625861],\n",
       "       [-0.91040685, -0.8143054 , -0.80554124, -0.83235314, -0.26980986,\n",
       "         0.68129653],\n",
       "       [-0.82326354, -0.77866381, -0.78903027, -0.83235314, -0.0074312 ,\n",
       "         1.5364103 ],\n",
       "       [-1.14014831, -0.74302223, -0.74775283, -0.78661945,  0.03143971,\n",
       "         0.87132181],\n",
       "       [-0.8496706 , -0.73411183, -0.72298637, -0.76375261, -0.13376167,\n",
       "         0.87132181],\n",
       "       [-0.82326354, -0.70738064, -0.7064754 , -0.71801892, -0.22122122,\n",
       "         0.49127125],\n",
       "       [-0.74404234, -0.61827668, -0.62392054, -0.6417961 , -0.44472896,\n",
       "         1.10885342],\n",
       "       [-0.75724587, -0.60936628, -0.62392054, -0.67228523, -0.0754553 ,\n",
       "         0.82381549],\n",
       "       [-0.71763528, -0.60936628, -0.5826431 , -0.59606241, -0.02686666,\n",
       "         1.0613471 ],\n",
       "       [-0.77044941, -0.5648143 , -0.5826431 , -0.61892926, -0.18235031,\n",
       "         0.20623332],\n",
       "       [-0.71763528, -0.5559039 , -0.5826431 , -0.61892926, -0.24065667,\n",
       "         1.10885342],\n",
       "       [-0.69386892, -0.47571034, -0.4588108 , -0.45123907, -0.03658439,\n",
       "         0.58628389],\n",
       "       [-0.71499457, -0.47571034, -0.50834372, -0.48935047, -0.21150349,\n",
       "         0.34875228],\n",
       "       [-0.61200702, -0.46679994, -0.50008824, -0.48172819, -0.04630212,\n",
       "         1.20386606],\n",
       "       [-0.66482115, -0.33314399, -0.35974497, -0.39788309, -0.26009213,\n",
       "         0.53877757],\n",
       "       [-0.37434344, -0.29750241, -0.29370107, -0.29879344,  0.22579427,\n",
       "         1.20386606],\n",
       "       [-0.42187616, -0.20839845, -0.21114621, -0.19208149, -0.0074312 ,\n",
       "         1.2988787 ],\n",
       "       [-0.11027279,  0.19256939,  0.17686166,  0.14329889, -0.09489075,\n",
       "         1.15635974],\n",
       "       [-1.12245558, -1.60733067, -1.63108989, -1.70129323, -1.16384082,\n",
       "        -1.50399423],\n",
       "       [-1.12034301, -1.5449579 , -1.57330149, -1.64031498, -1.07638127,\n",
       "        -1.36147526],\n",
       "       [-1.12166336, -1.5360475 , -1.565046  , -1.64031498, -1.28045356,\n",
       "        -1.40898159],\n",
       "       [-1.11453346, -1.50931631, -1.53202405, -1.60982586, -0.95005081,\n",
       "        -0.64888045],\n",
       "       [-1.11426939, -1.48258512, -1.51551308, -1.57933673, -1.09581673,\n",
       "        -1.2189563 ],\n",
       "       [-1.11717416, -1.47367473, -1.5072576 , -1.56409217, -1.20271174,\n",
       "        -1.26646262],\n",
       "       [-1.11374125, -1.42912274, -1.46598016, -1.52598076, -1.086099  ,\n",
       "        -1.45648791],\n",
       "       [-1.11400532, -1.42912274, -1.46598016, -1.52598076, -1.086099  ,\n",
       "        -1.88404479],\n",
       "       [-1.11426939, -1.42021235, -1.44946919, -1.51835848, -1.10553446,\n",
       "        -1.97905744],\n",
       "       [-1.10793169, -1.41130195, -1.43295822, -1.50311391, -1.21242946,\n",
       "        -1.17144998],\n",
       "       [-1.10476284, -1.39348116, -1.41644724, -1.49549163, -0.97920399,\n",
       "        -1.64651319],\n",
       "       [-1.10793169, -1.35783957, -1.36691432, -1.47262479, -1.12496991,\n",
       "        -1.78903215],\n",
       "       [-1.08812639, -1.25982521, -1.259593  , -1.36591285, -0.89174444,\n",
       "         0.34875228],\n",
       "       [-1.08759825, -1.20636284, -1.20180459, -1.28969003, -0.96948627,\n",
       "        -0.60137413],\n",
       "       [-0.61200702,  0.23712137,  0.22639458,  0.12805433, -1.17355855,\n",
       "        -1.50399423],\n",
       "       [-0.34793638,  0.38859811,  0.36673785,  0.35672277, -1.2610181 ,\n",
       "        -0.88641206],\n",
       "       [-0.34793638,  0.47770207,  0.44929271,  0.43294559, -1.24158265,\n",
       "        -0.74389309],\n",
       "       [-0.34793638,  0.6648204 ,  0.6391689 ,  0.5091684 , -1.19299401,\n",
       "        -1.31396894],\n",
       "       [-0.00464454,  0.72719317,  0.69695731,  0.56252438, -0.97920399,\n",
       "        -0.74389309],\n",
       "       [-0.22910458,  0.77174515,  0.73823474,  0.60063578, -1.21242946,\n",
       "        -1.50399423],\n",
       "       [ 0.06401383,  1.128161  ,  1.0684542 ,  0.94363845, -1.17355855,\n",
       "        -1.59900687],\n",
       "       [ 0.20661198,  1.128161  ,  1.0684542 ,  0.94363845, -1.27073583,\n",
       "        -1.45648791],\n",
       "       [ 0.28583317,  1.1370714 ,  1.10973164,  0.9665053 , -1.07638127,\n",
       "        -0.79139942],\n",
       "       [ 0.18020491,  1.30636893,  1.27484137,  1.13419549, -1.31932447,\n",
       "        -1.26646262],\n",
       "       [ 0.35713225,  1.41329369,  1.35739623,  1.18755146, -1.17355855,\n",
       "        -1.36147526],\n",
       "       [ 0.89319566,  1.55586003,  1.52250596,  1.3781085 , -1.27073583,\n",
       "        -1.12394366],\n",
       "       [ 1.36852282,  1.8677239 ,  1.82795897,  1.67537748, -1.1541231 ,\n",
       "        -0.79139942],\n",
       "       [ 2.16073475,  2.19740857,  2.18294489,  2.02600243, -0.98892172,\n",
       "        -0.55386781],\n",
       "       [ 3.08498201,  2.55382442,  2.51316435,  2.35376053, -1.27073583,\n",
       "        -1.55150055],\n",
       "       [ 2.95294669,  2.55382442,  2.51316435,  2.35376053, -1.27073583,\n",
       "        -1.55150055],\n",
       "       [ 3.21701733,  2.82113631,  2.79385089,  2.65865179, -1.18327628,\n",
       "        -0.88641206]])"
      ]
     },
     "execution_count": 38,
     "metadata": {},
     "output_type": "execute_result"
    }
   ],
   "source": [
    "fish = pd.read_csv('fish.csv',header=None)\n",
    "samples = fish.iloc[:,1:]\n",
    "species = fish.iloc[:,0]\n",
    "scaler = StandardScaler()\n",
    "scaler.fit(samples)\n",
    "StandardScaler(copy=True,with_mean=True,with_std=True)\n",
    "samples_scaled = scaler.transform(samples)\n",
    "samples_scaled"
   ]
  },
  {
   "cell_type": "code",
   "execution_count": 39,
   "id": "b2c78e94",
   "metadata": {},
   "outputs": [
    {
     "data": {
      "image/png": "[encoded data removed]",
      "text/plain": [
       "<Figure size 432x288 with 1 Axes>"
      ]
     },
     "metadata": {
      "needs_background": "light"
     },
     "output_type": "display_data"
    }
   ],
   "source": [
    "# Perform the necessary imports\n",
    "from sklearn.decomposition import PCA\n",
    "from sklearn.preprocessing import StandardScaler\n",
    "from sklearn.pipeline import make_pipeline\n",
    "import matplotlib.pyplot as plt\n",
    "\n",
    "# Create scaler: scaler\n",
    "scaler = StandardScaler()\n",
    "\n",
    "# Create a PCA instance: pca\n",
    "pca = PCA()\n",
    "\n",
    "# Create pipeline: pipeline\n",
    "pipeline = make_pipeline(scaler,pca)\n",
    "\n",
    "# Fit the pipeline to 'samples'\n",
    "pipeline.fit(samples)\n",
    "\n",
    "# Plot the explained variances\n",
    "features = range(pca.n_components_)\n",
    "plt.bar(features, pca.explained_variance_)\n",
    "plt.xlabel('PCA feature')\n",
    "plt.ylabel('variance')\n",
    "plt.xticks(features)\n",
    "plt.show()\n"
   ]
  },
  {
   "cell_type": "markdown",
   "id": "02e085bf",
   "metadata": {},
   "source": [
    "# 1. Dimension reduction with PCA\n",
    "2. Dimension reduction\n",
    "Dimension reduction represents the same data using less features and is vital for building machine learning pipelines using real-world data. Finally, in this video, you'll learn how to perform dimension reduction using PCA.\n",
    "\n",
    "3. Dimension reduction with PCA\n",
    "We've seen already that the PCA features are in decreasing order of variance. PCA performs dimension reduction by discarding the PCA features with lower variance, which it assumes to be noise, and retaining the higher variance PCA features, which it assumes to be informative.\n",
    "\n",
    "4. Dimension reduction with PCA\n",
    "To use PCA for dimension reduction, you need to specify how many PCA features to keep. For example, specifying n_components=2 when creating a PCA model tells it to keep only the first two PCA features. A good choice is the intrinsic dimension of the dataset, if you know it. Let's consider an example right away.\n",
    "\n",
    "5. Dimension reduction of iris dataset\n",
    "The iris dataset has 4 features representing the 4 measurements. Here, the measurements are in a numpy array called samples. Let's use PCA to reduce the dimension of the iris dataset to only 2. Begin by importing PCA as usual. Create a PCA model specifying n_components=2, and then fit the model and transform the samples as usual. Printing the shape of the transformed samples, we see that there are only two features, as expected.\n",
    "\n",
    "6. Iris dataset in 2 dimensions\n",
    "Here is a scatterplot of the two PCA features, where the colors represent the three species of iris. Remarkably, despite having reduced the dimension from 4 to 2, the species can still be distinguished. Remember that PCA didn't even know that there were distinct species. PCA simply took the 2 PCA features with highest variance. As we can see, these two features are very informative.\n",
    "\n",
    "7. Dimension reduction with PCA\n",
    "PCA discards the low variance features, and assumes that the higher variance features are informative. Like all assumptions, there are cases where this doesn't hold. As we saw with the iris dataset, however, it often does in practice.\n",
    "\n",
    "8. Word frequency arrays\n",
    "In some cases, an alternative implementation of PCA needs to be used. Word frequency arrays are a great example. In a word-frequency array, each row corresponds to a document, and each column corresponds to a word from a fixed vocabulary. The entries of the word-frequency array measure how often each word appears in each document. Only some of the words from the vocabulary appear in any one document, so most entries of the word frequency array are zero.\n",
    "\n",
    "9. Sparse arrays and csr_matrix\n",
    "Arrays like this are said to be \"sparse\", and are often represented using a special type of array called a \"csr_matrix\". csr_matrices save space by remembering only the non-zero entries of the array.\n",
    "\n",
    "10. TruncatedSVD and csr_matrix\n",
    "Scikit-learn's PCA doesn't support csr_matrices, and you'll need to use TruncatedSVD instead. TruncatedSVD performs the same transformation as PCA, but accepts csr matrices as input. Other than that, you interact with TruncatedSVD and PCA in exactly the same way.\n",
    "\n",
    "11. Let's practice!\n",
    "In this video, you've learned how to perform dimension reduction using PCA. Now it's time to practice dimension reduction in the wild!"
   ]
  },
  {
   "cell_type": "code",
   "execution_count": 40,
   "id": "4d7ec420",
   "metadata": {},
   "outputs": [],
   "source": [
    "fish = pd.read_csv('fish.csv',header=None)\n",
    "samples = fish.iloc[:,1:]\n",
    "species = fish.iloc[:,0]\n",
    "scaler = StandardScaler()\n",
    "scaler.fit(samples)\n",
    "StandardScaler(copy=True,with_mean=True,with_std=True)\n",
    "samples_scaled = scaler.transform(samples)\n",
    "scaled_samples = samples_scaled"
   ]
  },
  {
   "cell_type": "code",
   "execution_count": 41,
   "id": "c6718737",
   "metadata": {},
   "outputs": [
    {
     "name": "stdout",
     "output_type": "stream",
     "text": [
      "(85, 2)\n"
     ]
    }
   ],
   "source": [
    "# Import PCA\n",
    "from sklearn.decomposition import PCA\n",
    "\n",
    "# Create a PCA model with 2 components: pca\n",
    "pca = PCA(n_components=2)\n",
    "\n",
    "# Fit the PCA instance to the scaled samples\n",
    "pca.fit(scaled_samples)\n",
    "\n",
    "# Transform the scaled samples: pca_features\n",
    "pca_features = pca.transform(scaled_samples)\n",
    "\n",
    "# Print the shape of pca_features\n",
    "print(pca_features.shape)\n"
   ]
  },
  {
   "cell_type": "markdown",
   "id": "40011290",
   "metadata": {},
   "source": [
    "# A tf-idf word-frequency array\n",
    "In this exercise, you'll create a tf-idf word frequency array for a toy collection of documents. For this, use the TfidfVectorizer from sklearn. It transforms a list of documents into a word frequency array, which it outputs as a csr_matrix. It has fit() and transform() methods like other sklearn objects.\n",
    "\n",
    "You are given a list documents of toy documents about pets. Its contents have been printed in the IPython Shell.\n",
    "\n",
    "Instructions\n",
    "100 XP\n",
    "- Import TfidfVectorizer from sklearn.feature_extraction.text.\n",
    "- Create a TfidfVectorizer instance called tfidf.\n",
    "- Apply .fit_transform() method of tfidf to documents and assign the result to csr_mat. This is a word-frequency array in csr_matrix format.\n",
    "- Inspect csr_mat by calling its .toarray() method and printing the result. This has been done for you.\n",
    "- The columns of the array correspond to words. Get the list of words by calling the .get_feature_names() method of tfidf, and assign the result to words."
   ]
  },
  {
   "cell_type": "code",
   "execution_count": 42,
   "id": "a5466967",
   "metadata": {},
   "outputs": [
    {
     "name": "stdout",
     "output_type": "stream",
     "text": [
      "[[0.51785612 0.         0.         0.68091856 0.51785612 0.        ]\n",
      " [0.         0.         0.51785612 0.         0.51785612 0.68091856]\n",
      " [0.51785612 0.68091856 0.51785612 0.         0.         0.        ]]\n",
      "['cats' 'chase' 'dogs' 'meow' 'say' 'woof']\n"
     ]
    }
   ],
   "source": [
    "documents = ['cats say meow','dogs say woof','dogs chase cats']\n",
    "# Import TfidfVectorizer\n",
    "from sklearn.feature_extraction.text import TfidfVectorizer\n",
    "\n",
    "# Create a TfidfVectorizer: tfidf\n",
    "tfidf = TfidfVectorizer() \n",
    "\n",
    "# Apply fit_transform to document: csr_mat\n",
    "csr_mat = tfidf.fit_transform(documents)\n",
    "\n",
    "# Print result of toarray() method\n",
    "print(csr_mat.toarray())\n",
    "\n",
    "# Get the words: words\n",
    "words = tfidf.get_feature_names_out()\n",
    "\n",
    "# Print words\n",
    "print(words)\n"
   ]
  },
  {
   "cell_type": "markdown",
   "id": "1feb0948",
   "metadata": {},
   "source": [
    "# Clustering Wikipedia part I\n",
    "You saw in the video that TruncatedSVD is able to perform PCA on sparse arrays in csr_matrix format, such as word-frequency arrays. Combine your knowledge of TruncatedSVD and k-means to cluster some popular pages from Wikipedia. In this exercise, build the pipeline. In the next exercise, you'll apply it to the word-frequency array of some Wikipedia articles.\n",
    "\n",
    "Create a Pipeline object consisting of a TruncatedSVD followed by KMeans. (This time, we've precomputed the word-frequency matrix for you, so there's no need for a TfidfVectorizer).\n",
    "\n",
    "The Wikipedia dataset you will be working with was obtained from here.\n",
    "\n",
    "Instructions\n",
    "0 XP\n",
    "- Import:\n",
    "- TruncatedSVD from sklearn.decomposition.\n",
    "- KMeans from sklearn.cluster.\n",
    "- make_pipeline from sklearn.pipeline.\n",
    "- Create a TruncatedSVD instance called svd with n_components=50.\n",
    "- Create a KMeans instance called kmeans with n_clusters=6.\n",
    "- Create a pipeline called pipeline consisting of svd and kmeans.\n",
    "\n",
    "Hint\n",
    "- To import x from y you can use the command from y import x.\n",
    "- To create an instance of the TruncatedSVD class, use TruncatedSVD() with the keyword argument n_components=50.\n",
    "- Use KMeans() and specify the n_clusters parameter to create an instance of KMeans with the desired number of clusters.\n",
    "- Use make_pipeline() with svd and kmeans as the arguments to create the pipeline."
   ]
  },
  {
   "cell_type": "code",
   "execution_count": 43,
   "id": "1c66c6dc",
   "metadata": {},
   "outputs": [],
   "source": [
    "# Perform the necessary imports\n",
    "from sklearn.decomposition import TruncatedSVD\n",
    "from sklearn.cluster import KMeans\n",
    "from sklearn.pipeline import make_pipeline\n",
    "\n",
    "# Create a TruncatedSVD instance: svd\n",
    "svd = TruncatedSVD(n_components=50)\n",
    "\n",
    "# Create a KMeans instance: kmeans\n",
    "kmeans = KMeans(n_clusters=6)\n",
    "\n",
    "# Create a pipeline: pipeline\n",
    "pipeline = make_pipeline(svd, kmeans)\n"
   ]
  },
  {
   "cell_type": "markdown",
   "id": "6aa0c162",
   "metadata": {},
   "source": [
    "# Clustering Wikipedia part II\n",
    "It is now time to put your pipeline from the previous exercise to work! You are given an array articles of tf-idf word-frequencies of some popular Wikipedia articles, and a list titles of their titles. Use your pipeline to cluster the Wikipedia articles.\n",
    "\n",
    "A solution to the previous exercise has been pre-loaded for you, so a Pipeline pipeline chaining TruncatedSVD with KMeans is available.\n",
    "\n",
    "Instructions\n",
    "0 XP\n",
    "- Import pandas as pd.\n",
    "- Fit the pipeline to the word-frequency array articles.\n",
    "- Predict the cluster labels.\n",
    "- Align the cluster labels with the list titles of article titles by creating a DataFrame df with labels and titles as columns. This has been done for you.\n",
    "- Use the .sort_values() method of df to sort the DataFrame by the 'label' column, and print the result.\n",
    "- Hit submit and take a moment to investigate your amazing clustering of Wikipedia pages!\n",
    "\n",
    "Hint\n",
    "- Use the command import x as y to import x as the alias y.\n",
    "- Use pipeline.fit() with articles as the argument to fit the pipeline to the word-frequency array.\n",
    "- Use pipeline.predict() with articles as the argument to obtain the cluster labels.\n",
    "- Place df.sort_values() with 'label' as argument inside a call to print() to print the sorted DataFrame."
   ]
  },
  {
   "cell_type": "code",
   "execution_count": 44,
   "id": "fea0025e",
   "metadata": {},
   "outputs": [],
   "source": [
    "import pandas as pd\n",
    "from scipy.sparse import csr_matrix\n",
    "\n",
    "df = pd.read_csv('Wikipedia articles/wikipedia-vectors.csv', index_col=0)\n",
    "articles = csr_matrix(df.transpose())\n",
    "titles = list(df.columns)"
   ]
  },
  {
   "cell_type": "code",
   "execution_count": 45,
   "id": "9ce3dde2",
   "metadata": {},
   "outputs": [
    {
     "name": "stdout",
     "output_type": "stream",
     "text": [
      "    label                                        article\n",
      "59      0                                    Adam Levine\n",
      "51      0                                     Nate Ruess\n",
      "52      0                                     The Wanted\n",
      "53      0                                   Stevie Nicks\n",
      "50      0                                   Chad Kroeger\n",
      "55      0                                  Black Sabbath\n",
      "56      0                                       Skrillex\n",
      "57      0                          Red Hot Chili Peppers\n",
      "54      0                                 Arctic Monkeys\n",
      "58      0                                         Sepsis\n",
      "40      1                                    Tonsillitis\n",
      "43      1                                       Leukemia\n",
      "44      1                                           Gout\n",
      "45      1                                    Hepatitis C\n",
      "46      1                                     Prednisone\n",
      "47      1                                          Fever\n",
      "48      1                                     Gabapentin\n",
      "41      1                                    Hepatitis B\n",
      "42      1                                    Doxycycline\n",
      "49      1                                       Lymphoma\n",
      "31      2                              Cristiano Ronaldo\n",
      "32      2                                   Arsenal F.C.\n",
      "33      2                                 Radamel Falcao\n",
      "35      2                Colombia national football team\n",
      "36      2              2014 FIFA World Cup qualification\n",
      "37      2                                       Football\n",
      "30      2                  France national football team\n",
      "34      2                             Zlatan Ibrahimović\n",
      "39      2                                  Franck Ribéry\n",
      "38      2                                         Neymar\n",
      "18      3  2010 United Nations Climate Change Conference\n",
      "17      3  Greenhouse gas emissions by the United States\n",
      "16      3                                        350.org\n",
      "15      3                                 Kyoto Protocol\n",
      "14      3                                 Climate change\n",
      "13      3                               Connie Hedegaard\n",
      "12      3                                   Nigel Lawson\n",
      "11      3       Nationally Appropriate Mitigation Action\n",
      "10      3                                 Global warming\n",
      "19      3  2007 United Nations Climate Change Conference\n",
      "0       4                                       HTTP 404\n",
      "8       4                                        Firefox\n",
      "1       4                                 Alexa Internet\n",
      "2       4                              Internet Explorer\n",
      "3       4                                    HTTP cookie\n",
      "4       4                                  Google Search\n",
      "5       4                                         Tumblr\n",
      "6       4                    Hypertext Transfer Protocol\n",
      "7       4                                  Social search\n",
      "9       4                                       LinkedIn\n",
      "27      5                                 Dakota Fanning\n",
      "20      5                                 Angelina Jolie\n",
      "21      5                             Michael Fassbender\n",
      "22      5                              Denzel Washington\n",
      "23      5                           Catherine Zeta-Jones\n",
      "24      5                                   Jessica Biel\n",
      "25      5                                  Russell Crowe\n",
      "26      5                                     Mila Kunis\n",
      "28      5                                  Anne Hathaway\n",
      "29      5                               Jennifer Aniston\n"
     ]
    }
   ],
   "source": [
    "# Import pandas\n",
    "import pandas as pd\n",
    "\n",
    "# Fit the pipeline to articles\n",
    "pipeline.fit(articles)\n",
    "\n",
    "# Calculate the cluster labels: labels\n",
    "labels = pipeline.predict(articles)\n",
    "\n",
    "# Create a DataFrame aligning labels and titles: df\n",
    "df = pd.DataFrame({'label': labels, 'article': titles})\n",
    "\n",
    "# Display df sorted by cluster label\n",
    "print(df.sort_values('label'))\n"
   ]
  },
  {
   "cell_type": "markdown",
   "id": "32874cea",
   "metadata": {},
   "source": [
    "# Chapter 4 Discovering interpretable features"
   ]
  },
  {
   "cell_type": "markdown",
   "id": "1a66a907",
   "metadata": {},
   "source": [
    "# 1. Non-negative matrix factorization (NMF)\n",
    "2. Non-negative matrix factorization\n",
    "NMF stands for \"non-negative matrix factorization\". NMF, like PCA, is a dimension reduction technique. In constract to PCA, however, NMF models are interpretable. This means an NMF models are easier to understand yourself, and much easier for you to explain to others. NMF can not be applied to every dataset, however. It is required that the sample features be \"non-negative\", so greater than or equal to 0.\n",
    "\n",
    "3. Interpretable parts\n",
    "NMF achieves its interpretability by decomposing samples as sums of their parts. For example, NMF decomposes documents as combinations of common themes,\n",
    "\n",
    "4. Interpretable parts\n",
    "and images as combinations of common patterns. You'll learn about both these examples in detail later. For now, let's focus on getting started.\n",
    "\n",
    "5. Using scikit-learn NMF\n",
    "NMF is available in scikit learn, and follows the same fit/transform pattern as PCA. However, unlike PCA, the desired number of components must always be specified. NMF works both with numpy arrays and sparse arrays in the csr_matrix format.\n",
    "\n",
    "6. Example word-frequency array\n",
    "Let's see an application of NMF to a toy example of a word-frequency array. In this toy dataset, there are only 4 words in the vocabulary, and these correspond to the four columns of the word-frequency array. Each row represents a document, and the entries of the array measure the frequency of each word in the document using what's known as \"tf-idf\". \"tf\" is the frequency of the word in the document. So if 10% of the words in the document are \"datacamp\", then the tf of \"datacamp\" for that document is point-1. \"idf\" is a weighting scheme that reduces the influence of frequent words like \"the\".\n",
    "\n",
    "7. Example usage of NMF\n",
    "Let's now see how to use NMF in Python. Firstly, import NMF. Create a model, specifying the desired number of components. Let's specify 2. Fit the model to the samples, then use the fit model to perform the transformation.\n",
    "\n",
    "8. NMF components\n",
    "Just as PCA has principal components, NMF has components which it learns from the samples, and as with PCA, the dimension of the components is the same as the dimension of the samples. In our example, for instance, there are 2 components, and they live in 4 dimensional space, corresponding to the 4 words in the vocabulary. The entries of the NMF components are always non-negative.\n",
    "\n",
    "9. NMF features\n",
    "The NMF feature values are non-negative, as well. As we saw with PCA, our transformed data in this example will have two columns, corresponding to our two new features. The features and the components of an NMF model can be combined to approximately reconstruct the original data samples.\n",
    "\n",
    "10. Reconstruction of a sample\n",
    "Let's see how this works with a single data sample. Here is a sample representing a document from our toy dataset, and here are its NMF feature values. Now if we multiply each NMF components by the corresponding NMF feature value, and add up each column, we get something very close to the original sample.\n",
    "\n",
    "11. Sample reconstruction\n",
    "So a sample can be reconstructed by multiplying the NMF components by the NMF feature values of the sample, and adding up. This calculation also can be expressed as what is known as a product of matrices. We won't be using that point of view, but that's where the \"matrix factorization\", or \"MF\", in NMF comes from.\n",
    "\n",
    "12. NMF fits to non-negative data only\n",
    "Finally, remember that NMF can only be applied to arrays of non-negative data, such as word-frequency arrays. In the next video, you'll construct another example by encoding collections of images as non-negative arrays. There are many other great examples as well, such as arrays encoding audio spectrograms, and arrays representing the purchase histories on e-Commerce sites.\n",
    "\n",
    "13. Let's practice!\n",
    "In this video, you've learned the basics of NMF. Now let's practice using it."
   ]
  },
  {
   "cell_type": "markdown",
   "id": "8eb9048e",
   "metadata": {},
   "source": [
    "# NMF applied to Wikipedia articles\n",
    "In the video, you saw NMF applied to transform a toy word-frequency array. Now it's your turn to apply NMF, this time using the tf-idf word-frequency array of Wikipedia articles, given as a csr matrix articles. Here, fit the model and transform the articles. In the next exercise, you'll explore the result.\n",
    "\n",
    "Instructions\n",
    "100 XP\n",
    "- Import NMF from sklearn.decomposition.\n",
    "- Create an NMF instance called model with 6 components.\n",
    "- Fit the model to the word count data articles.\n",
    "- Use the .transform() method of model to transform articles, and assign the result to nmf_features.\n",
    "- Print nmf_features to get a first idea what it looks like (.round(2) rounds the entries to 2 decimal places.)\n",
    "- To import x from y, use the command from y import x.\n",
    "- To create an NMF instance with 6 components, use NMF() with n_components=6.\n",
    "- To transform articles, use model.transform() with articles as the argument."
   ]
  },
  {
   "cell_type": "code",
   "execution_count": 46,
   "id": "60ccea65",
   "metadata": {},
   "outputs": [
    {
     "name": "stdout",
     "output_type": "stream",
     "text": [
      "[[0.   0.   0.   0.   0.   0.44]\n",
      " [0.   0.   0.   0.   0.   0.57]\n",
      " [0.   0.   0.   0.   0.   0.4 ]\n",
      " [0.   0.   0.   0.   0.   0.38]\n",
      " [0.   0.   0.   0.   0.   0.49]\n",
      " [0.01 0.01 0.01 0.03 0.   0.33]\n",
      " [0.   0.   0.02 0.   0.01 0.36]\n",
      " [0.   0.   0.   0.   0.   0.49]\n",
      " [0.02 0.01 0.   0.02 0.03 0.48]\n",
      " [0.01 0.03 0.03 0.07 0.02 0.34]\n",
      " [0.   0.   0.53 0.   0.03 0.  ]\n",
      " [0.   0.   0.36 0.   0.   0.  ]\n",
      " [0.01 0.01 0.31 0.06 0.01 0.02]\n",
      " [0.   0.01 0.34 0.01 0.   0.  ]\n",
      " [0.   0.   0.43 0.   0.04 0.  ]\n",
      " [0.   0.   0.48 0.   0.   0.  ]\n",
      " [0.01 0.02 0.38 0.03 0.   0.01]\n",
      " [0.   0.   0.48 0.   0.   0.  ]\n",
      " [0.   0.01 0.55 0.   0.   0.  ]\n",
      " [0.   0.   0.47 0.   0.   0.  ]\n",
      " [0.   0.01 0.02 0.52 0.06 0.01]\n",
      " [0.   0.   0.   0.51 0.   0.  ]\n",
      " [0.   0.01 0.   0.42 0.   0.  ]\n",
      " [0.   0.   0.   0.44 0.   0.  ]\n",
      " [0.   0.   0.   0.5  0.   0.  ]\n",
      " [0.1  0.09 0.   0.38 0.   0.01]\n",
      " [0.   0.   0.   0.57 0.   0.01]\n",
      " [0.01 0.01 0.   0.47 0.   0.01]\n",
      " [0.   0.   0.   0.58 0.   0.  ]\n",
      " [0.   0.   0.   0.53 0.01 0.01]\n",
      " [0.   0.41 0.   0.   0.   0.  ]\n",
      " [0.   0.61 0.   0.01 0.   0.  ]\n",
      " [0.01 0.27 0.   0.02 0.01 0.  ]\n",
      " [0.   0.64 0.   0.   0.   0.  ]\n",
      " [0.   0.61 0.   0.   0.   0.  ]\n",
      " [0.   0.34 0.   0.   0.   0.  ]\n",
      " [0.01 0.32 0.02 0.   0.01 0.  ]\n",
      " [0.01 0.21 0.01 0.05 0.02 0.01]\n",
      " [0.01 0.47 0.   0.02 0.   0.  ]\n",
      " [0.   0.64 0.   0.   0.   0.  ]\n",
      " [0.   0.   0.   0.   0.48 0.  ]\n",
      " [0.   0.   0.   0.   0.49 0.  ]\n",
      " [0.   0.   0.   0.   0.38 0.01]\n",
      " [0.   0.   0.   0.01 0.54 0.  ]\n",
      " [0.   0.   0.01 0.   0.42 0.  ]\n",
      " [0.   0.   0.   0.   0.51 0.  ]\n",
      " [0.   0.   0.   0.   0.37 0.  ]\n",
      " [0.   0.   0.04 0.   0.23 0.  ]\n",
      " [0.01 0.   0.02 0.01 0.33 0.04]\n",
      " [0.   0.   0.   0.   0.42 0.  ]\n",
      " [0.31 0.   0.   0.   0.   0.  ]\n",
      " [0.37 0.   0.   0.   0.   0.  ]\n",
      " [0.4  0.03 0.   0.02 0.   0.02]\n",
      " [0.38 0.   0.   0.04 0.   0.01]\n",
      " [0.44 0.   0.   0.   0.   0.  ]\n",
      " [0.46 0.   0.   0.   0.   0.  ]\n",
      " [0.28 0.   0.   0.05 0.   0.02]\n",
      " [0.45 0.   0.   0.   0.01 0.  ]\n",
      " [0.29 0.01 0.01 0.01 0.19 0.01]\n",
      " [0.38 0.01 0.   0.1  0.01 0.  ]]\n"
     ]
    },
    {
     "name": "stderr",
     "output_type": "stream",
     "text": [
      "C:\\Users\\derek\\anaconda3\\lib\\site-packages\\sklearn\\decomposition\\_nmf.py:289: FutureWarning: The 'init' value, when 'init=None' and n_components is less than n_samples and n_features, will be changed from 'nndsvd' to 'nndsvda' in 1.1 (renaming of 0.26).\n",
      "  warnings.warn(\n"
     ]
    }
   ],
   "source": [
    "# Import NMF\n",
    "from sklearn.decomposition import NMF\n",
    "\n",
    "# Create an NMF instance: model\n",
    "model = NMF(n_components=6)\n",
    "\n",
    "# Fit the model to articles\n",
    "model.fit(articles)\n",
    "\n",
    "# Transform the articles: nmf_features\n",
    "nmf_features = model.transform(articles)\n",
    "\n",
    "# Print the NMF features\n",
    "print(nmf_features.round(2))"
   ]
  },
  {
   "cell_type": "code",
   "execution_count": 47,
   "id": "43e3f739",
   "metadata": {},
   "outputs": [],
   "source": [
    "# titles = ['HTTP 404', 'Alexa Internet', 'Internet Explorer', 'HTTP cookie', 'Google Search', 'Tumblr', 'Hypertext Transfer Protocol', 'Social search', 'Firefox', 'LinkedIn', 'Global warming', 'Nationally Appropriate Mitigation Action', 'Nigel Lawson', 'Connie Hedegaard', 'Climate change', 'Kyoto Protocol', '350.org', 'Greenhouse gas emissions by the United States', '2010 United Nations Climate Change Conference', '2007 United Nations Climate Change Conference', 'Angelina Jolie', 'Michael Fassbender', 'Denzel Washington', 'Catherine Zeta-Jones', 'Jessica Biel', 'Russell Crowe', 'Mila Kunis', 'Dakota Fanning', 'Anne Hathaway', 'Jennifer Aniston', 'France national football team', 'Cristiano Ronaldo', 'Arsenal F.C.', 'Radamel Falcao', 'Zlatan Ibrahimović', 'Colombia national football team', '2014 FIFA World Cup qualification', 'Football', 'Neymar', 'Franck Ribéry', 'Tonsillitis', 'Hepatitis B', 'Doxycycline', 'Leukemia', 'Gout', 'Hepatitis C', 'Prednisone', 'Fever', 'Gabapentin', 'Lymphoma', 'Chad Kroeger', 'Nate Ruess', 'The Wanted', 'Stevie Nicks', 'Arctic Monkeys', 'Black Sabbath', 'Skrillex', 'Red Hot Chili Peppers', 'Sepsis', 'Adam Levine']\n",
    "# nmf_features = np.array([[0.00000000e+00, 0.00000000e+00, 0.00000000e+00, 0.00000000e+00,        0.00000000e+00, 4.40465322e-01],[0.00000000e+00, 0.00000000e+00, 0.00000000e+00, 0.00000000e+00,        0.00000000e+00, 5.66604756e-01],      [3.82058457e-03, 0.00000000e+00, 0.00000000e+00, 0.00000000e+00,        0.00000000e+00, 3.98646427e-01],       [0.00000000e+00, 0.00000000e+00, 0.00000000e+00, 0.00000000e+00,        0.00000000e+00, 3.81739753e-01],       [0.00000000e+00, 0.00000000e+00, 0.00000000e+00, 0.00000000e+00,        0.00000000e+00, 4.85517119e-01],       [1.29290459e-02, 1.37889184e-02, 7.76313733e-03, 3.34487322e-02,        0.00000000e+00, 3.34521818e-01],       [0.00000000e+00, 0.00000000e+00, 2.06738655e-02, 0.00000000e+00,        6.04486283e-03, 3.59061038e-01],       [0.00000000e+00, 0.00000000e+00, 0.00000000e+00, 0.00000000e+00,        0.00000000e+00, 4.90976703e-01],       [1.54274156e-02, 1.42817184e-02, 3.76628748e-03, 2.37111817e-02,        2.62619893e-02, 4.80774318e-01],       [1.11738298e-02, 3.13676816e-02, 3.09480486e-02, 6.57000345e-02,        1.96677390e-02, 3.38288648e-01],       [0.00000000e+00, 0.00000000e+00, 5.30710112e-01, 0.00000000e+00,        2.83679347e-02, 0.00000000e+00],       [0.00000000e+00, 0.00000000e+00, 3.56503042e-01, 0.00000000e+00,        0.00000000e+00, 0.00000000e+00],       [1.20127255e-02, 6.50033756e-03, 3.12239769e-01, 6.09770818e-02,        1.13861318e-02, 1.92602102e-02],       [3.93485615e-03, 6.24432234e-03, 3.42367241e-01, 1.10768934e-02,        0.00000000e+00, 0.00000000e+00],       [4.63821398e-03, 0.00000000e+00, 4.34907414e-01, 0.00000000e+00,        3.84274924e-02, 3.08133140e-03],       [0.00000000e+00, 0.00000000e+00, 4.83280609e-01, 0.00000000e+00,        0.00000000e+00, 0.00000000e+00],       [5.65016594e-03, 1.83532464e-02, 3.76526384e-01, 3.25460935e-02,        0.00000000e+00, 1.13334438e-02],       [0.00000000e+00, 0.00000000e+00, 4.80905320e-01, 0.00000000e+00,        0.00000000e+00, 0.00000000e+00],       [0.00000000e+00, 9.01849274e-03, 5.50998244e-01, 0.00000000e+00,        0.00000000e+00, 0.00000000e+00],       [0.00000000e+00, 0.00000000e+00, 4.65961434e-01, 0.00000000e+00,        0.00000000e+00, 0.00000000e+00],       [0.00000000e+00, 1.14078934e-02, 2.08651998e-02, 5.17767327e-01,        5.81408435e-02, 1.37853805e-02],       [0.00000000e+00, 0.00000000e+00, 0.00000000e+00, 5.10475273e-01,        0.00000000e+00, 0.00000000e+00],       [0.00000000e+00, 5.60094760e-03, 0.00000000e+00, 4.22379854e-01,        0.00000000e+00, 0.00000000e+00],       [0.00000000e+00, 0.00000000e+00, 0.00000000e+00, 4.36751253e-01,        0.00000000e+00, 0.00000000e+00],       [0.00000000e+00, 0.00000000e+00, 0.00000000e+00, 4.98092036e-01,        0.00000000e+00, 0.00000000e+00],       [9.88394018e-02, 8.60029454e-02, 3.91028856e-03, 3.81017532e-01,        4.39239942e-04, 5.22151481e-03],       [0.00000000e+00, 0.00000000e+00, 0.00000000e+00, 5.72169888e-01,        0.00000000e+00, 7.13541985e-03],       [1.31468715e-02, 1.04851581e-02, 0.00000000e+00, 4.68906049e-01,        0.00000000e+00, 1.16309971e-02],       [3.84548688e-03, 0.00000000e+00, 0.00000000e+00, 5.75710557e-01,        0.00000000e+00, 0.00000000e+00],       [2.25244164e-03, 1.38734017e-03, 0.00000000e+00, 5.27945778e-01,        1.20264671e-02, 1.49483895e-02],       [0.00000000e+00, 4.07541038e-01, 1.85711419e-03, 0.00000000e+00,        2.96610497e-03, 4.52342305e-04],       [1.53421227e-03, 6.08162380e-01, 5.22269328e-04, 6.24853541e-03,        1.18444733e-03, 4.40074955e-04],       [5.38819366e-03, 2.65012410e-01, 5.38501825e-04, 1.86925929e-02,        6.38651189e-03, 2.90104872e-03],       [0.00000000e+00, 6.44904602e-01, 0.00000000e+00, 0.00000000e+00,        0.00000000e+00, 0.00000000e+00],       [0.00000000e+00, 6.08896305e-01, 0.00000000e+00, 0.00000000e+00,        0.00000000e+00, 0.00000000e+00],       [0.00000000e+00, 3.43679231e-01, 0.00000000e+00, 0.00000000e+00,        3.97794829e-03, 0.00000000e+00],       [6.10508849e-03, 3.15307295e-01, 1.54877295e-02, 0.00000000e+00,        5.06244563e-03, 4.74335450e-03],       [6.47373328e-03, 2.13324818e-01, 9.49479174e-03, 4.56981207e-02,        1.71914481e-02, 9.52063620e-03],       [7.99147234e-03, 4.67586974e-01, 0.00000000e+00, 2.43425413e-02,        0.00000000e+00, 0.00000000e+00],       [0.00000000e+00, 6.42808850e-01, 0.00000000e+00, 2.35855413e-03,        0.00000000e+00, 0.00000000e+00],       [0.00000000e+00, 0.00000000e+00, 0.00000000e+00, 0.00000000e+00,        4.77080113e-01, 0.00000000e+00],       [0.00000000e+00, 0.00000000e+00, 0.00000000e+00, 0.00000000e+00,        4.94253212e-01, 0.00000000e+00],       [0.00000000e+00, 2.99063787e-04, 2.14484813e-03, 0.00000000e+00,        3.81776318e-01, 5.83780479e-03],       [0.00000000e+00, 0.00000000e+00, 0.00000000e+00, 5.64692771e-03,        5.42238170e-01, 0.00000000e+00],       [1.78059654e-03, 7.84399946e-04, 1.41625538e-02, 4.59813501e-04,        4.24299848e-01, 0.00000000e+00],       [0.00000000e+00, 0.00000000e+00, 0.00000000e+00, 0.00000000e+00,        5.11388821e-01, 0.00000000e+00],       [0.00000000e+00, 0.00000000e+00, 3.28381076e-03, 0.00000000e+00,        3.72884543e-01, 0.00000000e+00],       [0.00000000e+00, 2.62079735e-04, 3.61098295e-02, 2.32336069e-04,        2.30509332e-01, 0.00000000e+00],       [1.12517699e-02, 2.12323850e-03, 1.60969841e-02, 1.02484866e-02,        3.25459591e-01, 3.75880596e-02],       [0.00000000e+00, 0.00000000e+00, 0.00000000e+00, 0.00000000e+00,        4.18955707e-01, 3.57698689e-04],       [3.08373460e-01, 0.00000000e+00, 0.00000000e+00, 0.00000000e+00,        0.00000000e+00, 0.00000000e+00],       [3.68181576e-01, 0.00000000e+00, 0.00000000e+00, 0.00000000e+00,        0.00000000e+00, 0.00000000e+00],       [3.97953206e-01, 2.81698167e-02, 3.67005937e-03, 1.70066802e-02,        1.95966668e-03, 2.11644501e-02],       [3.75802488e-01, 2.07517079e-03, 0.00000000e+00, 3.72154373e-02,        0.00000000e+00, 5.85927894e-03],       [4.38037394e-01, 0.00000000e+00, 0.00000000e+00, 0.00000000e+00,        0.00000000e+00, 0.00000000e+00],       [4.57890626e-01, 0.00000000e+00, 0.00000000e+00, 0.00000000e+00,        0.00000000e+00, 0.00000000e+00],       [2.75483006e-01, 4.46948936e-03, 0.00000000e+00, 5.29655484e-02,        0.00000000e+00, 1.90997682e-02],       [4.45203267e-01, 0.00000000e+00, 0.00000000e+00, 0.00000000e+00,        5.48695813e-03, 0.00000000e+00],       [2.92746533e-01, 1.33662475e-02, 1.14261498e-02, 1.05200030e-02,        1.87695369e-01, 9.23965223e-03],       [3.78274425e-01, 1.43967752e-02, 0.00000000e+00, 9.85239494e-02,1.35899666e-02, 0.00000000e+00]])"
   ]
  },
  {
   "cell_type": "markdown",
   "id": "33ba7029",
   "metadata": {},
   "source": [
    "# NMF features of the Wikipedia articles\n",
    "Now you will explore the NMF features you created in the previous exercise. A solution to the previous exercise has been pre-loaded, so the array nmf_features is available. Also available is a list titles giving the title of each Wikipedia article.\n",
    "\n",
    "When investigating the features, notice that for both actors, the NMF feature 3 has by far the highest value. This means that both articles are reconstructed using mainly the 3rd NMF component. In the next video, you'll see why: NMF components represent topics (for instance, acting!).\n",
    "\n",
    "Instructions\n",
    "70 XP\n",
    "- Import pandas as pd.\n",
    "- Create a DataFrame df from nmf_features using pd.DataFrame(). Set the index to titles using index=titles.\n",
    "- Use the .loc[] accessor of df to select the row with title 'Anne Hathaway', and print the result. These are the NMF features for the article about the actress Anne Hathaway.\n",
    "- Repeat the last step for 'Denzel Washington' (another actor).\n",
    "\n",
    "\n",
    "Show Answer (-70 XP)\n",
    "Hint\n",
    "- Use the command import x as y to import x as the alias y.\n",
    "- To create df, use pd.DataFrame() with nmf_features and index=titles as the arguments.\n",
    "- Here's an example of using the .loc[] accessor to select a hypothetical row from df with title 'DataCamp': df.loc['DataCamp']. Do this for 'Anne Hathaway' and 'Denzel Washington'."
   ]
  },
  {
   "cell_type": "code",
   "execution_count": 48,
   "id": "ba48da5c",
   "metadata": {},
   "outputs": [
    {
     "name": "stdout",
     "output_type": "stream",
     "text": [
      "0    0.003845\n",
      "1    0.000000\n",
      "2    0.000000\n",
      "3    0.575667\n",
      "4    0.000000\n",
      "5    0.000000\n",
      "Name: Anne Hathaway, dtype: float64\n",
      "0    0.000000\n",
      "1    0.005601\n",
      "2    0.000000\n",
      "3    0.422348\n",
      "4    0.000000\n",
      "5    0.000000\n",
      "Name: Denzel Washington, dtype: float64\n"
     ]
    }
   ],
   "source": [
    "# Import pandas\n",
    "import pandas as pd\n",
    "\n",
    "# Create a pandas DataFrame: df\n",
    "df = pd.DataFrame(nmf_features, index=titles)\n",
    "\n",
    "# Print the row for 'Anne Hathaway'\n",
    "print(df.loc['Anne Hathaway'])\n",
    "\n",
    "# Print the row for 'Denzel Washington'\n",
    "print(df.loc['Denzel Washington'])\n"
   ]
  },
  {
   "cell_type": "markdown",
   "id": "07b7d744",
   "metadata": {},
   "source": [
    "# 1. NMF learns interpretable parts\n",
    "In this video, you'll learn that the components of NMF represent patterns that frequently occur in the samples.\n",
    "\n",
    "2. Example: NMF learns interpretable parts\n",
    "Let's consider a concrete example, where scientific articles are represented by their word frequencies. There are 20000 articles, and 800 words. So the array has 800 columns.\n",
    "\n",
    "3. Applying NMF to the articles\n",
    "Let's fit an NMF model with 10 components to the articles. The 10 components are stored as the 10 rows of a 2-dimensional numpy array.\n",
    "\n",
    "4. NMF components are topics\n",
    "The rows, or components, live in an 800-dimensional space - there is one dimension for each of the words. Aligning the words of our vocabulary with the columns of the NMF components allows them to be interpreted.\n",
    "\n",
    "5. NMF components are topics\n",
    "Choosing a component, such as this one, and looking at which words have the highest values,\n",
    "\n",
    "6. NMF components are topics\n",
    "we see that they fit a theme: the words are 'species', 'plant', 'plants', 'genetic', 'evolution' and 'life'.\n",
    "\n",
    "7. NMF components are topics\n",
    "The same happens if any other component is considered.\n",
    "\n",
    "8. NMF components\n",
    "So if NMF is applied to documents, then the components correspond to topics, and the NMF features reconstruct the documents from the topics. If NMF is applied to a collection of images, on the other hand, then the NMF components represent patterns that frequently occur in the images. In this example, for instance, NMF decomposes images from an LCD display into the individual cells of the display. This example you'll investigate for yourself in the exercises. To do this, you'll need to know how to represent a collection of images as a non-negative array.\n",
    "\n",
    "9. Grayscale images\n",
    "An image in which all the pixels are shades of gray ranging from black to white is called a \"grayscale image\". Since there are only shades of grey, a grayscale image can be encoded by the brightness of every pixel. Representing the brightness as a number between 0 and 1, where 0 is totally black and 1 is totally white, the image can be represented as 2-dimensional array of numbers.\n",
    "\n",
    "10. Grayscale image example\n",
    "Here, for example, is a grayscale photo of the moon!\n",
    "\n",
    "11. Grayscale images as flat arrays\n",
    "These 2-dimensional arrays of numbers can then be flattened by enumerating the entries. For instance, we could read-off the values row-by-row, from left-to-right and top to bottom.\n",
    "\n",
    "12. Grayscale images as flat arrays\n",
    "The grayscale image is now represented by a flat array of non-negative numbers.\n",
    "\n",
    "13. Encoding a collection of images\n",
    "A collection of grayscale images of the same size can thus be encoded as a 2-dimensional array, in which each row represents an image as a flattened array, and each column represents a pixel. Viewing the images as samples, and the pixels as features, we see that the data is arranged similarly to the word frequency array. Indeed, the entries of this array are non-negative, so NMF can be used to learn the parts of the images.\n",
    "\n",
    "14. Visualizing samples\n",
    "It's difficult to visualize an image by just looking at the flattened array. To recover the image, use the reshape method of the sample, specifying the dimensions of the original image as a tuple. This yields the 2-dimensional array of pixel brightnesses. To display the corresponding image, import pyplot, and pass the 2-dimensional array to the plt dot imshow function.\n",
    "\n",
    "15. Let's practice!\n",
    "In this video, you've seen how NMF components can be intepreted as patterns that frequently occur in the samples. It's time to get some practice and investigate this phenomenon for yourself."
   ]
  },
  {
   "cell_type": "markdown",
   "id": "81ec1b04",
   "metadata": {},
   "source": [
    "# NMF learns topics of documents\n",
    "In the video, you learned when NMF is applied to documents, the components correspond to topics of documents, and the NMF features reconstruct the documents from the topics. Verify this for yourself for the NMF model that you built earlier using the Wikipedia articles. Previously, you saw that the 3rd NMF feature value was high for the articles about actors Anne Hathaway and Denzel Washington. In this exercise, identify the topic of the corresponding NMF component.\n",
    "\n",
    "The NMF model you built earlier is available as model, while words is a list of the words that label the columns of the word-frequency array.\n",
    "\n",
    "After you are done, take a moment to recognise the topic that the articles about Anne Hathaway and Denzel Washington have in common!\n",
    "\n",
    "Instructions\n",
    "70 XP\n",
    "- Import pandas as pd.\n",
    "- Create a DataFrame components_df from model.components_, setting columns=words so that columns are labeled by the words.\n",
    "- Print components_df.shape to check the dimensions of the DataFrame.\n",
    "- Use the .iloc[] accessor on the DataFrame components_df to select row 3. Assign the result to component.\n",
    "- Call the .nlargest() method of component, and print the result. This gives the five words with the highest values for that component.\n",
    "\n",
    "\n",
    "Show Answer (-70 XP)\n",
    "Hint\n",
    "- Use the command import x as y to import x as y.\n",
    "- Use pd.DataFrame() with model.components_ and columns=words as arguments to create components_df.\n",
    "- To select the row 3 of components_df, use components_df.iloc[3].\n",
    "- Place component.nlargest() inside a call to print() to compute the five words with the highest value for the 3rd component."
   ]
  },
  {
   "cell_type": "code",
   "execution_count": 49,
   "id": "5bd4d598",
   "metadata": {},
   "outputs": [],
   "source": [
    "# opening the file in read mode\n",
    "my_file = open('Wikipedia articles/wikipedia-vocabulary-utf8.txt', \"r\")\n",
    "# reading the file\n",
    "data = my_file.read()\n",
    "# replacing end of line('/n') with ' ' and\n",
    "# splitting the text it further when '.' is seen.\n",
    "data_into_list = data.replace('\\n', ' ').split(\" \")\n",
    "my_file.close()\n",
    "words = data_into_list"
   ]
  },
  {
   "cell_type": "code",
   "execution_count": 50,
   "id": "e1f4d46f",
   "metadata": {},
   "outputs": [
    {
     "name": "stdout",
     "output_type": "stream",
     "text": [
      "(6, 13125)\n",
      "film       0.627924\n",
      "award      0.253151\n",
      "starred    0.245303\n",
      "role       0.211467\n",
      "actress    0.186412\n",
      "Name: 3, dtype: float64\n"
     ]
    }
   ],
   "source": [
    "# Import pandas\n",
    "import pandas as pd\n",
    "\n",
    "# Create a DataFrame: components_df\n",
    "components_df = pd.DataFrame(model.components_,columns=words)\n",
    "\n",
    "# Print the shape of the DataFrame\n",
    "print(components_df.shape)\n",
    "\n",
    "# Select row 3: component\n",
    "component = components_df.iloc[3]\n",
    "\n",
    "# Print result of nlargest\n",
    "print(component.nlargest())\n"
   ]
  },
  {
   "cell_type": "markdown",
   "id": "a0050a87",
   "metadata": {},
   "source": [
    "# Explore the LED digits dataset\n",
    "In the following exercises, you'll use NMF to decompose grayscale images into their commonly occurring patterns. Firstly, explore the image dataset and see how it is encoded as an array. You are given 100 images as a 2D array samples, where each row represents a single 13x8 image. The images in your dataset are pictures of a LED digital display.\n",
    "\n",
    "Instructions\n",
    "100 XP\n",
    "- Import matplotlib.pyplot as plt.\n",
    "- Select row 0 of samples and assign the result to digit. For example, to select column 2 of an array a, you could use a[:,2]. Remember that since samples is a NumPy array, you can't use the .loc[] or iloc[] accessors to select specific rows or columns.\n",
    "- Print digit. This has been done for you. Notice that it is a 1D array of 0s and 1s.\n",
    "- Use the .reshape() method of digit to get a 2D array with shape (13, 8). Assign the result to bitmap.\n",
    "- Print bitmap, and notice that the 1s show the digit 7!\n",
    "- Use the plt.imshow() function to display bitmap as an image."
   ]
  },
  {
   "cell_type": "code",
   "execution_count": 51,
   "id": "5c5b0dba",
   "metadata": {},
   "outputs": [],
   "source": [
    "lights = np.array(pd.read_csv('lcd-digits.csv',header=None))\n",
    "samples = lights"
   ]
  },
  {
   "cell_type": "code",
   "execution_count": 52,
   "id": "1e7f8ebf",
   "metadata": {},
   "outputs": [
    {
     "name": "stdout",
     "output_type": "stream",
     "text": [
      "[0. 0. 0. 0. 0. 0. 0. 0. 0. 0. 1. 1. 1. 1. 0. 0. 0. 0. 0. 0. 0. 0. 1. 0.\n",
      " 0. 0. 0. 0. 0. 0. 1. 0. 0. 0. 0. 0. 0. 0. 1. 0. 0. 0. 0. 0. 0. 0. 1. 0.\n",
      " 0. 0. 0. 0. 0. 0. 0. 0. 0. 0. 0. 0. 0. 0. 1. 0. 0. 0. 0. 0. 0. 0. 1. 0.\n",
      " 0. 0. 0. 0. 0. 0. 1. 0. 0. 0. 0. 0. 0. 0. 1. 0. 0. 0. 0. 0. 0. 0. 0. 0.\n",
      " 0. 0. 0. 0. 0. 0. 0. 0.]\n",
      "[[0. 0. 0. 0. 0. 0. 0. 0.]\n",
      " [0. 0. 1. 1. 1. 1. 0. 0.]\n",
      " [0. 0. 0. 0. 0. 0. 1. 0.]\n",
      " [0. 0. 0. 0. 0. 0. 1. 0.]\n",
      " [0. 0. 0. 0. 0. 0. 1. 0.]\n",
      " [0. 0. 0. 0. 0. 0. 1. 0.]\n",
      " [0. 0. 0. 0. 0. 0. 0. 0.]\n",
      " [0. 0. 0. 0. 0. 0. 1. 0.]\n",
      " [0. 0. 0. 0. 0. 0. 1. 0.]\n",
      " [0. 0. 0. 0. 0. 0. 1. 0.]\n",
      " [0. 0. 0. 0. 0. 0. 1. 0.]\n",
      " [0. 0. 0. 0. 0. 0. 0. 0.]\n",
      " [0. 0. 0. 0. 0. 0. 0. 0.]]\n"
     ]
    },
    {
     "data": {
      "image/png": "[encoded data removed]",
      "text/plain": [
       "<Figure size 432x288 with 2 Axes>"
      ]
     },
     "metadata": {
      "needs_background": "light"
     },
     "output_type": "display_data"
    }
   ],
   "source": [
    "# Import pyplot\n",
    "from matplotlib import pyplot as plt\n",
    "\n",
    "# Select the 0th row: digit\n",
    "digit = samples[0]\n",
    "\n",
    "# Print digit\n",
    "print(digit)\n",
    "\n",
    "# Reshape digit to a 13x8 array: bitmap\n",
    "bitmap = digit.reshape(13,8)\n",
    "\n",
    "# Print bitmap\n",
    "print(bitmap)\n",
    "\n",
    "# Use plt.imshow to display bitmap\n",
    "plt.imshow(bitmap, cmap='gray', interpolation='nearest')\n",
    "plt.colorbar()\n",
    "plt.show()\n"
   ]
  },
  {
   "cell_type": "markdown",
   "id": "29e9431d",
   "metadata": {},
   "source": [
    "# NMF learns the parts of images\n",
    "Now use what you've learned about NMF to decompose the digits dataset. You are again given the digit images as a 2D array samples. This time, you are also provided with a function show_as_image() that displays the image encoded by any 1D array:\n",
    "`\n",
    "def show_as_image(sample):\n",
    "    bitmap = sample.reshape((13, 8))\n",
    "    plt.figure()\n",
    "    plt.imshow(bitmap, cmap='gray', interpolation='nearest')\n",
    "    plt.colorbar()\n",
    "    plt.show()`\n",
    "After you are done, take a moment to look through the plots and notice how NMF has expressed the digit as a sum of the components!\n",
    "\n",
    "Instructions\n",
    "100 XP\n",
    "- Import NMF from sklearn.decomposition.\n",
    "- Create an NMF instance called model with 7 components. (7 is the number of cells in an LED display).\n",
    "- Apply the .fit_transform() method of model to samples. Assign the result to features.\n",
    "- To each component of the model (accessed via model.components_), apply the show_as_image() function to that component inside the loop.\n",
    "- Assign the row 0 of features to digit_features.\n",
    "- Print digit_features.\n",
    "- Use the command from y import x to import x from y.\n",
    "- Use NMF() and specify the n_components parameter to create an NMF instance with the desired number of components.\n",
    "- Use model.fit_transform() with samples as the argument to fit the NMF instance to the data and apply the transformation to the data.\n",
    "- Inside the for loop, use the show_as_image() function with component as the argument.\n",
    "- To select row 0 of features, use features[0,:]."
   ]
  },
  {
   "cell_type": "code",
   "execution_count": 53,
   "id": "1d00627d",
   "metadata": {},
   "outputs": [],
   "source": [
    "def show_as_image(sample):\n",
    "    bitmap = sample.reshape((13, 8))\n",
    "    plt.figure()\n",
    "    plt.imshow(bitmap, cmap='gray', interpolation='nearest')\n",
    "    plt.colorbar()\n",
    "    plt.show()"
   ]
  },
  {
   "cell_type": "code",
   "execution_count": 54,
   "id": "5c0984d0",
   "metadata": {},
   "outputs": [
    {
     "name": "stderr",
     "output_type": "stream",
     "text": [
      "C:\\Users\\derek\\anaconda3\\lib\\site-packages\\sklearn\\decomposition\\_nmf.py:289: FutureWarning: The 'init' value, when 'init=None' and n_components is less than n_samples and n_features, will be changed from 'nndsvd' to 'nndsvda' in 1.1 (renaming of 0.26).\n",
      "  warnings.warn(\n"
     ]
    },
    {
     "data": {
      "image/png": "[encoded data removed]",
      "text/plain": [
       "<Figure size 432x288 with 2 Axes>"
      ]
     },
     "metadata": {
      "needs_background": "light"
     },
     "output_type": "display_data"
    },
    {
     "data": {
      "image/png": "[encoded data removed]",
      "text/plain": [
       "<Figure size 432x288 with 2 Axes>"
      ]
     },
     "metadata": {
      "needs_background": "light"
     },
     "output_type": "display_data"
    },
    {
     "data": {
      "image/png": "[encoded data removed]",
      "text/plain": [
       "<Figure size 432x288 with 2 Axes>"
      ]
     },
     "metadata": {
      "needs_background": "light"
     },
     "output_type": "display_data"
    },
    {
     "data": {
      "image/png": "[encoded data removed]",
      "text/plain": [
       "<Figure size 432x288 with 2 Axes>"
      ]
     },
     "metadata": {
      "needs_background": "light"
     },
     "output_type": "display_data"
    },
    {
     "data": {
      "image/png": "[encoded data removed]",
      "text/plain": [
       "<Figure size 432x288 with 2 Axes>"
      ]
     },
     "metadata": {
      "needs_background": "light"
     },
     "output_type": "display_data"
    },
    {
     "data": {
      "image/png": "[encoded data removed]",
      "text/plain": [
       "<Figure size 432x288 with 2 Axes>"
      ]
     },
     "metadata": {
      "needs_background": "light"
     },
     "output_type": "display_data"
    },
    {
     "data": {
      "image/png": "[encoded data removed]",
      "text/plain": [
       "<Figure size 432x288 with 2 Axes>"
      ]
     },
     "metadata": {
      "needs_background": "light"
     },
     "output_type": "display_data"
    },
    {
     "name": "stdout",
     "output_type": "stream",
     "text": [
      "[4.76823559e-01 0.00000000e+00 0.00000000e+00 5.90605054e-01\n",
      " 4.81559442e-01 0.00000000e+00 7.37551667e-16]\n"
     ]
    }
   ],
   "source": [
    "# Import NMF\n",
    "from sklearn.decomposition import NMF\n",
    "\n",
    "# Create an NMF model: model\n",
    "model = NMF(n_components=7)\n",
    "\n",
    "# Apply fit_transform to samples: features\n",
    "features = model.fit_transform(samples)\n",
    "\n",
    "# Call show_as_image on each component\n",
    "for component in model.components_:\n",
    "    show_as_image(component)\n",
    "\n",
    "# Assign the 0th row of features: digit_features\n",
    "digit_features = features[0]\n",
    "\n",
    "# Print digit_features\n",
    "print(digit_features)"
   ]
  },
  {
   "cell_type": "markdown",
   "id": "4f073948",
   "metadata": {},
   "source": [
    "# PCA doesn't learn parts\n",
    "Unlike NMF, PCA doesn't learn the parts of things. Its components do not correspond to topics (in the case of documents) or to parts of images, when trained on images. Verify this for yourself by inspecting the components of a PCA model fit to the dataset of LED digit images from the previous exercise. The images are available as a 2D array samples. Also available is a modified version of the show_as_image() function which colors a pixel red if the value is negative.\n",
    "\n",
    "After submitting the answer, notice that the components of PCA do not represent meaningful parts of images of LED digits!\n",
    "\n",
    "Instructions\n",
    "70 XP\n",
    "- Import PCA from sklearn.decomposition.\n",
    "- Create a PCA instance called model with 7 components.\n",
    "- Apply the .fit_transform() method of model to samples. Assign the result to features.\n",
    "- To each component of the model (accessed via model.components_), apply the show_as_image() function to that component inside the loop.\n",
    "\n",
    "- Use the command from y import x to import x from y.\n",
    "- Use PCA() and specify the n_components parameter to create PCA instance with the desired number of components.\n",
    "- Use model.fit_transform() with samples as the argument to fit the PCA instance to the data and apply the transformation to the data.\n",
    "- In the for loop, iterate over model.components_ and use the show_as_image() function with component as the argument in each iteration."
   ]
  },
  {
   "cell_type": "code",
   "execution_count": 55,
   "id": "813a5060",
   "metadata": {},
   "outputs": [],
   "source": [
    "def show_as_image(vector):\n",
    "    \"\"\"\n",
    "    Given a 1d vector representing an image, display that image in \n",
    "    black and white.  If there are negative values, then use red for \n",
    "    that pixel.\n",
    "    \"\"\"\n",
    "    bitmap = vector.reshape((13, 8))  # make a square array\n",
    "    bitmap /= np.abs(vector).max()  # normalise\n",
    "    bitmap = bitmap[:,:,np.newaxis]\n",
    "    rgb_layers = [np.abs(bitmap)] + [bitmap.clip(0)] * 2\n",
    "    rgb_bitmap = np.concatenate(rgb_layers, axis=-1)\n",
    "    plt.imshow(rgb_bitmap, interpolation='nearest')\n",
    "    plt.xticks([])\n",
    "    plt.yticks([])\n",
    "    plt.show()"
   ]
  },
  {
   "cell_type": "code",
   "execution_count": 56,
   "id": "cc14f182",
   "metadata": {},
   "outputs": [
    {
     "data": {
      "image/png": "[encoded data removed]",
      "text/plain": [
       "<Figure size 432x288 with 1 Axes>"
      ]
     },
     "metadata": {},
     "output_type": "display_data"
    },
    {
     "data": {
      "image/png": "[encoded data removed]",
      "text/plain": [
       "<Figure size 432x288 with 1 Axes>"
      ]
     },
     "metadata": {},
     "output_type": "display_data"
    },
    {
     "data": {
      "image/png": "[encoded data removed]",
      "text/plain": [
       "<Figure size 432x288 with 1 Axes>"
      ]
     },
     "metadata": {},
     "output_type": "display_data"
    },
    {
     "data": {
      "image/png": "[encoded data removed]",
      "text/plain": [
       "<Figure size 432x288 with 1 Axes>"
      ]
     },
     "metadata": {},
     "output_type": "display_data"
    },
    {
     "data": {
      "image/png": "[encoded data removed]",
      "text/plain": [
       "<Figure size 432x288 with 1 Axes>"
      ]
     },
     "metadata": {},
     "output_type": "display_data"
    },
    {
     "data": {
      "image/png": "[encoded data removed]",
      "text/plain": [
       "<Figure size 432x288 with 1 Axes>"
      ]
     },
     "metadata": {},
     "output_type": "display_data"
    },
    {
     "data": {
      "image/png": "[encoded data removed]",
      "text/plain": [
       "<Figure size 432x288 with 1 Axes>"
      ]
     },
     "metadata": {},
     "output_type": "display_data"
    }
   ],
   "source": [
    "# Import PCA\n",
    "from sklearn.decomposition import PCA\n",
    "\n",
    "# Create a PCA instance: model\n",
    "model = PCA(n_components=7)\n",
    "\n",
    "# Apply fit_transform to samples: features\n",
    "features = model.fit_transform(samples)\n",
    "\n",
    "# Call show_as_image on each component\n",
    "for component in model.components_:\n",
    "    show_as_image(component)\n",
    "    "
   ]
  },
  {
   "cell_type": "markdown",
   "id": "7b4533c8",
   "metadata": {},
   "source": [
    "# 1. Building recommender systems using NMF\n",
    "2. Finding similar articles\n",
    "Suppose that you are an engineer at a large online newspaper. You've been given the task of recommending articles that are similar to the article currently being read by a customer. Given an article, how can you find articles that have similar topics? In this video, you'll learn how to solve this problem, and others like it, by using NMF.\n",
    "\n",
    "3. Strategy\n",
    "Our strategy for solving this problem is to apply NMF to the word-frequency array of the articles, and to use the resulting NMF features. You learned in the previous videos these NMF features describe the topic mixture of an article. So similar articles will have similar NMF features. But how can two articles be compared using their NMF features? Before answering this question, let's set the scene by doing the first step.\n",
    "\n",
    "4. Apply NMF to the word-frequency array\n",
    "You are given a word frequency array articles corresponding to the collection of newspaper articles in question. Import NMF, create the model, and use the fit_transform method to obtain the transformed articles. Now we've got NMF features for every article, given by the columns of the new array.\n",
    "\n",
    "5. Strategy\n",
    "Now we need to define how to compare articles using their NMF features.\n",
    "\n",
    "6. Versions of articles\n",
    "Similar documents have similar topics, but it isn't always the case that the NMF feature values are exactly the same. For instance, one version of a document might use very direct language,\n",
    "\n",
    "7. Versions of articles\n",
    "whereas other versions might interleave the same content with meaningless chatter. Meaningless chatter reduces the frequency of the topic words overall, which reduces the values of the NMF features representing the topics.\n",
    "\n",
    "8. Versions of articles\n",
    "However, on a scatter plot of the NMF features, all these versions lie on a single line passing through the origin.\n",
    "\n",
    "9. Cosine similarity\n",
    "For this reason, when comparing two documents, it's a good idea to compare these lines. We'll compare them using what is known as the cosine similarity, which uses the angle between the two lines. Higher values indicate greater similarity. The technical definition of the cosine similarity is out the scope of this course, but we've already gained an intuition.\n",
    "\n",
    "10. Calculating the cosine similarities\n",
    "Let's see now how to compute the cosine similarity. Firstly, import the normalize function, and apply it to the array of all NMF features. Now select the row corresponding to the current article, and pass it to the dot method of the array of all normalized features. This results in the cosine similarities.\n",
    "\n",
    "11. DataFrames and labels\n",
    "With the help of a pandas DataFrame, we can label the similarities with the article titles. Start by importing pandas. After normalizing the NMF features, create a DataFrame whose rows are the normalized features, using the titles as an index. Now use the loc method of the DataFrame to select the normalized feature values for the current article, using its title 'Dog bites man'. Calculate the cosine similarities using the dot method of the DataFrame.\n",
    "\n",
    "12. DataFrames and labels\n",
    "Finally, use the nlargest method of the resulting pandas Series to find the articles with the highest cosine similarity. We see that all of them are concerned with 'domestic animals' and/or 'danger'!\n",
    "\n",
    "13. Let's practice!\n",
    "Now you've learned how to build a recommender system using NMF and the cosine similarity. Now it's time to get some practice recommending!"
   ]
  },
  {
   "cell_type": "markdown",
   "id": "4fc537ab",
   "metadata": {},
   "source": [
    "# Which articles are similar to 'Cristiano Ronaldo'?\n",
    "In the video, you learned how to use NMF features and the cosine similarity to find similar articles. Apply this to your NMF model for popular Wikipedia articles, by finding the articles most similar to the article about the footballer Cristiano Ronaldo. The NMF features you obtained earlier are available as nmf_features, while titles is a list of the article titles.\n",
    "\n",
    "Instructions\n",
    "70 XP\n",
    "- Import normalize from sklearn.preprocessing.\n",
    "- Apply the normalize() function to nmf_features. Store the result as norm_features.\n",
    "- Create a DataFrame df from norm_features, using titles as an index.\n",
    "- Use the .loc[] accessor of df to select the row of 'Cristiano Ronaldo'. Assign the result to article.\n",
    "- Apply the .dot() method of df to article to calculate the cosine similarity of every row with article.\n",
    "- Print the result of the .nlargest() method of similarities to display the most similiar articles. This has been done for you, so hit submit to see the result!\n",
    "\n",
    "\n",
    "Show Answer (-70 XP)\n",
    "Hint\n",
    "- Use the command from y import x to import x from y.\n",
    "- Use normalize(nmf_features) to normalize the features.\n",
    "- Use pd.DataFrame() with norm_features and index=titles as arguments to create the DataFrame.\n",
    "- Here's an example of using the .loc[] accessor to select a hypothetical row from df with title 'DataCamp': df.loc['DataCamp']. Do this for 'Cristiano Ronaldo'.\n",
    "- Use df.dot() with article as argument to calculate the cosine similarity."
   ]
  },
  {
   "cell_type": "code",
   "execution_count": 57,
   "id": "da7285bd",
   "metadata": {},
   "outputs": [
    {
     "name": "stdout",
     "output_type": "stream",
     "text": [
      "Cristiano Ronaldo                1.000000\n",
      "Franck Ribéry                    0.999972\n",
      "Radamel Falcao                   0.999942\n",
      "Zlatan Ibrahimović               0.999942\n",
      "France national football team    0.999923\n",
      "dtype: float64\n"
     ]
    }
   ],
   "source": [
    "# Perform the necessary imports\n",
    "import pandas as pd\n",
    "from sklearn.preprocessing import normalize\n",
    "\n",
    "# Normalize the NMF features: norm_features\n",
    "norm_features = normalize(nmf_features)\n",
    "\n",
    "# Create a DataFrame: df\n",
    "df = pd.DataFrame(norm_features,index=titles)\n",
    "\n",
    "# Select the row corresponding to 'Cristiano Ronaldo': article\n",
    "article = df.loc['Cristiano Ronaldo']\n",
    "\n",
    "# Compute the dot products: similarities\n",
    "similarities = df.dot(article)\n",
    "\n",
    "# Display those with the largest cosine similarity\n",
    "print(similarities.nlargest())"
   ]
  },
  {
   "cell_type": "markdown",
   "id": "cda131bc",
   "metadata": {},
   "source": [
    "# Recommend musical artists part I\n",
    "In this exercise and the next, you'll use what you've learned about NMF to recommend popular music artists! You are given a sparse array artists whose rows correspond to artists and whose columns correspond to users. The entries give the number of times each artist was listened to by each user.\n",
    "\n",
    "In this exercise, build a pipeline and transform the array into normalized NMF features. The first step in the pipeline, MaxAbsScaler, transforms the data so that all users have the same influence on the model, regardless of how many different artists they've listened to. In the next exercise, you'll use the resulting normalized NMF features for recommendation!\n",
    "\n",
    "Instructions\n",
    "100 XP\n",
    "Import:\n",
    "- NMF from sklearn.decomposition.\n",
    "- Normalizer and MaxAbsScaler from sklearn.preprocessing.\n",
    "make_pipeline from sklearn.pipeline.\n",
    "- Create an instance of MaxAbsScaler called scaler.\n",
    "- Create an NMF instance with 20 components called nmf.\n",
    "- Create an instance of Normalizer called normalizer.\n",
    "- Create a pipeline called pipeline that chains together scaler, nmf, and normalizer.\n",
    "- Apply the .fit_transform() method of pipeline to artists. Assign the result to norm_features."
   ]
  },
  {
   "cell_type": "code",
   "execution_count": 91,
   "id": "f242509c",
   "metadata": {},
   "outputs": [],
   "source": [
    "#df = pd.read_csv('Wikipedia articles/wikipedia-vectors.csv', index_col=0)\n",
    "df = pd.read_csv('scrobbler-small-sample.csv')\n",
    "df = df.pivot(index='artist_offset', columns='user_offset', values='playcount')\n",
    "df = df.fillna(0)\n",
    "artists = csr_matrix(df)"
   ]
  },
  {
   "cell_type": "code",
   "execution_count": 92,
   "id": "6e56148f",
   "metadata": {},
   "outputs": [],
   "source": [
    "artist_names = ['Massive Attack', 'Sublime', 'Beastie Boys', 'Neil Young', 'Dead Kennedys', 'Orbital', 'Miles Davis', 'Leonard Cohen', 'Van Morrison', 'NOFX', 'Rancid', 'Lamb', 'Korn', 'Dropkick Murphys', 'Bob Dylan', 'Eminem', 'Nirvana', 'Van Halen', 'Damien Rice', 'Elvis Costello', 'Everclear', 'Jimi Hendrix', 'PJ Harvey', 'Red Hot Chili Peppers', 'Ryan Adams', 'Soundgarden', 'The White Stripes', 'Madonna', 'Eric Clapton', 'Bob Marley', 'Dr. Dre', 'The Flaming Lips', 'Tom Waits', 'Moby', 'Cypress Hill', 'Garbage', 'Fear Factory', '50 Cent', 'Ani DiFranco', 'Matchbox Twenty', 'The Police', 'Eagles', 'Phish', 'Stone Temple Pilots', 'Black Sabbath', 'Britney Spears', 'Fatboy Slim', 'System of a Down', 'Simon & Garfunkel', 'Snoop Dogg', 'Aimee Mann', 'Less Than Jake', 'Rammstein', 'Reel Big Fish', 'The Prodigy', 'Pantera', 'Foo Fighters', 'The Beatles', 'Incubus', 'Audioslave', 'Bright Eyes', 'Machine Head', 'AC/DC', 'Dire Straits', 'MotÃ¶rhead', 'Ramones', 'Slipknot', 'Me First and the Gimme Gimmes', 'Bruce Springsteen', 'Queens of the Stone Age', 'The Chemical Brothers', 'Bon Jovi', 'Goo Goo Dolls', 'Alice in Chains', 'Howard Shore', 'Barenaked Ladies', 'Anti-Flag', 'Nick Cave and the Bad Seeds', 'Static-X', 'Misfits', '2Pac', 'Sparta', 'Interpol', 'The Crystal Method', 'The Beach Boys', 'Goldfrapp', 'Bob Marley & the Wailers', 'Kylie Minogue', 'The Blood Brothers', 'Mirah', 'Ludacris', 'Snow Patrol', 'The Mars Volta', 'Yeah Yeah Yeahs', 'Iced Earth', 'Fiona Apple', 'Rilo Kiley', 'Rufus Wainwright', 'Flogging Molly', 'Hot Hot Heat', 'Dredg', 'Switchfoot', 'Tegan and Sara', 'Rage Against the Machine', 'Keane', 'Jet', 'Franz Ferdinand', 'The Postal Service', 'The Dresden Dolls', 'The Killers', 'Death From Above 1979']\n"
   ]
  },
  {
   "cell_type": "code",
   "execution_count": 93,
   "id": "b4e7afd9",
   "metadata": {},
   "outputs": [
    {
     "name": "stderr",
     "output_type": "stream",
     "text": [
      "C:\\Users\\derek\\anaconda3\\lib\\site-packages\\sklearn\\decomposition\\_nmf.py:289: FutureWarning: The 'init' value, when 'init=None' and n_components is less than n_samples and n_features, will be changed from 'nndsvd' to 'nndsvda' in 1.1 (renaming of 0.26).\n",
      "  warnings.warn(\n"
     ]
    }
   ],
   "source": [
    "# Perform the necessary imports\n",
    "from sklearn.decomposition import NMF\n",
    "from sklearn.preprocessing import Normalizer, MaxAbsScaler\n",
    "from sklearn.pipeline import make_pipeline\n",
    "\n",
    "# Create a MaxAbsScaler: scaler\n",
    "scaler = MaxAbsScaler()\n",
    "\n",
    "# Create an NMF model: nmf\n",
    "nmf = NMF(n_components=20)\n",
    "\n",
    "# Create a Normalizer: normalizer\n",
    "normalizer = Normalizer()\n",
    "\n",
    "# Create a pipeline: pipeline\n",
    "pipeline = make_pipeline(scaler,nmf,normalizer)\n",
    "\n",
    "# Apply fit_transform to artists: norm_features\n",
    "norm_features = pipeline.fit_transform(artists)\n"
   ]
  },
  {
   "cell_type": "markdown",
   "id": "1e9fa9e8",
   "metadata": {},
   "source": [
    "# Recommend musical artists part II\n",
    "Suppose you were a big fan of Bruce Springsteen - which other musicial artists might you like? Use your NMF features from the previous exercise and the cosine similarity to find similar musical artists. A solution to the previous exercise has been run, so norm_features is an array containing the normalized NMF features as rows. The names of the musical artists are available as the list artist_names.\n",
    "\n",
    "Instructions\n",
    "70 XP\n",
    "- Import pandas as pd.\n",
    "- Create a DataFrame df from norm_features, using artist_names as an index.\n",
    "- Use the .loc[] accessor of df to select the row of 'Bruce Springsteen'. Assign the result to artist.\n",
    "- Apply the .dot() method of df to artist to calculate the dot product of every row with artist. Save the result as similarities.\n",
    "- Print the result of the .nlargest() method of similarities to display the artists most similar to 'Bruce Springsteen'.\n",
    "\n",
    "- Use the command import x as y to import x as y.\n",
    "- Use the pd.DataFrame() function with norm_features and index=artist_names as arguments to create the index.\n",
    "- Pass in 'Bruce Springsteen' to df.loc[] to select the row of 'Bruce Springsteen'.\n",
    "- Use df.dot() with artist as the argument to calculate the dot product of every row with artist.\n",
    "- Place similarities.nlargest() inside a call to print() to display the artists most similar to 'Bruce Springsteen'."
   ]
  },
  {
   "cell_type": "code",
   "execution_count": 94,
   "id": "66cd17db",
   "metadata": {},
   "outputs": [
    {
     "name": "stdout",
     "output_type": "stream",
     "text": [
      "Bruce Springsteen    1.000000\n",
      "Neil Young           0.958169\n",
      "Van Morrison         0.878311\n",
      "Leonard Cohen        0.868912\n",
      "Bob Dylan            0.866946\n",
      "dtype: float64\n"
     ]
    }
   ],
   "source": [
    "# Import pandas\n",
    "import pandas as pd\n",
    "\n",
    "# Create a DataFrame: df\n",
    "df = pd.DataFrame(norm_features,index = artist_names)\n",
    "\n",
    "# Select row of 'Bruce Springsteen': artist\n",
    "artist = df.loc['Bruce Springsteen']\n",
    "\n",
    "# Compute cosine similarities: similarities\n",
    "similarities = df.dot(artist)\n",
    "\n",
    "# Display those with highest cosine similarity\n",
    "print(similarities.nlargest())\n"
   ]
  },
  {
   "cell_type": "markdown",
   "id": "6c653742",
   "metadata": {},
   "source": [
    "# 1. Final thoughts\n",
    "Congratulations, you sure have come a long way! You've learned all about Unsupervised Learning, and applied the techniques to real-world datasets, and built your knowledge of Python along the way. In particular, you've become a whiz at using scikit-learn and scipy for unsupervised learning challenges. You have harnessed both clustering and dimension reduction techniques to tackle serious problems with real-world datasets, such as clustering Wikipedia documents by the words they contain, and recommending musical artists to consumers.\n",
    "\n",
    "2. Congratulations!\n",
    "You are now equipped to face a whole range of new challenges. Congratulations, once again, and keep coding!"
   ]
  },
  {
   "cell_type": "code",
   "execution_count": null,
   "id": "401a750b",
   "metadata": {},
   "outputs": [],
   "source": []
  }
 ],
 "metadata": {
  "kernelspec": {
   "display_name": "Python 3 (ipykernel)",
   "language": "python",
   "name": "python3"
  },
  "language_info": {
   "codemirror_mode": {
    "name": "ipython",
    "version": 3
   },
   "file_extension": ".py",
   "mimetype": "text/x-python",
   "name": "python",
   "nbconvert_exporter": "python",
   "pygments_lexer": "ipython3",
   "version": "3.8.12"
  }
 },
 "nbformat": 4,
 "nbformat_minor": 5
}
