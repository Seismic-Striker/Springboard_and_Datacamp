{
 "cells": [
  {
   "cell_type": "markdown",
   "id": "9f55af2c",
   "metadata": {},
   "source": [
    "# Tipico Sport book Junior QTA"
   ]
  },
  {
   "cell_type": "markdown",
   "id": "74eed677",
   "metadata": {},
   "source": [
    "# Question 1\n",
    "\n",
    "#### What is being displayed for this Ice Hockey match?\n",
    "These are the possible score outcomes and their probabilities in percentages\n",
    "\n",
    "#### Which markets would you be able to compile?\n",
    "Line Bets\n",
    "over/unders\n",
    "Money Lines\n",
    "#### Price those markets\n",
    "I Couldn't find online what formulas to use to determine these numbers, but I'm very interested in learning. \n"
   ]
  },
  {
   "cell_type": "markdown",
   "id": "cdc31e4c",
   "metadata": {},
   "source": [
    "# Question 2 Given the odds below please calculate the margin or 'juice' built into each odd"
   ]
  },
  {
   "cell_type": "markdown",
   "id": "af9605fc",
   "metadata": {},
   "source": [
    "Juice in sports better is the cut a sportsbook takes from every bet"
   ]
  },
  {
   "cell_type": "code",
   "execution_count": 1,
   "id": "b959566b",
   "metadata": {},
   "outputs": [],
   "source": [
    "def implied_probability(team_a_odds):\n",
    "    if team_a_odds <= 0:\n",
    "        prob = abs(team_a_odds)/(abs(team_a_odds)+100)*100\n",
    "    else:\n",
    "        prob =100/(team_a_odds+100)*100\n",
    "    return prob"
   ]
  },
  {
   "cell_type": "code",
   "execution_count": 2,
   "id": "ba7bd954",
   "metadata": {},
   "outputs": [
    {
     "data": {
      "text/plain": [
       "66.66666666666666"
      ]
     },
     "execution_count": 2,
     "metadata": {},
     "output_type": "execute_result"
    }
   ],
   "source": [
    "implied_probability(-200)"
   ]
  },
  {
   "cell_type": "code",
   "execution_count": 3,
   "id": "09c38654",
   "metadata": {},
   "outputs": [],
   "source": [
    "def juice(team_a_odds, team_b_odds):\n",
    "    return implied_probability(team_a_odds)+implied_probability(team_b_odds)-100"
   ]
  },
  {
   "cell_type": "code",
   "execution_count": 4,
   "id": "11986f21",
   "metadata": {},
   "outputs": [
    {
     "data": {
      "text/plain": [
       "3.787878787878782"
      ]
     },
     "execution_count": 4,
     "metadata": {},
     "output_type": "execute_result"
    }
   ],
   "source": [
    "juice(-140,120)"
   ]
  },
  {
   "cell_type": "code",
   "execution_count": 5,
   "id": "bef7613b",
   "metadata": {},
   "outputs": [],
   "source": [
    "def no_juice(team_a_odds,team_b_odds):\n",
    "    teama = implied_probability(team_a_odds)/(implied_probability(team_a_odds)+implied_probability(team_b_odds))\n",
    "    teamb = implied_probability(team_b_odds)/(implied_probability(team_a_odds)+implied_probability(team_b_odds))\n",
    "    return (teama,teamb)"
   ]
  },
  {
   "cell_type": "code",
   "execution_count": 6,
   "id": "c81bc4a7",
   "metadata": {},
   "outputs": [
    {
     "data": {
      "text/plain": [
       "(0.12844036697247707, 0.8715596330275229)"
      ]
     },
     "execution_count": 6,
     "metadata": {},
     "output_type": "execute_result"
    }
   ],
   "source": [
    "no_juice(+650,-950)"
   ]
  },
  {
   "cell_type": "code",
   "execution_count": 7,
   "id": "f5a37755",
   "metadata": {},
   "outputs": [
    {
     "data": {
      "text/plain": [
       "58.15899581589959"
      ]
     },
     "execution_count": 7,
     "metadata": {},
     "output_type": "execute_result"
    }
   ],
   "source": [
    "implied_probability(-139)"
   ]
  },
  {
   "cell_type": "code",
   "execution_count": 8,
   "id": "99e0d2e3",
   "metadata": {},
   "outputs": [
    {
     "data": {
      "text/plain": [
       "5.516154452324656"
      ]
     },
     "execution_count": 8,
     "metadata": {},
     "output_type": "execute_result"
    }
   ],
   "source": [
    "line_bet = juice(135,-170)\n",
    "line_bet"
   ]
  },
  {
   "cell_type": "code",
   "execution_count": 9,
   "id": "d89b34a3",
   "metadata": {},
   "outputs": [
    {
     "data": {
      "text/plain": [
       "5.179193349061904"
      ]
     },
     "execution_count": 9,
     "metadata": {},
     "output_type": "execute_result"
    }
   ],
   "source": [
    "over_under = juice(-107,-115)\n",
    "over_under"
   ]
  },
  {
   "cell_type": "code",
   "execution_count": 10,
   "id": "cf8c3a00",
   "metadata": {},
   "outputs": [
    {
     "data": {
      "text/plain": [
       "5.060506050605056"
      ]
     },
     "execution_count": 10,
     "metadata": {},
     "output_type": "execute_result"
    }
   ],
   "source": [
    "moneyline = juice(-125,102)\n",
    "moneyline"
   ]
  },
  {
   "cell_type": "markdown",
   "id": "75b7bf8b",
   "metadata": {},
   "source": [
    "## The juice of the line bet is 5.52, over/under is 5.18, moneyline is 5.06"
   ]
  },
  {
   "cell_type": "markdown",
   "id": "b08774e2",
   "metadata": {},
   "source": [
    "# QUESTION 3: Come up with 1-2 novelty markets for the upcoming NFL season & determine the odds for who will ahve the most recieviing yards by the end of the NFL season, Stefon Diggs or Tyreek Hill"
   ]
  },
  {
   "cell_type": "markdown",
   "id": "976b285a",
   "metadata": {},
   "source": [
    "### Some novelty markets could be \"Game with most field goals this week\" or \"Game with least throwing touchdowns by both teams\"\n",
    "\n",
    "### I have not found a resource online that teaches these kinds of math skills. I am eager to learn. "
   ]
  },
  {
   "cell_type": "markdown",
   "id": "158d7eeb",
   "metadata": {},
   "source": [
    "# Question 4 ANSWERS"
   ]
  },
  {
   "cell_type": "code",
   "execution_count": 11,
   "id": "147e658f",
   "metadata": {},
   "outputs": [],
   "source": [
    "import pandas as pd\n",
    "import numpy as np\n",
    "import matplotlib.pyplot as plt\n",
    "import seaborn as sns\n",
    "sns.set_theme()"
   ]
  },
  {
   "cell_type": "code",
   "execution_count": 12,
   "id": "d5ff9961",
   "metadata": {},
   "outputs": [],
   "source": [
    "data = pd.read_csv('Junior_QTA_Python_Test.csv')"
   ]
  },
  {
   "cell_type": "code",
   "execution_count": 13,
   "id": "0170e6f9",
   "metadata": {},
   "outputs": [
    {
     "data": {
      "text/html": [
       "<div>\n",
       "<style scoped>\n",
       "    .dataframe tbody tr th:only-of-type {\n",
       "        vertical-align: middle;\n",
       "    }\n",
       "\n",
       "    .dataframe tbody tr th {\n",
       "        vertical-align: top;\n",
       "    }\n",
       "\n",
       "    .dataframe thead th {\n",
       "        text-align: right;\n",
       "    }\n",
       "</style>\n",
       "<table border=\"1\" class=\"dataframe\">\n",
       "  <thead>\n",
       "    <tr style=\"text-align: right;\">\n",
       "      <th></th>\n",
       "      <th>shape</th>\n",
       "      <th>color</th>\n",
       "      <th>area</th>\n",
       "    </tr>\n",
       "  </thead>\n",
       "  <tbody>\n",
       "    <tr>\n",
       "      <th>0</th>\n",
       "      <td>square</td>\n",
       "      <td>yellow</td>\n",
       "      <td>9409.0</td>\n",
       "    </tr>\n",
       "    <tr>\n",
       "      <th>1</th>\n",
       "      <td>circle</td>\n",
       "      <td>yellow</td>\n",
       "      <td>4071.5</td>\n",
       "    </tr>\n",
       "    <tr>\n",
       "      <th>2</th>\n",
       "      <td>triangle</td>\n",
       "      <td>blue</td>\n",
       "      <td>2028.0</td>\n",
       "    </tr>\n",
       "    <tr>\n",
       "      <th>3</th>\n",
       "      <td>square</td>\n",
       "      <td>blue</td>\n",
       "      <td>3025.0</td>\n",
       "    </tr>\n",
       "    <tr>\n",
       "      <th>4</th>\n",
       "      <td>square</td>\n",
       "      <td>blue</td>\n",
       "      <td>9216.0</td>\n",
       "    </tr>\n",
       "  </tbody>\n",
       "</table>\n",
       "</div>"
      ],
      "text/plain": [
       "      shape   color    area\n",
       "0    square  yellow  9409.0\n",
       "1    circle  yellow  4071.5\n",
       "2  triangle    blue  2028.0\n",
       "3    square    blue  3025.0\n",
       "4    square    blue  9216.0"
      ]
     },
     "execution_count": 13,
     "metadata": {},
     "output_type": "execute_result"
    }
   ],
   "source": [
    "data.head()"
   ]
  },
  {
   "cell_type": "code",
   "execution_count": 14,
   "id": "ccc41fa7",
   "metadata": {},
   "outputs": [
    {
     "name": "stdout",
     "output_type": "stream",
     "text": [
      "<class 'pandas.core.frame.DataFrame'>\n",
      "RangeIndex: 1000 entries, 0 to 999\n",
      "Data columns (total 3 columns):\n",
      " #   Column  Non-Null Count  Dtype  \n",
      "---  ------  --------------  -----  \n",
      " 0   shape   1000 non-null   object \n",
      " 1   color   1000 non-null   object \n",
      " 2   area    1000 non-null   float64\n",
      "dtypes: float64(1), object(2)\n",
      "memory usage: 23.6+ KB\n"
     ]
    }
   ],
   "source": [
    "data.info()"
   ]
  },
  {
   "cell_type": "markdown",
   "id": "70e06067",
   "metadata": {},
   "source": [
    "## Draw a boxplot showing the area size distribution for each shape"
   ]
  },
  {
   "cell_type": "code",
   "execution_count": 15,
   "id": "fca62e7d",
   "metadata": {},
   "outputs": [
    {
     "data": {
      "image/png": "[encoded data removed]",
      "text/plain": [
       "<Figure size 360x360 with 1 Axes>"
      ]
     },
     "metadata": {},
     "output_type": "display_data"
    }
   ],
   "source": [
    "_ =sns.catplot(x=\"shape\", y=\"area\", kind=\"box\", data=data)\n",
    "plt.show()"
   ]
  },
  {
   "cell_type": "markdown",
   "id": "f76f7172",
   "metadata": {},
   "source": [
    "## Calculate the mean, max, and standard deviation of the are size of each color"
   ]
  },
  {
   "cell_type": "code",
   "execution_count": 16,
   "id": "9e96a252",
   "metadata": {},
   "outputs": [
    {
     "data": {
      "text/plain": [
       "array(['yellow', 'blue', 'red', 'green'], dtype=object)"
      ]
     },
     "execution_count": 16,
     "metadata": {},
     "output_type": "execute_result"
    }
   ],
   "source": [
    "data.color.unique()"
   ]
  },
  {
   "cell_type": "code",
   "execution_count": 17,
   "id": "2371eb6a",
   "metadata": {},
   "outputs": [],
   "source": [
    "yellow = data.loc[data.color=='yellow'].reset_index()\n",
    "blue = data.loc[data.color=='blue'].reset_index()\n",
    "red = data.loc[data.color=='red'].reset_index()\n",
    "green = data.loc[data.color=='green'].reset_index()\n",
    "colors = [yellow,blue,red,green]"
   ]
  },
  {
   "cell_type": "code",
   "execution_count": 18,
   "id": "7d7a4da4",
   "metadata": {},
   "outputs": [
    {
     "name": "stdout",
     "output_type": "stream",
     "text": [
      "<class 'pandas.core.frame.DataFrame'>\n"
     ]
    }
   ],
   "source": [
    "print(type(yellow))"
   ]
  },
  {
   "cell_type": "code",
   "execution_count": 19,
   "id": "cb372438",
   "metadata": {},
   "outputs": [
    {
     "data": {
      "text/plain": [
       "3815.8710344827646"
      ]
     },
     "execution_count": 19,
     "metadata": {},
     "output_type": "execute_result"
    }
   ],
   "source": [
    "np.mean(red.area)"
   ]
  },
  {
   "cell_type": "code",
   "execution_count": 20,
   "id": "9484c530",
   "metadata": {},
   "outputs": [
    {
     "name": "stdout",
     "output_type": "stream",
     "text": [
      "yellow\n",
      "mean:  4538.208088235295\n",
      "max  31415.9\n",
      "standard deviation:  5342.612436443197\n",
      "blue\n",
      "mean:  3208.1316666666735\n",
      "max  21642.4\n",
      "standard deviation:  3034.9889002812765\n",
      "red\n",
      "mean:  3815.8710344827646\n",
      "max  31415.9\n",
      "standard deviation:  5083.890314362747\n",
      "green\n",
      "mean:  5761.119230769232\n",
      "max  27759.1\n",
      "standard deviation:  6651.974306984657\n"
     ]
    }
   ],
   "source": [
    "for color in colors:\n",
    "    print(color.color[0])\n",
    "    print('mean: ',np.mean(color.area))\n",
    "    print('max ',np.max(color.area))\n",
    "    print('standard deviation: ',np.std(color.area))"
   ]
  },
  {
   "cell_type": "markdown",
   "id": "0789b597",
   "metadata": {},
   "source": [
    "## What is the average area size of a yellow square?"
   ]
  },
  {
   "cell_type": "code",
   "execution_count": 21,
   "id": "b9610c31",
   "metadata": {},
   "outputs": [
    {
     "data": {
      "text/plain": [
       "3333.2072072072074"
      ]
     },
     "execution_count": 21,
     "metadata": {},
     "output_type": "execute_result"
    }
   ],
   "source": [
    "yellow_sq = yellow.loc[yellow['shape']=='square']\n",
    "np.mean(yellow_sq.area)"
   ]
  },
  {
   "cell_type": "markdown",
   "id": "05ae76f8",
   "metadata": {},
   "source": [
    "## Which shape is most likely to be green?"
   ]
  },
  {
   "cell_type": "code",
   "execution_count": 22,
   "id": "ba2b53b1",
   "metadata": {},
   "outputs": [
    {
     "data": {
      "text/plain": [
       "array(['square', 'circle', 'triangle'], dtype=object)"
      ]
     },
     "execution_count": 22,
     "metadata": {},
     "output_type": "execute_result"
    }
   ],
   "source": [
    "data['shape'].unique()"
   ]
  },
  {
   "cell_type": "code",
   "execution_count": 23,
   "id": "925be595",
   "metadata": {},
   "outputs": [],
   "source": [
    "square = data.loc[data['shape']=='square'].reset_index()\n",
    "circle = data.loc[data['shape']=='circle'].reset_index()\n",
    "triangle = data.loc[data['shape']=='triangle'].reset_index()\n",
    "shapes = [square,circle,triangle]"
   ]
  },
  {
   "cell_type": "code",
   "execution_count": 24,
   "id": "986a487c",
   "metadata": {},
   "outputs": [
    {
     "name": "stdout",
     "output_type": "stream",
     "text": [
      "square\n",
      "yellow    46.540881\n",
      "blue      31.865828\n",
      "red       11.740042\n",
      "green      9.853249\n",
      "Name: color, dtype: float64\n"
     ]
    },
    {
     "data": {
      "image/png": "[encoded data removed]",
      "text/plain": [
       "<Figure size 432x288 with 1 Axes>"
      ]
     },
     "metadata": {},
     "output_type": "display_data"
    },
    {
     "name": "stdout",
     "output_type": "stream",
     "text": [
      "circle\n",
      "yellow    41.666667\n",
      "green     25.833333\n",
      "red       25.000000\n",
      "blue       7.500000\n",
      "Name: color, dtype: float64\n"
     ]
    },
    {
     "data": {
      "image/png": "[encoded data removed]",
      "text/plain": [
       "<Figure size 432x288 with 1 Axes>"
      ]
     },
     "metadata": {},
     "output_type": "display_data"
    },
    {
     "name": "stdout",
     "output_type": "stream",
     "text": [
      "triangle\n",
      "red     50.620347\n",
      "blue    49.379653\n",
      "Name: color, dtype: float64\n"
     ]
    },
    {
     "data": {
      "image/png": "[encoded data removed]",
      "text/plain": [
       "<Figure size 432x288 with 1 Axes>"
      ]
     },
     "metadata": {},
     "output_type": "display_data"
    }
   ],
   "source": [
    "for shape in shapes:\n",
    "    print(shape['shape'][0])\n",
    "    print(shape['color'].value_counts(normalize=True)*100)\n",
    "    sns.histplot(x='color',data=shape)\n",
    "    plt.show()"
   ]
  },
  {
   "cell_type": "code",
   "execution_count": 25,
   "id": "40ec5acf",
   "metadata": {},
   "outputs": [
    {
     "data": {
      "image/png": "[encoded data removed]",
      "text/plain": [
       "<Figure size 432x288 with 1 Axes>"
      ]
     },
     "metadata": {},
     "output_type": "display_data"
    }
   ],
   "source": [
    "_ = sns.histplot(x='color',data=data,hue='shape')\n",
    "plt.show()"
   ]
  },
  {
   "cell_type": "markdown",
   "id": "9aa10f14",
   "metadata": {},
   "source": [
    "#### Circles are the most likely to be green at a 25% rate"
   ]
  },
  {
   "cell_type": "markdown",
   "id": "11d49426",
   "metadata": {},
   "source": [
    "# Give the fact that the object is red, with an area size larger than 3000 - what are the chances the object is a square? a triangle? a circle? (give an explanation of how we would covert those probabilities to odds)"
   ]
  },
  {
   "cell_type": "code",
   "execution_count": 26,
   "id": "89251234",
   "metadata": {},
   "outputs": [],
   "source": [
    "big_red = red.loc[red['area']>3000].reset_index()"
   ]
  },
  {
   "cell_type": "code",
   "execution_count": 27,
   "id": "53432356",
   "metadata": {},
   "outputs": [
    {
     "name": "stdout",
     "output_type": "stream",
     "text": [
      "Percents\n",
      "triangle    67.2\n",
      "square      16.8\n",
      "circle      16.0\n",
      "Name: shape, dtype: float64\n",
      "triangle    84\n",
      "square      21\n",
      "circle      20\n",
      "Name: shape, dtype: int64\n"
     ]
    },
    {
     "data": {
      "image/png": "[encoded data removed]",
      "text/plain": [
       "<Figure size 432x288 with 1 Axes>"
      ]
     },
     "metadata": {},
     "output_type": "display_data"
    }
   ],
   "source": [
    "_=sns.histplot(x='shape',data=big_red)\n",
    "print('Percents')\n",
    "print(big_red['shape'].value_counts(normalize=True)*100)\n",
    "print(big_red['shape'].value_counts())\n",
    "plt.show()"
   ]
  },
  {
   "cell_type": "code",
   "execution_count": 28,
   "id": "bc84297a",
   "metadata": {},
   "outputs": [],
   "source": [
    "shape_count = big_red['shape'].value_counts()"
   ]
  },
  {
   "cell_type": "code",
   "execution_count": 29,
   "id": "75aff57c",
   "metadata": {},
   "outputs": [],
   "source": [
    "shape_count = np.array(shape_count)"
   ]
  },
  {
   "cell_type": "code",
   "execution_count": 30,
   "id": "3f2dc872",
   "metadata": {},
   "outputs": [
    {
     "name": "stdout",
     "output_type": "stream",
     "text": [
      "67.2\n",
      "16.8\n",
      "16.0\n"
     ]
    }
   ],
   "source": [
    "for shape in range(3):\n",
    "    results = shape_count[shape]/np.sum(shape_count)*100\n",
    "    print(results) "
   ]
  },
  {
   "cell_type": "code",
   "execution_count": 31,
   "id": "743a0aa4",
   "metadata": {},
   "outputs": [
    {
     "data": {
      "text/plain": [
       "array([84, 21, 20], dtype=int64)"
      ]
     },
     "execution_count": 31,
     "metadata": {},
     "output_type": "execute_result"
    }
   ],
   "source": [
    "shape_count"
   ]
  },
  {
   "cell_type": "markdown",
   "id": "3b19e983",
   "metadata": {},
   "source": [
    "With 84 traingles, 21 squares, and 20 circles, the odds of these probabilities become a ratio of the possibilities. the odds for triangles would be 84:41,  or close to 2:1, while the square and circle would be 21:104 and 20:105 or close to 1:5 respectively. "
   ]
  },
  {
   "cell_type": "markdown",
   "id": "ee0afb90",
   "metadata": {},
   "source": [
    "# Create a dataframe to show the proprotion of red objects within the shape"
   ]
  },
  {
   "cell_type": "code",
   "execution_count": 32,
   "id": "8418a310",
   "metadata": {},
   "outputs": [],
   "source": [
    "square.loc[square['color'] !='red', 'red,y,n'] = \"other\"\n",
    "square.loc[square['color'] =='red', 'red,y,n'] = \"red\""
   ]
  },
  {
   "cell_type": "code",
   "execution_count": 33,
   "id": "edf1c516",
   "metadata": {},
   "outputs": [
    {
     "data": {
      "text/html": [
       "<div>\n",
       "<style scoped>\n",
       "    .dataframe tbody tr th:only-of-type {\n",
       "        vertical-align: middle;\n",
       "    }\n",
       "\n",
       "    .dataframe tbody tr th {\n",
       "        vertical-align: top;\n",
       "    }\n",
       "\n",
       "    .dataframe thead th {\n",
       "        text-align: right;\n",
       "    }\n",
       "</style>\n",
       "<table border=\"1\" class=\"dataframe\">\n",
       "  <thead>\n",
       "    <tr style=\"text-align: right;\">\n",
       "      <th></th>\n",
       "      <th>index</th>\n",
       "      <th>shape</th>\n",
       "      <th>color</th>\n",
       "      <th>area</th>\n",
       "      <th>red,y,n</th>\n",
       "    </tr>\n",
       "  </thead>\n",
       "  <tbody>\n",
       "    <tr>\n",
       "      <th>0</th>\n",
       "      <td>0</td>\n",
       "      <td>square</td>\n",
       "      <td>yellow</td>\n",
       "      <td>9409.0</td>\n",
       "      <td>other</td>\n",
       "    </tr>\n",
       "    <tr>\n",
       "      <th>1</th>\n",
       "      <td>3</td>\n",
       "      <td>square</td>\n",
       "      <td>blue</td>\n",
       "      <td>3025.0</td>\n",
       "      <td>other</td>\n",
       "    </tr>\n",
       "    <tr>\n",
       "      <th>2</th>\n",
       "      <td>4</td>\n",
       "      <td>square</td>\n",
       "      <td>blue</td>\n",
       "      <td>9216.0</td>\n",
       "      <td>other</td>\n",
       "    </tr>\n",
       "    <tr>\n",
       "      <th>3</th>\n",
       "      <td>5</td>\n",
       "      <td>square</td>\n",
       "      <td>yellow</td>\n",
       "      <td>4356.0</td>\n",
       "      <td>other</td>\n",
       "    </tr>\n",
       "    <tr>\n",
       "      <th>4</th>\n",
       "      <td>8</td>\n",
       "      <td>square</td>\n",
       "      <td>yellow</td>\n",
       "      <td>1156.0</td>\n",
       "      <td>other</td>\n",
       "    </tr>\n",
       "    <tr>\n",
       "      <th>...</th>\n",
       "      <td>...</td>\n",
       "      <td>...</td>\n",
       "      <td>...</td>\n",
       "      <td>...</td>\n",
       "      <td>...</td>\n",
       "    </tr>\n",
       "    <tr>\n",
       "      <th>472</th>\n",
       "      <td>992</td>\n",
       "      <td>square</td>\n",
       "      <td>blue</td>\n",
       "      <td>5625.0</td>\n",
       "      <td>other</td>\n",
       "    </tr>\n",
       "    <tr>\n",
       "      <th>473</th>\n",
       "      <td>994</td>\n",
       "      <td>square</td>\n",
       "      <td>blue</td>\n",
       "      <td>625.0</td>\n",
       "      <td>other</td>\n",
       "    </tr>\n",
       "    <tr>\n",
       "      <th>474</th>\n",
       "      <td>995</td>\n",
       "      <td>square</td>\n",
       "      <td>green</td>\n",
       "      <td>81.0</td>\n",
       "      <td>other</td>\n",
       "    </tr>\n",
       "    <tr>\n",
       "      <th>475</th>\n",
       "      <td>996</td>\n",
       "      <td>square</td>\n",
       "      <td>yellow</td>\n",
       "      <td>4624.0</td>\n",
       "      <td>other</td>\n",
       "    </tr>\n",
       "    <tr>\n",
       "      <th>476</th>\n",
       "      <td>998</td>\n",
       "      <td>square</td>\n",
       "      <td>yellow</td>\n",
       "      <td>7396.0</td>\n",
       "      <td>other</td>\n",
       "    </tr>\n",
       "  </tbody>\n",
       "</table>\n",
       "<p>477 rows × 5 columns</p>\n",
       "</div>"
      ],
      "text/plain": [
       "     index   shape   color    area red,y,n\n",
       "0        0  square  yellow  9409.0   other\n",
       "1        3  square    blue  3025.0   other\n",
       "2        4  square    blue  9216.0   other\n",
       "3        5  square  yellow  4356.0   other\n",
       "4        8  square  yellow  1156.0   other\n",
       "..     ...     ...     ...     ...     ...\n",
       "472    992  square    blue  5625.0   other\n",
       "473    994  square    blue   625.0   other\n",
       "474    995  square   green    81.0   other\n",
       "475    996  square  yellow  4624.0   other\n",
       "476    998  square  yellow  7396.0   other\n",
       "\n",
       "[477 rows x 5 columns]"
      ]
     },
     "execution_count": 33,
     "metadata": {},
     "output_type": "execute_result"
    }
   ],
   "source": [
    "square"
   ]
  },
  {
   "cell_type": "code",
   "execution_count": 34,
   "id": "8a051c9f",
   "metadata": {},
   "outputs": [
    {
     "name": "stdout",
     "output_type": "stream",
     "text": [
      "Square\n"
     ]
    },
    {
     "data": {
      "image/png": "[encoded data removed]",
      "text/plain": [
       "<Figure size 432x288 with 1 Axes>"
      ]
     },
     "metadata": {},
     "output_type": "display_data"
    }
   ],
   "source": [
    "print('Square')\n",
    "square['red,y,n'].value_counts().plot(kind='bar')\n",
    "plt.show()"
   ]
  },
  {
   "cell_type": "code",
   "execution_count": 35,
   "id": "d9981cfa",
   "metadata": {},
   "outputs": [],
   "source": [
    "triangle.loc[triangle['color'] !='red', 'red,y,n'] = \"other\"\n",
    "triangle.loc[triangle['color'] =='red', 'red,y,n'] = \"red\""
   ]
  },
  {
   "cell_type": "code",
   "execution_count": 36,
   "id": "badb875f",
   "metadata": {},
   "outputs": [
    {
     "name": "stdout",
     "output_type": "stream",
     "text": [
      "Triangle\n"
     ]
    },
    {
     "data": {
      "image/png": "[encoded data removed]",
      "text/plain": [
       "<Figure size 432x288 with 1 Axes>"
      ]
     },
     "metadata": {},
     "output_type": "display_data"
    }
   ],
   "source": [
    "print('Triangle')\n",
    "triangle['red,y,n'].value_counts().plot(kind='bar')\n",
    "plt.show()"
   ]
  },
  {
   "cell_type": "code",
   "execution_count": 37,
   "id": "c3a8d840",
   "metadata": {},
   "outputs": [],
   "source": [
    "circle.loc[circle['color'] !='red', 'red,y,n'] = \"other\"\n",
    "circle.loc[circle['color'] =='red', 'red,y,n'] = \"red\""
   ]
  },
  {
   "cell_type": "code",
   "execution_count": 38,
   "id": "6ee72ebf",
   "metadata": {},
   "outputs": [
    {
     "name": "stdout",
     "output_type": "stream",
     "text": [
      "Circles\n"
     ]
    },
    {
     "data": {
      "image/png": "[encoded data removed]",
      "text/plain": [
       "<Figure size 432x288 with 1 Axes>"
      ]
     },
     "metadata": {},
     "output_type": "display_data"
    }
   ],
   "source": [
    "print('Circles')\n",
    "circle['red,y,n'].value_counts().plot(kind='bar')\n",
    "plt.show()"
   ]
  },
  {
   "cell_type": "markdown",
   "id": "866587ba",
   "metadata": {},
   "source": [
    "# The Proportion of the blue area out of the shapes total area"
   ]
  },
  {
   "cell_type": "code",
   "execution_count": 39,
   "id": "0fb3d13e",
   "metadata": {},
   "outputs": [
    {
     "data": {
      "text/plain": [
       "shape\n",
       "circle      1284417.9\n",
       "square      1627190.0\n",
       "triangle    1033682.0\n",
       "Name: area, dtype: float64"
      ]
     },
     "execution_count": 39,
     "metadata": {},
     "output_type": "execute_result"
    }
   ],
   "source": [
    "data.groupby('shape').area.sum()"
   ]
  },
  {
   "cell_type": "code",
   "execution_count": 40,
   "id": "6958ac78",
   "metadata": {},
   "outputs": [
    {
     "data": {
      "text/plain": [
       "shape\n",
       "circle       78665.4\n",
       "square      586415.0\n",
       "triangle    489847.0\n",
       "Name: area, dtype: float64"
      ]
     },
     "execution_count": 40,
     "metadata": {},
     "output_type": "execute_result"
    }
   ],
   "source": [
    "blue.groupby('shape').area.sum()"
   ]
  },
  {
   "cell_type": "code",
   "execution_count": 41,
   "id": "4963ea75",
   "metadata": {
    "scrolled": true
   },
   "outputs": [
    {
     "data": {
      "text/plain": [
       "shape\n",
       "circle       6.124595\n",
       "square      36.038508\n",
       "triangle    47.388559\n",
       "Name: area, dtype: float64"
      ]
     },
     "execution_count": 41,
     "metadata": {},
     "output_type": "execute_result"
    }
   ],
   "source": [
    "blue.groupby('shape').area.sum()/data.groupby('shape').area.sum()*100"
   ]
  },
  {
   "cell_type": "code",
   "execution_count": null,
   "id": "e6ac3aff",
   "metadata": {},
   "outputs": [],
   "source": []
  }
 ],
 "metadata": {
  "kernelspec": {
   "display_name": "Python 3 (ipykernel)",
   "language": "python",
   "name": "python3"
  },
  "language_info": {
   "codemirror_mode": {
    "name": "ipython",
    "version": 3
   },
   "file_extension": ".py",
   "mimetype": "text/x-python",
   "name": "python",
   "nbconvert_exporter": "python",
   "pygments_lexer": "ipython3",
   "version": "3.9.12"
  }
 },
 "nbformat": 4,
 "nbformat_minor": 5
}
