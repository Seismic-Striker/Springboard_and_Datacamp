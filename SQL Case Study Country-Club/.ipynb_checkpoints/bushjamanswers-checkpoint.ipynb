{
 "cells": [
  {
   "cell_type": "markdown",
   "id": "e5e93c34",
   "metadata": {},
   "source": [
    "Produce a list of bookings on the day of 2012-09-14 which\n",
    "will cost the member (or guest) more than $30. Remember that guests have\n",
    "different costs to members (the listed costs are per half-hour 'slot'), and\n",
    "the guest user's ID is always 0. Include in your output the name of the\n",
    "facility, the name of the member formatted as a single column, and the cost.\n",
    "Order by descending cost, and do not use any subqueries."
   ]
  },
  {
   "cell_type": "markdown",
   "id": "a614fa04-7f25-41a1-a1a5-91aca1dc72e1",
   "metadata": {
    "tags": []
   },
   "source": [
    "### Setup Connection Functions"
   ]
  },
  {
   "cell_type": "code",
   "execution_count": 1,
   "id": "de4610f3",
   "metadata": {
    "jupyter": {
     "source_hidden": true
    },
    "tags": []
   },
   "outputs": [],
   "source": [
    "import sqlite3\n",
    "from sqlite3 import Error\n",
    "\n",
    " \n",
    "def create_connection(db_file):\n",
    "    \"\"\" create a database connection to the SQLite database\n",
    "        specified by the db_file\n",
    "    :param db_file: database file\n",
    "    :return: Connection object or None\n",
    "    \"\"\"\n",
    "    conn = None\n",
    "    try:\n",
    "        conn = sqlite3.connect(db_file)\n",
    "        print(sqlite3.version)\n",
    "    except Error as e:\n",
    "        print(e)\n",
    " \n",
    "    return conn\n",
    "\n",
    " \n",
    "def select_all_tasks(conn,query):\n",
    "    \"\"\"\n",
    "    Query all rows in the tasks table\n",
    "    :param conn: the Connection object\n",
    "    :return:\n",
    "    \"\"\"\n",
    "    cur = conn.cursor()\n",
    "    \n",
    "#    query1 = \"\"\"\n",
    "#       SELECT *\n",
    "#      FROM Bookings as b\n",
    "#       INNER JOIN Members as m\n",
    "#       Using (memid)\n",
    "#       INNER JOIN Facilities as f\n",
    "#       Using (facid)\n",
    "#       WHERE (m.membercost > 30 OR m.guestcost > 30)\n",
    "#       AND starttime like \"2012-09-14%\"\n",
    "#    \n",
    "#        \"\"\"\n",
    "\n",
    "#    query = \"\"\"select * from bookings\"\"\"\n",
    "\n",
    "    cur.execute(query)\n",
    "\n",
    "    rows = cur.fetchall()\n",
    "    \n",
    "    \n",
    "    \n",
    "#    for row in rows:\n",
    "#        print(row)\n",
    "\n",
    "    return rows\n",
    "\n",
    "def main():\n",
    "    database = \"sqlite_db_pythonsqlite.db\"\n",
    " \n",
    "    # create a database connection\n",
    "    conn = create_connection(database)\n",
    "    with conn: \n",
    "        print(\"2. Query all tasks\")\n",
    "        select_all_tasks(conn)\n",
    " \n",
    " \n",
    "#if __name__ == '__main__':\n",
    "#    main()"
   ]
  },
  {
   "cell_type": "markdown",
   "id": "8d1265c7-ee02-4840-a84d-1322d905ac4c",
   "metadata": {
    "tags": []
   },
   "source": [
    "### Setup dataframes"
   ]
  },
  {
   "cell_type": "code",
   "execution_count": 2,
   "id": "8fd5177f-40a1-4772-a4be-5dc80a917d2d",
   "metadata": {
    "jupyter": {
     "source_hidden": true
    },
    "tags": []
   },
   "outputs": [],
   "source": [
    "import pandas as pd"
   ]
  },
  {
   "cell_type": "markdown",
   "id": "33f77cda-68ff-4516-9664-449287094dea",
   "metadata": {},
   "source": [
    "##### Facilities"
   ]
  },
  {
   "cell_type": "code",
   "execution_count": 3,
   "id": "ed7ab660-4e5e-4df0-97ac-1d67fa1dfa56",
   "metadata": {},
   "outputs": [
    {
     "name": "stdout",
     "output_type": "stream",
     "text": [
      "2.6.0\n",
      "2.6.0\n"
     ]
    },
    {
     "data": {
      "text/html": [
       "<div>\n",
       "<style scoped>\n",
       "    .dataframe tbody tr th:only-of-type {\n",
       "        vertical-align: middle;\n",
       "    }\n",
       "\n",
       "    .dataframe tbody tr th {\n",
       "        vertical-align: top;\n",
       "    }\n",
       "\n",
       "    .dataframe thead th {\n",
       "        text-align: right;\n",
       "    }\n",
       "</style>\n",
       "<table border=\"1\" class=\"dataframe\">\n",
       "  <thead>\n",
       "    <tr style=\"text-align: right;\">\n",
       "      <th></th>\n",
       "      <th>name</th>\n",
       "      <th>membercost</th>\n",
       "      <th>guestcost</th>\n",
       "      <th>initialoutlay</th>\n",
       "      <th>monthlymaintenance</th>\n",
       "    </tr>\n",
       "    <tr>\n",
       "      <th>facid</th>\n",
       "      <th></th>\n",
       "      <th></th>\n",
       "      <th></th>\n",
       "      <th></th>\n",
       "      <th></th>\n",
       "    </tr>\n",
       "  </thead>\n",
       "  <tbody>\n",
       "    <tr>\n",
       "      <th>0</th>\n",
       "      <td>Tennis Court 1</td>\n",
       "      <td>5.0</td>\n",
       "      <td>25.0</td>\n",
       "      <td>10000</td>\n",
       "      <td>200</td>\n",
       "    </tr>\n",
       "    <tr>\n",
       "      <th>1</th>\n",
       "      <td>Tennis Court 2</td>\n",
       "      <td>5.0</td>\n",
       "      <td>25.0</td>\n",
       "      <td>8000</td>\n",
       "      <td>200</td>\n",
       "    </tr>\n",
       "    <tr>\n",
       "      <th>2</th>\n",
       "      <td>Badminton Court</td>\n",
       "      <td>0.0</td>\n",
       "      <td>15.5</td>\n",
       "      <td>4000</td>\n",
       "      <td>50</td>\n",
       "    </tr>\n",
       "    <tr>\n",
       "      <th>3</th>\n",
       "      <td>Table Tennis</td>\n",
       "      <td>0.0</td>\n",
       "      <td>5.0</td>\n",
       "      <td>320</td>\n",
       "      <td>10</td>\n",
       "    </tr>\n",
       "    <tr>\n",
       "      <th>4</th>\n",
       "      <td>Massage Room 1</td>\n",
       "      <td>9.9</td>\n",
       "      <td>80.0</td>\n",
       "      <td>4000</td>\n",
       "      <td>3000</td>\n",
       "    </tr>\n",
       "  </tbody>\n",
       "</table>\n",
       "</div>"
      ],
      "text/plain": [
       "                  name  membercost  guestcost  initialoutlay  \\\n",
       "facid                                                          \n",
       "0       Tennis Court 1         5.0       25.0          10000   \n",
       "1       Tennis Court 2         5.0       25.0           8000   \n",
       "2      Badminton Court         0.0       15.5           4000   \n",
       "3         Table Tennis         0.0        5.0            320   \n",
       "4       Massage Room 1         9.9       80.0           4000   \n",
       "\n",
       "       monthlymaintenance  \n",
       "facid                      \n",
       "0                     200  \n",
       "1                     200  \n",
       "2                      50  \n",
       "3                      10  \n",
       "4                    3000  "
      ]
     },
     "execution_count": 3,
     "metadata": {},
     "output_type": "execute_result"
    }
   ],
   "source": [
    "query = \"\"\"PRAGMA table_info(facilities);\"\"\"\n",
    "_ = select_all_tasks(create_connection(\"sqlite_db_pythonsqlite.db\"),query)\n",
    "columnlist = [record[1] for record in _]\n",
    "\n",
    "query = \"\"\"select * from facilities\"\"\"\n",
    "_ = select_all_tasks(create_connection(\"sqlite_db_pythonsqlite.db\"),query)\n",
    "facilities = pd.DataFrame(_, columns=columnlist).set_index('facid')\n",
    "facilities.head()"
   ]
  },
  {
   "cell_type": "markdown",
   "id": "153cfcc1-20dc-40eb-bb80-3cf83af0906e",
   "metadata": {},
   "source": [
    "##### Members"
   ]
  },
  {
   "cell_type": "code",
   "execution_count": 4,
   "id": "bb14f825-e953-4eb3-998c-9eaf2b0d685c",
   "metadata": {},
   "outputs": [
    {
     "name": "stdout",
     "output_type": "stream",
     "text": [
      "2.6.0\n",
      "2.6.0\n"
     ]
    },
    {
     "data": {
      "text/html": [
       "<div>\n",
       "<style scoped>\n",
       "    .dataframe tbody tr th:only-of-type {\n",
       "        vertical-align: middle;\n",
       "    }\n",
       "\n",
       "    .dataframe tbody tr th {\n",
       "        vertical-align: top;\n",
       "    }\n",
       "\n",
       "    .dataframe thead th {\n",
       "        text-align: right;\n",
       "    }\n",
       "</style>\n",
       "<table border=\"1\" class=\"dataframe\">\n",
       "  <thead>\n",
       "    <tr style=\"text-align: right;\">\n",
       "      <th></th>\n",
       "      <th>surname</th>\n",
       "      <th>firstname</th>\n",
       "      <th>address</th>\n",
       "      <th>zipcode</th>\n",
       "      <th>telephone</th>\n",
       "      <th>recommendedby</th>\n",
       "      <th>joindate</th>\n",
       "    </tr>\n",
       "    <tr>\n",
       "      <th>memid</th>\n",
       "      <th></th>\n",
       "      <th></th>\n",
       "      <th></th>\n",
       "      <th></th>\n",
       "      <th></th>\n",
       "      <th></th>\n",
       "      <th></th>\n",
       "    </tr>\n",
       "  </thead>\n",
       "  <tbody>\n",
       "    <tr>\n",
       "      <th>0</th>\n",
       "      <td>GUEST</td>\n",
       "      <td>GUEST</td>\n",
       "      <td>GUEST</td>\n",
       "      <td>0</td>\n",
       "      <td>(000) 000-0000</td>\n",
       "      <td></td>\n",
       "      <td>2012-07-01 00:00:00</td>\n",
       "    </tr>\n",
       "    <tr>\n",
       "      <th>1</th>\n",
       "      <td>Smith</td>\n",
       "      <td>Darren</td>\n",
       "      <td>8 Bloomsbury Close, Boston</td>\n",
       "      <td>4321</td>\n",
       "      <td>555-555-5555</td>\n",
       "      <td></td>\n",
       "      <td>2012-07-02 12:02:05</td>\n",
       "    </tr>\n",
       "    <tr>\n",
       "      <th>2</th>\n",
       "      <td>Smith</td>\n",
       "      <td>Tracy</td>\n",
       "      <td>8 Bloomsbury Close, New York</td>\n",
       "      <td>4321</td>\n",
       "      <td>555-555-5555</td>\n",
       "      <td></td>\n",
       "      <td>2012-07-02 12:08:23</td>\n",
       "    </tr>\n",
       "    <tr>\n",
       "      <th>3</th>\n",
       "      <td>Rownam</td>\n",
       "      <td>Tim</td>\n",
       "      <td>23 Highway Way, Boston</td>\n",
       "      <td>23423</td>\n",
       "      <td>(844) 693-0723</td>\n",
       "      <td></td>\n",
       "      <td>2012-07-03 09:32:15</td>\n",
       "    </tr>\n",
       "    <tr>\n",
       "      <th>4</th>\n",
       "      <td>Joplette</td>\n",
       "      <td>Janice</td>\n",
       "      <td>20 Crossing Road, New York</td>\n",
       "      <td>234</td>\n",
       "      <td>(833) 942-4710</td>\n",
       "      <td>1</td>\n",
       "      <td>2012-07-03 10:25:05</td>\n",
       "    </tr>\n",
       "  </tbody>\n",
       "</table>\n",
       "</div>"
      ],
      "text/plain": [
       "        surname firstname                       address  zipcode  \\\n",
       "memid                                                              \n",
       "0         GUEST     GUEST                         GUEST        0   \n",
       "1         Smith    Darren    8 Bloomsbury Close, Boston     4321   \n",
       "2         Smith     Tracy  8 Bloomsbury Close, New York     4321   \n",
       "3        Rownam       Tim        23 Highway Way, Boston    23423   \n",
       "4      Joplette    Janice    20 Crossing Road, New York      234   \n",
       "\n",
       "            telephone recommendedby             joindate  \n",
       "memid                                                     \n",
       "0      (000) 000-0000                2012-07-01 00:00:00  \n",
       "1        555-555-5555                2012-07-02 12:02:05  \n",
       "2        555-555-5555                2012-07-02 12:08:23  \n",
       "3      (844) 693-0723                2012-07-03 09:32:15  \n",
       "4      (833) 942-4710             1  2012-07-03 10:25:05  "
      ]
     },
     "execution_count": 4,
     "metadata": {},
     "output_type": "execute_result"
    }
   ],
   "source": [
    "query = \"\"\"PRAGMA table_info(members);\"\"\"\n",
    "_ = select_all_tasks(create_connection(\"sqlite_db_pythonsqlite.db\"),query)\n",
    "columnlist = [record[1] for record in _]\n",
    "\n",
    "query = \"\"\"select * from members\"\"\"\n",
    "_ = select_all_tasks(create_connection(\"sqlite_db_pythonsqlite.db\"),query)\n",
    "members = pd.DataFrame(_, columns=columnlist).set_index('memid')\n",
    "members.head()"
   ]
  },
  {
   "cell_type": "markdown",
   "id": "9f8a49db-793f-4899-8631-2a881e6d7837",
   "metadata": {},
   "source": [
    "##### Bookings"
   ]
  },
  {
   "cell_type": "code",
   "execution_count": 5,
   "id": "f083491c-f03d-4b0d-b2c8-b01cd03e8211",
   "metadata": {},
   "outputs": [
    {
     "name": "stdout",
     "output_type": "stream",
     "text": [
      "2.6.0\n",
      "2.6.0\n"
     ]
    },
    {
     "data": {
      "text/html": [
       "<div>\n",
       "<style scoped>\n",
       "    .dataframe tbody tr th:only-of-type {\n",
       "        vertical-align: middle;\n",
       "    }\n",
       "\n",
       "    .dataframe tbody tr th {\n",
       "        vertical-align: top;\n",
       "    }\n",
       "\n",
       "    .dataframe thead th {\n",
       "        text-align: right;\n",
       "    }\n",
       "</style>\n",
       "<table border=\"1\" class=\"dataframe\">\n",
       "  <thead>\n",
       "    <tr style=\"text-align: right;\">\n",
       "      <th></th>\n",
       "      <th>facid</th>\n",
       "      <th>memid</th>\n",
       "      <th>starttime</th>\n",
       "      <th>slots</th>\n",
       "    </tr>\n",
       "    <tr>\n",
       "      <th>bookid</th>\n",
       "      <th></th>\n",
       "      <th></th>\n",
       "      <th></th>\n",
       "      <th></th>\n",
       "    </tr>\n",
       "  </thead>\n",
       "  <tbody>\n",
       "    <tr>\n",
       "      <th>0</th>\n",
       "      <td>3</td>\n",
       "      <td>1</td>\n",
       "      <td>2012-07-03 11:00:00</td>\n",
       "      <td>2</td>\n",
       "    </tr>\n",
       "    <tr>\n",
       "      <th>1</th>\n",
       "      <td>4</td>\n",
       "      <td>1</td>\n",
       "      <td>2012-07-03 08:00:00</td>\n",
       "      <td>2</td>\n",
       "    </tr>\n",
       "    <tr>\n",
       "      <th>2</th>\n",
       "      <td>6</td>\n",
       "      <td>0</td>\n",
       "      <td>2012-07-03 18:00:00</td>\n",
       "      <td>2</td>\n",
       "    </tr>\n",
       "    <tr>\n",
       "      <th>3</th>\n",
       "      <td>7</td>\n",
       "      <td>1</td>\n",
       "      <td>2012-07-03 19:00:00</td>\n",
       "      <td>2</td>\n",
       "    </tr>\n",
       "    <tr>\n",
       "      <th>4</th>\n",
       "      <td>8</td>\n",
       "      <td>1</td>\n",
       "      <td>2012-07-03 10:00:00</td>\n",
       "      <td>1</td>\n",
       "    </tr>\n",
       "  </tbody>\n",
       "</table>\n",
       "</div>"
      ],
      "text/plain": [
       "        facid  memid            starttime  slots\n",
       "bookid                                          \n",
       "0           3      1  2012-07-03 11:00:00      2\n",
       "1           4      1  2012-07-03 08:00:00      2\n",
       "2           6      0  2012-07-03 18:00:00      2\n",
       "3           7      1  2012-07-03 19:00:00      2\n",
       "4           8      1  2012-07-03 10:00:00      1"
      ]
     },
     "execution_count": 5,
     "metadata": {},
     "output_type": "execute_result"
    }
   ],
   "source": [
    "query = \"\"\"PRAGMA table_info(bookings);\"\"\"\n",
    "_ = select_all_tasks(create_connection(\"sqlite_db_pythonsqlite.db\"),query)\n",
    "columnlist = [record[1] for record in _]\n",
    "\n",
    "query = \"\"\"select * from bookings\"\"\"\n",
    "_ = select_all_tasks(create_connection(\"sqlite_db_pythonsqlite.db\"),query)\n",
    "bookings = pd.DataFrame(_, columns=columnlist).set_index('bookid')\n",
    "bookings.head()"
   ]
  },
  {
   "cell_type": "markdown",
   "id": "d31aaeeb-70de-4d32-95c6-819e6c422a3c",
   "metadata": {},
   "source": [
    "### Q1: Some of the facilities charge a fee to members, but some do not. Write a SQL query to produce a list of the names of the facilities that do."
   ]
  },
  {
   "cell_type": "code",
   "execution_count": 6,
   "id": "c2aeecd8-b5dc-4f85-8ebc-9a4136a08fc7",
   "metadata": {},
   "outputs": [
    {
     "data": {
      "text/html": [
       "<div>\n",
       "<style scoped>\n",
       "    .dataframe tbody tr th:only-of-type {\n",
       "        vertical-align: middle;\n",
       "    }\n",
       "\n",
       "    .dataframe tbody tr th {\n",
       "        vertical-align: top;\n",
       "    }\n",
       "\n",
       "    .dataframe thead th {\n",
       "        text-align: right;\n",
       "    }\n",
       "</style>\n",
       "<table border=\"1\" class=\"dataframe\">\n",
       "  <thead>\n",
       "    <tr style=\"text-align: right;\">\n",
       "      <th></th>\n",
       "      <th>name</th>\n",
       "      <th>membercost</th>\n",
       "      <th>guestcost</th>\n",
       "      <th>initialoutlay</th>\n",
       "      <th>monthlymaintenance</th>\n",
       "    </tr>\n",
       "    <tr>\n",
       "      <th>facid</th>\n",
       "      <th></th>\n",
       "      <th></th>\n",
       "      <th></th>\n",
       "      <th></th>\n",
       "      <th></th>\n",
       "    </tr>\n",
       "  </thead>\n",
       "  <tbody>\n",
       "    <tr>\n",
       "      <th>0</th>\n",
       "      <td>Tennis Court 1</td>\n",
       "      <td>5.0</td>\n",
       "      <td>25.0</td>\n",
       "      <td>10000</td>\n",
       "      <td>200</td>\n",
       "    </tr>\n",
       "    <tr>\n",
       "      <th>1</th>\n",
       "      <td>Tennis Court 2</td>\n",
       "      <td>5.0</td>\n",
       "      <td>25.0</td>\n",
       "      <td>8000</td>\n",
       "      <td>200</td>\n",
       "    </tr>\n",
       "    <tr>\n",
       "      <th>2</th>\n",
       "      <td>Badminton Court</td>\n",
       "      <td>0.0</td>\n",
       "      <td>15.5</td>\n",
       "      <td>4000</td>\n",
       "      <td>50</td>\n",
       "    </tr>\n",
       "    <tr>\n",
       "      <th>3</th>\n",
       "      <td>Table Tennis</td>\n",
       "      <td>0.0</td>\n",
       "      <td>5.0</td>\n",
       "      <td>320</td>\n",
       "      <td>10</td>\n",
       "    </tr>\n",
       "    <tr>\n",
       "      <th>4</th>\n",
       "      <td>Massage Room 1</td>\n",
       "      <td>9.9</td>\n",
       "      <td>80.0</td>\n",
       "      <td>4000</td>\n",
       "      <td>3000</td>\n",
       "    </tr>\n",
       "  </tbody>\n",
       "</table>\n",
       "</div>"
      ],
      "text/plain": [
       "                  name  membercost  guestcost  initialoutlay  \\\n",
       "facid                                                          \n",
       "0       Tennis Court 1         5.0       25.0          10000   \n",
       "1       Tennis Court 2         5.0       25.0           8000   \n",
       "2      Badminton Court         0.0       15.5           4000   \n",
       "3         Table Tennis         0.0        5.0            320   \n",
       "4       Massage Room 1         9.9       80.0           4000   \n",
       "\n",
       "       monthlymaintenance  \n",
       "facid                      \n",
       "0                     200  \n",
       "1                     200  \n",
       "2                      50  \n",
       "3                      10  \n",
       "4                    3000  "
      ]
     },
     "execution_count": 6,
     "metadata": {},
     "output_type": "execute_result"
    }
   ],
   "source": [
    "facilities.head()"
   ]
  },
  {
   "cell_type": "code",
   "execution_count": 7,
   "id": "2abd174b",
   "metadata": {
    "tags": []
   },
   "outputs": [
    {
     "name": "stdout",
     "output_type": "stream",
     "text": [
      "2.6.0\n"
     ]
    },
    {
     "data": {
      "text/plain": [
       "[(0, 'Tennis Court 1', 5, 25, 10000, 200),\n",
       " (1, 'Tennis Court 2', 5, 25, 8000, 200),\n",
       " (4, 'Massage Room 1', 9.9, 80, 4000, 3000),\n",
       " (5, 'Massage Room 2', 9.9, 80, 4000, 3000),\n",
       " (6, 'Squash Court', 3.5, 17.5, 5000, 80)]"
      ]
     },
     "execution_count": 7,
     "metadata": {},
     "output_type": "execute_result"
    }
   ],
   "source": [
    "query = \"\"\"select * from facilities where membercost > 0\"\"\"\n",
    "select_all_tasks(create_connection(\"sqlite_db_pythonsqlite.db\"),query)"
   ]
  },
  {
   "cell_type": "markdown",
   "id": "2f4dd4a7-e63f-47d8-bf27-c7d5e8e335cb",
   "metadata": {},
   "source": [
    "### Q2: How many facilities do not charge a fee to members?"
   ]
  },
  {
   "cell_type": "code",
   "execution_count": 8,
   "id": "cc1ceb85-a447-4161-8c19-4de4355fc189",
   "metadata": {
    "tags": []
   },
   "outputs": [
    {
     "name": "stdout",
     "output_type": "stream",
     "text": [
      "2.6.0\n"
     ]
    },
    {
     "data": {
      "text/plain": [
       "[(2, 'Badminton Court', 0, 15.5, 4000, 50),\n",
       " (3, 'Table Tennis', 0, 5, 320, 10),\n",
       " (7, 'Snooker Table', 0, 5, 450, 15),\n",
       " (8, 'Pool Table', 0, 5, 400, 15)]"
      ]
     },
     "execution_count": 8,
     "metadata": {},
     "output_type": "execute_result"
    }
   ],
   "source": [
    "query = \"\"\"select * from facilities where membercost = 0\"\"\"\n",
    "select_all_tasks(create_connection(\"sqlite_db_pythonsqlite.db\"),query)"
   ]
  },
  {
   "cell_type": "markdown",
   "id": "2b70ac9a-6e49-4849-ae82-48013e84ecc0",
   "metadata": {},
   "source": [
    "### Q3: Write an SQL query to show a list of facilities that charge a fee to members, where the fee is less than 20% of the facility's monthly maintenance cost. Return the facid, facility name, member cost, and monthly maintenance of the facilities in question."
   ]
  },
  {
   "cell_type": "code",
   "execution_count": 9,
   "id": "bb7fd56c-8818-44de-995e-c1e3d4423bd1",
   "metadata": {
    "tags": []
   },
   "outputs": [
    {
     "name": "stdout",
     "output_type": "stream",
     "text": [
      "2.6.0\n"
     ]
    },
    {
     "data": {
      "text/plain": [
       "[(0, 'Tennis Court 1', 5, 200),\n",
       " (1, 'Tennis Court 2', 5, 200),\n",
       " (4, 'Massage Room 1', 9.9, 3000),\n",
       " (5, 'Massage Room 2', 9.9, 3000),\n",
       " (6, 'Squash Court', 3.5, 80)]"
      ]
     },
     "execution_count": 9,
     "metadata": {},
     "output_type": "execute_result"
    }
   ],
   "source": [
    "query = \"\"\"select facid,name,membercost,monthlymaintenance from facilities where membercost > 0 and membercost < .2*monthlymaintenance\"\"\"\n",
    "select_all_tasks(create_connection(\"sqlite_db_pythonsqlite.db\"),query)"
   ]
  },
  {
   "cell_type": "markdown",
   "id": "772b8838-953c-4938-aa3b-27e7ea1711a0",
   "metadata": {
    "tags": []
   },
   "source": [
    "### Q4: Write an SQL query to retrieve the details of facilities with ID 1 and 5. Try writing the query without using the OR operator."
   ]
  },
  {
   "cell_type": "code",
   "execution_count": 10,
   "id": "ace75e7e-5d93-455f-95a5-53d7fa1ea228",
   "metadata": {
    "tags": []
   },
   "outputs": [
    {
     "name": "stdout",
     "output_type": "stream",
     "text": [
      "2.6.0\n"
     ]
    },
    {
     "data": {
      "text/plain": [
       "[(1, 'Tennis Court 2', 5, 25, 8000, 200),\n",
       " (5, 'Massage Room 2', 9.9, 80, 4000, 3000)]"
      ]
     },
     "execution_count": 10,
     "metadata": {},
     "output_type": "execute_result"
    }
   ],
   "source": [
    "query = \"\"\"select * from facilities where facid in (1,5)\"\"\"\n",
    "select_all_tasks(create_connection(\"sqlite_db_pythonsqlite.db\"),query)"
   ]
  },
  {
   "cell_type": "markdown",
   "id": "d3b2a14a-23ab-42ea-aeb6-04a03c3a423b",
   "metadata": {},
   "source": [
    "### Q5: Produce a list of facilities, with each labelled as 'cheap' or 'expensive', depending on if their monthly maintenance cost is more than $100. Return the name and monthly maintenance of the facilities in question. "
   ]
  },
  {
   "cell_type": "code",
   "execution_count": 11,
   "id": "bb05ecd5-6c7d-4bb5-a7db-b4ee503e8b09",
   "metadata": {
    "jupyter": {
     "source_hidden": true
    },
    "tags": []
   },
   "outputs": [
    {
     "name": "stdout",
     "output_type": "stream",
     "text": [
      "2.6.0\n"
     ]
    },
    {
     "data": {
      "text/plain": [
       "[('Tennis Court 1', 200, 'expensive'),\n",
       " ('Tennis Court 2', 200, 'expensive'),\n",
       " ('Badminton Court', 50, 'cheap'),\n",
       " ('Table Tennis', 10, 'cheap'),\n",
       " ('Massage Room 1', 3000, 'expensive'),\n",
       " ('Massage Room 2', 3000, 'expensive'),\n",
       " ('Squash Court', 80, 'cheap'),\n",
       " ('Snooker Table', 15, 'cheap'),\n",
       " ('Pool Table', 15, 'cheap')]"
      ]
     },
     "execution_count": 11,
     "metadata": {},
     "output_type": "execute_result"
    }
   ],
   "source": [
    "query = \"\"\"select name, monthlymaintenance, case when monthlymaintenance > 100 then 'expensive' when monthlymaintenance < 100 then 'cheap' end relativeprice from facilities\"\"\"\n",
    "select_all_tasks(create_connection(\"sqlite_db_pythonsqlite.db\"),query)"
   ]
  },
  {
   "cell_type": "markdown",
   "id": "db83db31-7139-4f96-9218-40de9a6a4a58",
   "metadata": {
    "tags": []
   },
   "source": [
    "### Q6: You'd like to get the first and last name of the last member(s) who signed up. Try not to use the LIMIT clause for your solution."
   ]
  },
  {
   "cell_type": "code",
   "execution_count": 12,
   "id": "de89822a-8361-46d4-9f33-53d041703d4d",
   "metadata": {},
   "outputs": [
    {
     "data": {
      "text/html": [
       "<div>\n",
       "<style scoped>\n",
       "    .dataframe tbody tr th:only-of-type {\n",
       "        vertical-align: middle;\n",
       "    }\n",
       "\n",
       "    .dataframe tbody tr th {\n",
       "        vertical-align: top;\n",
       "    }\n",
       "\n",
       "    .dataframe thead th {\n",
       "        text-align: right;\n",
       "    }\n",
       "</style>\n",
       "<table border=\"1\" class=\"dataframe\">\n",
       "  <thead>\n",
       "    <tr style=\"text-align: right;\">\n",
       "      <th></th>\n",
       "      <th>surname</th>\n",
       "      <th>firstname</th>\n",
       "      <th>address</th>\n",
       "      <th>zipcode</th>\n",
       "      <th>telephone</th>\n",
       "      <th>recommendedby</th>\n",
       "      <th>joindate</th>\n",
       "    </tr>\n",
       "    <tr>\n",
       "      <th>memid</th>\n",
       "      <th></th>\n",
       "      <th></th>\n",
       "      <th></th>\n",
       "      <th></th>\n",
       "      <th></th>\n",
       "      <th></th>\n",
       "      <th></th>\n",
       "    </tr>\n",
       "  </thead>\n",
       "  <tbody>\n",
       "    <tr>\n",
       "      <th>0</th>\n",
       "      <td>GUEST</td>\n",
       "      <td>GUEST</td>\n",
       "      <td>GUEST</td>\n",
       "      <td>0</td>\n",
       "      <td>(000) 000-0000</td>\n",
       "      <td></td>\n",
       "      <td>2012-07-01 00:00:00</td>\n",
       "    </tr>\n",
       "    <tr>\n",
       "      <th>1</th>\n",
       "      <td>Smith</td>\n",
       "      <td>Darren</td>\n",
       "      <td>8 Bloomsbury Close, Boston</td>\n",
       "      <td>4321</td>\n",
       "      <td>555-555-5555</td>\n",
       "      <td></td>\n",
       "      <td>2012-07-02 12:02:05</td>\n",
       "    </tr>\n",
       "    <tr>\n",
       "      <th>2</th>\n",
       "      <td>Smith</td>\n",
       "      <td>Tracy</td>\n",
       "      <td>8 Bloomsbury Close, New York</td>\n",
       "      <td>4321</td>\n",
       "      <td>555-555-5555</td>\n",
       "      <td></td>\n",
       "      <td>2012-07-02 12:08:23</td>\n",
       "    </tr>\n",
       "    <tr>\n",
       "      <th>3</th>\n",
       "      <td>Rownam</td>\n",
       "      <td>Tim</td>\n",
       "      <td>23 Highway Way, Boston</td>\n",
       "      <td>23423</td>\n",
       "      <td>(844) 693-0723</td>\n",
       "      <td></td>\n",
       "      <td>2012-07-03 09:32:15</td>\n",
       "    </tr>\n",
       "    <tr>\n",
       "      <th>4</th>\n",
       "      <td>Joplette</td>\n",
       "      <td>Janice</td>\n",
       "      <td>20 Crossing Road, New York</td>\n",
       "      <td>234</td>\n",
       "      <td>(833) 942-4710</td>\n",
       "      <td>1</td>\n",
       "      <td>2012-07-03 10:25:05</td>\n",
       "    </tr>\n",
       "  </tbody>\n",
       "</table>\n",
       "</div>"
      ],
      "text/plain": [
       "        surname firstname                       address  zipcode  \\\n",
       "memid                                                              \n",
       "0         GUEST     GUEST                         GUEST        0   \n",
       "1         Smith    Darren    8 Bloomsbury Close, Boston     4321   \n",
       "2         Smith     Tracy  8 Bloomsbury Close, New York     4321   \n",
       "3        Rownam       Tim        23 Highway Way, Boston    23423   \n",
       "4      Joplette    Janice    20 Crossing Road, New York      234   \n",
       "\n",
       "            telephone recommendedby             joindate  \n",
       "memid                                                     \n",
       "0      (000) 000-0000                2012-07-01 00:00:00  \n",
       "1        555-555-5555                2012-07-02 12:02:05  \n",
       "2        555-555-5555                2012-07-02 12:08:23  \n",
       "3      (844) 693-0723                2012-07-03 09:32:15  \n",
       "4      (833) 942-4710             1  2012-07-03 10:25:05  "
      ]
     },
     "execution_count": 12,
     "metadata": {},
     "output_type": "execute_result"
    }
   ],
   "source": [
    "members.head()"
   ]
  },
  {
   "cell_type": "code",
   "execution_count": 13,
   "id": "db0c6d1f-b3ff-421a-9dfb-ec381d1fd253",
   "metadata": {
    "tags": []
   },
   "outputs": [
    {
     "name": "stdout",
     "output_type": "stream",
     "text": [
      "2.6.0\n"
     ]
    },
    {
     "data": {
      "text/plain": [
       "[('Darren', 'Smith')]"
      ]
     },
     "execution_count": 13,
     "metadata": {},
     "output_type": "execute_result"
    }
   ],
   "source": [
    "query = \"\"\"select firstname,surname from members where joindate >= (select max(joindate) from members)\"\"\"\n",
    "select_all_tasks(create_connection(\"sqlite_db_pythonsqlite.db\"),query)"
   ]
  },
  {
   "cell_type": "code",
   "execution_count": 14,
   "id": "6ae8fcdb-70f9-45aa-bb8f-facaec8eb529",
   "metadata": {},
   "outputs": [
    {
     "name": "stdout",
     "output_type": "stream",
     "text": [
      "2.6.0\n"
     ]
    },
    {
     "data": {
      "text/plain": [
       "[('Darren', 'Smith', 1), ('Erica', 'Crumpet', 2), ('John', 'Hunt', 3)]"
      ]
     },
     "execution_count": 14,
     "metadata": {},
     "output_type": "execute_result"
    }
   ],
   "source": [
    "query = \"\"\"select * from (select firstname,surname,row_number() over (order by joindate desc) recentjoin from members) where recentjoin <= 3\"\"\"\n",
    "select_all_tasks(create_connection(\"sqlite_db_pythonsqlite.db\"),query)"
   ]
  },
  {
   "cell_type": "markdown",
   "id": "a4eba8dd-e90e-4314-93c3-ed7fa29c10c3",
   "metadata": {},
   "source": [
    "### Q7: Produce a list of all members who have used a tennis court. Include in your output the name of the court, and the name of the member formatted as a single column. Ensure no duplicate data, and order by the member name."
   ]
  },
  {
   "cell_type": "code",
   "execution_count": 15,
   "id": "9dea0c78-38fb-4e73-a79b-dccadbaf06ad",
   "metadata": {},
   "outputs": [
    {
     "data": {
      "text/html": [
       "<div>\n",
       "<style scoped>\n",
       "    .dataframe tbody tr th:only-of-type {\n",
       "        vertical-align: middle;\n",
       "    }\n",
       "\n",
       "    .dataframe tbody tr th {\n",
       "        vertical-align: top;\n",
       "    }\n",
       "\n",
       "    .dataframe thead th {\n",
       "        text-align: right;\n",
       "    }\n",
       "</style>\n",
       "<table border=\"1\" class=\"dataframe\">\n",
       "  <thead>\n",
       "    <tr style=\"text-align: right;\">\n",
       "      <th></th>\n",
       "      <th>name</th>\n",
       "      <th>membercost</th>\n",
       "      <th>guestcost</th>\n",
       "      <th>initialoutlay</th>\n",
       "      <th>monthlymaintenance</th>\n",
       "    </tr>\n",
       "    <tr>\n",
       "      <th>facid</th>\n",
       "      <th></th>\n",
       "      <th></th>\n",
       "      <th></th>\n",
       "      <th></th>\n",
       "      <th></th>\n",
       "    </tr>\n",
       "  </thead>\n",
       "  <tbody>\n",
       "    <tr>\n",
       "      <th>0</th>\n",
       "      <td>Tennis Court 1</td>\n",
       "      <td>5.0</td>\n",
       "      <td>25.0</td>\n",
       "      <td>10000</td>\n",
       "      <td>200</td>\n",
       "    </tr>\n",
       "    <tr>\n",
       "      <th>1</th>\n",
       "      <td>Tennis Court 2</td>\n",
       "      <td>5.0</td>\n",
       "      <td>25.0</td>\n",
       "      <td>8000</td>\n",
       "      <td>200</td>\n",
       "    </tr>\n",
       "  </tbody>\n",
       "</table>\n",
       "</div>"
      ],
      "text/plain": [
       "                 name  membercost  guestcost  initialoutlay  \\\n",
       "facid                                                         \n",
       "0      Tennis Court 1         5.0       25.0          10000   \n",
       "1      Tennis Court 2         5.0       25.0           8000   \n",
       "\n",
       "       monthlymaintenance  \n",
       "facid                      \n",
       "0                     200  \n",
       "1                     200  "
      ]
     },
     "execution_count": 15,
     "metadata": {},
     "output_type": "execute_result"
    }
   ],
   "source": [
    "facilities.head(2)"
   ]
  },
  {
   "cell_type": "code",
   "execution_count": 16,
   "id": "db23a054-a318-442c-b18f-51e66a6f108a",
   "metadata": {},
   "outputs": [
    {
     "data": {
      "text/html": [
       "<div>\n",
       "<style scoped>\n",
       "    .dataframe tbody tr th:only-of-type {\n",
       "        vertical-align: middle;\n",
       "    }\n",
       "\n",
       "    .dataframe tbody tr th {\n",
       "        vertical-align: top;\n",
       "    }\n",
       "\n",
       "    .dataframe thead th {\n",
       "        text-align: right;\n",
       "    }\n",
       "</style>\n",
       "<table border=\"1\" class=\"dataframe\">\n",
       "  <thead>\n",
       "    <tr style=\"text-align: right;\">\n",
       "      <th></th>\n",
       "      <th>surname</th>\n",
       "      <th>firstname</th>\n",
       "      <th>address</th>\n",
       "      <th>zipcode</th>\n",
       "      <th>telephone</th>\n",
       "      <th>recommendedby</th>\n",
       "      <th>joindate</th>\n",
       "    </tr>\n",
       "    <tr>\n",
       "      <th>memid</th>\n",
       "      <th></th>\n",
       "      <th></th>\n",
       "      <th></th>\n",
       "      <th></th>\n",
       "      <th></th>\n",
       "      <th></th>\n",
       "      <th></th>\n",
       "    </tr>\n",
       "  </thead>\n",
       "  <tbody>\n",
       "    <tr>\n",
       "      <th>0</th>\n",
       "      <td>GUEST</td>\n",
       "      <td>GUEST</td>\n",
       "      <td>GUEST</td>\n",
       "      <td>0</td>\n",
       "      <td>(000) 000-0000</td>\n",
       "      <td></td>\n",
       "      <td>2012-07-01 00:00:00</td>\n",
       "    </tr>\n",
       "    <tr>\n",
       "      <th>1</th>\n",
       "      <td>Smith</td>\n",
       "      <td>Darren</td>\n",
       "      <td>8 Bloomsbury Close, Boston</td>\n",
       "      <td>4321</td>\n",
       "      <td>555-555-5555</td>\n",
       "      <td></td>\n",
       "      <td>2012-07-02 12:02:05</td>\n",
       "    </tr>\n",
       "  </tbody>\n",
       "</table>\n",
       "</div>"
      ],
      "text/plain": [
       "      surname firstname                     address  zipcode       telephone  \\\n",
       "memid                                                                          \n",
       "0       GUEST     GUEST                       GUEST        0  (000) 000-0000   \n",
       "1       Smith    Darren  8 Bloomsbury Close, Boston     4321    555-555-5555   \n",
       "\n",
       "      recommendedby             joindate  \n",
       "memid                                     \n",
       "0                    2012-07-01 00:00:00  \n",
       "1                    2012-07-02 12:02:05  "
      ]
     },
     "execution_count": 16,
     "metadata": {},
     "output_type": "execute_result"
    }
   ],
   "source": [
    "members.head(2)"
   ]
  },
  {
   "cell_type": "code",
   "execution_count": 17,
   "id": "ce179b00-6961-4c23-842f-ff531cdce62b",
   "metadata": {},
   "outputs": [
    {
     "data": {
      "text/html": [
       "<div>\n",
       "<style scoped>\n",
       "    .dataframe tbody tr th:only-of-type {\n",
       "        vertical-align: middle;\n",
       "    }\n",
       "\n",
       "    .dataframe tbody tr th {\n",
       "        vertical-align: top;\n",
       "    }\n",
       "\n",
       "    .dataframe thead th {\n",
       "        text-align: right;\n",
       "    }\n",
       "</style>\n",
       "<table border=\"1\" class=\"dataframe\">\n",
       "  <thead>\n",
       "    <tr style=\"text-align: right;\">\n",
       "      <th></th>\n",
       "      <th>facid</th>\n",
       "      <th>memid</th>\n",
       "      <th>starttime</th>\n",
       "      <th>slots</th>\n",
       "    </tr>\n",
       "    <tr>\n",
       "      <th>bookid</th>\n",
       "      <th></th>\n",
       "      <th></th>\n",
       "      <th></th>\n",
       "      <th></th>\n",
       "    </tr>\n",
       "  </thead>\n",
       "  <tbody>\n",
       "    <tr>\n",
       "      <th>0</th>\n",
       "      <td>3</td>\n",
       "      <td>1</td>\n",
       "      <td>2012-07-03 11:00:00</td>\n",
       "      <td>2</td>\n",
       "    </tr>\n",
       "    <tr>\n",
       "      <th>1</th>\n",
       "      <td>4</td>\n",
       "      <td>1</td>\n",
       "      <td>2012-07-03 08:00:00</td>\n",
       "      <td>2</td>\n",
       "    </tr>\n",
       "    <tr>\n",
       "      <th>2</th>\n",
       "      <td>6</td>\n",
       "      <td>0</td>\n",
       "      <td>2012-07-03 18:00:00</td>\n",
       "      <td>2</td>\n",
       "    </tr>\n",
       "    <tr>\n",
       "      <th>3</th>\n",
       "      <td>7</td>\n",
       "      <td>1</td>\n",
       "      <td>2012-07-03 19:00:00</td>\n",
       "      <td>2</td>\n",
       "    </tr>\n",
       "    <tr>\n",
       "      <th>4</th>\n",
       "      <td>8</td>\n",
       "      <td>1</td>\n",
       "      <td>2012-07-03 10:00:00</td>\n",
       "      <td>1</td>\n",
       "    </tr>\n",
       "    <tr>\n",
       "      <th>5</th>\n",
       "      <td>8</td>\n",
       "      <td>1</td>\n",
       "      <td>2012-07-03 15:00:00</td>\n",
       "      <td>1</td>\n",
       "    </tr>\n",
       "    <tr>\n",
       "      <th>6</th>\n",
       "      <td>0</td>\n",
       "      <td>2</td>\n",
       "      <td>2012-07-04 09:00:00</td>\n",
       "      <td>3</td>\n",
       "    </tr>\n",
       "    <tr>\n",
       "      <th>7</th>\n",
       "      <td>0</td>\n",
       "      <td>2</td>\n",
       "      <td>2012-07-04 15:00:00</td>\n",
       "      <td>3</td>\n",
       "    </tr>\n",
       "    <tr>\n",
       "      <th>8</th>\n",
       "      <td>4</td>\n",
       "      <td>3</td>\n",
       "      <td>2012-07-04 13:30:00</td>\n",
       "      <td>2</td>\n",
       "    </tr>\n",
       "    <tr>\n",
       "      <th>9</th>\n",
       "      <td>4</td>\n",
       "      <td>0</td>\n",
       "      <td>2012-07-04 15:00:00</td>\n",
       "      <td>2</td>\n",
       "    </tr>\n",
       "  </tbody>\n",
       "</table>\n",
       "</div>"
      ],
      "text/plain": [
       "        facid  memid            starttime  slots\n",
       "bookid                                          \n",
       "0           3      1  2012-07-03 11:00:00      2\n",
       "1           4      1  2012-07-03 08:00:00      2\n",
       "2           6      0  2012-07-03 18:00:00      2\n",
       "3           7      1  2012-07-03 19:00:00      2\n",
       "4           8      1  2012-07-03 10:00:00      1\n",
       "5           8      1  2012-07-03 15:00:00      1\n",
       "6           0      2  2012-07-04 09:00:00      3\n",
       "7           0      2  2012-07-04 15:00:00      3\n",
       "8           4      3  2012-07-04 13:30:00      2\n",
       "9           4      0  2012-07-04 15:00:00      2"
      ]
     },
     "execution_count": 17,
     "metadata": {},
     "output_type": "execute_result"
    }
   ],
   "source": [
    "bookings.head(10)"
   ]
  },
  {
   "cell_type": "code",
   "execution_count": 18,
   "id": "5c3de4c5-5fc4-40a6-9d73-b009ff9871c1",
   "metadata": {
    "jupyter": {
     "source_hidden": true
    },
    "tags": []
   },
   "outputs": [
    {
     "name": "stdout",
     "output_type": "stream",
     "text": [
      "2.6.0\n"
     ]
    },
    {
     "data": {
      "text/plain": [
       "[('Tracy', 'Burton'),\n",
       " ('Stibbons', 'Ponder'),\n",
       " ('Smith', 'Darren'),\n",
       " ('Smith', 'Tracy'),\n",
       " ('Smith', 'Jack'),\n",
       " ('Sarwin', 'Ramnaresh'),\n",
       " ('Rumney', 'Henrietta'),\n",
       " ('Rownam', 'Tim'),\n",
       " ('Purview', 'Millicent'),\n",
       " ('Pinker', 'David'),\n",
       " ('Owen', 'Charles'),\n",
       " ('Joplette', 'Janice'),\n",
       " ('Jones', 'David'),\n",
       " ('Jones', 'Douglas'),\n",
       " ('Hunt', 'John'),\n",
       " ('Genting', 'Matthew'),\n",
       " ('GUEST', 'GUEST'),\n",
       " ('Farrell', 'Jemima'),\n",
       " ('Farrell', 'David'),\n",
       " ('Dare', 'Nancy'),\n",
       " ('Crumpet', 'Erica'),\n",
       " ('Coplin', 'Joan'),\n",
       " ('Butters', 'Gerald'),\n",
       " ('Boothe', 'Tim'),\n",
       " ('Baker', 'Anne'),\n",
       " ('Baker', 'Timothy'),\n",
       " ('Bader', 'Florence')]"
      ]
     },
     "execution_count": 18,
     "metadata": {},
     "output_type": "execute_result"
    }
   ],
   "source": [
    "query = \"\"\"select distinct surname, firstname from members a left join bookings b on a.memid = b.memid left join facilities c on b.facid = c.facid where c.name like '%Tennis Court%' order by surname desc\"\"\"\n",
    "select_all_tasks(create_connection(\"sqlite_db_pythonsqlite.db\"),query)"
   ]
  },
  {
   "cell_type": "markdown",
   "id": "13df7095-d123-4103-92e9-60de10bc4c5c",
   "metadata": {},
   "source": [
    "### Produce a list of bookings on the day of 2012-09-14 which will cost the member (or guest) more than $30. Remember that guests have different costs to members (the listed costs are per half-hour 'slot'), and the guest user's ID is always 0. Include in your output the name of the facility, the name of the member formatted as a single column, and the cost. Order by descending cost, and do not use any subqueries."
   ]
  },
  {
   "cell_type": "code",
   "execution_count": 19,
   "id": "c8cc6614-64b9-4181-b340-c424cb98260a",
   "metadata": {
    "jupyter": {
     "source_hidden": true
    },
    "tags": []
   },
   "outputs": [
    {
     "name": "stdout",
     "output_type": "stream",
     "text": [
      "2.6.0\n"
     ]
    },
    {
     "data": {
      "text/plain": [
       "[('Massage Room 1', 'GUEST,GUEST', 80),\n",
       " ('Massage Room 1', 'GUEST,GUEST', 80),\n",
       " ('Massage Room 1', 'GUEST,GUEST', 80),\n",
       " ('Massage Room 2', 'GUEST,GUEST', 80)]"
      ]
     },
     "execution_count": 19,
     "metadata": {},
     "output_type": "execute_result"
    }
   ],
   "source": [
    "query = \"\"\"select b.name, c.surname || ',' || c.firstname membername, case when a.memid = 0 then b.guestcost when a.memid != 0 then b.membercost end bookcost from bookings a left join facilities b on a.facid = b.facid left join members c on a.memid = c.memid where date(a.starttime) = '2012-09-14' and ( (a.memid=0 and b.guestcost>30) or (a.memid!=0 and b.membercost>30) ) order by case when a.memid = 0 then b.guestcost when a.memid != 0 then b.membercost end desc\"\"\"\n",
    "select_all_tasks(create_connection(\"sqlite_db_pythonsqlite.db\"),query)"
   ]
  },
  {
   "cell_type": "markdown",
   "id": "2fb4985d-9145-43b4-b6e4-6f6dc3fec336",
   "metadata": {},
   "source": [
    "### Q9: This time, produce the same result as in Q8, but using a subquery. "
   ]
  },
  {
   "cell_type": "code",
   "execution_count": 20,
   "id": "602c0169-81e7-49be-9cbe-c181bbdddacc",
   "metadata": {
    "jupyter": {
     "source_hidden": true
    },
    "tags": []
   },
   "outputs": [
    {
     "name": "stdout",
     "output_type": "stream",
     "text": [
      "2.6.0\n"
     ]
    },
    {
     "data": {
      "text/plain": [
       "[('Massage Room 1', 'GUEST,GUEST', 80),\n",
       " ('Massage Room 1', 'GUEST,GUEST', 80),\n",
       " ('Massage Room 1', 'GUEST,GUEST', 80),\n",
       " ('Massage Room 2', 'GUEST,GUEST', 80)]"
      ]
     },
     "execution_count": 20,
     "metadata": {},
     "output_type": "execute_result"
    }
   ],
   "source": [
    "query = \"\"\"select name, membername, bookcost from (select b.name, c.surname || ',' || c.firstname membername, case when a.memid = 0 then b.guestcost when a.memid != 0 then b.membercost end bookcost from bookings a left join facilities b on a.facid = b.facid left join members c on a.memid = c.memid where date(a.starttime) = '2012-09-14' and ( (a.memid=0 and b.guestcost>30) or (a.memid!=0 and b.membercost>30) ) ) order by bookcost\"\"\"\n",
    "select_all_tasks(create_connection(\"sqlite_db_pythonsqlite.db\"),query)"
   ]
  },
  {
   "cell_type": "markdown",
   "id": "29819b3d-c8dd-4445-8204-43fc0a2e0825",
   "metadata": {},
   "source": [
    "### Q10: Produce a list of facilities with a total revenue less than 1000. The output of facility name and total revenue, sorted by revenue. Remember that there's a different cost for guests and members!"
   ]
  },
  {
   "cell_type": "code",
   "execution_count": 21,
   "id": "2415c8a6-ea99-4c53-a904-372d357f39d4",
   "metadata": {
    "jupyter": {
     "source_hidden": true
    },
    "tags": []
   },
   "outputs": [
    {
     "name": "stdout",
     "output_type": "stream",
     "text": [
      "2.6.0\n"
     ]
    },
    {
     "data": {
      "text/plain": [
       "[('Table Tennis', -870),\n",
       " ('Pool Table', -1065),\n",
       " ('Snooker Table', -1245),\n",
       " ('Squash Court', -2252.0),\n",
       " ('Badminton Court', -10543.5),\n",
       " ('Tennis Court 2', -11490),\n",
       " ('Tennis Court 1', -17940),\n",
       " ('Massage Room 2', -24545.399999999998)]"
      ]
     },
     "execution_count": 21,
     "metadata": {},
     "output_type": "execute_result"
    }
   ],
   "source": [
    "query = \"\"\"select name, sum( monthlybookingrevenue - ( initialoutlay + (monthlymaintenance*monthcount) ) ) totalrevenue from ( select b.name, strftime('%Y-%m',a.starttime) monthdate, max( b.initialoutlay ) initialoutlay, max( b.monthlymaintenance ) monthlymaintenance, sum( case when a.memid = 0 then b.guestcost*a.slots when a.memid!=0 then b.membercost*a.slots end ) monthlybookingrevenue, count(*) over (partition by b.name) monthcount from bookings a left join facilities b on a.facid = b.facid group by b.name, strftime('%Y-%m',a.starttime) ) group by name having totalrevenue < 1000 order by totalrevenue desc\"\"\"\n",
    "select_all_tasks(create_connection(\"sqlite_db_pythonsqlite.db\"),query)"
   ]
  },
  {
   "cell_type": "markdown",
   "id": "d2265d74-9af5-4098-9149-917ea2843f29",
   "metadata": {
    "tags": []
   },
   "source": [
    "### Q11: Produce a report of members and who recommended them in alphabetic surname,firstname order"
   ]
  },
  {
   "cell_type": "code",
   "execution_count": 22,
   "id": "f5d78f13-a8ed-45d8-9c07-dacc326b769e",
   "metadata": {},
   "outputs": [
    {
     "data": {
      "text/html": [
       "<div>\n",
       "<style scoped>\n",
       "    .dataframe tbody tr th:only-of-type {\n",
       "        vertical-align: middle;\n",
       "    }\n",
       "\n",
       "    .dataframe tbody tr th {\n",
       "        vertical-align: top;\n",
       "    }\n",
       "\n",
       "    .dataframe thead th {\n",
       "        text-align: right;\n",
       "    }\n",
       "</style>\n",
       "<table border=\"1\" class=\"dataframe\">\n",
       "  <thead>\n",
       "    <tr style=\"text-align: right;\">\n",
       "      <th></th>\n",
       "      <th>surname</th>\n",
       "      <th>firstname</th>\n",
       "      <th>address</th>\n",
       "      <th>zipcode</th>\n",
       "      <th>telephone</th>\n",
       "      <th>recommendedby</th>\n",
       "      <th>joindate</th>\n",
       "    </tr>\n",
       "    <tr>\n",
       "      <th>memid</th>\n",
       "      <th></th>\n",
       "      <th></th>\n",
       "      <th></th>\n",
       "      <th></th>\n",
       "      <th></th>\n",
       "      <th></th>\n",
       "      <th></th>\n",
       "    </tr>\n",
       "  </thead>\n",
       "  <tbody>\n",
       "    <tr>\n",
       "      <th>0</th>\n",
       "      <td>GUEST</td>\n",
       "      <td>GUEST</td>\n",
       "      <td>GUEST</td>\n",
       "      <td>0</td>\n",
       "      <td>(000) 000-0000</td>\n",
       "      <td></td>\n",
       "      <td>2012-07-01 00:00:00</td>\n",
       "    </tr>\n",
       "    <tr>\n",
       "      <th>1</th>\n",
       "      <td>Smith</td>\n",
       "      <td>Darren</td>\n",
       "      <td>8 Bloomsbury Close, Boston</td>\n",
       "      <td>4321</td>\n",
       "      <td>555-555-5555</td>\n",
       "      <td></td>\n",
       "      <td>2012-07-02 12:02:05</td>\n",
       "    </tr>\n",
       "    <tr>\n",
       "      <th>2</th>\n",
       "      <td>Smith</td>\n",
       "      <td>Tracy</td>\n",
       "      <td>8 Bloomsbury Close, New York</td>\n",
       "      <td>4321</td>\n",
       "      <td>555-555-5555</td>\n",
       "      <td></td>\n",
       "      <td>2012-07-02 12:08:23</td>\n",
       "    </tr>\n",
       "    <tr>\n",
       "      <th>3</th>\n",
       "      <td>Rownam</td>\n",
       "      <td>Tim</td>\n",
       "      <td>23 Highway Way, Boston</td>\n",
       "      <td>23423</td>\n",
       "      <td>(844) 693-0723</td>\n",
       "      <td></td>\n",
       "      <td>2012-07-03 09:32:15</td>\n",
       "    </tr>\n",
       "    <tr>\n",
       "      <th>4</th>\n",
       "      <td>Joplette</td>\n",
       "      <td>Janice</td>\n",
       "      <td>20 Crossing Road, New York</td>\n",
       "      <td>234</td>\n",
       "      <td>(833) 942-4710</td>\n",
       "      <td>1</td>\n",
       "      <td>2012-07-03 10:25:05</td>\n",
       "    </tr>\n",
       "  </tbody>\n",
       "</table>\n",
       "</div>"
      ],
      "text/plain": [
       "        surname firstname                       address  zipcode  \\\n",
       "memid                                                              \n",
       "0         GUEST     GUEST                         GUEST        0   \n",
       "1         Smith    Darren    8 Bloomsbury Close, Boston     4321   \n",
       "2         Smith     Tracy  8 Bloomsbury Close, New York     4321   \n",
       "3        Rownam       Tim        23 Highway Way, Boston    23423   \n",
       "4      Joplette    Janice    20 Crossing Road, New York      234   \n",
       "\n",
       "            telephone recommendedby             joindate  \n",
       "memid                                                     \n",
       "0      (000) 000-0000                2012-07-01 00:00:00  \n",
       "1        555-555-5555                2012-07-02 12:02:05  \n",
       "2        555-555-5555                2012-07-02 12:08:23  \n",
       "3      (844) 693-0723                2012-07-03 09:32:15  \n",
       "4      (833) 942-4710             1  2012-07-03 10:25:05  "
      ]
     },
     "execution_count": 22,
     "metadata": {},
     "output_type": "execute_result"
    }
   ],
   "source": [
    "members.head()"
   ]
  },
  {
   "cell_type": "code",
   "execution_count": 23,
   "id": "3385a404-f7ba-44c3-9119-33f7d1e316cf",
   "metadata": {
    "tags": []
   },
   "outputs": [
    {
     "name": "stdout",
     "output_type": "stream",
     "text": [
      "2.6.0\n"
     ]
    },
    {
     "data": {
      "text/plain": [
       "[('Joplette,Janice', 'Smith,Darren'),\n",
       " ('Butters,Gerald', 'Smith,Darren'),\n",
       " ('Dare,Nancy', 'Joplette,Janice'),\n",
       " ('Boothe,Tim', 'Rownam,Tim'),\n",
       " ('Stibbons,Ponder', 'Tracy,Burton'),\n",
       " ('Owen,Charles', 'Smith,Darren'),\n",
       " ('Jones,David', 'Joplette,Janice'),\n",
       " ('Baker,Anne', 'Stibbons,Ponder'),\n",
       " ('Smith,Jack', 'Smith,Darren'),\n",
       " ('Bader,Florence', 'Stibbons,Ponder'),\n",
       " ('Baker,Timothy', 'Farrell,Jemima'),\n",
       " ('Pinker,David', 'Farrell,Jemima'),\n",
       " ('Genting,Matthew', 'Butters,Gerald'),\n",
       " ('Mackenzie,Anna', 'Smith,Darren'),\n",
       " ('Coplin,Joan', 'Baker,Timothy'),\n",
       " ('Sarwin,Ramnaresh', 'Bader,Florence'),\n",
       " ('Jones,Douglas', 'Jones,David'),\n",
       " ('Rumney,Henrietta', 'Genting,Matthew'),\n",
       " ('Worthington-Smyth,Henry', 'Smith,Tracy'),\n",
       " ('Purview,Millicent', 'Smith,Tracy'),\n",
       " ('Hunt,John', 'Purview,Millicent'),\n",
       " ('Crumpet,Erica', 'Smith,Tracy')]"
      ]
     },
     "execution_count": 23,
     "metadata": {},
     "output_type": "execute_result"
    }
   ],
   "source": [
    "query = \"\"\"select a.surname || ',' || a.firstname membername, b.surname || ',' || b.firstname recommendation from members a left join members b on a.recommendedby = b.memid where a.recommendedby > 0\"\"\"\n",
    "select_all_tasks(create_connection(\"sqlite_db_pythonsqlite.db\"),query)"
   ]
  },
  {
   "cell_type": "markdown",
   "id": "54920a27-ad8e-4fa8-b33c-5ff28242b96d",
   "metadata": {},
   "source": [
    "### Q12: Find the facilities with their usage by member, but not guests"
   ]
  },
  {
   "cell_type": "code",
   "execution_count": 24,
   "id": "9c08ac5d-92a7-4fe6-82c4-0c07e30ce6c3",
   "metadata": {
    "tags": []
   },
   "outputs": [
    {
     "name": "stdout",
     "output_type": "stream",
     "text": [
      "2.6.0\n"
     ]
    },
    {
     "data": {
      "text/plain": [
       "[('Tennis Court 2', 'Bader,Florence'),\n",
       " ('Tennis Court 2', 'Baker,Anne'),\n",
       " ('Tennis Court 2', 'Baker,Timothy'),\n",
       " ('Tennis Court 2', 'Boothe,Tim'),\n",
       " ('Tennis Court 2', 'Butters,Gerald'),\n",
       " ('Tennis Court 2', 'Dare,Nancy'),\n",
       " ('Tennis Court 2', 'Farrell,David'),\n",
       " ('Tennis Court 2', 'Farrell,Jemima'),\n",
       " ('Tennis Court 2', 'Hunt,John'),\n",
       " ('Tennis Court 2', 'Jones,David'),\n",
       " ('Tennis Court 2', 'Joplette,Janice'),\n",
       " ('Tennis Court 2', 'Owen,Charles'),\n",
       " ('Tennis Court 2', 'Purview,Millicent'),\n",
       " ('Tennis Court 2', 'Rownam,Tim'),\n",
       " ('Tennis Court 2', 'Rumney,Henrietta'),\n",
       " ('Tennis Court 2', 'Sarwin,Ramnaresh'),\n",
       " ('Tennis Court 2', 'Smith,Darren'),\n",
       " ('Tennis Court 2', 'Smith,Jack'),\n",
       " ('Tennis Court 2', 'Smith,Tracy'),\n",
       " ('Tennis Court 2', 'Stibbons,Ponder'),\n",
       " ('Tennis Court 2', 'Tracy,Burton'),\n",
       " ('Tennis Court 1', 'Bader,Florence'),\n",
       " ('Tennis Court 1', 'Baker,Anne'),\n",
       " ('Tennis Court 1', 'Baker,Timothy'),\n",
       " ('Tennis Court 1', 'Boothe,Tim'),\n",
       " ('Tennis Court 1', 'Butters,Gerald'),\n",
       " ('Tennis Court 1', 'Coplin,Joan'),\n",
       " ('Tennis Court 1', 'Crumpet,Erica'),\n",
       " ('Tennis Court 1', 'Dare,Nancy'),\n",
       " ('Tennis Court 1', 'Farrell,David'),\n",
       " ('Tennis Court 1', 'Farrell,Jemima'),\n",
       " ('Tennis Court 1', 'Genting,Matthew'),\n",
       " ('Tennis Court 1', 'Hunt,John'),\n",
       " ('Tennis Court 1', 'Jones,David'),\n",
       " ('Tennis Court 1', 'Jones,Douglas'),\n",
       " ('Tennis Court 1', 'Joplette,Janice'),\n",
       " ('Tennis Court 1', 'Owen,Charles'),\n",
       " ('Tennis Court 1', 'Pinker,David'),\n",
       " ('Tennis Court 1', 'Rownam,Tim'),\n",
       " ('Tennis Court 1', 'Sarwin,Ramnaresh'),\n",
       " ('Tennis Court 1', 'Smith,Jack'),\n",
       " ('Tennis Court 1', 'Smith,Tracy'),\n",
       " ('Tennis Court 1', 'Stibbons,Ponder'),\n",
       " ('Tennis Court 1', 'Tracy,Burton'),\n",
       " ('Table Tennis', 'Bader,Florence'),\n",
       " ('Table Tennis', 'Baker,Anne'),\n",
       " ('Table Tennis', 'Baker,Timothy'),\n",
       " ('Table Tennis', 'Boothe,Tim'),\n",
       " ('Table Tennis', 'Butters,Gerald'),\n",
       " ('Table Tennis', 'Coplin,Joan'),\n",
       " ('Table Tennis', 'Crumpet,Erica'),\n",
       " ('Table Tennis', 'Dare,Nancy'),\n",
       " ('Table Tennis', 'Farrell,Jemima'),\n",
       " ('Table Tennis', 'Genting,Matthew'),\n",
       " ('Table Tennis', 'Hunt,John'),\n",
       " ('Table Tennis', 'Jones,David'),\n",
       " ('Table Tennis', 'Joplette,Janice'),\n",
       " ('Table Tennis', 'Mackenzie,Anna'),\n",
       " ('Table Tennis', 'Owen,Charles'),\n",
       " ('Table Tennis', 'Pinker,David'),\n",
       " ('Table Tennis', 'Purview,Millicent'),\n",
       " ('Table Tennis', 'Rownam,Tim'),\n",
       " ('Table Tennis', 'Sarwin,Ramnaresh'),\n",
       " ('Table Tennis', 'Smith,Darren'),\n",
       " ('Table Tennis', 'Smith,Jack'),\n",
       " ('Table Tennis', 'Smith,Tracy'),\n",
       " ('Table Tennis', 'Stibbons,Ponder'),\n",
       " ('Table Tennis', 'Tracy,Burton'),\n",
       " ('Table Tennis', 'Worthington-Smyth,Henry'),\n",
       " ('Squash Court', 'Bader,Florence'),\n",
       " ('Squash Court', 'Baker,Anne'),\n",
       " ('Squash Court', 'Baker,Timothy'),\n",
       " ('Squash Court', 'Boothe,Tim'),\n",
       " ('Squash Court', 'Butters,Gerald'),\n",
       " ('Squash Court', 'Coplin,Joan'),\n",
       " ('Squash Court', 'Farrell,David'),\n",
       " ('Squash Court', 'Farrell,Jemima'),\n",
       " ('Squash Court', 'Hunt,John'),\n",
       " ('Squash Court', 'Jones,David'),\n",
       " ('Squash Court', 'Jones,Douglas'),\n",
       " ('Squash Court', 'Joplette,Janice'),\n",
       " ('Squash Court', 'Mackenzie,Anna'),\n",
       " ('Squash Court', 'Owen,Charles'),\n",
       " ('Squash Court', 'Pinker,David'),\n",
       " ('Squash Court', 'Purview,Millicent'),\n",
       " ('Squash Court', 'Rumney,Henrietta'),\n",
       " ('Squash Court', 'Sarwin,Ramnaresh'),\n",
       " ('Squash Court', 'Smith,Darren'),\n",
       " ('Squash Court', 'Smith,Jack'),\n",
       " ('Squash Court', 'Smith,Tracy'),\n",
       " ('Squash Court', 'Stibbons,Ponder'),\n",
       " ('Squash Court', 'Tracy,Burton'),\n",
       " ('Squash Court', 'Tupperware,Hyacinth'),\n",
       " ('Snooker Table', 'Bader,Florence'),\n",
       " ('Snooker Table', 'Boothe,Tim'),\n",
       " ('Snooker Table', 'Butters,Gerald'),\n",
       " ('Snooker Table', 'Coplin,Joan'),\n",
       " ('Snooker Table', 'Dare,Nancy'),\n",
       " ('Snooker Table', 'Farrell,David'),\n",
       " ('Snooker Table', 'Farrell,Jemima'),\n",
       " ('Snooker Table', 'Genting,Matthew'),\n",
       " ('Snooker Table', 'Jones,David'),\n",
       " ('Snooker Table', 'Joplette,Janice'),\n",
       " ('Snooker Table', 'Mackenzie,Anna'),\n",
       " ('Snooker Table', 'Owen,Charles'),\n",
       " ('Snooker Table', 'Pinker,David'),\n",
       " ('Snooker Table', 'Purview,Millicent'),\n",
       " ('Snooker Table', 'Rumney,Henrietta'),\n",
       " ('Snooker Table', 'Sarwin,Ramnaresh'),\n",
       " ('Snooker Table', 'Smith,Darren'),\n",
       " ('Snooker Table', 'Smith,Jack'),\n",
       " ('Snooker Table', 'Smith,Tracy'),\n",
       " ('Snooker Table', 'Stibbons,Ponder'),\n",
       " ('Snooker Table', 'Tracy,Burton'),\n",
       " ('Snooker Table', 'Tupperware,Hyacinth'),\n",
       " ('Pool Table', 'Bader,Florence'),\n",
       " ('Pool Table', 'Baker,Anne'),\n",
       " ('Pool Table', 'Baker,Timothy'),\n",
       " ('Pool Table', 'Boothe,Tim'),\n",
       " ('Pool Table', 'Butters,Gerald'),\n",
       " ('Pool Table', 'Coplin,Joan'),\n",
       " ('Pool Table', 'Dare,Nancy'),\n",
       " ('Pool Table', 'Farrell,David'),\n",
       " ('Pool Table', 'Farrell,Jemima'),\n",
       " ('Pool Table', 'Genting,Matthew'),\n",
       " ('Pool Table', 'Jones,David'),\n",
       " ('Pool Table', 'Jones,Douglas'),\n",
       " ('Pool Table', 'Joplette,Janice'),\n",
       " ('Pool Table', 'Mackenzie,Anna'),\n",
       " ('Pool Table', 'Owen,Charles'),\n",
       " ('Pool Table', 'Pinker,David'),\n",
       " ('Pool Table', 'Purview,Millicent'),\n",
       " ('Pool Table', 'Rownam,Tim'),\n",
       " ('Pool Table', 'Rumney,Henrietta'),\n",
       " ('Pool Table', 'Sarwin,Ramnaresh'),\n",
       " ('Pool Table', 'Smith,Darren'),\n",
       " ('Pool Table', 'Smith,Jack'),\n",
       " ('Pool Table', 'Smith,Tracy'),\n",
       " ('Pool Table', 'Stibbons,Ponder'),\n",
       " ('Pool Table', 'Tracy,Burton'),\n",
       " ('Pool Table', 'Tupperware,Hyacinth'),\n",
       " ('Pool Table', 'Worthington-Smyth,Henry'),\n",
       " ('Massage Room 2', 'Bader,Florence'),\n",
       " ('Massage Room 2', 'Baker,Anne'),\n",
       " ('Massage Room 2', 'Butters,Gerald'),\n",
       " ('Massage Room 2', 'Coplin,Joan'),\n",
       " ('Massage Room 2', 'Dare,Nancy'),\n",
       " ('Massage Room 2', 'Genting,Matthew'),\n",
       " ('Massage Room 2', 'Jones,David'),\n",
       " ('Massage Room 2', 'Joplette,Janice'),\n",
       " ('Massage Room 2', 'Owen,Charles'),\n",
       " ('Massage Room 2', 'Rownam,Tim'),\n",
       " ('Massage Room 2', 'Sarwin,Ramnaresh'),\n",
       " ('Massage Room 2', 'Smith,Jack'),\n",
       " ('Massage Room 1', 'Baker,Anne'),\n",
       " ('Massage Room 1', 'Baker,Timothy'),\n",
       " ('Massage Room 1', 'Boothe,Tim'),\n",
       " ('Massage Room 1', 'Butters,Gerald'),\n",
       " ('Massage Room 1', 'Coplin,Joan'),\n",
       " ('Massage Room 1', 'Crumpet,Erica'),\n",
       " ('Massage Room 1', 'Dare,Nancy'),\n",
       " ('Massage Room 1', 'Farrell,Jemima'),\n",
       " ('Massage Room 1', 'Genting,Matthew'),\n",
       " ('Massage Room 1', 'Hunt,John'),\n",
       " ('Massage Room 1', 'Jones,David'),\n",
       " ('Massage Room 1', 'Joplette,Janice'),\n",
       " ('Massage Room 1', 'Mackenzie,Anna'),\n",
       " ('Massage Room 1', 'Owen,Charles'),\n",
       " ('Massage Room 1', 'Pinker,David'),\n",
       " ('Massage Room 1', 'Rownam,Tim'),\n",
       " ('Massage Room 1', 'Sarwin,Ramnaresh'),\n",
       " ('Massage Room 1', 'Smith,Darren'),\n",
       " ('Massage Room 1', 'Smith,Jack'),\n",
       " ('Massage Room 1', 'Smith,Tracy'),\n",
       " ('Massage Room 1', 'Stibbons,Ponder'),\n",
       " ('Massage Room 1', 'Tracy,Burton'),\n",
       " ('Massage Room 1', 'Tupperware,Hyacinth'),\n",
       " ('Massage Room 1', 'Worthington-Smyth,Henry'),\n",
       " ('Badminton Court', 'Bader,Florence'),\n",
       " ('Badminton Court', 'Baker,Anne'),\n",
       " ('Badminton Court', 'Baker,Timothy'),\n",
       " ('Badminton Court', 'Boothe,Tim'),\n",
       " ('Badminton Court', 'Butters,Gerald'),\n",
       " ('Badminton Court', 'Crumpet,Erica'),\n",
       " ('Badminton Court', 'Dare,Nancy'),\n",
       " ('Badminton Court', 'Farrell,Jemima'),\n",
       " ('Badminton Court', 'Hunt,John'),\n",
       " ('Badminton Court', 'Jones,David'),\n",
       " ('Badminton Court', 'Jones,Douglas'),\n",
       " ('Badminton Court', 'Mackenzie,Anna'),\n",
       " ('Badminton Court', 'Owen,Charles'),\n",
       " ('Badminton Court', 'Pinker,David'),\n",
       " ('Badminton Court', 'Purview,Millicent'),\n",
       " ('Badminton Court', 'Rownam,Tim'),\n",
       " ('Badminton Court', 'Sarwin,Ramnaresh'),\n",
       " ('Badminton Court', 'Smith,Darren'),\n",
       " ('Badminton Court', 'Smith,Jack'),\n",
       " ('Badminton Court', 'Smith,Tracy'),\n",
       " ('Badminton Court', 'Stibbons,Ponder'),\n",
       " ('Badminton Court', 'Tracy,Burton'),\n",
       " ('Badminton Court', 'Tupperware,Hyacinth'),\n",
       " ('Badminton Court', 'Worthington-Smyth,Henry')]"
      ]
     },
     "execution_count": 24,
     "metadata": {},
     "output_type": "execute_result"
    }
   ],
   "source": [
    "query = \"\"\"select a.name, c.surname || ',' || c.firstname membername from facilities a left join bookings b on a.facid = b.facid left join members c on b.memid = c.memid group by a.name, membername having c.memid !=0 order by a.name desc\"\"\"\n",
    "select_all_tasks(create_connection(\"sqlite_db_pythonsqlite.db\"),query)"
   ]
  },
  {
   "cell_type": "markdown",
   "id": "3ee83845-a4b6-4500-893c-369072647000",
   "metadata": {},
   "source": [
    "### Q13: Find the facilities usage by month, but not guests"
   ]
  },
  {
   "cell_type": "code",
   "execution_count": 25,
   "id": "376e4370-b289-443d-bac9-d44ff024f6c8",
   "metadata": {
    "tags": []
   },
   "outputs": [
    {
     "name": "stdout",
     "output_type": "stream",
     "text": [
      "2.6.0\n"
     ]
    },
    {
     "data": {
      "text/plain": [
       "[('Badminton Court', '2012-07', 51),\n",
       " ('Badminton Court', '2012-08', 132),\n",
       " ('Badminton Court', '2012-09', 161),\n",
       " ('Massage Room 1', '2012-07', 77),\n",
       " ('Massage Room 1', '2012-08', 153),\n",
       " ('Massage Room 1', '2012-09', 191),\n",
       " ('Massage Room 2', '2012-07', 4),\n",
       " ('Massage Room 2', '2012-08', 9),\n",
       " ('Massage Room 2', '2012-09', 14),\n",
       " ('Pool Table', '2012-07', 103),\n",
       " ('Pool Table', '2012-08', 272),\n",
       " ('Pool Table', '2012-09', 408),\n",
       " ('Snooker Table', '2012-07', 68),\n",
       " ('Snooker Table', '2012-08', 154),\n",
       " ('Snooker Table', '2012-09', 199),\n",
       " ('Squash Court', '2012-07', 23),\n",
       " ('Squash Court', '2012-08', 85),\n",
       " ('Squash Court', '2012-09', 87),\n",
       " ('Table Tennis', '2012-07', 48),\n",
       " ('Table Tennis', '2012-08', 143),\n",
       " ('Table Tennis', '2012-09', 194),\n",
       " ('Tennis Court 1', '2012-07', 65),\n",
       " ('Tennis Court 1', '2012-08', 111),\n",
       " ('Tennis Court 1', '2012-09', 132),\n",
       " ('Tennis Court 2', '2012-07', 41),\n",
       " ('Tennis Court 2', '2012-08', 109),\n",
       " ('Tennis Court 2', '2012-09', 126)]"
      ]
     },
     "execution_count": 25,
     "metadata": {},
     "output_type": "execute_result"
    }
   ],
   "source": [
    "query = \"\"\"select distinct a.name, strftime('%Y-%m',b.starttime) monthdate, count(*) over (partition by a.name, strftime('%Y-%m',b.starttime)) usage from facilities a left join bookings b on a.facid = b.facid left join members c on b.memid = c.memid where c.memid != 0\"\"\"\n",
    "select_all_tasks(create_connection(\"sqlite_db_pythonsqlite.db\"),query)"
   ]
  }
 ],
 "metadata": {
  "kernelspec": {
   "display_name": "Python 3",
   "language": "python",
   "name": "python3"
  },
  "language_info": {
   "codemirror_mode": {
    "name": "ipython",
    "version": 3
   },
   "file_extension": ".py",
   "mimetype": "text/x-python",
   "name": "python",
   "nbconvert_exporter": "python",
   "pygments_lexer": "ipython3",
   "version": "3.8.8"
  }
 },
 "nbformat": 4,
 "nbformat_minor": 5
}
