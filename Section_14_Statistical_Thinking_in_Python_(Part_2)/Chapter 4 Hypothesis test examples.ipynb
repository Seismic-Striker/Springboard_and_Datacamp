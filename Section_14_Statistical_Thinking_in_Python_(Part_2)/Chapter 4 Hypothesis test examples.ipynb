{
 "cells": [
  {
   "cell_type": "code",
   "execution_count": 21,
   "id": "aa69ca8f",
   "metadata": {},
   "outputs": [
    {
     "ename": "NameError",
     "evalue": "name 'versicolor_petal_length' is not defined",
     "output_type": "error",
     "traceback": [
      "\u001b[1;31m---------------------------------------------------------------------------\u001b[0m",
      "\u001b[1;31mNameError\u001b[0m                                 Traceback (most recent call last)",
      "\u001b[1;32m<ipython-input-21-bfe0869a6298>\u001b[0m in \u001b[0;36m<module>\u001b[1;34m\u001b[0m\n\u001b[0;32m    108\u001b[0m \u001b[1;33m\u001b[0m\u001b[0m\n\u001b[0;32m    109\u001b[0m \u001b[1;31m# Compute Pearson correlation coefficient for I. versicolor: r\u001b[0m\u001b[1;33m\u001b[0m\u001b[1;33m\u001b[0m\u001b[1;33m\u001b[0m\u001b[0m\n\u001b[1;32m--> 110\u001b[1;33m \u001b[0mr\u001b[0m \u001b[1;33m=\u001b[0m \u001b[0mpearson_r\u001b[0m\u001b[1;33m(\u001b[0m\u001b[0mversicolor_petal_length\u001b[0m\u001b[1;33m,\u001b[0m\u001b[0mversicolor_petal_width\u001b[0m\u001b[1;33m)\u001b[0m\u001b[1;33m\u001b[0m\u001b[1;33m\u001b[0m\u001b[0m\n\u001b[0m\u001b[0;32m    111\u001b[0m \u001b[1;33m\u001b[0m\u001b[0m\n\u001b[0;32m    112\u001b[0m \u001b[1;31m# Print the result\u001b[0m\u001b[1;33m\u001b[0m\u001b[1;33m\u001b[0m\u001b[1;33m\u001b[0m\u001b[0m\n",
      "\u001b[1;31mNameError\u001b[0m: name 'versicolor_petal_length' is not defined"
     ]
    }
   ],
   "source": [
    "import pandas as pd\n",
    "import matplotlib.pyplot as plt\n",
    "import seaborn as sns\n",
    "import numpy as np\n",
    "import os\n",
    "import datetime\n",
    "import seaborn as sns\n",
    "female_literacy_fertility = pd.read_csv('female_literacy_fertility.csv')\n",
    "literacy = female_literacy_fertility.iloc[1:,2].values\n",
    "illiteracy = 100 - literacy\n",
    "fertility = female_literacy_fertility.iloc[1:,3].values\n",
    "sns.set_theme()\n",
    "wd=os.getcwd()\n",
    "os.listdir(wd)\n",
    "nohitter_times = np.array([843, 1613, 1101,  215,  684,  814,  278,  324,  161,  219,  545, 715,  966,  624,   29,  450,  107,   20,   91, 1325,  124, 1468,104, 1309,  429,   62, 1878, 1104,  123,  251,   93,  188,  983,166,   96,  702,   23,  524,   26,  299,   59,   39,   12,    2,308, 1114,  813,  887,  645, 2088,   42, 2090,   11,  886, 1665,1084, 2900, 2432,  750, 4021, 1070, 1765, 1322,   26,  548, 1525,77, 2181, 2752,  127, 2147,  211,   41, 1575,  151,  479,  697,557, 2267,  542,  392,   73,  603,  233,  255,  528,  397, 1529,1023, 1194,  462,  583,   37,  943,  996,  480, 1497,  717,  224,219, 1531,  498,   44,  288,  267,  600,   52,  269, 1086,  386,176, 2199,  216,   54,  675, 1243,  463,  650,  171,  327,  110,774,  509,    8,  197,  136,   12, 1124,   64,  380,  811,  232,192,  731,  715,  226,  605,  539, 1491,  323,  240,  179,  702,156,   82, 1397,  354,  778,  603, 1001,  385,  986,  203,  149,576,  445,  180, 1403,  252,  675, 1351, 2983, 1568,   45,  899,3260, 1025,   31,  100, 2055, 4043,   79,  238, 3931, 2351,  595,110,  215,    0,  563,  206,  660,  242,  577,  179,  157,  192,192, 1848,  792, 1693,   55,  388,  225, 1134, 1172, 1555,   31,1582, 1044,  378, 1687, 2915,  280,  765, 2819,  511, 1521,  745,2491,  580, 2072, 6450,  578,  745, 1075, 1103, 1549, 1520,  138,1202,  296,  277,  351,  391,  950,  459,   62, 1056, 1128,  139,420,   87,   71,  814,  603, 1349,  162, 1027,  783,  326,  101,876,  381,  905,  156,  419,  239,  119,  129,  467])\n",
    "def ecdf(data):\n",
    "    \"\"\"Compute ECDF for a one-dimensional array of measurements.\"\"\"\n",
    "    # Number of data points: n\n",
    "    n = len(data)\n",
    "    # x-data for the ECDF: x\n",
    "    x = np.sort(data)\n",
    "    # y-data for the ECDF: y\n",
    "    y = np.arange(1, n+1) / n\n",
    "    return x, y\n",
    "def pearson_r(x, y):\n",
    "    \"\"\"Compute Pearson correlation coefficient between two arrays.\"\"\"\n",
    "    # Compute correlation matrix: corr_mat\n",
    "    corr_mat = np.corrcoef(x,y)\n",
    "    # Return entry [0,1]\n",
    "    return corr_mat[0,1]\n",
    "weather = pd.read_csv('sheffield_weather_station.csv',header=8,delim_whitespace=True)\n",
    "weather.columns=['year','month','Max Temp Cel.','Min Temp Cel.','Airfrost','Rain','Sun Hours']\n",
    "yearly_weather = weather.groupby('year').sum()\n",
    "rainfall = yearly_weather.loc[1:,'Rain'].values\n",
    "june = weather[weather['month']==6]\n",
    "november = weather[weather['month']==11]\n",
    "rain_june = june.loc[1:,'Rain'].values\n",
    "rain_november = november.loc[1:,'Rain'].values\n",
    "#Here we are creating the df values that match the exercise\n",
    "FROGGY = pd.read_csv('frog_tongue.csv', header=14)\n",
    "FROG = FROGGY[(FROGGY['ID'] == 'II') | (FROGGY['ID'] == 'IV') ]\n",
    "df = FROG.drop(FROG.columns[[0, 2, 4,5,6,7,8,9,10,11,12,13,14]], axis=1)\n",
    "df.rename(columns={'ID': 'ID', 'impact force (mN)': 'impact_force'}, inplace=True)\n",
    "df.impact_force = df.impact_force / 1000\n",
    "#df.iloc[startrow:endrow, startcolumn:endcolumn]\n",
    "force_a = df.iloc[0:20,1].values\n",
    "force_b = df.iloc[20:39,1].values\n",
    "forces_concat = df.iloc[:,1].values\n",
    "empirical_diff_means = np.mean(force_a) - np.mean(force_b)\n",
    "def bootstrap_replicate_1d(data, func):\n",
    "    \"\"\"Generate bootstrap replicate of 1D data.\"\"\"\n",
    "    bs_sample = np.random.choice(data, len(data))\n",
    "    return func(bs_sample)\n",
    "\n",
    "def draw_bs_reps(data, func, size=1):\n",
    "    \"\"\"Draw bootstrap replicates.\"\"\"\n",
    "    # Initialize array of replicates: bs_replicates\n",
    "    bs_replicates = np.empty(size)\n",
    "    # Generate replicates\n",
    "    for i in range(size):\n",
    "        bs_replicates[i] = bootstrap_replicate_1d(data,func)\n",
    "    return bs_replicates\n",
    "\n",
    "def draw_perm_reps(data_1, data_2, func, size=1):\n",
    "    \"\"\"Generate multiple permutation replicates.\"\"\"\n",
    "\n",
    "    # Initialize array of replicates: perm_replicates\n",
    "    perm_replicates = np.empty(size)\n",
    "\n",
    "    for i in range(size):\n",
    "        # Generate permutation sample\n",
    "        perm_sample_1, perm_sample_2 = permutation_sample(data_1, data_2)\n",
    "\n",
    "        # Compute the test statistic\n",
    "        perm_replicates[i] = func(perm_sample_1, perm_sample_2)\n",
    "\n",
    "    return perm_replicates\n",
    "def diff_of_means(data_1, data_2):\n",
    "    \"\"\"Difference in means of two arrays.\"\"\"\n",
    "\n",
    "    # The difference of means of data_1, data_2: diff\n",
    "    diff = np.mean(data_1) - np.mean(data_2)\n",
    "\n",
    "    return diff\n",
    "def permutation_sample(data1, data2):\n",
    "    \"\"\"Generate a permutation sample from two data sets.\"\"\"\n",
    "\n",
    "    # Concatenate the data sets: data\n",
    "    data = np.concatenate((data1,data2))\n",
    "\n",
    "    # Permute the concatenated array: permuted_data\n",
    "    permuted_data = np.random.permutation(data)\n",
    "\n",
    "    # Split the permuted array into two: perm_sample_1, perm_sample_2\n",
    "    perm_sample_1 = permuted_data[:len(data1)]\n",
    "    perm_sample_2 = permuted_data[len(data1):]\n",
    "\n",
    "    return perm_sample_1, perm_sample_2\n",
    "nht_dead = np.array([  -1,  894,   10,  130,    1,  934,   29,    6,  485,  254,  372,81,  191,  355,  180,  286,   47,  269,  361,  173,  246,  492,462, 1319,   58,  297,   31, 2970,  640,  237,  434,  570,   77,271,  563, 3365,   89,    0,  379,  221,  479,  367,  628,  843,1613, 1101,  215,  684,  814,  278,  324,  161,  219,  545,  715,966,  624,   29,  450,  107,   20,   91, 1325,  124, 1468,  104,1309,  429,   62, 1878, 1104,  123,  251,   93,  188,  983,  166,96,  702,   23,  524,   26,  299,   59,   39,   12,    2,  308,1114,  813,  887])\n",
    "nht_live = np.array([ 645, 2088,   42, 2090,   11,  886, 1665, 1084, 2900, 2432,  750,4021, 1070, 1765, 1322,   26,  548, 1525,   77, 2181, 2752,  127,2147,  211,   41, 1575,  151,  479,  697,  557, 2267,  542,  392,73,  603,  233,  255,  528,  397, 1529, 1023, 1194,  462,  583,37,  943,  996,  480, 1497,  717,  224,  219, 1531,  498,   44,288,  267,  600,   52,  269, 1086,  386,  176, 2199,  216,   54,675, 1243,  463,  650,  171,  327,  110,  774,  509,    8,  197,136,   12, 1124,   64,  380,  811,  232,  192,  731,  715,  226,605,  539, 1491,  323,  240,  179,  702,  156,   82, 1397,  354,778,  603, 1001,  385,  986,  203,  149,  576,  445,  180, 1403,252,  675, 1351, 2983, 1568,   45,  899, 3260, 1025,   31,  100,2055, 4043,   79,  238, 3931, 2351,  595,  110,  215,    0,  563,206,  660,  242,  577,  179,  157,  192,  192, 1848,  792, 1693,55,  388,  225, 1134, 1172, 1555,   31, 1582, 1044,  378, 1687,2915,  280,  765, 2819,  511, 1521,  745, 2491,  580, 2072, 6450,578,  745, 1075, 1103, 1549, 1520,  138, 1202,  296,  277,  351,391,  950,  459,   62, 1056, 1128,  139,  420,   87,   71,  814,603, 1349,  162, 1027,  783,  326,  101,  876,  381,  905,  156,419,  239,  119,  129,  467])\n",
    "def pearson_r(x, y):\n",
    "    \"\"\"Compute Pearson correlation coefficient between two arrays.\"\"\"\n",
    "    # Compute correlation matrix: corr_mat\n",
    "    corr_mat = np.corrcoef(x,y)\n",
    "\n",
    "    # Return entry [0,1]\n",
    "    return corr_mat[0,1]\n",
    "\n",
    "# Compute Pearson correlation coefficient for I. versicolor: r\n",
    "r = pearson_r(versicolor_petal_length,versicolor_petal_width)\n",
    "\n",
    "# Print the result\n",
    "print(r)"
   ]
  },
  {
   "cell_type": "markdown",
   "id": "6160a0f4",
   "metadata": {},
   "source": [
    "# 1. A/B testing\n",
    "Imagine your company has a proposed redesign of the splash page of its website. They are interested in how many more users click through to the website for the redesign versus the original design. You devise a test.\n",
    "\n",
    "2. Is your redesign effective?\n",
    "Take a set of 1000 visitors to the site and direct 500 of them to the original splash page and 500 of them to the redesigned one. You determine whether or not each of them clicks through to the rest of the website. On the original page, which we'll call page A,\n",
    "\n",
    "3. Is your redesign effective?\n",
    "45 visitors clicked through, and on the redesigned page, page B, 67 visitors clicked through. This makes you happy because that is almost a 50% increase in the click-through rate. But maybe there really is no difference between the effect of two designs on click-through rate and the difference you saw is due the random chance. You want to check: what is the probability that you would observe at least the observed difference in number of clicks through if that were the case? This is asking exactly the question you can address with\n",
    "\n",
    "4. Null hypothesis\n",
    "a hypothesis test. A permutation test is a good choice here because you can simulate the result as if the redesign had no effect on the click-through rate. Let's code it up in Python:\n",
    "\n",
    "5. Permutation test of clicks through\n",
    "for each splash page design, we have a NumPy array which contains 1 or 0 values for whether or not a visitor clicked through. Next, we need to define a function diff_frac for our test statistic. Ours is the fraction of visitors who click through. We can compute the fraction who click through by summing the entries in the arrays of ones and zeros and then dividing by the number of entries. Finally we compute the observed value of the test statistic using this function diff_frac. Now everything is in place to generate our permutation replicates of the test statistic\n",
    "\n",
    "6. Permutation test of clicks through\n",
    "using the permutation_replicate function you wrote in the exercises; we will generate 10,000. We compute the p-value as the number of replicates where the test statistic was at least as great as what we observed. We get a value of 0-point-016, which is relatively small, so we might reasonably think that the redesign is a real improvement. This is an example of an A/B test.\n",
    "\n",
    "7. A/B test\n",
    "A/B testing is often used by organizations to see if a change in strategy gives different, hopefully better, results. Generally,\n",
    "\n",
    "8. Null hypothesis of an A/B test\n",
    "the null hypothesis in an A/B test is that your test statistic is impervious to the change. A low p-value implies that the change in strategy lead to a change in performance. Once again, though, be warned that statistical significance does not mean practical significance. A difference in click-though rate may be statistically significant, but if it is only a couple people more per day, your marketing team may not consider the change worth the cost! A/B testing is just a special case of the hypothesis testing framework we have already been working with, a fun and informative one.\n",
    "\n",
    "9. Let's practice!\n",
    "Let's practice in with some exercises!"
   ]
  },
  {
   "cell_type": "markdown",
   "id": "17d5f424",
   "metadata": {},
   "source": [
    "# The vote for the Civil Rights Act in 1964\n",
    "The Civil Rights Act of 1964 was one of the most important pieces of legislation ever passed in the USA. Excluding \"present\" and \"abstain\" votes, 153 House Democrats and 136 Republicans voted yea. However, 91 Democrats and 35 Republicans voted nay. Did party affiliation make a difference in the vote?\n",
    "\n",
    "To answer this question, you will evaluate the hypothesis that the party of a House member has no bearing on his or her vote. You will use the fraction of Democrats voting in favor as your test statistic and evaluate the probability of observing a fraction of Democrats voting in favor at least as small as the observed fraction of 153/244. (That's right, at least as small as. In 1964, it was the Democrats who were less progressive on civil rights issues.) To do this, permute the party labels of the House voters and then arbitrarily divide them into \"Democrats\" and \"Republicans\" and compute the fraction of Democrats voting yea.\n",
    "\n",
    "Instructions\n",
    "70 XP\n",
    "Construct Boolean arrays, dems and reps that contain the votes of the respective parties; e.g., dems has 153 True entries and 91 False entries.\n",
    "Write a function, frac_yea_dems(dems, reps) that returns the fraction of Democrats that voted yea. The first input is an array of Booleans, Two inputs are required to use your draw_perm_reps() function, but the second is not used.\n",
    "Use your draw_perm_reps() function to draw 10,000 permutation replicates of the fraction of Democrat yea votes.\n",
    "Compute and print the p-value.\n",
    "\n",
    "\n",
    "Show Answer (-70 XP)\n",
    "Hint\n",
    "You can initialize an array with np.array(). For example, the statement np.array([True] * 5 + [False] * 3) creates a Boolean array with 5 True entries and 3 False entries.\n",
    "A 'yea' vote, in Boolean terms, is represented as a 1, or a True, while a 'nay' is represented as a 0, or a False. To calculate the fraction of Democrats that voted 'yea', you can add all the entries in your dems array with np.sum, and divide it by the total number of entries (which you can calculate with len()).\n",
    "In draw_perm_reps(), the func argument should be the function you wrote above. Recall that the other arguments needed are your two arrays and the number of permutation replicates you want to draw.\n",
    "The p-value can be computed by calculating the fraction of perm_samples that are <= the value returned by frac_yea_dems (which also happens to be the mean of Democrat votes). This can be done by appropriately using np.sum() in the numerator and len() in the denominator."
   ]
  },
  {
   "cell_type": "code",
   "execution_count": 22,
   "id": "b57fc8d7",
   "metadata": {},
   "outputs": [
    {
     "name": "stdout",
     "output_type": "stream",
     "text": [
      "p-value = 0.0001\n"
     ]
    }
   ],
   "source": [
    "# Construct arrays of data: dems, reps\n",
    "dems = np.array([True] * 153 + [False] * 91)\n",
    "reps =np.array([True] * 136 + [False] * 35)\n",
    "\n",
    "def frac_yea_dems(dems, reps):\n",
    "    \"\"\"Compute fraction of Democrat yea votes.\"\"\"\n",
    "    frac = sum(dems) / len(dems)\n",
    "    return frac\n",
    "\n",
    "# Acquire permutation samples: perm_replicates\n",
    "perm_replicates = draw_perm_reps(dems, reps, frac_yea_dems, 10000)\n",
    "\n",
    "# Compute and print p-value: p\n",
    "p = np.sum(perm_replicates <= 153/244) / len(perm_replicates)\n",
    "print('p-value =', p)"
   ]
  },
  {
   "cell_type": "markdown",
   "id": "c7493fc4",
   "metadata": {},
   "source": [
    "#### This small p-value suggests that party identity had a lot to do with the voting. Importantly, the South had a higher fraction of Democrat representatives, and consequently also a more racist bias."
   ]
  },
  {
   "cell_type": "markdown",
   "id": "c33658c6",
   "metadata": {},
   "source": [
    "# A time-on-website analog\n",
    "It turns out that you already did a hypothesis test analogous to an A/B test where you are interested in how much time is spent on the website before and after an ad campaign. The frog tongue force (a continuous quantity like time on the website) is an analog. \"Before\" = Frog A and \"after\" = Frog B. Let's practice this again with something that actually is a before/after scenario.\n",
    "\n",
    "We return to the no-hitter data set. In 1920, Major League Baseball implemented important rule changes that ended the so-called dead ball era. Importantly, the pitcher was no longer allowed to spit on or scuff the ball, an activity that greatly favors pitchers. In this problem you will perform an A/B test to determine if these rule changes resulted in a slower rate of no-hitters (i.e., longer average time between no-hitters) using the difference in mean inter-no-hitter time as your test statistic. The inter-no-hitter times for the respective eras are stored in the arrays nht_dead and nht_live, where \"nht\" is meant to stand for \"no-hitter time.\"\n",
    "\n",
    "Since you will be using your draw_perm_reps() function in this exercise, it may be useful to remind yourself of its call signature: draw_perm_reps(d1, d2, func, size=1) or even referring back to the chapter 3 exercise in which you defined it.\n",
    "\n",
    "\n",
    "Compute the observed difference in mean inter-nohitter time using diff_of_means().\n",
    "\n",
    "Generate 10,000 permutation replicates of the difference of means using draw_perm_reps().\n",
    "\n",
    "Compute and print the p-value.\n",
    "\n",
    "\n",
    "Show Answer (-70 XP)\n",
    "Hint\n",
    "\n",
    "Use your diff_of_means() function to calculate the difference between nht_dead and nht_live.\n",
    "\n",
    "Use your draw_perm_reps() function to generate the 10,000 replicates. The func argument here is diff_of_means.\n",
    "The p-value here is the fraction of permutation replicates that are <= the observed difference in mean inter-nohitter times you computed above and stored in nht_diff_obs."
   ]
  },
  {
   "cell_type": "code",
   "execution_count": 23,
   "id": "ca553230",
   "metadata": {},
   "outputs": [
    {
     "name": "stdout",
     "output_type": "stream",
     "text": [
      "p-val = 0.0\n"
     ]
    }
   ],
   "source": [
    "# Compute the observed difference in mean inter-no-hitter times: nht_diff_obs\n",
    "nht_diff_obs = diff_of_means(nht_dead, nht_live)\n",
    "\n",
    "# Acquire 10,000 permutation replicates of difference in mean no-hitter time: perm_replicates\n",
    "perm_replicates = draw_perm_reps(nht_dead,nht_live,diff_of_means,10000)\n",
    "\n",
    "\n",
    "# Compute and print the p-value: p\n",
    "p = np.sum(perm_replicates<=nht_diff_obs)/len(perm_replicates)\n",
    "print('p-val =', p)"
   ]
  },
  {
   "cell_type": "markdown",
   "id": "84461083",
   "metadata": {},
   "source": [
    "#### Your p-value is 0.0001, which means that only one out of your 10,000 replicates had a result as extreme as the actual difference between the dead ball and live ball eras. This suggests strong statistical significance. Watch out, though, you could very well have gotten zero replicates that were as extreme as the observed value. This just means that the p-value is quite small, almost certainly smaller than 0.001. "
   ]
  },
  {
   "cell_type": "markdown",
   "id": "5184965e",
   "metadata": {},
   "source": [
    " What should you have done first?That was a nice hypothesis test you just did to check out whether the rule changes in 1920 changed the rate of no-hitters. But what should you have done with the data first?\n",
    "\n",
    "#### Performed EDA, perhaps plotting the ECDFs of inter-no-hitter times in the dead ball and live ball eras\n",
    "\n",
    "Yes! Always a good idea to do first! I encourage you to go ahead and plot the ECDFs right now. You will see by eye that the null hypothesis that the distributions are the same is almost certainly not true."
   ]
  },
  {
   "cell_type": "code",
   "execution_count": 24,
   "id": "16b2d65f",
   "metadata": {},
   "outputs": [
    {
     "data": {
      "image/png": "[encoded data removed]",
      "text/plain": [
       "<Figure size 432x288 with 1 Axes>"
      ]
     },
     "metadata": {},
     "output_type": "display_data"
    }
   ],
   "source": [
    "for i in range(0,50):\n",
    "    # Generate permutation samples\n",
    "    perm_sample_1, perm_sample_2 = permutation_sample(nht_dead,nht_live)\n",
    "\n",
    "\n",
    "    # Compute ECDFs\n",
    "    x_1, y_1 = ecdf(perm_sample_1)\n",
    "    x_2, y_2 = ecdf(perm_sample_2)\n",
    "\n",
    "    # Plot ECDFs of permutation sample\n",
    "    _ = plt.plot(x_1, y_1, marker='.', linestyle='none',\n",
    "                 color='red', alpha=0.02)\n",
    "    _ = plt.plot(x_2, y_2, marker='.', linestyle='none',\n",
    "                 color='blue', alpha=0.02)\n",
    "\n",
    "# Create and plot ECDFs from original data\n",
    "x_1, y_1 = ecdf(nht_dead)\n",
    "x_2, y_2 = ecdf(nht_live)\n",
    "_ = plt.plot(x_1, y_1, marker='.', linestyle='none', color='red')\n",
    "_ = plt.plot(x_2, y_2, marker='.', linestyle='none', color='blue')\n",
    "\n",
    "# Label axes, set margin, and show plot\n",
    "plt.margins(0.02)\n",
    "_ = plt.xlabel('games between no hitters')\n",
    "_ = plt.ylabel('ECDF')\n",
    "plt.show()"
   ]
  },
  {
   "cell_type": "markdown",
   "id": "daa1cf02",
   "metadata": {},
   "source": [
    "# 1. Test of correlation\n",
    "Consider again the swing state county-level voting data.\n",
    "\n",
    "2. 2008 US swing state election results\n",
    "In the prequel to this course, we computed the Pearson correlation coefficient between Obama's vote share and the total number of votes. Remember the Pearson correlation coefficient is a measure of how much of the variability in two variables is due to them being correlated. It ranges from -1 for totally negatively correlated to 1 for positively correlated. We got a value of about point-54. This value of the Pearson correlation indicates that the data are not perfectly correlated, but are correlated nonetheless. But how can we know for sure if this correlation is real, or if it could have happened just by chance?\n",
    "\n",
    "1 Data retrieved from Data.gov (https://www.data.gov/)\n",
    "3. Hypothesis test of correlation\n",
    "We can do a hypothesis test! We posit a null hypothesis that there is no correlation between the two variables, in this case Obama's vote share and total votes. We then simulate the election assuming the null hypothesis is true (which you will figure out how to do in the exercises), and use the Pearson correlation coefficient as the test statistic. The p-value is then the fraction of replicates that have a Pearson correlation coefficient at least as large as what was observed. I did this procedure, and in all 10,000 of my replicates under the null hypothesis,\n",
    "\n",
    "4. More populous counties voted for Obama\n",
    "not one had a Pearson correlation coefficient as high as the observed value of point-54. I tried generating 100,000, and then a million replicates. In all cases, not one replicate had a Pearson correlation coefficient as high as point-54. This does not mean that the p-value is zero. It means that it is so low that we would have to generate an enormous number of replicates to have even one that has a test statistic sufficiently extreme. We conclude that the p-value\n",
    "\n",
    "5. More populous counties voted for Obama\n",
    "is very very small and there is essentially no doubt that counties with higher vote count tended to vote for Obama. After all, that is how he won the election.\n",
    "\n",
    "6. Let's practice!\n",
    "Now it is your turn to think about how to do a hypothesis test on correlation and execute it!"
   ]
  },
  {
   "cell_type": "markdown",
   "id": "5a8856d8",
   "metadata": {},
   "source": [
    "Simulating a null hypothesis concerning correlation\n",
    "The observed correlation between female illiteracy and fertility in the data set of 162 countries may just be by chance; the fertility of a given country may actually be totally independent of its illiteracy. You will test this null hypothesis in the next exercise.\n",
    "\n",
    "To do the test, you need to simulate the data assuming the null hypothesis is true. Of the following choices, which is the best way to do it?\n",
    "#### Do a permutation test: Permute the illiteracy values but leave the fertility values fixed to generate a new set of (illiteracy, fertility) data.\n",
    "\n",
    "Yes, this exactly simulates the null hypothesis and does so more efficiently than the last option. It is exact because it uses all data and eliminates any correlation because which illiteracy value pairs to which fertility value is shuffled."
   ]
  },
  {
   "cell_type": "markdown",
   "id": "7610a717",
   "metadata": {},
   "source": [
    "# Hypothesis test on Pearson correlation\n",
    "\n",
    "The observed correlation between female illiteracy and fertility may just be by chance; the fertility of a given country may actually be totally independent of its illiteracy. You will test this hypothesis. To do so, permute the illiteracy values but leave the fertility values fixed. This simulates the hypothesis that they are totally independent of each other. For each permutation, compute the Pearson correlation coefficient and assess how many of your permutation replicates have a Pearson correlation coefficient greater than the observed one.\n",
    "\n",
    "The function pearson_r() that you wrote in the prequel to this course for computing the Pearson correlation coefficient is already available for you.\n",
    "\n",
    "\n",
    "Compute the observed Pearson correlation between illiteracy and fertility.\n",
    "\n",
    "Initialize an array to store your permutation replicates.\n",
    "\n",
    "Write a for loop to draw 10,000 replicates:\n",
    "\n",
    "Permute the illiteracy measurements using np.random.permutation().\n",
    "\n",
    "Compute the Pearson correlation between the permuted illiteracy array, illiteracy_permuted, and fertility.\n",
    "\n",
    "Compute and print the p-value from the replicates."
   ]
  },
  {
   "cell_type": "markdown",
   "id": "f6343843",
   "metadata": {},
   "source": [
    "# Hypothesis test on Pearson correlation\n",
    "The observed correlation between female illiteracy and fertility may just be by chance; the fertility of a given country may actually be totally independent of its illiteracy. You will test this hypothesis. To do so, permute the illiteracy values but leave the fertility values fixed. This simulates the hypothesis that they are totally independent of each other. For each permutation, compute the Pearson correlation coefficient and assess how many of your permutation replicates have a Pearson correlation coefficient greater than the observed one.\n",
    "\n",
    "The function pearson_r() that you wrote in the prequel to this course for computing the Pearson correlation coefficient is already available for you.\n",
    "\n",
    "Instructions\n",
    "70 XP\n",
    "Compute the observed Pearson correlation between illiteracy and fertility.\n",
    "Initialize an array to store your permutation replicates.\n",
    "Write a for loop to draw 10,000 replicates:\n",
    "Permute the illiteracy measurements using np.random.permutation().\n",
    "Compute the Pearson correlation between the permuted illiteracy array, illiteracy_permuted, and fertility.\n",
    "Compute and print the p-value from the replicates.\n",
    "\n",
    "\n",
    "Show Answer (-70 XP)\n",
    "Hint\n",
    "Use the pearson_r() function to compute the observed Pearson correlation between illiteracy and fertility.\n",
    "Use np.empty(10000) to initialize an array to store your 10,000 permutation replicates.\n",
    "Inside the for loop, you can permute the illiteracy measurements with np.random.permutation(illiteracy).\n",
    "For each iteration of the for loop, compute the Pearson correlation between illiteracy_permuted and fertility.\n",
    "The p-value from the replicates here is the fraction of permutation replicates that are greater than or equal to the observed correlation r_obs."
   ]
  },
  {
   "cell_type": "code",
   "execution_count": 25,
   "id": "09e456d0",
   "metadata": {},
   "outputs": [
    {
     "name": "stdout",
     "output_type": "stream",
     "text": [
      "p-val = 0.0\n"
     ]
    }
   ],
   "source": [
    "# Compute observed correlation: r_obs\n",
    "r_obs = pearson_r(illiteracy, fertility)\n",
    "\n",
    "# Initialize permutation replicates: perm_replicates\n",
    "perm_replicates = np.empty(10000)\n",
    "\n",
    "# Draw replicates\n",
    "for i in range(10000):\n",
    "    # Permute illiteracy measurments: illiteracy_permuted\n",
    "    illiteracy_permuted = np.random.permutation(illiteracy)\n",
    "\n",
    "    # Compute Pearson correlation\n",
    "    perm_replicates[i] = pearson_r(illiteracy_permuted, fertility)\n",
    "\n",
    "# Compute p-value: p\n",
    "p = np.sum(perm_replicates >= r_obs) / len(perm_replicates)\n",
    "print('p-val =', p)"
   ]
  },
  {
   "cell_type": "markdown",
   "id": "8d050fab",
   "metadata": {},
   "source": [
    "#### You got a p-value of zero. In hacker statistics, this means that your p-value is very low, since you never got a single replicate in the 10,000 you took that had a Pearson correlation greater than the observed one. You could try increasing the number of replicates you take to continue to move the upper bound on your p-value lower and lower."
   ]
  },
  {
   "cell_type": "markdown",
   "id": "8d567ab1",
   "metadata": {},
   "source": [
    "# Do neonicotinoid insecticides have unintended consequences?\n",
    "As a final exercise in hypothesis testing before we put everything together in our case study in the next chapter, you will investigate the effects of neonicotinoid insecticides on bee reproduction. These insecticides are very widely used in the United States to combat aphids and other pests that damage plants.\n",
    "\n",
    "In a recent study, Straub, et al. (Proc. Roy. Soc. B, 2016) investigated the effects of neonicotinoids on the sperm of pollinating bees. In this and the next exercise, you will study how the pesticide treatment affected the count of live sperm per half milliliter of semen.\n",
    "\n",
    "First, we will do EDA, as usual. Plot ECDFs of the alive sperm count for untreated bees (stored in the NumPy array control) and bees treated with pesticide (stored in the NumPy array treated).\n",
    "\n",
    "Instructions\n",
    "0 XP\n",
    "Use your ecdf() function to generate x,y values from the control and treated arrays for plotting the ECDFs.\n",
    "Plot the ECDFs on the same plot.\n",
    "The margins have been set for you, along with the legend and axis labels. Hit submit to see the result!\n",
    "\n",
    "Hint\n",
    "The ecdf() function returns the x and y values of the array you pass into it. Here, the arrays of interest are control and treated. Generate the x and y values from these.\n",
    "Inside plt.plot(), you need to specify the x and y values that you generated with the ecdf() function. The marker and linestyle keyword arguments have already been specified for you."
   ]
  },
  {
   "cell_type": "code",
   "execution_count": 68,
   "id": "145ba3d3",
   "metadata": {},
   "outputs": [],
   "source": [
    "#Preparing data for bee sperm question\n",
    "df = pd.read_csv('bee_sperm.csv',header=3)\n",
    "df = df.drop(df.columns[[0,2,3,4,5,6,7,9,10,11,12,13,14,15,16,17]], axis=1)\n",
    "df.rename(columns={'Treatment':'treatment','Sperm Volume per 500 ul':'bee_sperm'},inplace=True)\n",
    "df.bee_sperm = df.bee_sperm /1000000\n",
    "treated = df[df['treatment']== 'Pesticide']\n",
    "control = df[df['treatment']!= 'Pesticide']\n",
    "treated = treated.iloc[1:,1].values\n",
    "control = control.iloc[1:,1].values\n"
   ]
  },
  {
   "cell_type": "code",
   "execution_count": 67,
   "id": "925836a0",
   "metadata": {},
   "outputs": [
    {
     "data": {
      "image/png": "[encoded data removed]",
      "text/plain": [
       "<Figure size 432x288 with 1 Axes>"
      ]
     },
     "metadata": {},
     "output_type": "display_data"
    }
   ],
   "source": [
    "# Compute x,y values for ECDFs\n",
    "x_control, y_control = ecdf(control)\n",
    "x_treated, y_treated = ecdf(treated)\n",
    "\n",
    "# Plot the ECDFs\n",
    "plt.plot(x_control, y_control, marker='.', linestyle='none')\n",
    "plt.plot(x_treated, y_treated, marker='.', linestyle='none')\n",
    "\n",
    "# Set the margins\n",
    "plt.margins(0.02)\n",
    "\n",
    "# Add a legend\n",
    "plt.legend(('control', 'treated'), loc='lower right')\n",
    "\n",
    "# Label axes and show plot\n",
    "plt.xlabel('millions of alive sperm per mL')\n",
    "plt.ylabel('ECDF')\n",
    "plt.show()\n"
   ]
  },
  {
   "cell_type": "markdown",
   "id": "aace3004",
   "metadata": {},
   "source": [
    "#### Nice plot! The ECDFs show a pretty clear difference between the treatment and control; treated bees have fewer alive sperm. Let's now do a hypothesis test in the next exercise."
   ]
  },
  {
   "cell_type": "markdown",
   "id": "d2891ea3",
   "metadata": {},
   "source": [
    "# Bootstrap hypothesis test on bee sperm counts\n",
    "Now, you will test the following hypothesis: On average, male bees treated with neonicotinoid insecticide have the same number of active sperm per milliliter of semen than do untreated male bees. You will use the difference of means as your test statistic.\n",
    "\n",
    "For your reference, the call signature for the draw_bs_reps() function you wrote in chapter 2 is draw_bs_reps(data, func, size=1).\n",
    "\n",
    "\n",
    "Compute the mean alive sperm count of control minus that of treated.\n",
    "\n",
    "Compute the mean of all alive sperm counts. To do this, first concatenate control and treated and take the mean of the concatenated array.\n",
    "\n",
    "Generate shifted data sets for both control and treated such that the shifted data sets have the same mean. This has already been done for you.\n",
    "\n",
    "Generate 10,000 bootstrap replicates of the mean each for the two shifted arrays. Use your draw_bs_reps() function.\n",
    "\n",
    "Compute the bootstrap replicates of the difference of means.\n",
    "\n",
    "\n",
    "The code to compute and print the p-value has been written for you. Hit submit to see the result!\n",
    "\n",
    "You can use the np.mean() function to individually compute the means of control and treated. Take the difference of these and store the result in diff_means.\n",
    "\n",
    "To pool the data, you need to first concatenate control and treated by passing them in as arguments to np.concatenate(). \n",
    "\n",
    "Then, you can take the mean of the pooled data with np.mean().\n",
    "\n",
    "Inside the draw_bs_reps() function, you need to pass in the shifted data arrays for control and treated. The arguments for func and size have already been specified for you.\n",
    "\n",
    "Subtract the replicates of the shifted treated data set from that of the shifted control data set to compute the bootstrap replicates of the difference of means."
   ]
  },
  {
   "cell_type": "code",
   "execution_count": 71,
   "id": "62ead5a9",
   "metadata": {},
   "outputs": [
    {
     "name": "stdout",
     "output_type": "stream",
     "text": [
      "p-value = 0.005\n"
     ]
    }
   ],
   "source": [
    "# Compute the difference in mean sperm count: diff_means\n",
    "diff_means = np.mean(control) - np.mean(treated)\n",
    "\n",
    "# Compute mean of pooled data: mean_count\n",
    "mean_count = np.mean(np.concatenate((control, treated)))\n",
    "\n",
    "# Generate shifted data sets\n",
    "control_shifted = control - np.mean(control) + mean_count\n",
    "treated_shifted = treated - np.mean(treated) + mean_count\n",
    "\n",
    "# Generate bootstrap replicates\n",
    "bs_reps_control = draw_bs_reps(control_shifted,\n",
    "                               np.mean, size=10000)\n",
    "bs_reps_treated = draw_bs_reps(treated_shifted,\n",
    "                               np.mean, size=10000)\n",
    "\n",
    "# Get replicates of difference of means: bs_replicates\n",
    "bs_replicates = bs_reps_control - bs_reps_treated\n",
    "\n",
    "# Compute and print p-value: p\n",
    "p = np.sum(bs_replicates >= np.mean(control) - np.mean(treated)) \\\n",
    "            / len(bs_replicates)\n",
    "print('p-value =', p)\n"
   ]
  },
  {
   "cell_type": "code",
   "execution_count": null,
   "id": "4be4a5ed",
   "metadata": {},
   "outputs": [],
   "source": []
  }
 ],
 "metadata": {
  "kernelspec": {
   "display_name": "Python 3",
   "language": "python",
   "name": "python3"
  },
  "language_info": {
   "codemirror_mode": {
    "name": "ipython",
    "version": 3
   },
   "file_extension": ".py",
   "mimetype": "text/x-python",
   "name": "python",
   "nbconvert_exporter": "python",
   "pygments_lexer": "ipython3",
   "version": "3.8.8"
  }
 },
 "nbformat": 4,
 "nbformat_minor": 5
}
