{
 "cells": [
  {
   "cell_type": "code",
   "execution_count": 150,
   "id": "1fdd996e",
   "metadata": {},
   "outputs": [],
   "source": [
    "import pandas as pd\n",
    "import matplotlib.pyplot as plt\n",
    "import seaborn as sns\n",
    "import numpy as np\n",
    "female_literacy_fertility = pd.read_csv('female_literacy_fertility.csv')\n",
    "literacy = female_literacy_fertility.iloc[1:,2].values\n",
    "illiteracy = 100 - literacy\n",
    "fertility = female_literacy_fertility.iloc[1:,3].values\n",
    "nohitter_times = np.array([843, 1613, 1101,  215,  684,  814,  278,  324,  161,  219,  545, 715,  966,  624,   29,  450,  107,   20,   91, 1325,  124, 1468,104, 1309,  429,   62, 1878, 1104,  123,  251,   93,  188,  983,166,   96,  702,   23,  524,   26,  299,   59,   39,   12,    2,308, 1114,  813,  887,  645, 2088,   42, 2090,   11,  886, 1665,1084, 2900, 2432,  750, 4021, 1070, 1765, 1322,   26,  548, 1525,77, 2181, 2752,  127, 2147,  211,   41, 1575,  151,  479,  697,557, 2267,  542,  392,   73,  603,  233,  255,  528,  397, 1529,1023, 1194,  462,  583,   37,  943,  996,  480, 1497,  717,  224,219, 1531,  498,   44,  288,  267,  600,   52,  269, 1086,  386,176, 2199,  216,   54,  675, 1243,  463,  650,  171,  327,  110,774,  509,    8,  197,  136,   12, 1124,   64,  380,  811,  232,192,  731,  715,  226,  605,  539, 1491,  323,  240,  179,  702,156,   82, 1397,  354,  778,  603, 1001,  385,  986,  203,  149,576,  445,  180, 1403,  252,  675, 1351, 2983, 1568,   45,  899,3260, 1025,   31,  100, 2055, 4043,   79,  238, 3931, 2351,  595,110,  215,    0,  563,  206,  660,  242,  577,  179,  157,  192,192, 1848,  792, 1693,   55,  388,  225, 1134, 1172, 1555,   31,1582, 1044,  378, 1687, 2915,  280,  765, 2819,  511, 1521,  745,2491,  580, 2072, 6450,  578,  745, 1075, 1103, 1549, 1520,  138,1202,  296,  277,  351,  391,  950,  459,   62, 1056, 1128,  139,420,   87,   71,  814,  603, 1349,  162, 1027,  783,  326,  101,876,  381,  905,  156,  419,  239,  119,  129,  467])\n",
    "def ecdf(data):\n",
    "    \"\"\"Compute ECDF for a one-dimensional array of measurements.\"\"\"\n",
    "    # Number of data points: n\n",
    "    n = len(data)\n",
    "\n",
    "    # x-data for the ECDF: x\n",
    "    x = np.sort(data)\n",
    "\n",
    "    # y-data for the ECDF: y\n",
    "    y = np.arange(1, n+1) / n\n",
    "\n",
    "    return x, y\n",
    "\n",
    "def pearson_r(x, y):\n",
    "    \"\"\"Compute Pearson correlation coefficient between two arrays.\"\"\"\n",
    "    # Compute correlation matrix: corr_mat\n",
    "    corr_mat = np.corrcoef(x,y)\n",
    "\n",
    "    # Return entry [0,1]\n",
    "    return corr_mat[0,1]\n"
   ]
  },
  {
   "cell_type": "markdown",
   "id": "be8eea82",
   "metadata": {},
   "source": [
    "# 1. Optimal parameters\n",
    "After completing the prequel to this course, you are now beginning to think probabilistically. Outcomes of measurements follow probability distributions defined by the story of how the data came to be. When we looked at Michelson's speed of light in air measurements, we assumed that the results were Normally distributed.\n",
    "\n",
    "2. Histogram of Michelson's measurements\n",
    "We verified that both by looking at the PDF and\n",
    "\n",
    "1 Data: Michelson, 1880\n",
    "3. CDF of Michelson's measurements\n",
    "the CDF, which was more effective because there is no binning bias. To compute and plot the CDF, we needed our old friends\n",
    "\n",
    "1 Data: Michelson, 1880\n",
    "4. Checking Normality of Michelson data\n",
    "NumPy and matplotlib dot pyplot, so the first step was to import them with their traditional aliases. To compute the theoretical CDF by sampling, we passed two parameters into np dot random dot normal, the mean and standard deviation. The values we chose for these parameters were in fact the mean and standard deviation we calculated directly from the data.\n",
    "\n",
    "5. CDF of Michelson's measurements\n",
    "The result was that the theoretical CDF overlayed beautifully with the empirical CDF. How did we know that the mean and standard deviation calculated from the data were the appropriate values for the Normal parameters? We could have chosen others.\n",
    "\n",
    "1 Data: Michelson, 1880\n",
    "6. CDF with bad estimate of st. dev.\n",
    "What if the standard deviation differs by 50%? The CDFs no longer match. Or if the mean\n",
    "\n",
    "1 Data: Michelson, 1880\n",
    "7. CDF with bad estimate of mean\n",
    "varies by just point-01%. So, if we believe that the process that generates our data gives Normally distributed results,\n",
    "\n",
    "1 Data: Michelson, 1880\n",
    "8. Optimal parameters\n",
    "the set of parameters that brings the model, in this case a Normal distribution, in closest agreement with the data uses the mean and standard deviation computed directly from the data. These are the optimal parameters. Remember though, the parameters are only optimal for\n",
    "\n",
    "9. Mass of MA large mouth bass\n",
    "the model you chose for your data. When your model is wrong, the optimal parameters are not really meaningful. Finding the optimal parameters is not always as easy as just computing the mean and standard deviation from the data. We will encounter this later in this chapter when we do linear regressions and we rely on built-in NumPy functions to find the optimal parameters for us. I pause to note that\n",
    "\n",
    "1 Source: Mass. Dept. of Environmental Protection\n",
    "10. Packages to do statistical inference\n",
    "there are great tools in the Python ecosystem for doing statistical inference, including by optimization, scipy dot stats and\n",
    "\n",
    "11. Packages to do statistical inference\n",
    "statsmodels being two good examples. In this course, however,\n",
    "\n",
    "12. Packages to do statistical inference\n",
    "we focus on hacker statistics because the technique is like a Swiss Army knife; the same simple principle is applicable to a wide variety of statistical problems.\n",
    "\n",
    "1 Knife image: D-M Commons, CC BY-SA 3.0\n",
    "13. Let's practice!\n",
    "Now it's time for you to do some exercises to demonstrate how choosing optimal parameters results in best agreement between the theoretical model distribution and your data"
   ]
  },
  {
   "cell_type": "code",
   "execution_count": 116,
   "id": "1120732b",
   "metadata": {},
   "outputs": [
    {
     "data": {
      "image/png": "[encoded data removed]",
      "text/plain": [
       "<Figure size 432x288 with 1 Axes>"
      ]
     },
     "metadata": {
      "needs_background": "light"
     },
     "output_type": "display_data"
    }
   ],
   "source": [
    "# Seed random number generator\n",
    "np.random.seed(42)\n",
    "\n",
    "# Compute mean no-hitter time: tau\n",
    "tau = np.mean(nohitter_times)\n",
    "\n",
    "# Draw out of an exponential distribution with parameter tau: inter_nohitter_time\n",
    "inter_nohitter_time = np.random.exponential(tau, 100000)\n",
    "\n",
    "# Plot the PDF and label axes\n",
    "_ = plt.hist(inter_nohitter_time,\n",
    "             bins=50, histtype='step')\n",
    "_ = plt.xlabel('Games between no-hitters')\n",
    "_ = plt.ylabel('PDF')\n",
    "\n",
    "# Show the plot\n",
    "plt.show()"
   ]
  },
  {
   "cell_type": "markdown",
   "id": "386174e2",
   "metadata": {},
   "source": [
    "# Do the data follow our story?\n",
    "\n",
    "You have modeled no-hitters using an Exponential distribution. Create an ECDF of the real data. Overlay the theoretical CDF with the ECDF from the data. This helps you to verify that the Exponential distribution describes the observed data.\n",
    "\n",
    "It may be helpful to remind yourself of the function you created in the previous course to compute the ECDF, as well as the code you wrote to plot it.\n",
    "\n",
    "\n",
    "Compute an ECDF from the actual time between no-hitters (`nohitter_times`). Use the `ecdf()` function you wrote in the prequel course.\n",
    "Create a CDF from the theoretical samples you took in the last exercise (`inter_nohitter_time`).\n",
    "Plot `x_theor` and `y_theor` as a line using `plt.plot()`. Then overlay the ECDF of the real data `x` and `y` as points. To do this, you have to specify the keyword arguments `marker = '.'` and `linestyle = 'none'` in addition to `x` and `y` inside `plt.plot()`.\n",
    "\n",
    "Set a 2% margin on the plot.\n",
    "\n",
    "Show the plot.\n",
    "\n",
    "\n",
    "\n",
    "To compute the ECDF of `nohitter_times`, pass it as an argument to the `ecdf()` function.\n",
    "To create the CDF from the theoretical samples, use the `ecdf()` function once again, passing in the array of the samples you took in the previous exercise (`inter_nohitter_time`).\n",
    "To plot the CDF as a line, pass in `x_theor` and `y_theor` as arguments to `plt.plot()`. To overlay the real data as points, use `plt.plot()` with the arguments `x`, `y`, `marker = '.'` and `linestyle = 'none'`.\n",
    "You can set margins by passing in the desired margin as an argument to `plt.margins()`.\n",
    "To display the plot, use `plt.show()`"
   ]
  },
  {
   "cell_type": "code",
   "execution_count": 117,
   "id": "0ac113ef",
   "metadata": {},
   "outputs": [
    {
     "data": {
      "image/png": "[encoded data removed]",
      "text/plain": [
       "<Figure size 432x288 with 1 Axes>"
      ]
     },
     "metadata": {
      "needs_background": "light"
     },
     "output_type": "display_data"
    }
   ],
   "source": [
    "# Create an ECDF from real data: x, y\n",
    "x, y = ecdf(nohitter_times)\n",
    "\n",
    "# Create a CDF from theoretical samples: x_theor, y_theor\n",
    "x_theor, y_theor = ecdf(inter_nohitter_time)\n",
    "\n",
    "# Overlay the plots\n",
    "plt.plot(x_theor, y_theor)\n",
    "plt.plot(x, y, marker='.', linestyle='none')\n",
    "\n",
    "# Margins and axis labels\n",
    "plt.margins(.02)\n",
    "plt.xlabel('Games between no-hitters')\n",
    "plt.ylabel('CDF')\n",
    "\n",
    "# Show the plot\n",
    "plt.show()"
   ]
  },
  {
   "cell_type": "markdown",
   "id": "39cf50b2",
   "metadata": {},
   "source": [
    "# How is this parameter optimal?\n",
    "\n",
    "Now sample out of an exponential distribution with  being twice as large as the optimal . Do it again for  half as large. Make CDFs of these samples and overlay them with your data. You can see that they do not reproduce the data as well. Thus, the  you computed from the mean inter-no-hitter times is optimal in that it best reproduces the data.\n",
    "\n",
    "Note: In this and all subsequent exercises, the random number generator is pre-seeded for you to save you some typing.\n",
    "\n",
    "\n",
    "\n",
    "Take 10000 samples out of an Exponential distribution with parameter  = tau/2.\n",
    "\n",
    "Take 10000 samples out of an Exponential distribution with parameter  = 2*tau.\n",
    "\n",
    "Generate CDFs from these two sets of samples using your ecdf() function.\n",
    "\n",
    "Add these two CDFs as lines to your plot. This has been done for you, so hit submit to view the plot!"
   ]
  },
  {
   "cell_type": "code",
   "execution_count": 118,
   "id": "98c9a7f1",
   "metadata": {},
   "outputs": [
    {
     "data": {
      "image/png": "[encoded data removed]",
      "text/plain": [
       "<Figure size 432x288 with 1 Axes>"
      ]
     },
     "metadata": {
      "needs_background": "light"
     },
     "output_type": "display_data"
    }
   ],
   "source": [
    "# Plot the theoretical CDFs\n",
    "plt.plot(x_theor, y_theor)\n",
    "plt.plot(x, y, marker='.', linestyle='none')\n",
    "plt.margins(0.02)\n",
    "plt.xlabel('Games between no-hitters')\n",
    "plt.ylabel('CDF')\n",
    "\n",
    "# Take samples with half tau: samples_half\n",
    "samples_half = np.random.exponential(tau/2, 10000)\n",
    "\n",
    "# Take samples with double tau: samples_double\n",
    "samples_double = np.random.exponential(2*tau,10000)\n",
    "\n",
    "# Generate CDFs from these samples\n",
    "x_half, y_half = ecdf(samples_half)\n",
    "x_double, y_double = ecdf(samples_double)\n",
    "\n",
    "# Plot these CDFs as lines\n",
    "_ = plt.plot(x_half, y_half)\n",
    "_ = plt.plot(x_double, y_double)\n",
    "\n",
    "# Show the plot\n",
    "plt.show()"
   ]
  },
  {
   "cell_type": "markdown",
   "id": "8420c7a5",
   "metadata": {},
   "source": [
    "# 1. Linear regression by least squares\n",
    "Sometimes two variables are related. You may recall from the prequel to this course that we computed the Pearson correlation coefficient between\n",
    "\n",
    "2. 2008 US swing state election results\n",
    "Obama's vote share in each county in swings states and the total vote count of the respective counties. The Pearson correlation coefficient is important to compute, but we might like to get a fuller understanding of how the data are related to each other. Specifically, we might suspect some underlying function gives the data its shape.\n",
    "\n",
    "1 Data retrieved from Data.gov (https://www.data.gov/)\n",
    "3. 2008 US swing state election results\n",
    "Often times a linear function is appropriate to describe the data, and this is what we will focus on in this course. The parameters of the function are\n",
    "\n",
    "1 Data retrieved from Data.gov (https://www.data.gov/)\n",
    "4. 2008 US swing state election results\n",
    "the slope and intercept. The slope sets how steep the line is, and the intercept sets where the line crosses the y-axis. How do we figure out which slope and intercept best describe the data? A simple answer is that we want to choose the slope and intercept such that the data points collectively lie as close as possible to the line. This is easiest to think about by first considering one data point,\n",
    "\n",
    "1 Data retrieved from Data.gov (https://www.data.gov/)\n",
    "5. 2008 US swing state election results\n",
    "say this one. The vertical distance between the data point and the line is called\n",
    "\n",
    "1 Data retrieved from Data.gov (https://www.data.gov/)\n",
    "6. Residuals\n",
    "the residual. In this case, the residual has a negative value because the data point lies below the line. Each data point has a residual associated with it.\n",
    "\n",
    "1 Data retrieved from Data.gov (https://www.data.gov/)\n",
    "7. Least squares\n",
    "We define the line that is closest to the data to be the line for which the sum of the squares of all of the residuals is minimal. This process, finding the parameters for which the sum of the squares of the residuals is minimal, is called \"least squares\". There are many algorithms to do this in practice.\n",
    "\n",
    "8. Least squares with np.polyfit()\n",
    "We will use the NumPy function polyfit, which performs least squares analysis with polynomial functions. We can use it because a linear function is a first degree polynomial. The first two arguments to this function are the x and y data. The third argument is the degree of the polynomial you wish to fit; for linear functions, we enter one. The function returns the slope and intercept of the best fit line. The slope tells us that we get about 4 more percent votes for Obama for every 100,000 additional voters in a county. Now that you know how to perform a linear regression,\n",
    "\n",
    "9. Let's practice!\n",
    "let's do it with some real data in the exercises!"
   ]
  },
  {
   "cell_type": "markdown",
   "id": "9b7bc37b",
   "metadata": {},
   "source": [
    "# EDA of literacy/fertility data\n",
    "In the next few exercises, we will look at the correlation between female literacy and fertility (defined as the average number of children born per woman) throughout the world. For ease of analysis and interpretation, we will work with the illiteracy rate.\n",
    "\n",
    "It is always a good idea to do some EDA ahead of our analysis. To this end, plot the fertility versus illiteracy and compute the Pearson correlation coefficient. The NumPy array illiteracy has the illiteracy rate among females for most of the world's nations. The array fertility has the corresponding fertility data.\n",
    "\n",
    "Here, it may be useful to refer back to the function you wrote in the previous course to compute the Pearson correlation coefficient.\n",
    "\n",
    "\n",
    "Plot fertility (y-axis) versus illiteracy (x-axis) as a scatter plot.\n",
    "\n",
    "Set a 2% margin.\n",
    "\n",
    "Compute and print the Pearson correlation coefficient between illiteracy and fertility.\n",
    "\n",
    "\n",
    "\n",
    "A scatter plot can be built using plt.plot(). The first two arguments should be, in order, the x-axis (illiteracy) and y-axis (fertility). The next to arguments specify the marker and linestyle.\n",
    "\n",
    "You can set the desired margin using plt.margin().\n",
    "\n",
    "You can use plt.xlabel('X-axis label') and plt.ylabel('Y-axis label') to label your axes.\n",
    "\n",
    "Remind yourself of the pearson_r() function you wrote in the previous course to compute the Pearson correlation coefficient."
   ]
  },
  {
   "cell_type": "code",
   "execution_count": 119,
   "id": "3614901e",
   "metadata": {},
   "outputs": [
    {
     "data": {
      "image/png": "[encoded data removed]",
      "text/plain": [
       "<Figure size 432x288 with 1 Axes>"
      ]
     },
     "metadata": {
      "needs_background": "light"
     },
     "output_type": "display_data"
    },
    {
     "name": "stdout",
     "output_type": "stream",
     "text": [
      "0.8039714974451727\n"
     ]
    }
   ],
   "source": [
    "# Plot the illiteracy rate versus fertility\n",
    "_ = plt.plot(illiteracy, fertility, marker='.', linestyle='none')\n",
    "\n",
    "# Set the margins and label axes\n",
    "plt.margins(.02)\n",
    "_ = plt.xlabel('percent illiterate')\n",
    "_ = plt.ylabel('fertility')\n",
    "\n",
    "# Show the plot\n",
    "plt.show()\n",
    "\n",
    "# Show the Pearson correlation coefficient\n",
    "print(pearson_r(illiteracy, fertility))"
   ]
  },
  {
   "cell_type": "markdown",
   "id": "6fe960c2",
   "metadata": {},
   "source": [
    "# Linear regression\n",
    "We will assume that fertility is a linear function of the female illiteracy rate. That is,$f = ai + b$ , where $a$ is the slope and $b$ is the intercept. We can think of the intercept as the minimal fertility rate, probably somewhere between one and two. The slope tells us how the fertility rate varies with illiteracy. We can find the best fit line using np.polyfit().\n",
    "\n",
    "Plot the data and the best fit line. Print out the slope and intercept. (Think: what are their units?)\n",
    "\n",
    "\n",
    "\n",
    "Compute the slope and intercept of the regression line using np.polyfit(). Remember, fertility is on the y-axis and illiteracy on the x-axis.\n",
    "\n",
    "Print out the slope and intercept from the linear regression.\n",
    "\n",
    "To plot the best fit line, create an array x that consists of 0 and 100 using np.array(). Then, compute the theoretical values of y based on your regression parameters. I.e., y = a * x + b.\n",
    "\n",
    "Plot the data and the regression line on the same plot. Be sure to label your axes.\n",
    "\n",
    "Hit submit to display your plot.\n",
    "\n",
    "\n",
    "Remember to include 1 as an argument to np.polyfit() in addition to illiteracy and fertility. This is because our linear functions are polynomials of degree 1.\n",
    "\n",
    "The code to print out the slope and intercept has already been provided for you; there is no need to change this.\n",
    "\n",
    "To create an array of 1 and 50, you can use np.array([1, 50]). Here, you want x values of 0 and 100, so use np.array() appropriately and be sure to assign the values to x. Then, you can compute y as described in the instructions.\n",
    "\n",
    "Pass in x and y as arguments to plt.plot() to plot the data."
   ]
  },
  {
   "cell_type": "code",
   "execution_count": 120,
   "id": "3431d409",
   "metadata": {},
   "outputs": [
    {
     "name": "stdout",
     "output_type": "stream",
     "text": [
      "slope = 0.04972608308104683 children per woman / percent illiterate\n",
      "intercept = 1.8931746736166988 children per woman\n"
     ]
    },
    {
     "data": {
      "image/png": "[encoded data removed]",
      "text/plain": [
       "<Figure size 432x288 with 1 Axes>"
      ]
     },
     "metadata": {
      "needs_background": "light"
     },
     "output_type": "display_data"
    }
   ],
   "source": [
    "# Plot the illiteracy rate versus fertility\n",
    "_ = plt.plot(illiteracy, fertility, marker='.', linestyle='none')\n",
    "plt.margins(0.02)\n",
    "_ = plt.xlabel('percent illiterate')\n",
    "_ = plt.ylabel('fertility')\n",
    "\n",
    "# Perform a linear regression using np.polyfit(): a, b\n",
    "a, b = np.polyfit(illiteracy,fertility,1)\n",
    "\n",
    "# Print the results to the screen\n",
    "print('slope =', a, 'children per woman / percent illiterate')\n",
    "print('intercept =', b, 'children per woman')\n",
    "\n",
    "# Make theoretical line to plot\n",
    "x = np.array([0,100])\n",
    "y = a * x + b\n",
    "\n",
    "# Add regression line to your plot\n",
    "_ = plt.plot(x, y)\n",
    "\n",
    "# Draw the plot\n",
    "plt.show()\n"
   ]
  },
  {
   "cell_type": "markdown",
   "id": "5422e4f2",
   "metadata": {},
   "source": [
    "# How is it optimal?\n",
    "\n",
    "The function `np.polyfit()` that you used to get your regression parameters finds the optimal slope and intercept. It is optimizing the sum of the squares of the residuals, also known as RSS (for residual sum of squares). In this exercise, you will plot the function that is being optimized, the RSS, versus the slope parameter `a`. To do this, fix the intercept to be what you found in the optimization. Then, plot the RSS versus the slope. Where is it minimal?\n",
    "\n",
    "Instructions\n",
    "100 XP\n",
    "Specify the values of the slope to compute the RSS. Use np.linspace() to get 200 points in the range between 0 and 0.1. For example, to get 100 points in the range between 0 and 0.5, you could use np.linspace() like so: np.linspace(0, 0.5, 100).\n",
    "Initialize an array, rss, to contain the RSS using np.empty_like() and the array you created above. The empty_like() function returns a new array with the same shape and type as a given array (in this case, a_vals).\n",
    "Write a for loop to compute the sum of RSS of the slope. Hint: the RSS is given by np.sum((y_data - a * x_data - b)**2). The variable b you computed in the last exercise is already in your namespace. Here, fertility is the y_data and illiteracy the x_data.\n",
    "Plot the RSS (rss) versus slope (a_vals).\n",
    "Hit submit to see the plot!"
   ]
  },
  {
   "cell_type": "code",
   "execution_count": 121,
   "id": "505dfdb7",
   "metadata": {},
   "outputs": [
    {
     "data": {
      "image/png": "[encoded data removed]",
      "text/plain": [
       "<Figure size 432x288 with 1 Axes>"
      ]
     },
     "metadata": {
      "needs_background": "light"
     },
     "output_type": "display_data"
    }
   ],
   "source": [
    "# Specify slopes to consider: a_vals\n",
    "a_vals = np.linspace(0,0.1,200)\n",
    "\n",
    "# Initialize sum of square of residuals: rss\n",
    "rss = np.empty_like(a_vals)\n",
    "\n",
    "# Compute sum of square of residuals for each value of a_vals\n",
    "for i, a in enumerate(a_vals):\n",
    "    rss[i] = np.sum((fertility - a*illiteracy - b)**2)\n",
    "\n",
    "# Plot the RSS\n",
    "plt.plot(a_vals,rss, '-')\n",
    "plt.xlabel('slope (children per woman / percent illiterate)')\n",
    "plt.ylabel('sum of square of residuals')\n",
    "\n",
    "plt.show()\n"
   ]
  },
  {
   "cell_type": "markdown",
   "id": "d41dbc83",
   "metadata": {},
   "source": [
    "# 1. The importance of EDA: Anscombe's quartet\n",
    "In 1973, statistician Francis Anscombe published a paper that contained\n",
    "\n",
    "2. Anscombe's quartet\n",
    "four fictitious x-y data sets, plotted here. He uses these data sets to make an important point. That point becomes clear if we blindly go about doing parameter estimation on these data sets. First, let's look at the average x-values of the four data sets.\n",
    "\n",
    "1 Data: Anscombe, The American Statistician, 1973\n",
    "3. Anscombe's quartet\n",
    "They are all the same. How about the average y-values?\n",
    "\n",
    "1 Data: Anscombe, The American Statistician, 1973\n",
    "4. Anscombe's quartet\n",
    "Again, all the same. And what if we do a linear regression on each of the data sets?\n",
    "\n",
    "1 Data: Anscombe, The American Statistician, 1973\n",
    "5. Anscombe's quartet\n",
    "They all have the same line! Surely some of the fits are less optimal than others. Let's look at the sum of the squares of the residuals.\n",
    "\n",
    "1 Data: Anscombe, The American Statistician, 1973\n",
    "6. Anscombe's quartet\n",
    "Oh my, they are all basically the same as well. Of course, Anscombe constructed the data sets so that this would happen. The point he was making is very important. You already have some powerful tools for statistical inference. You can compute summary statistics and optimal parameters, including linear regression parameters, and by the end of the course, you will able to construct confidence intervals with quantify uncertainty about the parameter estimates. These are crucial skills for any data analysis, no doubt.\n",
    "\n",
    "1 Data: Anscombe, The American Statistician, 1973\n",
    "7. Look before you leap!\n",
    "But look before you leap! This is a powerful reminder to do some graphic exploratory data analysis before you start computing and making judgments about your data. For example,\n",
    "\n",
    "8. Anscombe's quartet\n",
    "this data set might be well modeled with a line, and the regression parameters will be meaningful. The same is true of\n",
    "\n",
    "1 Data: Anscombe, The American Statistician, 1973\n",
    "9. Anscombe's quartet\n",
    "this data set, but the outlier throws off the slope and intercept. After doing EDA, you should look into what is causing that outlier.\n",
    "\n",
    "1 Data: Anscombe, The American Statistician, 1973\n",
    "10. Anscombe's quartet\n",
    "This data set might also have a linear relationship between x and y, but from the plot, you can conclude that you should try to acquire more data for intermediate x values to make sure that it does.\n",
    "\n",
    "1 Data: Anscombe, The American Statistician, 1973\n",
    "11. Anscombe's quartet\n",
    "And this data set is definitely not linear, and you need to choose another model. Explore your data first. I'll let you prove to yourself\n",
    "\n",
    "1 Data: Anscombe, The American Statistician, 1973\n",
    "12. Let's practice!\n",
    "that these data sets give the same regression parameters. It will be good practice, and seeing is believing!"
   ]
  },
  {
   "cell_type": "markdown",
   "id": "305623e6",
   "metadata": {},
   "source": [
    "# Linear regression on appropriate Anscombe data\n",
    "For practice, perform a linear regression on the data set from Anscombe's quartet that is most reasonably interpreted with linear regression.\n",
    "\n",
    "Instructions\n",
    "70 XP\n",
    "Compute the parameters for the slope and intercept using np.polyfit(). The Anscombe data are stored in the arrays x and y.\n",
    "Print the slope a and intercept b.\n",
    "Generate theoretical  and  data from the linear regression. Your  array, which you can create with np.array(), should consist of 3 and 15. To generate the  data, multiply the slope by x_theor and add the intercept.\n",
    "Plot the Anscombe data as a scatter plot and then plot the theoretical line. Remember to include the marker='.' and linestyle='none' keyword arguments in addition to x and y when to plot the Anscombe data as a scatter plot. You do not need these arguments when plotting the theoretical line.\n",
    "Hit submit to see the plot!\n",
    "\n",
    "\n",
    "\n",
    "Show Answer (-70 XP)\n",
    "Hint\n",
    "As you did several exercises earlier, use np.polyfit() to compute the parameters for the slope and intercept.\n",
    "To print the slope a and intercept b, pass them as arguments to print().\n",
    "Remember from a previous exercise where you created an array x consisting of 0 and 100, using np.array([0, 100])? Do the same, this time with different values. Use the same equation as before - a * x + b - to generate the theoretical  data.\n",
    "To create the scatter plot, you need to use plt.plot() with x and y along with the marker='.' and linestyle='none' keyword arguments. For the theoretical line, you need to use x_theor and y_theor."
   ]
  },
  {
   "cell_type": "code",
   "execution_count": 145,
   "id": "cf64293b",
   "metadata": {},
   "outputs": [],
   "source": [
    "anscombe = pd.read_csv('anscombe.csv')\n",
    "x1 = anscombe.loc[1:,'0'].values.astype(float)\n",
    "y1 = anscombe.loc[1:,'0.1'].values.astype(float)\n",
    "x2 = anscombe.loc[1:,'1'].values.astype(float)\n",
    "y2 = anscombe.loc[1:,'1.1'].values.astype(float)\n",
    "x3 = anscombe.loc[1:,'2'].values.astype(float)\n",
    "y3 = anscombe.loc[1:,'2.1'].values.astype(float)\n",
    "x4 = anscombe.loc[1:,'3'].values.astype(float)\n",
    "y4 = anscombe.loc[1:,'3.1'].values.astype(float)\n"
   ]
  },
  {
   "cell_type": "code",
   "execution_count": 147,
   "id": "91d9b9f6",
   "metadata": {},
   "outputs": [
    {
     "name": "stdout",
     "output_type": "stream",
     "text": [
      "0.5000909090909095 3.0000909090909076\n"
     ]
    },
    {
     "data": {
      "image/png": "[encoded data removed]",
      "text/plain": [
       "<Figure size 432x288 with 1 Axes>"
      ]
     },
     "metadata": {
      "needs_background": "light"
     },
     "output_type": "display_data"
    }
   ],
   "source": [
    "# Perform linear regression: a, b\n",
    "a, b = np.polyfit(x1,y1,1)\n",
    "\n",
    "# Print the slope and intercept\n",
    "print(a, b)\n",
    "\n",
    "# Generate theoretical x and y data: x_theor, y_theor\n",
    "x_theor = np.array([3, 15])\n",
    "y_theor = a * x_theor + b\n",
    "\n",
    "# Plot the Anscombe data and theoretical line\n",
    "_ = plt.plot(x1,y1,marker='.', linestyle='none')\n",
    "_ = plt.plot(x_theor,y_theor,marker='.', linestyle='none')\n",
    "\n",
    "# Label the axes\n",
    "plt.xlabel('x')\n",
    "plt.ylabel('y')\n",
    "\n",
    "\n",
    "\n",
    "# Add regression line to your plot\n",
    "_ = plt.plot(x, y)\n",
    "\n",
    "# Show the plot\n",
    "plt.show()"
   ]
  },
  {
   "cell_type": "code",
   "execution_count": 148,
   "id": "c6f8676c",
   "metadata": {},
   "outputs": [],
   "source": [
    "anscombe_x = [x1,x2,x3,x4]\n",
    "anscombe_y = [y1,y2,y3,y4]"
   ]
  },
  {
   "cell_type": "markdown",
   "id": "11467509",
   "metadata": {},
   "source": [
    "# Linear regression on all Anscombe data\n",
    "Now, to verify that all four of the Anscombe data sets have the same slope and intercept from a linear regression, you will compute the slope and intercept for each set. The data are stored in lists; anscombe_x = [x1, x2, x3, x4] and anscombe_y = [y1, y2, y3, y4], where, for example, x2 and y2 are the  and  values for the second Anscombe data set.\n",
    "\n",
    "Instructions\n",
    "70 XP\n",
    "Write a for loop to do the following for each Anscombe data set.\n",
    "Compute the slope and intercept.\n",
    "Print the slope and intercept"
   ]
  },
  {
   "cell_type": "code",
   "execution_count": 149,
   "id": "be8b454e",
   "metadata": {},
   "outputs": [
    {
     "name": "stdout",
     "output_type": "stream",
     "text": [
      "slope: 0.5000909090909095 intercept: 3.0000909090909076\n",
      "slope: 0.5000000000000004 intercept: 3.000909090909089\n",
      "slope: 0.4997272727272731 intercept: 3.0024545454545453\n",
      "slope: 0.49990909090909064 intercept: 3.0017272727272735\n"
     ]
    }
   ],
   "source": [
    "# Iterate through x,y pairs\n",
    "for x, y in zip(anscombe_x, anscombe_y):\n",
    "    # Compute the slope and intercept: a, b\n",
    "    a, b = np.polyfit(x,y,1)\n",
    "\n",
    "    # Print the result\n",
    "    print('slope:', a, 'intercept:', b)\n"
   ]
  },
  {
   "cell_type": "code",
   "execution_count": null,
   "id": "c0c19a1d",
   "metadata": {},
   "outputs": [],
   "source": []
  },
  {
   "cell_type": "code",
   "execution_count": null,
   "id": "eea470cb",
   "metadata": {},
   "outputs": [],
   "source": []
  },
  {
   "cell_type": "code",
   "execution_count": null,
   "id": "4c4eb840",
   "metadata": {},
   "outputs": [],
   "source": []
  },
  {
   "cell_type": "code",
   "execution_count": null,
   "id": "22516b15",
   "metadata": {},
   "outputs": [],
   "source": []
  },
  {
   "cell_type": "code",
   "execution_count": null,
   "id": "130016e7",
   "metadata": {},
   "outputs": [],
   "source": []
  },
  {
   "cell_type": "code",
   "execution_count": null,
   "id": "a5055c5a",
   "metadata": {},
   "outputs": [],
   "source": []
  },
  {
   "cell_type": "code",
   "execution_count": null,
   "id": "9c29fb5c",
   "metadata": {},
   "outputs": [],
   "source": []
  },
  {
   "cell_type": "code",
   "execution_count": null,
   "id": "4706945c",
   "metadata": {},
   "outputs": [],
   "source": []
  },
  {
   "cell_type": "code",
   "execution_count": null,
   "id": "7e4c120e",
   "metadata": {},
   "outputs": [],
   "source": []
  },
  {
   "cell_type": "code",
   "execution_count": null,
   "id": "881ed2cd",
   "metadata": {},
   "outputs": [],
   "source": []
  },
  {
   "cell_type": "code",
   "execution_count": null,
   "id": "d73104d7",
   "metadata": {},
   "outputs": [],
   "source": []
  }
 ],
 "metadata": {
  "kernelspec": {
   "display_name": "Python 3",
   "language": "python",
   "name": "python3"
  },
  "language_info": {
   "codemirror_mode": {
    "name": "ipython",
    "version": 3
   },
   "file_extension": ".py",
   "mimetype": "text/x-python",
   "name": "python",
   "nbconvert_exporter": "python",
   "pygments_lexer": "ipython3",
   "version": "3.8.8"
  }
 },
 "nbformat": 4,
 "nbformat_minor": 5
}
