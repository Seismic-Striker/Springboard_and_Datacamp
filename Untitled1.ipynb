{
 "cells": [
  {
   "cell_type": "code",
   "execution_count": null,
   "id": "4cf1591f",
   "metadata": {},
   "outputs": [
    {
     "name": "stderr",
     "output_type": "stream",
     "text": [
      "C:\\Users\\derek\\AppData\\Local\\Temp\\ipykernel_21528\\697435486.py:11: DeprecationWarning: executable_path has been deprecated, please pass in a Service object\n",
      "  driver = webdriver.Chrome('chromedriver.exe')\n"
     ]
    }
   ],
   "source": [
    "from selenium import webdriver\n",
    "\n",
    "from selenium.webdriver.common.action_chains import ActionChains\n",
    "\n",
    "from selenium.webdriver.common.by import By\n",
    "\n",
    "import time\n",
    "\n",
    " \n",
    "\n",
    "driver = webdriver.Chrome('chromedriver.exe')\n",
    "\n",
    "webaddress= 'https://orteil.dashnet.org/cookieclicker/'\n",
    "\n",
    "driver.get(webaddress)\n",
    "\n",
    " \n",
    "\n",
    "driver.implicitly_wait(10)\n",
    "\n",
    " \n",
    "\n",
    " \n",
    "\n",
    "cookie = driver.find_element(By.ID,value='bigCookie')\n",
    "\n",
    "cookie_count = driver.find_element(By.ID,value='cookies')\n",
    "\n",
    "items = [driver.find_element(By.ID, value='productPrice' + str(i)) for i in range (1,-1,-1)]\n",
    "\n",
    " \n",
    "\n",
    "actions = ActionChains(driver)\n",
    "\n",
    "actions.click(cookie)\n",
    "\n",
    " \n",
    "\n",
    "for i in range(5000):\n",
    "    actions = ActionChains(driver).click(cookie).perform()"
   ]
  },
  {
   "cell_type": "code",
   "execution_count": 2,
   "id": "d05415cb",
   "metadata": {},
   "outputs": [],
   "source": [
    "for i in range(5):\n",
    "\n",
    "    actions.perform()"
   ]
  },
  {
   "cell_type": "code",
   "execution_count": null,
   "id": "c4757361",
   "metadata": {},
   "outputs": [],
   "source": []
  }
 ],
 "metadata": {
  "kernelspec": {
   "display_name": "Python 3 (ipykernel)",
   "language": "python",
   "name": "python3"
  },
  "language_info": {
   "codemirror_mode": {
    "name": "ipython",
    "version": 3
   },
   "file_extension": ".py",
   "mimetype": "text/x-python",
   "name": "python",
   "nbconvert_exporter": "python",
   "pygments_lexer": "ipython3",
   "version": "3.8.13"
  }
 },
 "nbformat": 4,
 "nbformat_minor": 5
}
