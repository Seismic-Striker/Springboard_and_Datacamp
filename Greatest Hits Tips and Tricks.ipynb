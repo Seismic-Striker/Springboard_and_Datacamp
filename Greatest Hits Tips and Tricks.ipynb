{
 "cells": [
  {
   "cell_type": "code",
   "execution_count": 5,
   "id": "f9f2fa10",
   "metadata": {},
   "outputs": [],
   "source": [
    "import pandas as pd\n",
    "?pd.DataFrame\n",
    "#ALSO YOU CAN start with pd. then hit the tab key to see all the options available"
   ]
  },
  {
   "cell_type": "code",
   "execution_count": null,
   "id": "5e2bee40",
   "metadata": {},
   "outputs": [],
   "source": []
  }
 ],
 "metadata": {
  "kernelspec": {
   "display_name": "Python 3",
   "language": "python",
   "name": "python3"
  },
  "language_info": {
   "codemirror_mode": {
    "name": "ipython",
    "version": 3
   },
   "file_extension": ".py",
   "mimetype": "text/x-python",
   "name": "python",
   "nbconvert_exporter": "python",
   "pygments_lexer": "ipython3",
   "version": "3.8.8"
  }
 },
 "nbformat": 4,
 "nbformat_minor": 5
}
