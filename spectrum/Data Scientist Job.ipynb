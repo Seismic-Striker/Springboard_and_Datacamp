{
 "cells": [
  {
   "cell_type": "code",
   "execution_count": 5,
   "id": "5f508eb7",
   "metadata": {},
   "outputs": [],
   "source": [
    "import pandas as pd"
   ]
  },
  {
   "cell_type": "code",
   "execution_count": 28,
   "id": "56e81f98",
   "metadata": {},
   "outputs": [],
   "source": [
    "def function1(list):\n",
    "     #take length value of list\n",
    "    size = len(list)\n",
    "     #interate through \n",
    "    for elem in range(0, size):\n",
    "        foo = False\n",
    " \n",
    "        for elem2 in range(0, size - elem - 1):\n",
    "            if list[elem2] > list[elem2 + 1]:\n",
    "                list[elem2], list[elem2 + 1] = list[elem2 + 1], list[elem2]\n",
    "                foo = True\n",
    " \n",
    "        if not foo: break\n",
    " \n",
    "    return list"
   ]
  },
  {
   "cell_type": "code",
   "execution_count": 41,
   "id": "cf9017d4",
   "metadata": {},
   "outputs": [],
   "source": [
    "def function1(list):\n",
    "     #take length value of list\n",
    "    size = len(list)\n",
    "     #interate through \n",
    "    for elem in range(0, size):\n",
    "        print('elem '+str(elem))\n",
    "        foo = False\n",
    " \n",
    "        for elem2 in range(0, size - elem - 1):\n",
    "            print('eleme2 '+str(elem2))\n",
    "            if list[elem2] > list[elem2 + 1]:\n",
    "                list[elem2], list[elem2 + 1] = list[elem2 + 1], list[elem2]\n",
    "                foo = True\n",
    " \n",
    "        if not foo: break\n",
    " \n",
    "    return list"
   ]
  },
  {
   "cell_type": "code",
   "execution_count": 42,
   "id": "4c3ec2c9",
   "metadata": {},
   "outputs": [
    {
     "name": "stdout",
     "output_type": "stream",
     "text": [
      "0\n",
      "1\n",
      "2\n"
     ]
    }
   ],
   "source": [
    "for i in range(0,len(trythis1)):\n",
    "    print(i)"
   ]
  },
  {
   "cell_type": "code",
   "execution_count": null,
   "id": "66968331",
   "metadata": {},
   "outputs": [],
   "source": []
  },
  {
   "cell_type": "code",
   "execution_count": 48,
   "id": "6dfbbecc",
   "metadata": {},
   "outputs": [
    {
     "data": {
      "text/plain": [
       "9"
      ]
     },
     "execution_count": 48,
     "metadata": {},
     "output_type": "execute_result"
    }
   ],
   "source": [
    "trythis1 = ['hello','this looks funny','21']\n",
    "trythis2 = ['z','y','t','r','s','x','c','s','w']\n",
    "len(trythis2)"
   ]
  },
  {
   "cell_type": "code",
   "execution_count": 47,
   "id": "1675d2b8",
   "metadata": {},
   "outputs": [
    {
     "name": "stdout",
     "output_type": "stream",
     "text": [
      "elem 0\n",
      "eleme2 0\n",
      "eleme2 1\n",
      "eleme2 2\n",
      "eleme2 3\n",
      "eleme2 4\n",
      "['a', 'b', 'c', 'd', 'e', 'z']\n",
      "elem 0\n",
      "eleme2 0\n",
      "eleme2 1\n",
      "eleme2 2\n",
      "eleme2 3\n",
      "[2, 4, 6, 8, 10]\n",
      "elem 0\n",
      "eleme2 0\n",
      "eleme2 1\n",
      "elem 1\n",
      "eleme2 0\n",
      "elem 2\n",
      "['21', 'hello', 'this looks funny']\n",
      "elem 0\n",
      "eleme2 0\n",
      "eleme2 1\n",
      "eleme2 2\n",
      "eleme2 3\n",
      "eleme2 4\n",
      "eleme2 5\n",
      "eleme2 6\n",
      "eleme2 7\n",
      "elem 1\n",
      "eleme2 0\n",
      "eleme2 1\n",
      "eleme2 2\n",
      "eleme2 3\n",
      "eleme2 4\n",
      "eleme2 5\n",
      "eleme2 6\n",
      "elem 2\n",
      "eleme2 0\n",
      "eleme2 1\n",
      "eleme2 2\n",
      "eleme2 3\n",
      "eleme2 4\n",
      "eleme2 5\n",
      "elem 3\n",
      "eleme2 0\n",
      "eleme2 1\n",
      "eleme2 2\n",
      "eleme2 3\n",
      "eleme2 4\n",
      "elem 4\n",
      "eleme2 0\n",
      "eleme2 1\n",
      "eleme2 2\n",
      "eleme2 3\n",
      "elem 5\n",
      "eleme2 0\n",
      "eleme2 1\n",
      "eleme2 2\n",
      "elem 6\n",
      "eleme2 0\n",
      "eleme2 1\n",
      "['c', 'r', 's', 's', 't', 'w', 'x', 'y', 'z']\n"
     ]
    }
   ],
   "source": [
    "print(function1(letters))\n",
    "print(function1(intlist))\n",
    "print(function1(trythis1))\n",
    "print(function1(trythis2))"
   ]
  },
  {
   "cell_type": "code",
   "execution_count": null,
   "id": "342c91e3",
   "metadata": {},
   "outputs": [],
   "source": [
    "def foo(r, c):\n",
    "    if c in (0, r):\n",
    "        return 1\n",
    "    return foo(r-1, c-1) + foo(r-1, c)\n",
    " \n",
    " \n",
    "def function2(n):\n",
    "    return [[foo(r, c) for c in range(r + 1)] for r in range(n)][n-1]"
   ]
  },
  {
   "cell_type": "code",
   "execution_count": null,
   "id": "a1c8888a",
   "metadata": {},
   "outputs": [],
   "source": [
    "from math import floor\n",
    "from itertools import groupby\n",
    "\n",
    "def function3(l, n):\n",
    "  assert(len(l) > 0 and n > 0)\n",
    "  minimum = min(l)\n",
    "  maximum = max(l)\n",
    "  d = (maximum - minimum) / n\n",
    "  values = [(floor((l[i] - minimum) / d)) for i in range(len(l))]\n",
    "  dictionary = dict([(key, len(list(group))) for key, group in groupby(sorted(values))])\n",
    "  return [(minimum+(i+0.5)*d, dictionary.get(i, 0)) for i in range(0,n,1)]"
   ]
  },
  {
   "cell_type": "code",
   "execution_count": 11,
   "id": "70d630ca",
   "metadata": {},
   "outputs": [],
   "source": [
    "intlist=[10,8,6,4,2]\n",
    "letters = ['a','c','b','d','z','e']\n",
    "\n"
   ]
  },
  {
   "cell_type": "code",
   "execution_count": 3,
   "id": "766ed741",
   "metadata": {},
   "outputs": [
    {
     "name": "stdout",
     "output_type": "stream",
     "text": [
      "[2, 4, 6, 8, 10]\n",
      "['a', 'b', 'c', 'd', 'e', 'z']\n"
     ]
    }
   ],
   "source": [
    "print(function1(intlist))\n",
    "\n",
    "print(function1(letters))\n"
   ]
  },
  {
   "cell_type": "code",
   "execution_count": 4,
   "id": "ce67c704",
   "metadata": {},
   "outputs": [
    {
     "ename": "IndexError",
     "evalue": "list index out of range",
     "output_type": "error",
     "traceback": [
      "\u001b[1;31m---------------------------------------------------------------------------\u001b[0m",
      "\u001b[1;31mIndexError\u001b[0m                                Traceback (most recent call last)",
      "Input \u001b[1;32mIn [4]\u001b[0m, in \u001b[0;36m<cell line: 3>\u001b[1;34m()\u001b[0m\n\u001b[0;32m      1\u001b[0m function2(\u001b[38;5;241m4\u001b[39m)\n\u001b[0;32m      3\u001b[0m \u001b[38;5;28;01mfor\u001b[39;00m i \u001b[38;5;129;01min\u001b[39;00m \u001b[38;5;28mrange\u001b[39m(\u001b[38;5;241m6\u001b[39m):\n\u001b[1;32m----> 4\u001b[0m     \u001b[43mfunction2\u001b[49m\u001b[43m(\u001b[49m\u001b[43mi\u001b[49m\u001b[43m)\u001b[49m\n\u001b[0;32m      5\u001b[0m     \u001b[38;5;28;01mcontinue\u001b[39;00m\n\u001b[0;32m      7\u001b[0m \u001b[38;5;28mprint\u001b[39m(\u001b[38;5;28mrange\u001b[39m(\u001b[38;5;241m20\u001b[39m))\n",
      "Input \u001b[1;32mIn [1]\u001b[0m, in \u001b[0;36mfunction2\u001b[1;34m(n)\u001b[0m\n\u001b[0;32m     23\u001b[0m \u001b[38;5;28;01mdef\u001b[39;00m \u001b[38;5;21mfunction2\u001b[39m(n):\n\u001b[1;32m---> 24\u001b[0m     \u001b[38;5;28;01mreturn\u001b[39;00m \u001b[43m[\u001b[49m\u001b[43m[\u001b[49m\u001b[43mfoo\u001b[49m\u001b[43m(\u001b[49m\u001b[43mr\u001b[49m\u001b[43m,\u001b[49m\u001b[43m \u001b[49m\u001b[43mc\u001b[49m\u001b[43m)\u001b[49m\u001b[43m \u001b[49m\u001b[38;5;28;43;01mfor\u001b[39;49;00m\u001b[43m \u001b[49m\u001b[43mc\u001b[49m\u001b[43m \u001b[49m\u001b[38;5;129;43;01min\u001b[39;49;00m\u001b[43m \u001b[49m\u001b[38;5;28;43mrange\u001b[39;49m\u001b[43m(\u001b[49m\u001b[43mr\u001b[49m\u001b[43m \u001b[49m\u001b[38;5;241;43m+\u001b[39;49m\u001b[43m \u001b[49m\u001b[38;5;241;43m1\u001b[39;49m\u001b[43m)\u001b[49m\u001b[43m]\u001b[49m\u001b[43m \u001b[49m\u001b[38;5;28;43;01mfor\u001b[39;49;00m\u001b[43m \u001b[49m\u001b[43mr\u001b[49m\u001b[43m \u001b[49m\u001b[38;5;129;43;01min\u001b[39;49;00m\u001b[43m \u001b[49m\u001b[38;5;28;43mrange\u001b[39;49m\u001b[43m(\u001b[49m\u001b[43mn\u001b[49m\u001b[43m)\u001b[49m\u001b[43m]\u001b[49m\u001b[43m[\u001b[49m\u001b[43mn\u001b[49m\u001b[38;5;241;43m-\u001b[39;49m\u001b[38;5;241;43m1\u001b[39;49m\u001b[43m]\u001b[49m\n",
      "\u001b[1;31mIndexError\u001b[0m: list index out of range"
     ]
    }
   ],
   "source": [
    "\n",
    "function2(4)\n",
    "\n",
    "for i in range(6):\n",
    "    function2(i)\n",
    "    continue\n",
    "\n",
    "print(range(20))\n",
    "\n",
    "test = range(0,20)\n",
    "test\n",
    "\n",
    "for i in range(6):\n",
    "    print(i)"
   ]
  },
  {
   "cell_type": "code",
   "execution_count": 7,
   "id": "7803a3c9",
   "metadata": {},
   "outputs": [],
   "source": [
    "accounts = pd.read_csv('sampleData/accounts.csv')\n",
    "streams = pd.read_csv('sampleData/streams.csv')"
   ]
  },
  {
   "cell_type": "code",
   "execution_count": 8,
   "id": "993f0a5d",
   "metadata": {},
   "outputs": [
    {
     "data": {
      "text/html": [
       "<div>\n",
       "<style scoped>\n",
       "    .dataframe tbody tr th:only-of-type {\n",
       "        vertical-align: middle;\n",
       "    }\n",
       "\n",
       "    .dataframe tbody tr th {\n",
       "        vertical-align: top;\n",
       "    }\n",
       "\n",
       "    .dataframe thead th {\n",
       "        text-align: right;\n",
       "    }\n",
       "</style>\n",
       "<table border=\"1\" class=\"dataframe\">\n",
       "  <thead>\n",
       "    <tr style=\"text-align: right;\">\n",
       "      <th></th>\n",
       "      <th>account_number</th>\n",
       "      <th>price</th>\n",
       "      <th>churned</th>\n",
       "    </tr>\n",
       "  </thead>\n",
       "  <tbody>\n",
       "    <tr>\n",
       "      <th>0</th>\n",
       "      <td>650</td>\n",
       "      <td>30.56</td>\n",
       "      <td>1</td>\n",
       "    </tr>\n",
       "    <tr>\n",
       "      <th>1</th>\n",
       "      <td>573</td>\n",
       "      <td>12.04</td>\n",
       "      <td>0</td>\n",
       "    </tr>\n",
       "    <tr>\n",
       "      <th>2</th>\n",
       "      <td>575</td>\n",
       "      <td>32.05</td>\n",
       "      <td>0</td>\n",
       "    </tr>\n",
       "    <tr>\n",
       "      <th>3</th>\n",
       "      <td>943</td>\n",
       "      <td>30.56</td>\n",
       "      <td>1</td>\n",
       "    </tr>\n",
       "    <tr>\n",
       "      <th>4</th>\n",
       "      <td>924</td>\n",
       "      <td>35.19</td>\n",
       "      <td>0</td>\n",
       "    </tr>\n",
       "  </tbody>\n",
       "</table>\n",
       "</div>"
      ],
      "text/plain": [
       "   account_number  price  churned\n",
       "0             650  30.56        1\n",
       "1             573  12.04        0\n",
       "2             575  32.05        0\n",
       "3             943  30.56        1\n",
       "4             924  35.19        0"
      ]
     },
     "execution_count": 8,
     "metadata": {},
     "output_type": "execute_result"
    }
   ],
   "source": [
    "accounts.head()"
   ]
  },
  {
   "cell_type": "code",
   "execution_count": 9,
   "id": "ae7181b4",
   "metadata": {},
   "outputs": [
    {
     "data": {
      "text/html": [
       "<div>\n",
       "<style scoped>\n",
       "    .dataframe tbody tr th:only-of-type {\n",
       "        vertical-align: middle;\n",
       "    }\n",
       "\n",
       "    .dataframe tbody tr th {\n",
       "        vertical-align: top;\n",
       "    }\n",
       "\n",
       "    .dataframe thead th {\n",
       "        text-align: right;\n",
       "    }\n",
       "</style>\n",
       "<table border=\"1\" class=\"dataframe\">\n",
       "  <thead>\n",
       "    <tr style=\"text-align: right;\">\n",
       "      <th></th>\n",
       "      <th>account_number</th>\n",
       "      <th>start_timestamp</th>\n",
       "      <th>end_timestamp</th>\n",
       "      <th>mos_score</th>\n",
       "    </tr>\n",
       "  </thead>\n",
       "  <tbody>\n",
       "    <tr>\n",
       "      <th>0</th>\n",
       "      <td>978</td>\n",
       "      <td>1.526775e+12</td>\n",
       "      <td>1526775485544</td>\n",
       "      <td>4.531915</td>\n",
       "    </tr>\n",
       "    <tr>\n",
       "      <th>1</th>\n",
       "      <td>599</td>\n",
       "      <td>1.526719e+12</td>\n",
       "      <td>1526719368844</td>\n",
       "      <td>4.595745</td>\n",
       "    </tr>\n",
       "    <tr>\n",
       "      <th>2</th>\n",
       "      <td>939</td>\n",
       "      <td>1.526769e+12</td>\n",
       "      <td>1526768981833</td>\n",
       "      <td>4.063830</td>\n",
       "    </tr>\n",
       "    <tr>\n",
       "      <th>3</th>\n",
       "      <td>939</td>\n",
       "      <td>1.526773e+12</td>\n",
       "      <td>1526774360750</td>\n",
       "      <td>4.468085</td>\n",
       "    </tr>\n",
       "    <tr>\n",
       "      <th>4</th>\n",
       "      <td>749</td>\n",
       "      <td>1.526738e+12</td>\n",
       "      <td>1526740366937</td>\n",
       "      <td>4.595745</td>\n",
       "    </tr>\n",
       "  </tbody>\n",
       "</table>\n",
       "</div>"
      ],
      "text/plain": [
       "   account_number  start_timestamp  end_timestamp  mos_score\n",
       "0             978     1.526775e+12  1526775485544   4.531915\n",
       "1             599     1.526719e+12  1526719368844   4.595745\n",
       "2             939     1.526769e+12  1526768981833   4.063830\n",
       "3             939     1.526773e+12  1526774360750   4.468085\n",
       "4             749     1.526738e+12  1526740366937   4.595745"
      ]
     },
     "execution_count": 9,
     "metadata": {},
     "output_type": "execute_result"
    }
   ],
   "source": [
    "streams.head()"
   ]
  },
  {
   "cell_type": "code",
   "execution_count": null,
   "id": "1083f10b",
   "metadata": {},
   "outputs": [],
   "source": []
  }
 ],
 "metadata": {
  "kernelspec": {
   "display_name": "Python 3 (ipykernel)",
   "language": "python",
   "name": "python3"
  },
  "language_info": {
   "codemirror_mode": {
    "name": "ipython",
    "version": 3
   },
   "file_extension": ".py",
   "mimetype": "text/x-python",
   "name": "python",
   "nbconvert_exporter": "python",
   "pygments_lexer": "ipython3",
   "version": "3.9.12"
  }
 },
 "nbformat": 4,
 "nbformat_minor": 5
}
