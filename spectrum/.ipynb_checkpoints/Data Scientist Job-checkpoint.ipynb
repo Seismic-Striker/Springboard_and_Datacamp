{
 "cells": [
  {
   "cell_type": "code",
   "execution_count": 5,
   "id": "a17160ba",
   "metadata": {},
   "outputs": [],
   "source": [
    "import pandas as pd"
   ]
  },
  {
   "cell_type": "code",
   "execution_count": 1,
   "id": "37a5cd59",
   "metadata": {},
   "outputs": [],
   "source": [
    "def function1(list):\n",
    "     #\n",
    "    size = len(list)\n",
    " \n",
    "    for elem in range(0, size):\n",
    "        foo = False\n",
    " \n",
    "        for elem2 in range(0, size - elem - 1):\n",
    "            if list[elem2] > list[elem2 + 1]:\n",
    "                list[elem2], list[elem2 + 1] = list[elem2 + 1], list[elem2]\n",
    "                foo = True\n",
    " \n",
    "        if not foo: break\n",
    " \n",
    "    return list\n",
    "\n",
    "\n",
    "\n",
    "\n",
    "\n"
   ]
  },
  {
   "cell_type": "code",
   "execution_count": null,
   "id": "0a2d93be",
   "metadata": {},
   "outputs": [],
   "source": [
    "def foo(r, c):\n",
    "    if c in (0, r):\n",
    "        return 1\n",
    "    return foo(r-1, c-1) + foo(r-1, c)\n",
    " \n",
    " \n",
    "def function2(n):\n",
    "    return [[foo(r, c) for c in range(r + 1)] for r in range(n)][n-1]"
   ]
  },
  {
   "cell_type": "code",
   "execution_count": null,
   "id": "f39cbbd9",
   "metadata": {},
   "outputs": [],
   "source": [
    "from math import floor\n",
    "from itertools import groupby\n",
    "\n",
    "def function3(l, n):\n",
    "  assert(len(l) > 0 and n > 0)\n",
    "  minimum = min(l)\n",
    "  maximum = max(l)\n",
    "  d = (maximum - minimum) / n\n",
    "  values = [(floor((l[i] - minimum) / d)) for i in range(len(l))]\n",
    "  dictionary = dict([(key, len(list(group))) for key, group in groupby(sorted(values))])\n",
    "  return [(minimum+(i+0.5)*d, dictionary.get(i, 0)) for i in range(0,n,1)]"
   ]
  },
  {
   "cell_type": "code",
   "execution_count": 2,
   "id": "4e515679",
   "metadata": {},
   "outputs": [],
   "source": [
    "intlist=[10,8,6,4,2]\n",
    "letters = ['a','c','b','d','z','e']\n",
    "\n"
   ]
  },
  {
   "cell_type": "code",
   "execution_count": 3,
   "id": "85283084",
   "metadata": {},
   "outputs": [
    {
     "name": "stdout",
     "output_type": "stream",
     "text": [
      "[2, 4, 6, 8, 10]\n",
      "['a', 'b', 'c', 'd', 'e', 'z']\n"
     ]
    }
   ],
   "source": [
    "print(function1(intlist))\n",
    "\n",
    "print(function1(letters))\n"
   ]
  },
  {
   "cell_type": "code",
   "execution_count": 4,
   "id": "2b9572a6",
   "metadata": {},
   "outputs": [
    {
     "ename": "IndexError",
     "evalue": "list index out of range",
     "output_type": "error",
     "traceback": [
      "\u001b[1;31m---------------------------------------------------------------------------\u001b[0m",
      "\u001b[1;31mIndexError\u001b[0m                                Traceback (most recent call last)",
      "Input \u001b[1;32mIn [4]\u001b[0m, in \u001b[0;36m<cell line: 3>\u001b[1;34m()\u001b[0m\n\u001b[0;32m      1\u001b[0m function2(\u001b[38;5;241m4\u001b[39m)\n\u001b[0;32m      3\u001b[0m \u001b[38;5;28;01mfor\u001b[39;00m i \u001b[38;5;129;01min\u001b[39;00m \u001b[38;5;28mrange\u001b[39m(\u001b[38;5;241m6\u001b[39m):\n\u001b[1;32m----> 4\u001b[0m     \u001b[43mfunction2\u001b[49m\u001b[43m(\u001b[49m\u001b[43mi\u001b[49m\u001b[43m)\u001b[49m\n\u001b[0;32m      5\u001b[0m     \u001b[38;5;28;01mcontinue\u001b[39;00m\n\u001b[0;32m      7\u001b[0m \u001b[38;5;28mprint\u001b[39m(\u001b[38;5;28mrange\u001b[39m(\u001b[38;5;241m20\u001b[39m))\n",
      "Input \u001b[1;32mIn [1]\u001b[0m, in \u001b[0;36mfunction2\u001b[1;34m(n)\u001b[0m\n\u001b[0;32m     23\u001b[0m \u001b[38;5;28;01mdef\u001b[39;00m \u001b[38;5;21mfunction2\u001b[39m(n):\n\u001b[1;32m---> 24\u001b[0m     \u001b[38;5;28;01mreturn\u001b[39;00m \u001b[43m[\u001b[49m\u001b[43m[\u001b[49m\u001b[43mfoo\u001b[49m\u001b[43m(\u001b[49m\u001b[43mr\u001b[49m\u001b[43m,\u001b[49m\u001b[43m \u001b[49m\u001b[43mc\u001b[49m\u001b[43m)\u001b[49m\u001b[43m \u001b[49m\u001b[38;5;28;43;01mfor\u001b[39;49;00m\u001b[43m \u001b[49m\u001b[43mc\u001b[49m\u001b[43m \u001b[49m\u001b[38;5;129;43;01min\u001b[39;49;00m\u001b[43m \u001b[49m\u001b[38;5;28;43mrange\u001b[39;49m\u001b[43m(\u001b[49m\u001b[43mr\u001b[49m\u001b[43m \u001b[49m\u001b[38;5;241;43m+\u001b[39;49m\u001b[43m \u001b[49m\u001b[38;5;241;43m1\u001b[39;49m\u001b[43m)\u001b[49m\u001b[43m]\u001b[49m\u001b[43m \u001b[49m\u001b[38;5;28;43;01mfor\u001b[39;49;00m\u001b[43m \u001b[49m\u001b[43mr\u001b[49m\u001b[43m \u001b[49m\u001b[38;5;129;43;01min\u001b[39;49;00m\u001b[43m \u001b[49m\u001b[38;5;28;43mrange\u001b[39;49m\u001b[43m(\u001b[49m\u001b[43mn\u001b[49m\u001b[43m)\u001b[49m\u001b[43m]\u001b[49m\u001b[43m[\u001b[49m\u001b[43mn\u001b[49m\u001b[38;5;241;43m-\u001b[39;49m\u001b[38;5;241;43m1\u001b[39;49m\u001b[43m]\u001b[49m\n",
      "\u001b[1;31mIndexError\u001b[0m: list index out of range"
     ]
    }
   ],
   "source": [
    "\n",
    "function2(4)\n",
    "\n",
    "for i in range(6):\n",
    "    function2(i)\n",
    "    continue\n",
    "\n",
    "print(range(20))\n",
    "\n",
    "test = range(0,20)\n",
    "test\n",
    "\n",
    "for i in range(6):\n",
    "    print(i)"
   ]
  },
  {
   "cell_type": "code",
   "execution_count": 7,
   "id": "d3866f18",
   "metadata": {},
   "outputs": [],
   "source": [
    "accounts = pd.read_csv('sampleData/accounts.csv')\n",
    "streams = pd.read_csv('sampleData/streams.csv')"
   ]
  },
  {
   "cell_type": "code",
   "execution_count": null,
   "id": "78c98e4a",
   "metadata": {},
   "outputs": [],
   "source": []
  }
 ],
 "metadata": {
  "kernelspec": {
   "display_name": "Python 3 (ipykernel)",
   "language": "python",
   "name": "python3"
  },
  "language_info": {
   "codemirror_mode": {
    "name": "ipython",
    "version": 3
   },
   "file_extension": ".py",
   "mimetype": "text/x-python",
   "name": "python",
   "nbconvert_exporter": "python",
   "pygments_lexer": "ipython3",
   "version": "3.9.12"
  }
 },
 "nbformat": 4,
 "nbformat_minor": 5
}
