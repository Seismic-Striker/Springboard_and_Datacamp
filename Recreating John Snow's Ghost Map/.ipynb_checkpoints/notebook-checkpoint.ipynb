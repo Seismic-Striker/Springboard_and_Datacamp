{
 "cells": [
  {
   "cell_type": "markdown",
   "metadata": {
    "dc": {
     "key": "4"
    },
    "deletable": false,
    "editable": false,
    "run_control": {
     "frozen": true
    },
    "tags": [
     "context"
    ]
   },
   "source": [
    "## 1. Dr. John Snow\n",
    "<p><img style=\"float: left;margin:5px 20px 5px 1px\" src=\"https://assets.datacamp.com/production/project_132/img/johnsnow_final1.png\"></p>\n",
    "<p>Dr. John Snow (1813-1858) was a famous British physician and is widely recognized as a legendary figure in the history of public health and a leading pioneer in the development of anesthesia. Some even say one of the greatest physicians of all time.</p>\n",
    "<p>As a leading advocate of both anesthesia and hygienic practices in medicine, he not only experimented with ether and chloroform but also designed a mask and method how to administer it. He personally administered chloroform to Queen Victoria during the births of her eighth and ninth children, in 1853 and 1857, which assured a growing public acceptance of the use of anesthetics during childbirth.</p>\n",
    "<p>But, as we will show later, not all his life was just a success. John Snow is now also recognized as one of the founders of modern epidemiology <em>(some also consider him as the founder of data visualization, spatial analysis, data science in general, and many other related fields)</em> for his scientific and pretty modern data approach in identifying the source of a cholera outbreak in Soho, London in 1854, but it wasn't always like this. In fact, for a long time, he was simply ignored by the scientific community and currently is very often mythified. </p>\n",
    "<p>In this notebook, we're not only going to rediscover his \"data story\", but reanalyze the data that he collected in 1854 and recreate his famous map (also called The Ghost Map).</p>"
   ]
  },
  {
   "cell_type": "code",
   "execution_count": 86,
   "metadata": {
    "dc": {
     "key": "4"
    },
    "tags": [
     "sample_code"
    ]
   },
   "outputs": [
    {
     "name": "stdout",
     "output_type": "stream",
     "text": [
      "(489, 3)\n"
     ]
    },
    {
     "data": {
      "text/html": [
       "<div>\n",
       "<style scoped>\n",
       "    .dataframe tbody tr th:only-of-type {\n",
       "        vertical-align: middle;\n",
       "    }\n",
       "\n",
       "    .dataframe tbody tr th {\n",
       "        vertical-align: top;\n",
       "    }\n",
       "\n",
       "    .dataframe thead th {\n",
       "        text-align: right;\n",
       "    }\n",
       "</style>\n",
       "<table border=\"1\" class=\"dataframe\">\n",
       "  <thead>\n",
       "    <tr style=\"text-align: right;\">\n",
       "      <th></th>\n",
       "      <th>Death</th>\n",
       "      <th>X coordinate</th>\n",
       "      <th>Y coordinate</th>\n",
       "    </tr>\n",
       "  </thead>\n",
       "  <tbody>\n",
       "    <tr>\n",
       "      <th>0</th>\n",
       "      <td>1</td>\n",
       "      <td>51.513418</td>\n",
       "      <td>-0.137930</td>\n",
       "    </tr>\n",
       "    <tr>\n",
       "      <th>1</th>\n",
       "      <td>1</td>\n",
       "      <td>51.513418</td>\n",
       "      <td>-0.137930</td>\n",
       "    </tr>\n",
       "    <tr>\n",
       "      <th>2</th>\n",
       "      <td>1</td>\n",
       "      <td>51.513418</td>\n",
       "      <td>-0.137930</td>\n",
       "    </tr>\n",
       "    <tr>\n",
       "      <th>3</th>\n",
       "      <td>1</td>\n",
       "      <td>51.513361</td>\n",
       "      <td>-0.137883</td>\n",
       "    </tr>\n",
       "    <tr>\n",
       "      <th>4</th>\n",
       "      <td>1</td>\n",
       "      <td>51.513361</td>\n",
       "      <td>-0.137883</td>\n",
       "    </tr>\n",
       "  </tbody>\n",
       "</table>\n",
       "</div>"
      ],
      "text/plain": [
       "   Death  X coordinate  Y coordinate\n",
       "0      1     51.513418     -0.137930\n",
       "1      1     51.513418     -0.137930\n",
       "2      1     51.513418     -0.137930\n",
       "3      1     51.513361     -0.137883\n",
       "4      1     51.513361     -0.137883"
      ]
     },
     "execution_count": 86,
     "metadata": {},
     "output_type": "execute_result"
    }
   ],
   "source": [
    "# Loading in the pandas module\n",
    "# ... YOUR CODE FOR TASK 1 ...\n",
    "import pandas as pd\n",
    "# Reading in the data\n",
    "deaths = pd.read_csv('datasets/deaths.csv')\n",
    "\n",
    "# Print out the shape of the dataset\n",
    "# ... YOUR CODE FOR TASK 1 ...\n",
    "print(deaths.shape)\n",
    "# Printing out the first 5 rows\n",
    "# ... YOUR CODE FOR TASK 1 ...\n",
    "deaths.head()"
   ]
  },
  {
   "cell_type": "markdown",
   "metadata": {
    "dc": {
     "key": "11"
    },
    "deletable": false,
    "editable": false,
    "run_control": {
     "frozen": true
    },
    "tags": [
     "context"
    ]
   },
   "source": [
    "## 2. Cholera attacks!\n",
    "<p><img style=\"float: left;margin:5px 20px 5px 1px\" src=\"https://assets.datacamp.com/production/project_132/img/johnsnow_cholera1.jpg\"></p>\n",
    "<p>Prior to John Snow's discovery cholera was a regular visitor to London’s overcrowded and unsanitary streets. During the time of the third cholera outbreak, it was one of the most studied subjects (between years 1839-1856 over 700 studies and essays were published in London alone) and nearly all of the authors believed the outbreaks were due to miasma or \"bad air\". </p>\n",
    "<p>It was John Snow's pioneering work with anesthesia and gases that made him doubt the miasma model of the disease. Originally he formulated and published his theory that cholera is spread by water or food  in an essay On the Mode of Communication of Cholera (before the outbreak in 1849). The essay received negative reviews in the Lancet and the London Medical Gazette. </p>\n",
    "<p>We know now that he was right, but Dr. Snow's dilemma was how to prove it? His first step to getting there was checking the data. Our dataset has 489 rows of data in 3 columns but to work with dataset more easily we will first make few changes. </p>"
   ]
  },
  {
   "cell_type": "code",
   "execution_count": 88,
   "metadata": {
    "dc": {
     "key": "11"
    },
    "tags": [
     "sample_code"
    ]
   },
   "outputs": [
    {
     "name": "stdout",
     "output_type": "stream",
     "text": [
      "<class 'pandas.core.frame.DataFrame'>\n",
      "RangeIndex: 489 entries, 0 to 488\n",
      "Data columns (total 3 columns):\n",
      "Death           489 non-null int64\n",
      "X coordinate    489 non-null float64\n",
      "Y coordinate    489 non-null float64\n",
      "dtypes: float64(2), int64(1)\n",
      "memory usage: 11.5 KB\n"
     ]
    },
    {
     "data": {
      "text/html": [
       "<div>\n",
       "<style scoped>\n",
       "    .dataframe tbody tr th:only-of-type {\n",
       "        vertical-align: middle;\n",
       "    }\n",
       "\n",
       "    .dataframe tbody tr th {\n",
       "        vertical-align: top;\n",
       "    }\n",
       "\n",
       "    .dataframe thead th {\n",
       "        text-align: right;\n",
       "    }\n",
       "</style>\n",
       "<table border=\"1\" class=\"dataframe\">\n",
       "  <thead>\n",
       "    <tr style=\"text-align: right;\">\n",
       "      <th></th>\n",
       "      <th>death_count</th>\n",
       "      <th>x_latitude</th>\n",
       "      <th>y_longitude</th>\n",
       "    </tr>\n",
       "  </thead>\n",
       "  <tbody>\n",
       "    <tr>\n",
       "      <th>count</th>\n",
       "      <td>489.0</td>\n",
       "      <td>489.000000</td>\n",
       "      <td>489.000000</td>\n",
       "    </tr>\n",
       "    <tr>\n",
       "      <th>mean</th>\n",
       "      <td>1.0</td>\n",
       "      <td>51.513398</td>\n",
       "      <td>-0.136403</td>\n",
       "    </tr>\n",
       "    <tr>\n",
       "      <th>std</th>\n",
       "      <td>0.0</td>\n",
       "      <td>0.000705</td>\n",
       "      <td>0.001503</td>\n",
       "    </tr>\n",
       "    <tr>\n",
       "      <th>min</th>\n",
       "      <td>1.0</td>\n",
       "      <td>51.511856</td>\n",
       "      <td>-0.140074</td>\n",
       "    </tr>\n",
       "    <tr>\n",
       "      <th>25%</th>\n",
       "      <td>1.0</td>\n",
       "      <td>51.512964</td>\n",
       "      <td>-0.137562</td>\n",
       "    </tr>\n",
       "    <tr>\n",
       "      <th>50%</th>\n",
       "      <td>1.0</td>\n",
       "      <td>51.513359</td>\n",
       "      <td>-0.136226</td>\n",
       "    </tr>\n",
       "    <tr>\n",
       "      <th>75%</th>\n",
       "      <td>1.0</td>\n",
       "      <td>51.513875</td>\n",
       "      <td>-0.135344</td>\n",
       "    </tr>\n",
       "    <tr>\n",
       "      <th>max</th>\n",
       "      <td>1.0</td>\n",
       "      <td>51.515834</td>\n",
       "      <td>-0.132933</td>\n",
       "    </tr>\n",
       "  </tbody>\n",
       "</table>\n",
       "</div>"
      ],
      "text/plain": [
       "       death_count  x_latitude  y_longitude\n",
       "count        489.0  489.000000   489.000000\n",
       "mean           1.0   51.513398    -0.136403\n",
       "std            0.0    0.000705     0.001503\n",
       "min            1.0   51.511856    -0.140074\n",
       "25%            1.0   51.512964    -0.137562\n",
       "50%            1.0   51.513359    -0.136226\n",
       "75%            1.0   51.513875    -0.135344\n",
       "max            1.0   51.515834    -0.132933"
      ]
     },
     "execution_count": 88,
     "metadata": {},
     "output_type": "execute_result"
    }
   ],
   "source": [
    "# Summarizing the content of deaths\n",
    "deaths.info()\n",
    "\n",
    "# Define the new names of your columns\n",
    "newcols = {\n",
    "    'Death': 'death_count',\n",
    "    'X coordinate': 'x_latitude', \n",
    "    'Y coordinate': 'y_longitude' \n",
    "    }\n",
    "\n",
    "# Rename your columns\n",
    "deaths.rename(columns=newcols, inplace=True)\n",
    "\n",
    "# Describe the dataset\n",
    "deaths.describe()"
   ]
  },
  {
   "cell_type": "markdown",
   "metadata": {
    "dc": {
     "key": "18"
    },
    "deletable": false,
    "editable": false,
    "run_control": {
     "frozen": true
    },
    "tags": [
     "context"
    ]
   },
   "source": [
    "## 3. You know nothing, John Snow!\n",
    "<p><img style=\"float: left;margin:5px 20px 5px 1px\" src=\"https://assets.datacamp.com/production/project_132/img/johnsnow_cholera_king2.png\"></p>\n",
    "<p>It was somehow unthinkable that one man could debunk the miasma theory and prove that all the others got it wrong, so his work was mostly ignored. His medical colleagues simply said: \"You know nothing, John Snow!\"</p>\n",
    "<p>As already mentioned John Snow's first attempt to debunk the \"miasma\" theory ended with negative reviews. However, a reviewer made a helpful suggestion in terms of what evidence would be compelling: the crucial natural experiment would be to find people living side by side with lifestyles similar in all respects except for the water source. The cholera outbreak in Soho, London in 1854 gave Snow the opportunity not only to save lives this time but also to further test and improve his theory. But what about the final proof that he was right?  </p>\n",
    "<p>We now know how John Snow did it, so let's get the data right first.</p>"
   ]
  },
  {
   "cell_type": "code",
   "execution_count": 92,
   "metadata": {
    "dc": {
     "key": "18"
    },
    "tags": [
     "sample_code"
    ]
   },
   "outputs": [
    {
     "data": {
      "text/plain": [
       "[[51.513418, -0.13793],\n",
       " [51.513418, -0.13793],\n",
       " [51.513418, -0.13793],\n",
       " [51.513360999999996, -0.137883],\n",
       " [51.513360999999996, -0.137883],\n",
       " [51.513317, -0.137853],\n",
       " [51.513262, -0.137812],\n",
       " [51.513203999999995, -0.137767],\n",
       " [51.513203999999995, -0.137767],\n",
       " [51.513203999999995, -0.137767],\n",
       " [51.513203999999995, -0.137767],\n",
       " [51.513184, -0.137537],\n",
       " [51.513184, -0.137537],\n",
       " [51.513359, -0.1382],\n",
       " [51.513359, -0.1382],\n",
       " [51.513328, -0.138045],\n",
       " [51.513328, -0.138045],\n",
       " [51.513323, -0.138276],\n",
       " [51.513323, -0.138276],\n",
       " [51.513323, -0.138276],\n",
       " [51.513427, -0.138223],\n",
       " [51.513427, -0.138223],\n",
       " [51.513381, -0.138337],\n",
       " [51.513381, -0.138337],\n",
       " [51.513462, -0.13856300000000002],\n",
       " [51.513216, -0.138426],\n",
       " [51.513216, -0.138426],\n",
       " [51.513216, -0.138426],\n",
       " [51.513169, -0.138378],\n",
       " [51.513116, -0.138337],\n",
       " [51.513116, -0.138337],\n",
       " [51.513116, -0.138337],\n",
       " [51.513116, -0.138337],\n",
       " [51.51324, -0.13864500000000002],\n",
       " [51.513164, -0.138698],\n",
       " [51.513178, -0.137924],\n",
       " [51.513111, -0.13786500000000002],\n",
       " [51.513111, -0.13786500000000002],\n",
       " [51.513111, -0.13786500000000002],\n",
       " [51.513111, -0.13786500000000002],\n",
       " [51.513055, -0.137811],\n",
       " [51.513055, -0.137811],\n",
       " [51.513055, -0.137811],\n",
       " [51.513441, -0.138762],\n",
       " [51.513441, -0.138762],\n",
       " [51.513591999999996, -0.138799],\n",
       " [51.513402, -0.139045],\n",
       " [51.513402, -0.139045],\n",
       " [51.51338, -0.13897],\n",
       " [51.51338, -0.13897],\n",
       " [51.513411, -0.13886300000000001],\n",
       " [51.513411, -0.13886300000000001],\n",
       " [51.513641, -0.138752],\n",
       " [51.513692999999996, -0.138808],\n",
       " [51.513745, -0.138856],\n",
       " [51.513745, -0.138856],\n",
       " [51.513745, -0.138856],\n",
       " [51.513676000000004, -0.13888699999999998],\n",
       " [51.51359, -0.139239],\n",
       " [51.513663, -0.139321],\n",
       " [51.513502, -0.139316],\n",
       " [51.513583000000004, -0.13961600000000002],\n",
       " [51.513583000000004, -0.13961600000000002],\n",
       " [51.513541, -0.139719],\n",
       " [51.513541, -0.139719],\n",
       " [51.513298, -0.140074],\n",
       " [51.513290999999995, -0.139094],\n",
       " [51.513013, -0.13969700000000002],\n",
       " [51.512965, -0.139327],\n",
       " [51.512893, -0.139317],\n",
       " [51.512893, -0.139317],\n",
       " [51.512964000000004, -0.13918699999999998],\n",
       " [51.512964000000004, -0.13918699999999998],\n",
       " [51.512964000000004, -0.13918699999999998],\n",
       " [51.512964000000004, -0.13918699999999998],\n",
       " [51.512964000000004, -0.13918699999999998],\n",
       " [51.512964000000004, -0.13918699999999998],\n",
       " [51.512964000000004, -0.13918699999999998],\n",
       " [51.512964000000004, -0.13918699999999998],\n",
       " [51.513025, -0.139036],\n",
       " [51.513025, -0.139036],\n",
       " [51.513027, -0.139209],\n",
       " [51.512831, -0.138427],\n",
       " [51.512885, -0.138624],\n",
       " [51.512526, -0.138096],\n",
       " [51.512465, -0.138035],\n",
       " [51.512428, -0.137984],\n",
       " [51.512428, -0.137984],\n",
       " [51.512428, -0.137984],\n",
       " [51.512428, -0.137984],\n",
       " [51.512415000000004, -0.13806500000000002],\n",
       " [51.51251, -0.138194],\n",
       " [51.512378000000005, -0.137818],\n",
       " [51.512446999999995, -0.137656],\n",
       " [51.512491, -0.13758399999999998],\n",
       " [51.512491, -0.13758399999999998],\n",
       " [51.512491, -0.13758399999999998],\n",
       " [51.512491, -0.13758399999999998],\n",
       " [51.512374, -0.13765],\n",
       " [51.512339000000004, -0.13745],\n",
       " [51.512364, -0.137376],\n",
       " [51.512319, -0.137327],\n",
       " [51.51254, -0.13698],\n",
       " [51.512648999999996, -0.13718],\n",
       " [51.512648999999996, -0.13718],\n",
       " [51.512692, -0.137052],\n",
       " [51.512957, -0.137695],\n",
       " [51.512765, -0.137533],\n",
       " [51.51278, -0.137419],\n",
       " [51.51278, -0.137419],\n",
       " [51.512726, -0.13736800000000002],\n",
       " [51.512681, -0.137325],\n",
       " [51.512914, -0.137531],\n",
       " [51.512914, -0.137531],\n",
       " [51.513046, -0.137562],\n",
       " [51.513046, -0.137562],\n",
       " [51.513073999999996, -0.137466],\n",
       " [51.513087, -0.13738599999999998],\n",
       " [51.513087, -0.13738599999999998],\n",
       " [51.513121999999996, -0.13730599999999998],\n",
       " [51.513121999999996, -0.13730599999999998],\n",
       " [51.513121999999996, -0.13730599999999998],\n",
       " [51.513187, -0.13708900000000002],\n",
       " [51.513214000000005, -0.136996],\n",
       " [51.513214000000005, -0.136996],\n",
       " [51.513214000000005, -0.136996],\n",
       " [51.513214000000005, -0.136996],\n",
       " [51.513249, -0.13685899999999998],\n",
       " [51.513249, -0.13685899999999998],\n",
       " [51.513249, -0.13685899999999998],\n",
       " [51.513249, -0.13685899999999998],\n",
       " [51.513249, -0.13685899999999998],\n",
       " [51.513249, -0.13685899999999998],\n",
       " [51.513249, -0.13685899999999998],\n",
       " [51.513249, -0.13685899999999998],\n",
       " [51.513249, -0.13685899999999998],\n",
       " [51.513249, -0.13685899999999998],\n",
       " [51.513249, -0.13685899999999998],\n",
       " [51.513249, -0.13685899999999998],\n",
       " [51.513249, -0.13685899999999998],\n",
       " [51.513249, -0.13685899999999998],\n",
       " [51.513249, -0.13685899999999998],\n",
       " [51.513271, -0.136778],\n",
       " [51.513271, -0.136778],\n",
       " [51.513271, -0.136778],\n",
       " [51.5133, -0.136705],\n",
       " [51.5133, -0.136705],\n",
       " [51.5133, -0.136705],\n",
       " [51.5133, -0.136705],\n",
       " [51.51316, -0.136493],\n",
       " [51.51316, -0.136493],\n",
       " [51.51316, -0.136493],\n",
       " [51.51316, -0.136493],\n",
       " [51.51316, -0.136493],\n",
       " [51.513016, -0.13633],\n",
       " [51.513016, -0.13633],\n",
       " [51.512921, -0.136424],\n",
       " [51.512890000000006, -0.136523],\n",
       " [51.512890000000006, -0.136523],\n",
       " [51.512859000000006, -0.136599],\n",
       " [51.51283, -0.136699],\n",
       " [51.512782, -0.136819],\n",
       " [51.512729, -0.136973],\n",
       " [51.512868, -0.13635799999999998],\n",
       " [51.512723, -0.13663],\n",
       " [51.512654, -0.13658399999999998],\n",
       " [51.512713, -0.136423],\n",
       " [51.512615000000004, -0.136345],\n",
       " [51.512491, -0.136437],\n",
       " [51.512449, -0.136377],\n",
       " [51.512465, -0.136197],\n",
       " [51.512413, -0.136142],\n",
       " [51.512358, -0.136102],\n",
       " [51.512358, -0.136102],\n",
       " [51.512271000000005, -0.13602999999999998],\n",
       " [51.512355, -0.13631],\n",
       " [51.511990999999995, -0.13594],\n",
       " [51.511990999999995, -0.13594],\n",
       " [51.511990999999995, -0.13594],\n",
       " [51.511990999999995, -0.13594],\n",
       " [51.512083000000004, -0.135858],\n",
       " [51.512083000000004, -0.135858],\n",
       " [51.512031, -0.1358],\n",
       " [51.51197, -0.135717],\n",
       " [51.51197, -0.135717],\n",
       " [51.51197, -0.135717],\n",
       " [51.51197, -0.135717],\n",
       " [51.511882, -0.13511900000000002],\n",
       " [51.511882, -0.13511900000000002],\n",
       " [51.511882, -0.13511900000000002],\n",
       " [51.511882, -0.13511900000000002],\n",
       " [51.51205, -0.13514400000000001],\n",
       " [51.51225, -0.13539400000000001],\n",
       " [51.51225, -0.13539400000000001],\n",
       " [51.51225, -0.13539400000000001],\n",
       " [51.51225, -0.13539400000000001],\n",
       " [51.512162, -0.135409],\n",
       " [51.512212, -0.135472],\n",
       " [51.512572999999996, -0.135765],\n",
       " [51.512572999999996, -0.135765],\n",
       " [51.512575, -0.135871],\n",
       " [51.512671999999995, -0.13597599999999999],\n",
       " [51.512671999999995, -0.13597599999999999],\n",
       " [51.512727000000005, -0.136033],\n",
       " [51.512727000000005, -0.136033],\n",
       " [51.512727000000005, -0.136033],\n",
       " [51.512794, -0.136115],\n",
       " [51.512846, -0.13618],\n",
       " [51.512846, -0.13618],\n",
       " [51.512846, -0.13618],\n",
       " [51.512846, -0.13618],\n",
       " [51.512879, -0.13608299999999998],\n",
       " [51.512939, -0.136139],\n",
       " [51.512765, -0.135329],\n",
       " [51.512765, -0.135329],\n",
       " [51.512765, -0.135329],\n",
       " [51.512765, -0.135329],\n",
       " [51.512765, -0.135329],\n",
       " [51.512765, -0.135329],\n",
       " [51.512765, -0.135329],\n",
       " [51.512844, -0.135122],\n",
       " [51.512844, -0.135122],\n",
       " [51.512844, -0.135122],\n",
       " [51.512532, -0.13464500000000001],\n",
       " [51.512532, -0.13464500000000001],\n",
       " [51.512532, -0.13464500000000001],\n",
       " [51.512532, -0.13464500000000001],\n",
       " [51.512532, -0.13464500000000001],\n",
       " [51.512532, -0.13464500000000001],\n",
       " [51.512532, -0.13464500000000001],\n",
       " [51.512532, -0.13464500000000001],\n",
       " [51.512198, -0.134522],\n",
       " [51.512215000000005, -0.134967],\n",
       " [51.513154, -0.135098],\n",
       " [51.513154, -0.135098],\n",
       " [51.513154, -0.135098],\n",
       " [51.513154, -0.135098],\n",
       " [51.513154, -0.135098],\n",
       " [51.513056, -0.134394],\n",
       " [51.513056, -0.134394],\n",
       " [51.513056, -0.134394],\n",
       " [51.513056, -0.134394],\n",
       " [51.513056, -0.134394],\n",
       " [51.513056, -0.134394],\n",
       " [51.513056, -0.134394],\n",
       " [51.513056, -0.134394],\n",
       " [51.513165, -0.13450499999999999],\n",
       " [51.513165, -0.13450499999999999],\n",
       " [51.513098, -0.134437],\n",
       " [51.513238, -0.13459400000000002],\n",
       " [51.513293, -0.13464],\n",
       " [51.513293, -0.13464],\n",
       " [51.513379, -0.134709],\n",
       " [51.513431, -0.134756],\n",
       " [51.513431, -0.134756],\n",
       " [51.513475, -0.135244],\n",
       " [51.513475, -0.135244],\n",
       " [51.513422, -0.134897],\n",
       " [51.513422, -0.134897],\n",
       " [51.513422, -0.134897],\n",
       " [51.513528, -0.135158],\n",
       " [51.513481, -0.135344],\n",
       " [51.513481, -0.135344],\n",
       " [51.513594, -0.13506300000000002],\n",
       " [51.513594, -0.13506300000000002],\n",
       " [51.513227, -0.135801],\n",
       " [51.513227, -0.135801],\n",
       " [51.513227, -0.135801],\n",
       " [51.51318, -0.135762],\n",
       " [51.513132, -0.13574],\n",
       " [51.513132, -0.13574],\n",
       " [51.513048, -0.13564500000000002],\n",
       " [51.513006, -0.135602],\n",
       " [51.512883, -0.135501],\n",
       " [51.51327, -0.13583199999999998],\n",
       " [51.513459000000005, -0.136049],\n",
       " [51.513459000000005, -0.136049],\n",
       " [51.513459000000005, -0.136049],\n",
       " [51.513431, -0.13614],\n",
       " [51.513431, -0.13614],\n",
       " [51.513431, -0.13614],\n",
       " [51.513402, -0.136228],\n",
       " [51.513402, -0.136228],\n",
       " [51.513402, -0.136228],\n",
       " [51.512593, -0.134999],\n",
       " [51.512593, -0.134999],\n",
       " [51.512593, -0.134999],\n",
       " [51.512584999999994, -0.134793],\n",
       " [51.512555, -0.13489600000000002],\n",
       " [51.512555, -0.13489600000000002],\n",
       " [51.512521, -0.135],\n",
       " [51.513137, -0.133483],\n",
       " [51.513228000000005, -0.13326500000000002],\n",
       " [51.513152000000005, -0.133296],\n",
       " [51.513152000000005, -0.133296],\n",
       " [51.513258, -0.132933],\n",
       " [51.513544, -0.133998],\n",
       " [51.513626, -0.134042],\n",
       " [51.513637, -0.134156],\n",
       " [51.513637, -0.134156],\n",
       " [51.513524, -0.13409100000000002],\n",
       " [51.513524, -0.13409100000000002],\n",
       " [51.51382, -0.134272],\n",
       " [51.513723999999996, -0.13422],\n",
       " [51.513704, -0.134704],\n",
       " [51.513831, -0.13478199999999999],\n",
       " [51.513915000000004, -0.13501],\n",
       " [51.513597, -0.13492300000000002],\n",
       " [51.514032, -0.13488499999999998],\n",
       " [51.513891, -0.134212],\n",
       " [51.513891, -0.134212],\n",
       " [51.513891, -0.134212],\n",
       " [51.513891, -0.134212],\n",
       " [51.513891, -0.134212],\n",
       " [51.513758, -0.134135],\n",
       " [51.514065, -0.134364],\n",
       " [51.514146000000004, -0.134447],\n",
       " [51.514146000000004, -0.134447],\n",
       " [51.514201, -0.134479],\n",
       " [51.514201, -0.134479],\n",
       " [51.51423, -0.134658],\n",
       " [51.514319, -0.13436700000000001],\n",
       " [51.514377, -0.134179],\n",
       " [51.514357000000004, -0.13416],\n",
       " [51.514382, -0.134069],\n",
       " [51.514382, -0.134069],\n",
       " [51.514402000000004, -0.13408499999999998],\n",
       " [51.514402000000004, -0.13408499999999998],\n",
       " [51.514522, -0.133821],\n",
       " [51.514522, -0.133821],\n",
       " [51.514522, -0.133821],\n",
       " [51.514522, -0.133821],\n",
       " [51.514522, -0.133821],\n",
       " [51.514497, -0.133922],\n",
       " [51.514472, -0.13385],\n",
       " [51.514503999999995, -0.133725],\n",
       " [51.514546, -0.133745],\n",
       " [51.514561, -0.133676],\n",
       " [51.514561, -0.133676],\n",
       " [51.514561, -0.133676],\n",
       " [51.514561, -0.133676],\n",
       " [51.514594, -0.13356300000000002],\n",
       " [51.514581, -0.133467],\n",
       " [51.514581, -0.133467],\n",
       " [51.514606, -0.133393],\n",
       " [51.515834000000005, -0.134474],\n",
       " [51.515195, -0.135259],\n",
       " [51.515149, -0.13539500000000002],\n",
       " [51.514818, -0.136022],\n",
       " [51.514843, -0.136804],\n",
       " [51.514843, -0.136804],\n",
       " [51.514843, -0.136804],\n",
       " [51.514914000000005, -0.13658299999999998],\n",
       " [51.514496, -0.135653],\n",
       " [51.514743, -0.135578],\n",
       " [51.514743, -0.135578],\n",
       " [51.514466999999996, -0.13485999999999998],\n",
       " [51.514453, -0.13469],\n",
       " [51.514845, -0.134818],\n",
       " [51.514389, -0.135704],\n",
       " [51.514399, -0.135561],\n",
       " [51.514334999999996, -0.135649],\n",
       " [51.514334999999996, -0.135649],\n",
       " [51.514224, -0.135415],\n",
       " [51.51422, -0.135576],\n",
       " [51.514145, -0.135357],\n",
       " [51.514145, -0.135357],\n",
       " [51.514108, -0.135475],\n",
       " [51.514108, -0.135475],\n",
       " [51.514108, -0.135475],\n",
       " [51.514359000000006, -0.13622599999999999],\n",
       " [51.514359000000006, -0.13622599999999999],\n",
       " [51.514326000000004, -0.136328],\n",
       " [51.514544, -0.136222],\n",
       " [51.514569, -0.13611700000000002],\n",
       " [51.514586, -0.13602999999999998],\n",
       " [51.514612, -0.136266],\n",
       " [51.514575, -0.13642100000000001],\n",
       " [51.514575, -0.13642100000000001],\n",
       " [51.514507, -0.136935],\n",
       " [51.514507, -0.136935],\n",
       " [51.514507, -0.136935],\n",
       " [51.514274, -0.136931],\n",
       " [51.514274, -0.136931],\n",
       " [51.514274, -0.136931],\n",
       " [51.514293, -0.136799],\n",
       " [51.514058, -0.13677999999999998],\n",
       " [51.514148, -0.136696],\n",
       " [51.514148, -0.136696],\n",
       " [51.514148, -0.136696],\n",
       " [51.513961, -0.136712],\n",
       " [51.514027, -0.136123],\n",
       " [51.514076, -0.135958],\n",
       " [51.514096, -0.135883],\n",
       " [51.514134000000006, -0.13578800000000002],\n",
       " [51.514134000000006, -0.13578800000000002],\n",
       " [51.514033000000005, -0.135849],\n",
       " [51.514033000000005, -0.135849],\n",
       " [51.513996, -0.136008],\n",
       " [51.513996, -0.136008],\n",
       " [51.513996, -0.136008],\n",
       " [51.513996, -0.136008],\n",
       " [51.51396, -0.136099],\n",
       " [51.51396, -0.136099],\n",
       " [51.51396, -0.136099],\n",
       " [51.51396, -0.136099],\n",
       " [51.51396, -0.136099],\n",
       " [51.513945, -0.13617],\n",
       " [51.513945, -0.13617],\n",
       " [51.513821, -0.135485],\n",
       " [51.513821, -0.135485],\n",
       " [51.513821, -0.135485],\n",
       " [51.513821, -0.135485],\n",
       " [51.513821, -0.135485],\n",
       " [51.513999, -0.135374],\n",
       " [51.513999, -0.135374],\n",
       " [51.513999, -0.135374],\n",
       " [51.513999, -0.135374],\n",
       " [51.513999, -0.135374],\n",
       " [51.513795, -0.13558199999999998],\n",
       " [51.513795, -0.13558199999999998],\n",
       " [51.513795, -0.13558199999999998],\n",
       " [51.513766, -0.135679],\n",
       " [51.513766, -0.135679],\n",
       " [51.513766, -0.135679],\n",
       " [51.513726, -0.13581400000000002],\n",
       " [51.513692, -0.135905],\n",
       " [51.513692, -0.135905],\n",
       " [51.513692, -0.135905],\n",
       " [51.513692, -0.135905],\n",
       " [51.513692, -0.135905],\n",
       " [51.513672, -0.135992],\n",
       " [51.513672, -0.135992],\n",
       " [51.513672, -0.135992],\n",
       " [51.513672, -0.135992],\n",
       " [51.513603, -0.136217],\n",
       " [51.513603, -0.136217],\n",
       " [51.513603, -0.136217],\n",
       " [51.513603, -0.136217],\n",
       " [51.513482, -0.136579],\n",
       " [51.513458, -0.136675],\n",
       " [51.513458, -0.136675],\n",
       " [51.513458, -0.136675],\n",
       " [51.513458, -0.136675],\n",
       " [51.513428999999995, -0.136764],\n",
       " [51.513404, -0.136877],\n",
       " [51.513404, -0.136877],\n",
       " [51.513404, -0.136877],\n",
       " [51.513359, -0.136953],\n",
       " [51.513359, -0.136953],\n",
       " [51.513378, -0.13723],\n",
       " [51.513855, -0.136651],\n",
       " [51.513855, -0.136651],\n",
       " [51.513875, -0.13650299999999999],\n",
       " [51.513565, -0.13736700000000002],\n",
       " [51.513616, -0.13742200000000002],\n",
       " [51.513616, -0.13742200000000002],\n",
       " [51.513742, -0.137472],\n",
       " [51.513742, -0.137472],\n",
       " [51.513742, -0.137472],\n",
       " [51.513918, -0.1383],\n",
       " [51.513771999999996, -0.137363],\n",
       " [51.513502, -0.137995],\n",
       " [51.513502, -0.137995],\n",
       " [51.513502, -0.137995],\n",
       " [51.513502, -0.137995],\n",
       " [51.513712, -0.138139],\n",
       " [51.513712, -0.138139],\n",
       " [51.513644, -0.138239],\n",
       " [51.513644, -0.138239],\n",
       " [51.513711, -0.138272],\n",
       " [51.514061, -0.13808299999999998],\n",
       " [51.514061, -0.13808299999999998],\n",
       " [51.514061, -0.13808299999999998],\n",
       " [51.514061, -0.13808299999999998],\n",
       " [51.514061, -0.13808299999999998],\n",
       " [51.514748, -0.13791199999999998],\n",
       " [51.514748, -0.13791199999999998],\n",
       " [51.514748, -0.13791199999999998],\n",
       " [51.514794, -0.137707],\n",
       " [51.514794, -0.137707],\n",
       " [51.514526000000004, -0.13710799999999998],\n",
       " [51.514526000000004, -0.13710799999999998],\n",
       " [51.514526000000004, -0.13710799999999998],\n",
       " [51.514706, -0.13706500000000002],\n",
       " [51.514706, -0.13706500000000002],\n",
       " [51.512311, -0.138474],\n",
       " [51.511998, -0.138123],\n",
       " [51.511856, -0.137762]]"
      ]
     },
     "execution_count": 92,
     "metadata": {},
     "output_type": "execute_result"
    }
   ],
   "source": [
    "# Create `locations` by subsetting only Latitude and Longitude from the dataset \n",
    "locations = deaths[['x_latitude','y_longitude']]\n",
    "\n",
    "# Create `deaths_list` by transforming the DataFrame to list of lists \n",
    "deaths_list = locations.values.tolist()\n",
    "\n",
    "\n",
    "\n",
    "# Check the length of the list\n",
    "# ... YOUR CODE FOR TASK 3 ...\n",
    "len(deaths_list)\n",
    "deaths_list"
   ]
  },
  {
   "cell_type": "markdown",
   "metadata": {
    "dc": {
     "key": "25"
    },
    "deletable": false,
    "editable": false,
    "run_control": {
     "frozen": true
    },
    "tags": [
     "context"
    ]
   },
   "source": [
    "## 4. The Ghost Map\n",
    "<p><img style=\"float: left;margin:5px 20px 5px 1px\" src=\"https://assets.datacamp.com/production/project_132/img/johnsnow_original.jpg\"> </p>\n",
    "<p>His original map, unfortunately, is not available (it might never even existed). We can see the famous one that he drew about a year later in 1855, though, and it is displayed in this cell. Because the map depicts and visualizes the deaths sometimes it is called also <strong>The Ghost Map</strong>. </p>\n",
    "<p>We now know how John Snow did it and have the data too, so let's recreate his map using modern techniques. </p>"
   ]
  },
  {
   "cell_type": "code",
   "execution_count": null,
   "metadata": {
    "dc": {
     "key": "25"
    },
    "tags": [
     "sample_code"
    ]
   },
   "outputs": [],
   "source": [
    "# Plot the data on map (map location is provided) using folium and for loop for plotting all the points\n",
    "import folium\n",
    "\n",
    "map = folium.Map(location=[51.5132119,-0.13666], tiles='Stamen Toner', zoom_start=17)\n",
    "for point in range(0, len(deaths_list)):\n",
    "    folium.CircleMarker(deaths_list[point], radius=8, color='red', fill=True, fill_color='red', opacity = 0.4).add_to(map)\n",
    "map"
   ]
  },
  {
   "cell_type": "markdown",
   "metadata": {
    "dc": {
     "key": "32"
    },
    "deletable": false,
    "editable": false,
    "run_control": {
     "frozen": true
    },
    "tags": [
     "context"
    ]
   },
   "source": [
    "## 5. It's the pump!\n",
    "<p><img style=\"float: left;margin:5px 20px 5px 1px\" src=\"https://assets.datacamp.com/production/project_132/img/johnsnow_caricature1.jpg\"></p>\n",
    "<p>After marking the deaths on the map, what John Snow saw was not a random pattern (we saw this on our recreation of The Ghost Map too). The majority of the deaths were concentrated at the corner of Broad Street (now Broadwick Street) and Cambridge Street (now Lexington Street). A cluster of deaths around the junction of these streets was the epicenter of the outbreak, but what was there? Yes, a water pump.</p>\n",
    "<p>John Snow at the time already had a developed theory that cholera spreads through water, so to test this he marked on the map also the locations of the water pumps nearby. And here it was, the whole picture.</p>\n",
    "<p>By combining the location of deaths related to cholera with locations of the water pumps, Snow was able to show that the majority were clustered around one particular public water pump in Broad Street, Soho. Finally, he had the proof that he needed.</p>\n",
    "<p>We will now do the same and add the locations of the pumps to our recreation of The Ghost Map.</p>"
   ]
  },
  {
   "cell_type": "code",
   "execution_count": null,
   "metadata": {
    "dc": {
     "key": "32"
    },
    "tags": [
     "sample_code"
    ]
   },
   "outputs": [],
   "source": [
    "# Import the data\n",
    "pumps = pd.read_csv('datasets/pumps.csv')\n",
    "\n",
    "# Subset the DataFrame and select just ['X coordinate', 'Y coordinate'] columns\n",
    "locations_pumps = pumps[['X coordinate','Y coordinate']]\n",
    "\n",
    "# Transform the DataFrame to list of lists in form of ['X coordinate', 'Y coordinate'] pairs\n",
    "pumps_list = locations_pumps.values.tolist()\n",
    "\n",
    "# Create a for loop and plot the data using folium (use previous map + add another layer)\n",
    "map1 = map\n",
    "for point in range(0, len(pumps_list)):\n",
    "    folium.Marker(pumps_list[point], popup=pumps['Pump Name'][point]).add_to(map1)\n",
    "map1\n"
   ]
  },
  {
   "cell_type": "markdown",
   "metadata": {
    "dc": {
     "key": "39"
    },
    "deletable": false,
    "editable": false,
    "run_control": {
     "frozen": true
    },
    "tags": [
     "context"
    ]
   },
   "source": [
    "## 6.  You know nothing, John Snow! (again)\n",
    "<p><img style=\"float: left;margin:5px 20px 5px 1px\" src=\"https://assets.datacamp.com/production/project_132/img/johnsnow_map1.jpg\"></p>\n",
    "<p>So, John Snow finally had his proof that there was a connection between deaths as a consequence of the cholera outbreak and the public water pump that was probably contaminated. But he didn't just stop there and investigated further.</p>\n",
    "<p>He was looking for anomalies now (we would now say \"outliers in data\") and found two in fact where there were no deaths. First was brewery right on the Broad Street, so he went there and learned that they drank mostly beer (in other words not the water from the local pump, which confirms his theory that the pump is the source of the outbreak). The second building without any deaths was workhouse near Poland street where he learned that their source of water was not the pump on the Broad Street (confirmation again). The locations of both buildings are visualized also on the map on the left.</p>\n",
    "<p>He was now sure, and although officials did not trust him nor his theory they removed the handle to the pump next day, 8th of September 1854. John Snow later collected and published in his famous book also all the data about deaths in chronological order, before and after the peak of the outbreak and we will now analyze and compare the effect when the handle was removed.</p>"
   ]
  },
  {
   "cell_type": "code",
   "execution_count": null,
   "metadata": {
    "dc": {
     "key": "39"
    },
    "tags": [
     "sample_code"
    ]
   },
   "outputs": [],
   "source": [
    "# Import the data the right way\n",
    "dates = pd.read_csv('datasets/dates.csv', parse_dates=['date'])\n",
    "\n",
    "# Set the Date when handle was removed (8th of September 1854)\n",
    "handle_removed = pd.to_datetime('1854/9/8')\n",
    "\n",
    "# Create new column `day_name` in `dates` DataFrame with names of the day \n",
    "dates['day_name'] = dates.date.dt.weekday_name\n",
    "\n",
    "# Create new column `handle` in `dates` DataFrame based on a Date the handle was removed \n",
    "dates['handle'] = dates.date > handle_removed \n",
    "\n",
    "# Check the dataset and datatypes\n",
    "dates.info()\n",
    "\n",
    "# Create a comparison of how many cholera deaths and attacks there were before and after the handle was removed\n",
    "dates.groupby(['handle']).sum()"
   ]
  },
  {
   "cell_type": "markdown",
   "metadata": {
    "dc": {
     "key": "46"
    },
    "deletable": false,
    "editable": false,
    "run_control": {
     "frozen": true
    },
    "tags": [
     "context"
    ]
   },
   "source": [
    "## 7. The picture worth a thousand words\n",
    "<p><img style=\"float: left;margin:5px 20px 5px 1px\" src=\"https://assets.datacamp.com/production/project_132/img/johnsnow_pump1.jpg\"> </p>\n",
    "<p>Removing the handle from the pump prevented any more of the infected water from being collected. The spring below the pump was later found to have been contaminated with sewage. This act was later recognized as an early example of epidemiology, public health medicine and the application of science (the germ theory of disease) in a real-life crisis. </p>\n",
    "<p>A replica of the pump, together with an explanatory and memorial plaque and without a handle was erected in 1992  near the location of the original close to the back wall of what today is the John Snow pub. The site is subtly marked with a pink granite kerbstone in front of a small wall plaque.</p>\n",
    "<p>We can learn a lot from John Snow's data. We can take a look at absolute counts, but this observation could lead us to a wrong conclusion so let's take a different look on the data using Bokeh. </p>\n",
    "<p>Thanks to John Snow we have the data in chronological order (i.e. as time series data), so the best way to see the whole picture is to visualize it and look at it the way he saw it while writing <em>On the Mode of Communication of Cholera (1855)</em>.</p>"
   ]
  },
  {
   "cell_type": "code",
   "execution_count": null,
   "metadata": {
    "dc": {
     "key": "46"
    },
    "tags": [
     "sample_code"
    ]
   },
   "outputs": [],
   "source": [
    "import bokeh\n",
    "from bokeh.plotting import output_notebook, figure, show\n",
    "output_notebook(bokeh.resources.INLINE)\n",
    "\n",
    "# Set up figure\n",
    "p = figure(plot_width=900, plot_height=450, x_axis_type='datetime', tools='lasso_select, box_zoom, save, reset, wheel_zoom',\n",
    "          toolbar_location='above', x_axis_label='Date', y_axis_label='Number of Deaths/Attacks', \n",
    "          title='Number of Cholera Deaths/Attacks before and after 8th of September 1854 (removing the pump handle)')\n",
    "\n",
    "# Plot on figure\n",
    "p.line(dates['date'], dates['deaths'], color='red', alpha=1, line_width=3, legend='Cholera Deaths')\n",
    "p.circle(dates['date'], dates['handle'], color='black', nonselection_fill_alpha=0.2, nonselection_fill_color='grey')\n",
    "p.line(dates['date'], dates['attacks'], color='black', alpha=1, line_width=2, legend='Cholera Attacks')\n",
    "\n",
    "show(p)"
   ]
  },
  {
   "cell_type": "markdown",
   "metadata": {
    "dc": {
     "key": "53"
    },
    "deletable": false,
    "editable": false,
    "run_control": {
     "frozen": true
    },
    "tags": [
     "context"
    ]
   },
   "source": [
    "## 8. John Snow's myth & Did we learn something?\n",
    "<p><img style=\"float: left;margin:5px 20px 5px 1px\" src=\"https://assets.datacamp.com/production/project_132/img/johnsnow_water1.jpg\"> </p>\n",
    "<p>From the previous interactive visualization, we can clearly see that the peak of the cholera outbreak happened before removing the handle and it was already in decline (downside trajectory) before the 8th of September 1854.</p>\n",
    "<p>This different view on the data is very important because in case that we compare just absolute numbers this could lead us to wrong conclusion that removing the handle on Broad Street pump for sure stopped the outbreak, which is simply not true (it surely did help but did not stop the outbreak) and John Snow was aware of this (he just did what needed to be done and never aspired to become a hero).</p>\n",
    "<p>But people love stories about heroes and other myths (definitely more than science or data science). According to John Snow's myth, he was the superhero who in two days defied their equals by hypothesizing that cholera was a waterborne disease. Despite no one listening to him, he bravely continued drawing his map, convinced local authorities to remove the handle of the infected water pump with his findings, and stopped the outbreak. John Snow saved the lives of many Londoners.</p>\n",
    "<p>If we take a better look behind this story, we can find also the true John Snow, who was fighting the disease with limited tools and wanted to get proof that he was right and \"knew something\" about cholera. He just did what he could with limited time and always boiled his water before drinking.</p>"
   ]
  },
  {
   "cell_type": "code",
   "execution_count": null,
   "metadata": {
    "collapsed": true,
    "dc": {
     "key": "53"
    },
    "tags": [
     "sample_code"
    ]
   },
   "outputs": [],
   "source": [
    "# Based on John Snow's map and the data John Snow collected, what would you say?\n",
    "john_snow_knows_nothing = False"
   ]
  }
 ],
 "metadata": {
  "kernelspec": {
   "display_name": "Python 3 (ipykernel)",
   "language": "python",
   "name": "python3"
  },
  "language_info": {
   "codemirror_mode": {
    "name": "ipython",
    "version": 3
   },
   "file_extension": ".py",
   "mimetype": "text/x-python",
   "name": "python",
   "nbconvert_exporter": "python",
   "pygments_lexer": "ipython3",
   "version": "3.8.12"
  }
 },
 "nbformat": 4,
 "nbformat_minor": 2
}
