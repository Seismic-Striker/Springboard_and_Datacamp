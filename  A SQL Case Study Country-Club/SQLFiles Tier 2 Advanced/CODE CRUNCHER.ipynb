{
 "cells": [
  {
   "cell_type": "markdown",
   "id": "028c1806",
   "metadata": {},
   "source": [
    "# THIS IS WHERE WE TRY THINGS"
   ]
  },
  {
   "cell_type": "code",
   "execution_count": 39,
   "id": "166e7e55",
   "metadata": {},
   "outputs": [
    {
     "name": "stdout",
     "output_type": "stream",
     "text": [
      "2.6.0\n",
      "2. Query all tasks\n",
      "('Bader, Florence', 'Stibbons')\n",
      "('Baker, Anne', 'Stibbons')\n",
      "('Baker, Timothy', 'Farrell')\n",
      "('Boothe, Tim', 'Rownam')\n",
      "('Butters, Gerald', 'Smith')\n",
      "('Coplin, Joan', 'Baker')\n",
      "('Crumpet, Erica', 'Smith')\n",
      "('Dare, Nancy', 'Joplette')\n",
      "('Genting, Matthew', 'Butters')\n",
      "('Hunt, John', 'Purview')\n",
      "('Jones, David', 'Joplette')\n",
      "('Jones, Douglas', 'Jones')\n",
      "('Joplette, Janice', 'Smith')\n",
      "('Mackenzie, Anna', 'Smith')\n",
      "('Owen, Charles', 'Smith')\n",
      "('Pinker, David', 'Farrell')\n",
      "('Purview, Millicent', 'Smith')\n",
      "('Rumney, Henrietta', 'Genting')\n",
      "('Sarwin, Ramnaresh', 'Bader')\n",
      "('Smith, Jack', 'Smith')\n",
      "('Stibbons, Ponder', 'Tracy')\n",
      "('Worthington-Smyth, Henry', 'Smith')\n"
     ]
    }
   ],
   "source": [
    "import sqlite3\n",
    "from sqlite3 import Error\n",
    "\n",
    " \n",
    "def create_connection(db_file):\n",
    "    \"\"\" create a database connection to the SQLite database\n",
    "        specified by the db_file\n",
    "    :param db_file: database file\n",
    "    :return: Connection object or None\n",
    "    \"\"\"\n",
    "    conn = None\n",
    "    try:\n",
    "        conn = sqlite3.connect(db_file)\n",
    "        print(sqlite3.version)\n",
    "    except Error as e:\n",
    "        print(e)\n",
    " \n",
    "    return conn\n",
    "\n",
    " \n",
    "def select_all_tasks(conn):\n",
    "    \"\"\"\n",
    "    Query all rows in the tasks table\n",
    "    :param conn: the Connection object\n",
    "    :return:\n",
    "    \"\"\"\n",
    "    cur = conn.cursor()\n",
    "    \n",
    "    query1 = \"\"\"\n",
    "    \n",
    "SELECT m1.surname || \", \" || m1.firstname as Member, m2.surname as 'recommended by'\n",
    "FROM Members as m1\n",
    "INNER JOIN Members as m2\n",
    "ON m1.recommendedby = m2.memid\n",
    "ORDER BY m1.surname\n",
    "\n",
    "        \"\"\"\n",
    "    cur.execute(query1)\n",
    " \n",
    "    rows = cur.fetchall()\n",
    " \n",
    "    for row in rows:\n",
    "        print(row)\n",
    "\n",
    "\n",
    "def main():\n",
    "    database = \"sqlite_db_pythonsqlite.db\"\n",
    " \n",
    "    # create a database connection\n",
    "    conn = create_connection(database)\n",
    "    with conn: \n",
    "        print(\"2. Query all tasks\")\n",
    "        select_all_tasks(conn)\n",
    " \n",
    " \n",
    "if __name__ == '__main__':\n",
    "    main()"
   ]
  },
  {
   "cell_type": "code",
   "execution_count": null,
   "id": "a1b55325",
   "metadata": {},
   "outputs": [],
   "source": []
  }
 ],
 "metadata": {
  "kernelspec": {
   "display_name": "Python 3",
   "language": "python",
   "name": "python3"
  },
  "language_info": {
   "codemirror_mode": {
    "name": "ipython",
    "version": 3
   },
   "file_extension": ".py",
   "mimetype": "text/x-python",
   "name": "python",
   "nbconvert_exporter": "python",
   "pygments_lexer": "ipython3",
   "version": "3.8.8"
  }
 },
 "nbformat": 4,
 "nbformat_minor": 5
}
