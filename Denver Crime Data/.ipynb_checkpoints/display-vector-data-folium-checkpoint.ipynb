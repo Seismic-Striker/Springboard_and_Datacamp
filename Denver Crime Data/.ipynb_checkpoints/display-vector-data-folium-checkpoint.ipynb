{
 "cells": [
  {
   "cell_type": "markdown",
   "metadata": {},
   "source": [
    "In this tutorial, we demonstrate how to overlay vector data (points, lines, and polygons) onto a basemap using the Python library [Folium](https://python-visualization.github.io/folium/). We show how to work with two common types of vector data files: [GeoJSON](http://geojson.org) and [Shapefile](https://doc.arcgis.com/en/arcgis-online/reference/shapefiles.htm). We use a GeoJson file of USA state boundaries, and a Shapefile of counties in the state of Colorado.\n",
    "\n",
    "*This article includes an attached companion notebook that you may download and run in EarthAI Notebook.*"
   ]
  },
  {
   "cell_type": "markdown",
   "metadata": {},
   "source": [
    "# Import Libraries"
   ]
  },
  {
   "cell_type": "markdown",
   "metadata": {},
   "source": [
    "We will start by importing the necessary Python libraries."
   ]
  },
  {
   "cell_type": "code",
   "execution_count": 1,
   "metadata": {},
   "outputs": [
    {
     "ename": "ModuleNotFoundError",
     "evalue": "No module named 'geopandas'",
     "output_type": "error",
     "traceback": [
      "\u001b[1;31m---------------------------------------------------------------------------\u001b[0m",
      "\u001b[1;31mModuleNotFoundError\u001b[0m                       Traceback (most recent call last)",
      "\u001b[1;32m~\\AppData\\Local\\Temp/ipykernel_9720/3732261860.py\u001b[0m in \u001b[0;36m<module>\u001b[1;34m\u001b[0m\n\u001b[0;32m      1\u001b[0m \u001b[1;32mimport\u001b[0m \u001b[0mfolium\u001b[0m\u001b[1;33m\u001b[0m\u001b[1;33m\u001b[0m\u001b[0m\n\u001b[1;32m----> 2\u001b[1;33m \u001b[1;32mimport\u001b[0m \u001b[0mgeopandas\u001b[0m\u001b[1;33m\u001b[0m\u001b[1;33m\u001b[0m\u001b[0m\n\u001b[0m",
      "\u001b[1;31mModuleNotFoundError\u001b[0m: No module named 'geopandas'"
     ]
    }
   ],
   "source": [
    "import folium\n",
    "import geopandas "
   ]
  },
  {
   "cell_type": "markdown",
   "metadata": {},
   "source": [
    "# Create a Basemap"
   ]
  },
  {
   "cell_type": "markdown",
   "metadata": {},
   "source": [
    "Folium is a Python library that allows users to visualize data on an interactive [Leaflet](https://leafletjs.com/) map.\n",
    "\n",
    "We creata a default basemap object using `folium.Map`, without passing in any parameters to the function. The basemap can be modified in a number of ways.  Pressing ***Shift+Tab*** in the parentheses of `folium.Map` displays the range of parameter options that can be adjusted. Typing the variable name produces an interactive basemap in the notebook."
   ]
  },
  {
   "cell_type": "code",
   "execution_count": null,
   "metadata": {},
   "outputs": [],
   "source": [
    "map = folium.Map()\n",
    "\n",
    "map"
   ]
  },
  {
   "cell_type": "markdown",
   "metadata": {},
   "source": [
    "#  Add a GeoJSON Vector Layer to the Basemap"
   ]
  },
  {
   "cell_type": "markdown",
   "metadata": {},
   "source": [
    "Next we'll overlay the US state boundaries to the basemap and display it. For this we use `folium.GeoJson` and pass in the path to the GeoJSON file.  In this case it is a URL.  We then chain the `add_to` method and pass in the variable name of our basemap. Finally, we display the interactive map with our vector layer with a simple variable call."
   ]
  },
  {
   "cell_type": "code",
   "execution_count": null,
   "metadata": {},
   "outputs": [],
   "source": [
    "folium.GeoJson('https://raw.githubusercontent.com/datasets/geo-admin1-us/master/data/admin1-us.geojson').add_to(map)\n",
    "\n",
    "map"
   ]
  },
  {
   "cell_type": "markdown",
   "metadata": {},
   "source": [
    "In this case we just passed the full URL to the location of the geojson file of interest to `folium.GeoJson`.  If your vector data is stored locally you would replace the URL with the path to the file on your computer or in your EarthAI Notebook workspace.\n",
    "\n",
    "You can use the controls in the upper left corner of the map widget to zoom in and zoom out, and ***Click+Drag*** to pan around the map."
   ]
  },
  {
   "cell_type": "markdown",
   "metadata": {},
   "source": [
    "# Add a Shapefile Vector Layer to the Basemap"
   ]
  },
  {
   "cell_type": "markdown",
   "metadata": {},
   "source": [
    "## Open a Shapefile using GeoPandas"
   ]
  },
  {
   "cell_type": "markdown",
   "metadata": {},
   "source": [
    "\n",
    "Folium does not handle shapefile data directly, so we first read the shapefile in via [GeoPandas](https:geopandas.org) then add the vector data to the basemap via folium.\n",
    "\n",
    "We use the `geopandas.read_file` method to open a Shapefile of the boundaries of Colorado's counties.  The `read_file` method is very versatile and can take a range of file types as inputs.  In this case the Shapefile of interest resides in a zip file."
   ]
  },
  {
   "cell_type": "code",
   "execution_count": null,
   "metadata": {},
   "outputs": [],
   "source": [
    "counties_gdf = geopandas.read_file('https://storage.googleapis.com/co-publicdata/lm_cnty.zip')"
   ]
  },
  {
   "cell_type": "markdown",
   "metadata": {},
   "source": [
    "We now have a GeoDataFrame without having to unzip the file."
   ]
  },
  {
   "cell_type": "markdown",
   "metadata": {},
   "source": [
    "## Add the Geometry from a GeoDataFrame to a Basemap\n",
    "\n",
    "To add the Colorado county boundaries to our basemap, we need to identify the name of the geometry column of our GeoDataFrame.  We can do this with the `head` method.  The column of interest has point, line, polygon, or multipolygon labels followed by numerical coordinates. Below, we can see that the geometry column is named **geometry**."
   ]
  },
  {
   "cell_type": "code",
   "execution_count": null,
   "metadata": {},
   "outputs": [],
   "source": [
    "counties_gdf.head()"
   ]
  },
  {
   "cell_type": "markdown",
   "metadata": {},
   "source": [
    "We can now make use of the `folium.GeoJson` method and pass in the geometry column of our GeoDataFrame, followed by the `add_to` method to add this layer to **map**.  Displaying the map again, we can see that the county boundaries of Colorado are now on our interactive basemap."
   ]
  },
  {
   "cell_type": "code",
   "execution_count": null,
   "metadata": {},
   "outputs": [],
   "source": [
    "folium.GeoJson(data=counties_gdf[\"geometry\"]).add_to(map)\n",
    "\n",
    "map"
   ]
  }
 ],
 "metadata": {
  "kernelspec": {
   "display_name": "Python 3 (ipykernel)",
   "language": "python",
   "name": "python3"
  },
  "language_info": {
   "codemirror_mode": {
    "name": "ipython",
    "version": 3
   },
   "file_extension": ".py",
   "mimetype": "text/x-python",
   "name": "python",
   "nbconvert_exporter": "python",
   "pygments_lexer": "ipython3",
   "version": "3.8.12"
  },
  "zendesk": {
   "draft": true,
   "id": 360049694972,
   "section_id": 360010176352,
   "title": "How to Display Vector Data on a Base Map using Folium"
  }
 },
 "nbformat": 4,
 "nbformat_minor": 4
}
