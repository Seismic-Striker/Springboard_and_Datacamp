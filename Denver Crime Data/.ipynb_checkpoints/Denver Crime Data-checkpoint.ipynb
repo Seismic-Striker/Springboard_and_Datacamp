{
 "cells": [
  {
   "cell_type": "code",
   "execution_count": 1,
   "id": "c9d815a8",
   "metadata": {},
   "outputs": [],
   "source": [
    "import pandas as pd\n",
    "import matplotlib.pyplot as plt\n",
    "import numpy as np\n",
    "import seaborn as sms"
   ]
  },
  {
   "cell_type": "code",
   "execution_count": 2,
   "id": "8a09758c",
   "metadata": {},
   "outputs": [],
   "source": [
    "denver_crime = pd.read_csv('crime.csv')"
   ]
  },
  {
   "cell_type": "code",
   "execution_count": 3,
   "id": "7132cc7c",
   "metadata": {},
   "outputs": [
    {
     "name": "stdout",
     "output_type": "stream",
     "text": [
      "(470278, 19)\n",
      "   incident_id         offense_id  OFFENSE_CODE  OFFENSE_CODE_EXTENSION  \\\n",
      "0  20226000193  20226000193299900          2999                       0   \n",
      "1     20223319     20223319299900          2999                       0   \n",
      "2     20223093     20223093299900          2999                       0   \n",
      "3     20224000     20224000299900          2999                       0   \n",
      "4     20223956     20223956299900          2999                       0   \n",
      "\n",
      "           OFFENSE_TYPE_ID OFFENSE_CATEGORY_ID FIRST_OCCURRENCE_DATE  \\\n",
      "0  criminal-mischief-other     public-disorder  1/4/2022 11:30:00 AM   \n",
      "1  criminal-mischief-other     public-disorder   1/3/2022 6:45:00 AM   \n",
      "2  criminal-mischief-other     public-disorder   1/3/2022 1:00:00 AM   \n",
      "3  criminal-mischief-other     public-disorder   1/3/2022 7:47:00 PM   \n",
      "4  criminal-mischief-other     public-disorder   1/3/2022 5:06:00 PM   \n",
      "\n",
      "   LAST_OCCURRENCE_DATE         REPORTED_DATE    INCIDENT_ADDRESS      GEO_X  \\\n",
      "0  1/4/2022 12:00:00 PM   1/4/2022 8:36:00 PM     128 S CANOSA CT  3135366.0   \n",
      "1                   NaN  1/3/2022 11:01:00 AM         650 15TH ST  3142454.0   \n",
      "2                   NaN   1/3/2022 6:11:00 AM    919 E COLFAX AVE  3147484.0   \n",
      "3                   NaN   1/3/2022 9:12:00 PM  2345 W ALAMEDA AVE  3136478.0   \n",
      "4                   NaN   1/3/2022 8:31:00 PM     7800 E SMITH RD  3169237.0   \n",
      "\n",
      "       GEO_Y     GEO_LON    GEO_LAT  DISTRICT_ID  PRECINCT_ID  \\\n",
      "0  1685410.0 -105.018825  39.714268          4.0        411.0   \n",
      "1  1696151.0 -104.993418  39.743649          6.0        611.0   \n",
      "2  1694898.0 -104.975557  39.740130          6.0        621.0   \n",
      "3  1684414.0 -105.014892  39.711518          4.0        411.0   \n",
      "4  1705800.0 -104.897950  39.769688          5.0        512.0   \n",
      "\n",
      "      NEIGHBORHOOD_ID  IS_CRIME  IS_TRAFFIC  \n",
      "0            valverde         1           0  \n",
      "1                 cbd         1           0  \n",
      "2  north-capitol-hill         1           0  \n",
      "3            valverde         1           0  \n",
      "4        central-park         1           0  \n"
     ]
    }
   ],
   "source": [
    "print(denver_crime.shape)\n",
    "print(denver_crime.head())"
   ]
  },
  {
   "cell_type": "code",
   "execution_count": null,
   "id": "2c1a8d41",
   "metadata": {},
   "outputs": [],
   "source": [
    "columns_to_keep = ['OFFENSE_TYPE_ID','OFFENSE_CATEGORY_ID','REPORTED_DATE','INCIDENT_ADDRESS','GEO_LON','GEO_LAT','NEIGHBORHOOD_ID']\n",
    "denver_crime = denver_crime[columns_to_keep]\n",
    "denver_crime = denver_crime.copy()\n",
    "newcols = {\n",
    "    'OFFENSE_TYPE_ID':'crime_type',\n",
    "    'OFFENSE_CATEGORY_ID':'crime_category',\n",
    "    'REPORTED_DATE':'date',\n",
    "    'INCIDENT_ADDRESS':'address',\n",
    "    'GEO_LON':'y_lon',\n",
    "    'GEO_LAT':'x_lat',\n",
    "    'NEIGHBORHOOD_ID':'neighborhood'\n",
    "}\n",
    "denver_crime.rename(columns=newcols,inplace=True)\n",
    "denver_crime.date = pd.to_datetime(denver_crime.date)\n",
    "denver_crime.head()"
   ]
  },
  {
   "cell_type": "code",
   "execution_count": null,
   "id": "cbf9a6d5",
   "metadata": {},
   "outputs": [],
   "source": [
    "murder = denver_crime[denver_crime['crime_category']=='murder']\n",
    "murder"
   ]
  },
  {
   "cell_type": "code",
   "execution_count": null,
   "id": "0a13239b",
   "metadata": {},
   "outputs": [],
   "source": [
    "murder = murder.copy()"
   ]
  },
  {
   "cell_type": "code",
   "execution_count": null,
   "id": "3ec5095a",
   "metadata": {},
   "outputs": [],
   "source": [
    "murder.date = pd.to_datetime(murder.date)\n",
    "\n",
    "\n",
    "# Create `locations` by subsetting only Latitude and Longitude from the dataset \n",
    "locations = murder[['x_lat','y_lon']]\n",
    "\n",
    "# Create `deaths_list` by transforming the DataFrame to list of lists \n",
    "murderss = locations.values.tolist()"
   ]
  },
  {
   "cell_type": "code",
   "execution_count": null,
   "id": "efc7a4c9",
   "metadata": {},
   "outputs": [],
   "source": [
    "# Plot the data on map (map location is provided) using folium and for loop for plotting all the points\n",
    "import folium\n",
    "\n",
    "map = folium.Map(location=[39.7392,-104.9903], tiles='openstreetmap', zoom_start=11)\n",
    "for point in range(0, len(murderss)):\n",
    "    folium.CircleMarker(murderss[point], radius=8, color='red', fill=True, fill_color='red', opacity = 0.4).add_to(map)\n",
    "map"
   ]
  },
  {
   "cell_type": "code",
   "execution_count": null,
   "id": "4161c5a5",
   "metadata": {},
   "outputs": [],
   "source": [
    "fig, axs = plt.subplots(figsize=(12, 4))\n",
    "denver_crime.groupby(denver_crime['date'].dt.hour)['crime_category'].count().plot(\n",
    "    kind='bar',rot=0,ax=axs\n",
    ")\n",
    "plt.xlabel('hour of the day');\n",
    "plt.ylabel('crimes during time period')"
   ]
  },
  {
   "cell_type": "code",
   "execution_count": null,
   "id": "f8622332",
   "metadata": {},
   "outputs": [],
   "source": [
    "denver_crime.groupby(denver_crime['date'].dt.hour)['crime_category'].count()"
   ]
  },
  {
   "cell_type": "code",
   "execution_count": null,
   "id": "4c2d033a",
   "metadata": {},
   "outputs": [],
   "source": []
  }
 ],
 "metadata": {
  "kernelspec": {
   "display_name": "Python 3 (ipykernel)",
   "language": "python",
   "name": "python3"
  },
  "language_info": {
   "codemirror_mode": {
    "name": "ipython",
    "version": 3
   },
   "file_extension": ".py",
   "mimetype": "text/x-python",
   "name": "python",
   "nbconvert_exporter": "python",
   "pygments_lexer": "ipython3",
   "version": "3.8.12"
  }
 },
 "nbformat": 4,
 "nbformat_minor": 5
}
