{
 "cells": [
  {
   "cell_type": "code",
   "execution_count": 1,
   "id": "dd29a0d8",
   "metadata": {},
   "outputs": [],
   "source": [
    "#import libraries \n",
    "import pandas as pd\n",
    "import matplotlib.pyplot as plt\n",
    "import numpy as np\n",
    "import seaborn as sms\n",
    "\n"
   ]
  },
  {
   "cell_type": "markdown",
   "id": "3c21671b",
   "metadata": {},
   "source": [
    "# Data Science Career Track\n",
    "- Capstone Two: Exploratory Data Analysis\n",
    "    - Overview\n",
    "- Now that you’ve obtained, cleaned, and wrangled your dataset into a form that's ready for analysis, it’s time to perform exploratory data analysis (EDA). Use the outline below as a reminder of what steps to follow. Keep in mind that the goal of the EDA work is to get familiar with the features in your dataset, investigate the relationships between features, and generally understand the core characteristics of your dataset. Be creative and think about interesting figures and plots you can create to help deepen your understanding of the data.\n",
    "\n",
    "\n",
    "\n",
    "You can also review the EDA work you did for the guided capstone, the DSM Medium\n",
    "article. And the EDA cheatsheet pdf for reference.\n",
    "Project Steps\n",
    "Estimated Time: 6-10 Hours\n",
    "All of the following steps should be completed in a Jupyter notebook. Please provide\n",
    "adequate notation and structure so that your mentor can better understand the work\n",
    "you’ve done.\n",
    "Goal: Explore the data relationships of all your features and understand how the\n",
    "features compare to the response variable.\n",
    "● Build data profiles and tables\n",
    "○ Inferential statistics\n",
    "● Explore data relationships\n",
    "○ Data visualization\n",
    "● Feature Selection and Engineering\n",
    "Inferential Statistics Hint: do any particular results in your data strike you as abnormal?\n",
    "What hypotheses can you form (Null and Alternative hypotheses) which you could go on\n",
    "to test? Take some time to recall your statistical concepts, such as that the p-value of an\n",
    "observation is the probability of seeing data at least as extreme as that observation, on\n",
    "the assumption of the null hypothesis.\n",
    "Data Visualization Hint: recall your matplotlib and seaborn functions for data\n",
    "visualization: matplotlib:\n",
    "- plt.plot()\n",
    "- plt.xlabel()\n",
    "- plt.show()\n",
    "- plt.hist(),\n",
    "Seaborn:\n",
    "- sns.relplot()\n",
    "- sns.lmplot()\n",
    "- sns.catplot().\n",
    "Remember to always start with an idea of what you want to achieve, and use these\n",
    "libraries and their functions as your toolkit to make that idea a reality.\n",
    "Feature Selection and Engineering Hint: feature selection is where data storytelling starts:\n",
    "we tell a story as soon as we include certain features and omit others. But how we\n",
    "manipulate - or engineer - those fields is just as important. Recall the crucial elements to\n",
    "feature engineering:\n",
    "- If you have categorical features, you might need to one-hot encode them\n",
    "- You may need to binarize your columns and bin your values.\n",
    "- To handle missing data, think about how appropriate the methods of listwise\n",
    "deletion, data imputation, replacing missing values with constants or simply\n",
    "attempting to find the missing values are for your data.\n",
    "- Think about whether you need to standardize, log-transform or normalize your\n",
    "data, as well as statistically valid ways to remove outliers.\n",
    "Consider the following questions and use your understanding of your dataset to answer\n",
    "them:\n",
    "● Are there variables that are particularly significant in terms of explaining the\n",
    "answer to your project question?\n",
    "● Are there significant differences between subgroups in your data that may be\n",
    "relevant to your project aim?\n",
    "● Are there strong correlations between pairs of independent variables or between\n",
    "an independent and a dependent variable?\n",
    "● What are the most appropriate tests to use to analyze these relationships?\n",
    "Student Examples\n",
    "Get some inspiration from these student examples:\n",
    "Example 1: School Shooter Investigation - Tyler Schmalz\n",
    "Example 2: Sports team performance - Rob Chudzik"
   ]
  },
  {
   "cell_type": "code",
   "execution_count": 2,
   "id": "86058986",
   "metadata": {},
   "outputs": [
    {
     "name": "stdout",
     "output_type": "stream",
     "text": [
      "<class 'pandas.core.frame.DataFrame'>\n",
      "Int64Index: 470278 entries, 0 to 470277\n",
      "Data columns (total 8 columns):\n",
      " #   Column          Non-Null Count   Dtype         \n",
      "---  ------          --------------   -----         \n",
      " 0   crime_type      470278 non-null  object        \n",
      " 1   crime_category  470278 non-null  object        \n",
      " 2   date            470278 non-null  datetime64[ns]\n",
      " 3   reported        470278 non-null  datetime64[ns]\n",
      " 4   address         432413 non-null  object        \n",
      " 5   y_lon           466246 non-null  float64       \n",
      " 6   x_lat           466246 non-null  float64       \n",
      " 7   neighborhood    470277 non-null  object        \n",
      "dtypes: datetime64[ns](2), float64(2), object(4)\n",
      "memory usage: 32.3+ MB\n"
     ]
    }
   ],
   "source": [
    "df = pd.read_csv('denver_crime_clean.csv',index_col=0,parse_dates=['date','reported'])\n",
    "df.info()"
   ]
  },
  {
   "cell_type": "code",
   "execution_count": null,
   "id": "d43c4e10",
   "metadata": {},
   "outputs": [],
   "source": [
    "# Lets start splitting up the dataframe into the different crime categories\n",
    "types = list(crime_df['crime_category'].unique())\n",
    "types"
   ]
  },
  {
   "cell_type": "code",
   "execution_count": null,
   "id": "1993cacc",
   "metadata": {},
   "outputs": [],
   "source": [
    "public_disorder = crime_df.loc[crime_df['crime_category']=='public-disorder']\n",
    "drug_alcohol = crime_df.loc[crime_df['crime_category']=='drug-alcohol']\n",
    "all_other_crimes = crime_df.loc[crime_df['crime_category']=='all-other-crimes']\n",
    "traffic_accident = crime_df.loc[crime_df['crime_category']=='traffic-accident']\n",
    "robbery = crime_df.loc[crime_df['crime_category']=='robbery']\n",
    "other_crimes_against_persons = crime_df.loc[crime_df['crime_category']=='other-crimes-against-persons']\n",
    "aggravated_assault = crime_df.loc[crime_df['crime_category']=='aggravated-assault']\n",
    "arson = crime_df.loc[crime_df['crime_category']=='arson']\n",
    "burglary = crime_df.loc[crime_df['crime_category']=='burlary']\n",
    "larceny = crime_df.loc[crime_df['crime_category']=='larceny']\n",
    "theft_from_car = crime_df.loc[crime_df['crime_category']=='theft-from-motor-vehicle']\n",
    "auto_theft = crime_df.loc[crime_df['crime_category']=='auto-theft']\n",
    "white_collar_crime = crime_df.loc[crime_df['crime_category']=='white-collar-crime']\n",
    "murder = crime_df.loc[crime_df['crime_category']=='murder']"
   ]
  },
  {
   "cell_type": "code",
   "execution_count": null,
   "id": "10053a62",
   "metadata": {},
   "outputs": [],
   "source": [
    "subsets = [public_disorder,drug_alcohol,all_other_crimes,\n",
    "          traffic_accident,robbery,other_crimes_against_persons,aggravated_assault,\n",
    "          arson,burglary,larceny,theft_from_car,\n",
    "         auto_theft,white_collar_crime,murder]"
   ]
  },
  {
   "cell_type": "code",
   "execution_count": null,
   "id": "6be888e8",
   "metadata": {},
   "outputs": [],
   "source": [
    "null_data = crime_df[crime_df.isnull().any(axis=1)]\n",
    "null_data.crime_category.value_counts()"
   ]
  },
  {
   "cell_type": "markdown",
   "id": "548369e6",
   "metadata": {},
   "source": [
    "#### EDA\n",
    "lets make a pre-covid and post covid dataset"
   ]
  },
  {
   "cell_type": "code",
   "execution_count": 3,
   "id": "a0d99aea",
   "metadata": {
    "scrolled": true
   },
   "outputs": [],
   "source": [
    "pre_df = df[df.date < '2020-03-01']\n",
    "post_df = df[df.date >= '2020-03-01']\n",
    "\n"
   ]
  },
  {
   "cell_type": "code",
   "execution_count": 5,
   "id": "f2193d90",
   "metadata": {},
   "outputs": [
    {
     "ename": "KeyError",
     "evalue": "'Column not found: False'",
     "output_type": "error",
     "traceback": [
      "\u001b[1;31m---------------------------------------------------------------------------\u001b[0m",
      "\u001b[1;31mKeyError\u001b[0m                                  Traceback (most recent call last)",
      "\u001b[1;32m~\\AppData\\Local\\Temp/ipykernel_18900/3342440769.py\u001b[0m in \u001b[0;36m<module>\u001b[1;34m\u001b[0m\n\u001b[0;32m      1\u001b[0m \u001b[0mfig\u001b[0m\u001b[1;33m,\u001b[0m \u001b[0maxs\u001b[0m \u001b[1;33m=\u001b[0m \u001b[0mplt\u001b[0m\u001b[1;33m.\u001b[0m\u001b[0msubplots\u001b[0m\u001b[1;33m(\u001b[0m\u001b[0mfigsize\u001b[0m\u001b[1;33m=\u001b[0m\u001b[1;33m(\u001b[0m\u001b[1;36m12\u001b[0m\u001b[1;33m,\u001b[0m \u001b[1;36m4\u001b[0m\u001b[1;33m)\u001b[0m\u001b[1;33m)\u001b[0m\u001b[1;33m\u001b[0m\u001b[1;33m\u001b[0m\u001b[0m\n\u001b[1;32m----> 2\u001b[1;33m post_df.groupby(post_df['date'].dt.month)['crime_category' == 'Traffic'].count().plot(\n\u001b[0m\u001b[0;32m      3\u001b[0m     \u001b[0mkind\u001b[0m\u001b[1;33m=\u001b[0m\u001b[1;34m'bar'\u001b[0m\u001b[1;33m,\u001b[0m\u001b[0mrot\u001b[0m\u001b[1;33m=\u001b[0m\u001b[1;36m0\u001b[0m\u001b[1;33m,\u001b[0m\u001b[0max\u001b[0m\u001b[1;33m=\u001b[0m\u001b[0maxs\u001b[0m\u001b[1;33m\u001b[0m\u001b[1;33m\u001b[0m\u001b[0m\n\u001b[0;32m      4\u001b[0m )\n\u001b[0;32m      5\u001b[0m \u001b[0mplt\u001b[0m\u001b[1;33m.\u001b[0m\u001b[0mxlabel\u001b[0m\u001b[1;33m(\u001b[0m\u001b[1;34m'months'\u001b[0m\u001b[1;33m)\u001b[0m\u001b[1;33m;\u001b[0m\u001b[1;33m\u001b[0m\u001b[1;33m\u001b[0m\u001b[0m\n",
      "\u001b[1;32m~\\anaconda3\\lib\\site-packages\\pandas\\core\\groupby\\generic.py\u001b[0m in \u001b[0;36m__getitem__\u001b[1;34m(self, key)\u001b[0m\n\u001b[0;32m   1336\u001b[0m                 \u001b[0mstacklevel\u001b[0m\u001b[1;33m=\u001b[0m\u001b[0mfind_stack_level\u001b[0m\u001b[1;33m(\u001b[0m\u001b[1;33m)\u001b[0m\u001b[1;33m,\u001b[0m\u001b[1;33m\u001b[0m\u001b[1;33m\u001b[0m\u001b[0m\n\u001b[0;32m   1337\u001b[0m             )\n\u001b[1;32m-> 1338\u001b[1;33m         \u001b[1;32mreturn\u001b[0m \u001b[0msuper\u001b[0m\u001b[1;33m(\u001b[0m\u001b[1;33m)\u001b[0m\u001b[1;33m.\u001b[0m\u001b[0m__getitem__\u001b[0m\u001b[1;33m(\u001b[0m\u001b[0mkey\u001b[0m\u001b[1;33m)\u001b[0m\u001b[1;33m\u001b[0m\u001b[1;33m\u001b[0m\u001b[0m\n\u001b[0m\u001b[0;32m   1339\u001b[0m \u001b[1;33m\u001b[0m\u001b[0m\n\u001b[0;32m   1340\u001b[0m     \u001b[1;32mdef\u001b[0m \u001b[0m_gotitem\u001b[0m\u001b[1;33m(\u001b[0m\u001b[0mself\u001b[0m\u001b[1;33m,\u001b[0m \u001b[0mkey\u001b[0m\u001b[1;33m,\u001b[0m \u001b[0mndim\u001b[0m\u001b[1;33m:\u001b[0m \u001b[0mint\u001b[0m\u001b[1;33m,\u001b[0m \u001b[0msubset\u001b[0m\u001b[1;33m=\u001b[0m\u001b[1;32mNone\u001b[0m\u001b[1;33m)\u001b[0m\u001b[1;33m:\u001b[0m\u001b[1;33m\u001b[0m\u001b[1;33m\u001b[0m\u001b[0m\n",
      "\u001b[1;32m~\\anaconda3\\lib\\site-packages\\pandas\\core\\base.py\u001b[0m in \u001b[0;36m__getitem__\u001b[1;34m(self, key)\u001b[0m\n\u001b[0;32m    248\u001b[0m         \u001b[1;32melse\u001b[0m\u001b[1;33m:\u001b[0m\u001b[1;33m\u001b[0m\u001b[1;33m\u001b[0m\u001b[0m\n\u001b[0;32m    249\u001b[0m             \u001b[1;32mif\u001b[0m \u001b[0mkey\u001b[0m \u001b[1;32mnot\u001b[0m \u001b[1;32min\u001b[0m \u001b[0mself\u001b[0m\u001b[1;33m.\u001b[0m\u001b[0mobj\u001b[0m\u001b[1;33m:\u001b[0m\u001b[1;33m\u001b[0m\u001b[1;33m\u001b[0m\u001b[0m\n\u001b[1;32m--> 250\u001b[1;33m                 \u001b[1;32mraise\u001b[0m \u001b[0mKeyError\u001b[0m\u001b[1;33m(\u001b[0m\u001b[1;34mf\"Column not found: {key}\"\u001b[0m\u001b[1;33m)\u001b[0m\u001b[1;33m\u001b[0m\u001b[1;33m\u001b[0m\u001b[0m\n\u001b[0m\u001b[0;32m    251\u001b[0m             \u001b[0msubset\u001b[0m \u001b[1;33m=\u001b[0m \u001b[0mself\u001b[0m\u001b[1;33m.\u001b[0m\u001b[0mobj\u001b[0m\u001b[1;33m[\u001b[0m\u001b[0mkey\u001b[0m\u001b[1;33m]\u001b[0m\u001b[1;33m\u001b[0m\u001b[1;33m\u001b[0m\u001b[0m\n\u001b[0;32m    252\u001b[0m             \u001b[0mndim\u001b[0m \u001b[1;33m=\u001b[0m \u001b[0msubset\u001b[0m\u001b[1;33m.\u001b[0m\u001b[0mndim\u001b[0m\u001b[1;33m\u001b[0m\u001b[1;33m\u001b[0m\u001b[0m\n",
      "\u001b[1;31mKeyError\u001b[0m: 'Column not found: False'"
     ]
    },
    {
     "data": {
      "image/png": "[encoded data removed]",
      "text/plain": [
       "<Figure size 864x288 with 1 Axes>"
      ]
     },
     "metadata": {
      "needs_background": "light"
     },
     "output_type": "display_data"
    }
   ],
   "source": [
    "fig, axs = plt.subplots(figsize=(12, 4))\n",
    "post_df.groupby(post_df['date'].dt.month)['crime_category'].count().plot(\n",
    "    kind='bar',rot=0,ax=axs\n",
    ")\n",
    "plt.xlabel('months');\n",
    "plt.ylabel('crimes during time period')\n",
    "plt.title('crimes by month')"
   ]
  },
  {
   "cell_type": "code",
   "execution_count": null,
   "id": "f4338516",
   "metadata": {},
   "outputs": [],
   "source": []
  },
  {
   "cell_type": "code",
   "execution_count": null,
   "id": "446eb683",
   "metadata": {},
   "outputs": [],
   "source": []
  },
  {
   "cell_type": "code",
   "execution_count": 38,
   "id": "f571ae78",
   "metadata": {},
   "outputs": [
    {
     "data": {
      "text/plain": [
       "traffic-accident                22.916229\n",
       "all-other-crimes                15.960030\n",
       "theft-from-motor-vehicle        10.672478\n",
       "public-disorder                 10.642236\n",
       "larceny                         10.635373\n",
       "auto-theft                       8.547848\n",
       "burglary                         5.199830\n",
       "drug-alcohol                     4.853661\n",
       "other-crimes-against-persons     4.717681\n",
       "aggravated-assault               2.928068\n",
       "robbery                          1.357009\n",
       "white-collar-crime               1.333416\n",
       "arson                            0.154425\n",
       "murder                           0.081717\n",
       "Name: crime_category, dtype: float64"
      ]
     },
     "execution_count": 38,
     "metadata": {},
     "output_type": "execute_result"
    }
   ],
   "source": [
    "# quick glance at the most common crimes in Denver\n",
    "crime_df['crime_category'].value_counts(normalize=True) * 100"
   ]
  },
  {
   "cell_type": "code",
   "execution_count": 39,
   "id": "cbf9a6d5",
   "metadata": {},
   "outputs": [
    {
     "ename": "NameError",
     "evalue": "name 'arson' is not defined",
     "output_type": "error",
     "traceback": [
      "\u001b[1;31m---------------------------------------------------------------------------\u001b[0m",
      "\u001b[1;31mNameError\u001b[0m                                 Traceback (most recent call last)",
      "\u001b[1;32m~\\AppData\\Local\\Temp/ipykernel_5596/2441519210.py\u001b[0m in \u001b[0;36m<module>\u001b[1;34m\u001b[0m\n\u001b[0;32m      1\u001b[0m \u001b[1;31m# Now lets do something fun. Lets take a look at only the arson data\u001b[0m\u001b[1;33m\u001b[0m\u001b[1;33m\u001b[0m\u001b[1;33m\u001b[0m\u001b[0m\n\u001b[1;32m----> 2\u001b[1;33m \u001b[0marson\u001b[0m\u001b[1;33m.\u001b[0m\u001b[0mhead\u001b[0m\u001b[1;33m(\u001b[0m\u001b[1;33m)\u001b[0m\u001b[1;33m\u001b[0m\u001b[1;33m\u001b[0m\u001b[0m\n\u001b[0m",
      "\u001b[1;31mNameError\u001b[0m: name 'arson' is not defined"
     ]
    }
   ],
   "source": [
    "# Now lets do something fun. Lets take a look at only the arson data \n",
    "arson.head()"
   ]
  },
  {
   "cell_type": "code",
   "execution_count": null,
   "id": "0a13239b",
   "metadata": {},
   "outputs": [],
   "source": [
    "arson['crime_type'].value_counts(normalize=True) * 100"
   ]
  },
  {
   "cell_type": "code",
   "execution_count": null,
   "id": "3ec5095a",
   "metadata": {},
   "outputs": [],
   "source": [
    "# Create `locations` by subsetting only Latitude and Longitude from the dataset \n",
    "locations = arson[['x_lat','y_lon']]\n",
    "\n",
    "# Create `location_list` by transforming the DataFrame to list of lists \n",
    "location_list = locations.values.tolist()\n",
    "\n"
   ]
  },
  {
   "cell_type": "code",
   "execution_count": null,
   "id": "efc7a4c9",
   "metadata": {},
   "outputs": [],
   "source": [
    "# Plot the data on map (map location is provided) using folium and for loop for plotting all the points\n",
    "import folium\n",
    "\n",
    "map = folium.Map(location=[39.7392,-104.9903], tiles='openstreetmap', zoom_start=11)\n",
    "for point in range(0, len(location_list)):\n",
    "    folium.CircleMarker(location_list[point], radius=3, color='red', fill=True, fill_color='red', opacity = 0.4).add_to(map)\n",
    "map"
   ]
  },
  {
   "cell_type": "code",
   "execution_count": null,
   "id": "4161c5a5",
   "metadata": {},
   "outputs": [],
   "source": [
    "fig, axs = plt.subplots(figsize=(12, 4))\n",
    "arson.groupby(arson['date'].dt.hour)['crime_category'].count().plot(\n",
    "    kind='bar',rot=0,ax=axs\n",
    ")\n",
    "plt.xlabel('hour of the day');\n",
    "plt.ylabel('Arsons by the hour')"
   ]
  },
  {
   "cell_type": "code",
   "execution_count": null,
   "id": "f8622332",
   "metadata": {},
   "outputs": [],
   "source": [
    "fig, axs = plt.subplots(figsize=(12, 4))\n",
    "arson.groupby(arson['date'].dt.month)['crime_category'].count().plot(\n",
    "    kind='bar',rot=0,ax=axs\n",
    ")\n",
    "plt.xlabel('months');\n",
    "plt.ylabel('crimes during time period')\n",
    "plt.title('Arsons by Month')"
   ]
  },
  {
   "cell_type": "code",
   "execution_count": null,
   "id": "4c2d033a",
   "metadata": {},
   "outputs": [],
   "source": [
    "#apparently most murders happen in september"
   ]
  },
  {
   "cell_type": "code",
   "execution_count": null,
   "id": "ccd35f41",
   "metadata": {},
   "outputs": [],
   "source": [
    "fig, axs = plt.subplots(figsize=(12, 4))\n",
    "murder.groupby(murder['date'].dt.year)['crime_category'].count().plot(\n",
    "    kind='bar',rot=0,ax=axs\n",
    ")\n",
    "plt.xlabel('months');\n",
    "plt.ylabel('crimes during time period')\n",
    "plt.title('Arsons by year')"
   ]
  },
  {
   "cell_type": "code",
   "execution_count": null,
   "id": "81954619",
   "metadata": {},
   "outputs": [],
   "source": []
  },
  {
   "cell_type": "code",
   "execution_count": null,
   "id": "f801b134",
   "metadata": {},
   "outputs": [],
   "source": []
  },
  {
   "cell_type": "code",
   "execution_count": null,
   "id": "99c80e1d",
   "metadata": {},
   "outputs": [],
   "source": []
  },
  {
   "cell_type": "code",
   "execution_count": null,
   "id": "0f6ef693",
   "metadata": {},
   "outputs": [],
   "source": []
  },
  {
   "cell_type": "code",
   "execution_count": null,
   "id": "6dc9f88d",
   "metadata": {},
   "outputs": [],
   "source": []
  },
  {
   "cell_type": "code",
   "execution_count": null,
   "id": "39b3a1c5",
   "metadata": {},
   "outputs": [],
   "source": []
  },
  {
   "cell_type": "code",
   "execution_count": null,
   "id": "54bce029",
   "metadata": {},
   "outputs": [],
   "source": []
  },
  {
   "cell_type": "code",
   "execution_count": null,
   "id": "d01f3fc3",
   "metadata": {},
   "outputs": [],
   "source": []
  },
  {
   "cell_type": "code",
   "execution_count": null,
   "id": "81901989",
   "metadata": {},
   "outputs": [],
   "source": []
  },
  {
   "cell_type": "code",
   "execution_count": null,
   "id": "0da166d0",
   "metadata": {},
   "outputs": [],
   "source": []
  },
  {
   "cell_type": "code",
   "execution_count": null,
   "id": "c3928d19",
   "metadata": {},
   "outputs": [],
   "source": [
    "\n",
    "\n",
    "\n",
    "df = pd.merge(crime_df,neighbor_equity_index_df[['neighborhood','OVERALLEQUITY_SCORE']],on='neighborhood', how='left')\n",
    "# df = pd.merge(df,df2[['Key_Column','Target_Column']],on='Key_Column', how='left')\n"
   ]
  },
  {
   "cell_type": "code",
   "execution_count": null,
   "id": "d934d58f",
   "metadata": {},
   "outputs": [],
   "source": [
    "crime_df.to_csv('denver_crime_clean.csv')"
   ]
  },
  {
   "cell_type": "code",
   "execution_count": null,
   "id": "527be169",
   "metadata": {},
   "outputs": [],
   "source": [
    "# quick glance at the most common crimes in Denver\n",
    "crime_df['crime_category'].value_counts(normalize=True) * 100\n",
    "\n",
    "# Now lets do something fun. Lets take a look at only the arson data \n",
    "arson.head()\n",
    "\n",
    "arson['crime_type'].value_counts(normalize=True) * 100\n",
    "\n",
    "# Create `locations` by subsetting only Latitude and Longitude from the dataset \n",
    "locations = arson[['x_lat','y_lon']]\n",
    "\n",
    "# Create `location_list` by transforming the DataFrame to list of lists \n",
    "location_list = locations.values.tolist()\n",
    "\n",
    "\n",
    "\n",
    "# Plot the data on map (map location is provided) using folium and for loop for plotting all the points\n",
    "import folium\n",
    "\n",
    "map = folium.Map(location=[39.7392,-104.9903], tiles='openstreetmap', zoom_start=11)\n",
    "for point in range(0, len(location_list)):\n",
    "    folium.CircleMarker(location_list[point], radius=3, color='red', fill=True, fill_color='red', opacity = 0.4).add_to(map)\n",
    "map\n",
    "\n",
    "fig, axs = plt.subplots(figsize=(12, 4))\n",
    "arson.groupby(arson['date'].dt.hour)['crime_category'].count().plot(\n",
    "    kind='bar',rot=0,ax=axs\n",
    ")\n",
    "plt.xlabel('hour of the day');\n",
    "plt.ylabel('Arsons by the hour')\n",
    "\n",
    "fig, axs = plt.subplots(figsize=(12, 4))\n",
    "arson.groupby(arson['date'].dt.month)['crime_category'].count().plot(\n",
    "    kind='bar',rot=0,ax=axs\n",
    ")\n",
    "plt.xlabel('months');\n",
    "plt.ylabel('crimes during time period')\n",
    "plt.title('Arsons by Month')\n",
    "\n",
    "#apparently most murders happen in september\n",
    "\n",
    "fig, axs = plt.subplots(figsize=(12, 4))\n",
    "murder.groupby(murder['date'].dt.year)['crime_category'].count().plot(\n",
    "    kind='bar',rot=0,ax=axs\n",
    ")\n",
    "plt.xlabel('months');\n",
    "plt.ylabel('crimes during time period')\n",
    "plt.title('Arsons by year')\n",
    "\n",
    "\n",
    "\n",
    "\n",
    "\n",
    "\n",
    "\n",
    "\n",
    "\n",
    "public_disorder = crime_df.loc[crime_df['crime_category']=='public-disorder']\n",
    "drug_alcohol = crime_df.loc[crime_df['crime_category']=='drug-alcohol']\n",
    "sexual_assault = crime_df.loc[crime_df['crime_category']=='sexual-assault']\n",
    "all_other_crimes = crime_df.loc[crime_df['crime_category']=='all-other-crimes']\n",
    "traffic_accident = crime_df.loc[crime_df['crime_category']=='traffic-accident']\n",
    "robbery = crime_df.loc[crime_df['crime_category']=='robbery']\n",
    "other_crimes_against_persons = crime_df.loc[crime_df['crime_category']=='other-crimes-against-persons']\n",
    "aggravated_assault = crime_df.loc[crime_df['crime_category']=='aggravated-assault']\n",
    "arson = crime_df.loc[crime_df['crime_category']=='arson']\n",
    "burglary = crime_df.loc[crime_df['crime_category']=='burlary']\n",
    "larceny = crime_df.loc[crime_df['crime_category']=='larceny']\n",
    "theft_from_car = crime_df.loc[crime_df['crime_category']=='theft-from-motor-vehicle']\n",
    "auto_theft = crime_df.loc[crime_df['crime_category']=='auto-theft']\n",
    "white_collar_crime = crime_df.loc[crime_df['crime_category']=='white-collar-crime']\n",
    "murder = crime_df.loc[crime_df['crime_category']=='murder']\n",
    "\n",
    "subsets = [public_disorder,drug_alcohol,sexual_assault,all_other_crimes,\n",
    "          traffic_accident,robbery,other_crimes_against_persons,aggravated_assault,\n",
    "          arson,burglary,larceny,theft_from_car,\n",
    "         auto_theft,white_collar_crime,murder]\n",
    "\n",
    "# Lets start splitting up the dataframe into the different crime categories\n",
    "types = list(crime_df['crime_category'].unique())\n",
    "types\n",
    "\n",
    "\n",
    "\n",
    "\n",
    "\n",
    "\n",
    "\n",
    "\n",
    "\n",
    "\n",
    "\n",
    "\n",
    "\n",
    "\n",
    "\n",
    "\n",
    "df = pd.merge(crime_df,neighbor_equity_index_df[['neighborhood','OVERALLEQUITY_SCORE']],on='neighborhood', how='left')\n",
    "# df = pd.merge(df,df2[['Key_Column','Target_Column']],on='Key_Column', how='left')\n",
    "\n",
    "\n",
    "crime_df.to_csv('denver_crime_clean.csv')"
   ]
  }
 ],
 "metadata": {
  "kernelspec": {
   "display_name": "Python 3 (ipykernel)",
   "language": "python",
   "name": "python3"
  },
  "language_info": {
   "codemirror_mode": {
    "name": "ipython",
    "version": 3
   },
   "file_extension": ".py",
   "mimetype": "text/x-python",
   "name": "python",
   "nbconvert_exporter": "python",
   "pygments_lexer": "ipython3",
   "version": "3.8.12"
  }
 },
 "nbformat": 4,
 "nbformat_minor": 5
}
